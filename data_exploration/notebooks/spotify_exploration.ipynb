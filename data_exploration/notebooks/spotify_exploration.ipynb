{
 "cells": [
  {
   "cell_type": "code",
   "execution_count": 1,
   "id": "d0fdbfcc",
   "metadata": {},
   "outputs": [
    {
     "name": "stdout",
     "output_type": "stream",
     "text": [
      "✓ Added project root to sys.path: /home/lliverani/projects/mylife-in-data/data_exploration\n"
     ]
    }
   ],
   "source": [
    "import os\n",
    "import sys\n",
    "from pathlib import Path\n",
    "\n",
    "\n",
    "try:\n",
    "    project_root = Path(__file__).resolve().parents[1]\n",
    "except NameError:\n",
    "    project_root = Path.cwd().parent\n",
    "\n",
    "if str(project_root) not in sys.path:\n",
    "    sys.path.append(str(project_root))\n",
    "    print(f\"✓ Added project root to sys.path: {project_root}\")\n",
    "\n",
    "# Now you can import from 'src'\n",
    "from src.duckdb_config import DuckDBConnection"
   ]
  },
  {
   "cell_type": "code",
   "execution_count": 2,
   "id": "8e9a83b1",
   "metadata": {},
   "outputs": [
    {
     "name": "stdout",
     "output_type": "stream",
     "text": [
      "✓ Loaded extension: httpfs\n",
      "✓ Loaded extension: parquet\n",
      "✓ Configured S3/MinIO: localhost:9000\n",
      "              message\n",
      "0  Hello from DuckDB!\n"
     ]
    }
   ],
   "source": [
    "# Cell 2: Test Connection\n",
    "# Create connection\n",
    "db = DuckDBConnection(database=\":memory:\")\n",
    "con = db.connect()\n",
    "\n",
    "# Test query\n",
    "result = con.execute(\"SELECT 'Hello from DuckDB!' as message\").df()\n",
    "print(result)"
   ]
  },
  {
   "cell_type": "code",
   "execution_count": 6,
   "id": "c6273796",
   "metadata": {},
   "outputs": [
    {
     "data": {
      "application/vnd.microsoft.datawrangler.viewer.v0+json": {
       "columns": [
        {
         "name": "index",
         "rawType": "int64",
         "type": "integer"
        },
        {
         "name": "file",
         "rawType": "object",
         "type": "string"
        }
       ],
       "ref": "3e95f5a1-14cc-4fde-946f-687fe25b138f",
       "rows": [
        [
         "0",
         "s3://inbound/raw/spotify/api/daily/2025-10-20.parquet"
        ],
        [
         "1",
         "s3://inbound/raw/spotify/api/daily/2025-10-21.parquet"
        ],
        [
         "2",
         "s3://inbound/raw/spotify/api/daily/2025-10-24.parquet"
        ],
        [
         "3",
         "s3://inbound/raw/spotify/api/daily/2025-10-25.parquet"
        ],
        [
         "4",
         "s3://inbound/raw/spotify/api/daily/2025-10-26.parquet"
        ],
        [
         "5",
         "s3://inbound/raw/spotify/api/tracks/2025-10-26.jsonl.gz"
        ],
        [
         "6",
         "s3://inbound/raw/spotify/download/my_spotify_data/Spotify Account Data/Follow.json"
        ],
        [
         "7",
         "s3://inbound/raw/spotify/download/my_spotify_data/Spotify Account Data/Identifiers.json"
        ],
        [
         "8",
         "s3://inbound/raw/spotify/download/my_spotify_data/Spotify Account Data/Identity.json"
        ],
        [
         "9",
         "s3://inbound/raw/spotify/download/my_spotify_data/Spotify Account Data/Inferences.json"
        ],
        [
         "10",
         "s3://inbound/raw/spotify/download/my_spotify_data/Spotify Account Data/Marquee.json"
        ],
        [
         "11",
         "s3://inbound/raw/spotify/download/my_spotify_data/Spotify Account Data/MessageData.json"
        ],
        [
         "12",
         "s3://inbound/raw/spotify/download/my_spotify_data/Spotify Account Data/Payments.json"
        ],
        [
         "13",
         "s3://inbound/raw/spotify/download/my_spotify_data/Spotify Account Data/Playlist1.json"
        ],
        [
         "14",
         "s3://inbound/raw/spotify/download/my_spotify_data/Spotify Account Data/Read_Me_First.pdf"
        ],
        [
         "15",
         "s3://inbound/raw/spotify/download/my_spotify_data/Spotify Account Data/SearchQueries.json"
        ],
        [
         "16",
         "s3://inbound/raw/spotify/download/my_spotify_data/Spotify Account Data/StreamingHistory_music_0.json"
        ],
        [
         "17",
         "s3://inbound/raw/spotify/download/my_spotify_data/Spotify Account Data/StreamingHistory_podcast_0.json"
        ],
        [
         "18",
         "s3://inbound/raw/spotify/download/my_spotify_data/Spotify Account Data/Userdata.json"
        ],
        [
         "19",
         "s3://inbound/raw/spotify/download/my_spotify_data/Spotify Account Data/Wrapped2024.json"
        ],
        [
         "20",
         "s3://inbound/raw/spotify/download/my_spotify_data/Spotify Account Data/YourLibrary.json"
        ],
        [
         "21",
         "s3://inbound/raw/spotify/download/my_spotify_data/Spotify Account Data/YourSoundCapsule.json"
        ],
        [
         "22",
         "s3://inbound/raw/spotify/download/my_spotify_data_extended_history/Spotify Extended Streaming History/ReadMeFirst_ExtendedStreamingHistory.pdf"
        ],
        [
         "23",
         "s3://inbound/raw/spotify/download/my_spotify_data_extended_history/Spotify Extended Streaming History/Streaming_History_Audio_2020-2023_0.json"
        ],
        [
         "24",
         "s3://inbound/raw/spotify/download/my_spotify_data_extended_history/Spotify Extended Streaming History/Streaming_History_Audio_2023-2025_1.json"
        ],
        [
         "25",
         "s3://inbound/raw/spotify/download/my_spotify_data_extended_history/Spotify Extended Streaming History/Streaming_History_Audio_2025_2.json"
        ],
        [
         "26",
         "s3://inbound/raw/spotify/download/my_spotify_data_extended_history/Spotify Extended Streaming History/Streaming_History_Video_2020-2025.json"
        ]
       ],
       "shape": {
        "columns": 1,
        "rows": 27
       }
      },
      "text/html": [
       "<div>\n",
       "<style scoped>\n",
       "    .dataframe tbody tr th:only-of-type {\n",
       "        vertical-align: middle;\n",
       "    }\n",
       "\n",
       "    .dataframe tbody tr th {\n",
       "        vertical-align: top;\n",
       "    }\n",
       "\n",
       "    .dataframe thead th {\n",
       "        text-align: right;\n",
       "    }\n",
       "</style>\n",
       "<table border=\"1\" class=\"dataframe\">\n",
       "  <thead>\n",
       "    <tr style=\"text-align: right;\">\n",
       "      <th></th>\n",
       "      <th>file</th>\n",
       "    </tr>\n",
       "  </thead>\n",
       "  <tbody>\n",
       "    <tr>\n",
       "      <th>0</th>\n",
       "      <td>s3://inbound/raw/spotify/api/daily/2025-10-20....</td>\n",
       "    </tr>\n",
       "    <tr>\n",
       "      <th>1</th>\n",
       "      <td>s3://inbound/raw/spotify/api/daily/2025-10-21....</td>\n",
       "    </tr>\n",
       "    <tr>\n",
       "      <th>2</th>\n",
       "      <td>s3://inbound/raw/spotify/api/daily/2025-10-24....</td>\n",
       "    </tr>\n",
       "    <tr>\n",
       "      <th>3</th>\n",
       "      <td>s3://inbound/raw/spotify/api/daily/2025-10-25....</td>\n",
       "    </tr>\n",
       "    <tr>\n",
       "      <th>4</th>\n",
       "      <td>s3://inbound/raw/spotify/api/daily/2025-10-26....</td>\n",
       "    </tr>\n",
       "    <tr>\n",
       "      <th>5</th>\n",
       "      <td>s3://inbound/raw/spotify/api/tracks/2025-10-26...</td>\n",
       "    </tr>\n",
       "    <tr>\n",
       "      <th>6</th>\n",
       "      <td>s3://inbound/raw/spotify/download/my_spotify_d...</td>\n",
       "    </tr>\n",
       "    <tr>\n",
       "      <th>7</th>\n",
       "      <td>s3://inbound/raw/spotify/download/my_spotify_d...</td>\n",
       "    </tr>\n",
       "    <tr>\n",
       "      <th>8</th>\n",
       "      <td>s3://inbound/raw/spotify/download/my_spotify_d...</td>\n",
       "    </tr>\n",
       "    <tr>\n",
       "      <th>9</th>\n",
       "      <td>s3://inbound/raw/spotify/download/my_spotify_d...</td>\n",
       "    </tr>\n",
       "    <tr>\n",
       "      <th>10</th>\n",
       "      <td>s3://inbound/raw/spotify/download/my_spotify_d...</td>\n",
       "    </tr>\n",
       "    <tr>\n",
       "      <th>11</th>\n",
       "      <td>s3://inbound/raw/spotify/download/my_spotify_d...</td>\n",
       "    </tr>\n",
       "    <tr>\n",
       "      <th>12</th>\n",
       "      <td>s3://inbound/raw/spotify/download/my_spotify_d...</td>\n",
       "    </tr>\n",
       "    <tr>\n",
       "      <th>13</th>\n",
       "      <td>s3://inbound/raw/spotify/download/my_spotify_d...</td>\n",
       "    </tr>\n",
       "    <tr>\n",
       "      <th>14</th>\n",
       "      <td>s3://inbound/raw/spotify/download/my_spotify_d...</td>\n",
       "    </tr>\n",
       "    <tr>\n",
       "      <th>15</th>\n",
       "      <td>s3://inbound/raw/spotify/download/my_spotify_d...</td>\n",
       "    </tr>\n",
       "    <tr>\n",
       "      <th>16</th>\n",
       "      <td>s3://inbound/raw/spotify/download/my_spotify_d...</td>\n",
       "    </tr>\n",
       "    <tr>\n",
       "      <th>17</th>\n",
       "      <td>s3://inbound/raw/spotify/download/my_spotify_d...</td>\n",
       "    </tr>\n",
       "    <tr>\n",
       "      <th>18</th>\n",
       "      <td>s3://inbound/raw/spotify/download/my_spotify_d...</td>\n",
       "    </tr>\n",
       "    <tr>\n",
       "      <th>19</th>\n",
       "      <td>s3://inbound/raw/spotify/download/my_spotify_d...</td>\n",
       "    </tr>\n",
       "    <tr>\n",
       "      <th>20</th>\n",
       "      <td>s3://inbound/raw/spotify/download/my_spotify_d...</td>\n",
       "    </tr>\n",
       "    <tr>\n",
       "      <th>21</th>\n",
       "      <td>s3://inbound/raw/spotify/download/my_spotify_d...</td>\n",
       "    </tr>\n",
       "    <tr>\n",
       "      <th>22</th>\n",
       "      <td>s3://inbound/raw/spotify/download/my_spotify_d...</td>\n",
       "    </tr>\n",
       "    <tr>\n",
       "      <th>23</th>\n",
       "      <td>s3://inbound/raw/spotify/download/my_spotify_d...</td>\n",
       "    </tr>\n",
       "    <tr>\n",
       "      <th>24</th>\n",
       "      <td>s3://inbound/raw/spotify/download/my_spotify_d...</td>\n",
       "    </tr>\n",
       "    <tr>\n",
       "      <th>25</th>\n",
       "      <td>s3://inbound/raw/spotify/download/my_spotify_d...</td>\n",
       "    </tr>\n",
       "    <tr>\n",
       "      <th>26</th>\n",
       "      <td>s3://inbound/raw/spotify/download/my_spotify_d...</td>\n",
       "    </tr>\n",
       "  </tbody>\n",
       "</table>\n",
       "</div>"
      ],
      "text/plain": [
       "                                                 file\n",
       "0   s3://inbound/raw/spotify/api/daily/2025-10-20....\n",
       "1   s3://inbound/raw/spotify/api/daily/2025-10-21....\n",
       "2   s3://inbound/raw/spotify/api/daily/2025-10-24....\n",
       "3   s3://inbound/raw/spotify/api/daily/2025-10-25....\n",
       "4   s3://inbound/raw/spotify/api/daily/2025-10-26....\n",
       "5   s3://inbound/raw/spotify/api/tracks/2025-10-26...\n",
       "6   s3://inbound/raw/spotify/download/my_spotify_d...\n",
       "7   s3://inbound/raw/spotify/download/my_spotify_d...\n",
       "8   s3://inbound/raw/spotify/download/my_spotify_d...\n",
       "9   s3://inbound/raw/spotify/download/my_spotify_d...\n",
       "10  s3://inbound/raw/spotify/download/my_spotify_d...\n",
       "11  s3://inbound/raw/spotify/download/my_spotify_d...\n",
       "12  s3://inbound/raw/spotify/download/my_spotify_d...\n",
       "13  s3://inbound/raw/spotify/download/my_spotify_d...\n",
       "14  s3://inbound/raw/spotify/download/my_spotify_d...\n",
       "15  s3://inbound/raw/spotify/download/my_spotify_d...\n",
       "16  s3://inbound/raw/spotify/download/my_spotify_d...\n",
       "17  s3://inbound/raw/spotify/download/my_spotify_d...\n",
       "18  s3://inbound/raw/spotify/download/my_spotify_d...\n",
       "19  s3://inbound/raw/spotify/download/my_spotify_d...\n",
       "20  s3://inbound/raw/spotify/download/my_spotify_d...\n",
       "21  s3://inbound/raw/spotify/download/my_spotify_d...\n",
       "22  s3://inbound/raw/spotify/download/my_spotify_d...\n",
       "23  s3://inbound/raw/spotify/download/my_spotify_d...\n",
       "24  s3://inbound/raw/spotify/download/my_spotify_d...\n",
       "25  s3://inbound/raw/spotify/download/my_spotify_d...\n",
       "26  s3://inbound/raw/spotify/download/my_spotify_d..."
      ]
     },
     "metadata": {},
     "output_type": "display_data"
    }
   ],
   "source": [
    "bucket_name = os.getenv('MINIO_BUCKET')\n",
    "\n",
    "\n",
    "try:\n",
    "    s3_files = con.execute(f\"SELECT * FROM glob('s3://{bucket_name}/**')\").df()\n",
    "    display(s3_files)\n",
    "except Exception as e:\n",
    "    print(f\"Error listing S3 files: {e}\")"
   ]
  },
  {
   "cell_type": "code",
   "execution_count": 18,
   "id": "5e90b281",
   "metadata": {},
   "outputs": [
    {
     "name": "stdout",
     "output_type": "stream",
     "text": [
      "✓ Loaded extension: httpfs\n",
      "✓ Loaded extension: parquet\n",
      "✓ Configured S3/MinIO: localhost:9000\n"
     ]
    },
    {
     "data": {
      "application/vnd.microsoft.datawrangler.viewer.v0+json": {
       "columns": [
        {
         "name": "index",
         "rawType": "int64",
         "type": "integer"
        },
        {
         "name": "played_at",
         "rawType": "object",
         "type": "string"
        },
        {
         "name": "uri",
         "rawType": "object",
         "type": "string"
        }
       ],
       "ref": "1fa646b4-7536-4f4a-9e2c-c04b240adadf",
       "rows": [],
       "shape": {
        "columns": 2,
        "rows": 0
       }
      },
      "text/html": [
       "<div>\n",
       "<style scoped>\n",
       "    .dataframe tbody tr th:only-of-type {\n",
       "        vertical-align: middle;\n",
       "    }\n",
       "\n",
       "    .dataframe tbody tr th {\n",
       "        vertical-align: top;\n",
       "    }\n",
       "\n",
       "    .dataframe thead th {\n",
       "        text-align: right;\n",
       "    }\n",
       "</style>\n",
       "<table border=\"1\" class=\"dataframe\">\n",
       "  <thead>\n",
       "    <tr style=\"text-align: right;\">\n",
       "      <th></th>\n",
       "      <th>played_at</th>\n",
       "      <th>uri</th>\n",
       "    </tr>\n",
       "  </thead>\n",
       "  <tbody>\n",
       "  </tbody>\n",
       "</table>\n",
       "</div>"
      ],
      "text/plain": [
       "Empty DataFrame\n",
       "Columns: [played_at, uri]\n",
       "Index: []"
      ]
     },
     "metadata": {},
     "output_type": "display_data"
    }
   ],
   "source": [
    "from src.duckdb_config import explore\n",
    "\n",
    "# Define the S3 path to your JSONL files using a glob pattern\n",
    "s3_path = \"s3://inbound/raw/spotify/api/tracks/*.jsonl.gz\"\n",
    "\n",
    "\n",
    "\n",
    "# DuckDB will infer the newline-delimited format and handle decompression.\n",
    "query = f\"\"\"\n",
    "    SELECT \n",
    "        raw_item.played_at,\n",
    "        raw_item.track.uri\n",
    "    FROM read_json_auto('{s3_path}')\n",
    "\n",
    "    group by 1,2\n",
    "    having count(*) > 1\n",
    "\"\"\"\n",
    "\n",
    "df = explore(query)\n",
    "\n",
    "# Use itables for interactive display in a notebook\n",
    "display(df)\n"
   ]
  },
  {
   "cell_type": "code",
   "execution_count": 10,
   "id": "38ca9ef5",
   "metadata": {},
   "outputs": [
    {
     "name": "stdout",
     "output_type": "stream",
     "text": [
      "✓ Loaded extension: httpfs\n",
      "✓ Loaded extension: parquet\n",
      "✓ Configured S3/MinIO: localhost:9000\n"
     ]
    },
    {
     "data": {
      "application/vnd.microsoft.datawrangler.viewer.v0+json": {
       "columns": [
        {
         "name": "index",
         "rawType": "int64",
         "type": "integer"
        },
        {
         "name": "raw_item",
         "rawType": "object",
         "type": "unknown"
        },
        {
         "name": "_ingestion_metadata",
         "rawType": "object",
         "type": "unknown"
        }
       ],
       "ref": "1b431531-9536-42b6-82b3-63cfd30db626",
       "rows": [
        [
         "0",
         "{'track': {'album': {'album_type': 'single', 'artists': [{'external_urls': {'spotify': 'https://open.spotify.com/artist/596T1bfXEgZ7Rm0SVY9W41'}, 'href': 'https://api.spotify.com/v1/artists/596T1bfXEgZ7Rm0SVY9W41', 'id': '596T1bfXEgZ7Rm0SVY9W41', 'name': 'Chill Def', 'type': 'artist', 'uri': 'spotify:artist:596T1bfXEgZ7Rm0SVY9W41'}, {'external_urls': {'spotify': 'https://open.spotify.com/artist/19RtbWE9QLz3K4YW19qdos'}, 'href': 'https://api.spotify.com/v1/artists/19RtbWE9QLz3K4YW19qdos', 'id': '19RtbWE9QLz3K4YW19qdos', 'name': 'alt.bin.beats', 'type': 'artist', 'uri': 'spotify:artist:19RtbWE9QLz3K4YW19qdos'}], 'available_markets': ['AR', 'AU', 'AT', 'BE', 'BO', 'BR', 'BG', 'CA', 'CL', 'CO', 'CR', 'CY', 'CZ', 'DK', 'DO', 'DE', 'EC', 'EE', 'SV', 'FI', 'FR', 'GR', 'GT', 'HN', 'HK', 'HU', 'IS', 'IE', 'IT', 'LV', 'LT', 'LU', 'MY', 'MT', 'MX', 'NL', 'NZ', 'NI', 'NO', 'PA', 'PY', 'PE', 'PH', 'PL', 'PT', 'SG', 'SK', 'ES', 'SE', 'CH', 'TW', 'TR', 'UY', 'US', 'GB', 'AD', 'LI', 'MC', 'ID', 'JP', 'TH', 'VN', 'RO', 'IL', 'ZA', 'SA', 'AE', 'BH', 'QA', 'OM', 'KW', 'EG', 'MA', 'DZ', 'TN', 'LB', 'JO', 'PS', 'IN', 'BY', 'KZ', 'MD', 'UA', 'AL', 'BA', 'HR', 'ME', 'MK', 'RS', 'SI', 'KR', 'BD', 'PK', 'LK', 'GH', 'KE', 'NG', 'TZ', 'UG', 'AG', 'AM', 'BS', 'BB', 'BZ', 'BT', 'BW', 'BF', 'CV', 'CW', 'DM', 'FJ', 'GM', 'GE', 'GD', 'GW', 'GY', 'HT', 'JM', 'KI', 'LS', 'LR', 'MW', 'MV', 'ML', 'MH', 'FM', 'NA', 'NR', 'NE', 'PW', 'PG', 'PR', 'WS', 'SM', 'ST', 'SN', 'SC', 'SL', 'SB', 'KN', 'LC', 'VC', 'SR', 'TL', 'TO', 'TT', 'TV', 'VU', 'AZ', 'BN', 'BI', 'KH', 'CM', 'TD', 'KM', 'GQ', 'SZ', 'GA', 'GN', 'KG', 'LA', 'MO', 'MR', 'MN', 'NP', 'RW', 'TG', 'UZ', 'ZW', 'BJ', 'MG', 'MU', 'MZ', 'AO', 'CI', 'DJ', 'ZM', 'CD', 'CG', 'IQ', 'LY', 'TJ', 'VE', 'ET', 'XK'], 'external_urls': {'spotify': 'https://open.spotify.com/album/7bnbpre7jCyEwHu1hT9ngt'}, 'href': 'https://api.spotify.com/v1/albums/7bnbpre7jCyEwHu1hT9ngt', 'id': '7bnbpre7jCyEwHu1hT9ngt', 'images': [{'height': 640, 'url': 'https://i.scdn.co/image/ab67616d0000b27336bf7acc824ad0232ba8b18c', 'width': 640}, {'height': 300, 'url': 'https://i.scdn.co/image/ab67616d00001e0236bf7acc824ad0232ba8b18c', 'width': 300}, {'height': 64, 'url': 'https://i.scdn.co/image/ab67616d0000485136bf7acc824ad0232ba8b18c', 'width': 64}], 'name': 'Wistful Silhouettes', 'release_date': '2023-10-13', 'release_date_precision': 'day', 'total_tracks': 1, 'type': 'album', 'uri': 'spotify:album:7bnbpre7jCyEwHu1hT9ngt'}, 'artists': [{'external_urls': {'spotify': 'https://open.spotify.com/artist/596T1bfXEgZ7Rm0SVY9W41'}, 'href': 'https://api.spotify.com/v1/artists/596T1bfXEgZ7Rm0SVY9W41', 'id': '596T1bfXEgZ7Rm0SVY9W41', 'name': 'Chill Def', 'type': 'artist', 'uri': 'spotify:artist:596T1bfXEgZ7Rm0SVY9W41'}, {'external_urls': {'spotify': 'https://open.spotify.com/artist/19RtbWE9QLz3K4YW19qdos'}, 'href': 'https://api.spotify.com/v1/artists/19RtbWE9QLz3K4YW19qdos', 'id': '19RtbWE9QLz3K4YW19qdos', 'name': 'alt.bin.beats', 'type': 'artist', 'uri': 'spotify:artist:19RtbWE9QLz3K4YW19qdos'}], 'available_markets': ['AR', 'AU', 'AT', 'BE', 'BO', 'BR', 'BG', 'CA', 'CL', 'CO', 'CR', 'CY', 'CZ', 'DK', 'DO', 'DE', 'EC', 'EE', 'SV', 'FI', 'FR', 'GR', 'GT', 'HN', 'HK', 'HU', 'IS', 'IE', 'IT', 'LV', 'LT', 'LU', 'MY', 'MT', 'MX', 'NL', 'NZ', 'NI', 'NO', 'PA', 'PY', 'PE', 'PH', 'PL', 'PT', 'SG', 'SK', 'ES', 'SE', 'CH', 'TW', 'TR', 'UY', 'US', 'GB', 'AD', 'LI', 'MC', 'ID', 'JP', 'TH', 'VN', 'RO', 'IL', 'ZA', 'SA', 'AE', 'BH', 'QA', 'OM', 'KW', 'EG', 'MA', 'DZ', 'TN', 'LB', 'JO', 'PS', 'IN', 'BY', 'KZ', 'MD', 'UA', 'AL', 'BA', 'HR', 'ME', 'MK', 'RS', 'SI', 'KR', 'BD', 'PK', 'LK', 'GH', 'KE', 'NG', 'TZ', 'UG', 'AG', 'AM', 'BS', 'BB', 'BZ', 'BT', 'BW', 'BF', 'CV', 'CW', 'DM', 'FJ', 'GM', 'GE', 'GD', 'GW', 'GY', 'HT', 'JM', 'KI', 'LS', 'LR', 'MW', 'MV', 'ML', 'MH', 'FM', 'NA', 'NR', 'NE', 'PW', 'PG', 'PR', 'WS', 'SM', 'ST', 'SN', 'SC', 'SL', 'SB', 'KN', 'LC', 'VC', 'SR', 'TL', 'TO', 'TT', 'TV', 'VU', 'AZ', 'BN', 'BI', 'KH', 'CM', 'TD', 'KM', 'GQ', 'SZ', 'GA', 'GN', 'KG', 'LA', 'MO', 'MR', 'MN', 'NP', 'RW', 'TG', 'UZ', 'ZW', 'BJ', 'MG', 'MU', 'MZ', 'AO', 'CI', 'DJ', 'ZM', 'CD', 'CG', 'IQ', 'LY', 'TJ', 'VE', 'ET', 'XK'], 'disc_number': 1, 'duration_ms': 136941, 'explicit': False, 'external_ids': {'isrc': 'SE6RU2359701'}, 'external_urls': {'spotify': 'https://open.spotify.com/track/5Ltgq6XMTilOXhNiSQZrVT'}, 'href': 'https://api.spotify.com/v1/tracks/5Ltgq6XMTilOXhNiSQZrVT', 'id': '5Ltgq6XMTilOXhNiSQZrVT', 'is_local': False, 'name': 'Wistful Silhouettes', 'popularity': 50, 'preview_url': None, 'track_number': 1, 'type': 'track', 'uri': 'spotify:track:5Ltgq6XMTilOXhNiSQZrVT'}, 'played_at': '2025-10-26T15:46:47.980Z', 'context': {'external_urls': {'spotify': 'https://open.spotify.com/playlist/37i9dQZF1DWZZbwlv3Vmtr'}, 'href': 'https://api.spotify.com/v1/playlists/37i9dQZF1DWZZbwlv3Vmtr', 'type': 'playlist', 'uri': 'spotify:playlist:37i9dQZF1DWZZbwlv3Vmtr'}}",
         "{'ingested_at': '2025-10-26T16:00:01.562119+00:00', 'execution_date': '2025-10-26T15:45:00+00:00', 'dag_id': 'spotify_raw_ingestion_jsonl', 'run_id': 'scheduled__2025-10-26T15:45:00+00:00', 'source': 'spotify_api'}"
        ],
        [
         "1",
         "{'track': {'album': {'album_type': 'single', 'artists': [{'external_urls': {'spotify': 'https://open.spotify.com/artist/2yWG9itzl6vVT4af2DPZoS'}, 'href': 'https://api.spotify.com/v1/artists/2yWG9itzl6vVT4af2DPZoS', 'id': '2yWG9itzl6vVT4af2DPZoS', 'name': 'Coltsfoot', 'type': 'artist', 'uri': 'spotify:artist:2yWG9itzl6vVT4af2DPZoS'}], 'available_markets': ['AR', 'AU', 'AT', 'BE', 'BO', 'BR', 'BG', 'CA', 'CL', 'CO', 'CR', 'CY', 'CZ', 'DK', 'DO', 'DE', 'EC', 'EE', 'SV', 'FI', 'FR', 'GR', 'GT', 'HN', 'HK', 'HU', 'IS', 'IE', 'IT', 'LV', 'LT', 'LU', 'MY', 'MT', 'MX', 'NL', 'NZ', 'NI', 'NO', 'PA', 'PY', 'PE', 'PH', 'PL', 'PT', 'SG', 'SK', 'ES', 'SE', 'CH', 'TW', 'TR', 'UY', 'US', 'GB', 'AD', 'LI', 'MC', 'ID', 'JP', 'TH', 'VN', 'RO', 'IL', 'ZA', 'SA', 'AE', 'BH', 'QA', 'OM', 'KW', 'EG', 'MA', 'DZ', 'TN', 'LB', 'JO', 'PS', 'IN', 'BY', 'KZ', 'MD', 'UA', 'AL', 'BA', 'HR', 'ME', 'MK', 'RS', 'SI', 'KR', 'BD', 'PK', 'LK', 'GH', 'KE', 'NG', 'TZ', 'UG', 'AG', 'AM', 'BS', 'BB', 'BZ', 'BT', 'BW', 'BF', 'CV', 'CW', 'DM', 'FJ', 'GM', 'GE', 'GD', 'GW', 'GY', 'HT', 'JM', 'KI', 'LS', 'LR', 'MW', 'MV', 'ML', 'MH', 'FM', 'NA', 'NR', 'NE', 'PW', 'PG', 'PR', 'WS', 'SM', 'ST', 'SN', 'SC', 'SL', 'SB', 'KN', 'LC', 'VC', 'SR', 'TL', 'TO', 'TT', 'TV', 'VU', 'AZ', 'BN', 'BI', 'KH', 'CM', 'TD', 'KM', 'GQ', 'SZ', 'GA', 'GN', 'KG', 'LA', 'MO', 'MR', 'MN', 'NP', 'RW', 'TG', 'UZ', 'ZW', 'BJ', 'MG', 'MU', 'MZ', 'AO', 'CI', 'DJ', 'ZM', 'CD', 'CG', 'IQ', 'LY', 'TJ', 'VE', 'ET', 'XK'], 'external_urls': {'spotify': 'https://open.spotify.com/album/0rgTLDn3rZBDe2facgkYWe'}, 'href': 'https://api.spotify.com/v1/albums/0rgTLDn3rZBDe2facgkYWe', 'id': '0rgTLDn3rZBDe2facgkYWe', 'images': [{'height': 640, 'url': 'https://i.scdn.co/image/ab67616d0000b27325b2445b4d70ab0b10e1aaf0', 'width': 640}, {'height': 300, 'url': 'https://i.scdn.co/image/ab67616d00001e0225b2445b4d70ab0b10e1aaf0', 'width': 300}, {'height': 64, 'url': 'https://i.scdn.co/image/ab67616d0000485125b2445b4d70ab0b10e1aaf0', 'width': 64}], 'name': 'Bottled Message', 'release_date': '2024-10-04', 'release_date_precision': 'day', 'total_tracks': 1, 'type': 'album', 'uri': 'spotify:album:0rgTLDn3rZBDe2facgkYWe'}, 'artists': [{'external_urls': {'spotify': 'https://open.spotify.com/artist/2yWG9itzl6vVT4af2DPZoS'}, 'href': 'https://api.spotify.com/v1/artists/2yWG9itzl6vVT4af2DPZoS', 'id': '2yWG9itzl6vVT4af2DPZoS', 'name': 'Coltsfoot', 'type': 'artist', 'uri': 'spotify:artist:2yWG9itzl6vVT4af2DPZoS'}], 'available_markets': ['AR', 'AU', 'AT', 'BE', 'BO', 'BR', 'BG', 'CA', 'CL', 'CO', 'CR', 'CY', 'CZ', 'DK', 'DO', 'DE', 'EC', 'EE', 'SV', 'FI', 'FR', 'GR', 'GT', 'HN', 'HK', 'HU', 'IS', 'IE', 'IT', 'LV', 'LT', 'LU', 'MY', 'MT', 'MX', 'NL', 'NZ', 'NI', 'NO', 'PA', 'PY', 'PE', 'PH', 'PL', 'PT', 'SG', 'SK', 'ES', 'SE', 'CH', 'TW', 'TR', 'UY', 'US', 'GB', 'AD', 'LI', 'MC', 'ID', 'JP', 'TH', 'VN', 'RO', 'IL', 'ZA', 'SA', 'AE', 'BH', 'QA', 'OM', 'KW', 'EG', 'MA', 'DZ', 'TN', 'LB', 'JO', 'PS', 'IN', 'BY', 'KZ', 'MD', 'UA', 'AL', 'BA', 'HR', 'ME', 'MK', 'RS', 'SI', 'KR', 'BD', 'PK', 'LK', 'GH', 'KE', 'NG', 'TZ', 'UG', 'AG', 'AM', 'BS', 'BB', 'BZ', 'BT', 'BW', 'BF', 'CV', 'CW', 'DM', 'FJ', 'GM', 'GE', 'GD', 'GW', 'GY', 'HT', 'JM', 'KI', 'LS', 'LR', 'MW', 'MV', 'ML', 'MH', 'FM', 'NA', 'NR', 'NE', 'PW', 'PG', 'PR', 'WS', 'SM', 'ST', 'SN', 'SC', 'SL', 'SB', 'KN', 'LC', 'VC', 'SR', 'TL', 'TO', 'TT', 'TV', 'VU', 'AZ', 'BN', 'BI', 'KH', 'CM', 'TD', 'KM', 'GQ', 'SZ', 'GA', 'GN', 'KG', 'LA', 'MO', 'MR', 'MN', 'NP', 'RW', 'TG', 'UZ', 'ZW', 'BJ', 'MG', 'MU', 'MZ', 'AO', 'CI', 'DJ', 'ZM', 'CD', 'CG', 'IQ', 'LY', 'TJ', 'VE', 'ET', 'XK'], 'disc_number': 1, 'duration_ms': 120000, 'explicit': False, 'external_ids': {'isrc': 'SE69N2414004'}, 'external_urls': {'spotify': 'https://open.spotify.com/track/1jPB55XVsJo36Q7qnqr5v4'}, 'href': 'https://api.spotify.com/v1/tracks/1jPB55XVsJo36Q7qnqr5v4', 'id': '1jPB55XVsJo36Q7qnqr5v4', 'is_local': False, 'name': 'Bottled Message', 'popularity': 59, 'preview_url': None, 'track_number': 1, 'type': 'track', 'uri': 'spotify:track:1jPB55XVsJo36Q7qnqr5v4'}, 'played_at': '2025-10-26T15:48:38.926Z', 'context': {'external_urls': {'spotify': 'https://open.spotify.com/playlist/37i9dQZF1DWZZbwlv3Vmtr'}, 'href': 'https://api.spotify.com/v1/playlists/37i9dQZF1DWZZbwlv3Vmtr', 'type': 'playlist', 'uri': 'spotify:playlist:37i9dQZF1DWZZbwlv3Vmtr'}}",
         "{'ingested_at': '2025-10-26T16:00:01.562110+00:00', 'execution_date': '2025-10-26T15:45:00+00:00', 'dag_id': 'spotify_raw_ingestion_jsonl', 'run_id': 'scheduled__2025-10-26T15:45:00+00:00', 'source': 'spotify_api'}"
        ],
        [
         "2",
         "{'track': {'album': {'album_type': 'single', 'artists': [{'external_urls': {'spotify': 'https://open.spotify.com/artist/56yn1U5TaMjH6ENhDdlWfM'}, 'href': 'https://api.spotify.com/v1/artists/56yn1U5TaMjH6ENhDdlWfM', 'id': '56yn1U5TaMjH6ENhDdlWfM', 'name': 'Camden Clown', 'type': 'artist', 'uri': 'spotify:artist:56yn1U5TaMjH6ENhDdlWfM'}], 'available_markets': ['AR', 'AU', 'AT', 'BE', 'BO', 'BR', 'BG', 'CA', 'CL', 'CO', 'CR', 'CY', 'CZ', 'DK', 'DO', 'DE', 'EC', 'EE', 'SV', 'FI', 'FR', 'GR', 'GT', 'HN', 'HK', 'HU', 'IS', 'IE', 'IT', 'LV', 'LT', 'LU', 'MY', 'MT', 'MX', 'NL', 'NZ', 'NI', 'NO', 'PA', 'PY', 'PE', 'PH', 'PL', 'PT', 'SG', 'SK', 'ES', 'SE', 'CH', 'TW', 'TR', 'UY', 'US', 'GB', 'AD', 'LI', 'MC', 'ID', 'JP', 'TH', 'VN', 'RO', 'IL', 'ZA', 'SA', 'AE', 'BH', 'QA', 'OM', 'KW', 'EG', 'MA', 'DZ', 'TN', 'LB', 'JO', 'PS', 'IN', 'BY', 'KZ', 'MD', 'UA', 'AL', 'BA', 'HR', 'ME', 'MK', 'RS', 'SI', 'KR', 'BD', 'PK', 'LK', 'GH', 'KE', 'NG', 'TZ', 'UG', 'AG', 'AM', 'BS', 'BB', 'BZ', 'BT', 'BW', 'BF', 'CV', 'CW', 'DM', 'FJ', 'GM', 'GE', 'GD', 'GW', 'GY', 'HT', 'JM', 'KI', 'LS', 'LR', 'MW', 'MV', 'ML', 'MH', 'FM', 'NA', 'NR', 'NE', 'PW', 'PG', 'PR', 'WS', 'SM', 'ST', 'SN', 'SC', 'SL', 'SB', 'KN', 'LC', 'VC', 'SR', 'TL', 'TO', 'TT', 'TV', 'VU', 'AZ', 'BN', 'BI', 'KH', 'CM', 'TD', 'KM', 'GQ', 'SZ', 'GA', 'GN', 'KG', 'LA', 'MO', 'MR', 'MN', 'NP', 'RW', 'TG', 'UZ', 'ZW', 'BJ', 'MG', 'MU', 'MZ', 'AO', 'CI', 'DJ', 'ZM', 'CD', 'CG', 'IQ', 'LY', 'TJ', 'VE', 'ET', 'XK'], 'external_urls': {'spotify': 'https://open.spotify.com/album/2qoWl3DKNFoKvMQSv79tl0'}, 'href': 'https://api.spotify.com/v1/albums/2qoWl3DKNFoKvMQSv79tl0', 'id': '2qoWl3DKNFoKvMQSv79tl0', 'images': [{'height': 640, 'url': 'https://i.scdn.co/image/ab67616d0000b273a5bdc90edeba1cabe2d8935d', 'width': 640}, {'height': 300, 'url': 'https://i.scdn.co/image/ab67616d00001e02a5bdc90edeba1cabe2d8935d', 'width': 300}, {'height': 64, 'url': 'https://i.scdn.co/image/ab67616d00004851a5bdc90edeba1cabe2d8935d', 'width': 64}], 'name': 'supajam', 'release_date': '2023-12-03', 'release_date_precision': 'day', 'total_tracks': 1, 'type': 'album', 'uri': 'spotify:album:2qoWl3DKNFoKvMQSv79tl0'}, 'artists': [{'external_urls': {'spotify': 'https://open.spotify.com/artist/56yn1U5TaMjH6ENhDdlWfM'}, 'href': 'https://api.spotify.com/v1/artists/56yn1U5TaMjH6ENhDdlWfM', 'id': '56yn1U5TaMjH6ENhDdlWfM', 'name': 'Camden Clown', 'type': 'artist', 'uri': 'spotify:artist:56yn1U5TaMjH6ENhDdlWfM'}], 'available_markets': ['AR', 'AU', 'AT', 'BE', 'BO', 'BR', 'BG', 'CA', 'CL', 'CO', 'CR', 'CY', 'CZ', 'DK', 'DO', 'DE', 'EC', 'EE', 'SV', 'FI', 'FR', 'GR', 'GT', 'HN', 'HK', 'HU', 'IS', 'IE', 'IT', 'LV', 'LT', 'LU', 'MY', 'MT', 'MX', 'NL', 'NZ', 'NI', 'NO', 'PA', 'PY', 'PE', 'PH', 'PL', 'PT', 'SG', 'SK', 'ES', 'SE', 'CH', 'TW', 'TR', 'UY', 'US', 'GB', 'AD', 'LI', 'MC', 'ID', 'JP', 'TH', 'VN', 'RO', 'IL', 'ZA', 'SA', 'AE', 'BH', 'QA', 'OM', 'KW', 'EG', 'MA', 'DZ', 'TN', 'LB', 'JO', 'PS', 'IN', 'BY', 'KZ', 'MD', 'UA', 'AL', 'BA', 'HR', 'ME', 'MK', 'RS', 'SI', 'KR', 'BD', 'PK', 'LK', 'GH', 'KE', 'NG', 'TZ', 'UG', 'AG', 'AM', 'BS', 'BB', 'BZ', 'BT', 'BW', 'BF', 'CV', 'CW', 'DM', 'FJ', 'GM', 'GE', 'GD', 'GW', 'GY', 'HT', 'JM', 'KI', 'LS', 'LR', 'MW', 'MV', 'ML', 'MH', 'FM', 'NA', 'NR', 'NE', 'PW', 'PG', 'PR', 'WS', 'SM', 'ST', 'SN', 'SC', 'SL', 'SB', 'KN', 'LC', 'VC', 'SR', 'TL', 'TO', 'TT', 'TV', 'VU', 'AZ', 'BN', 'BI', 'KH', 'CM', 'TD', 'KM', 'GQ', 'SZ', 'GA', 'GN', 'KG', 'LA', 'MO', 'MR', 'MN', 'NP', 'RW', 'TG', 'UZ', 'ZW', 'BJ', 'MG', 'MU', 'MZ', 'AO', 'CI', 'DJ', 'ZM', 'CD', 'CG', 'IQ', 'LY', 'TJ', 'VE', 'ET', 'XK'], 'disc_number': 1, 'duration_ms': 120541, 'explicit': False, 'external_ids': {'isrc': 'QZAKB2362449'}, 'external_urls': {'spotify': 'https://open.spotify.com/track/0EJPiTVZZJ4LIrfQcQpDlI'}, 'href': 'https://api.spotify.com/v1/tracks/0EJPiTVZZJ4LIrfQcQpDlI', 'id': '0EJPiTVZZJ4LIrfQcQpDlI', 'is_local': False, 'name': 'supajam', 'popularity': 47, 'preview_url': None, 'track_number': 1, 'type': 'track', 'uri': 'spotify:track:0EJPiTVZZJ4LIrfQcQpDlI'}, 'played_at': '2025-10-26T15:50:35.237Z', 'context': {'external_urls': {'spotify': 'https://open.spotify.com/playlist/37i9dQZF1DWZZbwlv3Vmtr'}, 'href': 'https://api.spotify.com/v1/playlists/37i9dQZF1DWZZbwlv3Vmtr', 'type': 'playlist', 'uri': 'spotify:playlist:37i9dQZF1DWZZbwlv3Vmtr'}}",
         "{'ingested_at': '2025-10-26T16:00:01.562100+00:00', 'execution_date': '2025-10-26T15:45:00+00:00', 'dag_id': 'spotify_raw_ingestion_jsonl', 'run_id': 'scheduled__2025-10-26T15:45:00+00:00', 'source': 'spotify_api'}"
        ],
        [
         "3",
         "{'track': {'album': {'album_type': 'single', 'artists': [{'external_urls': {'spotify': 'https://open.spotify.com/artist/6bmyHY2oYF7LNsOCLdZH7e'}, 'href': 'https://api.spotify.com/v1/artists/6bmyHY2oYF7LNsOCLdZH7e', 'id': '6bmyHY2oYF7LNsOCLdZH7e', 'name': 'Slipp', 'type': 'artist', 'uri': 'spotify:artist:6bmyHY2oYF7LNsOCLdZH7e'}, {'external_urls': {'spotify': 'https://open.spotify.com/artist/3QJraihPHVrl3gSNaXLEr9'}, 'href': 'https://api.spotify.com/v1/artists/3QJraihPHVrl3gSNaXLEr9', 'id': '3QJraihPHVrl3gSNaXLEr9', 'name': \"Nick's chill factory\", 'type': 'artist', 'uri': 'spotify:artist:3QJraihPHVrl3gSNaXLEr9'}], 'available_markets': ['AR', 'AU', 'AT', 'BE', 'BO', 'BR', 'BG', 'CA', 'CL', 'CO', 'CR', 'CY', 'CZ', 'DK', 'DO', 'DE', 'EC', 'EE', 'SV', 'FI', 'FR', 'GR', 'GT', 'HN', 'HK', 'HU', 'IS', 'IE', 'IT', 'LV', 'LT', 'LU', 'MY', 'MT', 'MX', 'NL', 'NZ', 'NI', 'NO', 'PA', 'PY', 'PE', 'PH', 'PL', 'PT', 'SG', 'SK', 'ES', 'SE', 'CH', 'TW', 'TR', 'UY', 'US', 'GB', 'AD', 'LI', 'MC', 'ID', 'JP', 'TH', 'VN', 'RO', 'IL', 'ZA', 'SA', 'AE', 'BH', 'QA', 'OM', 'KW', 'EG', 'MA', 'DZ', 'TN', 'LB', 'JO', 'PS', 'IN', 'BY', 'KZ', 'MD', 'UA', 'AL', 'BA', 'HR', 'ME', 'MK', 'RS', 'SI', 'KR', 'BD', 'PK', 'LK', 'GH', 'KE', 'NG', 'TZ', 'UG', 'AG', 'AM', 'BS', 'BB', 'BZ', 'BT', 'BW', 'BF', 'CV', 'CW', 'DM', 'FJ', 'GM', 'GE', 'GD', 'GW', 'GY', 'HT', 'JM', 'KI', 'LS', 'LR', 'MW', 'MV', 'ML', 'MH', 'FM', 'NA', 'NR', 'NE', 'PW', 'PG', 'PR', 'WS', 'SM', 'ST', 'SN', 'SC', 'SL', 'SB', 'KN', 'LC', 'VC', 'SR', 'TL', 'TO', 'TT', 'TV', 'VU', 'AZ', 'BN', 'BI', 'KH', 'CM', 'TD', 'KM', 'GQ', 'SZ', 'GA', 'GN', 'KG', 'LA', 'MO', 'MR', 'MN', 'NP', 'RW', 'TG', 'UZ', 'ZW', 'BJ', 'MG', 'MU', 'MZ', 'AO', 'CI', 'DJ', 'ZM', 'CD', 'CG', 'IQ', 'LY', 'TJ', 'VE', 'ET', 'XK'], 'external_urls': {'spotify': 'https://open.spotify.com/album/1BR01bzVheG3dH7IGvo7lA'}, 'href': 'https://api.spotify.com/v1/albums/1BR01bzVheG3dH7IGvo7lA', 'id': '1BR01bzVheG3dH7IGvo7lA', 'images': [{'height': 640, 'url': 'https://i.scdn.co/image/ab67616d0000b273a4e9e92c7d9db5da052d5a13', 'width': 640}, {'height': 300, 'url': 'https://i.scdn.co/image/ab67616d00001e02a4e9e92c7d9db5da052d5a13', 'width': 300}, {'height': 64, 'url': 'https://i.scdn.co/image/ab67616d00004851a4e9e92c7d9db5da052d5a13', 'width': 64}], 'name': 'blue bird', 'release_date': '2023-09-22', 'release_date_precision': 'day', 'total_tracks': 1, 'type': 'album', 'uri': 'spotify:album:1BR01bzVheG3dH7IGvo7lA'}, 'artists': [{'external_urls': {'spotify': 'https://open.spotify.com/artist/6bmyHY2oYF7LNsOCLdZH7e'}, 'href': 'https://api.spotify.com/v1/artists/6bmyHY2oYF7LNsOCLdZH7e', 'id': '6bmyHY2oYF7LNsOCLdZH7e', 'name': 'Slipp', 'type': 'artist', 'uri': 'spotify:artist:6bmyHY2oYF7LNsOCLdZH7e'}, {'external_urls': {'spotify': 'https://open.spotify.com/artist/3QJraihPHVrl3gSNaXLEr9'}, 'href': 'https://api.spotify.com/v1/artists/3QJraihPHVrl3gSNaXLEr9', 'id': '3QJraihPHVrl3gSNaXLEr9', 'name': \"Nick's chill factory\", 'type': 'artist', 'uri': 'spotify:artist:3QJraihPHVrl3gSNaXLEr9'}], 'available_markets': ['AR', 'AU', 'AT', 'BE', 'BO', 'BR', 'BG', 'CA', 'CL', 'CO', 'CR', 'CY', 'CZ', 'DK', 'DO', 'DE', 'EC', 'EE', 'SV', 'FI', 'FR', 'GR', 'GT', 'HN', 'HK', 'HU', 'IS', 'IE', 'IT', 'LV', 'LT', 'LU', 'MY', 'MT', 'MX', 'NL', 'NZ', 'NI', 'NO', 'PA', 'PY', 'PE', 'PH', 'PL', 'PT', 'SG', 'SK', 'ES', 'SE', 'CH', 'TW', 'TR', 'UY', 'US', 'GB', 'AD', 'LI', 'MC', 'ID', 'JP', 'TH', 'VN', 'RO', 'IL', 'ZA', 'SA', 'AE', 'BH', 'QA', 'OM', 'KW', 'EG', 'MA', 'DZ', 'TN', 'LB', 'JO', 'PS', 'IN', 'BY', 'KZ', 'MD', 'UA', 'AL', 'BA', 'HR', 'ME', 'MK', 'RS', 'SI', 'KR', 'BD', 'PK', 'LK', 'GH', 'KE', 'NG', 'TZ', 'UG', 'AG', 'AM', 'BS', 'BB', 'BZ', 'BT', 'BW', 'BF', 'CV', 'CW', 'DM', 'FJ', 'GM', 'GE', 'GD', 'GW', 'GY', 'HT', 'JM', 'KI', 'LS', 'LR', 'MW', 'MV', 'ML', 'MH', 'FM', 'NA', 'NR', 'NE', 'PW', 'PG', 'PR', 'WS', 'SM', 'ST', 'SN', 'SC', 'SL', 'SB', 'KN', 'LC', 'VC', 'SR', 'TL', 'TO', 'TT', 'TV', 'VU', 'AZ', 'BN', 'BI', 'KH', 'CM', 'TD', 'KM', 'GQ', 'SZ', 'GA', 'GN', 'KG', 'LA', 'MO', 'MR', 'MN', 'NP', 'RW', 'TG', 'UZ', 'ZW', 'BJ', 'MG', 'MU', 'MZ', 'AO', 'CI', 'DJ', 'ZM', 'CD', 'CG', 'IQ', 'LY', 'TJ', 'VE', 'ET', 'XK'], 'disc_number': 1, 'duration_ms': 134703, 'explicit': False, 'external_ids': {'isrc': 'SEXGF2301280'}, 'external_urls': {'spotify': 'https://open.spotify.com/track/6qCw0yjnCxxASxV87RMudj'}, 'href': 'https://api.spotify.com/v1/tracks/6qCw0yjnCxxASxV87RMudj', 'id': '6qCw0yjnCxxASxV87RMudj', 'is_local': False, 'name': 'blue bird', 'popularity': 52, 'preview_url': None, 'track_number': 1, 'type': 'track', 'uri': 'spotify:track:6qCw0yjnCxxASxV87RMudj'}, 'played_at': '2025-10-26T15:52:42.351Z', 'context': {'external_urls': {'spotify': 'https://open.spotify.com/playlist/37i9dQZF1DWZZbwlv3Vmtr'}, 'href': 'https://api.spotify.com/v1/playlists/37i9dQZF1DWZZbwlv3Vmtr', 'type': 'playlist', 'uri': 'spotify:playlist:37i9dQZF1DWZZbwlv3Vmtr'}}",
         "{'ingested_at': '2025-10-26T16:00:01.562091+00:00', 'execution_date': '2025-10-26T15:45:00+00:00', 'dag_id': 'spotify_raw_ingestion_jsonl', 'run_id': 'scheduled__2025-10-26T15:45:00+00:00', 'source': 'spotify_api'}"
        ],
        [
         "4",
         "{'track': {'album': {'album_type': 'single', 'artists': [{'external_urls': {'spotify': 'https://open.spotify.com/artist/7L2I1AuvyRXd2ysLSTeKZX'}, 'href': 'https://api.spotify.com/v1/artists/7L2I1AuvyRXd2ysLSTeKZX', 'id': '7L2I1AuvyRXd2ysLSTeKZX', 'name': 'PIÑA PINK', 'type': 'artist', 'uri': 'spotify:artist:7L2I1AuvyRXd2ysLSTeKZX'}], 'available_markets': ['AR', 'AU', 'AT', 'BE', 'BO', 'BR', 'BG', 'CA', 'CL', 'CO', 'CR', 'CY', 'CZ', 'DK', 'DO', 'DE', 'EC', 'EE', 'SV', 'FI', 'FR', 'GR', 'GT', 'HN', 'HK', 'HU', 'IS', 'IE', 'IT', 'LV', 'LT', 'LU', 'MY', 'MT', 'MX', 'NL', 'NZ', 'NI', 'NO', 'PA', 'PY', 'PE', 'PH', 'PL', 'PT', 'SG', 'SK', 'ES', 'SE', 'CH', 'TW', 'TR', 'UY', 'US', 'GB', 'AD', 'LI', 'MC', 'ID', 'JP', 'TH', 'VN', 'RO', 'IL', 'ZA', 'SA', 'AE', 'BH', 'QA', 'OM', 'KW', 'EG', 'MA', 'DZ', 'TN', 'LB', 'JO', 'PS', 'IN', 'BY', 'KZ', 'MD', 'UA', 'AL', 'BA', 'HR', 'ME', 'MK', 'RS', 'SI', 'KR', 'BD', 'PK', 'LK', 'GH', 'KE', 'NG', 'TZ', 'UG', 'AG', 'AM', 'BS', 'BB', 'BZ', 'BT', 'BW', 'BF', 'CV', 'CW', 'DM', 'FJ', 'GM', 'GE', 'GD', 'GW', 'GY', 'HT', 'JM', 'KI', 'LS', 'LR', 'MW', 'MV', 'ML', 'MH', 'FM', 'NA', 'NR', 'NE', 'PW', 'PG', 'PR', 'WS', 'SM', 'ST', 'SN', 'SC', 'SL', 'SB', 'KN', 'LC', 'VC', 'SR', 'TL', 'TO', 'TT', 'TV', 'VU', 'AZ', 'BN', 'BI', 'KH', 'CM', 'TD', 'KM', 'GQ', 'SZ', 'GA', 'GN', 'KG', 'LA', 'MO', 'MR', 'MN', 'NP', 'RW', 'TG', 'UZ', 'ZW', 'BJ', 'MG', 'MU', 'MZ', 'AO', 'CI', 'DJ', 'ZM', 'CD', 'CG', 'IQ', 'LY', 'TJ', 'VE', 'ET', 'XK'], 'external_urls': {'spotify': 'https://open.spotify.com/album/6B7fPxPYhyggHOSAK1Yqyx'}, 'href': 'https://api.spotify.com/v1/albums/6B7fPxPYhyggHOSAK1Yqyx', 'id': '6B7fPxPYhyggHOSAK1Yqyx', 'images': [{'height': 640, 'url': 'https://i.scdn.co/image/ab67616d0000b273971cf4f01bdf0415288ae691', 'width': 640}, {'height': 300, 'url': 'https://i.scdn.co/image/ab67616d00001e02971cf4f01bdf0415288ae691', 'width': 300}, {'height': 64, 'url': 'https://i.scdn.co/image/ab67616d00004851971cf4f01bdf0415288ae691', 'width': 64}], 'name': 'Magic Mattress Ride (ZzZ)', 'release_date': '2024-03-15', 'release_date_precision': 'day', 'total_tracks': 1, 'type': 'album', 'uri': 'spotify:album:6B7fPxPYhyggHOSAK1Yqyx'}, 'artists': [{'external_urls': {'spotify': 'https://open.spotify.com/artist/7L2I1AuvyRXd2ysLSTeKZX'}, 'href': 'https://api.spotify.com/v1/artists/7L2I1AuvyRXd2ysLSTeKZX', 'id': '7L2I1AuvyRXd2ysLSTeKZX', 'name': 'PIÑA PINK', 'type': 'artist', 'uri': 'spotify:artist:7L2I1AuvyRXd2ysLSTeKZX'}], 'available_markets': ['AR', 'AU', 'AT', 'BE', 'BO', 'BR', 'BG', 'CA', 'CL', 'CO', 'CR', 'CY', 'CZ', 'DK', 'DO', 'DE', 'EC', 'EE', 'SV', 'FI', 'FR', 'GR', 'GT', 'HN', 'HK', 'HU', 'IS', 'IE', 'IT', 'LV', 'LT', 'LU', 'MY', 'MT', 'MX', 'NL', 'NZ', 'NI', 'NO', 'PA', 'PY', 'PE', 'PH', 'PL', 'PT', 'SG', 'SK', 'ES', 'SE', 'CH', 'TW', 'TR', 'UY', 'US', 'GB', 'AD', 'LI', 'MC', 'ID', 'JP', 'TH', 'VN', 'RO', 'IL', 'ZA', 'SA', 'AE', 'BH', 'QA', 'OM', 'KW', 'EG', 'MA', 'DZ', 'TN', 'LB', 'JO', 'PS', 'IN', 'BY', 'KZ', 'MD', 'UA', 'AL', 'BA', 'HR', 'ME', 'MK', 'RS', 'SI', 'KR', 'BD', 'PK', 'LK', 'GH', 'KE', 'NG', 'TZ', 'UG', 'AG', 'AM', 'BS', 'BB', 'BZ', 'BT', 'BW', 'BF', 'CV', 'CW', 'DM', 'FJ', 'GM', 'GE', 'GD', 'GW', 'GY', 'HT', 'JM', 'KI', 'LS', 'LR', 'MW', 'MV', 'ML', 'MH', 'FM', 'NA', 'NR', 'NE', 'PW', 'PG', 'PR', 'WS', 'SM', 'ST', 'SN', 'SC', 'SL', 'SB', 'KN', 'LC', 'VC', 'SR', 'TL', 'TO', 'TT', 'TV', 'VU', 'AZ', 'BN', 'BI', 'KH', 'CM', 'TD', 'KM', 'GQ', 'SZ', 'GA', 'GN', 'KG', 'LA', 'MO', 'MR', 'MN', 'NP', 'RW', 'TG', 'UZ', 'ZW', 'BJ', 'MG', 'MU', 'MZ', 'AO', 'CI', 'DJ', 'ZM', 'CD', 'CG', 'IQ', 'LY', 'TJ', 'VE', 'ET', 'XK'], 'disc_number': 1, 'duration_ms': 178461, 'explicit': False, 'external_ids': {'isrc': 'SE5W32400426'}, 'external_urls': {'spotify': 'https://open.spotify.com/track/7wehqrmCqlEehtGoucPbKv'}, 'href': 'https://api.spotify.com/v1/tracks/7wehqrmCqlEehtGoucPbKv', 'id': '7wehqrmCqlEehtGoucPbKv', 'is_local': False, 'name': 'Magic Mattress Ride (ZzZ)', 'popularity': 49, 'preview_url': None, 'track_number': 1, 'type': 'track', 'uri': 'spotify:track:7wehqrmCqlEehtGoucPbKv'}, 'played_at': '2025-10-26T15:55:20.990Z', 'context': {'external_urls': {'spotify': 'https://open.spotify.com/playlist/37i9dQZF1DWZZbwlv3Vmtr'}, 'href': 'https://api.spotify.com/v1/playlists/37i9dQZF1DWZZbwlv3Vmtr', 'type': 'playlist', 'uri': 'spotify:playlist:37i9dQZF1DWZZbwlv3Vmtr'}}",
         "{'ingested_at': '2025-10-26T16:00:01.562080+00:00', 'execution_date': '2025-10-26T15:45:00+00:00', 'dag_id': 'spotify_raw_ingestion_jsonl', 'run_id': 'scheduled__2025-10-26T15:45:00+00:00', 'source': 'spotify_api'}"
        ],
        [
         "5",
         "{'track': {'album': {'album_type': 'single', 'artists': [{'external_urls': {'spotify': 'https://open.spotify.com/artist/59fTGxMpUBkID2RojOnA8V'}, 'href': 'https://api.spotify.com/v1/artists/59fTGxMpUBkID2RojOnA8V', 'id': '59fTGxMpUBkID2RojOnA8V', 'name': \"Harry G's Beats\", 'type': 'artist', 'uri': 'spotify:artist:59fTGxMpUBkID2RojOnA8V'}], 'available_markets': ['AR', 'AU', 'AT', 'BE', 'BO', 'BR', 'BG', 'CA', 'CL', 'CO', 'CR', 'CY', 'CZ', 'DK', 'DO', 'DE', 'EC', 'EE', 'SV', 'FI', 'FR', 'GR', 'GT', 'HN', 'HK', 'HU', 'IS', 'IE', 'IT', 'LV', 'LT', 'LU', 'MY', 'MT', 'MX', 'NL', 'NZ', 'NI', 'NO', 'PA', 'PY', 'PE', 'PH', 'PL', 'PT', 'SG', 'SK', 'ES', 'SE', 'CH', 'TW', 'TR', 'UY', 'US', 'GB', 'AD', 'LI', 'MC', 'ID', 'JP', 'TH', 'VN', 'RO', 'IL', 'ZA', 'SA', 'AE', 'BH', 'QA', 'OM', 'KW', 'EG', 'MA', 'DZ', 'TN', 'LB', 'JO', 'PS', 'IN', 'BY', 'KZ', 'MD', 'UA', 'AL', 'BA', 'HR', 'ME', 'MK', 'RS', 'SI', 'KR', 'BD', 'PK', 'LK', 'GH', 'KE', 'NG', 'TZ', 'UG', 'AG', 'AM', 'BS', 'BB', 'BZ', 'BT', 'BW', 'BF', 'CV', 'CW', 'DM', 'FJ', 'GM', 'GE', 'GD', 'GW', 'GY', 'HT', 'JM', 'KI', 'LS', 'LR', 'MW', 'MV', 'ML', 'MH', 'FM', 'NA', 'NR', 'NE', 'PW', 'PG', 'PR', 'WS', 'SM', 'ST', 'SN', 'SC', 'SL', 'SB', 'KN', 'LC', 'VC', 'SR', 'TL', 'TO', 'TT', 'TV', 'VU', 'AZ', 'BN', 'BI', 'KH', 'CM', 'TD', 'KM', 'GQ', 'SZ', 'GA', 'GN', 'KG', 'LA', 'MO', 'MR', 'MN', 'NP', 'RW', 'TG', 'UZ', 'ZW', 'BJ', 'MG', 'MU', 'MZ', 'AO', 'CI', 'DJ', 'ZM', 'CD', 'CG', 'IQ', 'LY', 'TJ', 'VE', 'ET', 'XK'], 'external_urls': {'spotify': 'https://open.spotify.com/album/0XAznNmMD2hT3rgM7Tf1y2'}, 'href': 'https://api.spotify.com/v1/albums/0XAznNmMD2hT3rgM7Tf1y2', 'id': '0XAznNmMD2hT3rgM7Tf1y2', 'images': [{'height': 640, 'url': 'https://i.scdn.co/image/ab67616d0000b273df074a0d4d194a4cd8a25ba1', 'width': 640}, {'height': 300, 'url': 'https://i.scdn.co/image/ab67616d00001e02df074a0d4d194a4cd8a25ba1', 'width': 300}, {'height': 64, 'url': 'https://i.scdn.co/image/ab67616d00004851df074a0d4d194a4cd8a25ba1', 'width': 64}], 'name': 'early one day', 'release_date': '2023-12-17', 'release_date_precision': 'day', 'total_tracks': 1, 'type': 'album', 'uri': 'spotify:album:0XAznNmMD2hT3rgM7Tf1y2'}, 'artists': [{'external_urls': {'spotify': 'https://open.spotify.com/artist/59fTGxMpUBkID2RojOnA8V'}, 'href': 'https://api.spotify.com/v1/artists/59fTGxMpUBkID2RojOnA8V', 'id': '59fTGxMpUBkID2RojOnA8V', 'name': \"Harry G's Beats\", 'type': 'artist', 'uri': 'spotify:artist:59fTGxMpUBkID2RojOnA8V'}], 'available_markets': ['AR', 'AU', 'AT', 'BE', 'BO', 'BR', 'BG', 'CA', 'CL', 'CO', 'CR', 'CY', 'CZ', 'DK', 'DO', 'DE', 'EC', 'EE', 'SV', 'FI', 'FR', 'GR', 'GT', 'HN', 'HK', 'HU', 'IS', 'IE', 'IT', 'LV', 'LT', 'LU', 'MY', 'MT', 'MX', 'NL', 'NZ', 'NI', 'NO', 'PA', 'PY', 'PE', 'PH', 'PL', 'PT', 'SG', 'SK', 'ES', 'SE', 'CH', 'TW', 'TR', 'UY', 'US', 'GB', 'AD', 'LI', 'MC', 'ID', 'JP', 'TH', 'VN', 'RO', 'IL', 'ZA', 'SA', 'AE', 'BH', 'QA', 'OM', 'KW', 'EG', 'MA', 'DZ', 'TN', 'LB', 'JO', 'PS', 'IN', 'BY', 'KZ', 'MD', 'UA', 'AL', 'BA', 'HR', 'ME', 'MK', 'RS', 'SI', 'KR', 'BD', 'PK', 'LK', 'GH', 'KE', 'NG', 'TZ', 'UG', 'AG', 'AM', 'BS', 'BB', 'BZ', 'BT', 'BW', 'BF', 'CV', 'CW', 'DM', 'FJ', 'GM', 'GE', 'GD', 'GW', 'GY', 'HT', 'JM', 'KI', 'LS', 'LR', 'MW', 'MV', 'ML', 'MH', 'FM', 'NA', 'NR', 'NE', 'PW', 'PG', 'PR', 'WS', 'SM', 'ST', 'SN', 'SC', 'SL', 'SB', 'KN', 'LC', 'VC', 'SR', 'TL', 'TO', 'TT', 'TV', 'VU', 'AZ', 'BN', 'BI', 'KH', 'CM', 'TD', 'KM', 'GQ', 'SZ', 'GA', 'GN', 'KG', 'LA', 'MO', 'MR', 'MN', 'NP', 'RW', 'TG', 'UZ', 'ZW', 'BJ', 'MG', 'MU', 'MZ', 'AO', 'CI', 'DJ', 'ZM', 'CD', 'CG', 'IQ', 'LY', 'TJ', 'VE', 'ET', 'XK'], 'disc_number': 1, 'duration_ms': 126708, 'explicit': False, 'external_ids': {'isrc': 'QZAKB2364363'}, 'external_urls': {'spotify': 'https://open.spotify.com/track/7vtAeEq9ICIBVjkFGpXeqN'}, 'href': 'https://api.spotify.com/v1/tracks/7vtAeEq9ICIBVjkFGpXeqN', 'id': '7vtAeEq9ICIBVjkFGpXeqN', 'is_local': False, 'name': 'early one day', 'popularity': 49, 'preview_url': None, 'track_number': 1, 'type': 'track', 'uri': 'spotify:track:7vtAeEq9ICIBVjkFGpXeqN'}, 'played_at': '2025-10-26T15:57:04.057Z', 'context': {'external_urls': {'spotify': 'https://open.spotify.com/playlist/37i9dQZF1DWZZbwlv3Vmtr'}, 'href': 'https://api.spotify.com/v1/playlists/37i9dQZF1DWZZbwlv3Vmtr', 'type': 'playlist', 'uri': 'spotify:playlist:37i9dQZF1DWZZbwlv3Vmtr'}}",
         "{'ingested_at': '2025-10-26T16:00:01.562065+00:00', 'execution_date': '2025-10-26T15:45:00+00:00', 'dag_id': 'spotify_raw_ingestion_jsonl', 'run_id': 'scheduled__2025-10-26T15:45:00+00:00', 'source': 'spotify_api'}"
        ],
        [
         "6",
         "{'track': {'album': {'album_type': 'single', 'artists': [{'external_urls': {'spotify': 'https://open.spotify.com/artist/1i1hunPBHEd4w8PVILQjwD'}, 'href': 'https://api.spotify.com/v1/artists/1i1hunPBHEd4w8PVILQjwD', 'id': '1i1hunPBHEd4w8PVILQjwD', 'name': \"Burguess' Beatz\", 'type': 'artist', 'uri': 'spotify:artist:1i1hunPBHEd4w8PVILQjwD'}], 'available_markets': ['AR', 'AU', 'AT', 'BE', 'BO', 'BR', 'BG', 'CA', 'CL', 'CO', 'CR', 'CY', 'CZ', 'DK', 'DO', 'DE', 'EC', 'EE', 'SV', 'FI', 'FR', 'GR', 'GT', 'HN', 'HK', 'HU', 'IS', 'IE', 'IT', 'LV', 'LT', 'LU', 'MY', 'MT', 'MX', 'NL', 'NZ', 'NI', 'NO', 'PA', 'PY', 'PE', 'PH', 'PL', 'PT', 'SG', 'SK', 'ES', 'SE', 'CH', 'TW', 'TR', 'UY', 'US', 'GB', 'AD', 'LI', 'MC', 'ID', 'JP', 'TH', 'VN', 'RO', 'IL', 'ZA', 'SA', 'AE', 'BH', 'QA', 'OM', 'KW', 'EG', 'MA', 'DZ', 'TN', 'LB', 'JO', 'PS', 'IN', 'BY', 'KZ', 'MD', 'UA', 'AL', 'BA', 'HR', 'ME', 'MK', 'RS', 'SI', 'KR', 'BD', 'PK', 'LK', 'GH', 'KE', 'NG', 'TZ', 'UG', 'AG', 'AM', 'BS', 'BB', 'BZ', 'BT', 'BW', 'BF', 'CV', 'CW', 'DM', 'FJ', 'GM', 'GE', 'GD', 'GW', 'GY', 'HT', 'JM', 'KI', 'LS', 'LR', 'MW', 'MV', 'ML', 'MH', 'FM', 'NA', 'NR', 'NE', 'PW', 'PG', 'PR', 'WS', 'SM', 'ST', 'SN', 'SC', 'SL', 'SB', 'KN', 'LC', 'VC', 'SR', 'TL', 'TO', 'TT', 'TV', 'VU', 'AZ', 'BN', 'BI', 'KH', 'CM', 'TD', 'KM', 'GQ', 'SZ', 'GA', 'GN', 'KG', 'LA', 'MO', 'MR', 'MN', 'NP', 'RW', 'TG', 'UZ', 'ZW', 'BJ', 'MG', 'MU', 'MZ', 'AO', 'CI', 'DJ', 'ZM', 'CD', 'CG', 'IQ', 'LY', 'TJ', 'VE', 'ET', 'XK'], 'external_urls': {'spotify': 'https://open.spotify.com/album/1v0jGGutvINFPeAdz3LYdJ'}, 'href': 'https://api.spotify.com/v1/albums/1v0jGGutvINFPeAdz3LYdJ', 'id': '1v0jGGutvINFPeAdz3LYdJ', 'images': [{'height': 640, 'url': 'https://i.scdn.co/image/ab67616d0000b273009384d1f0ee24bb49c70c6b', 'width': 640}, {'height': 300, 'url': 'https://i.scdn.co/image/ab67616d00001e02009384d1f0ee24bb49c70c6b', 'width': 300}, {'height': 64, 'url': 'https://i.scdn.co/image/ab67616d00004851009384d1f0ee24bb49c70c6b', 'width': 64}], 'name': 'catwalk', 'release_date': '2023-11-26', 'release_date_precision': 'day', 'total_tracks': 1, 'type': 'album', 'uri': 'spotify:album:1v0jGGutvINFPeAdz3LYdJ'}, 'artists': [{'external_urls': {'spotify': 'https://open.spotify.com/artist/1i1hunPBHEd4w8PVILQjwD'}, 'href': 'https://api.spotify.com/v1/artists/1i1hunPBHEd4w8PVILQjwD', 'id': '1i1hunPBHEd4w8PVILQjwD', 'name': \"Burguess' Beatz\", 'type': 'artist', 'uri': 'spotify:artist:1i1hunPBHEd4w8PVILQjwD'}], 'available_markets': ['AR', 'AU', 'AT', 'BE', 'BO', 'BR', 'BG', 'CA', 'CL', 'CO', 'CR', 'CY', 'CZ', 'DK', 'DO', 'DE', 'EC', 'EE', 'SV', 'FI', 'FR', 'GR', 'GT', 'HN', 'HK', 'HU', 'IS', 'IE', 'IT', 'LV', 'LT', 'LU', 'MY', 'MT', 'MX', 'NL', 'NZ', 'NI', 'NO', 'PA', 'PY', 'PE', 'PH', 'PL', 'PT', 'SG', 'SK', 'ES', 'SE', 'CH', 'TW', 'TR', 'UY', 'US', 'GB', 'AD', 'LI', 'MC', 'ID', 'JP', 'TH', 'VN', 'RO', 'IL', 'ZA', 'SA', 'AE', 'BH', 'QA', 'OM', 'KW', 'EG', 'MA', 'DZ', 'TN', 'LB', 'JO', 'PS', 'IN', 'BY', 'KZ', 'MD', 'UA', 'AL', 'BA', 'HR', 'ME', 'MK', 'RS', 'SI', 'KR', 'BD', 'PK', 'LK', 'GH', 'KE', 'NG', 'TZ', 'UG', 'AG', 'AM', 'BS', 'BB', 'BZ', 'BT', 'BW', 'BF', 'CV', 'CW', 'DM', 'FJ', 'GM', 'GE', 'GD', 'GW', 'GY', 'HT', 'JM', 'KI', 'LS', 'LR', 'MW', 'MV', 'ML', 'MH', 'FM', 'NA', 'NR', 'NE', 'PW', 'PG', 'PR', 'WS', 'SM', 'ST', 'SN', 'SC', 'SL', 'SB', 'KN', 'LC', 'VC', 'SR', 'TL', 'TO', 'TT', 'TV', 'VU', 'AZ', 'BN', 'BI', 'KH', 'CM', 'TD', 'KM', 'GQ', 'SZ', 'GA', 'GN', 'KG', 'LA', 'MO', 'MR', 'MN', 'NP', 'RW', 'TG', 'UZ', 'ZW', 'BJ', 'MG', 'MU', 'MZ', 'AO', 'CI', 'DJ', 'ZM', 'CD', 'CG', 'IQ', 'LY', 'TJ', 'VE', 'ET', 'XK'], 'disc_number': 1, 'duration_ms': 151708, 'explicit': False, 'external_ids': {'isrc': 'QZAKB2361771'}, 'external_urls': {'spotify': 'https://open.spotify.com/track/1DOEEHMXg2exzfzs2lRts2'}, 'href': 'https://api.spotify.com/v1/tracks/1DOEEHMXg2exzfzs2lRts2', 'id': '1DOEEHMXg2exzfzs2lRts2', 'is_local': False, 'name': 'catwalk', 'popularity': 48, 'preview_url': None, 'track_number': 1, 'type': 'track', 'uri': 'spotify:track:1DOEEHMXg2exzfzs2lRts2'}, 'played_at': '2025-10-26T15:59:07.220Z', 'context': {'external_urls': {'spotify': 'https://open.spotify.com/playlist/37i9dQZF1DWZZbwlv3Vmtr'}, 'href': 'https://api.spotify.com/v1/playlists/37i9dQZF1DWZZbwlv3Vmtr', 'type': 'playlist', 'uri': 'spotify:playlist:37i9dQZF1DWZZbwlv3Vmtr'}}",
         "{'ingested_at': '2025-10-26T16:00:01.562017+00:00', 'execution_date': '2025-10-26T15:45:00+00:00', 'dag_id': 'spotify_raw_ingestion_jsonl', 'run_id': 'scheduled__2025-10-26T15:45:00+00:00', 'source': 'spotify_api'}"
        ],
        [
         "7",
         "{'track': {'album': {'album_type': 'single', 'artists': [{'external_urls': {'spotify': 'https://open.spotify.com/artist/77wxmMCyAJ6Nvkw8isSUNv'}, 'href': 'https://api.spotify.com/v1/artists/77wxmMCyAJ6Nvkw8isSUNv', 'id': '77wxmMCyAJ6Nvkw8isSUNv', 'name': 'faux kitsune', 'type': 'artist', 'uri': 'spotify:artist:77wxmMCyAJ6Nvkw8isSUNv'}], 'available_markets': ['AR', 'AU', 'AT', 'BE', 'BO', 'BR', 'BG', 'CA', 'CL', 'CO', 'CR', 'CY', 'CZ', 'DK', 'DO', 'DE', 'EC', 'EE', 'SV', 'FI', 'FR', 'GR', 'GT', 'HN', 'HK', 'HU', 'IS', 'IE', 'IT', 'LV', 'LT', 'LU', 'MY', 'MT', 'MX', 'NL', 'NZ', 'NI', 'NO', 'PA', 'PY', 'PE', 'PH', 'PL', 'PT', 'SG', 'SK', 'ES', 'SE', 'CH', 'TW', 'TR', 'UY', 'US', 'GB', 'AD', 'LI', 'MC', 'ID', 'JP', 'TH', 'VN', 'RO', 'IL', 'ZA', 'SA', 'AE', 'BH', 'QA', 'OM', 'KW', 'EG', 'MA', 'DZ', 'TN', 'LB', 'JO', 'PS', 'IN', 'BY', 'KZ', 'MD', 'UA', 'AL', 'BA', 'HR', 'ME', 'MK', 'RS', 'SI', 'KR', 'BD', 'PK', 'LK', 'GH', 'KE', 'NG', 'TZ', 'UG', 'AG', 'AM', 'BS', 'BB', 'BZ', 'BT', 'BW', 'BF', 'CV', 'CW', 'DM', 'FJ', 'GM', 'GE', 'GD', 'GW', 'GY', 'HT', 'JM', 'KI', 'LS', 'LR', 'MW', 'MV', 'ML', 'MH', 'FM', 'NA', 'NR', 'NE', 'PW', 'PG', 'PR', 'WS', 'SM', 'ST', 'SN', 'SC', 'SL', 'SB', 'KN', 'LC', 'VC', 'SR', 'TL', 'TO', 'TT', 'TV', 'VU', 'AZ', 'BN', 'BI', 'KH', 'CM', 'TD', 'KM', 'GQ', 'SZ', 'GA', 'GN', 'KG', 'LA', 'MO', 'MR', 'MN', 'NP', 'RW', 'TG', 'UZ', 'ZW', 'BJ', 'MG', 'MU', 'MZ', 'AO', 'CI', 'DJ', 'ZM', 'CD', 'CG', 'IQ', 'LY', 'TJ', 'VE', 'ET', 'XK'], 'external_urls': {'spotify': 'https://open.spotify.com/album/1Lo7F3bCn4kHzTYywmNJyY'}, 'href': 'https://api.spotify.com/v1/albums/1Lo7F3bCn4kHzTYywmNJyY', 'id': '1Lo7F3bCn4kHzTYywmNJyY', 'images': [{'height': 640, 'url': 'https://i.scdn.co/image/ab67616d0000b2736e307066491eff6206acd14c', 'width': 640}, {'height': 300, 'url': 'https://i.scdn.co/image/ab67616d00001e026e307066491eff6206acd14c', 'width': 300}, {'height': 64, 'url': 'https://i.scdn.co/image/ab67616d000048516e307066491eff6206acd14c', 'width': 64}], 'name': 'don`t go', 'release_date': '2025-01-24', 'release_date_precision': 'day', 'total_tracks': 1, 'type': 'album', 'uri': 'spotify:album:1Lo7F3bCn4kHzTYywmNJyY'}, 'artists': [{'external_urls': {'spotify': 'https://open.spotify.com/artist/77wxmMCyAJ6Nvkw8isSUNv'}, 'href': 'https://api.spotify.com/v1/artists/77wxmMCyAJ6Nvkw8isSUNv', 'id': '77wxmMCyAJ6Nvkw8isSUNv', 'name': 'faux kitsune', 'type': 'artist', 'uri': 'spotify:artist:77wxmMCyAJ6Nvkw8isSUNv'}], 'available_markets': ['AR', 'AU', 'AT', 'BE', 'BO', 'BR', 'BG', 'CA', 'CL', 'CO', 'CR', 'CY', 'CZ', 'DK', 'DO', 'DE', 'EC', 'EE', 'SV', 'FI', 'FR', 'GR', 'GT', 'HN', 'HK', 'HU', 'IS', 'IE', 'IT', 'LV', 'LT', 'LU', 'MY', 'MT', 'MX', 'NL', 'NZ', 'NI', 'NO', 'PA', 'PY', 'PE', 'PH', 'PL', 'PT', 'SG', 'SK', 'ES', 'SE', 'CH', 'TW', 'TR', 'UY', 'US', 'GB', 'AD', 'LI', 'MC', 'ID', 'JP', 'TH', 'VN', 'RO', 'IL', 'ZA', 'SA', 'AE', 'BH', 'QA', 'OM', 'KW', 'EG', 'MA', 'DZ', 'TN', 'LB', 'JO', 'PS', 'IN', 'BY', 'KZ', 'MD', 'UA', 'AL', 'BA', 'HR', 'ME', 'MK', 'RS', 'SI', 'KR', 'BD', 'PK', 'LK', 'GH', 'KE', 'NG', 'TZ', 'UG', 'AG', 'AM', 'BS', 'BB', 'BZ', 'BT', 'BW', 'BF', 'CV', 'CW', 'DM', 'FJ', 'GM', 'GE', 'GD', 'GW', 'GY', 'HT', 'JM', 'KI', 'LS', 'LR', 'MW', 'MV', 'ML', 'MH', 'FM', 'NA', 'NR', 'NE', 'PW', 'PG', 'PR', 'WS', 'SM', 'ST', 'SN', 'SC', 'SL', 'SB', 'KN', 'LC', 'VC', 'SR', 'TL', 'TO', 'TT', 'TV', 'VU', 'AZ', 'BN', 'BI', 'KH', 'CM', 'TD', 'KM', 'GQ', 'SZ', 'GA', 'GN', 'KG', 'LA', 'MO', 'MR', 'MN', 'NP', 'RW', 'TG', 'UZ', 'ZW', 'BJ', 'MG', 'MU', 'MZ', 'AO', 'CI', 'DJ', 'ZM', 'CD', 'CG', 'IQ', 'LY', 'TJ', 'VE', 'ET', 'XK'], 'disc_number': 1, 'duration_ms': 130291, 'explicit': False, 'external_ids': {'isrc': 'SEXGF2500107'}, 'external_urls': {'spotify': 'https://open.spotify.com/track/2J8z3PEgZDhBf2pkXyCvXO'}, 'href': 'https://api.spotify.com/v1/tracks/2J8z3PEgZDhBf2pkXyCvXO', 'id': '2J8z3PEgZDhBf2pkXyCvXO', 'is_local': False, 'name': 'don`t go', 'popularity': 49, 'preview_url': None, 'track_number': 1, 'type': 'track', 'uri': 'spotify:track:2J8z3PEgZDhBf2pkXyCvXO'}, 'played_at': '2025-10-26T15:28:09.057Z', 'context': {'external_urls': {'spotify': 'https://open.spotify.com/playlist/37i9dQZF1DWZZbwlv3Vmtr'}, 'href': 'https://api.spotify.com/v1/playlists/37i9dQZF1DWZZbwlv3Vmtr', 'type': 'playlist', 'uri': 'spotify:playlist:37i9dQZF1DWZZbwlv3Vmtr'}}",
         "{'ingested_at': '2025-10-26T15:28:09.057Z', 'execution_date': '2025-10-26T00:00:00+00:00', 'dag_id': 'spotify_raw_ingestion_jsonl', 'run_id': 'manual__2025-10-26T15:28:09.057000Z', 'source': 'spotify_api'}"
        ],
        [
         "8",
         "{'track': {'album': {'album_type': 'single', 'artists': [{'external_urls': {'spotify': 'https://open.spotify.com/artist/1KWvzy2ks6bKSBD3rMj5yk'}, 'href': 'https://api.spotify.com/v1/artists/1KWvzy2ks6bKSBD3rMj5yk', 'id': '1KWvzy2ks6bKSBD3rMj5yk', 'name': 'Lab Progression', 'type': 'artist', 'uri': 'spotify:artist:1KWvzy2ks6bKSBD3rMj5yk'}, {'external_urls': {'spotify': 'https://open.spotify.com/artist/1dYfhrPxJSeCJp8gGwN4qo'}, 'href': 'https://api.spotify.com/v1/artists/1dYfhrPxJSeCJp8gGwN4qo', 'id': '1dYfhrPxJSeCJp8gGwN4qo', 'name': 'Midan', 'type': 'artist', 'uri': 'spotify:artist:1dYfhrPxJSeCJp8gGwN4qo'}, {'external_urls': {'spotify': 'https://open.spotify.com/artist/46TWlcFSSZbWiB9k9n0P8o'}, 'href': 'https://api.spotify.com/v1/artists/46TWlcFSSZbWiB9k9n0P8o', 'id': '46TWlcFSSZbWiB9k9n0P8o', 'name': 'Jammin Berries', 'type': 'artist', 'uri': 'spotify:artist:46TWlcFSSZbWiB9k9n0P8o'}], 'available_markets': ['AR', 'AU', 'AT', 'BE', 'BO', 'BR', 'BG', 'CA', 'CL', 'CO', 'CR', 'CY', 'CZ', 'DK', 'DO', 'DE', 'EC', 'EE', 'SV', 'FI', 'FR', 'GR', 'GT', 'HN', 'HK', 'HU', 'IS', 'IE', 'IT', 'LV', 'LT', 'LU', 'MY', 'MT', 'MX', 'NL', 'NZ', 'NI', 'NO', 'PA', 'PY', 'PE', 'PH', 'PL', 'PT', 'SG', 'SK', 'ES', 'SE', 'CH', 'TW', 'TR', 'UY', 'US', 'GB', 'AD', 'LI', 'MC', 'ID', 'JP', 'TH', 'VN', 'RO', 'IL', 'ZA', 'SA', 'AE', 'BH', 'QA', 'OM', 'KW', 'EG', 'MA', 'DZ', 'TN', 'LB', 'JO', 'PS', 'IN', 'BY', 'KZ', 'MD', 'UA', 'AL', 'BA', 'HR', 'ME', 'MK', 'RS', 'SI', 'KR', 'BD', 'PK', 'LK', 'GH', 'KE', 'NG', 'TZ', 'UG', 'AG', 'AM', 'BS', 'BB', 'BZ', 'BT', 'BW', 'BF', 'CV', 'CW', 'DM', 'FJ', 'GM', 'GE', 'GD', 'GW', 'GY', 'HT', 'JM', 'KI', 'LS', 'LR', 'MW', 'MV', 'ML', 'MH', 'FM', 'NA', 'NR', 'NE', 'PW', 'PG', 'PR', 'WS', 'SM', 'ST', 'SN', 'SC', 'SL', 'SB', 'KN', 'LC', 'VC', 'SR', 'TL', 'TO', 'TT', 'TV', 'VU', 'AZ', 'BN', 'BI', 'KH', 'CM', 'TD', 'KM', 'GQ', 'SZ', 'GA', 'GN', 'KG', 'LA', 'MO', 'MR', 'MN', 'NP', 'RW', 'TG', 'UZ', 'ZW', 'BJ', 'MG', 'MU', 'MZ', 'AO', 'CI', 'DJ', 'ZM', 'CD', 'CG', 'IQ', 'LY', 'TJ', 'VE', 'ET', 'XK'], 'external_urls': {'spotify': 'https://open.spotify.com/album/3pU2zQiCSXTLKpUY1sU3oa'}, 'href': 'https://api.spotify.com/v1/albums/3pU2zQiCSXTLKpUY1sU3oa', 'id': '3pU2zQiCSXTLKpUY1sU3oa', 'images': [{'height': 640, 'url': 'https://i.scdn.co/image/ab67616d0000b273018f32a8e895bbd7487f48c2', 'width': 640}, {'height': 300, 'url': 'https://i.scdn.co/image/ab67616d00001e02018f32a8e895bbd7487f48c2', 'width': 300}, {'height': 64, 'url': 'https://i.scdn.co/image/ab67616d00004851018f32a8e895bbd7487f48c2', 'width': 64}], 'name': \"Yesterday's Tomorrow\", 'release_date': '2023-09-22', 'release_date_precision': 'day', 'total_tracks': 1, 'type': 'album', 'uri': 'spotify:album:3pU2zQiCSXTLKpUY1sU3oa'}, 'artists': [{'external_urls': {'spotify': 'https://open.spotify.com/artist/1KWvzy2ks6bKSBD3rMj5yk'}, 'href': 'https://api.spotify.com/v1/artists/1KWvzy2ks6bKSBD3rMj5yk', 'id': '1KWvzy2ks6bKSBD3rMj5yk', 'name': 'Lab Progression', 'type': 'artist', 'uri': 'spotify:artist:1KWvzy2ks6bKSBD3rMj5yk'}, {'external_urls': {'spotify': 'https://open.spotify.com/artist/1dYfhrPxJSeCJp8gGwN4qo'}, 'href': 'https://api.spotify.com/v1/artists/1dYfhrPxJSeCJp8gGwN4qo', 'id': '1dYfhrPxJSeCJp8gGwN4qo', 'name': 'Midan', 'type': 'artist', 'uri': 'spotify:artist:1dYfhrPxJSeCJp8gGwN4qo'}, {'external_urls': {'spotify': 'https://open.spotify.com/artist/46TWlcFSSZbWiB9k9n0P8o'}, 'href': 'https://api.spotify.com/v1/artists/46TWlcFSSZbWiB9k9n0P8o', 'id': '46TWlcFSSZbWiB9k9n0P8o', 'name': 'Jammin Berries', 'type': 'artist', 'uri': 'spotify:artist:46TWlcFSSZbWiB9k9n0P8o'}], 'available_markets': ['AR', 'AU', 'AT', 'BE', 'BO', 'BR', 'BG', 'CA', 'CL', 'CO', 'CR', 'CY', 'CZ', 'DK', 'DO', 'DE', 'EC', 'EE', 'SV', 'FI', 'FR', 'GR', 'GT', 'HN', 'HK', 'HU', 'IS', 'IE', 'IT', 'LV', 'LT', 'LU', 'MY', 'MT', 'MX', 'NL', 'NZ', 'NI', 'NO', 'PA', 'PY', 'PE', 'PH', 'PL', 'PT', 'SG', 'SK', 'ES', 'SE', 'CH', 'TW', 'TR', 'UY', 'US', 'GB', 'AD', 'LI', 'MC', 'ID', 'JP', 'TH', 'VN', 'RO', 'IL', 'ZA', 'SA', 'AE', 'BH', 'QA', 'OM', 'KW', 'EG', 'MA', 'DZ', 'TN', 'LB', 'JO', 'PS', 'IN', 'BY', 'KZ', 'MD', 'UA', 'AL', 'BA', 'HR', 'ME', 'MK', 'RS', 'SI', 'KR', 'BD', 'PK', 'LK', 'GH', 'KE', 'NG', 'TZ', 'UG', 'AG', 'AM', 'BS', 'BB', 'BZ', 'BT', 'BW', 'BF', 'CV', 'CW', 'DM', 'FJ', 'GM', 'GE', 'GD', 'GW', 'GY', 'HT', 'JM', 'KI', 'LS', 'LR', 'MW', 'MV', 'ML', 'MH', 'FM', 'NA', 'NR', 'NE', 'PW', 'PG', 'PR', 'WS', 'SM', 'ST', 'SN', 'SC', 'SL', 'SB', 'KN', 'LC', 'VC', 'SR', 'TL', 'TO', 'TT', 'TV', 'VU', 'AZ', 'BN', 'BI', 'KH', 'CM', 'TD', 'KM', 'GQ', 'SZ', 'GA', 'GN', 'KG', 'LA', 'MO', 'MR', 'MN', 'NP', 'RW', 'TG', 'UZ', 'ZW', 'BJ', 'MG', 'MU', 'MZ', 'AO', 'CI', 'DJ', 'ZM', 'CD', 'CG', 'IQ', 'LY', 'TJ', 'VE', 'ET', 'XK'], 'disc_number': 1, 'duration_ms': 140432, 'explicit': False, 'external_ids': {'isrc': 'QM6P42375193'}, 'external_urls': {'spotify': 'https://open.spotify.com/track/7D2wp7jItC0PNJMp3fvDZm'}, 'href': 'https://api.spotify.com/v1/tracks/7D2wp7jItC0PNJMp3fvDZm', 'id': '7D2wp7jItC0PNJMp3fvDZm', 'is_local': False, 'name': \"Yesterday's Tomorrow\", 'popularity': 50, 'preview_url': None, 'track_number': 1, 'type': 'track', 'uri': 'spotify:track:7D2wp7jItC0PNJMp3fvDZm'}, 'played_at': '2025-10-26T15:26:26.690Z', 'context': {'external_urls': {'spotify': 'https://open.spotify.com/playlist/37i9dQZF1DWZZbwlv3Vmtr'}, 'href': 'https://api.spotify.com/v1/playlists/37i9dQZF1DWZZbwlv3Vmtr', 'type': 'playlist', 'uri': 'spotify:playlist:37i9dQZF1DWZZbwlv3Vmtr'}}",
         "{'ingested_at': '2025-10-26T15:26:26.690Z', 'execution_date': '2025-10-26T00:00:00+00:00', 'dag_id': 'spotify_raw_ingestion_jsonl', 'run_id': 'manual__2025-10-26T15:26:26.690000Z', 'source': 'spotify_api'}"
        ],
        [
         "9",
         "{'track': {'album': {'album_type': 'single', 'artists': [{'external_urls': {'spotify': 'https://open.spotify.com/artist/1pcopnUDTLC87zfDfV16es'}, 'href': 'https://api.spotify.com/v1/artists/1pcopnUDTLC87zfDfV16es', 'id': '1pcopnUDTLC87zfDfV16es', 'name': 'nora haze', 'type': 'artist', 'uri': 'spotify:artist:1pcopnUDTLC87zfDfV16es'}], 'available_markets': ['AR', 'AU', 'AT', 'BE', 'BO', 'BR', 'BG', 'CA', 'CL', 'CO', 'CR', 'CY', 'CZ', 'DK', 'DO', 'DE', 'EC', 'EE', 'SV', 'FI', 'FR', 'GR', 'GT', 'HN', 'HK', 'HU', 'IS', 'IE', 'IT', 'LV', 'LT', 'LU', 'MY', 'MT', 'MX', 'NL', 'NZ', 'NI', 'NO', 'PA', 'PY', 'PE', 'PH', 'PL', 'PT', 'SG', 'SK', 'ES', 'SE', 'CH', 'TW', 'TR', 'UY', 'US', 'GB', 'AD', 'LI', 'MC', 'ID', 'JP', 'TH', 'VN', 'RO', 'IL', 'ZA', 'SA', 'AE', 'BH', 'QA', 'OM', 'KW', 'EG', 'MA', 'DZ', 'TN', 'LB', 'JO', 'PS', 'IN', 'BY', 'KZ', 'MD', 'UA', 'AL', 'BA', 'HR', 'ME', 'MK', 'RS', 'SI', 'KR', 'BD', 'PK', 'LK', 'GH', 'KE', 'NG', 'TZ', 'UG', 'AG', 'AM', 'BS', 'BB', 'BZ', 'BT', 'BW', 'BF', 'CV', 'CW', 'DM', 'FJ', 'GM', 'GE', 'GD', 'GW', 'GY', 'HT', 'JM', 'KI', 'LS', 'LR', 'MW', 'MV', 'ML', 'MH', 'FM', 'NA', 'NR', 'NE', 'PW', 'PG', 'PR', 'WS', 'SM', 'ST', 'SN', 'SC', 'SL', 'SB', 'KN', 'LC', 'VC', 'SR', 'TL', 'TO', 'TT', 'TV', 'VU', 'AZ', 'BN', 'BI', 'KH', 'CM', 'TD', 'KM', 'GQ', 'SZ', 'GA', 'GN', 'KG', 'LA', 'MO', 'MR', 'MN', 'NP', 'RW', 'TG', 'UZ', 'ZW', 'BJ', 'MG', 'MU', 'MZ', 'AO', 'CI', 'DJ', 'ZM', 'CD', 'CG', 'IQ', 'LY', 'TJ', 'VE', 'ET', 'XK'], 'external_urls': {'spotify': 'https://open.spotify.com/album/3EhNEOMhyAweUU6beirfnQ'}, 'href': 'https://api.spotify.com/v1/albums/3EhNEOMhyAweUU6beirfnQ', 'id': '3EhNEOMhyAweUU6beirfnQ', 'images': [{'height': 640, 'url': 'https://i.scdn.co/image/ab67616d0000b273c1d2bc062deec4de76f80ab3', 'width': 640}, {'height': 300, 'url': 'https://i.scdn.co/image/ab67616d00001e02c1d2bc062deec4de76f80ab3', 'width': 300}, {'height': 64, 'url': 'https://i.scdn.co/image/ab67616d00004851c1d2bc062deec4de76f80ab3', 'width': 64}], 'name': 'So Very Much', 'release_date': '2024-10-04', 'release_date_precision': 'day', 'total_tracks': 1, 'type': 'album', 'uri': 'spotify:album:3EhNEOMhyAweUU6beirfnQ'}, 'artists': [{'external_urls': {'spotify': 'https://open.spotify.com/artist/1pcopnUDTLC87zfDfV16es'}, 'href': 'https://api.spotify.com/v1/artists/1pcopnUDTLC87zfDfV16es', 'id': '1pcopnUDTLC87zfDfV16es', 'name': 'nora haze', 'type': 'artist', 'uri': 'spotify:artist:1pcopnUDTLC87zfDfV16es'}], 'available_markets': ['AR', 'AU', 'AT', 'BE', 'BO', 'BR', 'BG', 'CA', 'CL', 'CO', 'CR', 'CY', 'CZ', 'DK', 'DO', 'DE', 'EC', 'EE', 'SV', 'FI', 'FR', 'GR', 'GT', 'HN', 'HK', 'HU', 'IS', 'IE', 'IT', 'LV', 'LT', 'LU', 'MY', 'MT', 'MX', 'NL', 'NZ', 'NI', 'NO', 'PA', 'PY', 'PE', 'PH', 'PL', 'PT', 'SG', 'SK', 'ES', 'SE', 'CH', 'TW', 'TR', 'UY', 'US', 'GB', 'AD', 'LI', 'MC', 'ID', 'JP', 'TH', 'VN', 'RO', 'IL', 'ZA', 'SA', 'AE', 'BH', 'QA', 'OM', 'KW', 'EG', 'MA', 'DZ', 'TN', 'LB', 'JO', 'PS', 'IN', 'BY', 'KZ', 'MD', 'UA', 'AL', 'BA', 'HR', 'ME', 'MK', 'RS', 'SI', 'KR', 'BD', 'PK', 'LK', 'GH', 'KE', 'NG', 'TZ', 'UG', 'AG', 'AM', 'BS', 'BB', 'BZ', 'BT', 'BW', 'BF', 'CV', 'CW', 'DM', 'FJ', 'GM', 'GE', 'GD', 'GW', 'GY', 'HT', 'JM', 'KI', 'LS', 'LR', 'MW', 'MV', 'ML', 'MH', 'FM', 'NA', 'NR', 'NE', 'PW', 'PG', 'PR', 'WS', 'SM', 'ST', 'SN', 'SC', 'SL', 'SB', 'KN', 'LC', 'VC', 'SR', 'TL', 'TO', 'TT', 'TV', 'VU', 'AZ', 'BN', 'BI', 'KH', 'CM', 'TD', 'KM', 'GQ', 'SZ', 'GA', 'GN', 'KG', 'LA', 'MO', 'MR', 'MN', 'NP', 'RW', 'TG', 'UZ', 'ZW', 'BJ', 'MG', 'MU', 'MZ', 'AO', 'CI', 'DJ', 'ZM', 'CD', 'CG', 'IQ', 'LY', 'TJ', 'VE', 'ET', 'XK'], 'disc_number': 1, 'duration_ms': 125624, 'explicit': False, 'external_ids': {'isrc': 'SE7DX2406515'}, 'external_urls': {'spotify': 'https://open.spotify.com/track/5dN8phxVcvz7BAIMuI4wqv'}, 'href': 'https://api.spotify.com/v1/tracks/5dN8phxVcvz7BAIMuI4wqv', 'id': '5dN8phxVcvz7BAIMuI4wqv', 'is_local': False, 'name': 'So Very Much', 'popularity': 59, 'preview_url': None, 'track_number': 1, 'type': 'track', 'uri': 'spotify:track:5dN8phxVcvz7BAIMuI4wqv'}, 'played_at': '2025-10-26T15:24:23.493Z', 'context': {'external_urls': {'spotify': 'https://open.spotify.com/playlist/37i9dQZF1DWZZbwlv3Vmtr'}, 'href': 'https://api.spotify.com/v1/playlists/37i9dQZF1DWZZbwlv3Vmtr', 'type': 'playlist', 'uri': 'spotify:playlist:37i9dQZF1DWZZbwlv3Vmtr'}}",
         "{'ingested_at': '2025-10-26T15:24:23.493Z', 'execution_date': '2025-10-26T00:00:00+00:00', 'dag_id': 'spotify_raw_ingestion_jsonl', 'run_id': 'manual__2025-10-26T15:24:23.493000Z', 'source': 'spotify_api'}"
        ],
        [
         "10",
         "{'track': {'album': {'album_type': 'single', 'artists': [{'external_urls': {'spotify': 'https://open.spotify.com/artist/6ZVFQS79wada5T9YGOqqfq'}, 'href': 'https://api.spotify.com/v1/artists/6ZVFQS79wada5T9YGOqqfq', 'id': '6ZVFQS79wada5T9YGOqqfq', 'name': 'olbejom', 'type': 'artist', 'uri': 'spotify:artist:6ZVFQS79wada5T9YGOqqfq'}], 'available_markets': ['AR', 'AU', 'AT', 'BE', 'BO', 'BR', 'BG', 'CA', 'CL', 'CO', 'CR', 'CY', 'CZ', 'DK', 'DO', 'DE', 'EC', 'EE', 'SV', 'FI', 'FR', 'GR', 'GT', 'HN', 'HK', 'HU', 'IS', 'IE', 'IT', 'LV', 'LT', 'LU', 'MY', 'MT', 'MX', 'NL', 'NZ', 'NI', 'NO', 'PA', 'PY', 'PE', 'PH', 'PL', 'PT', 'SG', 'SK', 'ES', 'SE', 'CH', 'TW', 'TR', 'UY', 'US', 'GB', 'AD', 'LI', 'MC', 'ID', 'JP', 'TH', 'VN', 'RO', 'IL', 'ZA', 'SA', 'AE', 'BH', 'QA', 'OM', 'KW', 'EG', 'MA', 'DZ', 'TN', 'LB', 'JO', 'PS', 'IN', 'BY', 'KZ', 'MD', 'UA', 'AL', 'BA', 'HR', 'ME', 'MK', 'RS', 'SI', 'KR', 'BD', 'PK', 'LK', 'GH', 'KE', 'NG', 'TZ', 'UG', 'AG', 'AM', 'BS', 'BB', 'BZ', 'BT', 'BW', 'BF', 'CV', 'CW', 'DM', 'FJ', 'GM', 'GE', 'GD', 'GW', 'GY', 'HT', 'JM', 'KI', 'LS', 'LR', 'MW', 'MV', 'ML', 'MH', 'FM', 'NA', 'NR', 'NE', 'PW', 'PG', 'PR', 'WS', 'SM', 'ST', 'SN', 'SC', 'SL', 'SB', 'KN', 'LC', 'VC', 'SR', 'TL', 'TO', 'TT', 'TV', 'VU', 'AZ', 'BN', 'BI', 'KH', 'CM', 'TD', 'KM', 'GQ', 'SZ', 'GA', 'GN', 'KG', 'LA', 'MO', 'MR', 'MN', 'NP', 'RW', 'TG', 'UZ', 'ZW', 'BJ', 'MG', 'MU', 'MZ', 'AO', 'CI', 'DJ', 'ZM', 'CD', 'CG', 'IQ', 'LY', 'TJ', 'VE', 'ET', 'XK'], 'external_urls': {'spotify': 'https://open.spotify.com/album/1wep5cvBwgCQlWZJYtqUEU'}, 'href': 'https://api.spotify.com/v1/albums/1wep5cvBwgCQlWZJYtqUEU', 'id': '1wep5cvBwgCQlWZJYtqUEU', 'images': [{'height': 640, 'url': 'https://i.scdn.co/image/ab67616d0000b273c557e76d45cdf48d8938daf1', 'width': 640}, {'height': 300, 'url': 'https://i.scdn.co/image/ab67616d00001e02c557e76d45cdf48d8938daf1', 'width': 300}, {'height': 64, 'url': 'https://i.scdn.co/image/ab67616d00004851c557e76d45cdf48d8938daf1', 'width': 64}], 'name': 'Buck Stop', 'release_date': '2024-03-08', 'release_date_precision': 'day', 'total_tracks': 1, 'type': 'album', 'uri': 'spotify:album:1wep5cvBwgCQlWZJYtqUEU'}, 'artists': [{'external_urls': {'spotify': 'https://open.spotify.com/artist/6ZVFQS79wada5T9YGOqqfq'}, 'href': 'https://api.spotify.com/v1/artists/6ZVFQS79wada5T9YGOqqfq', 'id': '6ZVFQS79wada5T9YGOqqfq', 'name': 'olbejom', 'type': 'artist', 'uri': 'spotify:artist:6ZVFQS79wada5T9YGOqqfq'}], 'available_markets': ['AR', 'AU', 'AT', 'BE', 'BO', 'BR', 'BG', 'CA', 'CL', 'CO', 'CR', 'CY', 'CZ', 'DK', 'DO', 'DE', 'EC', 'EE', 'SV', 'FI', 'FR', 'GR', 'GT', 'HN', 'HK', 'HU', 'IS', 'IE', 'IT', 'LV', 'LT', 'LU', 'MY', 'MT', 'MX', 'NL', 'NZ', 'NI', 'NO', 'PA', 'PY', 'PE', 'PH', 'PL', 'PT', 'SG', 'SK', 'ES', 'SE', 'CH', 'TW', 'TR', 'UY', 'US', 'GB', 'AD', 'LI', 'MC', 'ID', 'JP', 'TH', 'VN', 'RO', 'IL', 'ZA', 'SA', 'AE', 'BH', 'QA', 'OM', 'KW', 'EG', 'MA', 'DZ', 'TN', 'LB', 'JO', 'PS', 'IN', 'BY', 'KZ', 'MD', 'UA', 'AL', 'BA', 'HR', 'ME', 'MK', 'RS', 'SI', 'KR', 'BD', 'PK', 'LK', 'GH', 'KE', 'NG', 'TZ', 'UG', 'AG', 'AM', 'BS', 'BB', 'BZ', 'BT', 'BW', 'BF', 'CV', 'CW', 'DM', 'FJ', 'GM', 'GE', 'GD', 'GW', 'GY', 'HT', 'JM', 'KI', 'LS', 'LR', 'MW', 'MV', 'ML', 'MH', 'FM', 'NA', 'NR', 'NE', 'PW', 'PG', 'PR', 'WS', 'SM', 'ST', 'SN', 'SC', 'SL', 'SB', 'KN', 'LC', 'VC', 'SR', 'TL', 'TO', 'TT', 'TV', 'VU', 'AZ', 'BN', 'BI', 'KH', 'CM', 'TD', 'KM', 'GQ', 'SZ', 'GA', 'GN', 'KG', 'LA', 'MO', 'MR', 'MN', 'NP', 'RW', 'TG', 'UZ', 'ZW', 'BJ', 'MG', 'MU', 'MZ', 'AO', 'CI', 'DJ', 'ZM', 'CD', 'CG', 'IQ', 'LY', 'TJ', 'VE', 'ET', 'XK'], 'disc_number': 1, 'duration_ms': 141939, 'explicit': False, 'external_ids': {'isrc': 'SE5IB2400183'}, 'external_urls': {'spotify': 'https://open.spotify.com/track/59pbhakI7VpgKLB3J9r7gO'}, 'href': 'https://api.spotify.com/v1/tracks/59pbhakI7VpgKLB3J9r7gO', 'id': '59pbhakI7VpgKLB3J9r7gO', 'is_local': False, 'name': 'Buck Stop', 'popularity': 50, 'preview_url': None, 'track_number': 1, 'type': 'track', 'uri': 'spotify:track:59pbhakI7VpgKLB3J9r7gO'}, 'played_at': '2025-10-26T15:22:47.355Z', 'context': {'external_urls': {'spotify': 'https://open.spotify.com/playlist/37i9dQZF1DWZZbwlv3Vmtr'}, 'href': 'https://api.spotify.com/v1/playlists/37i9dQZF1DWZZbwlv3Vmtr', 'type': 'playlist', 'uri': 'spotify:playlist:37i9dQZF1DWZZbwlv3Vmtr'}}",
         "{'ingested_at': '2025-10-26T15:22:47.355Z', 'execution_date': '2025-10-26T00:00:00+00:00', 'dag_id': 'spotify_raw_ingestion_jsonl', 'run_id': 'manual__2025-10-26T15:22:47.355000Z', 'source': 'spotify_api'}"
        ],
        [
         "11",
         "{'track': {'album': {'album_type': 'single', 'artists': [{'external_urls': {'spotify': 'https://open.spotify.com/artist/7bsFDdgLDm7RwRNPQhbq5q'}, 'href': 'https://api.spotify.com/v1/artists/7bsFDdgLDm7RwRNPQhbq5q', 'id': '7bsFDdgLDm7RwRNPQhbq5q', 'name': 'Poof Tricks', 'type': 'artist', 'uri': 'spotify:artist:7bsFDdgLDm7RwRNPQhbq5q'}], 'available_markets': ['AR', 'AU', 'AT', 'BE', 'BO', 'BR', 'BG', 'CA', 'CL', 'CO', 'CR', 'CY', 'CZ', 'DK', 'DO', 'DE', 'EC', 'EE', 'SV', 'FI', 'FR', 'GR', 'GT', 'HN', 'HK', 'HU', 'IS', 'IE', 'IT', 'LV', 'LT', 'LU', 'MY', 'MT', 'MX', 'NL', 'NZ', 'NI', 'NO', 'PA', 'PY', 'PE', 'PH', 'PL', 'PT', 'SG', 'SK', 'ES', 'SE', 'CH', 'TW', 'TR', 'UY', 'US', 'GB', 'AD', 'LI', 'MC', 'ID', 'JP', 'TH', 'VN', 'RO', 'IL', 'ZA', 'SA', 'AE', 'BH', 'QA', 'OM', 'KW', 'EG', 'MA', 'DZ', 'TN', 'LB', 'JO', 'PS', 'IN', 'BY', 'KZ', 'MD', 'UA', 'AL', 'BA', 'HR', 'ME', 'MK', 'RS', 'SI', 'KR', 'BD', 'PK', 'LK', 'GH', 'KE', 'NG', 'TZ', 'UG', 'AG', 'AM', 'BS', 'BB', 'BZ', 'BT', 'BW', 'BF', 'CV', 'CW', 'DM', 'FJ', 'GM', 'GE', 'GD', 'GW', 'GY', 'HT', 'JM', 'KI', 'LS', 'LR', 'MW', 'MV', 'ML', 'MH', 'FM', 'NA', 'NR', 'NE', 'PW', 'PG', 'PR', 'WS', 'SM', 'ST', 'SN', 'SC', 'SL', 'SB', 'KN', 'LC', 'VC', 'SR', 'TL', 'TO', 'TT', 'TV', 'VU', 'AZ', 'BN', 'BI', 'KH', 'CM', 'TD', 'KM', 'GQ', 'SZ', 'GA', 'GN', 'KG', 'LA', 'MO', 'MR', 'MN', 'NP', 'RW', 'TG', 'UZ', 'ZW', 'BJ', 'MG', 'MU', 'MZ', 'AO', 'CI', 'DJ', 'ZM', 'CD', 'CG', 'IQ', 'LY', 'TJ', 'VE', 'ET', 'XK'], 'external_urls': {'spotify': 'https://open.spotify.com/album/1yvMQPDOZUWcojv5pk8133'}, 'href': 'https://api.spotify.com/v1/albums/1yvMQPDOZUWcojv5pk8133', 'id': '1yvMQPDOZUWcojv5pk8133', 'images': [{'height': 640, 'url': 'https://i.scdn.co/image/ab67616d0000b273a808befbc30ef085a20c82e3', 'width': 640}, {'height': 300, 'url': 'https://i.scdn.co/image/ab67616d00001e02a808befbc30ef085a20c82e3', 'width': 300}, {'height': 64, 'url': 'https://i.scdn.co/image/ab67616d00004851a808befbc30ef085a20c82e3', 'width': 64}], 'name': 'Flow State', 'release_date': '2023-11-06', 'release_date_precision': 'day', 'total_tracks': 1, 'type': 'album', 'uri': 'spotify:album:1yvMQPDOZUWcojv5pk8133'}, 'artists': [{'external_urls': {'spotify': 'https://open.spotify.com/artist/7bsFDdgLDm7RwRNPQhbq5q'}, 'href': 'https://api.spotify.com/v1/artists/7bsFDdgLDm7RwRNPQhbq5q', 'id': '7bsFDdgLDm7RwRNPQhbq5q', 'name': 'Poof Tricks', 'type': 'artist', 'uri': 'spotify:artist:7bsFDdgLDm7RwRNPQhbq5q'}], 'available_markets': ['AR', 'AU', 'AT', 'BE', 'BO', 'BR', 'BG', 'CA', 'CL', 'CO', 'CR', 'CY', 'CZ', 'DK', 'DO', 'DE', 'EC', 'EE', 'SV', 'FI', 'FR', 'GR', 'GT', 'HN', 'HK', 'HU', 'IS', 'IE', 'IT', 'LV', 'LT', 'LU', 'MY', 'MT', 'MX', 'NL', 'NZ', 'NI', 'NO', 'PA', 'PY', 'PE', 'PH', 'PL', 'PT', 'SG', 'SK', 'ES', 'SE', 'CH', 'TW', 'TR', 'UY', 'US', 'GB', 'AD', 'LI', 'MC', 'ID', 'JP', 'TH', 'VN', 'RO', 'IL', 'ZA', 'SA', 'AE', 'BH', 'QA', 'OM', 'KW', 'EG', 'MA', 'DZ', 'TN', 'LB', 'JO', 'PS', 'IN', 'BY', 'KZ', 'MD', 'UA', 'AL', 'BA', 'HR', 'ME', 'MK', 'RS', 'SI', 'KR', 'BD', 'PK', 'LK', 'GH', 'KE', 'NG', 'TZ', 'UG', 'AG', 'AM', 'BS', 'BB', 'BZ', 'BT', 'BW', 'BF', 'CV', 'CW', 'DM', 'FJ', 'GM', 'GE', 'GD', 'GW', 'GY', 'HT', 'JM', 'KI', 'LS', 'LR', 'MW', 'MV', 'ML', 'MH', 'FM', 'NA', 'NR', 'NE', 'PW', 'PG', 'PR', 'WS', 'SM', 'ST', 'SN', 'SC', 'SL', 'SB', 'KN', 'LC', 'VC', 'SR', 'TL', 'TO', 'TT', 'TV', 'VU', 'AZ', 'BN', 'BI', 'KH', 'CM', 'TD', 'KM', 'GQ', 'SZ', 'GA', 'GN', 'KG', 'LA', 'MO', 'MR', 'MN', 'NP', 'RW', 'TG', 'UZ', 'ZW', 'BJ', 'MG', 'MU', 'MZ', 'AO', 'CI', 'DJ', 'ZM', 'CD', 'CG', 'IQ', 'LY', 'TJ', 'VE', 'ET', 'XK'], 'disc_number': 1, 'duration_ms': 158297, 'explicit': False, 'external_ids': {'isrc': 'QZAKB2358847'}, 'external_urls': {'spotify': 'https://open.spotify.com/track/71XyPCA7lYpu2IH6OVGlvr'}, 'href': 'https://api.spotify.com/v1/tracks/71XyPCA7lYpu2IH6OVGlvr', 'id': '71XyPCA7lYpu2IH6OVGlvr', 'is_local': False, 'name': 'Flow State', 'popularity': 52, 'preview_url': None, 'track_number': 1, 'type': 'track', 'uri': 'spotify:track:71XyPCA7lYpu2IH6OVGlvr'}, 'played_at': '2025-10-26T15:20:51.524Z', 'context': {'external_urls': {'spotify': 'https://open.spotify.com/playlist/37i9dQZF1DWZZbwlv3Vmtr'}, 'href': 'https://api.spotify.com/v1/playlists/37i9dQZF1DWZZbwlv3Vmtr', 'type': 'playlist', 'uri': 'spotify:playlist:37i9dQZF1DWZZbwlv3Vmtr'}}",
         "{'ingested_at': '2025-10-26T15:20:51.524Z', 'execution_date': '2025-10-26T00:00:00+00:00', 'dag_id': 'spotify_raw_ingestion_jsonl', 'run_id': 'manual__2025-10-26T15:20:51.524000Z', 'source': 'spotify_api'}"
        ],
        [
         "12",
         "{'track': {'album': {'album_type': 'single', 'artists': [{'external_urls': {'spotify': 'https://open.spotify.com/artist/06va0DUwCMldLprkelDwcA'}, 'href': 'https://api.spotify.com/v1/artists/06va0DUwCMldLprkelDwcA', 'id': '06va0DUwCMldLprkelDwcA', 'name': 'Guzimi', 'type': 'artist', 'uri': 'spotify:artist:06va0DUwCMldLprkelDwcA'}], 'available_markets': ['AR', 'AU', 'AT', 'BE', 'BO', 'BR', 'BG', 'CA', 'CL', 'CO', 'CR', 'CY', 'CZ', 'DK', 'DO', 'DE', 'EC', 'EE', 'SV', 'FI', 'FR', 'GR', 'GT', 'HN', 'HK', 'HU', 'IS', 'IE', 'IT', 'LV', 'LT', 'LU', 'MY', 'MT', 'MX', 'NL', 'NZ', 'NI', 'NO', 'PA', 'PY', 'PE', 'PH', 'PL', 'PT', 'SG', 'SK', 'ES', 'SE', 'CH', 'TW', 'TR', 'UY', 'US', 'GB', 'AD', 'LI', 'MC', 'ID', 'JP', 'TH', 'VN', 'RO', 'IL', 'ZA', 'SA', 'AE', 'BH', 'QA', 'OM', 'KW', 'EG', 'MA', 'DZ', 'TN', 'LB', 'JO', 'PS', 'IN', 'BY', 'KZ', 'MD', 'UA', 'AL', 'BA', 'HR', 'ME', 'MK', 'RS', 'SI', 'KR', 'BD', 'PK', 'LK', 'GH', 'KE', 'NG', 'TZ', 'UG', 'AG', 'AM', 'BS', 'BB', 'BZ', 'BT', 'BW', 'BF', 'CV', 'CW', 'DM', 'FJ', 'GM', 'GE', 'GD', 'GW', 'GY', 'HT', 'JM', 'KI', 'LS', 'LR', 'MW', 'MV', 'ML', 'MH', 'FM', 'NA', 'NR', 'NE', 'PW', 'PG', 'PR', 'WS', 'SM', 'ST', 'SN', 'SC', 'SL', 'SB', 'KN', 'LC', 'VC', 'SR', 'TL', 'TO', 'TT', 'TV', 'VU', 'AZ', 'BN', 'BI', 'KH', 'CM', 'TD', 'KM', 'GQ', 'SZ', 'GA', 'GN', 'KG', 'LA', 'MO', 'MR', 'MN', 'NP', 'RW', 'TG', 'UZ', 'ZW', 'BJ', 'MG', 'MU', 'MZ', 'AO', 'CI', 'DJ', 'ZM', 'CD', 'CG', 'IQ', 'LY', 'TJ', 'VE', 'ET', 'XK'], 'external_urls': {'spotify': 'https://open.spotify.com/album/5MzQlwh1NtxRXJqDElVn03'}, 'href': 'https://api.spotify.com/v1/albums/5MzQlwh1NtxRXJqDElVn03', 'id': '5MzQlwh1NtxRXJqDElVn03', 'images': [{'height': 640, 'url': 'https://i.scdn.co/image/ab67616d0000b273b48ee2174e72a711b7c006ee', 'width': 640}, {'height': 300, 'url': 'https://i.scdn.co/image/ab67616d00001e02b48ee2174e72a711b7c006ee', 'width': 300}, {'height': 64, 'url': 'https://i.scdn.co/image/ab67616d00004851b48ee2174e72a711b7c006ee', 'width': 64}], 'name': 'Playing Games', 'release_date': '2023-05-30', 'release_date_precision': 'day', 'total_tracks': 1, 'type': 'album', 'uri': 'spotify:album:5MzQlwh1NtxRXJqDElVn03'}, 'artists': [{'external_urls': {'spotify': 'https://open.spotify.com/artist/06va0DUwCMldLprkelDwcA'}, 'href': 'https://api.spotify.com/v1/artists/06va0DUwCMldLprkelDwcA', 'id': '06va0DUwCMldLprkelDwcA', 'name': 'Guzimi', 'type': 'artist', 'uri': 'spotify:artist:06va0DUwCMldLprkelDwcA'}], 'available_markets': ['AR', 'AU', 'AT', 'BE', 'BO', 'BR', 'BG', 'CA', 'CL', 'CO', 'CR', 'CY', 'CZ', 'DK', 'DO', 'DE', 'EC', 'EE', 'SV', 'FI', 'FR', 'GR', 'GT', 'HN', 'HK', 'HU', 'IS', 'IE', 'IT', 'LV', 'LT', 'LU', 'MY', 'MT', 'MX', 'NL', 'NZ', 'NI', 'NO', 'PA', 'PY', 'PE', 'PH', 'PL', 'PT', 'SG', 'SK', 'ES', 'SE', 'CH', 'TW', 'TR', 'UY', 'US', 'GB', 'AD', 'LI', 'MC', 'ID', 'JP', 'TH', 'VN', 'RO', 'IL', 'ZA', 'SA', 'AE', 'BH', 'QA', 'OM', 'KW', 'EG', 'MA', 'DZ', 'TN', 'LB', 'JO', 'PS', 'IN', 'BY', 'KZ', 'MD', 'UA', 'AL', 'BA', 'HR', 'ME', 'MK', 'RS', 'SI', 'KR', 'BD', 'PK', 'LK', 'GH', 'KE', 'NG', 'TZ', 'UG', 'AG', 'AM', 'BS', 'BB', 'BZ', 'BT', 'BW', 'BF', 'CV', 'CW', 'DM', 'FJ', 'GM', 'GE', 'GD', 'GW', 'GY', 'HT', 'JM', 'KI', 'LS', 'LR', 'MW', 'MV', 'ML', 'MH', 'FM', 'NA', 'NR', 'NE', 'PW', 'PG', 'PR', 'WS', 'SM', 'ST', 'SN', 'SC', 'SL', 'SB', 'KN', 'LC', 'VC', 'SR', 'TL', 'TO', 'TT', 'TV', 'VU', 'AZ', 'BN', 'BI', 'KH', 'CM', 'TD', 'KM', 'GQ', 'SZ', 'GA', 'GN', 'KG', 'LA', 'MO', 'MR', 'MN', 'NP', 'RW', 'TG', 'UZ', 'ZW', 'BJ', 'MG', 'MU', 'MZ', 'AO', 'CI', 'DJ', 'ZM', 'CD', 'CG', 'IQ', 'LY', 'TJ', 'VE', 'ET', 'XK'], 'disc_number': 1, 'duration_ms': 120000, 'explicit': False, 'external_ids': {'isrc': 'DEZC62332311'}, 'external_urls': {'spotify': 'https://open.spotify.com/track/3rZLUTM1d8o4htNJmllSQ6'}, 'href': 'https://api.spotify.com/v1/tracks/3rZLUTM1d8o4htNJmllSQ6', 'id': '3rZLUTM1d8o4htNJmllSQ6', 'is_local': False, 'name': 'Playing Games', 'popularity': 47, 'preview_url': None, 'track_number': 1, 'type': 'track', 'uri': 'spotify:track:3rZLUTM1d8o4htNJmllSQ6'}, 'played_at': '2025-10-26T15:18:28.582Z', 'context': {'external_urls': {'spotify': 'https://open.spotify.com/playlist/37i9dQZF1DWZZbwlv3Vmtr'}, 'href': 'https://api.spotify.com/v1/playlists/37i9dQZF1DWZZbwlv3Vmtr', 'type': 'playlist', 'uri': 'spotify:playlist:37i9dQZF1DWZZbwlv3Vmtr'}}",
         "{'ingested_at': '2025-10-26T15:18:28.582Z', 'execution_date': '2025-10-26T00:00:00+00:00', 'dag_id': 'spotify_raw_ingestion_jsonl', 'run_id': 'manual__2025-10-26T15:18:28.582000Z', 'source': 'spotify_api'}"
        ],
        [
         "13",
         "{'track': {'album': {'album_type': 'single', 'artists': [{'external_urls': {'spotify': 'https://open.spotify.com/artist/2TMzn3AIEg6b4Nd28MjUNA'}, 'href': 'https://api.spotify.com/v1/artists/2TMzn3AIEg6b4Nd28MjUNA', 'id': '2TMzn3AIEg6b4Nd28MjUNA', 'name': 'genelion', 'type': 'artist', 'uri': 'spotify:artist:2TMzn3AIEg6b4Nd28MjUNA'}], 'available_markets': ['AR', 'AU', 'AT', 'BE', 'BO', 'BR', 'BG', 'CA', 'CL', 'CO', 'CR', 'CY', 'CZ', 'DK', 'DO', 'DE', 'EC', 'EE', 'SV', 'FI', 'FR', 'GR', 'GT', 'HN', 'HK', 'HU', 'IS', 'IE', 'IT', 'LV', 'LT', 'LU', 'MY', 'MT', 'MX', 'NL', 'NZ', 'NI', 'NO', 'PA', 'PY', 'PE', 'PH', 'PL', 'PT', 'SG', 'SK', 'ES', 'SE', 'CH', 'TW', 'TR', 'UY', 'US', 'GB', 'AD', 'LI', 'MC', 'ID', 'JP', 'TH', 'VN', 'RO', 'IL', 'ZA', 'SA', 'AE', 'BH', 'QA', 'OM', 'KW', 'EG', 'MA', 'DZ', 'TN', 'LB', 'JO', 'PS', 'IN', 'BY', 'KZ', 'MD', 'UA', 'AL', 'BA', 'HR', 'ME', 'MK', 'RS', 'SI', 'KR', 'BD', 'PK', 'LK', 'GH', 'KE', 'NG', 'TZ', 'UG', 'AG', 'AM', 'BS', 'BB', 'BZ', 'BT', 'BW', 'BF', 'CV', 'CW', 'DM', 'FJ', 'GM', 'GE', 'GD', 'GW', 'GY', 'HT', 'JM', 'KI', 'LS', 'LR', 'MW', 'MV', 'ML', 'MH', 'FM', 'NA', 'NR', 'NE', 'PW', 'PG', 'PR', 'WS', 'SM', 'ST', 'SN', 'SC', 'SL', 'SB', 'KN', 'LC', 'VC', 'SR', 'TL', 'TO', 'TT', 'TV', 'VU', 'AZ', 'BN', 'BI', 'KH', 'CM', 'TD', 'KM', 'GQ', 'SZ', 'GA', 'GN', 'KG', 'LA', 'MO', 'MR', 'MN', 'NP', 'RW', 'TG', 'UZ', 'ZW', 'BJ', 'MG', 'MU', 'MZ', 'AO', 'CI', 'DJ', 'ZM', 'CD', 'CG', 'IQ', 'LY', 'TJ', 'VE', 'ET', 'XK'], 'external_urls': {'spotify': 'https://open.spotify.com/album/0BMKRF854P5D01wz9Kib5x'}, 'href': 'https://api.spotify.com/v1/albums/0BMKRF854P5D01wz9Kib5x', 'id': '0BMKRF854P5D01wz9Kib5x', 'images': [{'height': 640, 'url': 'https://i.scdn.co/image/ab67616d0000b273357c7b48a14e8f8ad670aa46', 'width': 640}, {'height': 300, 'url': 'https://i.scdn.co/image/ab67616d00001e02357c7b48a14e8f8ad670aa46', 'width': 300}, {'height': 64, 'url': 'https://i.scdn.co/image/ab67616d00004851357c7b48a14e8f8ad670aa46', 'width': 64}], 'name': 'cheek to cheek', 'release_date': '2023-03-31', 'release_date_precision': 'day', 'total_tracks': 1, 'type': 'album', 'uri': 'spotify:album:0BMKRF854P5D01wz9Kib5x'}, 'artists': [{'external_urls': {'spotify': 'https://open.spotify.com/artist/2TMzn3AIEg6b4Nd28MjUNA'}, 'href': 'https://api.spotify.com/v1/artists/2TMzn3AIEg6b4Nd28MjUNA', 'id': '2TMzn3AIEg6b4Nd28MjUNA', 'name': 'genelion', 'type': 'artist', 'uri': 'spotify:artist:2TMzn3AIEg6b4Nd28MjUNA'}], 'available_markets': ['AR', 'AU', 'AT', 'BE', 'BO', 'BR', 'BG', 'CA', 'CL', 'CO', 'CR', 'CY', 'CZ', 'DK', 'DO', 'DE', 'EC', 'EE', 'SV', 'FI', 'FR', 'GR', 'GT', 'HN', 'HK', 'HU', 'IS', 'IE', 'IT', 'LV', 'LT', 'LU', 'MY', 'MT', 'MX', 'NL', 'NZ', 'NI', 'NO', 'PA', 'PY', 'PE', 'PH', 'PL', 'PT', 'SG', 'SK', 'ES', 'SE', 'CH', 'TW', 'TR', 'UY', 'US', 'GB', 'AD', 'LI', 'MC', 'ID', 'JP', 'TH', 'VN', 'RO', 'IL', 'ZA', 'SA', 'AE', 'BH', 'QA', 'OM', 'KW', 'EG', 'MA', 'DZ', 'TN', 'LB', 'JO', 'PS', 'IN', 'BY', 'KZ', 'MD', 'UA', 'AL', 'BA', 'HR', 'ME', 'MK', 'RS', 'SI', 'KR', 'BD', 'PK', 'LK', 'GH', 'KE', 'NG', 'TZ', 'UG', 'AG', 'AM', 'BS', 'BB', 'BZ', 'BT', 'BW', 'BF', 'CV', 'CW', 'DM', 'FJ', 'GM', 'GE', 'GD', 'GW', 'GY', 'HT', 'JM', 'KI', 'LS', 'LR', 'MW', 'MV', 'ML', 'MH', 'FM', 'NA', 'NR', 'NE', 'PW', 'PG', 'PR', 'WS', 'SM', 'ST', 'SN', 'SC', 'SL', 'SB', 'KN', 'LC', 'VC', 'SR', 'TL', 'TO', 'TT', 'TV', 'VU', 'AZ', 'BN', 'BI', 'KH', 'CM', 'TD', 'KM', 'GQ', 'SZ', 'GA', 'GN', 'KG', 'LA', 'MO', 'MR', 'MN', 'NP', 'RW', 'TG', 'UZ', 'ZW', 'BJ', 'MG', 'MU', 'MZ', 'AO', 'CI', 'DJ', 'ZM', 'CD', 'CG', 'IQ', 'LY', 'TJ', 'VE', 'ET', 'XK'], 'disc_number': 1, 'duration_ms': 120000, 'explicit': False, 'external_ids': {'isrc': 'SE5IB2310751'}, 'external_urls': {'spotify': 'https://open.spotify.com/track/42wnWqsyRqvM0N0UnOCXiy'}, 'href': 'https://api.spotify.com/v1/tracks/42wnWqsyRqvM0N0UnOCXiy', 'id': '42wnWqsyRqvM0N0UnOCXiy', 'is_local': False, 'name': 'cheek to cheek', 'popularity': 47, 'preview_url': None, 'track_number': 1, 'type': 'track', 'uri': 'spotify:track:42wnWqsyRqvM0N0UnOCXiy'}, 'played_at': '2025-10-26T15:16:52.885Z', 'context': {'external_urls': {'spotify': 'https://open.spotify.com/playlist/37i9dQZF1DWZZbwlv3Vmtr'}, 'href': 'https://api.spotify.com/v1/playlists/37i9dQZF1DWZZbwlv3Vmtr', 'type': 'playlist', 'uri': 'spotify:playlist:37i9dQZF1DWZZbwlv3Vmtr'}}",
         "{'ingested_at': '2025-10-26T15:16:52.885Z', 'execution_date': '2025-10-26T00:00:00+00:00', 'dag_id': 'spotify_raw_ingestion_jsonl', 'run_id': 'manual__2025-10-26T15:16:52.885000Z', 'source': 'spotify_api'}"
        ],
        [
         "14",
         "{'track': {'album': {'album_type': 'album', 'artists': [{'external_urls': {'spotify': 'https://open.spotify.com/artist/3OW3qK7Wl9ESAGLvjVOw2h'}, 'href': 'https://api.spotify.com/v1/artists/3OW3qK7Wl9ESAGLvjVOw2h', 'id': '3OW3qK7Wl9ESAGLvjVOw2h', 'name': 'Koralle', 'type': 'artist', 'uri': 'spotify:artist:3OW3qK7Wl9ESAGLvjVOw2h'}, {'external_urls': {'spotify': 'https://open.spotify.com/artist/5dFzAFmO3MGNTFcAApR6UR'}, 'href': 'https://api.spotify.com/v1/artists/5dFzAFmO3MGNTFcAApR6UR', 'id': '5dFzAFmO3MGNTFcAApR6UR', 'name': 'Yawuh', 'type': 'artist', 'uri': 'spotify:artist:5dFzAFmO3MGNTFcAApR6UR'}], 'available_markets': ['AR', 'AU', 'AT', 'BE', 'BO', 'BR', 'BG', 'CA', 'CL', 'CO', 'CR', 'CY', 'CZ', 'DK', 'DO', 'DE', 'EC', 'EE', 'SV', 'FI', 'FR', 'GR', 'GT', 'HN', 'HK', 'HU', 'IS', 'IE', 'IT', 'LV', 'LT', 'LU', 'MY', 'MT', 'MX', 'NL', 'NZ', 'NI', 'NO', 'PA', 'PY', 'PE', 'PH', 'PL', 'PT', 'SG', 'SK', 'ES', 'SE', 'CH', 'TW', 'TR', 'UY', 'US', 'GB', 'AD', 'LI', 'MC', 'ID', 'JP', 'TH', 'VN', 'RO', 'IL', 'ZA', 'SA', 'AE', 'BH', 'QA', 'OM', 'KW', 'EG', 'MA', 'DZ', 'TN', 'LB', 'JO', 'PS', 'IN', 'BY', 'KZ', 'MD', 'UA', 'AL', 'BA', 'HR', 'ME', 'MK', 'RS', 'SI', 'KR', 'BD', 'PK', 'LK', 'GH', 'KE', 'NG', 'TZ', 'UG', 'AG', 'AM', 'BS', 'BB', 'BZ', 'BT', 'BW', 'BF', 'CV', 'CW', 'DM', 'FJ', 'GM', 'GE', 'GD', 'GW', 'GY', 'HT', 'JM', 'KI', 'LS', 'LR', 'MW', 'MV', 'ML', 'MH', 'FM', 'NA', 'NR', 'NE', 'PW', 'PG', 'PR', 'WS', 'SM', 'ST', 'SN', 'SC', 'SL', 'SB', 'KN', 'LC', 'VC', 'SR', 'TL', 'TO', 'TT', 'TV', 'VU', 'AZ', 'BN', 'BI', 'KH', 'CM', 'TD', 'KM', 'GQ', 'SZ', 'GA', 'GN', 'KG', 'LA', 'MO', 'MR', 'MN', 'NP', 'RW', 'TG', 'UZ', 'ZW', 'BJ', 'MG', 'MU', 'MZ', 'AO', 'CI', 'DJ', 'ZM', 'CD', 'CG', 'IQ', 'LY', 'TJ', 'VE', 'ET', 'XK'], 'external_urls': {'spotify': 'https://open.spotify.com/album/6m7h8tyIhHzg6gNTa84pzH'}, 'href': 'https://api.spotify.com/v1/albums/6m7h8tyIhHzg6gNTa84pzH', 'id': '6m7h8tyIhHzg6gNTa84pzH', 'images': [{'height': 640, 'url': 'https://i.scdn.co/image/ab67616d0000b27368db71338fc71422473fe63e', 'width': 640}, {'height': 300, 'url': 'https://i.scdn.co/image/ab67616d00001e0268db71338fc71422473fe63e', 'width': 300}, {'height': 64, 'url': 'https://i.scdn.co/image/ab67616d0000485168db71338fc71422473fe63e', 'width': 64}], 'name': 'Primo Quarto', 'release_date': '2025-10-24', 'release_date_precision': 'day', 'total_tracks': 13, 'type': 'album', 'uri': 'spotify:album:6m7h8tyIhHzg6gNTa84pzH'}, 'artists': [{'external_urls': {'spotify': 'https://open.spotify.com/artist/3OW3qK7Wl9ESAGLvjVOw2h'}, 'href': 'https://api.spotify.com/v1/artists/3OW3qK7Wl9ESAGLvjVOw2h', 'id': '3OW3qK7Wl9ESAGLvjVOw2h', 'name': 'Koralle', 'type': 'artist', 'uri': 'spotify:artist:3OW3qK7Wl9ESAGLvjVOw2h'}, {'external_urls': {'spotify': 'https://open.spotify.com/artist/5dFzAFmO3MGNTFcAApR6UR'}, 'href': 'https://api.spotify.com/v1/artists/5dFzAFmO3MGNTFcAApR6UR', 'id': '5dFzAFmO3MGNTFcAApR6UR', 'name': 'Yawuh', 'type': 'artist', 'uri': 'spotify:artist:5dFzAFmO3MGNTFcAApR6UR'}], 'available_markets': ['AR', 'AU', 'AT', 'BE', 'BO', 'BR', 'BG', 'CA', 'CL', 'CO', 'CR', 'CY', 'CZ', 'DK', 'DO', 'DE', 'EC', 'EE', 'SV', 'FI', 'FR', 'GR', 'GT', 'HN', 'HK', 'HU', 'IS', 'IE', 'IT', 'LV', 'LT', 'LU', 'MY', 'MT', 'MX', 'NL', 'NZ', 'NI', 'NO', 'PA', 'PY', 'PE', 'PH', 'PL', 'PT', 'SG', 'SK', 'ES', 'SE', 'CH', 'TW', 'TR', 'UY', 'US', 'GB', 'AD', 'LI', 'MC', 'ID', 'JP', 'TH', 'VN', 'RO', 'IL', 'ZA', 'SA', 'AE', 'BH', 'QA', 'OM', 'KW', 'EG', 'MA', 'DZ', 'TN', 'LB', 'JO', 'PS', 'IN', 'BY', 'KZ', 'MD', 'UA', 'AL', 'BA', 'HR', 'ME', 'MK', 'RS', 'SI', 'KR', 'BD', 'PK', 'LK', 'GH', 'KE', 'NG', 'TZ', 'UG', 'AG', 'AM', 'BS', 'BB', 'BZ', 'BT', 'BW', 'BF', 'CV', 'CW', 'DM', 'FJ', 'GM', 'GE', 'GD', 'GW', 'GY', 'HT', 'JM', 'KI', 'LS', 'LR', 'MW', 'MV', 'ML', 'MH', 'FM', 'NA', 'NR', 'NE', 'PW', 'PG', 'PR', 'WS', 'SM', 'ST', 'SN', 'SC', 'SL', 'SB', 'KN', 'LC', 'VC', 'SR', 'TL', 'TO', 'TT', 'TV', 'VU', 'AZ', 'BN', 'BI', 'KH', 'CM', 'TD', 'KM', 'GQ', 'SZ', 'GA', 'GN', 'KG', 'LA', 'MO', 'MR', 'MN', 'NP', 'RW', 'TG', 'UZ', 'ZW', 'BJ', 'MG', 'MU', 'MZ', 'AO', 'CI', 'DJ', 'ZM', 'CD', 'CG', 'IQ', 'LY', 'TJ', 'VE', 'ET', 'XK'], 'disc_number': 1, 'duration_ms': 138986, 'explicit': False, 'external_ids': {'isrc': 'DEGC62503198'}, 'external_urls': {'spotify': 'https://open.spotify.com/track/0iZKLKVsYK4PDXJrZjRukx'}, 'href': 'https://api.spotify.com/v1/tracks/0iZKLKVsYK4PDXJrZjRukx', 'id': '0iZKLKVsYK4PDXJrZjRukx', 'is_local': False, 'name': \"She's Lonely\", 'popularity': 27, 'preview_url': None, 'track_number': 5, 'type': 'track', 'uri': 'spotify:track:0iZKLKVsYK4PDXJrZjRukx'}, 'played_at': '2025-10-26T15:15:17.076Z', 'context': {'external_urls': {'spotify': 'https://open.spotify.com/playlist/37i9dQZF1DWZZbwlv3Vmtr'}, 'href': 'https://api.spotify.com/v1/playlists/37i9dQZF1DWZZbwlv3Vmtr', 'type': 'playlist', 'uri': 'spotify:playlist:37i9dQZF1DWZZbwlv3Vmtr'}}",
         "{'ingested_at': '2025-10-26T15:15:17.076Z', 'execution_date': '2025-10-26T00:00:00+00:00', 'dag_id': 'spotify_raw_ingestion_jsonl', 'run_id': 'manual__2025-10-26T15:15:17.076000Z', 'source': 'spotify_api'}"
        ],
        [
         "15",
         "{'track': {'album': {'album_type': 'single', 'artists': [{'external_urls': {'spotify': 'https://open.spotify.com/artist/5MpwtWtFfapulpKEjAeU81'}, 'href': 'https://api.spotify.com/v1/artists/5MpwtWtFfapulpKEjAeU81', 'id': '5MpwtWtFfapulpKEjAeU81', 'name': 'The Easy Breeze', 'type': 'artist', 'uri': 'spotify:artist:5MpwtWtFfapulpKEjAeU81'}], 'available_markets': ['AR', 'AU', 'AT', 'BE', 'BO', 'BR', 'BG', 'CA', 'CL', 'CO', 'CR', 'CY', 'CZ', 'DK', 'DO', 'DE', 'EC', 'EE', 'SV', 'FI', 'FR', 'GR', 'GT', 'HN', 'HK', 'HU', 'IS', 'IE', 'IT', 'LV', 'LT', 'LU', 'MY', 'MT', 'MX', 'NL', 'NZ', 'NI', 'NO', 'PA', 'PY', 'PE', 'PH', 'PL', 'PT', 'SG', 'SK', 'ES', 'SE', 'CH', 'TW', 'TR', 'UY', 'US', 'GB', 'AD', 'LI', 'MC', 'ID', 'JP', 'TH', 'VN', 'RO', 'IL', 'ZA', 'SA', 'AE', 'BH', 'QA', 'OM', 'KW', 'EG', 'MA', 'DZ', 'TN', 'LB', 'JO', 'PS', 'IN', 'BY', 'KZ', 'MD', 'UA', 'AL', 'BA', 'HR', 'ME', 'MK', 'RS', 'SI', 'KR', 'BD', 'PK', 'LK', 'GH', 'KE', 'NG', 'TZ', 'UG', 'AG', 'AM', 'BS', 'BB', 'BZ', 'BT', 'BW', 'BF', 'CV', 'CW', 'DM', 'FJ', 'GM', 'GE', 'GD', 'GW', 'GY', 'HT', 'JM', 'KI', 'LS', 'LR', 'MW', 'MV', 'ML', 'MH', 'FM', 'NA', 'NR', 'NE', 'PW', 'PG', 'PR', 'WS', 'SM', 'ST', 'SN', 'SC', 'SL', 'SB', 'KN', 'LC', 'VC', 'SR', 'TL', 'TO', 'TT', 'TV', 'VU', 'AZ', 'BN', 'BI', 'KH', 'CM', 'TD', 'KM', 'GQ', 'SZ', 'GA', 'GN', 'KG', 'LA', 'MO', 'MR', 'MN', 'NP', 'RW', 'TG', 'UZ', 'ZW', 'BJ', 'MG', 'MU', 'MZ', 'AO', 'CI', 'DJ', 'ZM', 'CD', 'CG', 'IQ', 'LY', 'TJ', 'VE', 'ET', 'XK'], 'external_urls': {'spotify': 'https://open.spotify.com/album/7yMLFLuzDknKgARBtrIQqq'}, 'href': 'https://api.spotify.com/v1/albums/7yMLFLuzDknKgARBtrIQqq', 'id': '7yMLFLuzDknKgARBtrIQqq', 'images': [{'height': 640, 'url': 'https://i.scdn.co/image/ab67616d0000b2732a6f4fb7c075c69531ba721b', 'width': 640}, {'height': 300, 'url': 'https://i.scdn.co/image/ab67616d00001e022a6f4fb7c075c69531ba721b', 'width': 300}, {'height': 64, 'url': 'https://i.scdn.co/image/ab67616d000048512a6f4fb7c075c69531ba721b', 'width': 64}], 'name': '4you to just love', 'release_date': '2023-10-13', 'release_date_precision': 'day', 'total_tracks': 1, 'type': 'album', 'uri': 'spotify:album:7yMLFLuzDknKgARBtrIQqq'}, 'artists': [{'external_urls': {'spotify': 'https://open.spotify.com/artist/5MpwtWtFfapulpKEjAeU81'}, 'href': 'https://api.spotify.com/v1/artists/5MpwtWtFfapulpKEjAeU81', 'id': '5MpwtWtFfapulpKEjAeU81', 'name': 'The Easy Breeze', 'type': 'artist', 'uri': 'spotify:artist:5MpwtWtFfapulpKEjAeU81'}], 'available_markets': ['AR', 'AU', 'AT', 'BE', 'BO', 'BR', 'BG', 'CA', 'CL', 'CO', 'CR', 'CY', 'CZ', 'DK', 'DO', 'DE', 'EC', 'EE', 'SV', 'FI', 'FR', 'GR', 'GT', 'HN', 'HK', 'HU', 'IS', 'IE', 'IT', 'LV', 'LT', 'LU', 'MY', 'MT', 'MX', 'NL', 'NZ', 'NI', 'NO', 'PA', 'PY', 'PE', 'PH', 'PL', 'PT', 'SG', 'SK', 'ES', 'SE', 'CH', 'TW', 'TR', 'UY', 'US', 'GB', 'AD', 'LI', 'MC', 'ID', 'JP', 'TH', 'VN', 'RO', 'IL', 'ZA', 'SA', 'AE', 'BH', 'QA', 'OM', 'KW', 'EG', 'MA', 'DZ', 'TN', 'LB', 'JO', 'PS', 'IN', 'BY', 'KZ', 'MD', 'UA', 'AL', 'BA', 'HR', 'ME', 'MK', 'RS', 'SI', 'KR', 'BD', 'PK', 'LK', 'GH', 'KE', 'NG', 'TZ', 'UG', 'AG', 'AM', 'BS', 'BB', 'BZ', 'BT', 'BW', 'BF', 'CV', 'CW', 'DM', 'FJ', 'GM', 'GE', 'GD', 'GW', 'GY', 'HT', 'JM', 'KI', 'LS', 'LR', 'MW', 'MV', 'ML', 'MH', 'FM', 'NA', 'NR', 'NE', 'PW', 'PG', 'PR', 'WS', 'SM', 'ST', 'SN', 'SC', 'SL', 'SB', 'KN', 'LC', 'VC', 'SR', 'TL', 'TO', 'TT', 'TV', 'VU', 'AZ', 'BN', 'BI', 'KH', 'CM', 'TD', 'KM', 'GQ', 'SZ', 'GA', 'GN', 'KG', 'LA', 'MO', 'MR', 'MN', 'NP', 'RW', 'TG', 'UZ', 'ZW', 'BJ', 'MG', 'MU', 'MZ', 'AO', 'CI', 'DJ', 'ZM', 'CD', 'CG', 'IQ', 'LY', 'TJ', 'VE', 'ET', 'XK'], 'disc_number': 1, 'duration_ms': 154105, 'explicit': False, 'external_ids': {'isrc': 'SE5W32308782'}, 'external_urls': {'spotify': 'https://open.spotify.com/track/2u7BaomZDkHMx1xfth3d5s'}, 'href': 'https://api.spotify.com/v1/tracks/2u7BaomZDkHMx1xfth3d5s', 'id': '2u7BaomZDkHMx1xfth3d5s', 'is_local': False, 'name': '4you to just love', 'popularity': 49, 'preview_url': None, 'track_number': 1, 'type': 'track', 'uri': 'spotify:track:2u7BaomZDkHMx1xfth3d5s'}, 'played_at': '2025-10-26T15:13:24.972Z', 'context': {'external_urls': {'spotify': 'https://open.spotify.com/playlist/37i9dQZF1DWZZbwlv3Vmtr'}, 'href': 'https://api.spotify.com/v1/playlists/37i9dQZF1DWZZbwlv3Vmtr', 'type': 'playlist', 'uri': 'spotify:playlist:37i9dQZF1DWZZbwlv3Vmtr'}}",
         "{'ingested_at': '2025-10-26T15:13:24.972Z', 'execution_date': '2025-10-26T00:00:00+00:00', 'dag_id': 'spotify_raw_ingestion_jsonl', 'run_id': 'manual__2025-10-26T15:13:24.972000Z', 'source': 'spotify_api'}"
        ],
        [
         "16",
         "{'track': {'album': {'album_type': 'single', 'artists': [{'external_urls': {'spotify': 'https://open.spotify.com/artist/1yw7x5O6btobGfIvuNiXms'}, 'href': 'https://api.spotify.com/v1/artists/1yw7x5O6btobGfIvuNiXms', 'id': '1yw7x5O6btobGfIvuNiXms', 'name': 'zakori', 'type': 'artist', 'uri': 'spotify:artist:1yw7x5O6btobGfIvuNiXms'}], 'available_markets': ['AR', 'AU', 'AT', 'BE', 'BO', 'BR', 'BG', 'CA', 'CL', 'CO', 'CR', 'CY', 'CZ', 'DK', 'DO', 'DE', 'EC', 'EE', 'SV', 'FI', 'FR', 'GR', 'GT', 'HN', 'HK', 'HU', 'IS', 'IE', 'IT', 'LV', 'LT', 'LU', 'MY', 'MT', 'MX', 'NL', 'NZ', 'NI', 'NO', 'PA', 'PY', 'PE', 'PH', 'PL', 'PT', 'SG', 'SK', 'ES', 'SE', 'CH', 'TW', 'TR', 'UY', 'US', 'GB', 'AD', 'LI', 'MC', 'ID', 'JP', 'TH', 'VN', 'RO', 'IL', 'ZA', 'SA', 'AE', 'BH', 'QA', 'OM', 'KW', 'EG', 'MA', 'DZ', 'TN', 'LB', 'JO', 'PS', 'IN', 'BY', 'KZ', 'MD', 'UA', 'AL', 'BA', 'HR', 'ME', 'MK', 'RS', 'SI', 'KR', 'BD', 'PK', 'LK', 'GH', 'KE', 'NG', 'TZ', 'UG', 'AG', 'AM', 'BS', 'BB', 'BZ', 'BT', 'BW', 'BF', 'CV', 'CW', 'DM', 'FJ', 'GM', 'GE', 'GD', 'GW', 'GY', 'HT', 'JM', 'KI', 'LS', 'LR', 'MW', 'MV', 'ML', 'MH', 'FM', 'NA', 'NR', 'NE', 'PW', 'PG', 'PR', 'WS', 'SM', 'ST', 'SN', 'SC', 'SL', 'SB', 'KN', 'LC', 'VC', 'SR', 'TL', 'TO', 'TT', 'TV', 'VU', 'AZ', 'BN', 'BI', 'KH', 'CM', 'TD', 'KM', 'GQ', 'SZ', 'GA', 'GN', 'KG', 'LA', 'MO', 'MR', 'MN', 'NP', 'RW', 'TG', 'UZ', 'ZW', 'BJ', 'MG', 'MU', 'MZ', 'AO', 'CI', 'DJ', 'ZM', 'CD', 'CG', 'IQ', 'LY', 'TJ', 'VE', 'ET', 'XK'], 'external_urls': {'spotify': 'https://open.spotify.com/album/4irUr6OTUBnNoQC9fJreds'}, 'href': 'https://api.spotify.com/v1/albums/4irUr6OTUBnNoQC9fJreds', 'id': '4irUr6OTUBnNoQC9fJreds', 'images': [{'height': 640, 'url': 'https://i.scdn.co/image/ab67616d0000b2736ffb22bc8634759c4cb28591', 'width': 640}, {'height': 300, 'url': 'https://i.scdn.co/image/ab67616d00001e026ffb22bc8634759c4cb28591', 'width': 300}, {'height': 64, 'url': 'https://i.scdn.co/image/ab67616d000048516ffb22bc8634759c4cb28591', 'width': 64}], 'name': 'Nocturnal', 'release_date': '2025-05-02', 'release_date_precision': 'day', 'total_tracks': 1, 'type': 'album', 'uri': 'spotify:album:4irUr6OTUBnNoQC9fJreds'}, 'artists': [{'external_urls': {'spotify': 'https://open.spotify.com/artist/1yw7x5O6btobGfIvuNiXms'}, 'href': 'https://api.spotify.com/v1/artists/1yw7x5O6btobGfIvuNiXms', 'id': '1yw7x5O6btobGfIvuNiXms', 'name': 'zakori', 'type': 'artist', 'uri': 'spotify:artist:1yw7x5O6btobGfIvuNiXms'}], 'available_markets': ['AR', 'AU', 'AT', 'BE', 'BO', 'BR', 'BG', 'CA', 'CL', 'CO', 'CR', 'CY', 'CZ', 'DK', 'DO', 'DE', 'EC', 'EE', 'SV', 'FI', 'FR', 'GR', 'GT', 'HN', 'HK', 'HU', 'IS', 'IE', 'IT', 'LV', 'LT', 'LU', 'MY', 'MT', 'MX', 'NL', 'NZ', 'NI', 'NO', 'PA', 'PY', 'PE', 'PH', 'PL', 'PT', 'SG', 'SK', 'ES', 'SE', 'CH', 'TW', 'TR', 'UY', 'US', 'GB', 'AD', 'LI', 'MC', 'ID', 'JP', 'TH', 'VN', 'RO', 'IL', 'ZA', 'SA', 'AE', 'BH', 'QA', 'OM', 'KW', 'EG', 'MA', 'DZ', 'TN', 'LB', 'JO', 'PS', 'IN', 'BY', 'KZ', 'MD', 'UA', 'AL', 'BA', 'HR', 'ME', 'MK', 'RS', 'SI', 'KR', 'BD', 'PK', 'LK', 'GH', 'KE', 'NG', 'TZ', 'UG', 'AG', 'AM', 'BS', 'BB', 'BZ', 'BT', 'BW', 'BF', 'CV', 'CW', 'DM', 'FJ', 'GM', 'GE', 'GD', 'GW', 'GY', 'HT', 'JM', 'KI', 'LS', 'LR', 'MW', 'MV', 'ML', 'MH', 'FM', 'NA', 'NR', 'NE', 'PW', 'PG', 'PR', 'WS', 'SM', 'ST', 'SN', 'SC', 'SL', 'SB', 'KN', 'LC', 'VC', 'SR', 'TL', 'TO', 'TT', 'TV', 'VU', 'AZ', 'BN', 'BI', 'KH', 'CM', 'TD', 'KM', 'GQ', 'SZ', 'GA', 'GN', 'KG', 'LA', 'MO', 'MR', 'MN', 'NP', 'RW', 'TG', 'UZ', 'ZW', 'BJ', 'MG', 'MU', 'MZ', 'AO', 'CI', 'DJ', 'ZM', 'CD', 'CG', 'IQ', 'LY', 'TJ', 'VE', 'ET', 'XK'], 'disc_number': 1, 'duration_ms': 117000, 'explicit': False, 'external_ids': {'isrc': 'SE4RG2501205'}, 'external_urls': {'spotify': 'https://open.spotify.com/track/0AELmzxR0pSvBcic4FxidD'}, 'href': 'https://api.spotify.com/v1/tracks/0AELmzxR0pSvBcic4FxidD', 'id': '0AELmzxR0pSvBcic4FxidD', 'is_local': False, 'name': 'Nocturnal', 'popularity': 47, 'preview_url': None, 'track_number': 1, 'type': 'track', 'uri': 'spotify:track:0AELmzxR0pSvBcic4FxidD'}, 'played_at': '2025-10-26T15:11:11.383Z', 'context': {'external_urls': {'spotify': 'https://open.spotify.com/playlist/37i9dQZF1DWZZbwlv3Vmtr'}, 'href': 'https://api.spotify.com/v1/playlists/37i9dQZF1DWZZbwlv3Vmtr', 'type': 'playlist', 'uri': 'spotify:playlist:37i9dQZF1DWZZbwlv3Vmtr'}}",
         "{'ingested_at': '2025-10-26T15:11:11.383Z', 'execution_date': '2025-10-26T00:00:00+00:00', 'dag_id': 'spotify_raw_ingestion_jsonl', 'run_id': 'manual__2025-10-26T15:11:11.383000Z', 'source': 'spotify_api'}"
        ],
        [
         "17",
         "{'track': {'album': {'album_type': 'single', 'artists': [{'external_urls': {'spotify': 'https://open.spotify.com/artist/2vllrQgjSlv6SFDmhio5un'}, 'href': 'https://api.spotify.com/v1/artists/2vllrQgjSlv6SFDmhio5un', 'id': '2vllrQgjSlv6SFDmhio5un', 'name': 'Sloppy Jo', 'type': 'artist', 'uri': 'spotify:artist:2vllrQgjSlv6SFDmhio5un'}], 'available_markets': ['AR', 'AU', 'AT', 'BE', 'BO', 'BR', 'BG', 'CA', 'CL', 'CO', 'CR', 'CY', 'CZ', 'DK', 'DO', 'DE', 'EC', 'EE', 'SV', 'FI', 'FR', 'GR', 'GT', 'HN', 'HK', 'HU', 'IS', 'IE', 'IT', 'LV', 'LT', 'LU', 'MY', 'MT', 'MX', 'NL', 'NZ', 'NI', 'NO', 'PA', 'PY', 'PE', 'PH', 'PL', 'PT', 'SG', 'SK', 'ES', 'SE', 'CH', 'TW', 'TR', 'UY', 'US', 'GB', 'AD', 'LI', 'MC', 'ID', 'JP', 'TH', 'VN', 'RO', 'IL', 'ZA', 'SA', 'AE', 'BH', 'QA', 'OM', 'KW', 'EG', 'MA', 'DZ', 'TN', 'LB', 'JO', 'PS', 'IN', 'BY', 'KZ', 'MD', 'UA', 'AL', 'BA', 'HR', 'ME', 'MK', 'RS', 'SI', 'KR', 'BD', 'PK', 'LK', 'GH', 'KE', 'NG', 'TZ', 'UG', 'AG', 'AM', 'BS', 'BB', 'BZ', 'BT', 'BW', 'BF', 'CV', 'CW', 'DM', 'FJ', 'GM', 'GE', 'GD', 'GW', 'GY', 'HT', 'JM', 'KI', 'LS', 'LR', 'MW', 'MV', 'ML', 'MH', 'FM', 'NA', 'NR', 'NE', 'PW', 'PG', 'PR', 'WS', 'SM', 'ST', 'SN', 'SC', 'SL', 'SB', 'KN', 'LC', 'VC', 'SR', 'TL', 'TO', 'TT', 'TV', 'VU', 'AZ', 'BN', 'BI', 'KH', 'CM', 'TD', 'KM', 'GQ', 'SZ', 'GA', 'GN', 'KG', 'LA', 'MO', 'MR', 'MN', 'NP', 'RW', 'TG', 'UZ', 'ZW', 'BJ', 'MG', 'MU', 'MZ', 'AO', 'CI', 'DJ', 'ZM', 'CD', 'CG', 'IQ', 'LY', 'TJ', 'VE', 'ET', 'XK'], 'external_urls': {'spotify': 'https://open.spotify.com/album/7hhoLPGJppGrXyAK2h3bES'}, 'href': 'https://api.spotify.com/v1/albums/7hhoLPGJppGrXyAK2h3bES', 'id': '7hhoLPGJppGrXyAK2h3bES', 'images': [{'height': 640, 'url': 'https://i.scdn.co/image/ab67616d0000b27367642ee7692588109818280b', 'width': 640}, {'height': 300, 'url': 'https://i.scdn.co/image/ab67616d00001e0267642ee7692588109818280b', 'width': 300}, {'height': 64, 'url': 'https://i.scdn.co/image/ab67616d0000485167642ee7692588109818280b', 'width': 64}], 'name': 'Catnip', 'release_date': '2025-02-07', 'release_date_precision': 'day', 'total_tracks': 1, 'type': 'album', 'uri': 'spotify:album:7hhoLPGJppGrXyAK2h3bES'}, 'artists': [{'external_urls': {'spotify': 'https://open.spotify.com/artist/2vllrQgjSlv6SFDmhio5un'}, 'href': 'https://api.spotify.com/v1/artists/2vllrQgjSlv6SFDmhio5un', 'id': '2vllrQgjSlv6SFDmhio5un', 'name': 'Sloppy Jo', 'type': 'artist', 'uri': 'spotify:artist:2vllrQgjSlv6SFDmhio5un'}], 'available_markets': ['AR', 'AU', 'AT', 'BE', 'BO', 'BR', 'BG', 'CA', 'CL', 'CO', 'CR', 'CY', 'CZ', 'DK', 'DO', 'DE', 'EC', 'EE', 'SV', 'FI', 'FR', 'GR', 'GT', 'HN', 'HK', 'HU', 'IS', 'IE', 'IT', 'LV', 'LT', 'LU', 'MY', 'MT', 'MX', 'NL', 'NZ', 'NI', 'NO', 'PA', 'PY', 'PE', 'PH', 'PL', 'PT', 'SG', 'SK', 'ES', 'SE', 'CH', 'TW', 'TR', 'UY', 'US', 'GB', 'AD', 'LI', 'MC', 'ID', 'JP', 'TH', 'VN', 'RO', 'IL', 'ZA', 'SA', 'AE', 'BH', 'QA', 'OM', 'KW', 'EG', 'MA', 'DZ', 'TN', 'LB', 'JO', 'PS', 'IN', 'BY', 'KZ', 'MD', 'UA', 'AL', 'BA', 'HR', 'ME', 'MK', 'RS', 'SI', 'KR', 'BD', 'PK', 'LK', 'GH', 'KE', 'NG', 'TZ', 'UG', 'AG', 'AM', 'BS', 'BB', 'BZ', 'BT', 'BW', 'BF', 'CV', 'CW', 'DM', 'FJ', 'GM', 'GE', 'GD', 'GW', 'GY', 'HT', 'JM', 'KI', 'LS', 'LR', 'MW', 'MV', 'ML', 'MH', 'FM', 'NA', 'NR', 'NE', 'PW', 'PG', 'PR', 'WS', 'SM', 'ST', 'SN', 'SC', 'SL', 'SB', 'KN', 'LC', 'VC', 'SR', 'TL', 'TO', 'TT', 'TV', 'VU', 'AZ', 'BN', 'BI', 'KH', 'CM', 'TD', 'KM', 'GQ', 'SZ', 'GA', 'GN', 'KG', 'LA', 'MO', 'MR', 'MN', 'NP', 'RW', 'TG', 'UZ', 'ZW', 'BJ', 'MG', 'MU', 'MZ', 'AO', 'CI', 'DJ', 'ZM', 'CD', 'CG', 'IQ', 'LY', 'TJ', 'VE', 'ET', 'XK'], 'disc_number': 1, 'duration_ms': 141937, 'explicit': False, 'external_ids': {'isrc': 'SE4RG2500248'}, 'external_urls': {'spotify': 'https://open.spotify.com/track/2Nk8JO0n5Juw1ibgXcnHcY'}, 'href': 'https://api.spotify.com/v1/tracks/2Nk8JO0n5Juw1ibgXcnHcY', 'id': '2Nk8JO0n5Juw1ibgXcnHcY', 'is_local': False, 'name': 'Catnip', 'popularity': 50, 'preview_url': None, 'track_number': 1, 'type': 'track', 'uri': 'spotify:track:2Nk8JO0n5Juw1ibgXcnHcY'}, 'played_at': '2025-10-26T15:09:41.330Z', 'context': {'external_urls': {'spotify': 'https://open.spotify.com/playlist/37i9dQZF1DWZZbwlv3Vmtr'}, 'href': 'https://api.spotify.com/v1/playlists/37i9dQZF1DWZZbwlv3Vmtr', 'type': 'playlist', 'uri': 'spotify:playlist:37i9dQZF1DWZZbwlv3Vmtr'}}",
         "{'ingested_at': '2025-10-26T15:09:41.330Z', 'execution_date': '2025-10-26T00:00:00+00:00', 'dag_id': 'spotify_raw_ingestion_jsonl', 'run_id': 'manual__2025-10-26T15:09:41.330000Z', 'source': 'spotify_api'}"
        ],
        [
         "18",
         "{'track': {'album': {'album_type': 'single', 'artists': [{'external_urls': {'spotify': 'https://open.spotify.com/artist/4oAJgYdsGm7zkJgZTCPA0a'}, 'href': 'https://api.spotify.com/v1/artists/4oAJgYdsGm7zkJgZTCPA0a', 'id': '4oAJgYdsGm7zkJgZTCPA0a', 'name': 'Vancgroover', 'type': 'artist', 'uri': 'spotify:artist:4oAJgYdsGm7zkJgZTCPA0a'}], 'available_markets': ['AR', 'AU', 'AT', 'BE', 'BO', 'BR', 'BG', 'CA', 'CL', 'CO', 'CR', 'CY', 'CZ', 'DK', 'DO', 'DE', 'EC', 'EE', 'SV', 'FI', 'FR', 'GR', 'GT', 'HN', 'HK', 'HU', 'IS', 'IE', 'IT', 'LV', 'LT', 'LU', 'MY', 'MT', 'MX', 'NL', 'NZ', 'NI', 'NO', 'PA', 'PY', 'PE', 'PH', 'PL', 'PT', 'SG', 'SK', 'ES', 'SE', 'CH', 'TW', 'TR', 'UY', 'US', 'GB', 'AD', 'LI', 'MC', 'ID', 'JP', 'TH', 'VN', 'RO', 'IL', 'ZA', 'SA', 'AE', 'BH', 'QA', 'OM', 'KW', 'EG', 'MA', 'DZ', 'TN', 'LB', 'JO', 'PS', 'IN', 'BY', 'KZ', 'MD', 'UA', 'AL', 'BA', 'HR', 'ME', 'MK', 'RS', 'SI', 'KR', 'BD', 'PK', 'LK', 'GH', 'KE', 'NG', 'TZ', 'UG', 'AG', 'AM', 'BS', 'BB', 'BZ', 'BT', 'BW', 'BF', 'CV', 'CW', 'DM', 'FJ', 'GM', 'GE', 'GD', 'GW', 'GY', 'HT', 'JM', 'KI', 'LS', 'LR', 'MW', 'MV', 'ML', 'MH', 'FM', 'NA', 'NR', 'NE', 'PW', 'PG', 'PR', 'WS', 'SM', 'ST', 'SN', 'SC', 'SL', 'SB', 'KN', 'LC', 'VC', 'SR', 'TL', 'TO', 'TT', 'TV', 'VU', 'AZ', 'BN', 'BI', 'KH', 'CM', 'TD', 'KM', 'GQ', 'SZ', 'GA', 'GN', 'KG', 'LA', 'MO', 'MR', 'MN', 'NP', 'RW', 'TG', 'UZ', 'ZW', 'BJ', 'MG', 'MU', 'MZ', 'AO', 'CI', 'DJ', 'ZM', 'CD', 'CG', 'IQ', 'LY', 'TJ', 'VE', 'ET', 'XK'], 'external_urls': {'spotify': 'https://open.spotify.com/album/1pMPBn1X8SgzmIHSafKXLt'}, 'href': 'https://api.spotify.com/v1/albums/1pMPBn1X8SgzmIHSafKXLt', 'id': '1pMPBn1X8SgzmIHSafKXLt', 'images': [{'height': 640, 'url': 'https://i.scdn.co/image/ab67616d0000b273bd751b68d385a1c2d03c89c9', 'width': 640}, {'height': 300, 'url': 'https://i.scdn.co/image/ab67616d00001e02bd751b68d385a1c2d03c89c9', 'width': 300}, {'height': 64, 'url': 'https://i.scdn.co/image/ab67616d00004851bd751b68d385a1c2d03c89c9', 'width': 64}], 'name': 'Piano Roll', 'release_date': '2023-10-31', 'release_date_precision': 'day', 'total_tracks': 1, 'type': 'album', 'uri': 'spotify:album:1pMPBn1X8SgzmIHSafKXLt'}, 'artists': [{'external_urls': {'spotify': 'https://open.spotify.com/artist/4oAJgYdsGm7zkJgZTCPA0a'}, 'href': 'https://api.spotify.com/v1/artists/4oAJgYdsGm7zkJgZTCPA0a', 'id': '4oAJgYdsGm7zkJgZTCPA0a', 'name': 'Vancgroover', 'type': 'artist', 'uri': 'spotify:artist:4oAJgYdsGm7zkJgZTCPA0a'}], 'available_markets': ['AR', 'AU', 'AT', 'BE', 'BO', 'BR', 'BG', 'CA', 'CL', 'CO', 'CR', 'CY', 'CZ', 'DK', 'DO', 'DE', 'EC', 'EE', 'SV', 'FI', 'FR', 'GR', 'GT', 'HN', 'HK', 'HU', 'IS', 'IE', 'IT', 'LV', 'LT', 'LU', 'MY', 'MT', 'MX', 'NL', 'NZ', 'NI', 'NO', 'PA', 'PY', 'PE', 'PH', 'PL', 'PT', 'SG', 'SK', 'ES', 'SE', 'CH', 'TW', 'TR', 'UY', 'US', 'GB', 'AD', 'LI', 'MC', 'ID', 'JP', 'TH', 'VN', 'RO', 'IL', 'ZA', 'SA', 'AE', 'BH', 'QA', 'OM', 'KW', 'EG', 'MA', 'DZ', 'TN', 'LB', 'JO', 'PS', 'IN', 'BY', 'KZ', 'MD', 'UA', 'AL', 'BA', 'HR', 'ME', 'MK', 'RS', 'SI', 'KR', 'BD', 'PK', 'LK', 'GH', 'KE', 'NG', 'TZ', 'UG', 'AG', 'AM', 'BS', 'BB', 'BZ', 'BT', 'BW', 'BF', 'CV', 'CW', 'DM', 'FJ', 'GM', 'GE', 'GD', 'GW', 'GY', 'HT', 'JM', 'KI', 'LS', 'LR', 'MW', 'MV', 'ML', 'MH', 'FM', 'NA', 'NR', 'NE', 'PW', 'PG', 'PR', 'WS', 'SM', 'ST', 'SN', 'SC', 'SL', 'SB', 'KN', 'LC', 'VC', 'SR', 'TL', 'TO', 'TT', 'TV', 'VU', 'AZ', 'BN', 'BI', 'KH', 'CM', 'TD', 'KM', 'GQ', 'SZ', 'GA', 'GN', 'KG', 'LA', 'MO', 'MR', 'MN', 'NP', 'RW', 'TG', 'UZ', 'ZW', 'BJ', 'MG', 'MU', 'MZ', 'AO', 'CI', 'DJ', 'ZM', 'CD', 'CG', 'IQ', 'LY', 'TJ', 'VE', 'ET', 'XK'], 'disc_number': 1, 'duration_ms': 125333, 'explicit': False, 'external_ids': {'isrc': 'SE6RU2362501'}, 'external_urls': {'spotify': 'https://open.spotify.com/track/1mgu8HfJP14u5czwRJlGVp'}, 'href': 'https://api.spotify.com/v1/tracks/1mgu8HfJP14u5czwRJlGVp', 'id': '1mgu8HfJP14u5czwRJlGVp', 'is_local': False, 'name': 'Piano Roll', 'popularity': 51, 'preview_url': None, 'track_number': 1, 'type': 'track', 'uri': 'spotify:track:1mgu8HfJP14u5czwRJlGVp'}, 'played_at': '2025-10-26T15:07:38.191Z', 'context': {'external_urls': {'spotify': 'https://open.spotify.com/playlist/37i9dQZF1DWZZbwlv3Vmtr'}, 'href': 'https://api.spotify.com/v1/playlists/37i9dQZF1DWZZbwlv3Vmtr', 'type': 'playlist', 'uri': 'spotify:playlist:37i9dQZF1DWZZbwlv3Vmtr'}}",
         "{'ingested_at': '2025-10-26T15:07:38.191Z', 'execution_date': '2025-10-26T00:00:00+00:00', 'dag_id': 'spotify_raw_ingestion_jsonl', 'run_id': 'manual__2025-10-26T15:07:38.191000Z', 'source': 'spotify_api'}"
        ],
        [
         "19",
         "{'track': {'album': {'album_type': 'single', 'artists': [{'external_urls': {'spotify': 'https://open.spotify.com/artist/4Car9HylNpk3hdArsuEQOp'}, 'href': 'https://api.spotify.com/v1/artists/4Car9HylNpk3hdArsuEQOp', 'id': '4Car9HylNpk3hdArsuEQOp', 'name': 'Valgre', 'type': 'artist', 'uri': 'spotify:artist:4Car9HylNpk3hdArsuEQOp'}], 'available_markets': ['AR', 'AU', 'AT', 'BE', 'BO', 'BR', 'BG', 'CA', 'CL', 'CO', 'CR', 'CY', 'CZ', 'DK', 'DO', 'DE', 'EC', 'EE', 'SV', 'FI', 'FR', 'GR', 'GT', 'HN', 'HK', 'HU', 'IS', 'IE', 'IT', 'LV', 'LT', 'LU', 'MY', 'MT', 'MX', 'NL', 'NZ', 'NI', 'NO', 'PA', 'PY', 'PE', 'PH', 'PL', 'PT', 'SG', 'SK', 'ES', 'SE', 'CH', 'TW', 'TR', 'UY', 'US', 'GB', 'AD', 'LI', 'MC', 'ID', 'JP', 'TH', 'VN', 'RO', 'IL', 'ZA', 'SA', 'AE', 'BH', 'QA', 'OM', 'KW', 'EG', 'MA', 'DZ', 'TN', 'LB', 'JO', 'PS', 'IN', 'BY', 'KZ', 'MD', 'UA', 'AL', 'BA', 'HR', 'ME', 'MK', 'RS', 'SI', 'KR', 'BD', 'PK', 'LK', 'GH', 'KE', 'NG', 'TZ', 'UG', 'AG', 'AM', 'BS', 'BB', 'BZ', 'BT', 'BW', 'BF', 'CV', 'CW', 'DM', 'FJ', 'GM', 'GE', 'GD', 'GW', 'GY', 'HT', 'JM', 'KI', 'LS', 'LR', 'MW', 'MV', 'ML', 'MH', 'FM', 'NA', 'NR', 'NE', 'PW', 'PG', 'PR', 'WS', 'SM', 'ST', 'SN', 'SC', 'SL', 'SB', 'KN', 'LC', 'VC', 'SR', 'TL', 'TO', 'TT', 'TV', 'VU', 'AZ', 'BN', 'BI', 'KH', 'CM', 'TD', 'KM', 'GQ', 'SZ', 'GA', 'GN', 'KG', 'LA', 'MO', 'MR', 'MN', 'NP', 'RW', 'TG', 'UZ', 'ZW', 'BJ', 'MG', 'MU', 'MZ', 'AO', 'CI', 'DJ', 'ZM', 'CD', 'CG', 'IQ', 'LY', 'TJ', 'VE', 'ET', 'XK'], 'external_urls': {'spotify': 'https://open.spotify.com/album/6HTcP4oqAtPPK6gFMyzQ3f'}, 'href': 'https://api.spotify.com/v1/albums/6HTcP4oqAtPPK6gFMyzQ3f', 'id': '6HTcP4oqAtPPK6gFMyzQ3f', 'images': [{'height': 640, 'url': 'https://i.scdn.co/image/ab67616d0000b2738e13818eccb5313e92e03d35', 'width': 640}, {'height': 300, 'url': 'https://i.scdn.co/image/ab67616d00001e028e13818eccb5313e92e03d35', 'width': 300}, {'height': 64, 'url': 'https://i.scdn.co/image/ab67616d000048518e13818eccb5313e92e03d35', 'width': 64}], 'name': 'School Of Rytmus', 'release_date': '2024-03-01', 'release_date_precision': 'day', 'total_tracks': 1, 'type': 'album', 'uri': 'spotify:album:6HTcP4oqAtPPK6gFMyzQ3f'}, 'artists': [{'external_urls': {'spotify': 'https://open.spotify.com/artist/4Car9HylNpk3hdArsuEQOp'}, 'href': 'https://api.spotify.com/v1/artists/4Car9HylNpk3hdArsuEQOp', 'id': '4Car9HylNpk3hdArsuEQOp', 'name': 'Valgre', 'type': 'artist', 'uri': 'spotify:artist:4Car9HylNpk3hdArsuEQOp'}], 'available_markets': ['AR', 'AU', 'AT', 'BE', 'BO', 'BR', 'BG', 'CA', 'CL', 'CO', 'CR', 'CY', 'CZ', 'DK', 'DO', 'DE', 'EC', 'EE', 'SV', 'FI', 'FR', 'GR', 'GT', 'HN', 'HK', 'HU', 'IS', 'IE', 'IT', 'LV', 'LT', 'LU', 'MY', 'MT', 'MX', 'NL', 'NZ', 'NI', 'NO', 'PA', 'PY', 'PE', 'PH', 'PL', 'PT', 'SG', 'SK', 'ES', 'SE', 'CH', 'TW', 'TR', 'UY', 'US', 'GB', 'AD', 'LI', 'MC', 'ID', 'JP', 'TH', 'VN', 'RO', 'IL', 'ZA', 'SA', 'AE', 'BH', 'QA', 'OM', 'KW', 'EG', 'MA', 'DZ', 'TN', 'LB', 'JO', 'PS', 'IN', 'BY', 'KZ', 'MD', 'UA', 'AL', 'BA', 'HR', 'ME', 'MK', 'RS', 'SI', 'KR', 'BD', 'PK', 'LK', 'GH', 'KE', 'NG', 'TZ', 'UG', 'AG', 'AM', 'BS', 'BB', 'BZ', 'BT', 'BW', 'BF', 'CV', 'CW', 'DM', 'FJ', 'GM', 'GE', 'GD', 'GW', 'GY', 'HT', 'JM', 'KI', 'LS', 'LR', 'MW', 'MV', 'ML', 'MH', 'FM', 'NA', 'NR', 'NE', 'PW', 'PG', 'PR', 'WS', 'SM', 'ST', 'SN', 'SC', 'SL', 'SB', 'KN', 'LC', 'VC', 'SR', 'TL', 'TO', 'TT', 'TV', 'VU', 'AZ', 'BN', 'BI', 'KH', 'CM', 'TD', 'KM', 'GQ', 'SZ', 'GA', 'GN', 'KG', 'LA', 'MO', 'MR', 'MN', 'NP', 'RW', 'TG', 'UZ', 'ZW', 'BJ', 'MG', 'MU', 'MZ', 'AO', 'CI', 'DJ', 'ZM', 'CD', 'CG', 'IQ', 'LY', 'TJ', 'VE', 'ET', 'XK'], 'disc_number': 1, 'duration_ms': 145862, 'explicit': False, 'external_ids': {'isrc': 'SE7DX2400788'}, 'external_urls': {'spotify': 'https://open.spotify.com/track/14BAmiynFdqR5mTp6yd6d9'}, 'href': 'https://api.spotify.com/v1/tracks/14BAmiynFdqR5mTp6yd6d9', 'id': '14BAmiynFdqR5mTp6yd6d9', 'is_local': False, 'name': 'School Of Rytmus', 'popularity': 48, 'preview_url': None, 'track_number': 1, 'type': 'track', 'uri': 'spotify:track:14BAmiynFdqR5mTp6yd6d9'}, 'played_at': '2025-10-26T15:05:46.793Z', 'context': {'external_urls': {'spotify': 'https://open.spotify.com/playlist/37i9dQZF1DWZZbwlv3Vmtr'}, 'href': 'https://api.spotify.com/v1/playlists/37i9dQZF1DWZZbwlv3Vmtr', 'type': 'playlist', 'uri': 'spotify:playlist:37i9dQZF1DWZZbwlv3Vmtr'}}",
         "{'ingested_at': '2025-10-26T15:05:46.793Z', 'execution_date': '2025-10-26T00:00:00+00:00', 'dag_id': 'spotify_raw_ingestion_jsonl', 'run_id': 'manual__2025-10-26T15:05:46.793000Z', 'source': 'spotify_api'}"
        ],
        [
         "20",
         "{'track': {'album': {'album_type': 'single', 'artists': [{'external_urls': {'spotify': 'https://open.spotify.com/artist/5szil3lhFSrW575RVEyPle'}, 'href': 'https://api.spotify.com/v1/artists/5szil3lhFSrW575RVEyPle', 'id': '5szil3lhFSrW575RVEyPle', 'name': 'Beats Me, Innit?', 'type': 'artist', 'uri': 'spotify:artist:5szil3lhFSrW575RVEyPle'}], 'available_markets': ['AR', 'AU', 'AT', 'BE', 'BO', 'BR', 'BG', 'CA', 'CL', 'CO', 'CR', 'CY', 'CZ', 'DK', 'DO', 'DE', 'EC', 'EE', 'SV', 'FI', 'FR', 'GR', 'GT', 'HN', 'HK', 'HU', 'IS', 'IE', 'IT', 'LV', 'LT', 'LU', 'MY', 'MT', 'MX', 'NL', 'NZ', 'NI', 'NO', 'PA', 'PY', 'PE', 'PH', 'PL', 'PT', 'SG', 'SK', 'ES', 'SE', 'CH', 'TW', 'TR', 'UY', 'US', 'GB', 'AD', 'LI', 'MC', 'ID', 'JP', 'TH', 'VN', 'RO', 'IL', 'ZA', 'SA', 'AE', 'BH', 'QA', 'OM', 'KW', 'EG', 'MA', 'DZ', 'TN', 'LB', 'JO', 'PS', 'IN', 'BY', 'KZ', 'MD', 'UA', 'AL', 'BA', 'HR', 'ME', 'MK', 'RS', 'SI', 'KR', 'BD', 'PK', 'LK', 'GH', 'KE', 'NG', 'TZ', 'UG', 'AG', 'AM', 'BS', 'BB', 'BZ', 'BT', 'BW', 'BF', 'CV', 'CW', 'DM', 'FJ', 'GM', 'GE', 'GD', 'GW', 'GY', 'HT', 'JM', 'KI', 'LS', 'LR', 'MW', 'MV', 'ML', 'MH', 'FM', 'NA', 'NR', 'NE', 'PW', 'PG', 'PR', 'WS', 'SM', 'ST', 'SN', 'SC', 'SL', 'SB', 'KN', 'LC', 'VC', 'SR', 'TL', 'TO', 'TT', 'TV', 'VU', 'AZ', 'BN', 'BI', 'KH', 'CM', 'TD', 'KM', 'GQ', 'SZ', 'GA', 'GN', 'KG', 'LA', 'MO', 'MR', 'MN', 'NP', 'RW', 'TG', 'UZ', 'ZW', 'BJ', 'MG', 'MU', 'MZ', 'AO', 'CI', 'DJ', 'ZM', 'CD', 'CG', 'IQ', 'LY', 'TJ', 'VE', 'ET', 'XK'], 'external_urls': {'spotify': 'https://open.spotify.com/album/2IPez7qLA9jrHocjh7qckN'}, 'href': 'https://api.spotify.com/v1/albums/2IPez7qLA9jrHocjh7qckN', 'id': '2IPez7qLA9jrHocjh7qckN', 'images': [{'height': 640, 'url': 'https://i.scdn.co/image/ab67616d0000b2737076330778edb61ca357dbbd', 'width': 640}, {'height': 300, 'url': 'https://i.scdn.co/image/ab67616d00001e027076330778edb61ca357dbbd', 'width': 300}, {'height': 64, 'url': 'https://i.scdn.co/image/ab67616d000048517076330778edb61ca357dbbd', 'width': 64}], 'name': 'Surroundings', 'release_date': '2024-02-16', 'release_date_precision': 'day', 'total_tracks': 1, 'type': 'album', 'uri': 'spotify:album:2IPez7qLA9jrHocjh7qckN'}, 'artists': [{'external_urls': {'spotify': 'https://open.spotify.com/artist/5szil3lhFSrW575RVEyPle'}, 'href': 'https://api.spotify.com/v1/artists/5szil3lhFSrW575RVEyPle', 'id': '5szil3lhFSrW575RVEyPle', 'name': 'Beats Me, Innit?', 'type': 'artist', 'uri': 'spotify:artist:5szil3lhFSrW575RVEyPle'}], 'available_markets': ['AR', 'AU', 'AT', 'BE', 'BO', 'BR', 'BG', 'CA', 'CL', 'CO', 'CR', 'CY', 'CZ', 'DK', 'DO', 'DE', 'EC', 'EE', 'SV', 'FI', 'FR', 'GR', 'GT', 'HN', 'HK', 'HU', 'IS', 'IE', 'IT', 'LV', 'LT', 'LU', 'MY', 'MT', 'MX', 'NL', 'NZ', 'NI', 'NO', 'PA', 'PY', 'PE', 'PH', 'PL', 'PT', 'SG', 'SK', 'ES', 'SE', 'CH', 'TW', 'TR', 'UY', 'US', 'GB', 'AD', 'LI', 'MC', 'ID', 'JP', 'TH', 'VN', 'RO', 'IL', 'ZA', 'SA', 'AE', 'BH', 'QA', 'OM', 'KW', 'EG', 'MA', 'DZ', 'TN', 'LB', 'JO', 'PS', 'IN', 'BY', 'KZ', 'MD', 'UA', 'AL', 'BA', 'HR', 'ME', 'MK', 'RS', 'SI', 'KR', 'BD', 'PK', 'LK', 'GH', 'KE', 'NG', 'TZ', 'UG', 'AG', 'AM', 'BS', 'BB', 'BZ', 'BT', 'BW', 'BF', 'CV', 'CW', 'DM', 'FJ', 'GM', 'GE', 'GD', 'GW', 'GY', 'HT', 'JM', 'KI', 'LS', 'LR', 'MW', 'MV', 'ML', 'MH', 'FM', 'NA', 'NR', 'NE', 'PW', 'PG', 'PR', 'WS', 'SM', 'ST', 'SN', 'SC', 'SL', 'SB', 'KN', 'LC', 'VC', 'SR', 'TL', 'TO', 'TT', 'TV', 'VU', 'AZ', 'BN', 'BI', 'KH', 'CM', 'TD', 'KM', 'GQ', 'SZ', 'GA', 'GN', 'KG', 'LA', 'MO', 'MR', 'MN', 'NP', 'RW', 'TG', 'UZ', 'ZW', 'BJ', 'MG', 'MU', 'MZ', 'AO', 'CI', 'DJ', 'ZM', 'CD', 'CG', 'IQ', 'LY', 'TJ', 'VE', 'ET', 'XK'], 'disc_number': 1, 'duration_ms': 158124, 'explicit': False, 'external_ids': {'isrc': 'SEXGF2495035'}, 'external_urls': {'spotify': 'https://open.spotify.com/track/5YmU5VNKazzBih5dXGIhBf'}, 'href': 'https://api.spotify.com/v1/tracks/5YmU5VNKazzBih5dXGIhBf', 'id': '5YmU5VNKazzBih5dXGIhBf', 'is_local': False, 'name': 'Surroundings', 'popularity': 49, 'preview_url': None, 'track_number': 1, 'type': 'track', 'uri': 'spotify:track:5YmU5VNKazzBih5dXGIhBf'}, 'played_at': '2025-10-26T15:03:45.329Z', 'context': {'external_urls': {'spotify': 'https://open.spotify.com/playlist/37i9dQZF1DWZZbwlv3Vmtr'}, 'href': 'https://api.spotify.com/v1/playlists/37i9dQZF1DWZZbwlv3Vmtr', 'type': 'playlist', 'uri': 'spotify:playlist:37i9dQZF1DWZZbwlv3Vmtr'}}",
         "{'ingested_at': '2025-10-26T15:03:45.329Z', 'execution_date': '2025-10-26T00:00:00+00:00', 'dag_id': 'spotify_raw_ingestion_jsonl', 'run_id': 'manual__2025-10-26T15:03:45.329000Z', 'source': 'spotify_api'}"
        ],
        [
         "21",
         "{'track': {'album': {'album_type': 'single', 'artists': [{'external_urls': {'spotify': 'https://open.spotify.com/artist/0wN7ALPeSqOb16sG7vl4RC'}, 'href': 'https://api.spotify.com/v1/artists/0wN7ALPeSqOb16sG7vl4RC', 'id': '0wN7ALPeSqOb16sG7vl4RC', 'name': 'Drxnk', 'type': 'artist', 'uri': 'spotify:artist:0wN7ALPeSqOb16sG7vl4RC'}, {'external_urls': {'spotify': 'https://open.spotify.com/artist/0bZJlYfMkcOIjtBCbSvsys'}, 'href': 'https://api.spotify.com/v1/artists/0bZJlYfMkcOIjtBCbSvsys', 'id': '0bZJlYfMkcOIjtBCbSvsys', 'name': 'Danæ', 'type': 'artist', 'uri': 'spotify:artist:0bZJlYfMkcOIjtBCbSvsys'}], 'available_markets': ['AR', 'AU', 'AT', 'BE', 'BO', 'BR', 'BG', 'CA', 'CL', 'CO', 'CR', 'CY', 'CZ', 'DK', 'DO', 'DE', 'EC', 'EE', 'SV', 'FI', 'FR', 'GR', 'GT', 'HN', 'HK', 'HU', 'IS', 'IE', 'IT', 'LV', 'LT', 'LU', 'MY', 'MT', 'MX', 'NL', 'NZ', 'NI', 'NO', 'PA', 'PY', 'PE', 'PH', 'PL', 'PT', 'SG', 'SK', 'ES', 'SE', 'CH', 'TW', 'TR', 'UY', 'US', 'GB', 'AD', 'LI', 'MC', 'ID', 'JP', 'TH', 'VN', 'RO', 'IL', 'ZA', 'SA', 'AE', 'BH', 'QA', 'OM', 'KW', 'EG', 'MA', 'DZ', 'TN', 'LB', 'JO', 'PS', 'IN', 'BY', 'KZ', 'MD', 'UA', 'AL', 'BA', 'HR', 'ME', 'MK', 'RS', 'SI', 'KR', 'BD', 'PK', 'LK', 'GH', 'KE', 'NG', 'TZ', 'UG', 'AG', 'AM', 'BS', 'BB', 'BZ', 'BT', 'BW', 'BF', 'CV', 'CW', 'DM', 'FJ', 'GM', 'GE', 'GD', 'GW', 'GY', 'HT', 'JM', 'KI', 'LS', 'LR', 'MW', 'MV', 'ML', 'MH', 'FM', 'NA', 'NR', 'NE', 'PW', 'PG', 'PR', 'WS', 'SM', 'ST', 'SN', 'SC', 'SL', 'SB', 'KN', 'LC', 'VC', 'SR', 'TL', 'TO', 'TT', 'TV', 'VU', 'AZ', 'BN', 'BI', 'KH', 'CM', 'TD', 'KM', 'GQ', 'SZ', 'GA', 'GN', 'KG', 'LA', 'MO', 'MR', 'MN', 'NP', 'RW', 'TG', 'UZ', 'ZW', 'BJ', 'MG', 'MU', 'MZ', 'AO', 'CI', 'DJ', 'ZM', 'CD', 'CG', 'IQ', 'LY', 'TJ', 'VE', 'ET', 'XK'], 'external_urls': {'spotify': 'https://open.spotify.com/album/1BIWWMpIz8gCx3eubMSXLw'}, 'href': 'https://api.spotify.com/v1/albums/1BIWWMpIz8gCx3eubMSXLw', 'id': '1BIWWMpIz8gCx3eubMSXLw', 'images': [{'height': 640, 'url': 'https://i.scdn.co/image/ab67616d0000b273a458c9cce54bc985774010d2', 'width': 640}, {'height': 300, 'url': 'https://i.scdn.co/image/ab67616d00001e02a458c9cce54bc985774010d2', 'width': 300}, {'height': 64, 'url': 'https://i.scdn.co/image/ab67616d00004851a458c9cce54bc985774010d2', 'width': 64}], 'name': 'Bonne Nuit', 'release_date': '2025-08-29', 'release_date_precision': 'day', 'total_tracks': 1, 'type': 'album', 'uri': 'spotify:album:1BIWWMpIz8gCx3eubMSXLw'}, 'artists': [{'external_urls': {'spotify': 'https://open.spotify.com/artist/0wN7ALPeSqOb16sG7vl4RC'}, 'href': 'https://api.spotify.com/v1/artists/0wN7ALPeSqOb16sG7vl4RC', 'id': '0wN7ALPeSqOb16sG7vl4RC', 'name': 'Drxnk', 'type': 'artist', 'uri': 'spotify:artist:0wN7ALPeSqOb16sG7vl4RC'}, {'external_urls': {'spotify': 'https://open.spotify.com/artist/0bZJlYfMkcOIjtBCbSvsys'}, 'href': 'https://api.spotify.com/v1/artists/0bZJlYfMkcOIjtBCbSvsys', 'id': '0bZJlYfMkcOIjtBCbSvsys', 'name': 'Danæ', 'type': 'artist', 'uri': 'spotify:artist:0bZJlYfMkcOIjtBCbSvsys'}], 'available_markets': ['AR', 'AU', 'AT', 'BE', 'BO', 'BR', 'BG', 'CA', 'CL', 'CO', 'CR', 'CY', 'CZ', 'DK', 'DO', 'DE', 'EC', 'EE', 'SV', 'FI', 'FR', 'GR', 'GT', 'HN', 'HK', 'HU', 'IS', 'IE', 'IT', 'LV', 'LT', 'LU', 'MY', 'MT', 'MX', 'NL', 'NZ', 'NI', 'NO', 'PA', 'PY', 'PE', 'PH', 'PL', 'PT', 'SG', 'SK', 'ES', 'SE', 'CH', 'TW', 'TR', 'UY', 'US', 'GB', 'AD', 'LI', 'MC', 'ID', 'JP', 'TH', 'VN', 'RO', 'IL', 'ZA', 'SA', 'AE', 'BH', 'QA', 'OM', 'KW', 'EG', 'MA', 'DZ', 'TN', 'LB', 'JO', 'PS', 'IN', 'BY', 'KZ', 'MD', 'UA', 'AL', 'BA', 'HR', 'ME', 'MK', 'RS', 'SI', 'KR', 'BD', 'PK', 'LK', 'GH', 'KE', 'NG', 'TZ', 'UG', 'AG', 'AM', 'BS', 'BB', 'BZ', 'BT', 'BW', 'BF', 'CV', 'CW', 'DM', 'FJ', 'GM', 'GE', 'GD', 'GW', 'GY', 'HT', 'JM', 'KI', 'LS', 'LR', 'MW', 'MV', 'ML', 'MH', 'FM', 'NA', 'NR', 'NE', 'PW', 'PG', 'PR', 'WS', 'SM', 'ST', 'SN', 'SC', 'SL', 'SB', 'KN', 'LC', 'VC', 'SR', 'TL', 'TO', 'TT', 'TV', 'VU', 'AZ', 'BN', 'BI', 'KH', 'CM', 'TD', 'KM', 'GQ', 'SZ', 'GA', 'GN', 'KG', 'LA', 'MO', 'MR', 'MN', 'NP', 'RW', 'TG', 'UZ', 'ZW', 'BJ', 'MG', 'MU', 'MZ', 'AO', 'CI', 'DJ', 'ZM', 'CD', 'CG', 'IQ', 'LY', 'TJ', 'VE', 'ET', 'XK'], 'disc_number': 1, 'duration_ms': 171940, 'explicit': False, 'external_ids': {'isrc': 'US3DF2560454'}, 'external_urls': {'spotify': 'https://open.spotify.com/track/6bAg5fP8ZR5eITVjmie4xG'}, 'href': 'https://api.spotify.com/v1/tracks/6bAg5fP8ZR5eITVjmie4xG', 'id': '6bAg5fP8ZR5eITVjmie4xG', 'is_local': False, 'name': 'Bonne Nuit', 'popularity': 49, 'preview_url': None, 'track_number': 1, 'type': 'track', 'uri': 'spotify:track:6bAg5fP8ZR5eITVjmie4xG'}, 'played_at': '2025-10-26T15:01:37.359Z', 'context': {'external_urls': {'spotify': 'https://open.spotify.com/playlist/37i9dQZF1DWZZbwlv3Vmtr'}, 'href': 'https://api.spotify.com/v1/playlists/37i9dQZF1DWZZbwlv3Vmtr', 'type': 'playlist', 'uri': 'spotify:playlist:37i9dQZF1DWZZbwlv3Vmtr'}}",
         "{'ingested_at': '2025-10-26T15:01:37.359Z', 'execution_date': '2025-10-26T00:00:00+00:00', 'dag_id': 'spotify_raw_ingestion_jsonl', 'run_id': 'manual__2025-10-26T15:01:37.359000Z', 'source': 'spotify_api'}"
        ],
        [
         "22",
         "{'track': {'album': {'album_type': 'single', 'artists': [{'external_urls': {'spotify': 'https://open.spotify.com/artist/12BlQzNeSJJOSrPciICYFu'}, 'href': 'https://api.spotify.com/v1/artists/12BlQzNeSJJOSrPciICYFu', 'id': '12BlQzNeSJJOSrPciICYFu', 'name': 'Pi Teddy', 'type': 'artist', 'uri': 'spotify:artist:12BlQzNeSJJOSrPciICYFu'}], 'available_markets': ['AR', 'AU', 'AT', 'BE', 'BO', 'BR', 'BG', 'CA', 'CL', 'CO', 'CR', 'CY', 'CZ', 'DK', 'DO', 'DE', 'EC', 'EE', 'SV', 'FI', 'FR', 'GR', 'GT', 'HN', 'HK', 'HU', 'IS', 'IE', 'IT', 'LV', 'LT', 'LU', 'MY', 'MT', 'MX', 'NL', 'NZ', 'NI', 'NO', 'PA', 'PY', 'PE', 'PH', 'PL', 'PT', 'SG', 'SK', 'ES', 'SE', 'CH', 'TW', 'TR', 'UY', 'US', 'GB', 'AD', 'LI', 'MC', 'ID', 'JP', 'TH', 'VN', 'RO', 'IL', 'ZA', 'SA', 'AE', 'BH', 'QA', 'OM', 'KW', 'EG', 'MA', 'DZ', 'TN', 'LB', 'JO', 'PS', 'IN', 'BY', 'KZ', 'MD', 'UA', 'AL', 'BA', 'HR', 'ME', 'MK', 'RS', 'SI', 'KR', 'BD', 'PK', 'LK', 'GH', 'KE', 'NG', 'TZ', 'UG', 'AG', 'AM', 'BS', 'BB', 'BZ', 'BT', 'BW', 'BF', 'CV', 'CW', 'DM', 'FJ', 'GM', 'GE', 'GD', 'GW', 'GY', 'HT', 'JM', 'KI', 'LS', 'LR', 'MW', 'MV', 'ML', 'MH', 'FM', 'NA', 'NR', 'NE', 'PW', 'PG', 'PR', 'WS', 'SM', 'ST', 'SN', 'SC', 'SL', 'SB', 'KN', 'LC', 'VC', 'SR', 'TL', 'TO', 'TT', 'TV', 'VU', 'AZ', 'BN', 'BI', 'KH', 'CM', 'TD', 'KM', 'GQ', 'SZ', 'GA', 'GN', 'KG', 'LA', 'MO', 'MR', 'MN', 'NP', 'RW', 'TG', 'UZ', 'ZW', 'BJ', 'MG', 'MU', 'MZ', 'AO', 'CI', 'DJ', 'ZM', 'CD', 'CG', 'IQ', 'LY', 'TJ', 'VE', 'ET', 'XK'], 'external_urls': {'spotify': 'https://open.spotify.com/album/5IET1j6vHSxtl1OqU94PjE'}, 'href': 'https://api.spotify.com/v1/albums/5IET1j6vHSxtl1OqU94PjE', 'id': '5IET1j6vHSxtl1OqU94PjE', 'images': [{'height': 640, 'url': 'https://i.scdn.co/image/ab67616d0000b273d7095955d3e80a6814df3998', 'width': 640}, {'height': 300, 'url': 'https://i.scdn.co/image/ab67616d00001e02d7095955d3e80a6814df3998', 'width': 300}, {'height': 64, 'url': 'https://i.scdn.co/image/ab67616d00004851d7095955d3e80a6814df3998', 'width': 64}], 'name': 'Echo Bloom', 'release_date': '2025-05-02', 'release_date_precision': 'day', 'total_tracks': 1, 'type': 'album', 'uri': 'spotify:album:5IET1j6vHSxtl1OqU94PjE'}, 'artists': [{'external_urls': {'spotify': 'https://open.spotify.com/artist/12BlQzNeSJJOSrPciICYFu'}, 'href': 'https://api.spotify.com/v1/artists/12BlQzNeSJJOSrPciICYFu', 'id': '12BlQzNeSJJOSrPciICYFu', 'name': 'Pi Teddy', 'type': 'artist', 'uri': 'spotify:artist:12BlQzNeSJJOSrPciICYFu'}], 'available_markets': ['AR', 'AU', 'AT', 'BE', 'BO', 'BR', 'BG', 'CA', 'CL', 'CO', 'CR', 'CY', 'CZ', 'DK', 'DO', 'DE', 'EC', 'EE', 'SV', 'FI', 'FR', 'GR', 'GT', 'HN', 'HK', 'HU', 'IS', 'IE', 'IT', 'LV', 'LT', 'LU', 'MY', 'MT', 'MX', 'NL', 'NZ', 'NI', 'NO', 'PA', 'PY', 'PE', 'PH', 'PL', 'PT', 'SG', 'SK', 'ES', 'SE', 'CH', 'TW', 'TR', 'UY', 'US', 'GB', 'AD', 'LI', 'MC', 'ID', 'JP', 'TH', 'VN', 'RO', 'IL', 'ZA', 'SA', 'AE', 'BH', 'QA', 'OM', 'KW', 'EG', 'MA', 'DZ', 'TN', 'LB', 'JO', 'PS', 'IN', 'BY', 'KZ', 'MD', 'UA', 'AL', 'BA', 'HR', 'ME', 'MK', 'RS', 'SI', 'KR', 'BD', 'PK', 'LK', 'GH', 'KE', 'NG', 'TZ', 'UG', 'AG', 'AM', 'BS', 'BB', 'BZ', 'BT', 'BW', 'BF', 'CV', 'CW', 'DM', 'FJ', 'GM', 'GE', 'GD', 'GW', 'GY', 'HT', 'JM', 'KI', 'LS', 'LR', 'MW', 'MV', 'ML', 'MH', 'FM', 'NA', 'NR', 'NE', 'PW', 'PG', 'PR', 'WS', 'SM', 'ST', 'SN', 'SC', 'SL', 'SB', 'KN', 'LC', 'VC', 'SR', 'TL', 'TO', 'TT', 'TV', 'VU', 'AZ', 'BN', 'BI', 'KH', 'CM', 'TD', 'KM', 'GQ', 'SZ', 'GA', 'GN', 'KG', 'LA', 'MO', 'MR', 'MN', 'NP', 'RW', 'TG', 'UZ', 'ZW', 'BJ', 'MG', 'MU', 'MZ', 'AO', 'CI', 'DJ', 'ZM', 'CD', 'CG', 'IQ', 'LY', 'TJ', 'VE', 'ET', 'XK'], 'disc_number': 1, 'duration_ms': 121836, 'explicit': False, 'external_ids': {'isrc': 'SE4RG2501190'}, 'external_urls': {'spotify': 'https://open.spotify.com/track/3082ybqRaGoR1rp2OtZtki'}, 'href': 'https://api.spotify.com/v1/tracks/3082ybqRaGoR1rp2OtZtki', 'id': '3082ybqRaGoR1rp2OtZtki', 'is_local': False, 'name': 'Echo Bloom', 'popularity': 48, 'preview_url': None, 'track_number': 1, 'type': 'track', 'uri': 'spotify:track:3082ybqRaGoR1rp2OtZtki'}, 'played_at': '2025-10-26T14:59:21.174Z', 'context': {'external_urls': {'spotify': 'https://open.spotify.com/playlist/37i9dQZF1DWZZbwlv3Vmtr'}, 'href': 'https://api.spotify.com/v1/playlists/37i9dQZF1DWZZbwlv3Vmtr', 'type': 'playlist', 'uri': 'spotify:playlist:37i9dQZF1DWZZbwlv3Vmtr'}}",
         "{'ingested_at': '2025-10-26T14:59:21.174Z', 'execution_date': '2025-10-26T00:00:00+00:00', 'dag_id': 'spotify_raw_ingestion_jsonl', 'run_id': 'manual__2025-10-26T14:59:21.174000Z', 'source': 'spotify_api'}"
        ],
        [
         "23",
         "{'track': {'album': {'album_type': 'single', 'artists': [{'external_urls': {'spotify': 'https://open.spotify.com/artist/7lwpTjhIayZY8VCuUJHZKt'}, 'href': 'https://api.spotify.com/v1/artists/7lwpTjhIayZY8VCuUJHZKt', 'id': '7lwpTjhIayZY8VCuUJHZKt', 'name': 'London Lighthouse', 'type': 'artist', 'uri': 'spotify:artist:7lwpTjhIayZY8VCuUJHZKt'}], 'available_markets': ['AR', 'AU', 'AT', 'BE', 'BO', 'BR', 'BG', 'CA', 'CL', 'CO', 'CR', 'CY', 'CZ', 'DK', 'DO', 'DE', 'EC', 'EE', 'SV', 'FI', 'FR', 'GR', 'GT', 'HN', 'HK', 'HU', 'IS', 'IE', 'IT', 'LV', 'LT', 'LU', 'MY', 'MT', 'MX', 'NL', 'NZ', 'NI', 'NO', 'PA', 'PY', 'PE', 'PH', 'PL', 'PT', 'SG', 'SK', 'ES', 'SE', 'CH', 'TW', 'TR', 'UY', 'US', 'GB', 'AD', 'LI', 'MC', 'ID', 'JP', 'TH', 'VN', 'RO', 'IL', 'ZA', 'SA', 'AE', 'BH', 'QA', 'OM', 'KW', 'EG', 'MA', 'DZ', 'TN', 'LB', 'JO', 'PS', 'IN', 'BY', 'KZ', 'MD', 'UA', 'AL', 'BA', 'HR', 'ME', 'MK', 'RS', 'SI', 'KR', 'BD', 'PK', 'LK', 'GH', 'KE', 'NG', 'TZ', 'UG', 'AG', 'AM', 'BS', 'BB', 'BZ', 'BT', 'BW', 'BF', 'CV', 'CW', 'DM', 'FJ', 'GM', 'GE', 'GD', 'GW', 'GY', 'HT', 'JM', 'KI', 'LS', 'LR', 'MW', 'MV', 'ML', 'MH', 'FM', 'NA', 'NR', 'NE', 'PW', 'PG', 'PR', 'WS', 'SM', 'ST', 'SN', 'SC', 'SL', 'SB', 'KN', 'LC', 'VC', 'SR', 'TL', 'TO', 'TT', 'TV', 'VU', 'AZ', 'BN', 'BI', 'KH', 'CM', 'TD', 'KM', 'GQ', 'SZ', 'GA', 'GN', 'KG', 'LA', 'MO', 'MR', 'MN', 'NP', 'RW', 'TG', 'UZ', 'ZW', 'BJ', 'MG', 'MU', 'MZ', 'AO', 'CI', 'DJ', 'ZM', 'CD', 'CG', 'IQ', 'LY', 'TJ', 'VE', 'ET', 'XK'], 'external_urls': {'spotify': 'https://open.spotify.com/album/3aSXNNj8XoYJZ5tOPPsH2w'}, 'href': 'https://api.spotify.com/v1/albums/3aSXNNj8XoYJZ5tOPPsH2w', 'id': '3aSXNNj8XoYJZ5tOPPsH2w', 'images': [{'height': 640, 'url': 'https://i.scdn.co/image/ab67616d0000b2731a9e6ddfa683a4fb3bfaa9d6', 'width': 640}, {'height': 300, 'url': 'https://i.scdn.co/image/ab67616d00001e021a9e6ddfa683a4fb3bfaa9d6', 'width': 300}, {'height': 64, 'url': 'https://i.scdn.co/image/ab67616d000048511a9e6ddfa683a4fb3bfaa9d6', 'width': 64}], 'name': 'Papa Knows Best', 'release_date': '2024-01-21', 'release_date_precision': 'day', 'total_tracks': 1, 'type': 'album', 'uri': 'spotify:album:3aSXNNj8XoYJZ5tOPPsH2w'}, 'artists': [{'external_urls': {'spotify': 'https://open.spotify.com/artist/7lwpTjhIayZY8VCuUJHZKt'}, 'href': 'https://api.spotify.com/v1/artists/7lwpTjhIayZY8VCuUJHZKt', 'id': '7lwpTjhIayZY8VCuUJHZKt', 'name': 'London Lighthouse', 'type': 'artist', 'uri': 'spotify:artist:7lwpTjhIayZY8VCuUJHZKt'}], 'available_markets': ['AR', 'AU', 'AT', 'BE', 'BO', 'BR', 'BG', 'CA', 'CL', 'CO', 'CR', 'CY', 'CZ', 'DK', 'DO', 'DE', 'EC', 'EE', 'SV', 'FI', 'FR', 'GR', 'GT', 'HN', 'HK', 'HU', 'IS', 'IE', 'IT', 'LV', 'LT', 'LU', 'MY', 'MT', 'MX', 'NL', 'NZ', 'NI', 'NO', 'PA', 'PY', 'PE', 'PH', 'PL', 'PT', 'SG', 'SK', 'ES', 'SE', 'CH', 'TW', 'TR', 'UY', 'US', 'GB', 'AD', 'LI', 'MC', 'ID', 'JP', 'TH', 'VN', 'RO', 'IL', 'ZA', 'SA', 'AE', 'BH', 'QA', 'OM', 'KW', 'EG', 'MA', 'DZ', 'TN', 'LB', 'JO', 'PS', 'IN', 'BY', 'KZ', 'MD', 'UA', 'AL', 'BA', 'HR', 'ME', 'MK', 'RS', 'SI', 'KR', 'BD', 'PK', 'LK', 'GH', 'KE', 'NG', 'TZ', 'UG', 'AG', 'AM', 'BS', 'BB', 'BZ', 'BT', 'BW', 'BF', 'CV', 'CW', 'DM', 'FJ', 'GM', 'GE', 'GD', 'GW', 'GY', 'HT', 'JM', 'KI', 'LS', 'LR', 'MW', 'MV', 'ML', 'MH', 'FM', 'NA', 'NR', 'NE', 'PW', 'PG', 'PR', 'WS', 'SM', 'ST', 'SN', 'SC', 'SL', 'SB', 'KN', 'LC', 'VC', 'SR', 'TL', 'TO', 'TT', 'TV', 'VU', 'AZ', 'BN', 'BI', 'KH', 'CM', 'TD', 'KM', 'GQ', 'SZ', 'GA', 'GN', 'KG', 'LA', 'MO', 'MR', 'MN', 'NP', 'RW', 'TG', 'UZ', 'ZW', 'BJ', 'MG', 'MU', 'MZ', 'AO', 'CI', 'DJ', 'ZM', 'CD', 'CG', 'IQ', 'LY', 'TJ', 'VE', 'ET', 'XK'], 'disc_number': 1, 'duration_ms': 132371, 'explicit': False, 'external_ids': {'isrc': 'QZAKB2368465'}, 'external_urls': {'spotify': 'https://open.spotify.com/track/2TLIc551287wxILT6GOeou'}, 'href': 'https://api.spotify.com/v1/tracks/2TLIc551287wxILT6GOeou', 'id': '2TLIc551287wxILT6GOeou', 'is_local': False, 'name': 'Papa Knows Best', 'popularity': 47, 'preview_url': None, 'track_number': 1, 'type': 'track', 'uri': 'spotify:track:2TLIc551287wxILT6GOeou'}, 'played_at': '2025-10-26T14:57:43.072Z', 'context': {'external_urls': {'spotify': 'https://open.spotify.com/playlist/37i9dQZF1DWZZbwlv3Vmtr'}, 'href': 'https://api.spotify.com/v1/playlists/37i9dQZF1DWZZbwlv3Vmtr', 'type': 'playlist', 'uri': 'spotify:playlist:37i9dQZF1DWZZbwlv3Vmtr'}}",
         "{'ingested_at': '2025-10-26T14:57:43.072Z', 'execution_date': '2025-10-26T00:00:00+00:00', 'dag_id': 'spotify_raw_ingestion_jsonl', 'run_id': 'manual__2025-10-26T14:57:43.072000Z', 'source': 'spotify_api'}"
        ],
        [
         "24",
         "{'track': {'album': {'album_type': 'single', 'artists': [{'external_urls': {'spotify': 'https://open.spotify.com/artist/0WyQmbs3hiSSWf79amKfbr'}, 'href': 'https://api.spotify.com/v1/artists/0WyQmbs3hiSSWf79amKfbr', 'id': '0WyQmbs3hiSSWf79amKfbr', 'name': 'aroramo', 'type': 'artist', 'uri': 'spotify:artist:0WyQmbs3hiSSWf79amKfbr'}], 'available_markets': ['AR', 'AU', 'AT', 'BE', 'BO', 'BR', 'BG', 'CA', 'CL', 'CO', 'CR', 'CY', 'CZ', 'DK', 'DO', 'DE', 'EC', 'EE', 'SV', 'FI', 'FR', 'GR', 'GT', 'HN', 'HK', 'HU', 'IS', 'IE', 'IT', 'LV', 'LT', 'LU', 'MY', 'MT', 'MX', 'NL', 'NZ', 'NI', 'NO', 'PA', 'PY', 'PE', 'PH', 'PL', 'PT', 'SG', 'SK', 'ES', 'SE', 'CH', 'TW', 'TR', 'UY', 'US', 'GB', 'AD', 'LI', 'MC', 'ID', 'JP', 'TH', 'VN', 'RO', 'IL', 'ZA', 'SA', 'AE', 'BH', 'QA', 'OM', 'KW', 'EG', 'MA', 'DZ', 'TN', 'LB', 'JO', 'PS', 'IN', 'BY', 'KZ', 'MD', 'UA', 'AL', 'BA', 'HR', 'ME', 'MK', 'RS', 'SI', 'KR', 'BD', 'PK', 'LK', 'GH', 'KE', 'NG', 'TZ', 'UG', 'AG', 'AM', 'BS', 'BB', 'BZ', 'BT', 'BW', 'BF', 'CV', 'CW', 'DM', 'FJ', 'GM', 'GE', 'GD', 'GW', 'GY', 'HT', 'JM', 'KI', 'LS', 'LR', 'MW', 'MV', 'ML', 'MH', 'FM', 'NA', 'NR', 'NE', 'PW', 'PG', 'PR', 'WS', 'SM', 'ST', 'SN', 'SC', 'SL', 'SB', 'KN', 'LC', 'VC', 'SR', 'TL', 'TO', 'TT', 'TV', 'VU', 'AZ', 'BN', 'BI', 'KH', 'CM', 'TD', 'KM', 'GQ', 'SZ', 'GA', 'GN', 'KG', 'LA', 'MO', 'MR', 'MN', 'NP', 'RW', 'TG', 'UZ', 'ZW', 'BJ', 'MG', 'MU', 'MZ', 'AO', 'CI', 'DJ', 'ZM', 'CD', 'CG', 'IQ', 'LY', 'TJ', 'VE', 'ET', 'XK'], 'external_urls': {'spotify': 'https://open.spotify.com/album/6AWQoLV6SxT0kYCnwtg7zz'}, 'href': 'https://api.spotify.com/v1/albums/6AWQoLV6SxT0kYCnwtg7zz', 'id': '6AWQoLV6SxT0kYCnwtg7zz', 'images': [{'height': 640, 'url': 'https://i.scdn.co/image/ab67616d0000b273a74467d449ce26d86daa1db1', 'width': 640}, {'height': 300, 'url': 'https://i.scdn.co/image/ab67616d00001e02a74467d449ce26d86daa1db1', 'width': 300}, {'height': 64, 'url': 'https://i.scdn.co/image/ab67616d00004851a74467d449ce26d86daa1db1', 'width': 64}], 'name': 'machine', 'release_date': '2024-12-08', 'release_date_precision': 'day', 'total_tracks': 1, 'type': 'album', 'uri': 'spotify:album:6AWQoLV6SxT0kYCnwtg7zz'}, 'artists': [{'external_urls': {'spotify': 'https://open.spotify.com/artist/0WyQmbs3hiSSWf79amKfbr'}, 'href': 'https://api.spotify.com/v1/artists/0WyQmbs3hiSSWf79amKfbr', 'id': '0WyQmbs3hiSSWf79amKfbr', 'name': 'aroramo', 'type': 'artist', 'uri': 'spotify:artist:0WyQmbs3hiSSWf79amKfbr'}], 'available_markets': ['AR', 'AU', 'AT', 'BE', 'BO', 'BR', 'BG', 'CA', 'CL', 'CO', 'CR', 'CY', 'CZ', 'DK', 'DO', 'DE', 'EC', 'EE', 'SV', 'FI', 'FR', 'GR', 'GT', 'HN', 'HK', 'HU', 'IS', 'IE', 'IT', 'LV', 'LT', 'LU', 'MY', 'MT', 'MX', 'NL', 'NZ', 'NI', 'NO', 'PA', 'PY', 'PE', 'PH', 'PL', 'PT', 'SG', 'SK', 'ES', 'SE', 'CH', 'TW', 'TR', 'UY', 'US', 'GB', 'AD', 'LI', 'MC', 'ID', 'JP', 'TH', 'VN', 'RO', 'IL', 'ZA', 'SA', 'AE', 'BH', 'QA', 'OM', 'KW', 'EG', 'MA', 'DZ', 'TN', 'LB', 'JO', 'PS', 'IN', 'BY', 'KZ', 'MD', 'UA', 'AL', 'BA', 'HR', 'ME', 'MK', 'RS', 'SI', 'KR', 'BD', 'PK', 'LK', 'GH', 'KE', 'NG', 'TZ', 'UG', 'AG', 'AM', 'BS', 'BB', 'BZ', 'BT', 'BW', 'BF', 'CV', 'CW', 'DM', 'FJ', 'GM', 'GE', 'GD', 'GW', 'GY', 'HT', 'JM', 'KI', 'LS', 'LR', 'MW', 'MV', 'ML', 'MH', 'FM', 'NA', 'NR', 'NE', 'PW', 'PG', 'PR', 'WS', 'SM', 'ST', 'SN', 'SC', 'SL', 'SB', 'KN', 'LC', 'VC', 'SR', 'TL', 'TO', 'TT', 'TV', 'VU', 'AZ', 'BN', 'BI', 'KH', 'CM', 'TD', 'KM', 'GQ', 'SZ', 'GA', 'GN', 'KG', 'LA', 'MO', 'MR', 'MN', 'NP', 'RW', 'TG', 'UZ', 'ZW', 'BJ', 'MG', 'MU', 'MZ', 'AO', 'CI', 'DJ', 'ZM', 'CD', 'CG', 'IQ', 'LY', 'TJ', 'VE', 'ET', 'XK'], 'disc_number': 1, 'duration_ms': 128000, 'explicit': False, 'external_ids': {'isrc': 'SE69Z2442286'}, 'external_urls': {'spotify': 'https://open.spotify.com/track/3O7bHygR4AijQolwOY2nng'}, 'href': 'https://api.spotify.com/v1/tracks/3O7bHygR4AijQolwOY2nng', 'id': '3O7bHygR4AijQolwOY2nng', 'is_local': False, 'name': 'machine', 'popularity': 59, 'preview_url': None, 'track_number': 1, 'type': 'track', 'uri': 'spotify:track:3O7bHygR4AijQolwOY2nng'}, 'played_at': '2025-10-26T14:55:49.999Z', 'context': {'external_urls': {'spotify': 'https://open.spotify.com/playlist/37i9dQZF1DWZZbwlv3Vmtr'}, 'href': 'https://api.spotify.com/v1/playlists/37i9dQZF1DWZZbwlv3Vmtr', 'type': 'playlist', 'uri': 'spotify:playlist:37i9dQZF1DWZZbwlv3Vmtr'}}",
         "{'ingested_at': '2025-10-26T14:55:49.999Z', 'execution_date': '2025-10-26T00:00:00+00:00', 'dag_id': 'spotify_raw_ingestion_jsonl', 'run_id': 'manual__2025-10-26T14:55:49.999000Z', 'source': 'spotify_api'}"
        ],
        [
         "25",
         "{'track': {'album': {'album_type': 'single', 'artists': [{'external_urls': {'spotify': 'https://open.spotify.com/artist/4HDIsEQVKPkey4XVbvgUcT'}, 'href': 'https://api.spotify.com/v1/artists/4HDIsEQVKPkey4XVbvgUcT', 'id': '4HDIsEQVKPkey4XVbvgUcT', 'name': 'Lazlow', 'type': 'artist', 'uri': 'spotify:artist:4HDIsEQVKPkey4XVbvgUcT'}], 'available_markets': ['AR', 'AU', 'AT', 'BE', 'BO', 'BR', 'BG', 'CA', 'CL', 'CO', 'CR', 'CY', 'CZ', 'DK', 'DO', 'DE', 'EC', 'EE', 'SV', 'FI', 'FR', 'GR', 'GT', 'HN', 'HK', 'HU', 'IS', 'IE', 'IT', 'LV', 'LT', 'LU', 'MY', 'MT', 'MX', 'NL', 'NZ', 'NI', 'NO', 'PA', 'PY', 'PE', 'PH', 'PL', 'PT', 'SG', 'SK', 'ES', 'SE', 'CH', 'TW', 'TR', 'UY', 'US', 'GB', 'AD', 'LI', 'MC', 'ID', 'JP', 'TH', 'VN', 'RO', 'IL', 'ZA', 'SA', 'AE', 'BH', 'QA', 'OM', 'KW', 'EG', 'MA', 'DZ', 'TN', 'LB', 'JO', 'PS', 'IN', 'BY', 'KZ', 'MD', 'UA', 'AL', 'BA', 'HR', 'ME', 'MK', 'RS', 'SI', 'KR', 'BD', 'PK', 'LK', 'GH', 'KE', 'NG', 'TZ', 'UG', 'AG', 'AM', 'BS', 'BB', 'BZ', 'BT', 'BW', 'BF', 'CV', 'CW', 'DM', 'FJ', 'GM', 'GE', 'GD', 'GW', 'GY', 'HT', 'JM', 'KI', 'LS', 'LR', 'MW', 'MV', 'ML', 'MH', 'FM', 'NA', 'NR', 'NE', 'PW', 'PG', 'PR', 'WS', 'SM', 'ST', 'SN', 'SC', 'SL', 'SB', 'KN', 'LC', 'VC', 'SR', 'TL', 'TO', 'TT', 'TV', 'VU', 'AZ', 'BN', 'BI', 'KH', 'CM', 'TD', 'KM', 'GQ', 'SZ', 'GA', 'GN', 'KG', 'LA', 'MO', 'MR', 'MN', 'NP', 'RW', 'TG', 'UZ', 'ZW', 'BJ', 'MG', 'MU', 'MZ', 'AO', 'CI', 'DJ', 'ZM', 'CD', 'CG', 'IQ', 'LY', 'TJ', 'VE', 'ET', 'XK'], 'external_urls': {'spotify': 'https://open.spotify.com/album/5uUb9ixhJKIFVpJktTFair'}, 'href': 'https://api.spotify.com/v1/albums/5uUb9ixhJKIFVpJktTFair', 'id': '5uUb9ixhJKIFVpJktTFair', 'images': [{'height': 640, 'url': 'https://i.scdn.co/image/ab67616d0000b2739f3e0a520c192e9cdc6f3d85', 'width': 640}, {'height': 300, 'url': 'https://i.scdn.co/image/ab67616d00001e029f3e0a520c192e9cdc6f3d85', 'width': 300}, {'height': 64, 'url': 'https://i.scdn.co/image/ab67616d000048519f3e0a520c192e9cdc6f3d85', 'width': 64}], 'name': 'Indigo', 'release_date': '2023-09-22', 'release_date_precision': 'day', 'total_tracks': 1, 'type': 'album', 'uri': 'spotify:album:5uUb9ixhJKIFVpJktTFair'}, 'artists': [{'external_urls': {'spotify': 'https://open.spotify.com/artist/4HDIsEQVKPkey4XVbvgUcT'}, 'href': 'https://api.spotify.com/v1/artists/4HDIsEQVKPkey4XVbvgUcT', 'id': '4HDIsEQVKPkey4XVbvgUcT', 'name': 'Lazlow', 'type': 'artist', 'uri': 'spotify:artist:4HDIsEQVKPkey4XVbvgUcT'}], 'available_markets': ['AR', 'AU', 'AT', 'BE', 'BO', 'BR', 'BG', 'CA', 'CL', 'CO', 'CR', 'CY', 'CZ', 'DK', 'DO', 'DE', 'EC', 'EE', 'SV', 'FI', 'FR', 'GR', 'GT', 'HN', 'HK', 'HU', 'IS', 'IE', 'IT', 'LV', 'LT', 'LU', 'MY', 'MT', 'MX', 'NL', 'NZ', 'NI', 'NO', 'PA', 'PY', 'PE', 'PH', 'PL', 'PT', 'SG', 'SK', 'ES', 'SE', 'CH', 'TW', 'TR', 'UY', 'US', 'GB', 'AD', 'LI', 'MC', 'ID', 'JP', 'TH', 'VN', 'RO', 'IL', 'ZA', 'SA', 'AE', 'BH', 'QA', 'OM', 'KW', 'EG', 'MA', 'DZ', 'TN', 'LB', 'JO', 'PS', 'IN', 'BY', 'KZ', 'MD', 'UA', 'AL', 'BA', 'HR', 'ME', 'MK', 'RS', 'SI', 'KR', 'BD', 'PK', 'LK', 'GH', 'KE', 'NG', 'TZ', 'UG', 'AG', 'AM', 'BS', 'BB', 'BZ', 'BT', 'BW', 'BF', 'CV', 'CW', 'DM', 'FJ', 'GM', 'GE', 'GD', 'GW', 'GY', 'HT', 'JM', 'KI', 'LS', 'LR', 'MW', 'MV', 'ML', 'MH', 'FM', 'NA', 'NR', 'NE', 'PW', 'PG', 'PR', 'WS', 'SM', 'ST', 'SN', 'SC', 'SL', 'SB', 'KN', 'LC', 'VC', 'SR', 'TL', 'TO', 'TT', 'TV', 'VU', 'AZ', 'BN', 'BI', 'KH', 'CM', 'TD', 'KM', 'GQ', 'SZ', 'GA', 'GN', 'KG', 'LA', 'MO', 'MR', 'MN', 'NP', 'RW', 'TG', 'UZ', 'ZW', 'BJ', 'MG', 'MU', 'MZ', 'AO', 'CI', 'DJ', 'ZM', 'CD', 'CG', 'IQ', 'LY', 'TJ', 'VE', 'ET', 'XK'], 'disc_number': 1, 'duration_ms': 134250, 'explicit': False, 'external_ids': {'isrc': 'DEQ022382862'}, 'external_urls': {'spotify': 'https://open.spotify.com/track/2Q0Sgox8fZRoqE61pD9m2y'}, 'href': 'https://api.spotify.com/v1/tracks/2Q0Sgox8fZRoqE61pD9m2y', 'id': '2Q0Sgox8fZRoqE61pD9m2y', 'is_local': False, 'name': 'Indigo', 'popularity': 53, 'preview_url': None, 'track_number': 1, 'type': 'track', 'uri': 'spotify:track:2Q0Sgox8fZRoqE61pD9m2y'}, 'played_at': '2025-10-26T14:54:07.476Z', 'context': {'external_urls': {'spotify': 'https://open.spotify.com/playlist/37i9dQZF1DWZZbwlv3Vmtr'}, 'href': 'https://api.spotify.com/v1/playlists/37i9dQZF1DWZZbwlv3Vmtr', 'type': 'playlist', 'uri': 'spotify:playlist:37i9dQZF1DWZZbwlv3Vmtr'}}",
         "{'ingested_at': '2025-10-26T14:54:07.476Z', 'execution_date': '2025-10-26T00:00:00+00:00', 'dag_id': 'spotify_raw_ingestion_jsonl', 'run_id': 'manual__2025-10-26T14:54:07.476000Z', 'source': 'spotify_api'}"
        ],
        [
         "26",
         "{'track': {'album': {'album_type': 'single', 'artists': [{'external_urls': {'spotify': 'https://open.spotify.com/artist/0hA8JnKhTRBeTfCFoZiem1'}, 'href': 'https://api.spotify.com/v1/artists/0hA8JnKhTRBeTfCFoZiem1', 'id': '0hA8JnKhTRBeTfCFoZiem1', 'name': 'MF Eistee', 'type': 'artist', 'uri': 'spotify:artist:0hA8JnKhTRBeTfCFoZiem1'}], 'available_markets': ['AR', 'AU', 'AT', 'BE', 'BO', 'BR', 'BG', 'CA', 'CL', 'CO', 'CR', 'CY', 'CZ', 'DK', 'DO', 'DE', 'EC', 'EE', 'SV', 'FI', 'FR', 'GR', 'GT', 'HN', 'HK', 'HU', 'IS', 'IE', 'IT', 'LV', 'LT', 'LU', 'MY', 'MT', 'MX', 'NL', 'NZ', 'NI', 'NO', 'PA', 'PY', 'PE', 'PH', 'PL', 'PT', 'SG', 'SK', 'ES', 'SE', 'CH', 'TW', 'TR', 'UY', 'US', 'GB', 'AD', 'LI', 'MC', 'ID', 'JP', 'TH', 'VN', 'RO', 'IL', 'ZA', 'SA', 'AE', 'BH', 'QA', 'OM', 'KW', 'EG', 'MA', 'DZ', 'TN', 'LB', 'JO', 'PS', 'IN', 'BY', 'KZ', 'MD', 'UA', 'AL', 'BA', 'HR', 'ME', 'MK', 'RS', 'SI', 'KR', 'BD', 'PK', 'LK', 'GH', 'KE', 'NG', 'TZ', 'UG', 'AG', 'AM', 'BS', 'BB', 'BZ', 'BT', 'BW', 'BF', 'CV', 'CW', 'DM', 'FJ', 'GM', 'GE', 'GD', 'GW', 'GY', 'HT', 'JM', 'KI', 'LS', 'LR', 'MW', 'MV', 'ML', 'MH', 'FM', 'NA', 'NR', 'NE', 'PW', 'PG', 'PR', 'WS', 'SM', 'ST', 'SN', 'SC', 'SL', 'SB', 'KN', 'LC', 'VC', 'SR', 'TL', 'TO', 'TT', 'TV', 'VU', 'AZ', 'BN', 'BI', 'KH', 'CM', 'TD', 'KM', 'GQ', 'SZ', 'GA', 'GN', 'KG', 'LA', 'MO', 'MR', 'MN', 'NP', 'RW', 'TG', 'UZ', 'ZW', 'BJ', 'MG', 'MU', 'MZ', 'AO', 'CI', 'DJ', 'ZM', 'CD', 'CG', 'IQ', 'LY', 'TJ', 'VE', 'ET', 'XK'], 'external_urls': {'spotify': 'https://open.spotify.com/album/5EObajUntwEiYZFhWBcQR7'}, 'href': 'https://api.spotify.com/v1/albums/5EObajUntwEiYZFhWBcQR7', 'id': '5EObajUntwEiYZFhWBcQR7', 'images': [{'height': 640, 'url': 'https://i.scdn.co/image/ab67616d0000b273365a678f52919b401b588a05', 'width': 640}, {'height': 300, 'url': 'https://i.scdn.co/image/ab67616d00001e02365a678f52919b401b588a05', 'width': 300}, {'height': 64, 'url': 'https://i.scdn.co/image/ab67616d00004851365a678f52919b401b588a05', 'width': 64}], 'name': 'Full Moon', 'release_date': '2023-09-29', 'release_date_precision': 'day', 'total_tracks': 1, 'type': 'album', 'uri': 'spotify:album:5EObajUntwEiYZFhWBcQR7'}, 'artists': [{'external_urls': {'spotify': 'https://open.spotify.com/artist/0hA8JnKhTRBeTfCFoZiem1'}, 'href': 'https://api.spotify.com/v1/artists/0hA8JnKhTRBeTfCFoZiem1', 'id': '0hA8JnKhTRBeTfCFoZiem1', 'name': 'MF Eistee', 'type': 'artist', 'uri': 'spotify:artist:0hA8JnKhTRBeTfCFoZiem1'}], 'available_markets': ['AR', 'AU', 'AT', 'BE', 'BO', 'BR', 'BG', 'CA', 'CL', 'CO', 'CR', 'CY', 'CZ', 'DK', 'DO', 'DE', 'EC', 'EE', 'SV', 'FI', 'FR', 'GR', 'GT', 'HN', 'HK', 'HU', 'IS', 'IE', 'IT', 'LV', 'LT', 'LU', 'MY', 'MT', 'MX', 'NL', 'NZ', 'NI', 'NO', 'PA', 'PY', 'PE', 'PH', 'PL', 'PT', 'SG', 'SK', 'ES', 'SE', 'CH', 'TW', 'TR', 'UY', 'US', 'GB', 'AD', 'LI', 'MC', 'ID', 'JP', 'TH', 'VN', 'RO', 'IL', 'ZA', 'SA', 'AE', 'BH', 'QA', 'OM', 'KW', 'EG', 'MA', 'DZ', 'TN', 'LB', 'JO', 'PS', 'IN', 'BY', 'KZ', 'MD', 'UA', 'AL', 'BA', 'HR', 'ME', 'MK', 'RS', 'SI', 'KR', 'BD', 'PK', 'LK', 'GH', 'KE', 'NG', 'TZ', 'UG', 'AG', 'AM', 'BS', 'BB', 'BZ', 'BT', 'BW', 'BF', 'CV', 'CW', 'DM', 'FJ', 'GM', 'GE', 'GD', 'GW', 'GY', 'HT', 'JM', 'KI', 'LS', 'LR', 'MW', 'MV', 'ML', 'MH', 'FM', 'NA', 'NR', 'NE', 'PW', 'PG', 'PR', 'WS', 'SM', 'ST', 'SN', 'SC', 'SL', 'SB', 'KN', 'LC', 'VC', 'SR', 'TL', 'TO', 'TT', 'TV', 'VU', 'AZ', 'BN', 'BI', 'KH', 'CM', 'TD', 'KM', 'GQ', 'SZ', 'GA', 'GN', 'KG', 'LA', 'MO', 'MR', 'MN', 'NP', 'RW', 'TG', 'UZ', 'ZW', 'BJ', 'MG', 'MU', 'MZ', 'AO', 'CI', 'DJ', 'ZM', 'CD', 'CG', 'IQ', 'LY', 'TJ', 'VE', 'ET', 'XK'], 'disc_number': 1, 'duration_ms': 133953, 'explicit': False, 'external_ids': {'isrc': 'DEZC62361475'}, 'external_urls': {'spotify': 'https://open.spotify.com/track/1pR7lurOX53zuZFmtNRWav'}, 'href': 'https://api.spotify.com/v1/tracks/1pR7lurOX53zuZFmtNRWav', 'id': '1pR7lurOX53zuZFmtNRWav', 'is_local': False, 'name': 'Full Moon', 'popularity': 47, 'preview_url': None, 'track_number': 1, 'type': 'track', 'uri': 'spotify:track:1pR7lurOX53zuZFmtNRWav'}, 'played_at': '2025-10-26T14:52:13.512Z', 'context': {'external_urls': {'spotify': 'https://open.spotify.com/playlist/37i9dQZF1DWZZbwlv3Vmtr'}, 'href': 'https://api.spotify.com/v1/playlists/37i9dQZF1DWZZbwlv3Vmtr', 'type': 'playlist', 'uri': 'spotify:playlist:37i9dQZF1DWZZbwlv3Vmtr'}}",
         "{'ingested_at': '2025-10-26T14:52:13.512Z', 'execution_date': '2025-10-26T00:00:00+00:00', 'dag_id': 'spotify_raw_ingestion_jsonl', 'run_id': 'manual__2025-10-26T14:52:13.512000Z', 'source': 'spotify_api'}"
        ],
        [
         "27",
         "{'track': {'album': {'album_type': 'single', 'artists': [{'external_urls': {'spotify': 'https://open.spotify.com/artist/3FoLwras7zH67MpZSuEZcW'}, 'href': 'https://api.spotify.com/v1/artists/3FoLwras7zH67MpZSuEZcW', 'id': '3FoLwras7zH67MpZSuEZcW', 'name': 'Illum Noyz', 'type': 'artist', 'uri': 'spotify:artist:3FoLwras7zH67MpZSuEZcW'}], 'available_markets': ['AR', 'AU', 'AT', 'BE', 'BO', 'BR', 'BG', 'CA', 'CL', 'CO', 'CR', 'CY', 'CZ', 'DK', 'DO', 'DE', 'EC', 'EE', 'SV', 'FI', 'FR', 'GR', 'GT', 'HN', 'HK', 'HU', 'IS', 'IE', 'IT', 'LV', 'LT', 'LU', 'MY', 'MT', 'MX', 'NL', 'NZ', 'NI', 'NO', 'PA', 'PY', 'PE', 'PH', 'PL', 'PT', 'SG', 'SK', 'ES', 'SE', 'CH', 'TW', 'TR', 'UY', 'US', 'GB', 'AD', 'LI', 'MC', 'ID', 'JP', 'TH', 'VN', 'RO', 'IL', 'ZA', 'SA', 'AE', 'BH', 'QA', 'OM', 'KW', 'EG', 'MA', 'DZ', 'TN', 'LB', 'JO', 'PS', 'IN', 'BY', 'KZ', 'MD', 'UA', 'AL', 'BA', 'HR', 'ME', 'MK', 'RS', 'SI', 'KR', 'BD', 'PK', 'LK', 'GH', 'KE', 'NG', 'TZ', 'UG', 'AG', 'AM', 'BS', 'BB', 'BZ', 'BT', 'BW', 'BF', 'CV', 'CW', 'DM', 'FJ', 'GM', 'GE', 'GD', 'GW', 'GY', 'HT', 'JM', 'KI', 'LS', 'LR', 'MW', 'MV', 'ML', 'MH', 'FM', 'NA', 'NR', 'NE', 'PW', 'PG', 'PR', 'WS', 'SM', 'ST', 'SN', 'SC', 'SL', 'SB', 'KN', 'LC', 'VC', 'SR', 'TL', 'TO', 'TT', 'TV', 'VU', 'AZ', 'BN', 'BI', 'KH', 'CM', 'TD', 'KM', 'GQ', 'SZ', 'GA', 'GN', 'KG', 'LA', 'MO', 'MR', 'MN', 'NP', 'RW', 'TG', 'UZ', 'ZW', 'BJ', 'MG', 'MU', 'MZ', 'AO', 'CI', 'DJ', 'ZM', 'CD', 'CG', 'IQ', 'LY', 'TJ', 'VE', 'ET', 'XK'], 'external_urls': {'spotify': 'https://open.spotify.com/album/3VqDQlMLsc0mBCqc4s9XWL'}, 'href': 'https://api.spotify.com/v1/albums/3VqDQlMLsc0mBCqc4s9XWL', 'id': '3VqDQlMLsc0mBCqc4s9XWL', 'images': [{'height': 640, 'url': 'https://i.scdn.co/image/ab67616d0000b27378f63c3f1aed86858991378d', 'width': 640}, {'height': 300, 'url': 'https://i.scdn.co/image/ab67616d00001e0278f63c3f1aed86858991378d', 'width': 300}, {'height': 64, 'url': 'https://i.scdn.co/image/ab67616d0000485178f63c3f1aed86858991378d', 'width': 64}], 'name': 'Natural Midst', 'release_date': '2023-09-08', 'release_date_precision': 'day', 'total_tracks': 1, 'type': 'album', 'uri': 'spotify:album:3VqDQlMLsc0mBCqc4s9XWL'}, 'artists': [{'external_urls': {'spotify': 'https://open.spotify.com/artist/3FoLwras7zH67MpZSuEZcW'}, 'href': 'https://api.spotify.com/v1/artists/3FoLwras7zH67MpZSuEZcW', 'id': '3FoLwras7zH67MpZSuEZcW', 'name': 'Illum Noyz', 'type': 'artist', 'uri': 'spotify:artist:3FoLwras7zH67MpZSuEZcW'}], 'available_markets': ['AR', 'AU', 'AT', 'BE', 'BO', 'BR', 'BG', 'CA', 'CL', 'CO', 'CR', 'CY', 'CZ', 'DK', 'DO', 'DE', 'EC', 'EE', 'SV', 'FI', 'FR', 'GR', 'GT', 'HN', 'HK', 'HU', 'IS', 'IE', 'IT', 'LV', 'LT', 'LU', 'MY', 'MT', 'MX', 'NL', 'NZ', 'NI', 'NO', 'PA', 'PY', 'PE', 'PH', 'PL', 'PT', 'SG', 'SK', 'ES', 'SE', 'CH', 'TW', 'TR', 'UY', 'US', 'GB', 'AD', 'LI', 'MC', 'ID', 'JP', 'TH', 'VN', 'RO', 'IL', 'ZA', 'SA', 'AE', 'BH', 'QA', 'OM', 'KW', 'EG', 'MA', 'DZ', 'TN', 'LB', 'JO', 'PS', 'IN', 'BY', 'KZ', 'MD', 'UA', 'AL', 'BA', 'HR', 'ME', 'MK', 'RS', 'SI', 'KR', 'BD', 'PK', 'LK', 'GH', 'KE', 'NG', 'TZ', 'UG', 'AG', 'AM', 'BS', 'BB', 'BZ', 'BT', 'BW', 'BF', 'CV', 'CW', 'DM', 'FJ', 'GM', 'GE', 'GD', 'GW', 'GY', 'HT', 'JM', 'KI', 'LS', 'LR', 'MW', 'MV', 'ML', 'MH', 'FM', 'NA', 'NR', 'NE', 'PW', 'PG', 'PR', 'WS', 'SM', 'ST', 'SN', 'SC', 'SL', 'SB', 'KN', 'LC', 'VC', 'SR', 'TL', 'TO', 'TT', 'TV', 'VU', 'AZ', 'BN', 'BI', 'KH', 'CM', 'TD', 'KM', 'GQ', 'SZ', 'GA', 'GN', 'KG', 'LA', 'MO', 'MR', 'MN', 'NP', 'RW', 'TG', 'UZ', 'ZW', 'BJ', 'MG', 'MU', 'MZ', 'AO', 'CI', 'DJ', 'ZM', 'CD', 'CG', 'IQ', 'LY', 'TJ', 'VE', 'ET', 'XK'], 'disc_number': 1, 'duration_ms': 161000, 'explicit': False, 'external_ids': {'isrc': 'SE5IB2334111'}, 'external_urls': {'spotify': 'https://open.spotify.com/track/0T0Qw9dfYjTf6umYfjC5zf'}, 'href': 'https://api.spotify.com/v1/tracks/0T0Qw9dfYjTf6umYfjC5zf', 'id': '0T0Qw9dfYjTf6umYfjC5zf', 'is_local': False, 'name': 'Natural Midst', 'popularity': 51, 'preview_url': None, 'track_number': 1, 'type': 'track', 'uri': 'spotify:track:0T0Qw9dfYjTf6umYfjC5zf'}, 'played_at': '2025-10-26T14:50:20.943Z', 'context': {'external_urls': {'spotify': 'https://open.spotify.com/playlist/37i9dQZF1DWZZbwlv3Vmtr'}, 'href': 'https://api.spotify.com/v1/playlists/37i9dQZF1DWZZbwlv3Vmtr', 'type': 'playlist', 'uri': 'spotify:playlist:37i9dQZF1DWZZbwlv3Vmtr'}}",
         "{'ingested_at': '2025-10-26T14:50:20.943Z', 'execution_date': '2025-10-26T00:00:00+00:00', 'dag_id': 'spotify_raw_ingestion_jsonl', 'run_id': 'manual__2025-10-26T14:50:20.943000Z', 'source': 'spotify_api'}"
        ],
        [
         "28",
         "{'track': {'album': {'album_type': 'single', 'artists': [{'external_urls': {'spotify': 'https://open.spotify.com/artist/3ANz9DLRBrXQJwvy3NEkvl'}, 'href': 'https://api.spotify.com/v1/artists/3ANz9DLRBrXQJwvy3NEkvl', 'id': '3ANz9DLRBrXQJwvy3NEkvl', 'name': 'Zeitgeister', 'type': 'artist', 'uri': 'spotify:artist:3ANz9DLRBrXQJwvy3NEkvl'}], 'available_markets': ['AR', 'AU', 'AT', 'BE', 'BO', 'BR', 'BG', 'CA', 'CL', 'CO', 'CR', 'CY', 'CZ', 'DK', 'DO', 'DE', 'EC', 'EE', 'SV', 'FI', 'FR', 'GR', 'GT', 'HN', 'HK', 'HU', 'IS', 'IE', 'IT', 'LV', 'LT', 'LU', 'MY', 'MT', 'MX', 'NL', 'NZ', 'NI', 'NO', 'PA', 'PY', 'PE', 'PH', 'PL', 'PT', 'SG', 'SK', 'ES', 'SE', 'CH', 'TW', 'TR', 'UY', 'US', 'GB', 'AD', 'LI', 'MC', 'ID', 'JP', 'TH', 'VN', 'RO', 'IL', 'ZA', 'SA', 'AE', 'BH', 'QA', 'OM', 'KW', 'EG', 'MA', 'DZ', 'TN', 'LB', 'JO', 'PS', 'IN', 'BY', 'KZ', 'MD', 'UA', 'AL', 'BA', 'HR', 'ME', 'MK', 'RS', 'SI', 'KR', 'BD', 'PK', 'LK', 'GH', 'KE', 'NG', 'TZ', 'UG', 'AG', 'AM', 'BS', 'BB', 'BZ', 'BT', 'BW', 'BF', 'CV', 'CW', 'DM', 'FJ', 'GM', 'GE', 'GD', 'GW', 'GY', 'HT', 'JM', 'KI', 'LS', 'LR', 'MW', 'MV', 'ML', 'MH', 'FM', 'NA', 'NR', 'NE', 'PW', 'PG', 'PR', 'WS', 'SM', 'ST', 'SN', 'SC', 'SL', 'SB', 'KN', 'LC', 'VC', 'SR', 'TL', 'TO', 'TT', 'TV', 'VU', 'AZ', 'BN', 'BI', 'KH', 'CM', 'TD', 'KM', 'GQ', 'SZ', 'GA', 'GN', 'KG', 'LA', 'MO', 'MR', 'MN', 'NP', 'RW', 'TG', 'UZ', 'ZW', 'BJ', 'MG', 'MU', 'MZ', 'AO', 'CI', 'DJ', 'ZM', 'CD', 'CG', 'IQ', 'LY', 'TJ', 'VE', 'ET', 'XK'], 'external_urls': {'spotify': 'https://open.spotify.com/album/5a9qEcg5nTzr7ZIPVO8FQk'}, 'href': 'https://api.spotify.com/v1/albums/5a9qEcg5nTzr7ZIPVO8FQk', 'id': '5a9qEcg5nTzr7ZIPVO8FQk', 'images': [{'height': 640, 'url': 'https://i.scdn.co/image/ab67616d0000b273bfec7dc3e9568c5ffc3cc25d', 'width': 640}, {'height': 300, 'url': 'https://i.scdn.co/image/ab67616d00001e02bfec7dc3e9568c5ffc3cc25d', 'width': 300}, {'height': 64, 'url': 'https://i.scdn.co/image/ab67616d00004851bfec7dc3e9568c5ffc3cc25d', 'width': 64}], 'name': 'Vortex', 'release_date': '2024-08-18', 'release_date_precision': 'day', 'total_tracks': 1, 'type': 'album', 'uri': 'spotify:album:5a9qEcg5nTzr7ZIPVO8FQk'}, 'artists': [{'external_urls': {'spotify': 'https://open.spotify.com/artist/3ANz9DLRBrXQJwvy3NEkvl'}, 'href': 'https://api.spotify.com/v1/artists/3ANz9DLRBrXQJwvy3NEkvl', 'id': '3ANz9DLRBrXQJwvy3NEkvl', 'name': 'Zeitgeister', 'type': 'artist', 'uri': 'spotify:artist:3ANz9DLRBrXQJwvy3NEkvl'}], 'available_markets': ['AR', 'AU', 'AT', 'BE', 'BO', 'BR', 'BG', 'CA', 'CL', 'CO', 'CR', 'CY', 'CZ', 'DK', 'DO', 'DE', 'EC', 'EE', 'SV', 'FI', 'FR', 'GR', 'GT', 'HN', 'HK', 'HU', 'IS', 'IE', 'IT', 'LV', 'LT', 'LU', 'MY', 'MT', 'MX', 'NL', 'NZ', 'NI', 'NO', 'PA', 'PY', 'PE', 'PH', 'PL', 'PT', 'SG', 'SK', 'ES', 'SE', 'CH', 'TW', 'TR', 'UY', 'US', 'GB', 'AD', 'LI', 'MC', 'ID', 'JP', 'TH', 'VN', 'RO', 'IL', 'ZA', 'SA', 'AE', 'BH', 'QA', 'OM', 'KW', 'EG', 'MA', 'DZ', 'TN', 'LB', 'JO', 'PS', 'IN', 'BY', 'KZ', 'MD', 'UA', 'AL', 'BA', 'HR', 'ME', 'MK', 'RS', 'SI', 'KR', 'BD', 'PK', 'LK', 'GH', 'KE', 'NG', 'TZ', 'UG', 'AG', 'AM', 'BS', 'BB', 'BZ', 'BT', 'BW', 'BF', 'CV', 'CW', 'DM', 'FJ', 'GM', 'GE', 'GD', 'GW', 'GY', 'HT', 'JM', 'KI', 'LS', 'LR', 'MW', 'MV', 'ML', 'MH', 'FM', 'NA', 'NR', 'NE', 'PW', 'PG', 'PR', 'WS', 'SM', 'ST', 'SN', 'SC', 'SL', 'SB', 'KN', 'LC', 'VC', 'SR', 'TL', 'TO', 'TT', 'TV', 'VU', 'AZ', 'BN', 'BI', 'KH', 'CM', 'TD', 'KM', 'GQ', 'SZ', 'GA', 'GN', 'KG', 'LA', 'MO', 'MR', 'MN', 'NP', 'RW', 'TG', 'UZ', 'ZW', 'BJ', 'MG', 'MU', 'MZ', 'AO', 'CI', 'DJ', 'ZM', 'CD', 'CG', 'IQ', 'LY', 'TJ', 'VE', 'ET', 'XK'], 'disc_number': 1, 'duration_ms': 124556, 'explicit': False, 'external_ids': {'isrc': 'SE69Z2417695'}, 'external_urls': {'spotify': 'https://open.spotify.com/track/5gUG9ivCY3V5DRW8301SbS'}, 'href': 'https://api.spotify.com/v1/tracks/5gUG9ivCY3V5DRW8301SbS', 'id': '5gUG9ivCY3V5DRW8301SbS', 'is_local': False, 'name': 'Vortex', 'popularity': 52, 'preview_url': None, 'track_number': 1, 'type': 'track', 'uri': 'spotify:track:5gUG9ivCY3V5DRW8301SbS'}, 'played_at': '2025-10-26T14:47:49.834Z', 'context': {'external_urls': {'spotify': 'https://open.spotify.com/playlist/37i9dQZF1DWZZbwlv3Vmtr'}, 'href': 'https://api.spotify.com/v1/playlists/37i9dQZF1DWZZbwlv3Vmtr', 'type': 'playlist', 'uri': 'spotify:playlist:37i9dQZF1DWZZbwlv3Vmtr'}}",
         "{'ingested_at': '2025-10-26T14:47:49.834Z', 'execution_date': '2025-10-26T00:00:00+00:00', 'dag_id': 'spotify_raw_ingestion_jsonl', 'run_id': 'manual__2025-10-26T14:47:49.834000Z', 'source': 'spotify_api'}"
        ],
        [
         "29",
         "{'track': {'album': {'album_type': 'single', 'artists': [{'external_urls': {'spotify': 'https://open.spotify.com/artist/1Qq3CjUcS69tT2vvp1ttpB'}, 'href': 'https://api.spotify.com/v1/artists/1Qq3CjUcS69tT2vvp1ttpB', 'id': '1Qq3CjUcS69tT2vvp1ttpB', 'name': 'aunt', 'type': 'artist', 'uri': 'spotify:artist:1Qq3CjUcS69tT2vvp1ttpB'}], 'available_markets': ['AR', 'AU', 'AT', 'BE', 'BO', 'BR', 'BG', 'CA', 'CL', 'CO', 'CR', 'CY', 'CZ', 'DK', 'DO', 'DE', 'EC', 'EE', 'SV', 'FI', 'FR', 'GR', 'GT', 'HN', 'HK', 'HU', 'IS', 'IE', 'IT', 'LV', 'LT', 'LU', 'MY', 'MT', 'MX', 'NL', 'NZ', 'NI', 'NO', 'PA', 'PY', 'PE', 'PH', 'PL', 'PT', 'SG', 'SK', 'ES', 'SE', 'CH', 'TW', 'TR', 'UY', 'US', 'GB', 'AD', 'LI', 'MC', 'ID', 'JP', 'TH', 'VN', 'RO', 'IL', 'ZA', 'SA', 'AE', 'BH', 'QA', 'OM', 'KW', 'EG', 'MA', 'DZ', 'TN', 'LB', 'JO', 'PS', 'IN', 'BY', 'KZ', 'MD', 'UA', 'AL', 'BA', 'HR', 'ME', 'MK', 'RS', 'SI', 'KR', 'BD', 'PK', 'LK', 'GH', 'KE', 'NG', 'TZ', 'UG', 'AG', 'AM', 'BS', 'BB', 'BZ', 'BT', 'BW', 'BF', 'CV', 'CW', 'DM', 'FJ', 'GM', 'GE', 'GD', 'GW', 'GY', 'HT', 'JM', 'KI', 'LS', 'LR', 'MW', 'MV', 'ML', 'MH', 'FM', 'NA', 'NR', 'NE', 'PW', 'PG', 'PR', 'WS', 'SM', 'ST', 'SN', 'SC', 'SL', 'SB', 'KN', 'LC', 'VC', 'SR', 'TL', 'TO', 'TT', 'TV', 'VU', 'AZ', 'BN', 'BI', 'KH', 'CM', 'TD', 'KM', 'GQ', 'SZ', 'GA', 'GN', 'KG', 'LA', 'MO', 'MR', 'MN', 'NP', 'RW', 'TG', 'UZ', 'ZW', 'BJ', 'MG', 'MU', 'MZ', 'AO', 'CI', 'DJ', 'ZM', 'CD', 'CG', 'IQ', 'LY', 'TJ', 'VE', 'ET', 'XK'], 'external_urls': {'spotify': 'https://open.spotify.com/album/0wHm0QUEgZUUNYUF9ut2pq'}, 'href': 'https://api.spotify.com/v1/albums/0wHm0QUEgZUUNYUF9ut2pq', 'id': '0wHm0QUEgZUUNYUF9ut2pq', 'images': [{'height': 640, 'url': 'https://i.scdn.co/image/ab67616d0000b273a84102a1f4362c2d2c3ea59f', 'width': 640}, {'height': 300, 'url': 'https://i.scdn.co/image/ab67616d00001e02a84102a1f4362c2d2c3ea59f', 'width': 300}, {'height': 64, 'url': 'https://i.scdn.co/image/ab67616d00004851a84102a1f4362c2d2c3ea59f', 'width': 64}], 'name': 'Ocean Ride', 'release_date': '2024-09-27', 'release_date_precision': 'day', 'total_tracks': 1, 'type': 'album', 'uri': 'spotify:album:0wHm0QUEgZUUNYUF9ut2pq'}, 'artists': [{'external_urls': {'spotify': 'https://open.spotify.com/artist/1Qq3CjUcS69tT2vvp1ttpB'}, 'href': 'https://api.spotify.com/v1/artists/1Qq3CjUcS69tT2vvp1ttpB', 'id': '1Qq3CjUcS69tT2vvp1ttpB', 'name': 'aunt', 'type': 'artist', 'uri': 'spotify:artist:1Qq3CjUcS69tT2vvp1ttpB'}], 'available_markets': ['AR', 'AU', 'AT', 'BE', 'BO', 'BR', 'BG', 'CA', 'CL', 'CO', 'CR', 'CY', 'CZ', 'DK', 'DO', 'DE', 'EC', 'EE', 'SV', 'FI', 'FR', 'GR', 'GT', 'HN', 'HK', 'HU', 'IS', 'IE', 'IT', 'LV', 'LT', 'LU', 'MY', 'MT', 'MX', 'NL', 'NZ', 'NI', 'NO', 'PA', 'PY', 'PE', 'PH', 'PL', 'PT', 'SG', 'SK', 'ES', 'SE', 'CH', 'TW', 'TR', 'UY', 'US', 'GB', 'AD', 'LI', 'MC', 'ID', 'JP', 'TH', 'VN', 'RO', 'IL', 'ZA', 'SA', 'AE', 'BH', 'QA', 'OM', 'KW', 'EG', 'MA', 'DZ', 'TN', 'LB', 'JO', 'PS', 'IN', 'BY', 'KZ', 'MD', 'UA', 'AL', 'BA', 'HR', 'ME', 'MK', 'RS', 'SI', 'KR', 'BD', 'PK', 'LK', 'GH', 'KE', 'NG', 'TZ', 'UG', 'AG', 'AM', 'BS', 'BB', 'BZ', 'BT', 'BW', 'BF', 'CV', 'CW', 'DM', 'FJ', 'GM', 'GE', 'GD', 'GW', 'GY', 'HT', 'JM', 'KI', 'LS', 'LR', 'MW', 'MV', 'ML', 'MH', 'FM', 'NA', 'NR', 'NE', 'PW', 'PG', 'PR', 'WS', 'SM', 'ST', 'SN', 'SC', 'SL', 'SB', 'KN', 'LC', 'VC', 'SR', 'TL', 'TO', 'TT', 'TV', 'VU', 'AZ', 'BN', 'BI', 'KH', 'CM', 'TD', 'KM', 'GQ', 'SZ', 'GA', 'GN', 'KG', 'LA', 'MO', 'MR', 'MN', 'NP', 'RW', 'TG', 'UZ', 'ZW', 'BJ', 'MG', 'MU', 'MZ', 'AO', 'CI', 'DJ', 'ZM', 'CD', 'CG', 'IQ', 'LY', 'TJ', 'VE', 'ET', 'XK'], 'disc_number': 1, 'duration_ms': 129037, 'explicit': False, 'external_ids': {'isrc': 'CH7812415459'}, 'external_urls': {'spotify': 'https://open.spotify.com/track/2uGyOZUwNdpZChOWspCVYP'}, 'href': 'https://api.spotify.com/v1/tracks/2uGyOZUwNdpZChOWspCVYP', 'id': '2uGyOZUwNdpZChOWspCVYP', 'is_local': False, 'name': 'Ocean Ride', 'popularity': 57, 'preview_url': None, 'track_number': 1, 'type': 'track', 'uri': 'spotify:track:2uGyOZUwNdpZChOWspCVYP'}, 'played_at': '2025-10-26T14:46:12.878Z', 'context': {'external_urls': {'spotify': 'https://open.spotify.com/playlist/37i9dQZF1DWZZbwlv3Vmtr'}, 'href': 'https://api.spotify.com/v1/playlists/37i9dQZF1DWZZbwlv3Vmtr', 'type': 'playlist', 'uri': 'spotify:playlist:37i9dQZF1DWZZbwlv3Vmtr'}}",
         "{'ingested_at': '2025-10-26T14:46:12.878Z', 'execution_date': '2025-10-26T00:00:00+00:00', 'dag_id': 'spotify_raw_ingestion_jsonl', 'run_id': 'manual__2025-10-26T14:46:12.878000Z', 'source': 'spotify_api'}"
        ],
        [
         "30",
         "{'track': {'album': {'album_type': 'single', 'artists': [{'external_urls': {'spotify': 'https://open.spotify.com/artist/7DDfnMy4LQyQLFMCgQLULn'}, 'href': 'https://api.spotify.com/v1/artists/7DDfnMy4LQyQLFMCgQLULn', 'id': '7DDfnMy4LQyQLFMCgQLULn', 'name': 'Keylo Parks', 'type': 'artist', 'uri': 'spotify:artist:7DDfnMy4LQyQLFMCgQLULn'}], 'available_markets': ['AR', 'AU', 'AT', 'BE', 'BO', 'BR', 'BG', 'CA', 'CL', 'CO', 'CR', 'CY', 'CZ', 'DK', 'DO', 'DE', 'EC', 'EE', 'SV', 'FI', 'FR', 'GR', 'GT', 'HN', 'HK', 'HU', 'IS', 'IE', 'IT', 'LV', 'LT', 'LU', 'MY', 'MT', 'MX', 'NL', 'NZ', 'NI', 'NO', 'PA', 'PY', 'PE', 'PH', 'PL', 'PT', 'SG', 'SK', 'ES', 'SE', 'CH', 'TW', 'TR', 'UY', 'US', 'GB', 'AD', 'LI', 'MC', 'ID', 'JP', 'TH', 'VN', 'RO', 'IL', 'ZA', 'SA', 'AE', 'BH', 'QA', 'OM', 'KW', 'EG', 'MA', 'DZ', 'TN', 'LB', 'JO', 'PS', 'IN', 'BY', 'KZ', 'MD', 'UA', 'AL', 'BA', 'HR', 'ME', 'MK', 'RS', 'SI', 'KR', 'BD', 'PK', 'LK', 'GH', 'KE', 'NG', 'TZ', 'UG', 'AG', 'AM', 'BS', 'BB', 'BZ', 'BT', 'BW', 'BF', 'CV', 'CW', 'DM', 'FJ', 'GM', 'GE', 'GD', 'GW', 'GY', 'HT', 'JM', 'KI', 'LS', 'LR', 'MW', 'MV', 'ML', 'MH', 'FM', 'NA', 'NR', 'NE', 'PW', 'PG', 'PR', 'WS', 'SM', 'ST', 'SN', 'SC', 'SL', 'SB', 'KN', 'LC', 'VC', 'SR', 'TL', 'TO', 'TT', 'TV', 'VU', 'AZ', 'BN', 'BI', 'KH', 'CM', 'TD', 'KM', 'GQ', 'SZ', 'GA', 'GN', 'KG', 'LA', 'MO', 'MR', 'MN', 'NP', 'RW', 'TG', 'UZ', 'ZW', 'BJ', 'MG', 'MU', 'MZ', 'AO', 'CI', 'DJ', 'ZM', 'CD', 'CG', 'IQ', 'LY', 'TJ', 'VE', 'ET', 'XK'], 'external_urls': {'spotify': 'https://open.spotify.com/album/4H09JXtQEzll5guGsSP2Vt'}, 'href': 'https://api.spotify.com/v1/albums/4H09JXtQEzll5guGsSP2Vt', 'id': '4H09JXtQEzll5guGsSP2Vt', 'images': [{'height': 640, 'url': 'https://i.scdn.co/image/ab67616d0000b2736e4f3c9bf54e27ebd7742422', 'width': 640}, {'height': 300, 'url': 'https://i.scdn.co/image/ab67616d00001e026e4f3c9bf54e27ebd7742422', 'width': 300}, {'height': 64, 'url': 'https://i.scdn.co/image/ab67616d000048516e4f3c9bf54e27ebd7742422', 'width': 64}], 'name': 'Pink Soda', 'release_date': '2024-01-04', 'release_date_precision': 'day', 'total_tracks': 1, 'type': 'album', 'uri': 'spotify:album:4H09JXtQEzll5guGsSP2Vt'}, 'artists': [{'external_urls': {'spotify': 'https://open.spotify.com/artist/7DDfnMy4LQyQLFMCgQLULn'}, 'href': 'https://api.spotify.com/v1/artists/7DDfnMy4LQyQLFMCgQLULn', 'id': '7DDfnMy4LQyQLFMCgQLULn', 'name': 'Keylo Parks', 'type': 'artist', 'uri': 'spotify:artist:7DDfnMy4LQyQLFMCgQLULn'}], 'available_markets': ['AR', 'AU', 'AT', 'BE', 'BO', 'BR', 'BG', 'CA', 'CL', 'CO', 'CR', 'CY', 'CZ', 'DK', 'DO', 'DE', 'EC', 'EE', 'SV', 'FI', 'FR', 'GR', 'GT', 'HN', 'HK', 'HU', 'IS', 'IE', 'IT', 'LV', 'LT', 'LU', 'MY', 'MT', 'MX', 'NL', 'NZ', 'NI', 'NO', 'PA', 'PY', 'PE', 'PH', 'PL', 'PT', 'SG', 'SK', 'ES', 'SE', 'CH', 'TW', 'TR', 'UY', 'US', 'GB', 'AD', 'LI', 'MC', 'ID', 'JP', 'TH', 'VN', 'RO', 'IL', 'ZA', 'SA', 'AE', 'BH', 'QA', 'OM', 'KW', 'EG', 'MA', 'DZ', 'TN', 'LB', 'JO', 'PS', 'IN', 'BY', 'KZ', 'MD', 'UA', 'AL', 'BA', 'HR', 'ME', 'MK', 'RS', 'SI', 'KR', 'BD', 'PK', 'LK', 'GH', 'KE', 'NG', 'TZ', 'UG', 'AG', 'AM', 'BS', 'BB', 'BZ', 'BT', 'BW', 'BF', 'CV', 'CW', 'DM', 'FJ', 'GM', 'GE', 'GD', 'GW', 'GY', 'HT', 'JM', 'KI', 'LS', 'LR', 'MW', 'MV', 'ML', 'MH', 'FM', 'NA', 'NR', 'NE', 'PW', 'PG', 'PR', 'WS', 'SM', 'ST', 'SN', 'SC', 'SL', 'SB', 'KN', 'LC', 'VC', 'SR', 'TL', 'TO', 'TT', 'TV', 'VU', 'AZ', 'BN', 'BI', 'KH', 'CM', 'TD', 'KM', 'GQ', 'SZ', 'GA', 'GN', 'KG', 'LA', 'MO', 'MR', 'MN', 'NP', 'RW', 'TG', 'UZ', 'ZW', 'BJ', 'MG', 'MU', 'MZ', 'AO', 'CI', 'DJ', 'ZM', 'CD', 'CG', 'IQ', 'LY', 'TJ', 'VE', 'ET', 'XK'], 'disc_number': 1, 'duration_ms': 162666, 'explicit': False, 'external_ids': {'isrc': 'SE6RU2402601'}, 'external_urls': {'spotify': 'https://open.spotify.com/track/5MSeGUnLLWatEBCxViIcGC'}, 'href': 'https://api.spotify.com/v1/tracks/5MSeGUnLLWatEBCxViIcGC', 'id': '5MSeGUnLLWatEBCxViIcGC', 'is_local': False, 'name': 'Pink Soda', 'popularity': 50, 'preview_url': None, 'track_number': 1, 'type': 'track', 'uri': 'spotify:track:5MSeGUnLLWatEBCxViIcGC'}, 'played_at': '2025-10-26T14:44:27.151Z', 'context': {'external_urls': {'spotify': 'https://open.spotify.com/playlist/37i9dQZF1DWZZbwlv3Vmtr'}, 'href': 'https://api.spotify.com/v1/playlists/37i9dQZF1DWZZbwlv3Vmtr', 'type': 'playlist', 'uri': 'spotify:playlist:37i9dQZF1DWZZbwlv3Vmtr'}}",
         "{'ingested_at': '2025-10-26T14:44:27.151Z', 'execution_date': '2025-10-26T00:00:00+00:00', 'dag_id': 'spotify_raw_ingestion_jsonl', 'run_id': 'manual__2025-10-26T14:44:27.151000Z', 'source': 'spotify_api'}"
        ],
        [
         "31",
         "{'track': {'album': {'album_type': 'single', 'artists': [{'external_urls': {'spotify': 'https://open.spotify.com/artist/1vCTniHcObS9QKWViplT3O'}, 'href': 'https://api.spotify.com/v1/artists/1vCTniHcObS9QKWViplT3O', 'id': '1vCTniHcObS9QKWViplT3O', 'name': 'X3V', 'type': 'artist', 'uri': 'spotify:artist:1vCTniHcObS9QKWViplT3O'}], 'available_markets': ['AR', 'AU', 'AT', 'BE', 'BO', 'BR', 'BG', 'CA', 'CL', 'CO', 'CR', 'CY', 'CZ', 'DK', 'DO', 'DE', 'EC', 'EE', 'SV', 'FI', 'FR', 'GR', 'GT', 'HN', 'HK', 'HU', 'IS', 'IE', 'IT', 'LV', 'LT', 'LU', 'MY', 'MT', 'MX', 'NL', 'NZ', 'NI', 'NO', 'PA', 'PY', 'PE', 'PH', 'PL', 'PT', 'SG', 'SK', 'ES', 'SE', 'CH', 'TW', 'TR', 'UY', 'US', 'GB', 'AD', 'LI', 'MC', 'ID', 'JP', 'TH', 'VN', 'RO', 'IL', 'ZA', 'SA', 'AE', 'BH', 'QA', 'OM', 'KW', 'EG', 'MA', 'DZ', 'TN', 'LB', 'JO', 'PS', 'IN', 'BY', 'KZ', 'MD', 'UA', 'AL', 'BA', 'HR', 'ME', 'MK', 'RS', 'SI', 'KR', 'BD', 'PK', 'LK', 'GH', 'KE', 'NG', 'TZ', 'UG', 'AG', 'AM', 'BS', 'BB', 'BZ', 'BT', 'BW', 'BF', 'CV', 'CW', 'DM', 'FJ', 'GM', 'GE', 'GD', 'GW', 'GY', 'HT', 'JM', 'KI', 'LS', 'LR', 'MW', 'MV', 'ML', 'MH', 'FM', 'NA', 'NR', 'NE', 'PW', 'PG', 'PR', 'WS', 'SM', 'ST', 'SN', 'SC', 'SL', 'SB', 'KN', 'LC', 'VC', 'SR', 'TL', 'TO', 'TT', 'TV', 'VU', 'AZ', 'BN', 'BI', 'KH', 'CM', 'TD', 'KM', 'GQ', 'SZ', 'GA', 'GN', 'KG', 'LA', 'MO', 'MR', 'MN', 'NP', 'RW', 'TG', 'UZ', 'ZW', 'BJ', 'MG', 'MU', 'MZ', 'AO', 'CI', 'DJ', 'ZM', 'CD', 'CG', 'IQ', 'LY', 'TJ', 'VE', 'ET', 'XK'], 'external_urls': {'spotify': 'https://open.spotify.com/album/5d4yOhluFMZecTQpLNSZPf'}, 'href': 'https://api.spotify.com/v1/albums/5d4yOhluFMZecTQpLNSZPf', 'id': '5d4yOhluFMZecTQpLNSZPf', 'images': [{'height': 640, 'url': 'https://i.scdn.co/image/ab67616d0000b2734d2153fa962b3af34448df9e', 'width': 640}, {'height': 300, 'url': 'https://i.scdn.co/image/ab67616d00001e024d2153fa962b3af34448df9e', 'width': 300}, {'height': 64, 'url': 'https://i.scdn.co/image/ab67616d000048514d2153fa962b3af34448df9e', 'width': 64}], 'name': 'Faded Reality', 'release_date': '2025-02-07', 'release_date_precision': 'day', 'total_tracks': 1, 'type': 'album', 'uri': 'spotify:album:5d4yOhluFMZecTQpLNSZPf'}, 'artists': [{'external_urls': {'spotify': 'https://open.spotify.com/artist/1vCTniHcObS9QKWViplT3O'}, 'href': 'https://api.spotify.com/v1/artists/1vCTniHcObS9QKWViplT3O', 'id': '1vCTniHcObS9QKWViplT3O', 'name': 'X3V', 'type': 'artist', 'uri': 'spotify:artist:1vCTniHcObS9QKWViplT3O'}], 'available_markets': ['AR', 'AU', 'AT', 'BE', 'BO', 'BR', 'BG', 'CA', 'CL', 'CO', 'CR', 'CY', 'CZ', 'DK', 'DO', 'DE', 'EC', 'EE', 'SV', 'FI', 'FR', 'GR', 'GT', 'HN', 'HK', 'HU', 'IS', 'IE', 'IT', 'LV', 'LT', 'LU', 'MY', 'MT', 'MX', 'NL', 'NZ', 'NI', 'NO', 'PA', 'PY', 'PE', 'PH', 'PL', 'PT', 'SG', 'SK', 'ES', 'SE', 'CH', 'TW', 'TR', 'UY', 'US', 'GB', 'AD', 'LI', 'MC', 'ID', 'JP', 'TH', 'VN', 'RO', 'IL', 'ZA', 'SA', 'AE', 'BH', 'QA', 'OM', 'KW', 'EG', 'MA', 'DZ', 'TN', 'LB', 'JO', 'PS', 'IN', 'BY', 'KZ', 'MD', 'UA', 'AL', 'BA', 'HR', 'ME', 'MK', 'RS', 'SI', 'KR', 'BD', 'PK', 'LK', 'GH', 'KE', 'NG', 'TZ', 'UG', 'AG', 'AM', 'BS', 'BB', 'BZ', 'BT', 'BW', 'BF', 'CV', 'CW', 'DM', 'FJ', 'GM', 'GE', 'GD', 'GW', 'GY', 'HT', 'JM', 'KI', 'LS', 'LR', 'MW', 'MV', 'ML', 'MH', 'FM', 'NA', 'NR', 'NE', 'PW', 'PG', 'PR', 'WS', 'SM', 'ST', 'SN', 'SC', 'SL', 'SB', 'KN', 'LC', 'VC', 'SR', 'TL', 'TO', 'TT', 'TV', 'VU', 'AZ', 'BN', 'BI', 'KH', 'CM', 'TD', 'KM', 'GQ', 'SZ', 'GA', 'GN', 'KG', 'LA', 'MO', 'MR', 'MN', 'NP', 'RW', 'TG', 'UZ', 'ZW', 'BJ', 'MG', 'MU', 'MZ', 'AO', 'CI', 'DJ', 'ZM', 'CD', 'CG', 'IQ', 'LY', 'TJ', 'VE', 'ET', 'XK'], 'disc_number': 1, 'duration_ms': 132000, 'explicit': False, 'external_ids': {'isrc': 'SE69Z2442702'}, 'external_urls': {'spotify': 'https://open.spotify.com/track/0tCZQX1rmVLrcR9OMRwRFq'}, 'href': 'https://api.spotify.com/v1/tracks/0tCZQX1rmVLrcR9OMRwRFq', 'id': '0tCZQX1rmVLrcR9OMRwRFq', 'is_local': False, 'name': 'Faded Reality', 'popularity': 49, 'preview_url': None, 'track_number': 1, 'type': 'track', 'uri': 'spotify:track:0tCZQX1rmVLrcR9OMRwRFq'}, 'played_at': '2025-10-26T14:42:41.527Z', 'context': {'external_urls': {'spotify': 'https://open.spotify.com/playlist/37i9dQZF1DWZZbwlv3Vmtr'}, 'href': 'https://api.spotify.com/v1/playlists/37i9dQZF1DWZZbwlv3Vmtr', 'type': 'playlist', 'uri': 'spotify:playlist:37i9dQZF1DWZZbwlv3Vmtr'}}",
         "{'ingested_at': '2025-10-26T14:42:41.527Z', 'execution_date': '2025-10-26T00:00:00+00:00', 'dag_id': 'spotify_raw_ingestion_jsonl', 'run_id': 'manual__2025-10-26T14:42:41.527000Z', 'source': 'spotify_api'}"
        ],
        [
         "32",
         "{'track': {'album': {'album_type': 'single', 'artists': [{'external_urls': {'spotify': 'https://open.spotify.com/artist/7b4DhB3yTiN4HMgFGFQQ2y'}, 'href': 'https://api.spotify.com/v1/artists/7b4DhB3yTiN4HMgFGFQQ2y', 'id': '7b4DhB3yTiN4HMgFGFQQ2y', 'name': 'Vynlsm', 'type': 'artist', 'uri': 'spotify:artist:7b4DhB3yTiN4HMgFGFQQ2y'}], 'available_markets': ['AR', 'AU', 'AT', 'BE', 'BO', 'BR', 'BG', 'CA', 'CL', 'CO', 'CR', 'CY', 'CZ', 'DK', 'DO', 'DE', 'EC', 'EE', 'SV', 'FI', 'FR', 'GR', 'GT', 'HN', 'HK', 'HU', 'IS', 'IE', 'IT', 'LV', 'LT', 'LU', 'MY', 'MT', 'MX', 'NL', 'NZ', 'NI', 'NO', 'PA', 'PY', 'PE', 'PH', 'PL', 'PT', 'SG', 'SK', 'ES', 'SE', 'CH', 'TW', 'TR', 'UY', 'US', 'GB', 'AD', 'LI', 'MC', 'ID', 'JP', 'TH', 'VN', 'RO', 'IL', 'ZA', 'SA', 'AE', 'BH', 'QA', 'OM', 'KW', 'EG', 'MA', 'DZ', 'TN', 'LB', 'JO', 'PS', 'IN', 'BY', 'KZ', 'MD', 'UA', 'AL', 'BA', 'HR', 'ME', 'MK', 'RS', 'SI', 'KR', 'BD', 'PK', 'LK', 'GH', 'KE', 'NG', 'TZ', 'UG', 'AG', 'AM', 'BS', 'BB', 'BZ', 'BT', 'BW', 'BF', 'CV', 'CW', 'DM', 'FJ', 'GM', 'GE', 'GD', 'GW', 'GY', 'HT', 'JM', 'KI', 'LS', 'LR', 'MW', 'MV', 'ML', 'MH', 'FM', 'NA', 'NR', 'NE', 'PW', 'PG', 'PR', 'WS', 'SM', 'ST', 'SN', 'SC', 'SL', 'SB', 'KN', 'LC', 'VC', 'SR', 'TL', 'TO', 'TT', 'TV', 'VU', 'AZ', 'BN', 'BI', 'KH', 'CM', 'TD', 'KM', 'GQ', 'SZ', 'GA', 'GN', 'KG', 'LA', 'MO', 'MR', 'MN', 'NP', 'RW', 'TG', 'UZ', 'ZW', 'BJ', 'MG', 'MU', 'MZ', 'AO', 'CI', 'DJ', 'ZM', 'CD', 'CG', 'IQ', 'LY', 'TJ', 'VE', 'ET', 'XK'], 'external_urls': {'spotify': 'https://open.spotify.com/album/0bK9IWuEvpKjnrc3MOqFTy'}, 'href': 'https://api.spotify.com/v1/albums/0bK9IWuEvpKjnrc3MOqFTy', 'id': '0bK9IWuEvpKjnrc3MOqFTy', 'images': [{'height': 640, 'url': 'https://i.scdn.co/image/ab67616d0000b27386e73d906f72620897eada32', 'width': 640}, {'height': 300, 'url': 'https://i.scdn.co/image/ab67616d00001e0286e73d906f72620897eada32', 'width': 300}, {'height': 64, 'url': 'https://i.scdn.co/image/ab67616d0000485186e73d906f72620897eada32', 'width': 64}], 'name': 'choose to do', 'release_date': '2024-03-15', 'release_date_precision': 'day', 'total_tracks': 1, 'type': 'album', 'uri': 'spotify:album:0bK9IWuEvpKjnrc3MOqFTy'}, 'artists': [{'external_urls': {'spotify': 'https://open.spotify.com/artist/7b4DhB3yTiN4HMgFGFQQ2y'}, 'href': 'https://api.spotify.com/v1/artists/7b4DhB3yTiN4HMgFGFQQ2y', 'id': '7b4DhB3yTiN4HMgFGFQQ2y', 'name': 'Vynlsm', 'type': 'artist', 'uri': 'spotify:artist:7b4DhB3yTiN4HMgFGFQQ2y'}], 'available_markets': ['AR', 'AU', 'AT', 'BE', 'BO', 'BR', 'BG', 'CA', 'CL', 'CO', 'CR', 'CY', 'CZ', 'DK', 'DO', 'DE', 'EC', 'EE', 'SV', 'FI', 'FR', 'GR', 'GT', 'HN', 'HK', 'HU', 'IS', 'IE', 'IT', 'LV', 'LT', 'LU', 'MY', 'MT', 'MX', 'NL', 'NZ', 'NI', 'NO', 'PA', 'PY', 'PE', 'PH', 'PL', 'PT', 'SG', 'SK', 'ES', 'SE', 'CH', 'TW', 'TR', 'UY', 'US', 'GB', 'AD', 'LI', 'MC', 'ID', 'JP', 'TH', 'VN', 'RO', 'IL', 'ZA', 'SA', 'AE', 'BH', 'QA', 'OM', 'KW', 'EG', 'MA', 'DZ', 'TN', 'LB', 'JO', 'PS', 'IN', 'BY', 'KZ', 'MD', 'UA', 'AL', 'BA', 'HR', 'ME', 'MK', 'RS', 'SI', 'KR', 'BD', 'PK', 'LK', 'GH', 'KE', 'NG', 'TZ', 'UG', 'AG', 'AM', 'BS', 'BB', 'BZ', 'BT', 'BW', 'BF', 'CV', 'CW', 'DM', 'FJ', 'GM', 'GE', 'GD', 'GW', 'GY', 'HT', 'JM', 'KI', 'LS', 'LR', 'MW', 'MV', 'ML', 'MH', 'FM', 'NA', 'NR', 'NE', 'PW', 'PG', 'PR', 'WS', 'SM', 'ST', 'SN', 'SC', 'SL', 'SB', 'KN', 'LC', 'VC', 'SR', 'TL', 'TO', 'TT', 'TV', 'VU', 'AZ', 'BN', 'BI', 'KH', 'CM', 'TD', 'KM', 'GQ', 'SZ', 'GA', 'GN', 'KG', 'LA', 'MO', 'MR', 'MN', 'NP', 'RW', 'TG', 'UZ', 'ZW', 'BJ', 'MG', 'MU', 'MZ', 'AO', 'CI', 'DJ', 'ZM', 'CD', 'CG', 'IQ', 'LY', 'TJ', 'VE', 'ET', 'XK'], 'disc_number': 1, 'duration_ms': 140551, 'explicit': False, 'external_ids': {'isrc': 'SE69Z2401838'}, 'external_urls': {'spotify': 'https://open.spotify.com/track/4CxeDRUKuzvFOOAvfq2jhe'}, 'href': 'https://api.spotify.com/v1/tracks/4CxeDRUKuzvFOOAvfq2jhe', 'id': '4CxeDRUKuzvFOOAvfq2jhe', 'is_local': False, 'name': 'choose to do', 'popularity': 48, 'preview_url': None, 'track_number': 1, 'type': 'track', 'uri': 'spotify:track:4CxeDRUKuzvFOOAvfq2jhe'}, 'played_at': '2025-10-26T14:40:20.100Z', 'context': {'external_urls': {'spotify': 'https://open.spotify.com/playlist/37i9dQZF1DWZZbwlv3Vmtr'}, 'href': 'https://api.spotify.com/v1/playlists/37i9dQZF1DWZZbwlv3Vmtr', 'type': 'playlist', 'uri': 'spotify:playlist:37i9dQZF1DWZZbwlv3Vmtr'}}",
         "{'ingested_at': '2025-10-26T14:40:20.100Z', 'execution_date': '2025-10-26T00:00:00+00:00', 'dag_id': 'spotify_raw_ingestion_jsonl', 'run_id': 'manual__2025-10-26T14:40:20.100000Z', 'source': 'spotify_api'}"
        ],
        [
         "33",
         "{'track': {'album': {'album_type': 'single', 'artists': [{'external_urls': {'spotify': 'https://open.spotify.com/artist/5adQ9F1bTccUHKfePr6khI'}, 'href': 'https://api.spotify.com/v1/artists/5adQ9F1bTccUHKfePr6khI', 'id': '5adQ9F1bTccUHKfePr6khI', 'name': 'Mambojambo', 'type': 'artist', 'uri': 'spotify:artist:5adQ9F1bTccUHKfePr6khI'}], 'available_markets': ['AR', 'AU', 'AT', 'BE', 'BO', 'BR', 'BG', 'CA', 'CL', 'CO', 'CR', 'CY', 'CZ', 'DK', 'DO', 'DE', 'EC', 'EE', 'SV', 'FI', 'FR', 'GR', 'GT', 'HN', 'HK', 'HU', 'IS', 'IE', 'IT', 'LV', 'LT', 'LU', 'MY', 'MT', 'MX', 'NL', 'NZ', 'NI', 'NO', 'PA', 'PY', 'PE', 'PH', 'PL', 'PT', 'SG', 'SK', 'ES', 'SE', 'CH', 'TW', 'TR', 'UY', 'US', 'GB', 'AD', 'LI', 'MC', 'ID', 'JP', 'TH', 'VN', 'RO', 'IL', 'ZA', 'SA', 'AE', 'BH', 'QA', 'OM', 'KW', 'EG', 'MA', 'DZ', 'TN', 'LB', 'JO', 'PS', 'IN', 'BY', 'KZ', 'MD', 'UA', 'AL', 'BA', 'HR', 'ME', 'MK', 'RS', 'SI', 'KR', 'BD', 'PK', 'LK', 'GH', 'KE', 'NG', 'TZ', 'UG', 'AG', 'AM', 'BS', 'BB', 'BZ', 'BT', 'BW', 'BF', 'CV', 'CW', 'DM', 'FJ', 'GM', 'GE', 'GD', 'GW', 'GY', 'HT', 'JM', 'KI', 'LS', 'LR', 'MW', 'MV', 'ML', 'MH', 'FM', 'NA', 'NR', 'NE', 'PW', 'PG', 'PR', 'WS', 'SM', 'ST', 'SN', 'SC', 'SL', 'SB', 'KN', 'LC', 'VC', 'SR', 'TL', 'TO', 'TT', 'TV', 'VU', 'AZ', 'BN', 'BI', 'KH', 'CM', 'TD', 'KM', 'GQ', 'SZ', 'GA', 'GN', 'KG', 'LA', 'MO', 'MR', 'MN', 'NP', 'RW', 'TG', 'UZ', 'ZW', 'BJ', 'MG', 'MU', 'MZ', 'AO', 'CI', 'DJ', 'ZM', 'CD', 'CG', 'IQ', 'LY', 'TJ', 'VE', 'ET', 'XK'], 'external_urls': {'spotify': 'https://open.spotify.com/album/3FEZtS1ZfqgrCaDbsc3Wsi'}, 'href': 'https://api.spotify.com/v1/albums/3FEZtS1ZfqgrCaDbsc3Wsi', 'id': '3FEZtS1ZfqgrCaDbsc3Wsi', 'images': [{'height': 640, 'url': 'https://i.scdn.co/image/ab67616d0000b2736a17b7558b2ca2f3513eb1d5', 'width': 640}, {'height': 300, 'url': 'https://i.scdn.co/image/ab67616d00001e026a17b7558b2ca2f3513eb1d5', 'width': 300}, {'height': 64, 'url': 'https://i.scdn.co/image/ab67616d000048516a17b7558b2ca2f3513eb1d5', 'width': 64}], 'name': 'unwind rewind', 'release_date': '2025-03-28', 'release_date_precision': 'day', 'total_tracks': 1, 'type': 'album', 'uri': 'spotify:album:3FEZtS1ZfqgrCaDbsc3Wsi'}, 'artists': [{'external_urls': {'spotify': 'https://open.spotify.com/artist/5adQ9F1bTccUHKfePr6khI'}, 'href': 'https://api.spotify.com/v1/artists/5adQ9F1bTccUHKfePr6khI', 'id': '5adQ9F1bTccUHKfePr6khI', 'name': 'Mambojambo', 'type': 'artist', 'uri': 'spotify:artist:5adQ9F1bTccUHKfePr6khI'}], 'available_markets': ['AR', 'AU', 'AT', 'BE', 'BO', 'BR', 'BG', 'CA', 'CL', 'CO', 'CR', 'CY', 'CZ', 'DK', 'DO', 'DE', 'EC', 'EE', 'SV', 'FI', 'FR', 'GR', 'GT', 'HN', 'HK', 'HU', 'IS', 'IE', 'IT', 'LV', 'LT', 'LU', 'MY', 'MT', 'MX', 'NL', 'NZ', 'NI', 'NO', 'PA', 'PY', 'PE', 'PH', 'PL', 'PT', 'SG', 'SK', 'ES', 'SE', 'CH', 'TW', 'TR', 'UY', 'US', 'GB', 'AD', 'LI', 'MC', 'ID', 'JP', 'TH', 'VN', 'RO', 'IL', 'ZA', 'SA', 'AE', 'BH', 'QA', 'OM', 'KW', 'EG', 'MA', 'DZ', 'TN', 'LB', 'JO', 'PS', 'IN', 'BY', 'KZ', 'MD', 'UA', 'AL', 'BA', 'HR', 'ME', 'MK', 'RS', 'SI', 'KR', 'BD', 'PK', 'LK', 'GH', 'KE', 'NG', 'TZ', 'UG', 'AG', 'AM', 'BS', 'BB', 'BZ', 'BT', 'BW', 'BF', 'CV', 'CW', 'DM', 'FJ', 'GM', 'GE', 'GD', 'GW', 'GY', 'HT', 'JM', 'KI', 'LS', 'LR', 'MW', 'MV', 'ML', 'MH', 'FM', 'NA', 'NR', 'NE', 'PW', 'PG', 'PR', 'WS', 'SM', 'ST', 'SN', 'SC', 'SL', 'SB', 'KN', 'LC', 'VC', 'SR', 'TL', 'TO', 'TT', 'TV', 'VU', 'AZ', 'BN', 'BI', 'KH', 'CM', 'TD', 'KM', 'GQ', 'SZ', 'GA', 'GN', 'KG', 'LA', 'MO', 'MR', 'MN', 'NP', 'RW', 'TG', 'UZ', 'ZW', 'BJ', 'MG', 'MU', 'MZ', 'AO', 'CI', 'DJ', 'ZM', 'CD', 'CG', 'IQ', 'LY', 'TJ', 'VE', 'ET', 'XK'], 'disc_number': 1, 'duration_ms': 126560, 'explicit': False, 'external_ids': {'isrc': 'SE5W32505659'}, 'external_urls': {'spotify': 'https://open.spotify.com/track/2het2Gw9kQZKOZl2ATnog3'}, 'href': 'https://api.spotify.com/v1/tracks/2het2Gw9kQZKOZl2ATnog3', 'id': '2het2Gw9kQZKOZl2ATnog3', 'is_local': False, 'name': 'unwind rewind', 'popularity': 48, 'preview_url': None, 'track_number': 1, 'type': 'track', 'uri': 'spotify:track:2het2Gw9kQZKOZl2ATnog3'}, 'played_at': '2025-10-26T14:39:10.425Z', 'context': {'external_urls': {'spotify': 'https://open.spotify.com/playlist/37i9dQZF1DWZZbwlv3Vmtr'}, 'href': 'https://api.spotify.com/v1/playlists/37i9dQZF1DWZZbwlv3Vmtr', 'type': 'playlist', 'uri': 'spotify:playlist:37i9dQZF1DWZZbwlv3Vmtr'}}",
         "{'ingested_at': '2025-10-26T14:39:10.425Z', 'execution_date': '2025-10-26T00:00:00+00:00', 'dag_id': 'spotify_raw_ingestion_jsonl', 'run_id': 'manual__2025-10-26T14:39:10.425000Z', 'source': 'spotify_api'}"
        ],
        [
         "34",
         "{'track': {'album': {'album_type': 'single', 'artists': [{'external_urls': {'spotify': 'https://open.spotify.com/artist/0wcen0V8FgQu6xYupnZMbB'}, 'href': 'https://api.spotify.com/v1/artists/0wcen0V8FgQu6xYupnZMbB', 'id': '0wcen0V8FgQu6xYupnZMbB', 'name': 'softy', 'type': 'artist', 'uri': 'spotify:artist:0wcen0V8FgQu6xYupnZMbB'}], 'available_markets': ['AR', 'AU', 'AT', 'BE', 'BO', 'BR', 'BG', 'CA', 'CL', 'CO', 'CR', 'CY', 'CZ', 'DK', 'DO', 'DE', 'EC', 'EE', 'SV', 'FI', 'FR', 'GR', 'GT', 'HN', 'HK', 'HU', 'IS', 'IE', 'IT', 'LV', 'LT', 'LU', 'MY', 'MT', 'MX', 'NL', 'NZ', 'NI', 'NO', 'PA', 'PY', 'PE', 'PH', 'PL', 'PT', 'SG', 'SK', 'ES', 'SE', 'CH', 'TW', 'TR', 'UY', 'US', 'GB', 'AD', 'LI', 'MC', 'ID', 'JP', 'TH', 'VN', 'RO', 'IL', 'ZA', 'SA', 'AE', 'BH', 'QA', 'OM', 'KW', 'EG', 'MA', 'DZ', 'TN', 'LB', 'JO', 'PS', 'IN', 'BY', 'KZ', 'MD', 'UA', 'AL', 'BA', 'HR', 'ME', 'MK', 'RS', 'SI', 'KR', 'BD', 'PK', 'LK', 'GH', 'KE', 'NG', 'TZ', 'UG', 'AG', 'AM', 'BS', 'BB', 'BZ', 'BT', 'BW', 'BF', 'CV', 'CW', 'DM', 'FJ', 'GM', 'GE', 'GD', 'GW', 'GY', 'HT', 'JM', 'KI', 'LS', 'LR', 'MW', 'MV', 'ML', 'MH', 'FM', 'NA', 'NR', 'NE', 'PW', 'PG', 'PR', 'WS', 'SM', 'ST', 'SN', 'SC', 'SL', 'SB', 'KN', 'LC', 'VC', 'SR', 'TL', 'TO', 'TT', 'TV', 'VU', 'AZ', 'BN', 'BI', 'KH', 'CM', 'TD', 'KM', 'GQ', 'SZ', 'GA', 'GN', 'KG', 'LA', 'MO', 'MR', 'MN', 'NP', 'RW', 'TG', 'UZ', 'ZW', 'BJ', 'MG', 'MU', 'MZ', 'AO', 'CI', 'DJ', 'ZM', 'CD', 'CG', 'IQ', 'LY', 'TJ', 'VE', 'ET', 'XK'], 'external_urls': {'spotify': 'https://open.spotify.com/album/6LHvHIhMr4nvj3M6VEkZpn'}, 'href': 'https://api.spotify.com/v1/albums/6LHvHIhMr4nvj3M6VEkZpn', 'id': '6LHvHIhMr4nvj3M6VEkZpn', 'images': [{'height': 640, 'url': 'https://i.scdn.co/image/ab67616d0000b2738e4841de3d0155a2c2bae096', 'width': 640}, {'height': 300, 'url': 'https://i.scdn.co/image/ab67616d00001e028e4841de3d0155a2c2bae096', 'width': 300}, {'height': 64, 'url': 'https://i.scdn.co/image/ab67616d000048518e4841de3d0155a2c2bae096', 'width': 64}], 'name': 'Porch', 'release_date': '2025-10-03', 'release_date_precision': 'day', 'total_tracks': 1, 'type': 'album', 'uri': 'spotify:album:6LHvHIhMr4nvj3M6VEkZpn'}, 'artists': [{'external_urls': {'spotify': 'https://open.spotify.com/artist/0wcen0V8FgQu6xYupnZMbB'}, 'href': 'https://api.spotify.com/v1/artists/0wcen0V8FgQu6xYupnZMbB', 'id': '0wcen0V8FgQu6xYupnZMbB', 'name': 'softy', 'type': 'artist', 'uri': 'spotify:artist:0wcen0V8FgQu6xYupnZMbB'}], 'available_markets': ['AR', 'AU', 'AT', 'BE', 'BO', 'BR', 'BG', 'CA', 'CL', 'CO', 'CR', 'CY', 'CZ', 'DK', 'DO', 'DE', 'EC', 'EE', 'SV', 'FI', 'FR', 'GR', 'GT', 'HN', 'HK', 'HU', 'IS', 'IE', 'IT', 'LV', 'LT', 'LU', 'MY', 'MT', 'MX', 'NL', 'NZ', 'NI', 'NO', 'PA', 'PY', 'PE', 'PH', 'PL', 'PT', 'SG', 'SK', 'ES', 'SE', 'CH', 'TW', 'TR', 'UY', 'US', 'GB', 'AD', 'LI', 'MC', 'ID', 'JP', 'TH', 'VN', 'RO', 'IL', 'ZA', 'SA', 'AE', 'BH', 'QA', 'OM', 'KW', 'EG', 'MA', 'DZ', 'TN', 'LB', 'JO', 'PS', 'IN', 'BY', 'KZ', 'MD', 'UA', 'AL', 'BA', 'HR', 'ME', 'MK', 'RS', 'SI', 'KR', 'BD', 'PK', 'LK', 'GH', 'KE', 'NG', 'TZ', 'UG', 'AG', 'AM', 'BS', 'BB', 'BZ', 'BT', 'BW', 'BF', 'CV', 'CW', 'DM', 'FJ', 'GM', 'GE', 'GD', 'GW', 'GY', 'HT', 'JM', 'KI', 'LS', 'LR', 'MW', 'MV', 'ML', 'MH', 'FM', 'NA', 'NR', 'NE', 'PW', 'PG', 'PR', 'WS', 'SM', 'ST', 'SN', 'SC', 'SL', 'SB', 'KN', 'LC', 'VC', 'SR', 'TL', 'TO', 'TT', 'TV', 'VU', 'AZ', 'BN', 'BI', 'KH', 'CM', 'TD', 'KM', 'GQ', 'SZ', 'GA', 'GN', 'KG', 'LA', 'MO', 'MR', 'MN', 'NP', 'RW', 'TG', 'UZ', 'ZW', 'BJ', 'MG', 'MU', 'MZ', 'AO', 'CI', 'DJ', 'ZM', 'CD', 'CG', 'IQ', 'LY', 'TJ', 'VE', 'ET', 'XK'], 'disc_number': 1, 'duration_ms': 120436, 'explicit': False, 'external_ids': {'isrc': 'USANG2526695'}, 'external_urls': {'spotify': 'https://open.spotify.com/track/1lnVbqyBZvQkVSac8AEdzA'}, 'href': 'https://api.spotify.com/v1/tracks/1lnVbqyBZvQkVSac8AEdzA', 'id': '1lnVbqyBZvQkVSac8AEdzA', 'is_local': False, 'name': 'Porch', 'popularity': 51, 'preview_url': None, 'track_number': 1, 'type': 'track', 'uri': 'spotify:track:1lnVbqyBZvQkVSac8AEdzA'}, 'played_at': '2025-10-26T14:36:44.988Z', 'context': {'external_urls': {'spotify': 'https://open.spotify.com/playlist/37i9dQZF1DWZZbwlv3Vmtr'}, 'href': 'https://api.spotify.com/v1/playlists/37i9dQZF1DWZZbwlv3Vmtr', 'type': 'playlist', 'uri': 'spotify:playlist:37i9dQZF1DWZZbwlv3Vmtr'}}",
         "{'ingested_at': '2025-10-26T14:36:44.988Z', 'execution_date': '2025-10-26T00:00:00+00:00', 'dag_id': 'spotify_raw_ingestion_jsonl', 'run_id': 'manual__2025-10-26T14:36:44.988000Z', 'source': 'spotify_api'}"
        ],
        [
         "35",
         "{'track': {'album': {'album_type': 'single', 'artists': [{'external_urls': {'spotify': 'https://open.spotify.com/artist/2rVT5Vmfp9tvqtvAQU0r4f'}, 'href': 'https://api.spotify.com/v1/artists/2rVT5Vmfp9tvqtvAQU0r4f', 'id': '2rVT5Vmfp9tvqtvAQU0r4f', 'name': 'Govii', 'type': 'artist', 'uri': 'spotify:artist:2rVT5Vmfp9tvqtvAQU0r4f'}], 'available_markets': ['AR', 'AU', 'AT', 'BE', 'BO', 'BR', 'BG', 'CA', 'CL', 'CO', 'CR', 'CY', 'CZ', 'DK', 'DO', 'DE', 'EC', 'EE', 'SV', 'FI', 'FR', 'GR', 'GT', 'HN', 'HK', 'HU', 'IS', 'IE', 'IT', 'LV', 'LT', 'LU', 'MY', 'MT', 'MX', 'NL', 'NZ', 'NI', 'NO', 'PA', 'PY', 'PE', 'PH', 'PL', 'PT', 'SG', 'SK', 'ES', 'SE', 'CH', 'TW', 'TR', 'UY', 'US', 'GB', 'AD', 'LI', 'MC', 'ID', 'JP', 'TH', 'VN', 'RO', 'IL', 'ZA', 'SA', 'AE', 'BH', 'QA', 'OM', 'KW', 'EG', 'MA', 'DZ', 'TN', 'LB', 'JO', 'PS', 'IN', 'BY', 'KZ', 'MD', 'UA', 'AL', 'BA', 'HR', 'ME', 'MK', 'RS', 'SI', 'KR', 'BD', 'PK', 'LK', 'GH', 'KE', 'NG', 'TZ', 'UG', 'AG', 'AM', 'BS', 'BB', 'BZ', 'BT', 'BW', 'BF', 'CV', 'CW', 'DM', 'FJ', 'GM', 'GE', 'GD', 'GW', 'GY', 'HT', 'JM', 'KI', 'LS', 'LR', 'MW', 'MV', 'ML', 'MH', 'FM', 'NA', 'NR', 'NE', 'PW', 'PG', 'PR', 'WS', 'SM', 'ST', 'SN', 'SC', 'SL', 'SB', 'KN', 'LC', 'VC', 'SR', 'TL', 'TO', 'TT', 'TV', 'VU', 'AZ', 'BN', 'BI', 'KH', 'CM', 'TD', 'KM', 'GQ', 'SZ', 'GA', 'GN', 'KG', 'LA', 'MO', 'MR', 'MN', 'NP', 'RW', 'TG', 'UZ', 'ZW', 'BJ', 'MG', 'MU', 'MZ', 'AO', 'CI', 'DJ', 'ZM', 'CD', 'CG', 'IQ', 'LY', 'TJ', 'VE', 'ET', 'XK'], 'external_urls': {'spotify': 'https://open.spotify.com/album/6ENsgfts4fxKpxve4szGlD'}, 'href': 'https://api.spotify.com/v1/albums/6ENsgfts4fxKpxve4szGlD', 'id': '6ENsgfts4fxKpxve4szGlD', 'images': [{'height': 640, 'url': 'https://i.scdn.co/image/ab67616d0000b273eec9692beb34e35bd74c2333', 'width': 640}, {'height': 300, 'url': 'https://i.scdn.co/image/ab67616d00001e02eec9692beb34e35bd74c2333', 'width': 300}, {'height': 64, 'url': 'https://i.scdn.co/image/ab67616d00004851eec9692beb34e35bd74c2333', 'width': 64}], 'name': 'hot sauce expert', 'release_date': '2024-01-07', 'release_date_precision': 'day', 'total_tracks': 1, 'type': 'album', 'uri': 'spotify:album:6ENsgfts4fxKpxve4szGlD'}, 'artists': [{'external_urls': {'spotify': 'https://open.spotify.com/artist/2rVT5Vmfp9tvqtvAQU0r4f'}, 'href': 'https://api.spotify.com/v1/artists/2rVT5Vmfp9tvqtvAQU0r4f', 'id': '2rVT5Vmfp9tvqtvAQU0r4f', 'name': 'Govii', 'type': 'artist', 'uri': 'spotify:artist:2rVT5Vmfp9tvqtvAQU0r4f'}], 'available_markets': ['AR', 'AU', 'AT', 'BE', 'BO', 'BR', 'BG', 'CA', 'CL', 'CO', 'CR', 'CY', 'CZ', 'DK', 'DO', 'DE', 'EC', 'EE', 'SV', 'FI', 'FR', 'GR', 'GT', 'HN', 'HK', 'HU', 'IS', 'IE', 'IT', 'LV', 'LT', 'LU', 'MY', 'MT', 'MX', 'NL', 'NZ', 'NI', 'NO', 'PA', 'PY', 'PE', 'PH', 'PL', 'PT', 'SG', 'SK', 'ES', 'SE', 'CH', 'TW', 'TR', 'UY', 'US', 'GB', 'AD', 'LI', 'MC', 'ID', 'JP', 'TH', 'VN', 'RO', 'IL', 'ZA', 'SA', 'AE', 'BH', 'QA', 'OM', 'KW', 'EG', 'MA', 'DZ', 'TN', 'LB', 'JO', 'PS', 'IN', 'BY', 'KZ', 'MD', 'UA', 'AL', 'BA', 'HR', 'ME', 'MK', 'RS', 'SI', 'KR', 'BD', 'PK', 'LK', 'GH', 'KE', 'NG', 'TZ', 'UG', 'AG', 'AM', 'BS', 'BB', 'BZ', 'BT', 'BW', 'BF', 'CV', 'CW', 'DM', 'FJ', 'GM', 'GE', 'GD', 'GW', 'GY', 'HT', 'JM', 'KI', 'LS', 'LR', 'MW', 'MV', 'ML', 'MH', 'FM', 'NA', 'NR', 'NE', 'PW', 'PG', 'PR', 'WS', 'SM', 'ST', 'SN', 'SC', 'SL', 'SB', 'KN', 'LC', 'VC', 'SR', 'TL', 'TO', 'TT', 'TV', 'VU', 'AZ', 'BN', 'BI', 'KH', 'CM', 'TD', 'KM', 'GQ', 'SZ', 'GA', 'GN', 'KG', 'LA', 'MO', 'MR', 'MN', 'NP', 'RW', 'TG', 'UZ', 'ZW', 'BJ', 'MG', 'MU', 'MZ', 'AO', 'CI', 'DJ', 'ZM', 'CD', 'CG', 'IQ', 'LY', 'TJ', 'VE', 'ET', 'XK'], 'disc_number': 1, 'duration_ms': 123000, 'explicit': False, 'external_ids': {'isrc': 'QZAKB2366303'}, 'external_urls': {'spotify': 'https://open.spotify.com/track/6Y9htoJ4aK8doMsrfSjfZk'}, 'href': 'https://api.spotify.com/v1/tracks/6Y9htoJ4aK8doMsrfSjfZk', 'id': '6Y9htoJ4aK8doMsrfSjfZk', 'is_local': False, 'name': 'hot sauce expert', 'popularity': 51, 'preview_url': None, 'track_number': 1, 'type': 'track', 'uri': 'spotify:track:6Y9htoJ4aK8doMsrfSjfZk'}, 'played_at': '2025-10-26T14:35:21.248Z', 'context': {'external_urls': {'spotify': 'https://open.spotify.com/playlist/37i9dQZF1DWZZbwlv3Vmtr'}, 'href': 'https://api.spotify.com/v1/playlists/37i9dQZF1DWZZbwlv3Vmtr', 'type': 'playlist', 'uri': 'spotify:playlist:37i9dQZF1DWZZbwlv3Vmtr'}}",
         "{'ingested_at': '2025-10-26T14:35:21.248Z', 'execution_date': '2025-10-26T00:00:00+00:00', 'dag_id': 'spotify_raw_ingestion_jsonl', 'run_id': 'manual__2025-10-26T14:35:21.248000Z', 'source': 'spotify_api'}"
        ],
        [
         "36",
         "{'track': {'album': {'album_type': 'single', 'artists': [{'external_urls': {'spotify': 'https://open.spotify.com/artist/3dRsGVKzOLszqIM2I9Xhtf'}, 'href': 'https://api.spotify.com/v1/artists/3dRsGVKzOLszqIM2I9Xhtf', 'id': '3dRsGVKzOLszqIM2I9Xhtf', 'name': 'Gooee', 'type': 'artist', 'uri': 'spotify:artist:3dRsGVKzOLszqIM2I9Xhtf'}], 'available_markets': ['AR', 'AU', 'AT', 'BE', 'BO', 'BR', 'BG', 'CA', 'CL', 'CO', 'CR', 'CY', 'CZ', 'DK', 'DO', 'DE', 'EC', 'EE', 'SV', 'FI', 'FR', 'GR', 'GT', 'HN', 'HK', 'HU', 'IS', 'IE', 'IT', 'LV', 'LT', 'LU', 'MY', 'MT', 'MX', 'NL', 'NZ', 'NI', 'NO', 'PA', 'PY', 'PE', 'PH', 'PL', 'PT', 'SG', 'SK', 'ES', 'SE', 'CH', 'TW', 'TR', 'UY', 'US', 'GB', 'AD', 'LI', 'MC', 'ID', 'JP', 'TH', 'VN', 'RO', 'IL', 'ZA', 'SA', 'AE', 'BH', 'QA', 'OM', 'KW', 'EG', 'MA', 'DZ', 'TN', 'LB', 'JO', 'PS', 'IN', 'BY', 'KZ', 'MD', 'UA', 'AL', 'BA', 'HR', 'ME', 'MK', 'RS', 'SI', 'KR', 'BD', 'PK', 'LK', 'GH', 'KE', 'NG', 'TZ', 'UG', 'AG', 'AM', 'BS', 'BB', 'BZ', 'BT', 'BW', 'BF', 'CV', 'CW', 'DM', 'FJ', 'GM', 'GE', 'GD', 'GW', 'GY', 'HT', 'JM', 'KI', 'LS', 'LR', 'MW', 'MV', 'ML', 'MH', 'FM', 'NA', 'NR', 'NE', 'PW', 'PG', 'PR', 'WS', 'SM', 'ST', 'SN', 'SC', 'SL', 'SB', 'KN', 'LC', 'VC', 'SR', 'TL', 'TO', 'TT', 'TV', 'VU', 'AZ', 'BN', 'BI', 'KH', 'CM', 'TD', 'KM', 'GQ', 'SZ', 'GA', 'GN', 'KG', 'LA', 'MO', 'MR', 'MN', 'NP', 'RW', 'TG', 'UZ', 'ZW', 'BJ', 'MG', 'MU', 'MZ', 'AO', 'CI', 'DJ', 'ZM', 'CD', 'CG', 'IQ', 'LY', 'TJ', 'VE', 'ET', 'XK'], 'external_urls': {'spotify': 'https://open.spotify.com/album/5v2UDMEhWTqNnwdTYdQXyI'}, 'href': 'https://api.spotify.com/v1/albums/5v2UDMEhWTqNnwdTYdQXyI', 'id': '5v2UDMEhWTqNnwdTYdQXyI', 'images': [{'height': 640, 'url': 'https://i.scdn.co/image/ab67616d0000b273fa4a2e2d6833c7d1b576feb0', 'width': 640}, {'height': 300, 'url': 'https://i.scdn.co/image/ab67616d00001e02fa4a2e2d6833c7d1b576feb0', 'width': 300}, {'height': 64, 'url': 'https://i.scdn.co/image/ab67616d00004851fa4a2e2d6833c7d1b576feb0', 'width': 64}], 'name': 'After Hours', 'release_date': '2023-10-13', 'release_date_precision': 'day', 'total_tracks': 1, 'type': 'album', 'uri': 'spotify:album:5v2UDMEhWTqNnwdTYdQXyI'}, 'artists': [{'external_urls': {'spotify': 'https://open.spotify.com/artist/3dRsGVKzOLszqIM2I9Xhtf'}, 'href': 'https://api.spotify.com/v1/artists/3dRsGVKzOLszqIM2I9Xhtf', 'id': '3dRsGVKzOLszqIM2I9Xhtf', 'name': 'Gooee', 'type': 'artist', 'uri': 'spotify:artist:3dRsGVKzOLszqIM2I9Xhtf'}], 'available_markets': ['AR', 'AU', 'AT', 'BE', 'BO', 'BR', 'BG', 'CA', 'CL', 'CO', 'CR', 'CY', 'CZ', 'DK', 'DO', 'DE', 'EC', 'EE', 'SV', 'FI', 'FR', 'GR', 'GT', 'HN', 'HK', 'HU', 'IS', 'IE', 'IT', 'LV', 'LT', 'LU', 'MY', 'MT', 'MX', 'NL', 'NZ', 'NI', 'NO', 'PA', 'PY', 'PE', 'PH', 'PL', 'PT', 'SG', 'SK', 'ES', 'SE', 'CH', 'TW', 'TR', 'UY', 'US', 'GB', 'AD', 'LI', 'MC', 'ID', 'JP', 'TH', 'VN', 'RO', 'IL', 'ZA', 'SA', 'AE', 'BH', 'QA', 'OM', 'KW', 'EG', 'MA', 'DZ', 'TN', 'LB', 'JO', 'PS', 'IN', 'BY', 'KZ', 'MD', 'UA', 'AL', 'BA', 'HR', 'ME', 'MK', 'RS', 'SI', 'KR', 'BD', 'PK', 'LK', 'GH', 'KE', 'NG', 'TZ', 'UG', 'AG', 'AM', 'BS', 'BB', 'BZ', 'BT', 'BW', 'BF', 'CV', 'CW', 'DM', 'FJ', 'GM', 'GE', 'GD', 'GW', 'GY', 'HT', 'JM', 'KI', 'LS', 'LR', 'MW', 'MV', 'ML', 'MH', 'FM', 'NA', 'NR', 'NE', 'PW', 'PG', 'PR', 'WS', 'SM', 'ST', 'SN', 'SC', 'SL', 'SB', 'KN', 'LC', 'VC', 'SR', 'TL', 'TO', 'TT', 'TV', 'VU', 'AZ', 'BN', 'BI', 'KH', 'CM', 'TD', 'KM', 'GQ', 'SZ', 'GA', 'GN', 'KG', 'LA', 'MO', 'MR', 'MN', 'NP', 'RW', 'TG', 'UZ', 'ZW', 'BJ', 'MG', 'MU', 'MZ', 'AO', 'CI', 'DJ', 'ZM', 'CD', 'CG', 'IQ', 'LY', 'TJ', 'VE', 'ET', 'XK'], 'disc_number': 1, 'duration_ms': 123385, 'explicit': False, 'external_ids': {'isrc': 'SE5W32308790'}, 'external_urls': {'spotify': 'https://open.spotify.com/track/54Q1fME5hhgFWipi1SkTtU'}, 'href': 'https://api.spotify.com/v1/tracks/54Q1fME5hhgFWipi1SkTtU', 'id': '54Q1fME5hhgFWipi1SkTtU', 'is_local': False, 'name': 'After Hours', 'popularity': 54, 'preview_url': None, 'track_number': 1, 'type': 'track', 'uri': 'spotify:track:54Q1fME5hhgFWipi1SkTtU'}, 'played_at': '2025-10-26T14:33:35.655Z', 'context': {'external_urls': {'spotify': 'https://open.spotify.com/playlist/37i9dQZF1DWZZbwlv3Vmtr'}, 'href': 'https://api.spotify.com/v1/playlists/37i9dQZF1DWZZbwlv3Vmtr', 'type': 'playlist', 'uri': 'spotify:playlist:37i9dQZF1DWZZbwlv3Vmtr'}}",
         "{'ingested_at': '2025-10-26T14:33:35.655Z', 'execution_date': '2025-10-26T00:00:00+00:00', 'dag_id': 'spotify_raw_ingestion_jsonl', 'run_id': 'manual__2025-10-26T14:33:35.655000Z', 'source': 'spotify_api'}"
        ],
        [
         "37",
         "{'track': {'album': {'album_type': 'single', 'artists': [{'external_urls': {'spotify': 'https://open.spotify.com/artist/2DgL3THTMvM0MfSTaYYMAI'}, 'href': 'https://api.spotify.com/v1/artists/2DgL3THTMvM0MfSTaYYMAI', 'id': '2DgL3THTMvM0MfSTaYYMAI', 'name': 'Silk Soul', 'type': 'artist', 'uri': 'spotify:artist:2DgL3THTMvM0MfSTaYYMAI'}], 'available_markets': ['AR', 'AU', 'AT', 'BE', 'BO', 'BR', 'BG', 'CA', 'CL', 'CO', 'CR', 'CY', 'CZ', 'DK', 'DO', 'DE', 'EC', 'EE', 'SV', 'FI', 'FR', 'GR', 'GT', 'HN', 'HK', 'HU', 'IS', 'IE', 'IT', 'LV', 'LT', 'LU', 'MY', 'MT', 'MX', 'NL', 'NZ', 'NI', 'NO', 'PA', 'PY', 'PE', 'PH', 'PL', 'PT', 'SG', 'SK', 'ES', 'SE', 'CH', 'TW', 'TR', 'UY', 'US', 'GB', 'AD', 'LI', 'MC', 'ID', 'JP', 'TH', 'VN', 'RO', 'IL', 'ZA', 'SA', 'AE', 'BH', 'QA', 'OM', 'KW', 'EG', 'MA', 'DZ', 'TN', 'LB', 'JO', 'PS', 'IN', 'BY', 'KZ', 'MD', 'UA', 'AL', 'BA', 'HR', 'ME', 'MK', 'RS', 'SI', 'KR', 'BD', 'PK', 'LK', 'GH', 'KE', 'NG', 'TZ', 'UG', 'AG', 'AM', 'BS', 'BB', 'BZ', 'BT', 'BW', 'BF', 'CV', 'CW', 'DM', 'FJ', 'GM', 'GE', 'GD', 'GW', 'GY', 'HT', 'JM', 'KI', 'LS', 'LR', 'MW', 'MV', 'ML', 'MH', 'FM', 'NA', 'NR', 'NE', 'PW', 'PG', 'PR', 'WS', 'SM', 'ST', 'SN', 'SC', 'SL', 'SB', 'KN', 'LC', 'VC', 'SR', 'TL', 'TO', 'TT', 'TV', 'VU', 'AZ', 'BN', 'BI', 'KH', 'CM', 'TD', 'KM', 'GQ', 'SZ', 'GA', 'GN', 'KG', 'LA', 'MO', 'MR', 'MN', 'NP', 'RW', 'TG', 'UZ', 'ZW', 'BJ', 'MG', 'MU', 'MZ', 'AO', 'CI', 'DJ', 'ZM', 'CD', 'CG', 'IQ', 'LY', 'TJ', 'VE', 'ET', 'XK'], 'external_urls': {'spotify': 'https://open.spotify.com/album/4aE1MMVBFm1WESG0pRYHJs'}, 'href': 'https://api.spotify.com/v1/albums/4aE1MMVBFm1WESG0pRYHJs', 'id': '4aE1MMVBFm1WESG0pRYHJs', 'images': [{'height': 640, 'url': 'https://i.scdn.co/image/ab67616d0000b2739e04af4528df7c4e43b6c636', 'width': 640}, {'height': 300, 'url': 'https://i.scdn.co/image/ab67616d00001e029e04af4528df7c4e43b6c636', 'width': 300}, {'height': 64, 'url': 'https://i.scdn.co/image/ab67616d000048519e04af4528df7c4e43b6c636', 'width': 64}], 'name': 'Incredibly happy', 'release_date': '2023-10-20', 'release_date_precision': 'day', 'total_tracks': 1, 'type': 'album', 'uri': 'spotify:album:4aE1MMVBFm1WESG0pRYHJs'}, 'artists': [{'external_urls': {'spotify': 'https://open.spotify.com/artist/2DgL3THTMvM0MfSTaYYMAI'}, 'href': 'https://api.spotify.com/v1/artists/2DgL3THTMvM0MfSTaYYMAI', 'id': '2DgL3THTMvM0MfSTaYYMAI', 'name': 'Silk Soul', 'type': 'artist', 'uri': 'spotify:artist:2DgL3THTMvM0MfSTaYYMAI'}], 'available_markets': ['AR', 'AU', 'AT', 'BE', 'BO', 'BR', 'BG', 'CA', 'CL', 'CO', 'CR', 'CY', 'CZ', 'DK', 'DO', 'DE', 'EC', 'EE', 'SV', 'FI', 'FR', 'GR', 'GT', 'HN', 'HK', 'HU', 'IS', 'IE', 'IT', 'LV', 'LT', 'LU', 'MY', 'MT', 'MX', 'NL', 'NZ', 'NI', 'NO', 'PA', 'PY', 'PE', 'PH', 'PL', 'PT', 'SG', 'SK', 'ES', 'SE', 'CH', 'TW', 'TR', 'UY', 'US', 'GB', 'AD', 'LI', 'MC', 'ID', 'JP', 'TH', 'VN', 'RO', 'IL', 'ZA', 'SA', 'AE', 'BH', 'QA', 'OM', 'KW', 'EG', 'MA', 'DZ', 'TN', 'LB', 'JO', 'PS', 'IN', 'BY', 'KZ', 'MD', 'UA', 'AL', 'BA', 'HR', 'ME', 'MK', 'RS', 'SI', 'KR', 'BD', 'PK', 'LK', 'GH', 'KE', 'NG', 'TZ', 'UG', 'AG', 'AM', 'BS', 'BB', 'BZ', 'BT', 'BW', 'BF', 'CV', 'CW', 'DM', 'FJ', 'GM', 'GE', 'GD', 'GW', 'GY', 'HT', 'JM', 'KI', 'LS', 'LR', 'MW', 'MV', 'ML', 'MH', 'FM', 'NA', 'NR', 'NE', 'PW', 'PG', 'PR', 'WS', 'SM', 'ST', 'SN', 'SC', 'SL', 'SB', 'KN', 'LC', 'VC', 'SR', 'TL', 'TO', 'TT', 'TV', 'VU', 'AZ', 'BN', 'BI', 'KH', 'CM', 'TD', 'KM', 'GQ', 'SZ', 'GA', 'GN', 'KG', 'LA', 'MO', 'MR', 'MN', 'NP', 'RW', 'TG', 'UZ', 'ZW', 'BJ', 'MG', 'MU', 'MZ', 'AO', 'CI', 'DJ', 'ZM', 'CD', 'CG', 'IQ', 'LY', 'TJ', 'VE', 'ET', 'XK'], 'disc_number': 1, 'duration_ms': 159000, 'explicit': False, 'external_ids': {'isrc': 'SE5W32308856'}, 'external_urls': {'spotify': 'https://open.spotify.com/track/6FVL1EGTz7nWEzuUz6VpvF'}, 'href': 'https://api.spotify.com/v1/tracks/6FVL1EGTz7nWEzuUz6VpvF', 'id': '6FVL1EGTz7nWEzuUz6VpvF', 'is_local': False, 'name': 'Incredibly happy', 'popularity': 52, 'preview_url': None, 'track_number': 1, 'type': 'track', 'uri': 'spotify:track:6FVL1EGTz7nWEzuUz6VpvF'}, 'played_at': '2025-10-26T14:31:43.795Z', 'context': {'external_urls': {'spotify': 'https://open.spotify.com/playlist/37i9dQZF1DWZZbwlv3Vmtr'}, 'href': 'https://api.spotify.com/v1/playlists/37i9dQZF1DWZZbwlv3Vmtr', 'type': 'playlist', 'uri': 'spotify:playlist:37i9dQZF1DWZZbwlv3Vmtr'}}",
         "{'ingested_at': '2025-10-26T14:31:43.795Z', 'execution_date': '2025-10-26T00:00:00+00:00', 'dag_id': 'spotify_raw_ingestion_jsonl', 'run_id': 'manual__2025-10-26T14:31:43.795000Z', 'source': 'spotify_api'}"
        ],
        [
         "38",
         "{'track': {'album': {'album_type': 'single', 'artists': [{'external_urls': {'spotify': 'https://open.spotify.com/artist/3CEJ5kBVJx2hrk8bsEf8lp'}, 'href': 'https://api.spotify.com/v1/artists/3CEJ5kBVJx2hrk8bsEf8lp', 'id': '3CEJ5kBVJx2hrk8bsEf8lp', 'name': 'darecloud', 'type': 'artist', 'uri': 'spotify:artist:3CEJ5kBVJx2hrk8bsEf8lp'}, {'external_urls': {'spotify': 'https://open.spotify.com/artist/5r4pQdeOkSMx1y2NNMDSlu'}, 'href': 'https://api.spotify.com/v1/artists/5r4pQdeOkSMx1y2NNMDSlu', 'id': '5r4pQdeOkSMx1y2NNMDSlu', 'name': 'Devon Rea', 'type': 'artist', 'uri': 'spotify:artist:5r4pQdeOkSMx1y2NNMDSlu'}, {'external_urls': {'spotify': 'https://open.spotify.com/artist/7nxdGB1ERSodMHz0rYUXkQ'}, 'href': 'https://api.spotify.com/v1/artists/7nxdGB1ERSodMHz0rYUXkQ', 'id': '7nxdGB1ERSodMHz0rYUXkQ', 'name': 'Patiotic Records', 'type': 'artist', 'uri': 'spotify:artist:7nxdGB1ERSodMHz0rYUXkQ'}], 'available_markets': ['AR', 'AU', 'AT', 'BE', 'BO', 'BR', 'BG', 'CA', 'CL', 'CO', 'CR', 'CY', 'CZ', 'DK', 'DO', 'DE', 'EC', 'EE', 'SV', 'FI', 'FR', 'GR', 'GT', 'HN', 'HK', 'HU', 'IS', 'IE', 'IT', 'LV', 'LT', 'LU', 'MY', 'MT', 'MX', 'NL', 'NZ', 'NI', 'NO', 'PA', 'PY', 'PE', 'PH', 'PL', 'PT', 'SG', 'SK', 'ES', 'SE', 'CH', 'TW', 'TR', 'UY', 'US', 'GB', 'AD', 'LI', 'MC', 'ID', 'JP', 'TH', 'VN', 'RO', 'IL', 'ZA', 'SA', 'AE', 'BH', 'QA', 'OM', 'KW', 'EG', 'MA', 'DZ', 'TN', 'LB', 'JO', 'PS', 'IN', 'BY', 'KZ', 'MD', 'UA', 'AL', 'BA', 'HR', 'ME', 'MK', 'RS', 'SI', 'KR', 'BD', 'PK', 'LK', 'GH', 'KE', 'NG', 'TZ', 'UG', 'AG', 'AM', 'BS', 'BB', 'BZ', 'BT', 'BW', 'BF', 'CV', 'CW', 'DM', 'FJ', 'GM', 'GE', 'GD', 'GW', 'GY', 'HT', 'JM', 'KI', 'LS', 'LR', 'MW', 'MV', 'ML', 'MH', 'FM', 'NA', 'NR', 'NE', 'PW', 'PG', 'PR', 'WS', 'SM', 'ST', 'SN', 'SC', 'SL', 'SB', 'KN', 'LC', 'VC', 'SR', 'TL', 'TO', 'TT', 'TV', 'VU', 'AZ', 'BN', 'BI', 'KH', 'CM', 'TD', 'KM', 'GQ', 'SZ', 'GA', 'GN', 'KG', 'LA', 'MO', 'MR', 'MN', 'NP', 'RW', 'TG', 'UZ', 'ZW', 'BJ', 'MG', 'MU', 'MZ', 'AO', 'CI', 'DJ', 'ZM', 'CD', 'CG', 'IQ', 'LY', 'TJ', 'VE', 'ET', 'XK'], 'external_urls': {'spotify': 'https://open.spotify.com/album/34XEHZITd5aslpA8xYzxV2'}, 'href': 'https://api.spotify.com/v1/albums/34XEHZITd5aslpA8xYzxV2', 'id': '34XEHZITd5aslpA8xYzxV2', 'images': [{'height': 640, 'url': 'https://i.scdn.co/image/ab67616d0000b273186372bbeaf11c09392765d8', 'width': 640}, {'height': 300, 'url': 'https://i.scdn.co/image/ab67616d00001e02186372bbeaf11c09392765d8', 'width': 300}, {'height': 64, 'url': 'https://i.scdn.co/image/ab67616d00004851186372bbeaf11c09392765d8', 'width': 64}], 'name': 'Back in time', 'release_date': '2023-01-20', 'release_date_precision': 'day', 'total_tracks': 1, 'type': 'album', 'uri': 'spotify:album:34XEHZITd5aslpA8xYzxV2'}, 'artists': [{'external_urls': {'spotify': 'https://open.spotify.com/artist/3CEJ5kBVJx2hrk8bsEf8lp'}, 'href': 'https://api.spotify.com/v1/artists/3CEJ5kBVJx2hrk8bsEf8lp', 'id': '3CEJ5kBVJx2hrk8bsEf8lp', 'name': 'darecloud', 'type': 'artist', 'uri': 'spotify:artist:3CEJ5kBVJx2hrk8bsEf8lp'}, {'external_urls': {'spotify': 'https://open.spotify.com/artist/5r4pQdeOkSMx1y2NNMDSlu'}, 'href': 'https://api.spotify.com/v1/artists/5r4pQdeOkSMx1y2NNMDSlu', 'id': '5r4pQdeOkSMx1y2NNMDSlu', 'name': 'Devon Rea', 'type': 'artist', 'uri': 'spotify:artist:5r4pQdeOkSMx1y2NNMDSlu'}, {'external_urls': {'spotify': 'https://open.spotify.com/artist/7nxdGB1ERSodMHz0rYUXkQ'}, 'href': 'https://api.spotify.com/v1/artists/7nxdGB1ERSodMHz0rYUXkQ', 'id': '7nxdGB1ERSodMHz0rYUXkQ', 'name': 'Patiotic Records', 'type': 'artist', 'uri': 'spotify:artist:7nxdGB1ERSodMHz0rYUXkQ'}], 'available_markets': ['AR', 'AU', 'AT', 'BE', 'BO', 'BR', 'BG', 'CA', 'CL', 'CO', 'CR', 'CY', 'CZ', 'DK', 'DO', 'DE', 'EC', 'EE', 'SV', 'FI', 'FR', 'GR', 'GT', 'HN', 'HK', 'HU', 'IS', 'IE', 'IT', 'LV', 'LT', 'LU', 'MY', 'MT', 'MX', 'NL', 'NZ', 'NI', 'NO', 'PA', 'PY', 'PE', 'PH', 'PL', 'PT', 'SG', 'SK', 'ES', 'SE', 'CH', 'TW', 'TR', 'UY', 'US', 'GB', 'AD', 'LI', 'MC', 'ID', 'JP', 'TH', 'VN', 'RO', 'IL', 'ZA', 'SA', 'AE', 'BH', 'QA', 'OM', 'KW', 'EG', 'MA', 'DZ', 'TN', 'LB', 'JO', 'PS', 'IN', 'BY', 'KZ', 'MD', 'UA', 'AL', 'BA', 'HR', 'ME', 'MK', 'RS', 'SI', 'KR', 'BD', 'PK', 'LK', 'GH', 'KE', 'NG', 'TZ', 'UG', 'AG', 'AM', 'BS', 'BB', 'BZ', 'BT', 'BW', 'BF', 'CV', 'CW', 'DM', 'FJ', 'GM', 'GE', 'GD', 'GW', 'GY', 'HT', 'JM', 'KI', 'LS', 'LR', 'MW', 'MV', 'ML', 'MH', 'FM', 'NA', 'NR', 'NE', 'PW', 'PG', 'PR', 'WS', 'SM', 'ST', 'SN', 'SC', 'SL', 'SB', 'KN', 'LC', 'VC', 'SR', 'TL', 'TO', 'TT', 'TV', 'VU', 'AZ', 'BN', 'BI', 'KH', 'CM', 'TD', 'KM', 'GQ', 'SZ', 'GA', 'GN', 'KG', 'LA', 'MO', 'MR', 'MN', 'NP', 'RW', 'TG', 'UZ', 'ZW', 'BJ', 'MG', 'MU', 'MZ', 'AO', 'CI', 'DJ', 'ZM', 'CD', 'CG', 'IQ', 'LY', 'TJ', 'VE', 'ET', 'XK'], 'disc_number': 1, 'duration_ms': 140224, 'explicit': False, 'external_ids': {'isrc': 'AUGBT2226060'}, 'external_urls': {'spotify': 'https://open.spotify.com/track/6qLsaWSO04sgwX6N8xid7E'}, 'href': 'https://api.spotify.com/v1/tracks/6qLsaWSO04sgwX6N8xid7E', 'id': '6qLsaWSO04sgwX6N8xid7E', 'is_local': False, 'name': 'Back in time', 'popularity': 49, 'preview_url': None, 'track_number': 1, 'type': 'track', 'uri': 'spotify:track:6qLsaWSO04sgwX6N8xid7E'}, 'played_at': '2025-10-26T14:29:31.832Z', 'context': {'external_urls': {'spotify': 'https://open.spotify.com/playlist/37i9dQZF1DWZZbwlv3Vmtr'}, 'href': 'https://api.spotify.com/v1/playlists/37i9dQZF1DWZZbwlv3Vmtr', 'type': 'playlist', 'uri': 'spotify:playlist:37i9dQZF1DWZZbwlv3Vmtr'}}",
         "{'ingested_at': '2025-10-26T14:29:31.832Z', 'execution_date': '2025-10-26T00:00:00+00:00', 'dag_id': 'spotify_raw_ingestion_jsonl', 'run_id': 'manual__2025-10-26T14:29:31.832000Z', 'source': 'spotify_api'}"
        ],
        [
         "39",
         "{'track': {'album': {'album_type': 'single', 'artists': [{'external_urls': {'spotify': 'https://open.spotify.com/artist/75RGXEBlI9OL7jBSMlf12W'}, 'href': 'https://api.spotify.com/v1/artists/75RGXEBlI9OL7jBSMlf12W', 'id': '75RGXEBlI9OL7jBSMlf12W', 'name': '7th Indigo', 'type': 'artist', 'uri': 'spotify:artist:75RGXEBlI9OL7jBSMlf12W'}], 'available_markets': ['AR', 'AU', 'AT', 'BE', 'BO', 'BR', 'BG', 'CA', 'CL', 'CO', 'CR', 'CY', 'CZ', 'DK', 'DO', 'DE', 'EC', 'EE', 'SV', 'FI', 'FR', 'GR', 'GT', 'HN', 'HK', 'HU', 'IS', 'IE', 'IT', 'LV', 'LT', 'LU', 'MY', 'MT', 'MX', 'NL', 'NZ', 'NI', 'NO', 'PA', 'PY', 'PE', 'PH', 'PL', 'PT', 'SG', 'SK', 'ES', 'SE', 'CH', 'TW', 'TR', 'UY', 'US', 'GB', 'AD', 'LI', 'MC', 'ID', 'JP', 'TH', 'VN', 'RO', 'IL', 'ZA', 'SA', 'AE', 'BH', 'QA', 'OM', 'KW', 'EG', 'MA', 'DZ', 'TN', 'LB', 'JO', 'PS', 'IN', 'BY', 'KZ', 'MD', 'UA', 'AL', 'BA', 'HR', 'ME', 'MK', 'RS', 'SI', 'KR', 'BD', 'PK', 'LK', 'GH', 'KE', 'NG', 'TZ', 'UG', 'AG', 'AM', 'BS', 'BB', 'BZ', 'BT', 'BW', 'BF', 'CV', 'CW', 'DM', 'FJ', 'GM', 'GE', 'GD', 'GW', 'GY', 'HT', 'JM', 'KI', 'LS', 'LR', 'MW', 'MV', 'ML', 'MH', 'FM', 'NA', 'NR', 'NE', 'PW', 'PG', 'PR', 'WS', 'SM', 'ST', 'SN', 'SC', 'SL', 'SB', 'KN', 'LC', 'VC', 'SR', 'TL', 'TO', 'TT', 'TV', 'VU', 'AZ', 'BN', 'BI', 'KH', 'CM', 'TD', 'KM', 'GQ', 'SZ', 'GA', 'GN', 'KG', 'LA', 'MO', 'MR', 'MN', 'NP', 'RW', 'TG', 'UZ', 'ZW', 'BJ', 'MG', 'MU', 'MZ', 'AO', 'CI', 'DJ', 'ZM', 'CD', 'CG', 'IQ', 'LY', 'TJ', 'VE', 'ET', 'XK'], 'external_urls': {'spotify': 'https://open.spotify.com/album/6qf8fAFYxG6H6gPC8ybPcp'}, 'href': 'https://api.spotify.com/v1/albums/6qf8fAFYxG6H6gPC8ybPcp', 'id': '6qf8fAFYxG6H6gPC8ybPcp', 'images': [{'height': 640, 'url': 'https://i.scdn.co/image/ab67616d0000b273562dcf6ff744f522e285ae29', 'width': 640}, {'height': 300, 'url': 'https://i.scdn.co/image/ab67616d00001e02562dcf6ff744f522e285ae29', 'width': 300}, {'height': 64, 'url': 'https://i.scdn.co/image/ab67616d00004851562dcf6ff744f522e285ae29', 'width': 64}], 'name': 'DREAMY', 'release_date': '2024-02-16', 'release_date_precision': 'day', 'total_tracks': 1, 'type': 'album', 'uri': 'spotify:album:6qf8fAFYxG6H6gPC8ybPcp'}, 'artists': [{'external_urls': {'spotify': 'https://open.spotify.com/artist/75RGXEBlI9OL7jBSMlf12W'}, 'href': 'https://api.spotify.com/v1/artists/75RGXEBlI9OL7jBSMlf12W', 'id': '75RGXEBlI9OL7jBSMlf12W', 'name': '7th Indigo', 'type': 'artist', 'uri': 'spotify:artist:75RGXEBlI9OL7jBSMlf12W'}], 'available_markets': ['AR', 'AU', 'AT', 'BE', 'BO', 'BR', 'BG', 'CA', 'CL', 'CO', 'CR', 'CY', 'CZ', 'DK', 'DO', 'DE', 'EC', 'EE', 'SV', 'FI', 'FR', 'GR', 'GT', 'HN', 'HK', 'HU', 'IS', 'IE', 'IT', 'LV', 'LT', 'LU', 'MY', 'MT', 'MX', 'NL', 'NZ', 'NI', 'NO', 'PA', 'PY', 'PE', 'PH', 'PL', 'PT', 'SG', 'SK', 'ES', 'SE', 'CH', 'TW', 'TR', 'UY', 'US', 'GB', 'AD', 'LI', 'MC', 'ID', 'JP', 'TH', 'VN', 'RO', 'IL', 'ZA', 'SA', 'AE', 'BH', 'QA', 'OM', 'KW', 'EG', 'MA', 'DZ', 'TN', 'LB', 'JO', 'PS', 'IN', 'BY', 'KZ', 'MD', 'UA', 'AL', 'BA', 'HR', 'ME', 'MK', 'RS', 'SI', 'KR', 'BD', 'PK', 'LK', 'GH', 'KE', 'NG', 'TZ', 'UG', 'AG', 'AM', 'BS', 'BB', 'BZ', 'BT', 'BW', 'BF', 'CV', 'CW', 'DM', 'FJ', 'GM', 'GE', 'GD', 'GW', 'GY', 'HT', 'JM', 'KI', 'LS', 'LR', 'MW', 'MV', 'ML', 'MH', 'FM', 'NA', 'NR', 'NE', 'PW', 'PG', 'PR', 'WS', 'SM', 'ST', 'SN', 'SC', 'SL', 'SB', 'KN', 'LC', 'VC', 'SR', 'TL', 'TO', 'TT', 'TV', 'VU', 'AZ', 'BN', 'BI', 'KH', 'CM', 'TD', 'KM', 'GQ', 'SZ', 'GA', 'GN', 'KG', 'LA', 'MO', 'MR', 'MN', 'NP', 'RW', 'TG', 'UZ', 'ZW', 'BJ', 'MG', 'MU', 'MZ', 'AO', 'CI', 'DJ', 'ZM', 'CD', 'CG', 'IQ', 'LY', 'TJ', 'VE', 'ET', 'XK'], 'disc_number': 1, 'duration_ms': 176370, 'explicit': False, 'external_ids': {'isrc': 'SE5W32400162'}, 'external_urls': {'spotify': 'https://open.spotify.com/track/5BpqczsIDRdI8Sjg3muSeB'}, 'href': 'https://api.spotify.com/v1/tracks/5BpqczsIDRdI8Sjg3muSeB', 'id': '5BpqczsIDRdI8Sjg3muSeB', 'is_local': False, 'name': 'DREAMY', 'popularity': 48, 'preview_url': None, 'track_number': 1, 'type': 'track', 'uri': 'spotify:track:5BpqczsIDRdI8Sjg3muSeB'}, 'played_at': '2025-10-26T14:27:43.522Z', 'context': {'external_urls': {'spotify': 'https://open.spotify.com/playlist/37i9dQZF1DWZZbwlv3Vmtr'}, 'href': 'https://api.spotify.com/v1/playlists/37i9dQZF1DWZZbwlv3Vmtr', 'type': 'playlist', 'uri': 'spotify:playlist:37i9dQZF1DWZZbwlv3Vmtr'}}",
         "{'ingested_at': '2025-10-26T14:27:43.522Z', 'execution_date': '2025-10-26T00:00:00+00:00', 'dag_id': 'spotify_raw_ingestion_jsonl', 'run_id': 'manual__2025-10-26T14:27:43.522000Z', 'source': 'spotify_api'}"
        ],
        [
         "40",
         "{'track': {'album': {'album_type': 'single', 'artists': [{'external_urls': {'spotify': 'https://open.spotify.com/artist/12HMurN87aQV1xBcqfcjnL'}, 'href': 'https://api.spotify.com/v1/artists/12HMurN87aQV1xBcqfcjnL', 'id': '12HMurN87aQV1xBcqfcjnL', 'name': 'pipetiger', 'type': 'artist', 'uri': 'spotify:artist:12HMurN87aQV1xBcqfcjnL'}], 'available_markets': ['AR', 'AU', 'AT', 'BE', 'BO', 'BR', 'BG', 'CA', 'CL', 'CO', 'CR', 'CY', 'CZ', 'DK', 'DO', 'DE', 'EC', 'EE', 'SV', 'FI', 'FR', 'GR', 'GT', 'HN', 'HK', 'HU', 'IS', 'IE', 'IT', 'LV', 'LT', 'LU', 'MY', 'MT', 'MX', 'NL', 'NZ', 'NI', 'NO', 'PA', 'PY', 'PE', 'PH', 'PL', 'PT', 'SG', 'SK', 'ES', 'SE', 'CH', 'TW', 'TR', 'UY', 'US', 'GB', 'AD', 'LI', 'MC', 'ID', 'JP', 'TH', 'VN', 'RO', 'IL', 'ZA', 'SA', 'AE', 'BH', 'QA', 'OM', 'KW', 'EG', 'MA', 'DZ', 'TN', 'LB', 'JO', 'PS', 'IN', 'BY', 'KZ', 'MD', 'UA', 'AL', 'BA', 'HR', 'ME', 'MK', 'RS', 'SI', 'KR', 'BD', 'PK', 'LK', 'GH', 'KE', 'NG', 'TZ', 'UG', 'AG', 'AM', 'BS', 'BB', 'BZ', 'BT', 'BW', 'BF', 'CV', 'CW', 'DM', 'FJ', 'GM', 'GE', 'GD', 'GW', 'GY', 'HT', 'JM', 'KI', 'LS', 'LR', 'MW', 'MV', 'ML', 'MH', 'FM', 'NA', 'NR', 'NE', 'PW', 'PG', 'PR', 'WS', 'SM', 'ST', 'SN', 'SC', 'SL', 'SB', 'KN', 'LC', 'VC', 'SR', 'TL', 'TO', 'TT', 'TV', 'VU', 'AZ', 'BN', 'BI', 'KH', 'CM', 'TD', 'KM', 'GQ', 'SZ', 'GA', 'GN', 'KG', 'LA', 'MO', 'MR', 'MN', 'NP', 'RW', 'TG', 'UZ', 'ZW', 'BJ', 'MG', 'MU', 'MZ', 'AO', 'CI', 'DJ', 'ZM', 'CD', 'CG', 'IQ', 'LY', 'TJ', 'VE', 'ET', 'XK'], 'external_urls': {'spotify': 'https://open.spotify.com/album/7fZitTtCmUP5HqYGcjbIOu'}, 'href': 'https://api.spotify.com/v1/albums/7fZitTtCmUP5HqYGcjbIOu', 'id': '7fZitTtCmUP5HqYGcjbIOu', 'images': [{'height': 640, 'url': 'https://i.scdn.co/image/ab67616d0000b273633311f675fc16cb072a8821', 'width': 640}, {'height': 300, 'url': 'https://i.scdn.co/image/ab67616d00001e02633311f675fc16cb072a8821', 'width': 300}, {'height': 64, 'url': 'https://i.scdn.co/image/ab67616d00004851633311f675fc16cb072a8821', 'width': 64}], 'name': 'Oscar', 'release_date': '2025-05-25', 'release_date_precision': 'day', 'total_tracks': 1, 'type': 'album', 'uri': 'spotify:album:7fZitTtCmUP5HqYGcjbIOu'}, 'artists': [{'external_urls': {'spotify': 'https://open.spotify.com/artist/12HMurN87aQV1xBcqfcjnL'}, 'href': 'https://api.spotify.com/v1/artists/12HMurN87aQV1xBcqfcjnL', 'id': '12HMurN87aQV1xBcqfcjnL', 'name': 'pipetiger', 'type': 'artist', 'uri': 'spotify:artist:12HMurN87aQV1xBcqfcjnL'}], 'available_markets': ['AR', 'AU', 'AT', 'BE', 'BO', 'BR', 'BG', 'CA', 'CL', 'CO', 'CR', 'CY', 'CZ', 'DK', 'DO', 'DE', 'EC', 'EE', 'SV', 'FI', 'FR', 'GR', 'GT', 'HN', 'HK', 'HU', 'IS', 'IE', 'IT', 'LV', 'LT', 'LU', 'MY', 'MT', 'MX', 'NL', 'NZ', 'NI', 'NO', 'PA', 'PY', 'PE', 'PH', 'PL', 'PT', 'SG', 'SK', 'ES', 'SE', 'CH', 'TW', 'TR', 'UY', 'US', 'GB', 'AD', 'LI', 'MC', 'ID', 'JP', 'TH', 'VN', 'RO', 'IL', 'ZA', 'SA', 'AE', 'BH', 'QA', 'OM', 'KW', 'EG', 'MA', 'DZ', 'TN', 'LB', 'JO', 'PS', 'IN', 'BY', 'KZ', 'MD', 'UA', 'AL', 'BA', 'HR', 'ME', 'MK', 'RS', 'SI', 'KR', 'BD', 'PK', 'LK', 'GH', 'KE', 'NG', 'TZ', 'UG', 'AG', 'AM', 'BS', 'BB', 'BZ', 'BT', 'BW', 'BF', 'CV', 'CW', 'DM', 'FJ', 'GM', 'GE', 'GD', 'GW', 'GY', 'HT', 'JM', 'KI', 'LS', 'LR', 'MW', 'MV', 'ML', 'MH', 'FM', 'NA', 'NR', 'NE', 'PW', 'PG', 'PR', 'WS', 'SM', 'ST', 'SN', 'SC', 'SL', 'SB', 'KN', 'LC', 'VC', 'SR', 'TL', 'TO', 'TT', 'TV', 'VU', 'AZ', 'BN', 'BI', 'KH', 'CM', 'TD', 'KM', 'GQ', 'SZ', 'GA', 'GN', 'KG', 'LA', 'MO', 'MR', 'MN', 'NP', 'RW', 'TG', 'UZ', 'ZW', 'BJ', 'MG', 'MU', 'MZ', 'AO', 'CI', 'DJ', 'ZM', 'CD', 'CG', 'IQ', 'LY', 'TJ', 'VE', 'ET', 'XK'], 'disc_number': 1, 'duration_ms': 118045, 'explicit': False, 'external_ids': {'isrc': 'SE69Z2505464'}, 'external_urls': {'spotify': 'https://open.spotify.com/track/6OaTHXIlJk7yDVCMEAyV4v'}, 'href': 'https://api.spotify.com/v1/tracks/6OaTHXIlJk7yDVCMEAyV4v', 'id': '6OaTHXIlJk7yDVCMEAyV4v', 'is_local': False, 'name': 'Oscar', 'popularity': 55, 'preview_url': None, 'track_number': 1, 'type': 'track', 'uri': 'spotify:track:6OaTHXIlJk7yDVCMEAyV4v'}, 'played_at': '2025-10-26T14:25:27.336Z', 'context': {'external_urls': {'spotify': 'https://open.spotify.com/playlist/37i9dQZF1DWZZbwlv3Vmtr'}, 'href': 'https://api.spotify.com/v1/playlists/37i9dQZF1DWZZbwlv3Vmtr', 'type': 'playlist', 'uri': 'spotify:playlist:37i9dQZF1DWZZbwlv3Vmtr'}}",
         "{'ingested_at': '2025-10-26T14:25:27.336Z', 'execution_date': '2025-10-26T00:00:00+00:00', 'dag_id': 'spotify_raw_ingestion_jsonl', 'run_id': 'manual__2025-10-26T14:25:27.336000Z', 'source': 'spotify_api'}"
        ],
        [
         "41",
         "{'track': {'album': {'album_type': 'single', 'artists': [{'external_urls': {'spotify': 'https://open.spotify.com/artist/4jQBn4Pe1tFPxVo3p6W7uq'}, 'href': 'https://api.spotify.com/v1/artists/4jQBn4Pe1tFPxVo3p6W7uq', 'id': '4jQBn4Pe1tFPxVo3p6W7uq', 'name': 'Yoga at the Disco', 'type': 'artist', 'uri': 'spotify:artist:4jQBn4Pe1tFPxVo3p6W7uq'}], 'available_markets': ['AR', 'AU', 'AT', 'BE', 'BO', 'BR', 'BG', 'CA', 'CL', 'CO', 'CR', 'CY', 'CZ', 'DK', 'DO', 'DE', 'EC', 'EE', 'SV', 'FI', 'FR', 'GR', 'GT', 'HN', 'HK', 'HU', 'IS', 'IE', 'IT', 'LV', 'LT', 'LU', 'MY', 'MT', 'MX', 'NL', 'NZ', 'NI', 'NO', 'PA', 'PY', 'PE', 'PH', 'PL', 'PT', 'SG', 'SK', 'ES', 'SE', 'CH', 'TW', 'TR', 'UY', 'US', 'GB', 'AD', 'LI', 'MC', 'ID', 'JP', 'TH', 'VN', 'RO', 'IL', 'ZA', 'SA', 'AE', 'BH', 'QA', 'OM', 'KW', 'EG', 'MA', 'DZ', 'TN', 'LB', 'JO', 'PS', 'IN', 'BY', 'KZ', 'MD', 'UA', 'AL', 'BA', 'HR', 'ME', 'MK', 'RS', 'SI', 'KR', 'BD', 'PK', 'LK', 'GH', 'KE', 'NG', 'TZ', 'UG', 'AG', 'AM', 'BS', 'BB', 'BZ', 'BT', 'BW', 'BF', 'CV', 'CW', 'DM', 'FJ', 'GM', 'GE', 'GD', 'GW', 'GY', 'HT', 'JM', 'KI', 'LS', 'LR', 'MW', 'MV', 'ML', 'MH', 'FM', 'NA', 'NR', 'NE', 'PW', 'PG', 'PR', 'WS', 'SM', 'ST', 'SN', 'SC', 'SL', 'SB', 'KN', 'LC', 'VC', 'SR', 'TL', 'TO', 'TT', 'TV', 'VU', 'AZ', 'BN', 'BI', 'KH', 'CM', 'TD', 'KM', 'GQ', 'SZ', 'GA', 'GN', 'KG', 'LA', 'MO', 'MR', 'MN', 'NP', 'RW', 'TG', 'UZ', 'ZW', 'BJ', 'MG', 'MU', 'MZ', 'AO', 'CI', 'DJ', 'ZM', 'CD', 'CG', 'IQ', 'LY', 'TJ', 'VE', 'ET', 'XK'], 'external_urls': {'spotify': 'https://open.spotify.com/album/62FAt5TMcVFgsj6mFP4RzC'}, 'href': 'https://api.spotify.com/v1/albums/62FAt5TMcVFgsj6mFP4RzC', 'id': '62FAt5TMcVFgsj6mFP4RzC', 'images': [{'height': 640, 'url': 'https://i.scdn.co/image/ab67616d0000b273bad1d4fce95b93925f39c309', 'width': 640}, {'height': 300, 'url': 'https://i.scdn.co/image/ab67616d00001e02bad1d4fce95b93925f39c309', 'width': 300}, {'height': 64, 'url': 'https://i.scdn.co/image/ab67616d00004851bad1d4fce95b93925f39c309', 'width': 64}], 'name': 'Forest For Rest', 'release_date': '2024-02-16', 'release_date_precision': 'day', 'total_tracks': 1, 'type': 'album', 'uri': 'spotify:album:62FAt5TMcVFgsj6mFP4RzC'}, 'artists': [{'external_urls': {'spotify': 'https://open.spotify.com/artist/4jQBn4Pe1tFPxVo3p6W7uq'}, 'href': 'https://api.spotify.com/v1/artists/4jQBn4Pe1tFPxVo3p6W7uq', 'id': '4jQBn4Pe1tFPxVo3p6W7uq', 'name': 'Yoga at the Disco', 'type': 'artist', 'uri': 'spotify:artist:4jQBn4Pe1tFPxVo3p6W7uq'}], 'available_markets': ['AR', 'AU', 'AT', 'BE', 'BO', 'BR', 'BG', 'CA', 'CL', 'CO', 'CR', 'CY', 'CZ', 'DK', 'DO', 'DE', 'EC', 'EE', 'SV', 'FI', 'FR', 'GR', 'GT', 'HN', 'HK', 'HU', 'IS', 'IE', 'IT', 'LV', 'LT', 'LU', 'MY', 'MT', 'MX', 'NL', 'NZ', 'NI', 'NO', 'PA', 'PY', 'PE', 'PH', 'PL', 'PT', 'SG', 'SK', 'ES', 'SE', 'CH', 'TW', 'TR', 'UY', 'US', 'GB', 'AD', 'LI', 'MC', 'ID', 'JP', 'TH', 'VN', 'RO', 'IL', 'ZA', 'SA', 'AE', 'BH', 'QA', 'OM', 'KW', 'EG', 'MA', 'DZ', 'TN', 'LB', 'JO', 'PS', 'IN', 'BY', 'KZ', 'MD', 'UA', 'AL', 'BA', 'HR', 'ME', 'MK', 'RS', 'SI', 'KR', 'BD', 'PK', 'LK', 'GH', 'KE', 'NG', 'TZ', 'UG', 'AG', 'AM', 'BS', 'BB', 'BZ', 'BT', 'BW', 'BF', 'CV', 'CW', 'DM', 'FJ', 'GM', 'GE', 'GD', 'GW', 'GY', 'HT', 'JM', 'KI', 'LS', 'LR', 'MW', 'MV', 'ML', 'MH', 'FM', 'NA', 'NR', 'NE', 'PW', 'PG', 'PR', 'WS', 'SM', 'ST', 'SN', 'SC', 'SL', 'SB', 'KN', 'LC', 'VC', 'SR', 'TL', 'TO', 'TT', 'TV', 'VU', 'AZ', 'BN', 'BI', 'KH', 'CM', 'TD', 'KM', 'GQ', 'SZ', 'GA', 'GN', 'KG', 'LA', 'MO', 'MR', 'MN', 'NP', 'RW', 'TG', 'UZ', 'ZW', 'BJ', 'MG', 'MU', 'MZ', 'AO', 'CI', 'DJ', 'ZM', 'CD', 'CG', 'IQ', 'LY', 'TJ', 'VE', 'ET', 'XK'], 'disc_number': 1, 'duration_ms': 164097, 'explicit': False, 'external_ids': {'isrc': 'SE5W32400127'}, 'external_urls': {'spotify': 'https://open.spotify.com/track/6eQmbEMHQYPkRj44AWf04J'}, 'href': 'https://api.spotify.com/v1/tracks/6eQmbEMHQYPkRj44AWf04J', 'id': '6eQmbEMHQYPkRj44AWf04J', 'is_local': False, 'name': 'Forest For Rest', 'popularity': 49, 'preview_url': None, 'track_number': 1, 'type': 'track', 'uri': 'spotify:track:6eQmbEMHQYPkRj44AWf04J'}, 'played_at': '2025-10-26T14:23:45.105Z', 'context': {'external_urls': {'spotify': 'https://open.spotify.com/playlist/37i9dQZF1DWZZbwlv3Vmtr'}, 'href': 'https://api.spotify.com/v1/playlists/37i9dQZF1DWZZbwlv3Vmtr', 'type': 'playlist', 'uri': 'spotify:playlist:37i9dQZF1DWZZbwlv3Vmtr'}}",
         "{'ingested_at': '2025-10-26T14:23:45.105Z', 'execution_date': '2025-10-26T00:00:00+00:00', 'dag_id': 'spotify_raw_ingestion_jsonl', 'run_id': 'manual__2025-10-26T14:23:45.105000Z', 'source': 'spotify_api'}"
        ],
        [
         "42",
         "{'track': {'album': {'album_type': 'single', 'artists': [{'external_urls': {'spotify': 'https://open.spotify.com/artist/6XsmusNMQByvF8YoSjokGJ'}, 'href': 'https://api.spotify.com/v1/artists/6XsmusNMQByvF8YoSjokGJ', 'id': '6XsmusNMQByvF8YoSjokGJ', 'name': 'Thin Wire', 'type': 'artist', 'uri': 'spotify:artist:6XsmusNMQByvF8YoSjokGJ'}], 'available_markets': ['AR', 'AU', 'AT', 'BE', 'BO', 'BR', 'BG', 'CA', 'CL', 'CO', 'CR', 'CY', 'CZ', 'DK', 'DO', 'DE', 'EC', 'EE', 'SV', 'FI', 'FR', 'GR', 'GT', 'HN', 'HK', 'HU', 'IS', 'IE', 'IT', 'LV', 'LT', 'LU', 'MY', 'MT', 'MX', 'NL', 'NZ', 'NI', 'NO', 'PA', 'PY', 'PE', 'PH', 'PL', 'PT', 'SG', 'SK', 'ES', 'SE', 'CH', 'TW', 'TR', 'UY', 'US', 'GB', 'AD', 'LI', 'MC', 'ID', 'JP', 'TH', 'VN', 'RO', 'IL', 'ZA', 'SA', 'AE', 'BH', 'QA', 'OM', 'KW', 'EG', 'MA', 'DZ', 'TN', 'LB', 'JO', 'PS', 'IN', 'BY', 'KZ', 'MD', 'UA', 'AL', 'BA', 'HR', 'ME', 'MK', 'RS', 'SI', 'KR', 'BD', 'PK', 'LK', 'GH', 'KE', 'NG', 'TZ', 'UG', 'AG', 'AM', 'BS', 'BB', 'BZ', 'BT', 'BW', 'BF', 'CV', 'CW', 'DM', 'FJ', 'GM', 'GE', 'GD', 'GW', 'GY', 'HT', 'JM', 'KI', 'LS', 'LR', 'MW', 'MV', 'ML', 'MH', 'FM', 'NA', 'NR', 'NE', 'PW', 'PG', 'PR', 'WS', 'SM', 'ST', 'SN', 'SC', 'SL', 'SB', 'KN', 'LC', 'VC', 'SR', 'TL', 'TO', 'TT', 'TV', 'VU', 'AZ', 'BN', 'BI', 'KH', 'CM', 'TD', 'KM', 'GQ', 'SZ', 'GA', 'GN', 'KG', 'LA', 'MO', 'MR', 'MN', 'NP', 'RW', 'TG', 'UZ', 'ZW', 'BJ', 'MG', 'MU', 'MZ', 'AO', 'CI', 'DJ', 'ZM', 'CD', 'CG', 'IQ', 'LY', 'TJ', 'VE', 'ET', 'XK'], 'external_urls': {'spotify': 'https://open.spotify.com/album/18fZ6VNfyQ0rkBAWHuqZOQ'}, 'href': 'https://api.spotify.com/v1/albums/18fZ6VNfyQ0rkBAWHuqZOQ', 'id': '18fZ6VNfyQ0rkBAWHuqZOQ', 'images': [{'height': 640, 'url': 'https://i.scdn.co/image/ab67616d0000b2735d7cbc6205604c5b7073d85f', 'width': 640}, {'height': 300, 'url': 'https://i.scdn.co/image/ab67616d00001e025d7cbc6205604c5b7073d85f', 'width': 300}, {'height': 64, 'url': 'https://i.scdn.co/image/ab67616d000048515d7cbc6205604c5b7073d85f', 'width': 64}], 'name': 'Tough Night', 'release_date': '2023-10-31', 'release_date_precision': 'day', 'total_tracks': 1, 'type': 'album', 'uri': 'spotify:album:18fZ6VNfyQ0rkBAWHuqZOQ'}, 'artists': [{'external_urls': {'spotify': 'https://open.spotify.com/artist/6XsmusNMQByvF8YoSjokGJ'}, 'href': 'https://api.spotify.com/v1/artists/6XsmusNMQByvF8YoSjokGJ', 'id': '6XsmusNMQByvF8YoSjokGJ', 'name': 'Thin Wire', 'type': 'artist', 'uri': 'spotify:artist:6XsmusNMQByvF8YoSjokGJ'}], 'available_markets': ['AR', 'AU', 'AT', 'BE', 'BO', 'BR', 'BG', 'CA', 'CL', 'CO', 'CR', 'CY', 'CZ', 'DK', 'DO', 'DE', 'EC', 'EE', 'SV', 'FI', 'FR', 'GR', 'GT', 'HN', 'HK', 'HU', 'IS', 'IE', 'IT', 'LV', 'LT', 'LU', 'MY', 'MT', 'MX', 'NL', 'NZ', 'NI', 'NO', 'PA', 'PY', 'PE', 'PH', 'PL', 'PT', 'SG', 'SK', 'ES', 'SE', 'CH', 'TW', 'TR', 'UY', 'US', 'GB', 'AD', 'LI', 'MC', 'ID', 'JP', 'TH', 'VN', 'RO', 'IL', 'ZA', 'SA', 'AE', 'BH', 'QA', 'OM', 'KW', 'EG', 'MA', 'DZ', 'TN', 'LB', 'JO', 'PS', 'IN', 'BY', 'KZ', 'MD', 'UA', 'AL', 'BA', 'HR', 'ME', 'MK', 'RS', 'SI', 'KR', 'BD', 'PK', 'LK', 'GH', 'KE', 'NG', 'TZ', 'UG', 'AG', 'AM', 'BS', 'BB', 'BZ', 'BT', 'BW', 'BF', 'CV', 'CW', 'DM', 'FJ', 'GM', 'GE', 'GD', 'GW', 'GY', 'HT', 'JM', 'KI', 'LS', 'LR', 'MW', 'MV', 'ML', 'MH', 'FM', 'NA', 'NR', 'NE', 'PW', 'PG', 'PR', 'WS', 'SM', 'ST', 'SN', 'SC', 'SL', 'SB', 'KN', 'LC', 'VC', 'SR', 'TL', 'TO', 'TT', 'TV', 'VU', 'AZ', 'BN', 'BI', 'KH', 'CM', 'TD', 'KM', 'GQ', 'SZ', 'GA', 'GN', 'KG', 'LA', 'MO', 'MR', 'MN', 'NP', 'RW', 'TG', 'UZ', 'ZW', 'BJ', 'MG', 'MU', 'MZ', 'AO', 'CI', 'DJ', 'ZM', 'CD', 'CG', 'IQ', 'LY', 'TJ', 'VE', 'ET', 'XK'], 'disc_number': 1, 'duration_ms': 107082, 'explicit': False, 'external_ids': {'isrc': 'SE4RG2307007'}, 'external_urls': {'spotify': 'https://open.spotify.com/track/2SIG8r7jJLXc9Q3fAOUrwx'}, 'href': 'https://api.spotify.com/v1/tracks/2SIG8r7jJLXc9Q3fAOUrwx', 'id': '2SIG8r7jJLXc9Q3fAOUrwx', 'is_local': False, 'name': 'Tough Night', 'popularity': 54, 'preview_url': None, 'track_number': 1, 'type': 'track', 'uri': 'spotify:track:2SIG8r7jJLXc9Q3fAOUrwx'}, 'played_at': '2025-10-26T14:20:35.441Z', 'context': {'external_urls': {'spotify': 'https://open.spotify.com/playlist/37i9dQZF1DWZZbwlv3Vmtr'}, 'href': 'https://api.spotify.com/v1/playlists/37i9dQZF1DWZZbwlv3Vmtr', 'type': 'playlist', 'uri': 'spotify:playlist:37i9dQZF1DWZZbwlv3Vmtr'}}",
         "{'ingested_at': '2025-10-26T14:20:35.441Z', 'execution_date': '2025-10-26T00:00:00+00:00', 'dag_id': 'spotify_raw_ingestion_jsonl', 'run_id': 'manual__2025-10-26T14:20:35.441000Z', 'source': 'spotify_api'}"
        ],
        [
         "43",
         "{'track': {'album': {'album_type': 'single', 'artists': [{'external_urls': {'spotify': 'https://open.spotify.com/artist/0GRMQfjpndi6Maj7lvYOza'}, 'href': 'https://api.spotify.com/v1/artists/0GRMQfjpndi6Maj7lvYOza', 'id': '0GRMQfjpndi6Maj7lvYOza', 'name': 'Dasunny', 'type': 'artist', 'uri': 'spotify:artist:0GRMQfjpndi6Maj7lvYOza'}], 'available_markets': ['AR', 'AU', 'AT', 'BE', 'BO', 'BR', 'BG', 'CA', 'CL', 'CO', 'CR', 'CY', 'CZ', 'DK', 'DO', 'DE', 'EC', 'EE', 'SV', 'FI', 'FR', 'GR', 'GT', 'HN', 'HK', 'HU', 'IS', 'IE', 'IT', 'LV', 'LT', 'LU', 'MY', 'MT', 'MX', 'NL', 'NZ', 'NI', 'NO', 'PA', 'PY', 'PE', 'PH', 'PL', 'PT', 'SG', 'SK', 'ES', 'SE', 'CH', 'TW', 'TR', 'UY', 'US', 'GB', 'AD', 'LI', 'MC', 'ID', 'JP', 'TH', 'VN', 'RO', 'IL', 'ZA', 'SA', 'AE', 'BH', 'QA', 'OM', 'KW', 'EG', 'MA', 'DZ', 'TN', 'LB', 'JO', 'PS', 'IN', 'BY', 'KZ', 'MD', 'UA', 'AL', 'BA', 'HR', 'ME', 'MK', 'RS', 'SI', 'KR', 'BD', 'PK', 'LK', 'GH', 'KE', 'NG', 'TZ', 'UG', 'AG', 'AM', 'BS', 'BB', 'BZ', 'BT', 'BW', 'BF', 'CV', 'CW', 'DM', 'FJ', 'GM', 'GE', 'GD', 'GW', 'GY', 'HT', 'JM', 'KI', 'LS', 'LR', 'MW', 'MV', 'ML', 'MH', 'FM', 'NA', 'NR', 'NE', 'PW', 'PG', 'PR', 'WS', 'SM', 'ST', 'SN', 'SC', 'SL', 'SB', 'KN', 'LC', 'VC', 'SR', 'TL', 'TO', 'TT', 'TV', 'VU', 'AZ', 'BN', 'BI', 'KH', 'CM', 'TD', 'KM', 'GQ', 'SZ', 'GA', 'GN', 'KG', 'LA', 'MO', 'MR', 'MN', 'NP', 'RW', 'TG', 'UZ', 'ZW', 'BJ', 'MG', 'MU', 'MZ', 'AO', 'CI', 'DJ', 'ZM', 'CD', 'CG', 'IQ', 'LY', 'TJ', 'VE', 'ET', 'XK'], 'external_urls': {'spotify': 'https://open.spotify.com/album/1xVHBqls055uf97wWqtZE6'}, 'href': 'https://api.spotify.com/v1/albums/1xVHBqls055uf97wWqtZE6', 'id': '1xVHBqls055uf97wWqtZE6', 'images': [{'height': 640, 'url': 'https://i.scdn.co/image/ab67616d0000b273d71a0d9f77f81251b810a88f', 'width': 640}, {'height': 300, 'url': 'https://i.scdn.co/image/ab67616d00001e02d71a0d9f77f81251b810a88f', 'width': 300}, {'height': 64, 'url': 'https://i.scdn.co/image/ab67616d00004851d71a0d9f77f81251b810a88f', 'width': 64}], 'name': 'Sit Down Paddle', 'release_date': '2024-03-08', 'release_date_precision': 'day', 'total_tracks': 1, 'type': 'album', 'uri': 'spotify:album:1xVHBqls055uf97wWqtZE6'}, 'artists': [{'external_urls': {'spotify': 'https://open.spotify.com/artist/0GRMQfjpndi6Maj7lvYOza'}, 'href': 'https://api.spotify.com/v1/artists/0GRMQfjpndi6Maj7lvYOza', 'id': '0GRMQfjpndi6Maj7lvYOza', 'name': 'Dasunny', 'type': 'artist', 'uri': 'spotify:artist:0GRMQfjpndi6Maj7lvYOza'}], 'available_markets': ['AR', 'AU', 'AT', 'BE', 'BO', 'BR', 'BG', 'CA', 'CL', 'CO', 'CR', 'CY', 'CZ', 'DK', 'DO', 'DE', 'EC', 'EE', 'SV', 'FI', 'FR', 'GR', 'GT', 'HN', 'HK', 'HU', 'IS', 'IE', 'IT', 'LV', 'LT', 'LU', 'MY', 'MT', 'MX', 'NL', 'NZ', 'NI', 'NO', 'PA', 'PY', 'PE', 'PH', 'PL', 'PT', 'SG', 'SK', 'ES', 'SE', 'CH', 'TW', 'TR', 'UY', 'US', 'GB', 'AD', 'LI', 'MC', 'ID', 'JP', 'TH', 'VN', 'RO', 'IL', 'ZA', 'SA', 'AE', 'BH', 'QA', 'OM', 'KW', 'EG', 'MA', 'DZ', 'TN', 'LB', 'JO', 'PS', 'IN', 'BY', 'KZ', 'MD', 'UA', 'AL', 'BA', 'HR', 'ME', 'MK', 'RS', 'SI', 'KR', 'BD', 'PK', 'LK', 'GH', 'KE', 'NG', 'TZ', 'UG', 'AG', 'AM', 'BS', 'BB', 'BZ', 'BT', 'BW', 'BF', 'CV', 'CW', 'DM', 'FJ', 'GM', 'GE', 'GD', 'GW', 'GY', 'HT', 'JM', 'KI', 'LS', 'LR', 'MW', 'MV', 'ML', 'MH', 'FM', 'NA', 'NR', 'NE', 'PW', 'PG', 'PR', 'WS', 'SM', 'ST', 'SN', 'SC', 'SL', 'SB', 'KN', 'LC', 'VC', 'SR', 'TL', 'TO', 'TT', 'TV', 'VU', 'AZ', 'BN', 'BI', 'KH', 'CM', 'TD', 'KM', 'GQ', 'SZ', 'GA', 'GN', 'KG', 'LA', 'MO', 'MR', 'MN', 'NP', 'RW', 'TG', 'UZ', 'ZW', 'BJ', 'MG', 'MU', 'MZ', 'AO', 'CI', 'DJ', 'ZM', 'CD', 'CG', 'IQ', 'LY', 'TJ', 'VE', 'ET', 'XK'], 'disc_number': 1, 'duration_ms': 120939, 'explicit': False, 'external_ids': {'isrc': 'SE5W32400385'}, 'external_urls': {'spotify': 'https://open.spotify.com/track/166r3eE8dhuEZJygvDjBbI'}, 'href': 'https://api.spotify.com/v1/tracks/166r3eE8dhuEZJygvDjBbI', 'id': '166r3eE8dhuEZJygvDjBbI', 'is_local': False, 'name': 'Sit Down Paddle', 'popularity': 49, 'preview_url': None, 'track_number': 1, 'type': 'track', 'uri': 'spotify:track:166r3eE8dhuEZJygvDjBbI'}, 'played_at': '2025-10-26T14:19:13.464Z', 'context': {'external_urls': {'spotify': 'https://open.spotify.com/playlist/37i9dQZF1DWZZbwlv3Vmtr'}, 'href': 'https://api.spotify.com/v1/playlists/37i9dQZF1DWZZbwlv3Vmtr', 'type': 'playlist', 'uri': 'spotify:playlist:37i9dQZF1DWZZbwlv3Vmtr'}}",
         "{'ingested_at': '2025-10-26T14:19:13.464Z', 'execution_date': '2025-10-26T00:00:00+00:00', 'dag_id': 'spotify_raw_ingestion_jsonl', 'run_id': 'manual__2025-10-26T14:19:13.464000Z', 'source': 'spotify_api'}"
        ],
        [
         "44",
         "{'track': {'album': {'album_type': 'single', 'artists': [{'external_urls': {'spotify': 'https://open.spotify.com/artist/1pUWzVmu8ACMnIAu9BsOHm'}, 'href': 'https://api.spotify.com/v1/artists/1pUWzVmu8ACMnIAu9BsOHm', 'id': '1pUWzVmu8ACMnIAu9BsOHm', 'name': 'Strehlow', 'type': 'artist', 'uri': 'spotify:artist:1pUWzVmu8ACMnIAu9BsOHm'}], 'available_markets': ['AR', 'AU', 'AT', 'BE', 'BO', 'BR', 'BG', 'CA', 'CL', 'CO', 'CR', 'CY', 'CZ', 'DK', 'DO', 'DE', 'EC', 'EE', 'SV', 'FI', 'FR', 'GR', 'GT', 'HN', 'HK', 'HU', 'IS', 'IE', 'IT', 'LV', 'LT', 'LU', 'MY', 'MT', 'MX', 'NL', 'NZ', 'NI', 'NO', 'PA', 'PY', 'PE', 'PH', 'PL', 'PT', 'SG', 'SK', 'ES', 'SE', 'CH', 'TW', 'TR', 'UY', 'US', 'GB', 'AD', 'LI', 'MC', 'ID', 'JP', 'TH', 'VN', 'RO', 'IL', 'ZA', 'SA', 'AE', 'BH', 'QA', 'OM', 'KW', 'EG', 'MA', 'DZ', 'TN', 'LB', 'JO', 'PS', 'IN', 'BY', 'KZ', 'MD', 'UA', 'AL', 'BA', 'HR', 'ME', 'MK', 'RS', 'SI', 'KR', 'BD', 'PK', 'LK', 'GH', 'KE', 'NG', 'TZ', 'UG', 'AG', 'AM', 'BS', 'BB', 'BZ', 'BT', 'BW', 'BF', 'CV', 'CW', 'DM', 'FJ', 'GM', 'GE', 'GD', 'GW', 'GY', 'HT', 'JM', 'KI', 'LS', 'LR', 'MW', 'MV', 'ML', 'MH', 'FM', 'NA', 'NR', 'NE', 'PW', 'PG', 'PR', 'WS', 'SM', 'ST', 'SN', 'SC', 'SL', 'SB', 'KN', 'LC', 'VC', 'SR', 'TL', 'TO', 'TT', 'TV', 'VU', 'AZ', 'BN', 'BI', 'KH', 'CM', 'TD', 'KM', 'GQ', 'SZ', 'GA', 'GN', 'KG', 'LA', 'MO', 'MR', 'MN', 'NP', 'RW', 'TG', 'UZ', 'ZW', 'BJ', 'MG', 'MU', 'MZ', 'AO', 'CI', 'DJ', 'ZM', 'CD', 'CG', 'IQ', 'LY', 'TJ', 'VE', 'ET', 'XK'], 'external_urls': {'spotify': 'https://open.spotify.com/album/3kVwHfPYQ1DUQX7vQPo6Jd'}, 'href': 'https://api.spotify.com/v1/albums/3kVwHfPYQ1DUQX7vQPo6Jd', 'id': '3kVwHfPYQ1DUQX7vQPo6Jd', 'images': [{'height': 640, 'url': 'https://i.scdn.co/image/ab67616d0000b27339e905ff6592bfef8d349f51', 'width': 640}, {'height': 300, 'url': 'https://i.scdn.co/image/ab67616d00001e0239e905ff6592bfef8d349f51', 'width': 300}, {'height': 64, 'url': 'https://i.scdn.co/image/ab67616d0000485139e905ff6592bfef8d349f51', 'width': 64}], 'name': 'Distance', 'release_date': '2024-10-04', 'release_date_precision': 'day', 'total_tracks': 1, 'type': 'album', 'uri': 'spotify:album:3kVwHfPYQ1DUQX7vQPo6Jd'}, 'artists': [{'external_urls': {'spotify': 'https://open.spotify.com/artist/1pUWzVmu8ACMnIAu9BsOHm'}, 'href': 'https://api.spotify.com/v1/artists/1pUWzVmu8ACMnIAu9BsOHm', 'id': '1pUWzVmu8ACMnIAu9BsOHm', 'name': 'Strehlow', 'type': 'artist', 'uri': 'spotify:artist:1pUWzVmu8ACMnIAu9BsOHm'}], 'available_markets': ['AR', 'AU', 'AT', 'BE', 'BO', 'BR', 'BG', 'CA', 'CL', 'CO', 'CR', 'CY', 'CZ', 'DK', 'DO', 'DE', 'EC', 'EE', 'SV', 'FI', 'FR', 'GR', 'GT', 'HN', 'HK', 'HU', 'IS', 'IE', 'IT', 'LV', 'LT', 'LU', 'MY', 'MT', 'MX', 'NL', 'NZ', 'NI', 'NO', 'PA', 'PY', 'PE', 'PH', 'PL', 'PT', 'SG', 'SK', 'ES', 'SE', 'CH', 'TW', 'TR', 'UY', 'US', 'GB', 'AD', 'LI', 'MC', 'ID', 'JP', 'TH', 'VN', 'RO', 'IL', 'ZA', 'SA', 'AE', 'BH', 'QA', 'OM', 'KW', 'EG', 'MA', 'DZ', 'TN', 'LB', 'JO', 'PS', 'IN', 'BY', 'KZ', 'MD', 'UA', 'AL', 'BA', 'HR', 'ME', 'MK', 'RS', 'SI', 'KR', 'BD', 'PK', 'LK', 'GH', 'KE', 'NG', 'TZ', 'UG', 'AG', 'AM', 'BS', 'BB', 'BZ', 'BT', 'BW', 'BF', 'CV', 'CW', 'DM', 'FJ', 'GM', 'GE', 'GD', 'GW', 'GY', 'HT', 'JM', 'KI', 'LS', 'LR', 'MW', 'MV', 'ML', 'MH', 'FM', 'NA', 'NR', 'NE', 'PW', 'PG', 'PR', 'WS', 'SM', 'ST', 'SN', 'SC', 'SL', 'SB', 'KN', 'LC', 'VC', 'SR', 'TL', 'TO', 'TT', 'TV', 'VU', 'AZ', 'BN', 'BI', 'KH', 'CM', 'TD', 'KM', 'GQ', 'SZ', 'GA', 'GN', 'KG', 'LA', 'MO', 'MR', 'MN', 'NP', 'RW', 'TG', 'UZ', 'ZW', 'BJ', 'MG', 'MU', 'MZ', 'AO', 'CI', 'DJ', 'ZM', 'CD', 'CG', 'IQ', 'LY', 'TJ', 'VE', 'ET', 'XK'], 'disc_number': 1, 'duration_ms': 113895, 'explicit': False, 'external_ids': {'isrc': 'USANG2447345'}, 'external_urls': {'spotify': 'https://open.spotify.com/track/2baDpSKIRz3t7NTs6Z5CAx'}, 'href': 'https://api.spotify.com/v1/tracks/2baDpSKIRz3t7NTs6Z5CAx', 'id': '2baDpSKIRz3t7NTs6Z5CAx', 'is_local': False, 'name': 'Distance', 'popularity': 52, 'preview_url': None, 'track_number': 1, 'type': 'track', 'uri': 'spotify:track:2baDpSKIRz3t7NTs6Z5CAx'}, 'played_at': '2025-10-26T14:17:34.068Z', 'context': {'external_urls': {'spotify': 'https://open.spotify.com/playlist/37i9dQZF1DWZZbwlv3Vmtr'}, 'href': 'https://api.spotify.com/v1/playlists/37i9dQZF1DWZZbwlv3Vmtr', 'type': 'playlist', 'uri': 'spotify:playlist:37i9dQZF1DWZZbwlv3Vmtr'}}",
         "{'ingested_at': '2025-10-26T14:17:34.068Z', 'execution_date': '2025-10-26T00:00:00+00:00', 'dag_id': 'spotify_raw_ingestion_jsonl', 'run_id': 'manual__2025-10-26T14:17:34.068000Z', 'source': 'spotify_api'}"
        ],
        [
         "45",
         "{'track': {'album': {'album_type': 'single', 'artists': [{'external_urls': {'spotify': 'https://open.spotify.com/artist/6A3Fdu30Vz62jf3XP5pLy5'}, 'href': 'https://api.spotify.com/v1/artists/6A3Fdu30Vz62jf3XP5pLy5', 'id': '6A3Fdu30Vz62jf3XP5pLy5', 'name': 'butterfli', 'type': 'artist', 'uri': 'spotify:artist:6A3Fdu30Vz62jf3XP5pLy5'}], 'available_markets': ['AR', 'AU', 'AT', 'BE', 'BO', 'BR', 'BG', 'CA', 'CL', 'CO', 'CR', 'CY', 'CZ', 'DK', 'DO', 'DE', 'EC', 'EE', 'SV', 'FI', 'FR', 'GR', 'GT', 'HN', 'HK', 'HU', 'IS', 'IE', 'IT', 'LV', 'LT', 'LU', 'MY', 'MT', 'MX', 'NL', 'NZ', 'NI', 'NO', 'PA', 'PY', 'PE', 'PH', 'PL', 'PT', 'SG', 'SK', 'ES', 'SE', 'CH', 'TW', 'TR', 'UY', 'US', 'GB', 'AD', 'LI', 'MC', 'ID', 'JP', 'TH', 'VN', 'RO', 'IL', 'ZA', 'SA', 'AE', 'BH', 'QA', 'OM', 'KW', 'EG', 'MA', 'DZ', 'TN', 'LB', 'JO', 'PS', 'IN', 'BY', 'KZ', 'MD', 'UA', 'AL', 'BA', 'HR', 'ME', 'MK', 'RS', 'SI', 'KR', 'BD', 'PK', 'LK', 'GH', 'KE', 'NG', 'TZ', 'UG', 'AG', 'AM', 'BS', 'BB', 'BZ', 'BT', 'BW', 'BF', 'CV', 'CW', 'DM', 'FJ', 'GM', 'GE', 'GD', 'GW', 'GY', 'HT', 'JM', 'KI', 'LS', 'LR', 'MW', 'MV', 'ML', 'MH', 'FM', 'NA', 'NR', 'NE', 'PW', 'PG', 'PR', 'WS', 'SM', 'ST', 'SN', 'SC', 'SL', 'SB', 'KN', 'LC', 'VC', 'SR', 'TL', 'TO', 'TT', 'TV', 'VU', 'AZ', 'BN', 'BI', 'KH', 'CM', 'TD', 'KM', 'GQ', 'SZ', 'GA', 'GN', 'KG', 'LA', 'MO', 'MR', 'MN', 'NP', 'RW', 'TG', 'UZ', 'ZW', 'BJ', 'MG', 'MU', 'MZ', 'AO', 'CI', 'DJ', 'ZM', 'CD', 'CG', 'IQ', 'LY', 'TJ', 'VE', 'ET', 'XK'], 'external_urls': {'spotify': 'https://open.spotify.com/album/1jZbrN0GqWFnJ8xZXo5IcC'}, 'href': 'https://api.spotify.com/v1/albums/1jZbrN0GqWFnJ8xZXo5IcC', 'id': '1jZbrN0GqWFnJ8xZXo5IcC', 'images': [{'height': 640, 'url': 'https://i.scdn.co/image/ab67616d0000b2732ea8a25a50bf25793f87a935', 'width': 640}, {'height': 300, 'url': 'https://i.scdn.co/image/ab67616d00001e022ea8a25a50bf25793f87a935', 'width': 300}, {'height': 64, 'url': 'https://i.scdn.co/image/ab67616d000048512ea8a25a50bf25793f87a935', 'width': 64}], 'name': 'lonely nights', 'release_date': '2025-07-20', 'release_date_precision': 'day', 'total_tracks': 1, 'type': 'album', 'uri': 'spotify:album:1jZbrN0GqWFnJ8xZXo5IcC'}, 'artists': [{'external_urls': {'spotify': 'https://open.spotify.com/artist/6A3Fdu30Vz62jf3XP5pLy5'}, 'href': 'https://api.spotify.com/v1/artists/6A3Fdu30Vz62jf3XP5pLy5', 'id': '6A3Fdu30Vz62jf3XP5pLy5', 'name': 'butterfli', 'type': 'artist', 'uri': 'spotify:artist:6A3Fdu30Vz62jf3XP5pLy5'}], 'available_markets': ['AR', 'AU', 'AT', 'BE', 'BO', 'BR', 'BG', 'CA', 'CL', 'CO', 'CR', 'CY', 'CZ', 'DK', 'DO', 'DE', 'EC', 'EE', 'SV', 'FI', 'FR', 'GR', 'GT', 'HN', 'HK', 'HU', 'IS', 'IE', 'IT', 'LV', 'LT', 'LU', 'MY', 'MT', 'MX', 'NL', 'NZ', 'NI', 'NO', 'PA', 'PY', 'PE', 'PH', 'PL', 'PT', 'SG', 'SK', 'ES', 'SE', 'CH', 'TW', 'TR', 'UY', 'US', 'GB', 'AD', 'LI', 'MC', 'ID', 'JP', 'TH', 'VN', 'RO', 'IL', 'ZA', 'SA', 'AE', 'BH', 'QA', 'OM', 'KW', 'EG', 'MA', 'DZ', 'TN', 'LB', 'JO', 'PS', 'IN', 'BY', 'KZ', 'MD', 'UA', 'AL', 'BA', 'HR', 'ME', 'MK', 'RS', 'SI', 'KR', 'BD', 'PK', 'LK', 'GH', 'KE', 'NG', 'TZ', 'UG', 'AG', 'AM', 'BS', 'BB', 'BZ', 'BT', 'BW', 'BF', 'CV', 'CW', 'DM', 'FJ', 'GM', 'GE', 'GD', 'GW', 'GY', 'HT', 'JM', 'KI', 'LS', 'LR', 'MW', 'MV', 'ML', 'MH', 'FM', 'NA', 'NR', 'NE', 'PW', 'PG', 'PR', 'WS', 'SM', 'ST', 'SN', 'SC', 'SL', 'SB', 'KN', 'LC', 'VC', 'SR', 'TL', 'TO', 'TT', 'TV', 'VU', 'AZ', 'BN', 'BI', 'KH', 'CM', 'TD', 'KM', 'GQ', 'SZ', 'GA', 'GN', 'KG', 'LA', 'MO', 'MR', 'MN', 'NP', 'RW', 'TG', 'UZ', 'ZW', 'BJ', 'MG', 'MU', 'MZ', 'AO', 'CI', 'DJ', 'ZM', 'CD', 'CG', 'IQ', 'LY', 'TJ', 'VE', 'ET', 'XK'], 'disc_number': 1, 'duration_ms': 123428, 'explicit': False, 'external_ids': {'isrc': 'QZAKB2516670'}, 'external_urls': {'spotify': 'https://open.spotify.com/track/02oyJrGlvHQ4sf7obYMJJk'}, 'href': 'https://api.spotify.com/v1/tracks/02oyJrGlvHQ4sf7obYMJJk', 'id': '02oyJrGlvHQ4sf7obYMJJk', 'is_local': False, 'name': 'lonely nights', 'popularity': 60, 'preview_url': None, 'track_number': 1, 'type': 'track', 'uri': 'spotify:track:02oyJrGlvHQ4sf7obYMJJk'}, 'played_at': '2025-10-26T14:15:51.534Z', 'context': {'external_urls': {'spotify': 'https://open.spotify.com/playlist/37i9dQZF1DWZZbwlv3Vmtr'}, 'href': 'https://api.spotify.com/v1/playlists/37i9dQZF1DWZZbwlv3Vmtr', 'type': 'playlist', 'uri': 'spotify:playlist:37i9dQZF1DWZZbwlv3Vmtr'}}",
         "{'ingested_at': '2025-10-26T14:15:51.534Z', 'execution_date': '2025-10-26T00:00:00+00:00', 'dag_id': 'spotify_raw_ingestion_jsonl', 'run_id': 'manual__2025-10-26T14:15:51.534000Z', 'source': 'spotify_api'}"
        ],
        [
         "46",
         "{'track': {'album': {'album_type': 'single', 'artists': [{'external_urls': {'spotify': 'https://open.spotify.com/artist/2tUWdnMothLxACGOxca5Nz'}, 'href': 'https://api.spotify.com/v1/artists/2tUWdnMothLxACGOxca5Nz', 'id': '2tUWdnMothLxACGOxca5Nz', 'name': 'Trish Lupin', 'type': 'artist', 'uri': 'spotify:artist:2tUWdnMothLxACGOxca5Nz'}], 'available_markets': ['AR', 'AU', 'AT', 'BE', 'BO', 'BR', 'BG', 'CA', 'CL', 'CO', 'CR', 'CY', 'CZ', 'DK', 'DO', 'DE', 'EC', 'EE', 'SV', 'FI', 'FR', 'GR', 'GT', 'HN', 'HK', 'HU', 'IS', 'IE', 'IT', 'LV', 'LT', 'LU', 'MY', 'MT', 'MX', 'NL', 'NZ', 'NI', 'NO', 'PA', 'PY', 'PE', 'PH', 'PL', 'PT', 'SG', 'SK', 'ES', 'SE', 'CH', 'TW', 'TR', 'UY', 'US', 'GB', 'AD', 'LI', 'MC', 'ID', 'JP', 'TH', 'VN', 'RO', 'IL', 'ZA', 'SA', 'AE', 'BH', 'QA', 'OM', 'KW', 'EG', 'MA', 'DZ', 'TN', 'LB', 'JO', 'PS', 'IN', 'BY', 'KZ', 'MD', 'UA', 'AL', 'BA', 'HR', 'ME', 'MK', 'RS', 'SI', 'KR', 'BD', 'PK', 'LK', 'GH', 'KE', 'NG', 'TZ', 'UG', 'AG', 'AM', 'BS', 'BB', 'BZ', 'BT', 'BW', 'BF', 'CV', 'CW', 'DM', 'FJ', 'GM', 'GE', 'GD', 'GW', 'GY', 'HT', 'JM', 'KI', 'LS', 'LR', 'MW', 'MV', 'ML', 'MH', 'FM', 'NA', 'NR', 'NE', 'PW', 'PG', 'PR', 'WS', 'SM', 'ST', 'SN', 'SC', 'SL', 'SB', 'KN', 'LC', 'VC', 'SR', 'TL', 'TO', 'TT', 'TV', 'VU', 'AZ', 'BN', 'BI', 'KH', 'CM', 'TD', 'KM', 'GQ', 'SZ', 'GA', 'GN', 'KG', 'LA', 'MO', 'MR', 'MN', 'NP', 'RW', 'TG', 'UZ', 'ZW', 'BJ', 'MG', 'MU', 'MZ', 'AO', 'CI', 'DJ', 'ZM', 'CD', 'CG', 'IQ', 'LY', 'TJ', 'VE', 'ET', 'XK'], 'external_urls': {'spotify': 'https://open.spotify.com/album/07OphcXB8sSOaScV4RlrFW'}, 'href': 'https://api.spotify.com/v1/albums/07OphcXB8sSOaScV4RlrFW', 'id': '07OphcXB8sSOaScV4RlrFW', 'images': [{'height': 640, 'url': 'https://i.scdn.co/image/ab67616d0000b27396314d2b06082856c6eab574', 'width': 640}, {'height': 300, 'url': 'https://i.scdn.co/image/ab67616d00001e0296314d2b06082856c6eab574', 'width': 300}, {'height': 64, 'url': 'https://i.scdn.co/image/ab67616d0000485196314d2b06082856c6eab574', 'width': 64}], 'name': 'Perception', 'release_date': '2024-12-10', 'release_date_precision': 'day', 'total_tracks': 1, 'type': 'album', 'uri': 'spotify:album:07OphcXB8sSOaScV4RlrFW'}, 'artists': [{'external_urls': {'spotify': 'https://open.spotify.com/artist/2tUWdnMothLxACGOxca5Nz'}, 'href': 'https://api.spotify.com/v1/artists/2tUWdnMothLxACGOxca5Nz', 'id': '2tUWdnMothLxACGOxca5Nz', 'name': 'Trish Lupin', 'type': 'artist', 'uri': 'spotify:artist:2tUWdnMothLxACGOxca5Nz'}], 'available_markets': ['AR', 'AU', 'AT', 'BE', 'BO', 'BR', 'BG', 'CA', 'CL', 'CO', 'CR', 'CY', 'CZ', 'DK', 'DO', 'DE', 'EC', 'EE', 'SV', 'FI', 'FR', 'GR', 'GT', 'HN', 'HK', 'HU', 'IS', 'IE', 'IT', 'LV', 'LT', 'LU', 'MY', 'MT', 'MX', 'NL', 'NZ', 'NI', 'NO', 'PA', 'PY', 'PE', 'PH', 'PL', 'PT', 'SG', 'SK', 'ES', 'SE', 'CH', 'TW', 'TR', 'UY', 'US', 'GB', 'AD', 'LI', 'MC', 'ID', 'JP', 'TH', 'VN', 'RO', 'IL', 'ZA', 'SA', 'AE', 'BH', 'QA', 'OM', 'KW', 'EG', 'MA', 'DZ', 'TN', 'LB', 'JO', 'PS', 'IN', 'BY', 'KZ', 'MD', 'UA', 'AL', 'BA', 'HR', 'ME', 'MK', 'RS', 'SI', 'KR', 'BD', 'PK', 'LK', 'GH', 'KE', 'NG', 'TZ', 'UG', 'AG', 'AM', 'BS', 'BB', 'BZ', 'BT', 'BW', 'BF', 'CV', 'CW', 'DM', 'FJ', 'GM', 'GE', 'GD', 'GW', 'GY', 'HT', 'JM', 'KI', 'LS', 'LR', 'MW', 'MV', 'ML', 'MH', 'FM', 'NA', 'NR', 'NE', 'PW', 'PG', 'PR', 'WS', 'SM', 'ST', 'SN', 'SC', 'SL', 'SB', 'KN', 'LC', 'VC', 'SR', 'TL', 'TO', 'TT', 'TV', 'VU', 'AZ', 'BN', 'BI', 'KH', 'CM', 'TD', 'KM', 'GQ', 'SZ', 'GA', 'GN', 'KG', 'LA', 'MO', 'MR', 'MN', 'NP', 'RW', 'TG', 'UZ', 'ZW', 'BJ', 'MG', 'MU', 'MZ', 'AO', 'CI', 'DJ', 'ZM', 'CD', 'CG', 'IQ', 'LY', 'TJ', 'VE', 'ET', 'XK'], 'disc_number': 1, 'duration_ms': 121250, 'explicit': False, 'external_ids': {'isrc': 'SE4RG2403378'}, 'external_urls': {'spotify': 'https://open.spotify.com/track/02KefPFoPYwQYR219MAxAT'}, 'href': 'https://api.spotify.com/v1/tracks/02KefPFoPYwQYR219MAxAT', 'id': '02KefPFoPYwQYR219MAxAT', 'is_local': False, 'name': 'Perception', 'popularity': 55, 'preview_url': None, 'track_number': 1, 'type': 'track', 'uri': 'spotify:track:02KefPFoPYwQYR219MAxAT'}, 'played_at': '2025-10-26T14:14:17.688Z', 'context': {'external_urls': {'spotify': 'https://open.spotify.com/playlist/37i9dQZF1DWZZbwlv3Vmtr'}, 'href': 'https://api.spotify.com/v1/playlists/37i9dQZF1DWZZbwlv3Vmtr', 'type': 'playlist', 'uri': 'spotify:playlist:37i9dQZF1DWZZbwlv3Vmtr'}}",
         "{'ingested_at': '2025-10-26T14:14:17.688Z', 'execution_date': '2025-10-26T00:00:00+00:00', 'dag_id': 'spotify_raw_ingestion_jsonl', 'run_id': 'manual__2025-10-26T14:14:17.688000Z', 'source': 'spotify_api'}"
        ],
        [
         "47",
         "{'track': {'album': {'album_type': 'single', 'artists': [{'external_urls': {'spotify': 'https://open.spotify.com/artist/5nRIouNA5T37sVSDEjbhAL'}, 'href': 'https://api.spotify.com/v1/artists/5nRIouNA5T37sVSDEjbhAL', 'id': '5nRIouNA5T37sVSDEjbhAL', 'name': 'low&slow', 'type': 'artist', 'uri': 'spotify:artist:5nRIouNA5T37sVSDEjbhAL'}], 'available_markets': ['AR', 'AU', 'AT', 'BE', 'BO', 'BR', 'BG', 'CA', 'CL', 'CO', 'CR', 'CY', 'CZ', 'DK', 'DO', 'DE', 'EC', 'EE', 'SV', 'FI', 'FR', 'GR', 'GT', 'HN', 'HK', 'HU', 'IS', 'IE', 'IT', 'LV', 'LT', 'LU', 'MY', 'MT', 'MX', 'NL', 'NZ', 'NI', 'NO', 'PA', 'PY', 'PE', 'PH', 'PL', 'PT', 'SG', 'SK', 'ES', 'SE', 'CH', 'TW', 'TR', 'UY', 'US', 'GB', 'AD', 'LI', 'MC', 'ID', 'JP', 'TH', 'VN', 'RO', 'IL', 'ZA', 'SA', 'AE', 'BH', 'QA', 'OM', 'KW', 'EG', 'MA', 'DZ', 'TN', 'LB', 'JO', 'PS', 'IN', 'BY', 'KZ', 'MD', 'UA', 'AL', 'BA', 'HR', 'ME', 'MK', 'RS', 'SI', 'KR', 'BD', 'PK', 'LK', 'GH', 'KE', 'NG', 'TZ', 'UG', 'AG', 'AM', 'BS', 'BB', 'BZ', 'BT', 'BW', 'BF', 'CV', 'CW', 'DM', 'FJ', 'GM', 'GE', 'GD', 'GW', 'GY', 'HT', 'JM', 'KI', 'LS', 'LR', 'MW', 'MV', 'ML', 'MH', 'FM', 'NA', 'NR', 'NE', 'PW', 'PG', 'PR', 'WS', 'SM', 'ST', 'SN', 'SC', 'SL', 'SB', 'KN', 'LC', 'VC', 'SR', 'TL', 'TO', 'TT', 'TV', 'VU', 'AZ', 'BN', 'BI', 'KH', 'CM', 'TD', 'KM', 'GQ', 'SZ', 'GA', 'GN', 'KG', 'LA', 'MO', 'MR', 'MN', 'NP', 'RW', 'TG', 'UZ', 'ZW', 'BJ', 'MG', 'MU', 'MZ', 'AO', 'CI', 'DJ', 'ZM', 'CD', 'CG', 'IQ', 'LY', 'TJ', 'VE', 'ET', 'XK'], 'external_urls': {'spotify': 'https://open.spotify.com/album/63BcmPVShgWasXts8qMikS'}, 'href': 'https://api.spotify.com/v1/albums/63BcmPVShgWasXts8qMikS', 'id': '63BcmPVShgWasXts8qMikS', 'images': [{'height': 640, 'url': 'https://i.scdn.co/image/ab67616d0000b27360f811852731c304db857588', 'width': 640}, {'height': 300, 'url': 'https://i.scdn.co/image/ab67616d00001e0260f811852731c304db857588', 'width': 300}, {'height': 64, 'url': 'https://i.scdn.co/image/ab67616d0000485160f811852731c304db857588', 'width': 64}], 'name': 'poseidon', 'release_date': '2024-01-26', 'release_date_precision': 'day', 'total_tracks': 1, 'type': 'album', 'uri': 'spotify:album:63BcmPVShgWasXts8qMikS'}, 'artists': [{'external_urls': {'spotify': 'https://open.spotify.com/artist/5nRIouNA5T37sVSDEjbhAL'}, 'href': 'https://api.spotify.com/v1/artists/5nRIouNA5T37sVSDEjbhAL', 'id': '5nRIouNA5T37sVSDEjbhAL', 'name': 'low&slow', 'type': 'artist', 'uri': 'spotify:artist:5nRIouNA5T37sVSDEjbhAL'}], 'available_markets': ['AR', 'AU', 'AT', 'BE', 'BO', 'BR', 'BG', 'CA', 'CL', 'CO', 'CR', 'CY', 'CZ', 'DK', 'DO', 'DE', 'EC', 'EE', 'SV', 'FI', 'FR', 'GR', 'GT', 'HN', 'HK', 'HU', 'IS', 'IE', 'IT', 'LV', 'LT', 'LU', 'MY', 'MT', 'MX', 'NL', 'NZ', 'NI', 'NO', 'PA', 'PY', 'PE', 'PH', 'PL', 'PT', 'SG', 'SK', 'ES', 'SE', 'CH', 'TW', 'TR', 'UY', 'US', 'GB', 'AD', 'LI', 'MC', 'ID', 'JP', 'TH', 'VN', 'RO', 'IL', 'ZA', 'SA', 'AE', 'BH', 'QA', 'OM', 'KW', 'EG', 'MA', 'DZ', 'TN', 'LB', 'JO', 'PS', 'IN', 'BY', 'KZ', 'MD', 'UA', 'AL', 'BA', 'HR', 'ME', 'MK', 'RS', 'SI', 'KR', 'BD', 'PK', 'LK', 'GH', 'KE', 'NG', 'TZ', 'UG', 'AG', 'AM', 'BS', 'BB', 'BZ', 'BT', 'BW', 'BF', 'CV', 'CW', 'DM', 'FJ', 'GM', 'GE', 'GD', 'GW', 'GY', 'HT', 'JM', 'KI', 'LS', 'LR', 'MW', 'MV', 'ML', 'MH', 'FM', 'NA', 'NR', 'NE', 'PW', 'PG', 'PR', 'WS', 'SM', 'ST', 'SN', 'SC', 'SL', 'SB', 'KN', 'LC', 'VC', 'SR', 'TL', 'TO', 'TT', 'TV', 'VU', 'AZ', 'BN', 'BI', 'KH', 'CM', 'TD', 'KM', 'GQ', 'SZ', 'GA', 'GN', 'KG', 'LA', 'MO', 'MR', 'MN', 'NP', 'RW', 'TG', 'UZ', 'ZW', 'BJ', 'MG', 'MU', 'MZ', 'AO', 'CI', 'DJ', 'ZM', 'CD', 'CG', 'IQ', 'LY', 'TJ', 'VE', 'ET', 'XK'], 'disc_number': 1, 'duration_ms': 121751, 'explicit': False, 'external_ids': {'isrc': 'SE5W32309833'}, 'external_urls': {'spotify': 'https://open.spotify.com/track/6MpZRAlMbG1PvjuMNtzp9t'}, 'href': 'https://api.spotify.com/v1/tracks/6MpZRAlMbG1PvjuMNtzp9t', 'id': '6MpZRAlMbG1PvjuMNtzp9t', 'is_local': False, 'name': 'poseidon', 'popularity': 56, 'preview_url': None, 'track_number': 1, 'type': 'track', 'uri': 'spotify:track:6MpZRAlMbG1PvjuMNtzp9t'}, 'played_at': '2025-10-26T14:12:27.608Z', 'context': {'external_urls': {'spotify': 'https://open.spotify.com/playlist/37i9dQZF1DWZZbwlv3Vmtr'}, 'href': 'https://api.spotify.com/v1/playlists/37i9dQZF1DWZZbwlv3Vmtr', 'type': 'playlist', 'uri': 'spotify:playlist:37i9dQZF1DWZZbwlv3Vmtr'}}",
         "{'ingested_at': '2025-10-26T14:12:27.608Z', 'execution_date': '2025-10-26T00:00:00+00:00', 'dag_id': 'spotify_raw_ingestion_jsonl', 'run_id': 'manual__2025-10-26T14:12:27.608000Z', 'source': 'spotify_api'}"
        ],
        [
         "48",
         "{'track': {'album': {'album_type': 'single', 'artists': [{'external_urls': {'spotify': 'https://open.spotify.com/artist/77lm1CStze3sAtsBUvW2Rm'}, 'href': 'https://api.spotify.com/v1/artists/77lm1CStze3sAtsBUvW2Rm', 'id': '77lm1CStze3sAtsBUvW2Rm', 'name': 'nearly monday', 'type': 'artist', 'uri': 'spotify:artist:77lm1CStze3sAtsBUvW2Rm'}], 'available_markets': ['AR', 'AU', 'AT', 'BE', 'BO', 'BR', 'BG', 'CA', 'CL', 'CO', 'CR', 'CY', 'CZ', 'DK', 'DO', 'DE', 'EC', 'EE', 'SV', 'FI', 'FR', 'GR', 'GT', 'HN', 'HK', 'HU', 'IS', 'IE', 'IT', 'LV', 'LT', 'LU', 'MY', 'MT', 'MX', 'NL', 'NZ', 'NI', 'NO', 'PA', 'PY', 'PE', 'PH', 'PL', 'PT', 'SG', 'SK', 'ES', 'SE', 'CH', 'TW', 'TR', 'UY', 'US', 'GB', 'AD', 'LI', 'MC', 'ID', 'JP', 'TH', 'VN', 'RO', 'IL', 'ZA', 'SA', 'AE', 'BH', 'QA', 'OM', 'KW', 'EG', 'MA', 'DZ', 'TN', 'LB', 'JO', 'PS', 'IN', 'BY', 'KZ', 'MD', 'UA', 'AL', 'BA', 'HR', 'ME', 'MK', 'RS', 'SI', 'KR', 'BD', 'PK', 'LK', 'GH', 'KE', 'NG', 'TZ', 'UG', 'AG', 'AM', 'BS', 'BB', 'BZ', 'BT', 'BW', 'BF', 'CV', 'CW', 'DM', 'FJ', 'GM', 'GE', 'GD', 'GW', 'GY', 'HT', 'JM', 'KI', 'LS', 'LR', 'MW', 'MV', 'ML', 'MH', 'FM', 'NA', 'NR', 'NE', 'PW', 'PG', 'PR', 'WS', 'SM', 'ST', 'SN', 'SC', 'SL', 'SB', 'KN', 'LC', 'VC', 'SR', 'TL', 'TO', 'TT', 'TV', 'VU', 'AZ', 'BN', 'BI', 'KH', 'CM', 'TD', 'KM', 'GQ', 'SZ', 'GA', 'GN', 'KG', 'LA', 'MO', 'MR', 'MN', 'NP', 'RW', 'TG', 'UZ', 'ZW', 'BJ', 'MG', 'MU', 'MZ', 'AO', 'CI', 'DJ', 'ZM', 'CD', 'CG', 'IQ', 'LY', 'TJ', 'VE', 'ET', 'XK'], 'external_urls': {'spotify': 'https://open.spotify.com/album/1nYrFvnnKzsyqyQupSabNA'}, 'href': 'https://api.spotify.com/v1/albums/1nYrFvnnKzsyqyQupSabNA', 'id': '1nYrFvnnKzsyqyQupSabNA', 'images': [{'height': 640, 'url': 'https://i.scdn.co/image/ab67616d0000b2736b03d8aefcf145ade39d791e', 'width': 640}, {'height': 300, 'url': 'https://i.scdn.co/image/ab67616d00001e026b03d8aefcf145ade39d791e', 'width': 300}, {'height': 64, 'url': 'https://i.scdn.co/image/ab67616d000048516b03d8aefcf145ade39d791e', 'width': 64}], 'name': 'told u', 'release_date': '2025-07-25', 'release_date_precision': 'day', 'total_tracks': 1, 'type': 'album', 'uri': 'spotify:album:1nYrFvnnKzsyqyQupSabNA'}, 'artists': [{'external_urls': {'spotify': 'https://open.spotify.com/artist/77lm1CStze3sAtsBUvW2Rm'}, 'href': 'https://api.spotify.com/v1/artists/77lm1CStze3sAtsBUvW2Rm', 'id': '77lm1CStze3sAtsBUvW2Rm', 'name': 'nearly monday', 'type': 'artist', 'uri': 'spotify:artist:77lm1CStze3sAtsBUvW2Rm'}], 'available_markets': ['AR', 'AU', 'AT', 'BE', 'BO', 'BR', 'BG', 'CA', 'CL', 'CO', 'CR', 'CY', 'CZ', 'DK', 'DO', 'DE', 'EC', 'EE', 'SV', 'FI', 'FR', 'GR', 'GT', 'HN', 'HK', 'HU', 'IS', 'IE', 'IT', 'LV', 'LT', 'LU', 'MY', 'MT', 'MX', 'NL', 'NZ', 'NI', 'NO', 'PA', 'PY', 'PE', 'PH', 'PL', 'PT', 'SG', 'SK', 'ES', 'SE', 'CH', 'TW', 'TR', 'UY', 'US', 'GB', 'AD', 'LI', 'MC', 'ID', 'JP', 'TH', 'VN', 'RO', 'IL', 'ZA', 'SA', 'AE', 'BH', 'QA', 'OM', 'KW', 'EG', 'MA', 'DZ', 'TN', 'LB', 'JO', 'PS', 'IN', 'BY', 'KZ', 'MD', 'UA', 'AL', 'BA', 'HR', 'ME', 'MK', 'RS', 'SI', 'KR', 'BD', 'PK', 'LK', 'GH', 'KE', 'NG', 'TZ', 'UG', 'AG', 'AM', 'BS', 'BB', 'BZ', 'BT', 'BW', 'BF', 'CV', 'CW', 'DM', 'FJ', 'GM', 'GE', 'GD', 'GW', 'GY', 'HT', 'JM', 'KI', 'LS', 'LR', 'MW', 'MV', 'ML', 'MH', 'FM', 'NA', 'NR', 'NE', 'PW', 'PG', 'PR', 'WS', 'SM', 'ST', 'SN', 'SC', 'SL', 'SB', 'KN', 'LC', 'VC', 'SR', 'TL', 'TO', 'TT', 'TV', 'VU', 'AZ', 'BN', 'BI', 'KH', 'CM', 'TD', 'KM', 'GQ', 'SZ', 'GA', 'GN', 'KG', 'LA', 'MO', 'MR', 'MN', 'NP', 'RW', 'TG', 'UZ', 'ZW', 'BJ', 'MG', 'MU', 'MZ', 'AO', 'CI', 'DJ', 'ZM', 'CD', 'CG', 'IQ', 'LY', 'TJ', 'VE', 'ET', 'XK'], 'disc_number': 1, 'duration_ms': 143684, 'explicit': False, 'external_ids': {'isrc': 'SE7DX2501859'}, 'external_urls': {'spotify': 'https://open.spotify.com/track/13k2LSUYUuJq25wh0rdI2C'}, 'href': 'https://api.spotify.com/v1/tracks/13k2LSUYUuJq25wh0rdI2C', 'id': '13k2LSUYUuJq25wh0rdI2C', 'is_local': False, 'name': 'told u', 'popularity': 58, 'preview_url': None, 'track_number': 1, 'type': 'track', 'uri': 'spotify:track:13k2LSUYUuJq25wh0rdI2C'}, 'played_at': '2025-10-26T14:10:46.509Z', 'context': {'external_urls': {'spotify': 'https://open.spotify.com/playlist/37i9dQZF1DWZZbwlv3Vmtr'}, 'href': 'https://api.spotify.com/v1/playlists/37i9dQZF1DWZZbwlv3Vmtr', 'type': 'playlist', 'uri': 'spotify:playlist:37i9dQZF1DWZZbwlv3Vmtr'}}",
         "{'ingested_at': '2025-10-26T14:10:46.509Z', 'execution_date': '2025-10-26T00:00:00+00:00', 'dag_id': 'spotify_raw_ingestion_jsonl', 'run_id': 'manual__2025-10-26T14:10:46.509000Z', 'source': 'spotify_api'}"
        ],
        [
         "49",
         "{'track': {'album': {'album_type': 'single', 'artists': [{'external_urls': {'spotify': 'https://open.spotify.com/artist/1bKtP3B1PRR916WGM3Morj'}, 'href': 'https://api.spotify.com/v1/artists/1bKtP3B1PRR916WGM3Morj', 'id': '1bKtP3B1PRR916WGM3Morj', 'name': 'Galva-Nice', 'type': 'artist', 'uri': 'spotify:artist:1bKtP3B1PRR916WGM3Morj'}], 'available_markets': ['AR', 'AU', 'AT', 'BE', 'BO', 'BR', 'BG', 'CA', 'CL', 'CO', 'CR', 'CY', 'CZ', 'DK', 'DO', 'DE', 'EC', 'EE', 'SV', 'FI', 'FR', 'GR', 'GT', 'HN', 'HK', 'HU', 'IS', 'IE', 'IT', 'LV', 'LT', 'LU', 'MY', 'MT', 'MX', 'NL', 'NZ', 'NI', 'NO', 'PA', 'PY', 'PE', 'PH', 'PL', 'PT', 'SG', 'SK', 'ES', 'SE', 'CH', 'TW', 'TR', 'UY', 'US', 'GB', 'AD', 'LI', 'MC', 'ID', 'JP', 'TH', 'VN', 'RO', 'IL', 'ZA', 'SA', 'AE', 'BH', 'QA', 'OM', 'KW', 'EG', 'MA', 'DZ', 'TN', 'LB', 'JO', 'PS', 'IN', 'BY', 'KZ', 'MD', 'UA', 'AL', 'BA', 'HR', 'ME', 'MK', 'RS', 'SI', 'KR', 'BD', 'PK', 'LK', 'GH', 'KE', 'NG', 'TZ', 'UG', 'AG', 'AM', 'BS', 'BB', 'BZ', 'BT', 'BW', 'BF', 'CV', 'CW', 'DM', 'FJ', 'GM', 'GE', 'GD', 'GW', 'GY', 'HT', 'JM', 'KI', 'LS', 'LR', 'MW', 'MV', 'ML', 'MH', 'FM', 'NA', 'NR', 'NE', 'PW', 'PG', 'PR', 'WS', 'SM', 'ST', 'SN', 'SC', 'SL', 'SB', 'KN', 'LC', 'VC', 'SR', 'TL', 'TO', 'TT', 'TV', 'VU', 'AZ', 'BN', 'BI', 'KH', 'CM', 'TD', 'KM', 'GQ', 'SZ', 'GA', 'GN', 'KG', 'LA', 'MO', 'MR', 'MN', 'NP', 'RW', 'TG', 'UZ', 'ZW', 'BJ', 'MG', 'MU', 'MZ', 'AO', 'CI', 'DJ', 'ZM', 'CD', 'CG', 'IQ', 'LY', 'TJ', 'VE', 'ET', 'XK'], 'external_urls': {'spotify': 'https://open.spotify.com/album/1ftpbsY9HCoSpUOq7RVUEs'}, 'href': 'https://api.spotify.com/v1/albums/1ftpbsY9HCoSpUOq7RVUEs', 'id': '1ftpbsY9HCoSpUOq7RVUEs', 'images': [{'height': 640, 'url': 'https://i.scdn.co/image/ab67616d0000b27343436d819bf073a2dd66742c', 'width': 640}, {'height': 300, 'url': 'https://i.scdn.co/image/ab67616d00001e0243436d819bf073a2dd66742c', 'width': 300}, {'height': 64, 'url': 'https://i.scdn.co/image/ab67616d0000485143436d819bf073a2dd66742c', 'width': 64}], 'name': \"Who's Driving?\", 'release_date': '2023-10-06', 'release_date_precision': 'day', 'total_tracks': 1, 'type': 'album', 'uri': 'spotify:album:1ftpbsY9HCoSpUOq7RVUEs'}, 'artists': [{'external_urls': {'spotify': 'https://open.spotify.com/artist/1bKtP3B1PRR916WGM3Morj'}, 'href': 'https://api.spotify.com/v1/artists/1bKtP3B1PRR916WGM3Morj', 'id': '1bKtP3B1PRR916WGM3Morj', 'name': 'Galva-Nice', 'type': 'artist', 'uri': 'spotify:artist:1bKtP3B1PRR916WGM3Morj'}], 'available_markets': ['AR', 'AU', 'AT', 'BE', 'BO', 'BR', 'BG', 'CA', 'CL', 'CO', 'CR', 'CY', 'CZ', 'DK', 'DO', 'DE', 'EC', 'EE', 'SV', 'FI', 'FR', 'GR', 'GT', 'HN', 'HK', 'HU', 'IS', 'IE', 'IT', 'LV', 'LT', 'LU', 'MY', 'MT', 'MX', 'NL', 'NZ', 'NI', 'NO', 'PA', 'PY', 'PE', 'PH', 'PL', 'PT', 'SG', 'SK', 'ES', 'SE', 'CH', 'TW', 'TR', 'UY', 'US', 'GB', 'AD', 'LI', 'MC', 'ID', 'JP', 'TH', 'VN', 'RO', 'IL', 'ZA', 'SA', 'AE', 'BH', 'QA', 'OM', 'KW', 'EG', 'MA', 'DZ', 'TN', 'LB', 'JO', 'PS', 'IN', 'BY', 'KZ', 'MD', 'UA', 'AL', 'BA', 'HR', 'ME', 'MK', 'RS', 'SI', 'KR', 'BD', 'PK', 'LK', 'GH', 'KE', 'NG', 'TZ', 'UG', 'AG', 'AM', 'BS', 'BB', 'BZ', 'BT', 'BW', 'BF', 'CV', 'CW', 'DM', 'FJ', 'GM', 'GE', 'GD', 'GW', 'GY', 'HT', 'JM', 'KI', 'LS', 'LR', 'MW', 'MV', 'ML', 'MH', 'FM', 'NA', 'NR', 'NE', 'PW', 'PG', 'PR', 'WS', 'SM', 'ST', 'SN', 'SC', 'SL', 'SB', 'KN', 'LC', 'VC', 'SR', 'TL', 'TO', 'TT', 'TV', 'VU', 'AZ', 'BN', 'BI', 'KH', 'CM', 'TD', 'KM', 'GQ', 'SZ', 'GA', 'GN', 'KG', 'LA', 'MO', 'MR', 'MN', 'NP', 'RW', 'TG', 'UZ', 'ZW', 'BJ', 'MG', 'MU', 'MZ', 'AO', 'CI', 'DJ', 'ZM', 'CD', 'CG', 'IQ', 'LY', 'TJ', 'VE', 'ET', 'XK'], 'disc_number': 1, 'duration_ms': 139500, 'explicit': False, 'external_ids': {'isrc': 'SEXGF2395398'}, 'external_urls': {'spotify': 'https://open.spotify.com/track/6ilctnbVwEWTURCfY6kCWH'}, 'href': 'https://api.spotify.com/v1/tracks/6ilctnbVwEWTURCfY6kCWH', 'id': '6ilctnbVwEWTURCfY6kCWH', 'is_local': False, 'name': \"Who's Driving?\", 'popularity': 55, 'preview_url': None, 'track_number': 1, 'type': 'track', 'uri': 'spotify:track:6ilctnbVwEWTURCfY6kCWH'}, 'played_at': '2025-10-26T14:08:49.649Z', 'context': {'external_urls': {'spotify': 'https://open.spotify.com/playlist/37i9dQZF1DWZZbwlv3Vmtr'}, 'href': 'https://api.spotify.com/v1/playlists/37i9dQZF1DWZZbwlv3Vmtr', 'type': 'playlist', 'uri': 'spotify:playlist:37i9dQZF1DWZZbwlv3Vmtr'}}",
         "{'ingested_at': '2025-10-26T14:08:49.649Z', 'execution_date': '2025-10-26T00:00:00+00:00', 'dag_id': 'spotify_raw_ingestion_jsonl', 'run_id': 'manual__2025-10-26T14:08:49.649000Z', 'source': 'spotify_api'}"
        ]
       ],
       "shape": {
        "columns": 2,
        "rows": 266
       }
      },
      "text/html": [
       "<div>\n",
       "<style scoped>\n",
       "    .dataframe tbody tr th:only-of-type {\n",
       "        vertical-align: middle;\n",
       "    }\n",
       "\n",
       "    .dataframe tbody tr th {\n",
       "        vertical-align: top;\n",
       "    }\n",
       "\n",
       "    .dataframe thead th {\n",
       "        text-align: right;\n",
       "    }\n",
       "</style>\n",
       "<table border=\"1\" class=\"dataframe\">\n",
       "  <thead>\n",
       "    <tr style=\"text-align: right;\">\n",
       "      <th></th>\n",
       "      <th>raw_item</th>\n",
       "      <th>_ingestion_metadata</th>\n",
       "    </tr>\n",
       "  </thead>\n",
       "  <tbody>\n",
       "    <tr>\n",
       "      <th>0</th>\n",
       "      <td>{'track': {'album': {'album_type': 'single', '...</td>\n",
       "      <td>{'ingested_at': '2025-10-26T16:00:01.562119+00...</td>\n",
       "    </tr>\n",
       "    <tr>\n",
       "      <th>1</th>\n",
       "      <td>{'track': {'album': {'album_type': 'single', '...</td>\n",
       "      <td>{'ingested_at': '2025-10-26T16:00:01.562110+00...</td>\n",
       "    </tr>\n",
       "    <tr>\n",
       "      <th>2</th>\n",
       "      <td>{'track': {'album': {'album_type': 'single', '...</td>\n",
       "      <td>{'ingested_at': '2025-10-26T16:00:01.562100+00...</td>\n",
       "    </tr>\n",
       "    <tr>\n",
       "      <th>3</th>\n",
       "      <td>{'track': {'album': {'album_type': 'single', '...</td>\n",
       "      <td>{'ingested_at': '2025-10-26T16:00:01.562091+00...</td>\n",
       "    </tr>\n",
       "    <tr>\n",
       "      <th>4</th>\n",
       "      <td>{'track': {'album': {'album_type': 'single', '...</td>\n",
       "      <td>{'ingested_at': '2025-10-26T16:00:01.562080+00...</td>\n",
       "    </tr>\n",
       "    <tr>\n",
       "      <th>...</th>\n",
       "      <td>...</td>\n",
       "      <td>...</td>\n",
       "    </tr>\n",
       "    <tr>\n",
       "      <th>261</th>\n",
       "      <td>{'track': {'album': {'album_type': 'single', '...</td>\n",
       "      <td>{'ingested_at': '2025-10-20T00:29:47.866Z', 'e...</td>\n",
       "    </tr>\n",
       "    <tr>\n",
       "      <th>262</th>\n",
       "      <td>{'track': {'album': {'album_type': 'single', '...</td>\n",
       "      <td>{'ingested_at': '2025-10-20T00:27:36.288Z', 'e...</td>\n",
       "    </tr>\n",
       "    <tr>\n",
       "      <th>263</th>\n",
       "      <td>{'track': {'album': {'album_type': 'single', '...</td>\n",
       "      <td>{'ingested_at': '2025-10-20T00:25:08.325Z', 'e...</td>\n",
       "    </tr>\n",
       "    <tr>\n",
       "      <th>264</th>\n",
       "      <td>{'track': {'album': {'album_type': 'single', '...</td>\n",
       "      <td>{'ingested_at': '2025-10-20T00:20:57.690Z', 'e...</td>\n",
       "    </tr>\n",
       "    <tr>\n",
       "      <th>265</th>\n",
       "      <td>{'track': {'album': {'album_type': 'single', '...</td>\n",
       "      <td>{'ingested_at': '2025-10-20T00:18:40.141Z', 'e...</td>\n",
       "    </tr>\n",
       "  </tbody>\n",
       "</table>\n",
       "<p>266 rows × 2 columns</p>\n",
       "</div>"
      ],
      "text/plain": [
       "                                              raw_item  \\\n",
       "0    {'track': {'album': {'album_type': 'single', '...   \n",
       "1    {'track': {'album': {'album_type': 'single', '...   \n",
       "2    {'track': {'album': {'album_type': 'single', '...   \n",
       "3    {'track': {'album': {'album_type': 'single', '...   \n",
       "4    {'track': {'album': {'album_type': 'single', '...   \n",
       "..                                                 ...   \n",
       "261  {'track': {'album': {'album_type': 'single', '...   \n",
       "262  {'track': {'album': {'album_type': 'single', '...   \n",
       "263  {'track': {'album': {'album_type': 'single', '...   \n",
       "264  {'track': {'album': {'album_type': 'single', '...   \n",
       "265  {'track': {'album': {'album_type': 'single', '...   \n",
       "\n",
       "                                   _ingestion_metadata  \n",
       "0    {'ingested_at': '2025-10-26T16:00:01.562119+00...  \n",
       "1    {'ingested_at': '2025-10-26T16:00:01.562110+00...  \n",
       "2    {'ingested_at': '2025-10-26T16:00:01.562100+00...  \n",
       "3    {'ingested_at': '2025-10-26T16:00:01.562091+00...  \n",
       "4    {'ingested_at': '2025-10-26T16:00:01.562080+00...  \n",
       "..                                                 ...  \n",
       "261  {'ingested_at': '2025-10-20T00:29:47.866Z', 'e...  \n",
       "262  {'ingested_at': '2025-10-20T00:27:36.288Z', 'e...  \n",
       "263  {'ingested_at': '2025-10-20T00:25:08.325Z', 'e...  \n",
       "264  {'ingested_at': '2025-10-20T00:20:57.690Z', 'e...  \n",
       "265  {'ingested_at': '2025-10-20T00:18:40.141Z', 'e...  \n",
       "\n",
       "[266 rows x 2 columns]"
      ]
     },
     "metadata": {},
     "output_type": "display_data"
    }
   ],
   "source": [
    "from src.duckdb_config import explore\n",
    "\n",
    "# Define the S3 path to your JSONL files using a glob pattern\n",
    "s3_path = \"s3://inbound/raw/spotify/api/tracks/*.jsonl.gz\"\n",
    "\n",
    "\n",
    "\n",
    "# DuckDB will infer the newline-delimited format and handle decompression.\n",
    "query = f\"\"\"\n",
    "    SELECT \n",
    "        *\n",
    "    FROM read_json_auto('{s3_path}')\n",
    "    ORDER BY _ingestion_metadata.ingested_at desc\n",
    "\"\"\"\n",
    "# where _ingestion_metadata.run_id not like '%manual%'\n",
    "df = explore(query)\n",
    "\n",
    "# Use itables for interactive display in a notebook\n",
    "display(df)\n"
   ]
  },
  {
   "cell_type": "code",
   "execution_count": 15,
   "id": "88c0d3e2",
   "metadata": {},
   "outputs": [
    {
     "name": "stdout",
     "output_type": "stream",
     "text": [
      "✓ Loaded extension: httpfs\n",
      "✓ Loaded extension: parquet\n",
      "✓ Configured S3/MinIO: localhost:9000\n"
     ]
    },
    {
     "data": {
      "application/vnd.microsoft.datawrangler.viewer.v0+json": {
       "columns": [
        {
         "name": "index",
         "rawType": "int64",
         "type": "integer"
        },
        {
         "name": "raw_item",
         "rawType": "object",
         "type": "unknown"
        },
        {
         "name": "_ingestion_metadata",
         "rawType": "object",
         "type": "unknown"
        }
       ],
       "ref": "2981d31a-eba4-4793-ad39-3d1342e63dbb",
       "rows": [
        [
         "0",
         "{'track': {'album': {'album_type': 'single', 'artists': [{'external_urls': {'spotify': 'https://open.spotify.com/artist/00x1fYSGhdqScXBRpSj3DW'}, 'href': 'https://api.spotify.com/v1/artists/00x1fYSGhdqScXBRpSj3DW', 'id': '00x1fYSGhdqScXBRpSj3DW', 'name': 'Olivia Dean', 'type': 'artist', 'uri': 'spotify:artist:00x1fYSGhdqScXBRpSj3DW'}], 'available_markets': ['AR', 'AU', 'AT', 'BE', 'BO', 'BR', 'BG', 'CA', 'CL', 'CO', 'CR', 'CY', 'CZ', 'DK', 'DO', 'DE', 'EC', 'EE', 'SV', 'FI', 'FR', 'GR', 'GT', 'HN', 'HK', 'HU', 'IS', 'IE', 'IT', 'LV', 'LT', 'LU', 'MY', 'MT', 'MX', 'NL', 'NZ', 'NI', 'NO', 'PA', 'PY', 'PE', 'PH', 'PL', 'PT', 'SG', 'SK', 'ES', 'CH', 'TW', 'TR', 'UY', 'US', 'GB', 'AD', 'LI', 'MC', 'ID', 'JP', 'TH', 'VN', 'RO', 'IL', 'ZA', 'SA', 'AE', 'BH', 'QA', 'OM', 'KW', 'EG', 'MA', 'DZ', 'TN', 'LB', 'JO', 'PS', 'IN', 'KZ', 'MD', 'UA', 'AL', 'BA', 'HR', 'ME', 'MK', 'RS', 'SI', 'KR', 'BD', 'PK', 'LK', 'GH', 'KE', 'NG', 'TZ', 'UG', 'AG', 'AM', 'BS', 'BB', 'BZ', 'BT', 'BW', 'BF', 'CV', 'CW', 'DM', 'FJ', 'GM', 'GE', 'GD', 'GW', 'GY', 'HT', 'JM', 'KI', 'LS', 'LR', 'MW', 'MV', 'ML', 'MH', 'FM', 'NA', 'NR', 'NE', 'PW', 'PG', 'WS', 'SM', 'ST', 'SN', 'SC', 'SL', 'SB', 'KN', 'LC', 'VC', 'SR', 'TL', 'TO', 'TT', 'TV', 'VU', 'AZ', 'BN', 'BI', 'KH', 'CM', 'TD', 'KM', 'GQ', 'SZ', 'GA', 'GN', 'KG', 'LA', 'MO', 'MR', 'MN', 'NP', 'RW', 'TG', 'UZ', 'ZW', 'BJ', 'MG', 'MU', 'MZ', 'AO', 'CI', 'DJ', 'ZM', 'CD', 'CG', 'IQ', 'LY', 'TJ', 'VE', 'ET', 'XK'], 'external_urls': {'spotify': 'https://open.spotify.com/album/0Bv6OJO0L5gcf20DMww54a'}, 'href': 'https://api.spotify.com/v1/albums/0Bv6OJO0L5gcf20DMww54a', 'id': '0Bv6OJO0L5gcf20DMww54a', 'images': [{'height': 640, 'url': 'https://i.scdn.co/image/ab67616d0000b273e3d69e17dde129037a1f09e2', 'width': 640}, {'height': 300, 'url': 'https://i.scdn.co/image/ab67616d00001e02e3d69e17dde129037a1f09e2', 'width': 300}, {'height': 64, 'url': 'https://i.scdn.co/image/ab67616d00004851e3d69e17dde129037a1f09e2', 'width': 64}], 'name': 'Man I Need', 'release_date': '2025-08-15', 'release_date_precision': 'day', 'total_tracks': 3, 'type': 'album', 'uri': 'spotify:album:0Bv6OJO0L5gcf20DMww54a'}, 'artists': [{'external_urls': {'spotify': 'https://open.spotify.com/artist/00x1fYSGhdqScXBRpSj3DW'}, 'href': 'https://api.spotify.com/v1/artists/00x1fYSGhdqScXBRpSj3DW', 'id': '00x1fYSGhdqScXBRpSj3DW', 'name': 'Olivia Dean', 'type': 'artist', 'uri': 'spotify:artist:00x1fYSGhdqScXBRpSj3DW'}], 'available_markets': ['AR', 'AU', 'AT', 'BE', 'BO', 'BR', 'BG', 'CA', 'CL', 'CO', 'CR', 'CY', 'CZ', 'DK', 'DO', 'DE', 'EC', 'EE', 'SV', 'FI', 'FR', 'GR', 'GT', 'HN', 'HK', 'HU', 'IS', 'IE', 'IT', 'LV', 'LT', 'LU', 'MY', 'MT', 'MX', 'NL', 'NZ', 'NI', 'NO', 'PA', 'PY', 'PE', 'PH', 'PL', 'PT', 'SG', 'SK', 'ES', 'CH', 'TW', 'TR', 'UY', 'US', 'GB', 'AD', 'LI', 'MC', 'ID', 'JP', 'TH', 'VN', 'RO', 'IL', 'ZA', 'SA', 'AE', 'BH', 'QA', 'OM', 'KW', 'EG', 'MA', 'DZ', 'TN', 'LB', 'JO', 'PS', 'IN', 'KZ', 'MD', 'UA', 'AL', 'BA', 'HR', 'ME', 'MK', 'RS', 'SI', 'KR', 'BD', 'PK', 'LK', 'GH', 'KE', 'NG', 'TZ', 'UG', 'AG', 'AM', 'BS', 'BB', 'BZ', 'BT', 'BW', 'BF', 'CV', 'CW', 'DM', 'FJ', 'GM', 'GE', 'GD', 'GW', 'GY', 'HT', 'JM', 'KI', 'LS', 'LR', 'MW', 'MV', 'ML', 'MH', 'FM', 'NA', 'NR', 'NE', 'PW', 'PG', 'WS', 'SM', 'ST', 'SN', 'SC', 'SL', 'SB', 'KN', 'LC', 'VC', 'SR', 'TL', 'TO', 'TT', 'TV', 'VU', 'AZ', 'BN', 'BI', 'KH', 'CM', 'TD', 'KM', 'GQ', 'SZ', 'GA', 'GN', 'KG', 'LA', 'MO', 'MR', 'MN', 'NP', 'RW', 'TG', 'UZ', 'ZW', 'BJ', 'MG', 'MU', 'MZ', 'AO', 'CI', 'DJ', 'ZM', 'CD', 'CG', 'IQ', 'LY', 'TJ', 'VE', 'ET', 'XK'], 'disc_number': 1, 'duration_ms': 184000, 'explicit': False, 'external_ids': {'isrc': 'GBUM72503089'}, 'external_urls': {'spotify': 'https://open.spotify.com/track/1qbmS6ep2hbBRaEZFpn7BX'}, 'href': 'https://api.spotify.com/v1/tracks/1qbmS6ep2hbBRaEZFpn7BX', 'id': '1qbmS6ep2hbBRaEZFpn7BX', 'is_local': False, 'name': 'Man I Need', 'popularity': 95, 'preview_url': None, 'track_number': 1, 'type': 'track', 'uri': 'spotify:track:1qbmS6ep2hbBRaEZFpn7BX'}, 'played_at': '2025-10-20T16:18:33.522Z', 'context': {'external_urls': {'spotify': 'https://open.spotify.com/playlist/37i9dQZF1E8Nfo94C4zTIR'}, 'href': 'https://api.spotify.com/v1/playlists/37i9dQZF1E8Nfo94C4zTIR', 'type': 'playlist', 'uri': 'spotify:playlist:37i9dQZF1E8Nfo94C4zTIR'}}",
         "{'ingested_at': '2025-10-20T16:18:33.522Z', 'execution_date': '2025-10-20T00:00:00+00:00', 'dag_id': 'spotify_raw_ingestion_jsonl', 'run_id': 'manual__2025-10-20T16:18:33.522000Z', 'source': 'spotify_api'}"
        ]
       ],
       "shape": {
        "columns": 2,
        "rows": 1
       }
      },
      "text/html": [
       "<div>\n",
       "<style scoped>\n",
       "    .dataframe tbody tr th:only-of-type {\n",
       "        vertical-align: middle;\n",
       "    }\n",
       "\n",
       "    .dataframe tbody tr th {\n",
       "        vertical-align: top;\n",
       "    }\n",
       "\n",
       "    .dataframe thead th {\n",
       "        text-align: right;\n",
       "    }\n",
       "</style>\n",
       "<table border=\"1\" class=\"dataframe\">\n",
       "  <thead>\n",
       "    <tr style=\"text-align: right;\">\n",
       "      <th></th>\n",
       "      <th>raw_item</th>\n",
       "      <th>_ingestion_metadata</th>\n",
       "    </tr>\n",
       "  </thead>\n",
       "  <tbody>\n",
       "    <tr>\n",
       "      <th>0</th>\n",
       "      <td>{'track': {'album': {'album_type': 'single', '...</td>\n",
       "      <td>{'ingested_at': '2025-10-20T16:18:33.522Z', 'e...</td>\n",
       "    </tr>\n",
       "  </tbody>\n",
       "</table>\n",
       "</div>"
      ],
      "text/plain": [
       "                                            raw_item  \\\n",
       "0  {'track': {'album': {'album_type': 'single', '...   \n",
       "\n",
       "                                 _ingestion_metadata  \n",
       "0  {'ingested_at': '2025-10-20T16:18:33.522Z', 'e...  "
      ]
     },
     "metadata": {},
     "output_type": "display_data"
    }
   ],
   "source": [
    "from src.duckdb_config import explore\n",
    "\n",
    "# Define the S3 path to your JSONL files using a glob pattern\n",
    "s3_path = \"s3://inbound/raw/spotify/api/tracks/*.jsonl.gz\"\n",
    "\n",
    "\n",
    "\n",
    "# DuckDB will infer the newline-delimited format and handle decompression.\n",
    "query = f\"\"\"\n",
    "    SELECT \n",
    "        *\n",
    "    FROM read_json_auto('{s3_path}')\n",
    "    where _ingestion_metadata.run_id like '%manual%'\n",
    "    limit 1\n",
    "\"\"\"\n",
    "# where _ingestion_metadata.run_id not like '%manual%'\n",
    "df_manual = explore(query)\n",
    "\n",
    "# Use itables for interactive display in a notebook\n",
    "display(df_manual)\n"
   ]
  },
  {
   "cell_type": "code",
   "execution_count": 16,
   "id": "c721ee72",
   "metadata": {},
   "outputs": [
    {
     "name": "stdout",
     "output_type": "stream",
     "text": [
      "✓ Loaded extension: httpfs\n",
      "✓ Loaded extension: parquet\n",
      "✓ Configured S3/MinIO: localhost:9000\n"
     ]
    },
    {
     "data": {
      "application/vnd.microsoft.datawrangler.viewer.v0+json": {
       "columns": [
        {
         "name": "index",
         "rawType": "int64",
         "type": "integer"
        },
        {
         "name": "raw_item",
         "rawType": "object",
         "type": "unknown"
        },
        {
         "name": "_ingestion_metadata",
         "rawType": "object",
         "type": "unknown"
        }
       ],
       "ref": "7bfeaece-6299-4148-8abe-dd7a725529f5",
       "rows": [
        [
         "0",
         "{'track': {'album': {'album_type': 'single', 'artists': [{'external_urls': {'spotify': 'https://open.spotify.com/artist/1i1hunPBHEd4w8PVILQjwD'}, 'href': 'https://api.spotify.com/v1/artists/1i1hunPBHEd4w8PVILQjwD', 'id': '1i1hunPBHEd4w8PVILQjwD', 'name': \"Burguess' Beatz\", 'type': 'artist', 'uri': 'spotify:artist:1i1hunPBHEd4w8PVILQjwD'}], 'available_markets': ['AR', 'AU', 'AT', 'BE', 'BO', 'BR', 'BG', 'CA', 'CL', 'CO', 'CR', 'CY', 'CZ', 'DK', 'DO', 'DE', 'EC', 'EE', 'SV', 'FI', 'FR', 'GR', 'GT', 'HN', 'HK', 'HU', 'IS', 'IE', 'IT', 'LV', 'LT', 'LU', 'MY', 'MT', 'MX', 'NL', 'NZ', 'NI', 'NO', 'PA', 'PY', 'PE', 'PH', 'PL', 'PT', 'SG', 'SK', 'ES', 'SE', 'CH', 'TW', 'TR', 'UY', 'US', 'GB', 'AD', 'LI', 'MC', 'ID', 'JP', 'TH', 'VN', 'RO', 'IL', 'ZA', 'SA', 'AE', 'BH', 'QA', 'OM', 'KW', 'EG', 'MA', 'DZ', 'TN', 'LB', 'JO', 'PS', 'IN', 'BY', 'KZ', 'MD', 'UA', 'AL', 'BA', 'HR', 'ME', 'MK', 'RS', 'SI', 'KR', 'BD', 'PK', 'LK', 'GH', 'KE', 'NG', 'TZ', 'UG', 'AG', 'AM', 'BS', 'BB', 'BZ', 'BT', 'BW', 'BF', 'CV', 'CW', 'DM', 'FJ', 'GM', 'GE', 'GD', 'GW', 'GY', 'HT', 'JM', 'KI', 'LS', 'LR', 'MW', 'MV', 'ML', 'MH', 'FM', 'NA', 'NR', 'NE', 'PW', 'PG', 'PR', 'WS', 'SM', 'ST', 'SN', 'SC', 'SL', 'SB', 'KN', 'LC', 'VC', 'SR', 'TL', 'TO', 'TT', 'TV', 'VU', 'AZ', 'BN', 'BI', 'KH', 'CM', 'TD', 'KM', 'GQ', 'SZ', 'GA', 'GN', 'KG', 'LA', 'MO', 'MR', 'MN', 'NP', 'RW', 'TG', 'UZ', 'ZW', 'BJ', 'MG', 'MU', 'MZ', 'AO', 'CI', 'DJ', 'ZM', 'CD', 'CG', 'IQ', 'LY', 'TJ', 'VE', 'ET', 'XK'], 'external_urls': {'spotify': 'https://open.spotify.com/album/1v0jGGutvINFPeAdz3LYdJ'}, 'href': 'https://api.spotify.com/v1/albums/1v0jGGutvINFPeAdz3LYdJ', 'id': '1v0jGGutvINFPeAdz3LYdJ', 'images': [{'height': 640, 'url': 'https://i.scdn.co/image/ab67616d0000b273009384d1f0ee24bb49c70c6b', 'width': 640}, {'height': 300, 'url': 'https://i.scdn.co/image/ab67616d00001e02009384d1f0ee24bb49c70c6b', 'width': 300}, {'height': 64, 'url': 'https://i.scdn.co/image/ab67616d00004851009384d1f0ee24bb49c70c6b', 'width': 64}], 'name': 'catwalk', 'release_date': '2023-11-26', 'release_date_precision': 'day', 'total_tracks': 1, 'type': 'album', 'uri': 'spotify:album:1v0jGGutvINFPeAdz3LYdJ'}, 'artists': [{'external_urls': {'spotify': 'https://open.spotify.com/artist/1i1hunPBHEd4w8PVILQjwD'}, 'href': 'https://api.spotify.com/v1/artists/1i1hunPBHEd4w8PVILQjwD', 'id': '1i1hunPBHEd4w8PVILQjwD', 'name': \"Burguess' Beatz\", 'type': 'artist', 'uri': 'spotify:artist:1i1hunPBHEd4w8PVILQjwD'}], 'available_markets': ['AR', 'AU', 'AT', 'BE', 'BO', 'BR', 'BG', 'CA', 'CL', 'CO', 'CR', 'CY', 'CZ', 'DK', 'DO', 'DE', 'EC', 'EE', 'SV', 'FI', 'FR', 'GR', 'GT', 'HN', 'HK', 'HU', 'IS', 'IE', 'IT', 'LV', 'LT', 'LU', 'MY', 'MT', 'MX', 'NL', 'NZ', 'NI', 'NO', 'PA', 'PY', 'PE', 'PH', 'PL', 'PT', 'SG', 'SK', 'ES', 'SE', 'CH', 'TW', 'TR', 'UY', 'US', 'GB', 'AD', 'LI', 'MC', 'ID', 'JP', 'TH', 'VN', 'RO', 'IL', 'ZA', 'SA', 'AE', 'BH', 'QA', 'OM', 'KW', 'EG', 'MA', 'DZ', 'TN', 'LB', 'JO', 'PS', 'IN', 'BY', 'KZ', 'MD', 'UA', 'AL', 'BA', 'HR', 'ME', 'MK', 'RS', 'SI', 'KR', 'BD', 'PK', 'LK', 'GH', 'KE', 'NG', 'TZ', 'UG', 'AG', 'AM', 'BS', 'BB', 'BZ', 'BT', 'BW', 'BF', 'CV', 'CW', 'DM', 'FJ', 'GM', 'GE', 'GD', 'GW', 'GY', 'HT', 'JM', 'KI', 'LS', 'LR', 'MW', 'MV', 'ML', 'MH', 'FM', 'NA', 'NR', 'NE', 'PW', 'PG', 'PR', 'WS', 'SM', 'ST', 'SN', 'SC', 'SL', 'SB', 'KN', 'LC', 'VC', 'SR', 'TL', 'TO', 'TT', 'TV', 'VU', 'AZ', 'BN', 'BI', 'KH', 'CM', 'TD', 'KM', 'GQ', 'SZ', 'GA', 'GN', 'KG', 'LA', 'MO', 'MR', 'MN', 'NP', 'RW', 'TG', 'UZ', 'ZW', 'BJ', 'MG', 'MU', 'MZ', 'AO', 'CI', 'DJ', 'ZM', 'CD', 'CG', 'IQ', 'LY', 'TJ', 'VE', 'ET', 'XK'], 'disc_number': 1, 'duration_ms': 151708, 'explicit': False, 'external_ids': {'isrc': 'QZAKB2361771'}, 'external_urls': {'spotify': 'https://open.spotify.com/track/1DOEEHMXg2exzfzs2lRts2'}, 'href': 'https://api.spotify.com/v1/tracks/1DOEEHMXg2exzfzs2lRts2', 'id': '1DOEEHMXg2exzfzs2lRts2', 'is_local': False, 'name': 'catwalk', 'popularity': 48, 'preview_url': None, 'track_number': 1, 'type': 'track', 'uri': 'spotify:track:1DOEEHMXg2exzfzs2lRts2'}, 'played_at': '2025-10-26T15:59:07.220Z', 'context': {'external_urls': {'spotify': 'https://open.spotify.com/playlist/37i9dQZF1DWZZbwlv3Vmtr'}, 'href': 'https://api.spotify.com/v1/playlists/37i9dQZF1DWZZbwlv3Vmtr', 'type': 'playlist', 'uri': 'spotify:playlist:37i9dQZF1DWZZbwlv3Vmtr'}}",
         "{'ingested_at': '2025-10-26T16:00:01.562017+00:00', 'execution_date': '2025-10-26T15:45:00+00:00', 'dag_id': 'spotify_raw_ingestion_jsonl', 'run_id': 'scheduled__2025-10-26T15:45:00+00:00', 'source': 'spotify_api'}"
        ]
       ],
       "shape": {
        "columns": 2,
        "rows": 1
       }
      },
      "text/html": [
       "<div>\n",
       "<style scoped>\n",
       "    .dataframe tbody tr th:only-of-type {\n",
       "        vertical-align: middle;\n",
       "    }\n",
       "\n",
       "    .dataframe tbody tr th {\n",
       "        vertical-align: top;\n",
       "    }\n",
       "\n",
       "    .dataframe thead th {\n",
       "        text-align: right;\n",
       "    }\n",
       "</style>\n",
       "<table border=\"1\" class=\"dataframe\">\n",
       "  <thead>\n",
       "    <tr style=\"text-align: right;\">\n",
       "      <th></th>\n",
       "      <th>raw_item</th>\n",
       "      <th>_ingestion_metadata</th>\n",
       "    </tr>\n",
       "  </thead>\n",
       "  <tbody>\n",
       "    <tr>\n",
       "      <th>0</th>\n",
       "      <td>{'track': {'album': {'album_type': 'single', '...</td>\n",
       "      <td>{'ingested_at': '2025-10-26T16:00:01.562017+00...</td>\n",
       "    </tr>\n",
       "  </tbody>\n",
       "</table>\n",
       "</div>"
      ],
      "text/plain": [
       "                                            raw_item  \\\n",
       "0  {'track': {'album': {'album_type': 'single', '...   \n",
       "\n",
       "                                 _ingestion_metadata  \n",
       "0  {'ingested_at': '2025-10-26T16:00:01.562017+00...  "
      ]
     },
     "metadata": {},
     "output_type": "display_data"
    }
   ],
   "source": [
    "from src.duckdb_config import explore\n",
    "\n",
    "# Define the S3 path to your JSONL files using a glob pattern\n",
    "s3_path = \"s3://inbound/raw/spotify/api/tracks/*.jsonl.gz\"\n",
    "\n",
    "\n",
    "\n",
    "# DuckDB will infer the newline-delimited format and handle decompression.\n",
    "query = f\"\"\"\n",
    "    SELECT \n",
    "        *\n",
    "    FROM read_json_auto('{s3_path}')\n",
    "    where _ingestion_metadata.run_id not like '%manual%'\n",
    "    limit 1\n",
    "\"\"\"\n",
    "# where _ingestion_metadata.run_id not like '%manual%'\n",
    "df_schedule = explore(query)\n",
    "\n",
    "# Use itables for interactive display in a notebook\n",
    "display(df_schedule)\n"
   ]
  },
  {
   "cell_type": "code",
   "execution_count": 19,
   "id": "494aae1c",
   "metadata": {},
   "outputs": [
    {
     "name": "stdout",
     "output_type": "stream",
     "text": [
      "✓ Successfully loaded Parquet files into DataFrame.\n"
     ]
    },
    {
     "data": {
      "application/vnd.microsoft.datawrangler.viewer.v0+json": {
       "columns": [
        {
         "name": "index",
         "rawType": "int64",
         "type": "integer"
        },
        {
         "name": "track",
         "rawType": "object",
         "type": "unknown"
        },
        {
         "name": "played_at",
         "rawType": "object",
         "type": "string"
        },
        {
         "name": "context",
         "rawType": "object",
         "type": "unknown"
        },
        {
         "name": "played_at_dt",
         "rawType": "datetime64[us, Etc/UTC]",
         "type": "unknown"
        },
        {
         "name": "played_at_date",
         "rawType": "datetime64[us]",
         "type": "unknown"
        },
        {
         "name": "__index_level_0__",
         "rawType": "int64",
         "type": "integer"
        }
       ],
       "ref": "2524b6f7-aef6-4666-8a82-e06d268b52a0",
       "rows": [
        [
         "0",
         "{'album': {'album_type': 'single', 'artists': [{'external_urls': {'spotify': 'https://open.spotify.com/artist/00x1fYSGhdqScXBRpSj3DW'}, 'href': 'https://api.spotify.com/v1/artists/00x1fYSGhdqScXBRpSj3DW', 'id': '00x1fYSGhdqScXBRpSj3DW', 'name': 'Olivia Dean', 'type': 'artist', 'uri': 'spotify:artist:00x1fYSGhdqScXBRpSj3DW'}], 'available_markets': ['AR', 'AU', 'AT', 'BE', 'BO', 'BR', 'BG', 'CA', 'CL', 'CO', 'CR', 'CY', 'CZ', 'DK', 'DO', 'DE', 'EC', 'EE', 'SV', 'FI', 'FR', 'GR', 'GT', 'HN', 'HK', 'HU', 'IS', 'IE', 'IT', 'LV', 'LT', 'LU', 'MY', 'MT', 'MX', 'NL', 'NZ', 'NI', 'NO', 'PA', 'PY', 'PE', 'PH', 'PL', 'PT', 'SG', 'SK', 'ES', 'CH', 'TW', 'TR', 'UY', 'US', 'GB', 'AD', 'LI', 'MC', 'ID', 'JP', 'TH', 'VN', 'RO', 'IL', 'ZA', 'SA', 'AE', 'BH', 'QA', 'OM', 'KW', 'EG', 'MA', 'DZ', 'TN', 'LB', 'JO', 'PS', 'IN', 'KZ', 'MD', 'UA', 'AL', 'BA', 'HR', 'ME', 'MK', 'RS', 'SI', 'KR', 'BD', 'PK', 'LK', 'GH', 'KE', 'NG', 'TZ', 'UG', 'AG', 'AM', 'BS', 'BB', 'BZ', 'BT', 'BW', 'BF', 'CV', 'CW', 'DM', 'FJ', 'GM', 'GE', 'GD', 'GW', 'GY', 'HT', 'JM', 'KI', 'LS', 'LR', 'MW', 'MV', 'ML', 'MH', 'FM', 'NA', 'NR', 'NE', 'PW', 'PG', 'WS', 'SM', 'ST', 'SN', 'SC', 'SL', 'SB', 'KN', 'LC', 'VC', 'SR', 'TL', 'TO', 'TT', 'TV', 'VU', 'AZ', 'BN', 'BI', 'KH', 'CM', 'TD', 'KM', 'GQ', 'SZ', 'GA', 'GN', 'KG', 'LA', 'MO', 'MR', 'MN', 'NP', 'RW', 'TG', 'UZ', 'ZW', 'BJ', 'MG', 'MU', 'MZ', 'AO', 'CI', 'DJ', 'ZM', 'CD', 'CG', 'IQ', 'LY', 'TJ', 'VE', 'ET', 'XK'], 'external_urls': {'spotify': 'https://open.spotify.com/album/0Bv6OJO0L5gcf20DMww54a'}, 'href': 'https://api.spotify.com/v1/albums/0Bv6OJO0L5gcf20DMww54a', 'id': '0Bv6OJO0L5gcf20DMww54a', 'images': [{'height': 640, 'url': 'https://i.scdn.co/image/ab67616d0000b273e3d69e17dde129037a1f09e2', 'width': 640}, {'height': 300, 'url': 'https://i.scdn.co/image/ab67616d00001e02e3d69e17dde129037a1f09e2', 'width': 300}, {'height': 64, 'url': 'https://i.scdn.co/image/ab67616d00004851e3d69e17dde129037a1f09e2', 'width': 64}], 'name': 'Man I Need', 'release_date': '2025-08-15', 'release_date_precision': 'day', 'total_tracks': 3, 'type': 'album', 'uri': 'spotify:album:0Bv6OJO0L5gcf20DMww54a'}, 'artists': [{'external_urls': {'spotify': 'https://open.spotify.com/artist/00x1fYSGhdqScXBRpSj3DW'}, 'href': 'https://api.spotify.com/v1/artists/00x1fYSGhdqScXBRpSj3DW', 'id': '00x1fYSGhdqScXBRpSj3DW', 'name': 'Olivia Dean', 'type': 'artist', 'uri': 'spotify:artist:00x1fYSGhdqScXBRpSj3DW'}], 'available_markets': ['AR', 'AU', 'AT', 'BE', 'BO', 'BR', 'BG', 'CA', 'CL', 'CO', 'CR', 'CY', 'CZ', 'DK', 'DO', 'DE', 'EC', 'EE', 'SV', 'FI', 'FR', 'GR', 'GT', 'HN', 'HK', 'HU', 'IS', 'IE', 'IT', 'LV', 'LT', 'LU', 'MY', 'MT', 'MX', 'NL', 'NZ', 'NI', 'NO', 'PA', 'PY', 'PE', 'PH', 'PL', 'PT', 'SG', 'SK', 'ES', 'CH', 'TW', 'TR', 'UY', 'US', 'GB', 'AD', 'LI', 'MC', 'ID', 'JP', 'TH', 'VN', 'RO', 'IL', 'ZA', 'SA', 'AE', 'BH', 'QA', 'OM', 'KW', 'EG', 'MA', 'DZ', 'TN', 'LB', 'JO', 'PS', 'IN', 'KZ', 'MD', 'UA', 'AL', 'BA', 'HR', 'ME', 'MK', 'RS', 'SI', 'KR', 'BD', 'PK', 'LK', 'GH', 'KE', 'NG', 'TZ', 'UG', 'AG', 'AM', 'BS', 'BB', 'BZ', 'BT', 'BW', 'BF', 'CV', 'CW', 'DM', 'FJ', 'GM', 'GE', 'GD', 'GW', 'GY', 'HT', 'JM', 'KI', 'LS', 'LR', 'MW', 'MV', 'ML', 'MH', 'FM', 'NA', 'NR', 'NE', 'PW', 'PG', 'WS', 'SM', 'ST', 'SN', 'SC', 'SL', 'SB', 'KN', 'LC', 'VC', 'SR', 'TL', 'TO', 'TT', 'TV', 'VU', 'AZ', 'BN', 'BI', 'KH', 'CM', 'TD', 'KM', 'GQ', 'SZ', 'GA', 'GN', 'KG', 'LA', 'MO', 'MR', 'MN', 'NP', 'RW', 'TG', 'UZ', 'ZW', 'BJ', 'MG', 'MU', 'MZ', 'AO', 'CI', 'DJ', 'ZM', 'CD', 'CG', 'IQ', 'LY', 'TJ', 'VE', 'ET', 'XK'], 'disc_number': 1, 'duration_ms': 184000, 'explicit': False, 'external_ids': {'isrc': 'GBUM72503089'}, 'external_urls': {'spotify': 'https://open.spotify.com/track/1qbmS6ep2hbBRaEZFpn7BX'}, 'href': 'https://api.spotify.com/v1/tracks/1qbmS6ep2hbBRaEZFpn7BX', 'id': '1qbmS6ep2hbBRaEZFpn7BX', 'is_local': False, 'name': 'Man I Need', 'popularity': 95, 'preview_url': None, 'track_number': 1, 'type': 'track', 'uri': 'spotify:track:1qbmS6ep2hbBRaEZFpn7BX'}",
         "2025-10-20T16:18:33.522Z",
         "{'external_urls': {'spotify': 'https://open.spotify.com/playlist/37i9dQZF1E8Nfo94C4zTIR'}, 'href': 'https://api.spotify.com/v1/playlists/37i9dQZF1E8Nfo94C4zTIR', 'type': 'playlist', 'uri': 'spotify:playlist:37i9dQZF1E8Nfo94C4zTIR'}",
         "2025-10-20 16:18:33.522000+00:00",
         "2025-10-20 00:00:00",
         "34"
        ],
        [
         "1",
         "{'album': {'album_type': 'album', 'artists': [{'external_urls': {'spotify': 'https://open.spotify.com/artist/2lVC2nWo4KJE4p6EySdfkL'}, 'href': 'https://api.spotify.com/v1/artists/2lVC2nWo4KJE4p6EySdfkL', 'id': '2lVC2nWo4KJE4p6EySdfkL', 'name': 'Toco', 'type': 'artist', 'uri': 'spotify:artist:2lVC2nWo4KJE4p6EySdfkL'}], 'available_markets': ['AR', 'AU', 'AT', 'BE', 'BO', 'BR', 'BG', 'CA', 'CL', 'CO', 'CR', 'CY', 'CZ', 'DK', 'DO', 'DE', 'EC', 'EE', 'SV', 'FI', 'FR', 'GR', 'GT', 'HN', 'HK', 'HU', 'IS', 'IE', 'IT', 'LV', 'LT', 'LU', 'MY', 'MT', 'MX', 'NL', 'NZ', 'NI', 'NO', 'PA', 'PY', 'PE', 'PH', 'PL', 'PT', 'SG', 'SK', 'ES', 'SE', 'CH', 'TW', 'TR', 'UY', 'US', 'GB', 'AD', 'LI', 'MC', 'ID', 'JP', 'TH', 'VN', 'RO', 'IL', 'ZA', 'SA', 'AE', 'BH', 'QA', 'OM', 'KW', 'EG', 'MA', 'DZ', 'TN', 'LB', 'JO', 'PS', 'IN', 'BY', 'KZ', 'MD', 'UA', 'AL', 'BA', 'HR', 'ME', 'MK', 'RS', 'SI', 'KR', 'BD', 'PK', 'LK', 'GH', 'KE', 'NG', 'TZ', 'UG', 'AG', 'AM', 'BS', 'BB', 'BZ', 'BT', 'BW', 'BF', 'CV', 'CW', 'DM', 'FJ', 'GM', 'GE', 'GD', 'GW', 'GY', 'HT', 'JM', 'KI', 'LS', 'LR', 'MW', 'MV', 'ML', 'MH', 'FM', 'NA', 'NR', 'NE', 'PW', 'PG', 'PR', 'WS', 'SM', 'ST', 'SN', 'SC', 'SL', 'SB', 'KN', 'LC', 'VC', 'SR', 'TL', 'TO', 'TT', 'TV', 'VU', 'AZ', 'BN', 'BI', 'KH', 'CM', 'TD', 'KM', 'GQ', 'SZ', 'GA', 'GN', 'KG', 'LA', 'MO', 'MR', 'MN', 'NP', 'RW', 'TG', 'UZ', 'ZW', 'BJ', 'MG', 'MU', 'MZ', 'AO', 'CI', 'DJ', 'ZM', 'CD', 'CG', 'IQ', 'LY', 'TJ', 'VE', 'ET', 'XK'], 'external_urls': {'spotify': 'https://open.spotify.com/album/53WnDiMAKdL0Lwfz6ckxvx'}, 'href': 'https://api.spotify.com/v1/albums/53WnDiMAKdL0Lwfz6ckxvx', 'id': '53WnDiMAKdL0Lwfz6ckxvx', 'images': [{'height': 640, 'url': 'https://i.scdn.co/image/ab67616d0000b273487cf157c88f06f786b263f3', 'width': 640}, {'height': 300, 'url': 'https://i.scdn.co/image/ab67616d00001e02487cf157c88f06f786b263f3', 'width': 300}, {'height': 64, 'url': 'https://i.scdn.co/image/ab67616d00004851487cf157c88f06f786b263f3', 'width': 64}], 'name': 'Outro Lugar', 'release_date': '2007-06-19', 'release_date_precision': 'day', 'total_tracks': 12, 'type': 'album', 'uri': 'spotify:album:53WnDiMAKdL0Lwfz6ckxvx'}, 'artists': [{'external_urls': {'spotify': 'https://open.spotify.com/artist/2lVC2nWo4KJE4p6EySdfkL'}, 'href': 'https://api.spotify.com/v1/artists/2lVC2nWo4KJE4p6EySdfkL', 'id': '2lVC2nWo4KJE4p6EySdfkL', 'name': 'Toco', 'type': 'artist', 'uri': 'spotify:artist:2lVC2nWo4KJE4p6EySdfkL'}], 'available_markets': ['AR', 'AU', 'AT', 'BE', 'BO', 'BR', 'BG', 'CA', 'CL', 'CO', 'CR', 'CY', 'CZ', 'DK', 'DO', 'DE', 'EC', 'EE', 'SV', 'FI', 'FR', 'GR', 'GT', 'HN', 'HK', 'HU', 'IS', 'IE', 'IT', 'LV', 'LT', 'LU', 'MY', 'MT', 'MX', 'NL', 'NZ', 'NI', 'NO', 'PA', 'PY', 'PE', 'PH', 'PL', 'PT', 'SG', 'SK', 'ES', 'SE', 'CH', 'TW', 'TR', 'UY', 'US', 'GB', 'AD', 'LI', 'MC', 'ID', 'JP', 'TH', 'VN', 'RO', 'IL', 'ZA', 'SA', 'AE', 'BH', 'QA', 'OM', 'KW', 'EG', 'MA', 'DZ', 'TN', 'LB', 'JO', 'PS', 'IN', 'BY', 'KZ', 'MD', 'UA', 'AL', 'BA', 'HR', 'ME', 'MK', 'RS', 'SI', 'KR', 'BD', 'PK', 'LK', 'GH', 'KE', 'NG', 'TZ', 'UG', 'AG', 'AM', 'BS', 'BB', 'BZ', 'BT', 'BW', 'BF', 'CV', 'CW', 'DM', 'FJ', 'GM', 'GE', 'GD', 'GW', 'GY', 'HT', 'JM', 'KI', 'LS', 'LR', 'MW', 'MV', 'ML', 'MH', 'FM', 'NA', 'NR', 'NE', 'PW', 'PG', 'PR', 'WS', 'SM', 'ST', 'SN', 'SC', 'SL', 'SB', 'KN', 'LC', 'VC', 'SR', 'TL', 'TO', 'TT', 'TV', 'VU', 'AZ', 'BN', 'BI', 'KH', 'CM', 'TD', 'KM', 'GQ', 'SZ', 'GA', 'GN', 'KG', 'LA', 'MO', 'MR', 'MN', 'NP', 'RW', 'TG', 'UZ', 'ZW', 'BJ', 'MG', 'MU', 'MZ', 'AO', 'CI', 'DJ', 'ZM', 'CD', 'CG', 'IQ', 'LY', 'TJ', 'VE', 'ET', 'XK'], 'disc_number': 1, 'duration_ms': 201375, 'explicit': False, 'external_ids': {'isrc': 'ITO0P0601313'}, 'external_urls': {'spotify': 'https://open.spotify.com/track/11NkxJtowfjaJksJbjYAS0'}, 'href': 'https://api.spotify.com/v1/tracks/11NkxJtowfjaJksJbjYAS0', 'id': '11NkxJtowfjaJksJbjYAS0', 'is_local': False, 'name': 'Outro Lugar', 'popularity': 58, 'preview_url': None, 'track_number': 1, 'type': 'track', 'uri': 'spotify:track:11NkxJtowfjaJksJbjYAS0'}",
         "2025-10-20T16:15:32.878Z",
         "{'external_urls': {'spotify': 'https://open.spotify.com/playlist/37i9dQZF1E8Nfo94C4zTIR'}, 'href': 'https://api.spotify.com/v1/playlists/37i9dQZF1E8Nfo94C4zTIR', 'type': 'playlist', 'uri': 'spotify:playlist:37i9dQZF1E8Nfo94C4zTIR'}",
         "2025-10-20 16:15:32.878000+00:00",
         "2025-10-20 00:00:00",
         "35"
        ],
        [
         "2",
         "{'album': {'album_type': 'single', 'artists': [{'external_urls': {'spotify': 'https://open.spotify.com/artist/64QDqXMHjg0lUoGbXSCX2R'}, 'href': 'https://api.spotify.com/v1/artists/64QDqXMHjg0lUoGbXSCX2R', 'id': '64QDqXMHjg0lUoGbXSCX2R', 'name': 'Pedro Mizutani', 'type': 'artist', 'uri': 'spotify:artist:64QDqXMHjg0lUoGbXSCX2R'}, {'external_urls': {'spotify': 'https://open.spotify.com/artist/1itM5tXaK5THggpXA7ovAe'}, 'href': 'https://api.spotify.com/v1/artists/1itM5tXaK5THggpXA7ovAe', 'id': '1itM5tXaK5THggpXA7ovAe', 'name': 'Skinshape', 'type': 'artist', 'uri': 'spotify:artist:1itM5tXaK5THggpXA7ovAe'}], 'available_markets': ['AR', 'AU', 'AT', 'BE', 'BO', 'BR', 'BG', 'CA', 'CL', 'CO', 'CR', 'CY', 'CZ', 'DK', 'DO', 'DE', 'EC', 'EE', 'SV', 'FI', 'FR', 'GR', 'GT', 'HN', 'HK', 'HU', 'IS', 'IE', 'IT', 'LV', 'LT', 'LU', 'MY', 'MT', 'MX', 'NL', 'NZ', 'NI', 'NO', 'PA', 'PY', 'PE', 'PH', 'PL', 'PT', 'SG', 'SK', 'ES', 'SE', 'CH', 'TW', 'TR', 'UY', 'US', 'GB', 'AD', 'LI', 'MC', 'ID', 'JP', 'TH', 'VN', 'RO', 'IL', 'ZA', 'SA', 'AE', 'BH', 'QA', 'OM', 'KW', 'EG', 'MA', 'DZ', 'TN', 'LB', 'JO', 'PS', 'IN', 'BY', 'KZ', 'MD', 'UA', 'AL', 'BA', 'HR', 'ME', 'MK', 'RS', 'SI', 'KR', 'BD', 'PK', 'LK', 'GH', 'KE', 'NG', 'TZ', 'UG', 'AG', 'AM', 'BS', 'BB', 'BZ', 'BT', 'BW', 'BF', 'CV', 'CW', 'DM', 'FJ', 'GM', 'GE', 'GD', 'GW', 'GY', 'HT', 'JM', 'KI', 'LS', 'LR', 'MW', 'MV', 'ML', 'MH', 'FM', 'NA', 'NR', 'NE', 'PW', 'PG', 'PR', 'WS', 'SM', 'ST', 'SN', 'SC', 'SL', 'SB', 'KN', 'LC', 'VC', 'SR', 'TL', 'TO', 'TT', 'TV', 'VU', 'AZ', 'BN', 'BI', 'KH', 'CM', 'TD', 'KM', 'GQ', 'SZ', 'GA', 'GN', 'KG', 'LA', 'MO', 'MR', 'MN', 'NP', 'RW', 'TG', 'UZ', 'ZW', 'BJ', 'MG', 'MU', 'MZ', 'AO', 'CI', 'DJ', 'ZM', 'CD', 'CG', 'IQ', 'LY', 'TJ', 'VE', 'ET', 'XK'], 'external_urls': {'spotify': 'https://open.spotify.com/album/2MTGHJa1rMcvwpcMWeTD8g'}, 'href': 'https://api.spotify.com/v1/albums/2MTGHJa1rMcvwpcMWeTD8g', 'id': '2MTGHJa1rMcvwpcMWeTD8g', 'images': [{'height': 640, 'url': 'https://i.scdn.co/image/ab67616d0000b2736c2645696e6efbb541e8bd71', 'width': 640}, {'height': 300, 'url': 'https://i.scdn.co/image/ab67616d00001e026c2645696e6efbb541e8bd71', 'width': 300}, {'height': 64, 'url': 'https://i.scdn.co/image/ab67616d000048516c2645696e6efbb541e8bd71', 'width': 64}], 'name': 'Eu Pensei', 'release_date': '2024-05-02', 'release_date_precision': 'day', 'total_tracks': 1, 'type': 'album', 'uri': 'spotify:album:2MTGHJa1rMcvwpcMWeTD8g'}, 'artists': [{'external_urls': {'spotify': 'https://open.spotify.com/artist/64QDqXMHjg0lUoGbXSCX2R'}, 'href': 'https://api.spotify.com/v1/artists/64QDqXMHjg0lUoGbXSCX2R', 'id': '64QDqXMHjg0lUoGbXSCX2R', 'name': 'Pedro Mizutani', 'type': 'artist', 'uri': 'spotify:artist:64QDqXMHjg0lUoGbXSCX2R'}, {'external_urls': {'spotify': 'https://open.spotify.com/artist/1itM5tXaK5THggpXA7ovAe'}, 'href': 'https://api.spotify.com/v1/artists/1itM5tXaK5THggpXA7ovAe', 'id': '1itM5tXaK5THggpXA7ovAe', 'name': 'Skinshape', 'type': 'artist', 'uri': 'spotify:artist:1itM5tXaK5THggpXA7ovAe'}], 'available_markets': ['AR', 'AU', 'AT', 'BE', 'BO', 'BR', 'BG', 'CA', 'CL', 'CO', 'CR', 'CY', 'CZ', 'DK', 'DO', 'DE', 'EC', 'EE', 'SV', 'FI', 'FR', 'GR', 'GT', 'HN', 'HK', 'HU', 'IS', 'IE', 'IT', 'LV', 'LT', 'LU', 'MY', 'MT', 'MX', 'NL', 'NZ', 'NI', 'NO', 'PA', 'PY', 'PE', 'PH', 'PL', 'PT', 'SG', 'SK', 'ES', 'SE', 'CH', 'TW', 'TR', 'UY', 'US', 'GB', 'AD', 'LI', 'MC', 'ID', 'JP', 'TH', 'VN', 'RO', 'IL', 'ZA', 'SA', 'AE', 'BH', 'QA', 'OM', 'KW', 'EG', 'MA', 'DZ', 'TN', 'LB', 'JO', 'PS', 'IN', 'BY', 'KZ', 'MD', 'UA', 'AL', 'BA', 'HR', 'ME', 'MK', 'RS', 'SI', 'KR', 'BD', 'PK', 'LK', 'GH', 'KE', 'NG', 'TZ', 'UG', 'AG', 'AM', 'BS', 'BB', 'BZ', 'BT', 'BW', 'BF', 'CV', 'CW', 'DM', 'FJ', 'GM', 'GE', 'GD', 'GW', 'GY', 'HT', 'JM', 'KI', 'LS', 'LR', 'MW', 'MV', 'ML', 'MH', 'FM', 'NA', 'NR', 'NE', 'PW', 'PG', 'PR', 'WS', 'SM', 'ST', 'SN', 'SC', 'SL', 'SB', 'KN', 'LC', 'VC', 'SR', 'TL', 'TO', 'TT', 'TV', 'VU', 'AZ', 'BN', 'BI', 'KH', 'CM', 'TD', 'KM', 'GQ', 'SZ', 'GA', 'GN', 'KG', 'LA', 'MO', 'MR', 'MN', 'NP', 'RW', 'TG', 'UZ', 'ZW', 'BJ', 'MG', 'MU', 'MZ', 'AO', 'CI', 'DJ', 'ZM', 'CD', 'CG', 'IQ', 'LY', 'TJ', 'VE', 'ET', 'XK'], 'disc_number': 1, 'duration_ms': 132760, 'explicit': False, 'external_ids': {'isrc': 'FR9Z62400072'}, 'external_urls': {'spotify': 'https://open.spotify.com/track/0OUQ1NJxeDkAEt7LHTFiel'}, 'href': 'https://api.spotify.com/v1/tracks/0OUQ1NJxeDkAEt7LHTFiel', 'id': '0OUQ1NJxeDkAEt7LHTFiel', 'is_local': False, 'name': 'Eu Pensei', 'popularity': 61, 'preview_url': None, 'track_number': 1, 'type': 'track', 'uri': 'spotify:track:0OUQ1NJxeDkAEt7LHTFiel'}",
         "2025-10-20T16:12:17.379Z",
         "{'external_urls': {'spotify': 'https://open.spotify.com/playlist/37i9dQZF1E8Nfo94C4zTIR'}, 'href': 'https://api.spotify.com/v1/playlists/37i9dQZF1E8Nfo94C4zTIR', 'type': 'playlist', 'uri': 'spotify:playlist:37i9dQZF1E8Nfo94C4zTIR'}",
         "2025-10-20 16:12:17.379000+00:00",
         "2025-10-20 00:00:00",
         "36"
        ],
        [
         "3",
         "{'album': {'album_type': 'single', 'artists': [{'external_urls': {'spotify': 'https://open.spotify.com/artist/64QDqXMHjg0lUoGbXSCX2R'}, 'href': 'https://api.spotify.com/v1/artists/64QDqXMHjg0lUoGbXSCX2R', 'id': '64QDqXMHjg0lUoGbXSCX2R', 'name': 'Pedro Mizutani', 'type': 'artist', 'uri': 'spotify:artist:64QDqXMHjg0lUoGbXSCX2R'}, {'external_urls': {'spotify': 'https://open.spotify.com/artist/1itM5tXaK5THggpXA7ovAe'}, 'href': 'https://api.spotify.com/v1/artists/1itM5tXaK5THggpXA7ovAe', 'id': '1itM5tXaK5THggpXA7ovAe', 'name': 'Skinshape', 'type': 'artist', 'uri': 'spotify:artist:1itM5tXaK5THggpXA7ovAe'}], 'available_markets': ['AR', 'AU', 'AT', 'BE', 'BO', 'BR', 'BG', 'CA', 'CL', 'CO', 'CR', 'CY', 'CZ', 'DK', 'DO', 'DE', 'EC', 'EE', 'SV', 'FI', 'FR', 'GR', 'GT', 'HN', 'HK', 'HU', 'IS', 'IE', 'IT', 'LV', 'LT', 'LU', 'MY', 'MT', 'MX', 'NL', 'NZ', 'NI', 'NO', 'PA', 'PY', 'PE', 'PH', 'PL', 'PT', 'SG', 'SK', 'ES', 'SE', 'CH', 'TW', 'TR', 'UY', 'US', 'GB', 'AD', 'LI', 'MC', 'ID', 'JP', 'TH', 'VN', 'RO', 'IL', 'ZA', 'SA', 'AE', 'BH', 'QA', 'OM', 'KW', 'EG', 'MA', 'DZ', 'TN', 'LB', 'JO', 'PS', 'IN', 'BY', 'KZ', 'MD', 'UA', 'AL', 'BA', 'HR', 'ME', 'MK', 'RS', 'SI', 'KR', 'BD', 'PK', 'LK', 'GH', 'KE', 'NG', 'TZ', 'UG', 'AG', 'AM', 'BS', 'BB', 'BZ', 'BT', 'BW', 'BF', 'CV', 'CW', 'DM', 'FJ', 'GM', 'GE', 'GD', 'GW', 'GY', 'HT', 'JM', 'KI', 'LS', 'LR', 'MW', 'MV', 'ML', 'MH', 'FM', 'NA', 'NR', 'NE', 'PW', 'PG', 'PR', 'WS', 'SM', 'ST', 'SN', 'SC', 'SL', 'SB', 'KN', 'LC', 'VC', 'SR', 'TL', 'TO', 'TT', 'TV', 'VU', 'AZ', 'BN', 'BI', 'KH', 'CM', 'TD', 'KM', 'GQ', 'SZ', 'GA', 'GN', 'KG', 'LA', 'MO', 'MR', 'MN', 'NP', 'RW', 'TG', 'UZ', 'ZW', 'BJ', 'MG', 'MU', 'MZ', 'AO', 'CI', 'DJ', 'ZM', 'CD', 'CG', 'IQ', 'LY', 'TJ', 'VE', 'ET', 'XK'], 'external_urls': {'spotify': 'https://open.spotify.com/album/2MTGHJa1rMcvwpcMWeTD8g'}, 'href': 'https://api.spotify.com/v1/albums/2MTGHJa1rMcvwpcMWeTD8g', 'id': '2MTGHJa1rMcvwpcMWeTD8g', 'images': [{'height': 640, 'url': 'https://i.scdn.co/image/ab67616d0000b2736c2645696e6efbb541e8bd71', 'width': 640}, {'height': 300, 'url': 'https://i.scdn.co/image/ab67616d00001e026c2645696e6efbb541e8bd71', 'width': 300}, {'height': 64, 'url': 'https://i.scdn.co/image/ab67616d000048516c2645696e6efbb541e8bd71', 'width': 64}], 'name': 'Eu Pensei', 'release_date': '2024-05-02', 'release_date_precision': 'day', 'total_tracks': 1, 'type': 'album', 'uri': 'spotify:album:2MTGHJa1rMcvwpcMWeTD8g'}, 'artists': [{'external_urls': {'spotify': 'https://open.spotify.com/artist/64QDqXMHjg0lUoGbXSCX2R'}, 'href': 'https://api.spotify.com/v1/artists/64QDqXMHjg0lUoGbXSCX2R', 'id': '64QDqXMHjg0lUoGbXSCX2R', 'name': 'Pedro Mizutani', 'type': 'artist', 'uri': 'spotify:artist:64QDqXMHjg0lUoGbXSCX2R'}, {'external_urls': {'spotify': 'https://open.spotify.com/artist/1itM5tXaK5THggpXA7ovAe'}, 'href': 'https://api.spotify.com/v1/artists/1itM5tXaK5THggpXA7ovAe', 'id': '1itM5tXaK5THggpXA7ovAe', 'name': 'Skinshape', 'type': 'artist', 'uri': 'spotify:artist:1itM5tXaK5THggpXA7ovAe'}], 'available_markets': ['AR', 'AU', 'AT', 'BE', 'BO', 'BR', 'BG', 'CA', 'CL', 'CO', 'CR', 'CY', 'CZ', 'DK', 'DO', 'DE', 'EC', 'EE', 'SV', 'FI', 'FR', 'GR', 'GT', 'HN', 'HK', 'HU', 'IS', 'IE', 'IT', 'LV', 'LT', 'LU', 'MY', 'MT', 'MX', 'NL', 'NZ', 'NI', 'NO', 'PA', 'PY', 'PE', 'PH', 'PL', 'PT', 'SG', 'SK', 'ES', 'SE', 'CH', 'TW', 'TR', 'UY', 'US', 'GB', 'AD', 'LI', 'MC', 'ID', 'JP', 'TH', 'VN', 'RO', 'IL', 'ZA', 'SA', 'AE', 'BH', 'QA', 'OM', 'KW', 'EG', 'MA', 'DZ', 'TN', 'LB', 'JO', 'PS', 'IN', 'BY', 'KZ', 'MD', 'UA', 'AL', 'BA', 'HR', 'ME', 'MK', 'RS', 'SI', 'KR', 'BD', 'PK', 'LK', 'GH', 'KE', 'NG', 'TZ', 'UG', 'AG', 'AM', 'BS', 'BB', 'BZ', 'BT', 'BW', 'BF', 'CV', 'CW', 'DM', 'FJ', 'GM', 'GE', 'GD', 'GW', 'GY', 'HT', 'JM', 'KI', 'LS', 'LR', 'MW', 'MV', 'ML', 'MH', 'FM', 'NA', 'NR', 'NE', 'PW', 'PG', 'PR', 'WS', 'SM', 'ST', 'SN', 'SC', 'SL', 'SB', 'KN', 'LC', 'VC', 'SR', 'TL', 'TO', 'TT', 'TV', 'VU', 'AZ', 'BN', 'BI', 'KH', 'CM', 'TD', 'KM', 'GQ', 'SZ', 'GA', 'GN', 'KG', 'LA', 'MO', 'MR', 'MN', 'NP', 'RW', 'TG', 'UZ', 'ZW', 'BJ', 'MG', 'MU', 'MZ', 'AO', 'CI', 'DJ', 'ZM', 'CD', 'CG', 'IQ', 'LY', 'TJ', 'VE', 'ET', 'XK'], 'disc_number': 1, 'duration_ms': 132760, 'explicit': False, 'external_ids': {'isrc': 'FR9Z62400072'}, 'external_urls': {'spotify': 'https://open.spotify.com/track/0OUQ1NJxeDkAEt7LHTFiel'}, 'href': 'https://api.spotify.com/v1/tracks/0OUQ1NJxeDkAEt7LHTFiel', 'id': '0OUQ1NJxeDkAEt7LHTFiel', 'is_local': False, 'name': 'Eu Pensei', 'popularity': 61, 'preview_url': None, 'track_number': 1, 'type': 'track', 'uri': 'spotify:track:0OUQ1NJxeDkAEt7LHTFiel'}",
         "2025-10-20T16:10:27.851Z",
         "{'external_urls': {'spotify': 'https://open.spotify.com/playlist/37i9dQZF1E8Nfo94C4zTIR'}, 'href': 'https://api.spotify.com/v1/playlists/37i9dQZF1E8Nfo94C4zTIR', 'type': 'playlist', 'uri': 'spotify:playlist:37i9dQZF1E8Nfo94C4zTIR'}",
         "2025-10-20 16:10:27.851000+00:00",
         "2025-10-20 00:00:00",
         "37"
        ],
        [
         "4",
         "{'album': {'album_type': 'single', 'artists': [{'external_urls': {'spotify': 'https://open.spotify.com/artist/3atKv6SXjq5GuOgSj6T7Qu'}, 'href': 'https://api.spotify.com/v1/artists/3atKv6SXjq5GuOgSj6T7Qu', 'id': '3atKv6SXjq5GuOgSj6T7Qu', 'name': 'Taylan', 'type': 'artist', 'uri': 'spotify:artist:3atKv6SXjq5GuOgSj6T7Qu'}, {'external_urls': {'spotify': 'https://open.spotify.com/artist/0OVOH98bZTn0lsdL7MclGw'}, 'href': 'https://api.spotify.com/v1/artists/0OVOH98bZTn0lsdL7MclGw', 'id': '0OVOH98bZTn0lsdL7MclGw', 'name': 'Agnes Nunes', 'type': 'artist', 'uri': 'spotify:artist:0OVOH98bZTn0lsdL7MclGw'}, {'external_urls': {'spotify': 'https://open.spotify.com/artist/60oAQJsBmykZP3GwjbSL6S'}, 'href': 'https://api.spotify.com/v1/artists/60oAQJsBmykZP3GwjbSL6S', 'id': '60oAQJsBmykZP3GwjbSL6S', 'name': 'Mariana Froes', 'type': 'artist', 'uri': 'spotify:artist:60oAQJsBmykZP3GwjbSL6S'}, {'external_urls': {'spotify': 'https://open.spotify.com/artist/2450WxbFxHjnttFAv31zGk'}, 'href': 'https://api.spotify.com/v1/artists/2450WxbFxHjnttFAv31zGk', 'id': '2450WxbFxHjnttFAv31zGk', 'name': 'Bagua Records', 'type': 'artist', 'uri': 'spotify:artist:2450WxbFxHjnttFAv31zGk'}], 'available_markets': ['AR', 'AU', 'AT', 'BE', 'BO', 'BR', 'BG', 'CA', 'CL', 'CO', 'CR', 'CY', 'CZ', 'DK', 'DO', 'DE', 'EC', 'EE', 'SV', 'FI', 'FR', 'GR', 'GT', 'HN', 'HK', 'HU', 'IS', 'IE', 'IT', 'LV', 'LT', 'LU', 'MY', 'MT', 'MX', 'NL', 'NZ', 'NI', 'NO', 'PA', 'PY', 'PE', 'PH', 'PL', 'PT', 'SG', 'SK', 'ES', 'SE', 'CH', 'TW', 'TR', 'UY', 'US', 'GB', 'AD', 'LI', 'MC', 'ID', 'JP', 'TH', 'VN', 'RO', 'IL', 'ZA', 'SA', 'AE', 'BH', 'QA', 'OM', 'KW', 'EG', 'MA', 'DZ', 'TN', 'LB', 'JO', 'PS', 'IN', 'BY', 'KZ', 'MD', 'UA', 'AL', 'BA', 'HR', 'ME', 'MK', 'RS', 'SI', 'KR', 'BD', 'PK', 'LK', 'GH', 'KE', 'NG', 'TZ', 'UG', 'AG', 'AM', 'BS', 'BB', 'BZ', 'BT', 'BW', 'BF', 'CV', 'CW', 'DM', 'FJ', 'GM', 'GE', 'GD', 'GW', 'GY', 'HT', 'JM', 'KI', 'LS', 'LR', 'MW', 'MV', 'ML', 'MH', 'FM', 'NA', 'NR', 'NE', 'PW', 'PG', 'PR', 'WS', 'SM', 'ST', 'SN', 'SC', 'SL', 'SB', 'KN', 'LC', 'VC', 'SR', 'TL', 'TO', 'TT', 'TV', 'VU', 'AZ', 'BN', 'BI', 'KH', 'CM', 'TD', 'KM', 'GQ', 'SZ', 'GA', 'GN', 'KG', 'LA', 'MO', 'MR', 'MN', 'NP', 'RW', 'TG', 'UZ', 'ZW', 'BJ', 'MG', 'MU', 'MZ', 'AO', 'CI', 'DJ', 'ZM', 'CD', 'CG', 'IQ', 'LY', 'TJ', 'VE', 'ET', 'XK'], 'external_urls': {'spotify': 'https://open.spotify.com/album/3UV0SeJ77GDPmUwnPAEAl3'}, 'href': 'https://api.spotify.com/v1/albums/3UV0SeJ77GDPmUwnPAEAl3', 'id': '3UV0SeJ77GDPmUwnPAEAl3', 'images': [{'height': 640, 'url': 'https://i.scdn.co/image/ab67616d0000b27347b77c6d6b7900b06113b42a', 'width': 640}, {'height': 300, 'url': 'https://i.scdn.co/image/ab67616d00001e0247b77c6d6b7900b06113b42a', 'width': 300}, {'height': 64, 'url': 'https://i.scdn.co/image/ab67616d0000485147b77c6d6b7900b06113b42a', 'width': 64}], 'name': 'Tudo Passa', 'release_date': '2024-02-29', 'release_date_precision': 'day', 'total_tracks': 4, 'type': 'album', 'uri': 'spotify:album:3UV0SeJ77GDPmUwnPAEAl3'}, 'artists': [{'external_urls': {'spotify': 'https://open.spotify.com/artist/2450WxbFxHjnttFAv31zGk'}, 'href': 'https://api.spotify.com/v1/artists/2450WxbFxHjnttFAv31zGk', 'id': '2450WxbFxHjnttFAv31zGk', 'name': 'Bagua Records', 'type': 'artist', 'uri': 'spotify:artist:2450WxbFxHjnttFAv31zGk'}, {'external_urls': {'spotify': 'https://open.spotify.com/artist/60oAQJsBmykZP3GwjbSL6S'}, 'href': 'https://api.spotify.com/v1/artists/60oAQJsBmykZP3GwjbSL6S', 'id': '60oAQJsBmykZP3GwjbSL6S', 'name': 'Mariana Froes', 'type': 'artist', 'uri': 'spotify:artist:60oAQJsBmykZP3GwjbSL6S'}], 'available_markets': ['AR', 'AU', 'AT', 'BE', 'BO', 'BR', 'BG', 'CA', 'CL', 'CO', 'CR', 'CY', 'CZ', 'DK', 'DO', 'DE', 'EC', 'EE', 'SV', 'FI', 'FR', 'GR', 'GT', 'HN', 'HK', 'HU', 'IS', 'IE', 'IT', 'LV', 'LT', 'LU', 'MY', 'MT', 'MX', 'NL', 'NZ', 'NI', 'NO', 'PA', 'PY', 'PE', 'PH', 'PL', 'PT', 'SG', 'SK', 'ES', 'SE', 'CH', 'TW', 'TR', 'UY', 'US', 'GB', 'AD', 'LI', 'MC', 'ID', 'JP', 'TH', 'VN', 'RO', 'IL', 'ZA', 'SA', 'AE', 'BH', 'QA', 'OM', 'KW', 'EG', 'MA', 'DZ', 'TN', 'LB', 'JO', 'PS', 'IN', 'BY', 'KZ', 'MD', 'UA', 'AL', 'BA', 'HR', 'ME', 'MK', 'RS', 'SI', 'KR', 'BD', 'PK', 'LK', 'GH', 'KE', 'NG', 'TZ', 'UG', 'AG', 'AM', 'BS', 'BB', 'BZ', 'BT', 'BW', 'BF', 'CV', 'CW', 'DM', 'FJ', 'GM', 'GE', 'GD', 'GW', 'GY', 'HT', 'JM', 'KI', 'LS', 'LR', 'MW', 'MV', 'ML', 'MH', 'FM', 'NA', 'NR', 'NE', 'PW', 'PG', 'PR', 'WS', 'SM', 'ST', 'SN', 'SC', 'SL', 'SB', 'KN', 'LC', 'VC', 'SR', 'TL', 'TO', 'TT', 'TV', 'VU', 'AZ', 'BN', 'BI', 'KH', 'CM', 'TD', 'KM', 'GQ', 'SZ', 'GA', 'GN', 'KG', 'LA', 'MO', 'MR', 'MN', 'NP', 'RW', 'TG', 'UZ', 'ZW', 'BJ', 'MG', 'MU', 'MZ', 'AO', 'CI', 'DJ', 'ZM', 'CD', 'CG', 'IQ', 'LY', 'TJ', 'VE', 'ET', 'XK'], 'disc_number': 1, 'duration_ms': 221714, 'explicit': False, 'external_ids': {'isrc': 'QZGLM2415327'}, 'external_urls': {'spotify': 'https://open.spotify.com/track/21TS6QtxgAvBgHGj06SpJ9'}, 'href': 'https://api.spotify.com/v1/tracks/21TS6QtxgAvBgHGj06SpJ9', 'id': '21TS6QtxgAvBgHGj06SpJ9', 'is_local': False, 'name': 'Fogueira', 'popularity': 60, 'preview_url': None, 'track_number': 3, 'type': 'track', 'uri': 'spotify:track:21TS6QtxgAvBgHGj06SpJ9'}",
         "2025-10-20T08:35:15.813Z",
         "{'external_urls': {'spotify': 'https://open.spotify.com/playlist/37i9dQZF1E8Nfo94C4zTIR'}, 'href': 'https://api.spotify.com/v1/playlists/37i9dQZF1E8Nfo94C4zTIR', 'type': 'playlist', 'uri': 'spotify:playlist:37i9dQZF1E8Nfo94C4zTIR'}",
         "2025-10-20 08:35:15.813000+00:00",
         "2025-10-20 00:00:00",
         "38"
        ],
        [
         "5",
         "{'album': {'album_type': 'single', 'artists': [{'external_urls': {'spotify': 'https://open.spotify.com/artist/60oAQJsBmykZP3GwjbSL6S'}, 'href': 'https://api.spotify.com/v1/artists/60oAQJsBmykZP3GwjbSL6S', 'id': '60oAQJsBmykZP3GwjbSL6S', 'name': 'Mariana Froes', 'type': 'artist', 'uri': 'spotify:artist:60oAQJsBmykZP3GwjbSL6S'}], 'available_markets': ['AR', 'AU', 'AT', 'BE', 'BO', 'BR', 'BG', 'CA', 'CL', 'CO', 'CR', 'CY', 'CZ', 'DK', 'DO', 'DE', 'EC', 'EE', 'SV', 'FI', 'FR', 'GR', 'GT', 'HN', 'HK', 'HU', 'IS', 'IE', 'IT', 'LV', 'LT', 'LU', 'MY', 'MT', 'MX', 'NL', 'NZ', 'NI', 'NO', 'PA', 'PY', 'PE', 'PH', 'PL', 'PT', 'SG', 'SK', 'ES', 'SE', 'CH', 'TW', 'TR', 'UY', 'US', 'GB', 'AD', 'LI', 'MC', 'ID', 'JP', 'TH', 'VN', 'RO', 'IL', 'ZA', 'SA', 'AE', 'BH', 'QA', 'OM', 'KW', 'EG', 'MA', 'DZ', 'TN', 'LB', 'JO', 'PS', 'IN', 'BY', 'KZ', 'MD', 'UA', 'AL', 'BA', 'HR', 'ME', 'MK', 'RS', 'SI', 'KR', 'BD', 'PK', 'LK', 'GH', 'KE', 'NG', 'TZ', 'UG', 'AG', 'AM', 'BS', 'BB', 'BZ', 'BT', 'BW', 'BF', 'CV', 'CW', 'DM', 'FJ', 'GM', 'GE', 'GD', 'GW', 'GY', 'HT', 'JM', 'KI', 'LS', 'LR', 'MW', 'MV', 'ML', 'MH', 'FM', 'NA', 'NR', 'NE', 'PW', 'PG', 'PR', 'WS', 'SM', 'ST', 'SN', 'SC', 'SL', 'SB', 'KN', 'LC', 'VC', 'SR', 'TL', 'TO', 'TT', 'TV', 'VU', 'AZ', 'BN', 'BI', 'KH', 'CM', 'TD', 'KM', 'GQ', 'SZ', 'GA', 'GN', 'KG', 'LA', 'MO', 'MR', 'MN', 'NP', 'RW', 'TG', 'UZ', 'ZW', 'BJ', 'MG', 'MU', 'MZ', 'AO', 'CI', 'DJ', 'ZM', 'CD', 'CG', 'IQ', 'LY', 'TJ', 'VE', 'ET', 'XK'], 'external_urls': {'spotify': 'https://open.spotify.com/album/1ado8LZ0Sgh1CCv7xJY2KC'}, 'href': 'https://api.spotify.com/v1/albums/1ado8LZ0Sgh1CCv7xJY2KC', 'id': '1ado8LZ0Sgh1CCv7xJY2KC', 'images': [{'height': 640, 'url': 'https://i.scdn.co/image/ab67616d0000b27358ca05e9cd4db97e37ac20ee', 'width': 640}, {'height': 300, 'url': 'https://i.scdn.co/image/ab67616d00001e0258ca05e9cd4db97e37ac20ee', 'width': 300}, {'height': 64, 'url': 'https://i.scdn.co/image/ab67616d0000485158ca05e9cd4db97e37ac20ee', 'width': 64}], 'name': 'Espelho', 'release_date': '2020-09-25', 'release_date_precision': 'day', 'total_tracks': 1, 'type': 'album', 'uri': 'spotify:album:1ado8LZ0Sgh1CCv7xJY2KC'}, 'artists': [{'external_urls': {'spotify': 'https://open.spotify.com/artist/60oAQJsBmykZP3GwjbSL6S'}, 'href': 'https://api.spotify.com/v1/artists/60oAQJsBmykZP3GwjbSL6S', 'id': '60oAQJsBmykZP3GwjbSL6S', 'name': 'Mariana Froes', 'type': 'artist', 'uri': 'spotify:artist:60oAQJsBmykZP3GwjbSL6S'}], 'available_markets': ['AR', 'AU', 'AT', 'BE', 'BO', 'BR', 'BG', 'CA', 'CL', 'CO', 'CR', 'CY', 'CZ', 'DK', 'DO', 'DE', 'EC', 'EE', 'SV', 'FI', 'FR', 'GR', 'GT', 'HN', 'HK', 'HU', 'IS', 'IE', 'IT', 'LV', 'LT', 'LU', 'MY', 'MT', 'MX', 'NL', 'NZ', 'NI', 'NO', 'PA', 'PY', 'PE', 'PH', 'PL', 'PT', 'SG', 'SK', 'ES', 'SE', 'CH', 'TW', 'TR', 'UY', 'US', 'GB', 'AD', 'LI', 'MC', 'ID', 'JP', 'TH', 'VN', 'RO', 'IL', 'ZA', 'SA', 'AE', 'BH', 'QA', 'OM', 'KW', 'EG', 'MA', 'DZ', 'TN', 'LB', 'JO', 'PS', 'IN', 'BY', 'KZ', 'MD', 'UA', 'AL', 'BA', 'HR', 'ME', 'MK', 'RS', 'SI', 'KR', 'BD', 'PK', 'LK', 'GH', 'KE', 'NG', 'TZ', 'UG', 'AG', 'AM', 'BS', 'BB', 'BZ', 'BT', 'BW', 'BF', 'CV', 'CW', 'DM', 'FJ', 'GM', 'GE', 'GD', 'GW', 'GY', 'HT', 'JM', 'KI', 'LS', 'LR', 'MW', 'MV', 'ML', 'MH', 'FM', 'NA', 'NR', 'NE', 'PW', 'PG', 'PR', 'WS', 'SM', 'ST', 'SN', 'SC', 'SL', 'SB', 'KN', 'LC', 'VC', 'SR', 'TL', 'TO', 'TT', 'TV', 'VU', 'AZ', 'BN', 'BI', 'KH', 'CM', 'TD', 'KM', 'GQ', 'SZ', 'GA', 'GN', 'KG', 'LA', 'MO', 'MR', 'MN', 'NP', 'RW', 'TG', 'UZ', 'ZW', 'BJ', 'MG', 'MU', 'MZ', 'AO', 'CI', 'DJ', 'ZM', 'CD', 'CG', 'IQ', 'LY', 'TJ', 'VE', 'ET', 'XK'], 'disc_number': 1, 'duration_ms': 208986, 'explicit': False, 'external_ids': {'isrc': 'BCPEK2000008'}, 'external_urls': {'spotify': 'https://open.spotify.com/track/5WklRXxDA9ASG1EgOfZmCt'}, 'href': 'https://api.spotify.com/v1/tracks/5WklRXxDA9ASG1EgOfZmCt', 'id': '5WklRXxDA9ASG1EgOfZmCt', 'is_local': False, 'name': 'Espelho', 'popularity': 60, 'preview_url': None, 'track_number': 1, 'type': 'track', 'uri': 'spotify:track:5WklRXxDA9ASG1EgOfZmCt'}",
         "2025-10-20T08:30:29.416Z",
         "{'external_urls': {'spotify': 'https://open.spotify.com/playlist/37i9dQZF1E8Nfo94C4zTIR'}, 'href': 'https://api.spotify.com/v1/playlists/37i9dQZF1E8Nfo94C4zTIR', 'type': 'playlist', 'uri': 'spotify:playlist:37i9dQZF1E8Nfo94C4zTIR'}",
         "2025-10-20 08:30:29.416000+00:00",
         "2025-10-20 00:00:00",
         "39"
        ],
        [
         "6",
         "{'album': {'album_type': 'single', 'artists': [{'external_urls': {'spotify': 'https://open.spotify.com/artist/6N5PRAVXd4vXyXmKseP3jq'}, 'href': 'https://api.spotify.com/v1/artists/6N5PRAVXd4vXyXmKseP3jq', 'id': '6N5PRAVXd4vXyXmKseP3jq', 'name': 'BLOW RECORDS', 'type': 'artist', 'uri': 'spotify:artist:6N5PRAVXd4vXyXmKseP3jq'}, {'external_urls': {'spotify': 'https://open.spotify.com/artist/34giN3qeTOdgDSJIdtIMdm'}, 'href': 'https://api.spotify.com/v1/artists/34giN3qeTOdgDSJIdtIMdm', 'id': '34giN3qeTOdgDSJIdtIMdm', 'name': 'Mc Jhey', 'type': 'artist', 'uri': 'spotify:artist:34giN3qeTOdgDSJIdtIMdm'}], 'available_markets': ['AR', 'AU', 'AT', 'BE', 'BO', 'BR', 'BG', 'CA', 'CL', 'CO', 'CR', 'CY', 'CZ', 'DK', 'DO', 'DE', 'EC', 'EE', 'SV', 'FI', 'FR', 'GR', 'GT', 'HN', 'HK', 'HU', 'IS', 'IE', 'IT', 'LV', 'LT', 'LU', 'MY', 'MT', 'MX', 'NL', 'NZ', 'NI', 'NO', 'PA', 'PY', 'PE', 'PH', 'PL', 'PT', 'SG', 'SK', 'ES', 'SE', 'CH', 'TW', 'TR', 'UY', 'US', 'GB', 'AD', 'LI', 'MC', 'ID', 'JP', 'TH', 'VN', 'RO', 'IL', 'ZA', 'SA', 'AE', 'BH', 'QA', 'OM', 'KW', 'EG', 'MA', 'DZ', 'TN', 'LB', 'JO', 'PS', 'IN', 'BY', 'KZ', 'MD', 'UA', 'AL', 'BA', 'HR', 'ME', 'MK', 'RS', 'SI', 'KR', 'BD', 'PK', 'LK', 'GH', 'KE', 'NG', 'TZ', 'UG', 'AG', 'AM', 'BS', 'BB', 'BZ', 'BT', 'BW', 'BF', 'CV', 'CW', 'DM', 'FJ', 'GM', 'GE', 'GD', 'GW', 'GY', 'HT', 'JM', 'KI', 'LS', 'LR', 'MW', 'MV', 'ML', 'MH', 'FM', 'NA', 'NR', 'NE', 'PW', 'PG', 'PR', 'WS', 'SM', 'ST', 'SN', 'SC', 'SL', 'SB', 'KN', 'LC', 'VC', 'SR', 'TL', 'TO', 'TT', 'TV', 'VU', 'AZ', 'BN', 'BI', 'KH', 'CM', 'TD', 'KM', 'GQ', 'SZ', 'GA', 'GN', 'KG', 'LA', 'MO', 'MR', 'MN', 'NP', 'RW', 'TG', 'UZ', 'ZW', 'BJ', 'MG', 'MU', 'MZ', 'AO', 'CI', 'DJ', 'ZM', 'CD', 'CG', 'IQ', 'LY', 'TJ', 'VE', 'ET', 'XK'], 'external_urls': {'spotify': 'https://open.spotify.com/album/7p0RIs3cKwogFdhQduJMDM'}, 'href': 'https://api.spotify.com/v1/albums/7p0RIs3cKwogFdhQduJMDM', 'id': '7p0RIs3cKwogFdhQduJMDM', 'images': [{'height': 640, 'url': 'https://i.scdn.co/image/ab67616d0000b2736a6de0214b3273740c3a5a32', 'width': 640}, {'height': 300, 'url': 'https://i.scdn.co/image/ab67616d00001e026a6de0214b3273740c3a5a32', 'width': 300}, {'height': 64, 'url': 'https://i.scdn.co/image/ab67616d000048516a6de0214b3273740c3a5a32', 'width': 64}], 'name': 'Predador de Perereca', 'release_date': '2025-07-05', 'release_date_precision': 'day', 'total_tracks': 1, 'type': 'album', 'uri': 'spotify:album:7p0RIs3cKwogFdhQduJMDM'}, 'artists': [{'external_urls': {'spotify': 'https://open.spotify.com/artist/6N5PRAVXd4vXyXmKseP3jq'}, 'href': 'https://api.spotify.com/v1/artists/6N5PRAVXd4vXyXmKseP3jq', 'id': '6N5PRAVXd4vXyXmKseP3jq', 'name': 'BLOW RECORDS', 'type': 'artist', 'uri': 'spotify:artist:6N5PRAVXd4vXyXmKseP3jq'}, {'external_urls': {'spotify': 'https://open.spotify.com/artist/34giN3qeTOdgDSJIdtIMdm'}, 'href': 'https://api.spotify.com/v1/artists/34giN3qeTOdgDSJIdtIMdm', 'id': '34giN3qeTOdgDSJIdtIMdm', 'name': 'Mc Jhey', 'type': 'artist', 'uri': 'spotify:artist:34giN3qeTOdgDSJIdtIMdm'}], 'available_markets': ['AR', 'AU', 'AT', 'BE', 'BO', 'BR', 'BG', 'CA', 'CL', 'CO', 'CR', 'CY', 'CZ', 'DK', 'DO', 'DE', 'EC', 'EE', 'SV', 'FI', 'FR', 'GR', 'GT', 'HN', 'HK', 'HU', 'IS', 'IE', 'IT', 'LV', 'LT', 'LU', 'MY', 'MT', 'MX', 'NL', 'NZ', 'NI', 'NO', 'PA', 'PY', 'PE', 'PH', 'PL', 'PT', 'SG', 'SK', 'ES', 'SE', 'CH', 'TW', 'TR', 'UY', 'US', 'GB', 'AD', 'LI', 'MC', 'ID', 'JP', 'TH', 'VN', 'RO', 'IL', 'ZA', 'SA', 'AE', 'BH', 'QA', 'OM', 'KW', 'EG', 'MA', 'DZ', 'TN', 'LB', 'JO', 'PS', 'IN', 'BY', 'KZ', 'MD', 'UA', 'AL', 'BA', 'HR', 'ME', 'MK', 'RS', 'SI', 'KR', 'BD', 'PK', 'LK', 'GH', 'KE', 'NG', 'TZ', 'UG', 'AG', 'AM', 'BS', 'BB', 'BZ', 'BT', 'BW', 'BF', 'CV', 'CW', 'DM', 'FJ', 'GM', 'GE', 'GD', 'GW', 'GY', 'HT', 'JM', 'KI', 'LS', 'LR', 'MW', 'MV', 'ML', 'MH', 'FM', 'NA', 'NR', 'NE', 'PW', 'PG', 'PR', 'WS', 'SM', 'ST', 'SN', 'SC', 'SL', 'SB', 'KN', 'LC', 'VC', 'SR', 'TL', 'TO', 'TT', 'TV', 'VU', 'AZ', 'BN', 'BI', 'KH', 'CM', 'TD', 'KM', 'GQ', 'SZ', 'GA', 'GN', 'KG', 'LA', 'MO', 'MR', 'MN', 'NP', 'RW', 'TG', 'UZ', 'ZW', 'BJ', 'MG', 'MU', 'MZ', 'AO', 'CI', 'DJ', 'ZM', 'CD', 'CG', 'IQ', 'LY', 'TJ', 'VE', 'ET', 'XK'], 'disc_number': 1, 'duration_ms': 186084, 'explicit': True, 'external_ids': {'isrc': 'GXBAV2110732'}, 'external_urls': {'spotify': 'https://open.spotify.com/track/6yDC6vwDgJ47HMhUFaQQ3v'}, 'href': 'https://api.spotify.com/v1/tracks/6yDC6vwDgJ47HMhUFaQQ3v', 'id': '6yDC6vwDgJ47HMhUFaQQ3v', 'is_local': False, 'name': 'Predador de Perereca', 'popularity': 78, 'preview_url': None, 'track_number': 1, 'type': 'track', 'uri': 'spotify:track:6yDC6vwDgJ47HMhUFaQQ3v'}",
         "2025-10-20T08:27:03.879Z",
         "{'external_urls': {'spotify': 'https://open.spotify.com/playlist/37i9dQZF1E8Nfo94C4zTIR'}, 'href': 'https://api.spotify.com/v1/playlists/37i9dQZF1E8Nfo94C4zTIR', 'type': 'playlist', 'uri': 'spotify:playlist:37i9dQZF1E8Nfo94C4zTIR'}",
         "2025-10-20 08:27:03.879000+00:00",
         "2025-10-20 00:00:00",
         "40"
        ],
        [
         "7",
         "{'album': {'album_type': 'album', 'artists': [{'external_urls': {'spotify': 'https://open.spotify.com/artist/5nriuBVz6NDh6k8gTU5WgP'}, 'href': 'https://api.spotify.com/v1/artists/5nriuBVz6NDh6k8gTU5WgP', 'id': '5nriuBVz6NDh6k8gTU5WgP', 'name': 'Trio Mocoto', 'type': 'artist', 'uri': 'spotify:artist:5nriuBVz6NDh6k8gTU5WgP'}], 'available_markets': ['AR', 'AU', 'AT', 'BE', 'BO', 'BG', 'CA', 'CL', 'CO', 'CR', 'CY', 'CZ', 'DK', 'DO', 'DE', 'EC', 'EE', 'SV', 'FI', 'FR', 'GR', 'GT', 'HN', 'HK', 'HU', 'IS', 'IE', 'IT', 'LV', 'LT', 'LU', 'MY', 'MT', 'MX', 'NL', 'NZ', 'NI', 'NO', 'PA', 'PY', 'PE', 'PH', 'PL', 'PT', 'SG', 'SK', 'ES', 'SE', 'CH', 'TW', 'TR', 'UY', 'US', 'GB', 'AD', 'LI', 'MC', 'ID', 'JP', 'TH', 'VN', 'RO', 'IL', 'ZA', 'SA', 'AE', 'BH', 'QA', 'OM', 'KW', 'EG', 'MA', 'DZ', 'TN', 'LB', 'JO', 'PS', 'IN', 'BY', 'KZ', 'MD', 'UA', 'AL', 'BA', 'HR', 'MK', 'SI', 'KR', 'BD', 'PK', 'LK', 'GH', 'KE', 'NG', 'TZ', 'UG', 'AG', 'AM', 'BS', 'BB', 'BZ', 'BT', 'BW', 'BF', 'CV', 'CW', 'DM', 'FJ', 'GM', 'GE', 'GD', 'GW', 'GY', 'HT', 'JM', 'KI', 'LS', 'LR', 'MW', 'MV', 'ML', 'MH', 'FM', 'NA', 'NR', 'NE', 'PW', 'PG', 'PR', 'WS', 'SM', 'ST', 'SN', 'SC', 'SL', 'SB', 'KN', 'LC', 'VC', 'SR', 'TL', 'TO', 'TT', 'TV', 'VU', 'AZ', 'BN', 'BI', 'KH', 'CM', 'TD', 'KM', 'GQ', 'SZ', 'GA', 'GN', 'KG', 'LA', 'MO', 'MR', 'MN', 'NP', 'RW', 'TG', 'UZ', 'ZW', 'BJ', 'MG', 'MU', 'MZ', 'AO', 'CI', 'DJ', 'ZM', 'CD', 'CG', 'IQ', 'LY', 'TJ', 'VE', 'ET'], 'external_urls': {'spotify': 'https://open.spotify.com/album/54jgQWkGJXWZTWuJ27h3HX'}, 'href': 'https://api.spotify.com/v1/albums/54jgQWkGJXWZTWuJ27h3HX', 'id': '54jgQWkGJXWZTWuJ27h3HX', 'images': [{'height': 640, 'url': 'https://i.scdn.co/image/ab67616d0000b27343f24970fcc374daa0c35dcd', 'width': 640}, {'height': 300, 'url': 'https://i.scdn.co/image/ab67616d00001e0243f24970fcc374daa0c35dcd', 'width': 300}, {'height': 64, 'url': 'https://i.scdn.co/image/ab67616d0000485143f24970fcc374daa0c35dcd', 'width': 64}], 'name': 'Trio Mocoto', 'release_date': '1977', 'release_date_precision': 'year', 'total_tracks': 10, 'type': 'album', 'uri': 'spotify:album:54jgQWkGJXWZTWuJ27h3HX'}, 'artists': [{'external_urls': {'spotify': 'https://open.spotify.com/artist/5nriuBVz6NDh6k8gTU5WgP'}, 'href': 'https://api.spotify.com/v1/artists/5nriuBVz6NDh6k8gTU5WgP', 'id': '5nriuBVz6NDh6k8gTU5WgP', 'name': 'Trio Mocoto', 'type': 'artist', 'uri': 'spotify:artist:5nriuBVz6NDh6k8gTU5WgP'}], 'available_markets': ['AR', 'AU', 'AT', 'BE', 'BO', 'BG', 'CA', 'CL', 'CO', 'CR', 'CY', 'CZ', 'DK', 'DO', 'DE', 'EC', 'EE', 'SV', 'FI', 'FR', 'GR', 'GT', 'HN', 'HK', 'HU', 'IS', 'IE', 'IT', 'LV', 'LT', 'LU', 'MY', 'MT', 'MX', 'NL', 'NZ', 'NI', 'NO', 'PA', 'PY', 'PE', 'PH', 'PL', 'PT', 'SG', 'SK', 'ES', 'SE', 'CH', 'TW', 'TR', 'UY', 'US', 'GB', 'AD', 'LI', 'MC', 'ID', 'JP', 'TH', 'VN', 'RO', 'IL', 'ZA', 'SA', 'AE', 'BH', 'QA', 'OM', 'KW', 'EG', 'MA', 'DZ', 'TN', 'LB', 'JO', 'PS', 'IN', 'BY', 'KZ', 'MD', 'UA', 'AL', 'BA', 'HR', 'MK', 'SI', 'KR', 'BD', 'PK', 'LK', 'GH', 'KE', 'NG', 'TZ', 'UG', 'AG', 'AM', 'BS', 'BB', 'BZ', 'BT', 'BW', 'BF', 'CV', 'CW', 'DM', 'FJ', 'GM', 'GE', 'GD', 'GW', 'GY', 'HT', 'JM', 'KI', 'LS', 'LR', 'MW', 'MV', 'ML', 'MH', 'FM', 'NA', 'NR', 'NE', 'PW', 'PG', 'PR', 'WS', 'SM', 'ST', 'SN', 'SC', 'SL', 'SB', 'KN', 'LC', 'VC', 'SR', 'TL', 'TO', 'TT', 'TV', 'VU', 'AZ', 'BN', 'BI', 'KH', 'CM', 'TD', 'KM', 'GQ', 'SZ', 'GA', 'GN', 'KG', 'LA', 'MO', 'MR', 'MN', 'NP', 'RW', 'TG', 'UZ', 'ZW', 'BJ', 'MG', 'MU', 'MZ', 'AO', 'CI', 'DJ', 'ZM', 'CD', 'CG', 'IQ', 'LY', 'TJ', 'VE', 'ET'], 'disc_number': 1, 'duration_ms': 247120, 'explicit': False, 'external_ids': {'isrc': 'GBCLQ1800265'}, 'external_urls': {'spotify': 'https://open.spotify.com/track/7rud54XCjLv3AQbaUAtxU1'}, 'href': 'https://api.spotify.com/v1/tracks/7rud54XCjLv3AQbaUAtxU1', 'id': '7rud54XCjLv3AQbaUAtxU1', 'is_local': False, 'name': 'Não Adianta', 'popularity': 51, 'preview_url': None, 'track_number': 1, 'type': 'track', 'uri': 'spotify:track:7rud54XCjLv3AQbaUAtxU1'}",
         "2025-10-20T08:24:01.548Z",
         "{'external_urls': {'spotify': 'https://open.spotify.com/album/7p0RIs3cKwogFdhQduJMDM'}, 'href': 'https://api.spotify.com/v1/albums/7p0RIs3cKwogFdhQduJMDM', 'type': 'album', 'uri': 'spotify:album:7p0RIs3cKwogFdhQduJMDM'}",
         "2025-10-20 08:24:01.548000+00:00",
         "2025-10-20 00:00:00",
         "41"
        ],
        [
         "8",
         "{'album': {'album_type': 'single', 'artists': [{'external_urls': {'spotify': 'https://open.spotify.com/artist/1oCgOGxyjqDexacJlm9Scu'}, 'href': 'https://api.spotify.com/v1/artists/1oCgOGxyjqDexacJlm9Scu', 'id': '1oCgOGxyjqDexacJlm9Scu', 'name': 'Velvet Funk', 'type': 'artist', 'uri': 'spotify:artist:1oCgOGxyjqDexacJlm9Scu'}], 'available_markets': ['AR', 'AU', 'AT', 'BE', 'BO', 'BR', 'BG', 'CA', 'CL', 'CO', 'CR', 'CY', 'CZ', 'DK', 'DO', 'DE', 'EC', 'EE', 'SV', 'FI', 'FR', 'GR', 'GT', 'HN', 'HK', 'HU', 'IS', 'IE', 'IT', 'LV', 'LT', 'LU', 'MY', 'MT', 'MX', 'NL', 'NZ', 'NI', 'NO', 'PA', 'PY', 'PE', 'PH', 'PL', 'PT', 'SG', 'SK', 'ES', 'SE', 'CH', 'TW', 'TR', 'UY', 'US', 'GB', 'AD', 'LI', 'MC', 'ID', 'JP', 'TH', 'VN', 'RO', 'IL', 'ZA', 'SA', 'AE', 'BH', 'QA', 'OM', 'KW', 'EG', 'MA', 'DZ', 'TN', 'LB', 'JO', 'PS', 'IN', 'BY', 'KZ', 'MD', 'UA', 'AL', 'BA', 'HR', 'ME', 'MK', 'RS', 'SI', 'KR', 'BD', 'PK', 'LK', 'GH', 'KE', 'NG', 'TZ', 'UG', 'AG', 'AM', 'BS', 'BB', 'BZ', 'BT', 'BW', 'BF', 'CV', 'CW', 'DM', 'FJ', 'GM', 'GE', 'GD', 'GW', 'GY', 'HT', 'JM', 'KI', 'LS', 'LR', 'MW', 'MV', 'ML', 'MH', 'FM', 'NA', 'NR', 'NE', 'PW', 'PG', 'PR', 'WS', 'SM', 'ST', 'SN', 'SC', 'SL', 'SB', 'KN', 'LC', 'VC', 'SR', 'TL', 'TO', 'TT', 'TV', 'VU', 'AZ', 'BN', 'BI', 'KH', 'CM', 'TD', 'KM', 'GQ', 'SZ', 'GA', 'GN', 'KG', 'LA', 'MO', 'MR', 'MN', 'NP', 'RW', 'TG', 'UZ', 'ZW', 'BJ', 'MG', 'MU', 'MZ', 'AO', 'CI', 'DJ', 'ZM', 'CD', 'CG', 'IQ', 'LY', 'TJ', 'VE', 'ET', 'XK'], 'external_urls': {'spotify': 'https://open.spotify.com/album/0wMK0d3tSjAQJHvp0h0JBe'}, 'href': 'https://api.spotify.com/v1/albums/0wMK0d3tSjAQJHvp0h0JBe', 'id': '0wMK0d3tSjAQJHvp0h0JBe', 'images': [{'height': 640, 'url': 'https://i.scdn.co/image/ab67616d0000b2738436b58ed16259afd8e371a5', 'width': 640}, {'height': 300, 'url': 'https://i.scdn.co/image/ab67616d00001e028436b58ed16259afd8e371a5', 'width': 300}, {'height': 64, 'url': 'https://i.scdn.co/image/ab67616d000048518436b58ed16259afd8e371a5', 'width': 64}], 'name': 'Stuck On You', 'release_date': '2025-05-10', 'release_date_precision': 'day', 'total_tracks': 1, 'type': 'album', 'uri': 'spotify:album:0wMK0d3tSjAQJHvp0h0JBe'}, 'artists': [{'external_urls': {'spotify': 'https://open.spotify.com/artist/1oCgOGxyjqDexacJlm9Scu'}, 'href': 'https://api.spotify.com/v1/artists/1oCgOGxyjqDexacJlm9Scu', 'id': '1oCgOGxyjqDexacJlm9Scu', 'name': 'Velvet Funk', 'type': 'artist', 'uri': 'spotify:artist:1oCgOGxyjqDexacJlm9Scu'}], 'available_markets': ['AR', 'AU', 'AT', 'BE', 'BO', 'BR', 'BG', 'CA', 'CL', 'CO', 'CR', 'CY', 'CZ', 'DK', 'DO', 'DE', 'EC', 'EE', 'SV', 'FI', 'FR', 'GR', 'GT', 'HN', 'HK', 'HU', 'IS', 'IE', 'IT', 'LV', 'LT', 'LU', 'MY', 'MT', 'MX', 'NL', 'NZ', 'NI', 'NO', 'PA', 'PY', 'PE', 'PH', 'PL', 'PT', 'SG', 'SK', 'ES', 'SE', 'CH', 'TW', 'TR', 'UY', 'US', 'GB', 'AD', 'LI', 'MC', 'ID', 'JP', 'TH', 'VN', 'RO', 'IL', 'ZA', 'SA', 'AE', 'BH', 'QA', 'OM', 'KW', 'EG', 'MA', 'DZ', 'TN', 'LB', 'JO', 'PS', 'IN', 'BY', 'KZ', 'MD', 'UA', 'AL', 'BA', 'HR', 'ME', 'MK', 'RS', 'SI', 'KR', 'BD', 'PK', 'LK', 'GH', 'KE', 'NG', 'TZ', 'UG', 'AG', 'AM', 'BS', 'BB', 'BZ', 'BT', 'BW', 'BF', 'CV', 'CW', 'DM', 'FJ', 'GM', 'GE', 'GD', 'GW', 'GY', 'HT', 'JM', 'KI', 'LS', 'LR', 'MW', 'MV', 'ML', 'MH', 'FM', 'NA', 'NR', 'NE', 'PW', 'PG', 'PR', 'WS', 'SM', 'ST', 'SN', 'SC', 'SL', 'SB', 'KN', 'LC', 'VC', 'SR', 'TL', 'TO', 'TT', 'TV', 'VU', 'AZ', 'BN', 'BI', 'KH', 'CM', 'TD', 'KM', 'GQ', 'SZ', 'GA', 'GN', 'KG', 'LA', 'MO', 'MR', 'MN', 'NP', 'RW', 'TG', 'UZ', 'ZW', 'BJ', 'MG', 'MU', 'MZ', 'AO', 'CI', 'DJ', 'ZM', 'CD', 'CG', 'IQ', 'LY', 'TJ', 'VE', 'ET', 'XK'], 'disc_number': 1, 'duration_ms': 197052, 'explicit': False, 'external_ids': {'isrc': 'CAGOO2521370'}, 'external_urls': {'spotify': 'https://open.spotify.com/track/0NMdsJ1xYzR7O3ogP1Qkru'}, 'href': 'https://api.spotify.com/v1/tracks/0NMdsJ1xYzR7O3ogP1Qkru', 'id': '0NMdsJ1xYzR7O3ogP1Qkru', 'is_local': False, 'name': 'Stuck On You', 'popularity': 52, 'preview_url': None, 'track_number': 1, 'type': 'track', 'uri': 'spotify:track:0NMdsJ1xYzR7O3ogP1Qkru'}",
         "2025-10-20T00:39:56.058Z",
         "{'external_urls': {'spotify': 'https://open.spotify.com/album/7p0RIs3cKwogFdhQduJMDM'}, 'href': 'https://api.spotify.com/v1/albums/7p0RIs3cKwogFdhQduJMDM', 'type': 'album', 'uri': 'spotify:album:7p0RIs3cKwogFdhQduJMDM'}",
         "2025-10-20 00:39:56.058000+00:00",
         "2025-10-20 00:00:00",
         "42"
        ],
        [
         "9",
         "{'album': {'album_type': 'single', 'artists': [{'external_urls': {'spotify': 'https://open.spotify.com/artist/4U5PlulITu7q03ItEaIOmz'}, 'href': 'https://api.spotify.com/v1/artists/4U5PlulITu7q03ItEaIOmz', 'id': '4U5PlulITu7q03ItEaIOmz', 'name': 'Tonica & Dominante', 'type': 'artist', 'uri': 'spotify:artist:4U5PlulITu7q03ItEaIOmz'}], 'available_markets': ['AR', 'AU', 'AT', 'BE', 'BO', 'BR', 'BG', 'CA', 'CL', 'CO', 'CR', 'CY', 'CZ', 'DK', 'DO', 'DE', 'EC', 'EE', 'SV', 'FI', 'FR', 'GR', 'GT', 'HN', 'HK', 'HU', 'IS', 'IE', 'IT', 'LV', 'LT', 'LU', 'MY', 'MT', 'MX', 'NL', 'NZ', 'NI', 'NO', 'PA', 'PY', 'PE', 'PH', 'PL', 'PT', 'SG', 'SK', 'ES', 'SE', 'CH', 'TW', 'TR', 'UY', 'US', 'GB', 'AD', 'LI', 'MC', 'ID', 'JP', 'TH', 'VN', 'RO', 'IL', 'ZA', 'SA', 'AE', 'BH', 'QA', 'OM', 'KW', 'EG', 'MA', 'DZ', 'TN', 'LB', 'JO', 'PS', 'IN', 'BY', 'KZ', 'MD', 'UA', 'AL', 'BA', 'HR', 'ME', 'MK', 'RS', 'SI', 'KR', 'BD', 'PK', 'LK', 'GH', 'KE', 'NG', 'TZ', 'UG', 'AG', 'AM', 'BS', 'BB', 'BZ', 'BT', 'BW', 'BF', 'CV', 'CW', 'DM', 'FJ', 'GM', 'GE', 'GD', 'GW', 'GY', 'HT', 'JM', 'KI', 'LS', 'LR', 'MW', 'MV', 'ML', 'MH', 'FM', 'NA', 'NR', 'NE', 'PW', 'PG', 'PR', 'WS', 'SM', 'ST', 'SN', 'SC', 'SL', 'SB', 'KN', 'LC', 'VC', 'SR', 'TL', 'TO', 'TT', 'TV', 'VU', 'AZ', 'BN', 'BI', 'KH', 'CM', 'TD', 'KM', 'GQ', 'SZ', 'GA', 'GN', 'KG', 'LA', 'MO', 'MR', 'MN', 'NP', 'RW', 'TG', 'UZ', 'ZW', 'BJ', 'MG', 'MU', 'MZ', 'AO', 'CI', 'DJ', 'ZM', 'CD', 'CG', 'IQ', 'LY', 'TJ', 'VE', 'ET', 'XK'], 'external_urls': {'spotify': 'https://open.spotify.com/album/2l3BZH3NPEIlFaEckdh348'}, 'href': 'https://api.spotify.com/v1/albums/2l3BZH3NPEIlFaEckdh348', 'id': '2l3BZH3NPEIlFaEckdh348', 'images': [{'height': 640, 'url': 'https://i.scdn.co/image/ab67616d0000b273d32fed031f0e756e0c9a4274', 'width': 640}, {'height': 300, 'url': 'https://i.scdn.co/image/ab67616d00001e02d32fed031f0e756e0c9a4274', 'width': 300}, {'height': 64, 'url': 'https://i.scdn.co/image/ab67616d00004851d32fed031f0e756e0c9a4274', 'width': 64}], 'name': 'Tonica & Dominante', 'release_date': '1979-01-01', 'release_date_precision': 'day', 'total_tracks': 4, 'type': 'album', 'uri': 'spotify:album:2l3BZH3NPEIlFaEckdh348'}, 'artists': [{'external_urls': {'spotify': 'https://open.spotify.com/artist/4U5PlulITu7q03ItEaIOmz'}, 'href': 'https://api.spotify.com/v1/artists/4U5PlulITu7q03ItEaIOmz', 'id': '4U5PlulITu7q03ItEaIOmz', 'name': 'Tonica & Dominante', 'type': 'artist', 'uri': 'spotify:artist:4U5PlulITu7q03ItEaIOmz'}], 'available_markets': ['AR', 'AU', 'AT', 'BE', 'BO', 'BR', 'BG', 'CA', 'CL', 'CO', 'CR', 'CY', 'CZ', 'DK', 'DO', 'DE', 'EC', 'EE', 'SV', 'FI', 'FR', 'GR', 'GT', 'HN', 'HK', 'HU', 'IS', 'IE', 'IT', 'LV', 'LT', 'LU', 'MY', 'MT', 'MX', 'NL', 'NZ', 'NI', 'NO', 'PA', 'PY', 'PE', 'PH', 'PL', 'PT', 'SG', 'SK', 'ES', 'SE', 'CH', 'TW', 'TR', 'UY', 'US', 'GB', 'AD', 'LI', 'MC', 'ID', 'JP', 'TH', 'VN', 'RO', 'IL', 'ZA', 'SA', 'AE', 'BH', 'QA', 'OM', 'KW', 'EG', 'MA', 'DZ', 'TN', 'LB', 'JO', 'PS', 'IN', 'BY', 'KZ', 'MD', 'UA', 'AL', 'BA', 'HR', 'ME', 'MK', 'RS', 'SI', 'KR', 'BD', 'PK', 'LK', 'GH', 'KE', 'NG', 'TZ', 'UG', 'AG', 'AM', 'BS', 'BB', 'BZ', 'BT', 'BW', 'BF', 'CV', 'CW', 'DM', 'FJ', 'GM', 'GE', 'GD', 'GW', 'GY', 'HT', 'JM', 'KI', 'LS', 'LR', 'MW', 'MV', 'ML', 'MH', 'FM', 'NA', 'NR', 'NE', 'PW', 'PG', 'PR', 'WS', 'SM', 'ST', 'SN', 'SC', 'SL', 'SB', 'KN', 'LC', 'VC', 'SR', 'TL', 'TO', 'TT', 'TV', 'VU', 'AZ', 'BN', 'BI', 'KH', 'CM', 'TD', 'KM', 'GQ', 'SZ', 'GA', 'GN', 'KG', 'LA', 'MO', 'MR', 'MN', 'NP', 'RW', 'TG', 'UZ', 'ZW', 'BJ', 'MG', 'MU', 'MZ', 'AO', 'CI', 'DJ', 'ZM', 'CD', 'CG', 'IQ', 'LY', 'TJ', 'VE', 'ET', 'XK'], 'disc_number': 1, 'duration_ms': 198995, 'explicit': False, 'external_ids': {'isrc': 'ITUA12200302'}, 'external_urls': {'spotify': 'https://open.spotify.com/track/7yIQkdNIHAPwshIZdR4Jlk'}, 'href': 'https://api.spotify.com/v1/tracks/7yIQkdNIHAPwshIZdR4Jlk', 'id': '7yIQkdNIHAPwshIZdR4Jlk', 'is_local': False, 'name': \"Gennarino 'O Sioux\", 'popularity': 57, 'preview_url': None, 'track_number': 2, 'type': 'track', 'uri': 'spotify:track:7yIQkdNIHAPwshIZdR4Jlk'}",
         "2025-10-20T00:36:42.378Z",
         "{'external_urls': {'spotify': 'https://open.spotify.com/album/7p0RIs3cKwogFdhQduJMDM'}, 'href': 'https://api.spotify.com/v1/albums/7p0RIs3cKwogFdhQduJMDM', 'type': 'album', 'uri': 'spotify:album:7p0RIs3cKwogFdhQduJMDM'}",
         "2025-10-20 00:36:42.378000+00:00",
         "2025-10-20 00:00:00",
         "43"
        ],
        [
         "10",
         "{'album': {'album_type': 'album', 'artists': [{'external_urls': {'spotify': 'https://open.spotify.com/artist/1uXGmHao7MMRBwCCncmyB6'}, 'href': 'https://api.spotify.com/v1/artists/1uXGmHao7MMRBwCCncmyB6', 'id': '1uXGmHao7MMRBwCCncmyB6', 'name': \"Pino D'Angiò\", 'type': 'artist', 'uri': 'spotify:artist:1uXGmHao7MMRBwCCncmyB6'}], 'available_markets': ['AR', 'AU', 'AT', 'BE', 'BO', 'BR', 'BG', 'CA', 'CL', 'CO', 'CR', 'CY', 'CZ', 'DK', 'DO', 'DE', 'EC', 'EE', 'SV', 'FI', 'FR', 'GR', 'GT', 'HN', 'HK', 'HU', 'IS', 'IE', 'IT', 'LV', 'LT', 'LU', 'MY', 'MT', 'MX', 'NL', 'NZ', 'NI', 'NO', 'PA', 'PY', 'PE', 'PH', 'PL', 'PT', 'SG', 'SK', 'ES', 'SE', 'CH', 'TW', 'TR', 'UY', 'US', 'GB', 'AD', 'LI', 'MC', 'ID', 'JP', 'TH', 'VN', 'RO', 'IL', 'ZA', 'SA', 'AE', 'BH', 'QA', 'OM', 'KW', 'EG', 'MA', 'DZ', 'TN', 'LB', 'JO', 'PS', 'IN', 'BY', 'KZ', 'MD', 'UA', 'AL', 'BA', 'HR', 'ME', 'MK', 'RS', 'SI', 'KR', 'BD', 'PK', 'LK', 'GH', 'KE', 'NG', 'TZ', 'UG', 'AG', 'AM', 'BS', 'BB', 'BZ', 'BT', 'BW', 'BF', 'CV', 'CW', 'DM', 'FJ', 'GM', 'GE', 'GD', 'GW', 'GY', 'HT', 'JM', 'KI', 'LS', 'LR', 'MW', 'MV', 'ML', 'MH', 'FM', 'NA', 'NR', 'NE', 'PW', 'PG', 'PR', 'WS', 'SM', 'ST', 'SN', 'SC', 'SL', 'SB', 'KN', 'LC', 'VC', 'SR', 'TL', 'TO', 'TT', 'TV', 'VU', 'AZ', 'BN', 'BI', 'KH', 'CM', 'TD', 'KM', 'GQ', 'SZ', 'GA', 'GN', 'KG', 'LA', 'MO', 'MR', 'MN', 'NP', 'RW', 'TG', 'UZ', 'ZW', 'BJ', 'MG', 'MU', 'MZ', 'AO', 'CI', 'DJ', 'ZM', 'CD', 'CG', 'IQ', 'LY', 'TJ', 'VE', 'ET', 'XK'], 'external_urls': {'spotify': 'https://open.spotify.com/album/5PeGkQmBlbNwr02QmF71me'}, 'href': 'https://api.spotify.com/v1/albums/5PeGkQmBlbNwr02QmF71me', 'id': '5PeGkQmBlbNwr02QmF71me', 'images': [{'height': 640, 'url': 'https://i.scdn.co/image/ab67616d0000b27379f449b2c45f6ef0d0cc3cef', 'width': 640}, {'height': 300, 'url': 'https://i.scdn.co/image/ab67616d00001e0279f449b2c45f6ef0d0cc3cef', 'width': 300}, {'height': 64, 'url': 'https://i.scdn.co/image/ab67616d0000485179f449b2c45f6ef0d0cc3cef', 'width': 64}], 'name': \"Italian Classics: Pino D'Angiò Collection, Vol. 2\", 'release_date': '2011-03-15', 'release_date_precision': 'day', 'total_tracks': 13, 'type': 'album', 'uri': 'spotify:album:5PeGkQmBlbNwr02QmF71me'}, 'artists': [{'external_urls': {'spotify': 'https://open.spotify.com/artist/1uXGmHao7MMRBwCCncmyB6'}, 'href': 'https://api.spotify.com/v1/artists/1uXGmHao7MMRBwCCncmyB6', 'id': '1uXGmHao7MMRBwCCncmyB6', 'name': \"Pino D'Angiò\", 'type': 'artist', 'uri': 'spotify:artist:1uXGmHao7MMRBwCCncmyB6'}], 'available_markets': ['AR', 'AU', 'AT', 'BE', 'BO', 'BR', 'BG', 'CA', 'CL', 'CO', 'CR', 'CY', 'CZ', 'DK', 'DO', 'DE', 'EC', 'EE', 'SV', 'FI', 'FR', 'GR', 'GT', 'HN', 'HK', 'HU', 'IS', 'IE', 'IT', 'LV', 'LT', 'LU', 'MY', 'MT', 'MX', 'NL', 'NZ', 'NI', 'NO', 'PA', 'PY', 'PE', 'PH', 'PL', 'PT', 'SG', 'SK', 'ES', 'SE', 'CH', 'TW', 'TR', 'UY', 'US', 'GB', 'AD', 'LI', 'MC', 'ID', 'JP', 'TH', 'VN', 'RO', 'IL', 'ZA', 'SA', 'AE', 'BH', 'QA', 'OM', 'KW', 'EG', 'MA', 'DZ', 'TN', 'LB', 'JO', 'PS', 'IN', 'BY', 'KZ', 'MD', 'UA', 'AL', 'BA', 'HR', 'ME', 'MK', 'RS', 'SI', 'KR', 'BD', 'PK', 'LK', 'GH', 'KE', 'NG', 'TZ', 'UG', 'AG', 'AM', 'BS', 'BB', 'BZ', 'BT', 'BW', 'BF', 'CV', 'CW', 'DM', 'FJ', 'GM', 'GE', 'GD', 'GW', 'GY', 'HT', 'JM', 'KI', 'LS', 'LR', 'MW', 'MV', 'ML', 'MH', 'FM', 'NA', 'NR', 'NE', 'PW', 'PG', 'PR', 'WS', 'SM', 'ST', 'SN', 'SC', 'SL', 'SB', 'KN', 'LC', 'VC', 'SR', 'TL', 'TO', 'TT', 'TV', 'VU', 'AZ', 'BN', 'BI', 'KH', 'CM', 'TD', 'KM', 'GQ', 'SZ', 'GA', 'GN', 'KG', 'LA', 'MO', 'MR', 'MN', 'NP', 'RW', 'TG', 'UZ', 'ZW', 'BJ', 'MG', 'MU', 'MZ', 'AO', 'CI', 'DJ', 'ZM', 'CD', 'CG', 'IQ', 'LY', 'TJ', 'VE', 'ET', 'XK'], 'disc_number': 1, 'duration_ms': 222271, 'explicit': False, 'external_ids': {'isrc': 'ITA641001735'}, 'external_urls': {'spotify': 'https://open.spotify.com/track/6hob5XGGteZCcJZQoK06Fr'}, 'href': 'https://api.spotify.com/v1/tracks/6hob5XGGteZCcJZQoK06Fr', 'id': '6hob5XGGteZCcJZQoK06Fr', 'is_local': False, 'name': 'Questo amore è un motore', 'popularity': 57, 'preview_url': None, 'track_number': 10, 'type': 'track', 'uri': 'spotify:track:6hob5XGGteZCcJZQoK06Fr'}",
         "2025-10-20T00:33:26.860Z",
         "{'external_urls': {'spotify': 'https://open.spotify.com/album/7p0RIs3cKwogFdhQduJMDM'}, 'href': 'https://api.spotify.com/v1/albums/7p0RIs3cKwogFdhQduJMDM', 'type': 'album', 'uri': 'spotify:album:7p0RIs3cKwogFdhQduJMDM'}",
         "2025-10-20 00:33:26.860000+00:00",
         "2025-10-20 00:00:00",
         "44"
        ],
        [
         "11",
         "{'album': {'album_type': 'single', 'artists': [{'external_urls': {'spotify': 'https://open.spotify.com/artist/1HBjj22wzbscIZ9sEb5dyf'}, 'href': 'https://api.spotify.com/v1/artists/1HBjj22wzbscIZ9sEb5dyf', 'id': '1HBjj22wzbscIZ9sEb5dyf', 'name': 'Jonas Blue', 'type': 'artist', 'uri': 'spotify:artist:1HBjj22wzbscIZ9sEb5dyf'}, {'external_urls': {'spotify': 'https://open.spotify.com/artist/5JsnFhU4OqgEtNXs7Sq1Vm'}, 'href': 'https://api.spotify.com/v1/artists/5JsnFhU4OqgEtNXs7Sq1Vm', 'id': '5JsnFhU4OqgEtNXs7Sq1Vm', 'name': 'Malive', 'type': 'artist', 'uri': 'spotify:artist:5JsnFhU4OqgEtNXs7Sq1Vm'}], 'available_markets': ['AR', 'AU', 'AT', 'BE', 'BO', 'BR', 'BG', 'CA', 'CL', 'CO', 'CR', 'CY', 'CZ', 'DK', 'DO', 'DE', 'EC', 'EE', 'SV', 'FI', 'FR', 'GR', 'GT', 'HN', 'HK', 'HU', 'IS', 'IE', 'IT', 'LV', 'LT', 'LU', 'MY', 'MT', 'MX', 'NL', 'NZ', 'NI', 'NO', 'PA', 'PY', 'PE', 'PH', 'PL', 'PT', 'SG', 'SK', 'ES', 'SE', 'CH', 'TW', 'TR', 'UY', 'US', 'GB', 'AD', 'LI', 'MC', 'ID', 'JP', 'TH', 'VN', 'RO', 'IL', 'ZA', 'SA', 'AE', 'BH', 'QA', 'OM', 'KW', 'EG', 'MA', 'DZ', 'TN', 'LB', 'JO', 'PS', 'IN', 'BY', 'KZ', 'MD', 'UA', 'AL', 'BA', 'HR', 'ME', 'MK', 'RS', 'SI', 'KR', 'BD', 'PK', 'LK', 'GH', 'KE', 'NG', 'TZ', 'UG', 'AG', 'AM', 'BS', 'BB', 'BZ', 'BT', 'BW', 'BF', 'CV', 'CW', 'DM', 'FJ', 'GM', 'GE', 'GD', 'GW', 'GY', 'HT', 'JM', 'KI', 'LS', 'LR', 'MW', 'MV', 'ML', 'MH', 'FM', 'NA', 'NR', 'NE', 'PW', 'PG', 'PR', 'WS', 'SM', 'ST', 'SN', 'SC', 'SL', 'SB', 'KN', 'LC', 'VC', 'SR', 'TL', 'TO', 'TT', 'TV', 'VU', 'AZ', 'BN', 'BI', 'KH', 'CM', 'TD', 'KM', 'GQ', 'SZ', 'GA', 'GN', 'KG', 'LA', 'MO', 'MR', 'MN', 'NP', 'RW', 'TG', 'UZ', 'ZW', 'BJ', 'MG', 'MU', 'MZ', 'AO', 'CI', 'DJ', 'ZM', 'CD', 'CG', 'IQ', 'LY', 'TJ', 'VE', 'ET', 'XK'], 'external_urls': {'spotify': 'https://open.spotify.com/album/53b1lFTsC7lV3pieOFYZ9i'}, 'href': 'https://api.spotify.com/v1/albums/53b1lFTsC7lV3pieOFYZ9i', 'id': '53b1lFTsC7lV3pieOFYZ9i', 'images': [{'height': 640, 'url': 'https://i.scdn.co/image/ab67616d0000b2736d69d34ade62de08bff530ca', 'width': 640}, {'height': 300, 'url': 'https://i.scdn.co/image/ab67616d00001e026d69d34ade62de08bff530ca', 'width': 300}, {'height': 64, 'url': 'https://i.scdn.co/image/ab67616d000048516d69d34ade62de08bff530ca', 'width': 64}], 'name': 'Edge of Desire', 'release_date': '2025-07-18', 'release_date_precision': 'day', 'total_tracks': 2, 'type': 'album', 'uri': 'spotify:album:53b1lFTsC7lV3pieOFYZ9i'}, 'artists': [{'external_urls': {'spotify': 'https://open.spotify.com/artist/1HBjj22wzbscIZ9sEb5dyf'}, 'href': 'https://api.spotify.com/v1/artists/1HBjj22wzbscIZ9sEb5dyf', 'id': '1HBjj22wzbscIZ9sEb5dyf', 'name': 'Jonas Blue', 'type': 'artist', 'uri': 'spotify:artist:1HBjj22wzbscIZ9sEb5dyf'}, {'external_urls': {'spotify': 'https://open.spotify.com/artist/5JsnFhU4OqgEtNXs7Sq1Vm'}, 'href': 'https://api.spotify.com/v1/artists/5JsnFhU4OqgEtNXs7Sq1Vm', 'id': '5JsnFhU4OqgEtNXs7Sq1Vm', 'name': 'Malive', 'type': 'artist', 'uri': 'spotify:artist:5JsnFhU4OqgEtNXs7Sq1Vm'}], 'available_markets': ['AR', 'AU', 'AT', 'BE', 'BO', 'BR', 'BG', 'CA', 'CL', 'CO', 'CR', 'CY', 'CZ', 'DK', 'DO', 'DE', 'EC', 'EE', 'SV', 'FI', 'FR', 'GR', 'GT', 'HN', 'HK', 'HU', 'IS', 'IE', 'IT', 'LV', 'LT', 'LU', 'MY', 'MT', 'MX', 'NL', 'NZ', 'NI', 'NO', 'PA', 'PY', 'PE', 'PH', 'PL', 'PT', 'SG', 'SK', 'ES', 'SE', 'CH', 'TW', 'TR', 'UY', 'US', 'GB', 'AD', 'LI', 'MC', 'ID', 'JP', 'TH', 'VN', 'RO', 'IL', 'ZA', 'SA', 'AE', 'BH', 'QA', 'OM', 'KW', 'EG', 'MA', 'DZ', 'TN', 'LB', 'JO', 'PS', 'IN', 'BY', 'KZ', 'MD', 'UA', 'AL', 'BA', 'HR', 'ME', 'MK', 'RS', 'SI', 'KR', 'BD', 'PK', 'LK', 'GH', 'KE', 'NG', 'TZ', 'UG', 'AG', 'AM', 'BS', 'BB', 'BZ', 'BT', 'BW', 'BF', 'CV', 'CW', 'DM', 'FJ', 'GM', 'GE', 'GD', 'GW', 'GY', 'HT', 'JM', 'KI', 'LS', 'LR', 'MW', 'MV', 'ML', 'MH', 'FM', 'NA', 'NR', 'NE', 'PW', 'PG', 'PR', 'WS', 'SM', 'ST', 'SN', 'SC', 'SL', 'SB', 'KN', 'LC', 'VC', 'SR', 'TL', 'TO', 'TT', 'TV', 'VU', 'AZ', 'BN', 'BI', 'KH', 'CM', 'TD', 'KM', 'GQ', 'SZ', 'GA', 'GN', 'KG', 'LA', 'MO', 'MR', 'MN', 'NP', 'RW', 'TG', 'UZ', 'ZW', 'BJ', 'MG', 'MU', 'MZ', 'AO', 'CI', 'DJ', 'ZM', 'CD', 'CG', 'IQ', 'LY', 'TJ', 'VE', 'ET', 'XK'], 'disc_number': 1, 'duration_ms': 134905, 'explicit': False, 'external_ids': {'isrc': 'GBCPZ2524512'}, 'external_urls': {'spotify': 'https://open.spotify.com/track/4A56h4B9xUuMMXoKuj18HT'}, 'href': 'https://api.spotify.com/v1/tracks/4A56h4B9xUuMMXoKuj18HT', 'id': '4A56h4B9xUuMMXoKuj18HT', 'is_local': False, 'name': 'Edge of Desire', 'popularity': 78, 'preview_url': None, 'track_number': 1, 'type': 'track', 'uri': 'spotify:track:4A56h4B9xUuMMXoKuj18HT'}",
         "2025-10-20T00:29:47.866Z",
         "{'external_urls': {'spotify': 'https://open.spotify.com/album/7p0RIs3cKwogFdhQduJMDM'}, 'href': 'https://api.spotify.com/v1/albums/7p0RIs3cKwogFdhQduJMDM', 'type': 'album', 'uri': 'spotify:album:7p0RIs3cKwogFdhQduJMDM'}",
         "2025-10-20 00:29:47.866000+00:00",
         "2025-10-20 00:00:00",
         "45"
        ],
        [
         "12",
         "{'album': {'album_type': 'single', 'artists': [{'external_urls': {'spotify': 'https://open.spotify.com/artist/64QDqXMHjg0lUoGbXSCX2R'}, 'href': 'https://api.spotify.com/v1/artists/64QDqXMHjg0lUoGbXSCX2R', 'id': '64QDqXMHjg0lUoGbXSCX2R', 'name': 'Pedro Mizutani', 'type': 'artist', 'uri': 'spotify:artist:64QDqXMHjg0lUoGbXSCX2R'}, {'external_urls': {'spotify': 'https://open.spotify.com/artist/1itM5tXaK5THggpXA7ovAe'}, 'href': 'https://api.spotify.com/v1/artists/1itM5tXaK5THggpXA7ovAe', 'id': '1itM5tXaK5THggpXA7ovAe', 'name': 'Skinshape', 'type': 'artist', 'uri': 'spotify:artist:1itM5tXaK5THggpXA7ovAe'}], 'available_markets': ['AR', 'AU', 'AT', 'BE', 'BO', 'BR', 'BG', 'CA', 'CL', 'CO', 'CR', 'CY', 'CZ', 'DK', 'DO', 'DE', 'EC', 'EE', 'SV', 'FI', 'FR', 'GR', 'GT', 'HN', 'HK', 'HU', 'IS', 'IE', 'IT', 'LV', 'LT', 'LU', 'MY', 'MT', 'MX', 'NL', 'NZ', 'NI', 'NO', 'PA', 'PY', 'PE', 'PH', 'PL', 'PT', 'SG', 'SK', 'ES', 'SE', 'CH', 'TW', 'TR', 'UY', 'US', 'GB', 'AD', 'LI', 'MC', 'ID', 'JP', 'TH', 'VN', 'RO', 'IL', 'ZA', 'SA', 'AE', 'BH', 'QA', 'OM', 'KW', 'EG', 'MA', 'DZ', 'TN', 'LB', 'JO', 'PS', 'IN', 'BY', 'KZ', 'MD', 'UA', 'AL', 'BA', 'HR', 'ME', 'MK', 'RS', 'SI', 'KR', 'BD', 'PK', 'LK', 'GH', 'KE', 'NG', 'TZ', 'UG', 'AG', 'AM', 'BS', 'BB', 'BZ', 'BT', 'BW', 'BF', 'CV', 'CW', 'DM', 'FJ', 'GM', 'GE', 'GD', 'GW', 'GY', 'HT', 'JM', 'KI', 'LS', 'LR', 'MW', 'MV', 'ML', 'MH', 'FM', 'NA', 'NR', 'NE', 'PW', 'PG', 'PR', 'WS', 'SM', 'ST', 'SN', 'SC', 'SL', 'SB', 'KN', 'LC', 'VC', 'SR', 'TL', 'TO', 'TT', 'TV', 'VU', 'AZ', 'BN', 'BI', 'KH', 'CM', 'TD', 'KM', 'GQ', 'SZ', 'GA', 'GN', 'KG', 'LA', 'MO', 'MR', 'MN', 'NP', 'RW', 'TG', 'UZ', 'ZW', 'BJ', 'MG', 'MU', 'MZ', 'AO', 'CI', 'DJ', 'ZM', 'CD', 'CG', 'IQ', 'LY', 'TJ', 'VE', 'ET', 'XK'], 'external_urls': {'spotify': 'https://open.spotify.com/album/5c0oHJioFpM2zSSJCvjay8'}, 'href': 'https://api.spotify.com/v1/albums/5c0oHJioFpM2zSSJCvjay8', 'id': '5c0oHJioFpM2zSSJCvjay8', 'images': [{'height': 640, 'url': 'https://i.scdn.co/image/ab67616d0000b273cc38db80928d2298e1907178', 'width': 640}, {'height': 300, 'url': 'https://i.scdn.co/image/ab67616d00001e02cc38db80928d2298e1907178', 'width': 300}, {'height': 64, 'url': 'https://i.scdn.co/image/ab67616d00004851cc38db80928d2298e1907178', 'width': 64}], 'name': 'Mostrando Os Dentes', 'release_date': '2025-06-13', 'release_date_precision': 'day', 'total_tracks': 10, 'type': 'album', 'uri': 'spotify:album:5c0oHJioFpM2zSSJCvjay8'}, 'artists': [{'external_urls': {'spotify': 'https://open.spotify.com/artist/64QDqXMHjg0lUoGbXSCX2R'}, 'href': 'https://api.spotify.com/v1/artists/64QDqXMHjg0lUoGbXSCX2R', 'id': '64QDqXMHjg0lUoGbXSCX2R', 'name': 'Pedro Mizutani', 'type': 'artist', 'uri': 'spotify:artist:64QDqXMHjg0lUoGbXSCX2R'}, {'external_urls': {'spotify': 'https://open.spotify.com/artist/1itM5tXaK5THggpXA7ovAe'}, 'href': 'https://api.spotify.com/v1/artists/1itM5tXaK5THggpXA7ovAe', 'id': '1itM5tXaK5THggpXA7ovAe', 'name': 'Skinshape', 'type': 'artist', 'uri': 'spotify:artist:1itM5tXaK5THggpXA7ovAe'}], 'available_markets': ['AR', 'AU', 'AT', 'BE', 'BO', 'BR', 'BG', 'CA', 'CL', 'CO', 'CR', 'CY', 'CZ', 'DK', 'DO', 'DE', 'EC', 'EE', 'SV', 'FI', 'FR', 'GR', 'GT', 'HN', 'HK', 'HU', 'IS', 'IE', 'IT', 'LV', 'LT', 'LU', 'MY', 'MT', 'MX', 'NL', 'NZ', 'NI', 'NO', 'PA', 'PY', 'PE', 'PH', 'PL', 'PT', 'SG', 'SK', 'ES', 'SE', 'CH', 'TW', 'TR', 'UY', 'US', 'GB', 'AD', 'LI', 'MC', 'ID', 'JP', 'TH', 'VN', 'RO', 'IL', 'ZA', 'SA', 'AE', 'BH', 'QA', 'OM', 'KW', 'EG', 'MA', 'DZ', 'TN', 'LB', 'JO', 'PS', 'IN', 'BY', 'KZ', 'MD', 'UA', 'AL', 'BA', 'HR', 'ME', 'MK', 'RS', 'SI', 'KR', 'BD', 'PK', 'LK', 'GH', 'KE', 'NG', 'TZ', 'UG', 'AG', 'AM', 'BS', 'BB', 'BZ', 'BT', 'BW', 'BF', 'CV', 'CW', 'DM', 'FJ', 'GM', 'GE', 'GD', 'GW', 'GY', 'HT', 'JM', 'KI', 'LS', 'LR', 'MW', 'MV', 'ML', 'MH', 'FM', 'NA', 'NR', 'NE', 'PW', 'PG', 'PR', 'WS', 'SM', 'ST', 'SN', 'SC', 'SL', 'SB', 'KN', 'LC', 'VC', 'SR', 'TL', 'TO', 'TT', 'TV', 'VU', 'AZ', 'BN', 'BI', 'KH', 'CM', 'TD', 'KM', 'GQ', 'SZ', 'GA', 'GN', 'KG', 'LA', 'MO', 'MR', 'MN', 'NP', 'RW', 'TG', 'UZ', 'ZW', 'BJ', 'MG', 'MU', 'MZ', 'AO', 'CI', 'DJ', 'ZM', 'CD', 'CG', 'IQ', 'LY', 'TJ', 'VE', 'ET', 'XK'], 'disc_number': 1, 'duration_ms': 151400, 'explicit': False, 'external_ids': {'isrc': 'FR9Z62500034'}, 'external_urls': {'spotify': 'https://open.spotify.com/track/4dTzcw2ajjxSde0XFMoxXE'}, 'href': 'https://api.spotify.com/v1/tracks/4dTzcw2ajjxSde0XFMoxXE', 'id': '4dTzcw2ajjxSde0XFMoxXE', 'is_local': False, 'name': 'Deixar', 'popularity': 44, 'preview_url': None, 'track_number': 3, 'type': 'track', 'uri': 'spotify:track:4dTzcw2ajjxSde0XFMoxXE'}",
         "2025-10-20T00:27:36.288Z",
         "{'external_urls': {'spotify': 'https://open.spotify.com/album/7p0RIs3cKwogFdhQduJMDM'}, 'href': 'https://api.spotify.com/v1/albums/7p0RIs3cKwogFdhQduJMDM', 'type': 'album', 'uri': 'spotify:album:7p0RIs3cKwogFdhQduJMDM'}",
         "2025-10-20 00:27:36.288000+00:00",
         "2025-10-20 00:00:00",
         "46"
        ],
        [
         "13",
         "{'album': {'album_type': 'single', 'artists': [{'external_urls': {'spotify': 'https://open.spotify.com/artist/3dr0bDqmElcH4qBAN5j5GV'}, 'href': 'https://api.spotify.com/v1/artists/3dr0bDqmElcH4qBAN5j5GV', 'id': '3dr0bDqmElcH4qBAN5j5GV', 'name': 'Sreya', 'type': 'artist', 'uri': 'spotify:artist:3dr0bDqmElcH4qBAN5j5GV'}, {'external_urls': {'spotify': 'https://open.spotify.com/artist/30MGiQsm7e4ZmAMy7JkGOF'}, 'href': 'https://api.spotify.com/v1/artists/30MGiQsm7e4ZmAMy7JkGOF', 'id': '30MGiQsm7e4ZmAMy7JkGOF', 'name': 'Cilon', 'type': 'artist', 'uri': 'spotify:artist:30MGiQsm7e4ZmAMy7JkGOF'}, {'external_urls': {'spotify': 'https://open.spotify.com/artist/7bEipnF8YKYRRIga66A6Xl'}, 'href': 'https://api.spotify.com/v1/artists/7bEipnF8YKYRRIga66A6Xl', 'id': '7bEipnF8YKYRRIga66A6Xl', 'name': 'Tar Blanche', 'type': 'artist', 'uri': 'spotify:artist:7bEipnF8YKYRRIga66A6Xl'}], 'available_markets': ['AR', 'AU', 'AT', 'BE', 'BO', 'BR', 'BG', 'CA', 'CL', 'CO', 'CR', 'CY', 'CZ', 'DK', 'DO', 'DE', 'EC', 'EE', 'SV', 'FI', 'FR', 'GR', 'GT', 'HN', 'HK', 'HU', 'IS', 'IE', 'IT', 'LV', 'LT', 'LU', 'MY', 'MT', 'MX', 'NL', 'NZ', 'NI', 'NO', 'PA', 'PY', 'PE', 'PH', 'PL', 'PT', 'SG', 'SK', 'ES', 'SE', 'CH', 'TW', 'TR', 'UY', 'US', 'GB', 'AD', 'LI', 'MC', 'ID', 'JP', 'TH', 'VN', 'RO', 'IL', 'ZA', 'SA', 'AE', 'BH', 'QA', 'OM', 'KW', 'EG', 'MA', 'DZ', 'TN', 'LB', 'JO', 'PS', 'IN', 'BY', 'KZ', 'MD', 'UA', 'AL', 'BA', 'HR', 'ME', 'MK', 'RS', 'SI', 'KR', 'BD', 'PK', 'LK', 'GH', 'KE', 'NG', 'TZ', 'UG', 'AG', 'AM', 'BS', 'BB', 'BZ', 'BT', 'BW', 'BF', 'CV', 'CW', 'DM', 'FJ', 'GM', 'GE', 'GD', 'GW', 'GY', 'HT', 'JM', 'KI', 'LS', 'LR', 'MW', 'MV', 'ML', 'MH', 'FM', 'NA', 'NR', 'NE', 'PW', 'PG', 'PR', 'WS', 'SM', 'ST', 'SN', 'SC', 'SL', 'SB', 'KN', 'LC', 'VC', 'SR', 'TL', 'TO', 'TT', 'TV', 'VU', 'AZ', 'BN', 'BI', 'KH', 'CM', 'TD', 'KM', 'GQ', 'SZ', 'GA', 'GN', 'KG', 'LA', 'MO', 'MR', 'MN', 'NP', 'RW', 'TG', 'UZ', 'ZW', 'BJ', 'MG', 'MU', 'MZ', 'AO', 'CI', 'DJ', 'ZM', 'CD', 'CG', 'IQ', 'LY', 'TJ', 'VE', 'ET', 'XK'], 'external_urls': {'spotify': 'https://open.spotify.com/album/0mxIAYAuokT2eGDyf3zfND'}, 'href': 'https://api.spotify.com/v1/albums/0mxIAYAuokT2eGDyf3zfND', 'id': '0mxIAYAuokT2eGDyf3zfND', 'images': [{'height': 640, 'url': 'https://i.scdn.co/image/ab67616d0000b27390c83b4e7462759ceebab5b8', 'width': 640}, {'height': 300, 'url': 'https://i.scdn.co/image/ab67616d00001e0290c83b4e7462759ceebab5b8', 'width': 300}, {'height': 64, 'url': 'https://i.scdn.co/image/ab67616d0000485190c83b4e7462759ceebab5b8', 'width': 64}], 'name': 'Yemanjá (Tar Blanche Remix)', 'release_date': '2025-04-11', 'release_date_precision': 'day', 'total_tracks': 1, 'type': 'album', 'uri': 'spotify:album:0mxIAYAuokT2eGDyf3zfND'}, 'artists': [{'external_urls': {'spotify': 'https://open.spotify.com/artist/3dr0bDqmElcH4qBAN5j5GV'}, 'href': 'https://api.spotify.com/v1/artists/3dr0bDqmElcH4qBAN5j5GV', 'id': '3dr0bDqmElcH4qBAN5j5GV', 'name': 'Sreya', 'type': 'artist', 'uri': 'spotify:artist:3dr0bDqmElcH4qBAN5j5GV'}, {'external_urls': {'spotify': 'https://open.spotify.com/artist/30MGiQsm7e4ZmAMy7JkGOF'}, 'href': 'https://api.spotify.com/v1/artists/30MGiQsm7e4ZmAMy7JkGOF', 'id': '30MGiQsm7e4ZmAMy7JkGOF', 'name': 'Cilon', 'type': 'artist', 'uri': 'spotify:artist:30MGiQsm7e4ZmAMy7JkGOF'}, {'external_urls': {'spotify': 'https://open.spotify.com/artist/7bEipnF8YKYRRIga66A6Xl'}, 'href': 'https://api.spotify.com/v1/artists/7bEipnF8YKYRRIga66A6Xl', 'id': '7bEipnF8YKYRRIga66A6Xl', 'name': 'Tar Blanche', 'type': 'artist', 'uri': 'spotify:artist:7bEipnF8YKYRRIga66A6Xl'}], 'available_markets': ['AR', 'AU', 'AT', 'BE', 'BO', 'BR', 'BG', 'CA', 'CL', 'CO', 'CR', 'CY', 'CZ', 'DK', 'DO', 'DE', 'EC', 'EE', 'SV', 'FI', 'FR', 'GR', 'GT', 'HN', 'HK', 'HU', 'IS', 'IE', 'IT', 'LV', 'LT', 'LU', 'MY', 'MT', 'MX', 'NL', 'NZ', 'NI', 'NO', 'PA', 'PY', 'PE', 'PH', 'PL', 'PT', 'SG', 'SK', 'ES', 'SE', 'CH', 'TW', 'TR', 'UY', 'US', 'GB', 'AD', 'LI', 'MC', 'ID', 'JP', 'TH', 'VN', 'RO', 'IL', 'ZA', 'SA', 'AE', 'BH', 'QA', 'OM', 'KW', 'EG', 'MA', 'DZ', 'TN', 'LB', 'JO', 'PS', 'IN', 'BY', 'KZ', 'MD', 'UA', 'AL', 'BA', 'HR', 'ME', 'MK', 'RS', 'SI', 'KR', 'BD', 'PK', 'LK', 'GH', 'KE', 'NG', 'TZ', 'UG', 'AG', 'AM', 'BS', 'BB', 'BZ', 'BT', 'BW', 'BF', 'CV', 'CW', 'DM', 'FJ', 'GM', 'GE', 'GD', 'GW', 'GY', 'HT', 'JM', 'KI', 'LS', 'LR', 'MW', 'MV', 'ML', 'MH', 'FM', 'NA', 'NR', 'NE', 'PW', 'PG', 'PR', 'WS', 'SM', 'ST', 'SN', 'SC', 'SL', 'SB', 'KN', 'LC', 'VC', 'SR', 'TL', 'TO', 'TT', 'TV', 'VU', 'AZ', 'BN', 'BI', 'KH', 'CM', 'TD', 'KM', 'GQ', 'SZ', 'GA', 'GN', 'KG', 'LA', 'MO', 'MR', 'MN', 'NP', 'RW', 'TG', 'UZ', 'ZW', 'BJ', 'MG', 'MU', 'MZ', 'AO', 'CI', 'DJ', 'ZM', 'CD', 'CG', 'IQ', 'LY', 'TJ', 'VE', 'ET', 'XK'], 'disc_number': 1, 'duration_ms': 253933, 'explicit': False, 'external_ids': {'isrc': 'FR9Z62500083'}, 'external_urls': {'spotify': 'https://open.spotify.com/track/1D5t3wWGIlb5vNXOLIFFN9'}, 'href': 'https://api.spotify.com/v1/tracks/1D5t3wWGIlb5vNXOLIFFN9', 'id': '1D5t3wWGIlb5vNXOLIFFN9', 'is_local': False, 'name': 'Yemanjá - Tar Blanche Remix', 'popularity': 47, 'preview_url': None, 'track_number': 1, 'type': 'track', 'uri': 'spotify:track:1D5t3wWGIlb5vNXOLIFFN9'}",
         "2025-10-20T00:25:08.325Z",
         "{'external_urls': {'spotify': 'https://open.spotify.com/album/7p0RIs3cKwogFdhQduJMDM'}, 'href': 'https://api.spotify.com/v1/albums/7p0RIs3cKwogFdhQduJMDM', 'type': 'album', 'uri': 'spotify:album:7p0RIs3cKwogFdhQduJMDM'}",
         "2025-10-20 00:25:08.325000+00:00",
         "2025-10-20 00:00:00",
         "47"
        ],
        [
         "14",
         "{'album': {'album_type': 'single', 'artists': [{'external_urls': {'spotify': 'https://open.spotify.com/artist/60oAQJsBmykZP3GwjbSL6S'}, 'href': 'https://api.spotify.com/v1/artists/60oAQJsBmykZP3GwjbSL6S', 'id': '60oAQJsBmykZP3GwjbSL6S', 'name': 'Mariana Froes', 'type': 'artist', 'uri': 'spotify:artist:60oAQJsBmykZP3GwjbSL6S'}], 'available_markets': ['AR', 'AU', 'AT', 'BE', 'BO', 'BR', 'BG', 'CA', 'CL', 'CO', 'CR', 'CY', 'CZ', 'DK', 'DO', 'DE', 'EC', 'EE', 'SV', 'FI', 'FR', 'GR', 'GT', 'HN', 'HK', 'HU', 'IS', 'IE', 'IT', 'LV', 'LT', 'LU', 'MY', 'MT', 'MX', 'NL', 'NZ', 'NI', 'NO', 'PA', 'PY', 'PE', 'PH', 'PL', 'PT', 'SG', 'SK', 'ES', 'SE', 'CH', 'TW', 'TR', 'UY', 'US', 'GB', 'AD', 'LI', 'MC', 'ID', 'JP', 'TH', 'VN', 'RO', 'IL', 'ZA', 'SA', 'AE', 'BH', 'QA', 'OM', 'KW', 'EG', 'MA', 'DZ', 'TN', 'LB', 'JO', 'PS', 'IN', 'BY', 'KZ', 'MD', 'UA', 'AL', 'BA', 'HR', 'ME', 'MK', 'RS', 'SI', 'KR', 'BD', 'PK', 'LK', 'GH', 'KE', 'NG', 'TZ', 'UG', 'AG', 'AM', 'BS', 'BB', 'BZ', 'BT', 'BW', 'BF', 'CV', 'CW', 'DM', 'FJ', 'GM', 'GE', 'GD', 'GW', 'GY', 'HT', 'JM', 'KI', 'LS', 'LR', 'MW', 'MV', 'ML', 'MH', 'FM', 'NA', 'NR', 'NE', 'PW', 'PG', 'PR', 'WS', 'SM', 'ST', 'SN', 'SC', 'SL', 'SB', 'KN', 'LC', 'VC', 'SR', 'TL', 'TO', 'TT', 'TV', 'VU', 'AZ', 'BN', 'BI', 'KH', 'CM', 'TD', 'KM', 'GQ', 'SZ', 'GA', 'GN', 'KG', 'LA', 'MO', 'MR', 'MN', 'NP', 'RW', 'TG', 'UZ', 'ZW', 'BJ', 'MG', 'MU', 'MZ', 'AO', 'CI', 'DJ', 'ZM', 'CD', 'CG', 'IQ', 'LY', 'TJ', 'VE', 'ET', 'XK'], 'external_urls': {'spotify': 'https://open.spotify.com/album/42pGRNpFJumps5qcggM8Tj'}, 'href': 'https://api.spotify.com/v1/albums/42pGRNpFJumps5qcggM8Tj', 'id': '42pGRNpFJumps5qcggM8Tj', 'images': [{'height': 640, 'url': 'https://i.scdn.co/image/ab67616d0000b2738d5589c8d434d3b97e7fea96', 'width': 640}, {'height': 300, 'url': 'https://i.scdn.co/image/ab67616d00001e028d5589c8d434d3b97e7fea96', 'width': 300}, {'height': 64, 'url': 'https://i.scdn.co/image/ab67616d000048518d5589c8d434d3b97e7fea96', 'width': 64}], 'name': 'Figa De Guiné', 'release_date': '2025-05-23', 'release_date_precision': 'day', 'total_tracks': 1, 'type': 'album', 'uri': 'spotify:album:42pGRNpFJumps5qcggM8Tj'}, 'artists': [{'external_urls': {'spotify': 'https://open.spotify.com/artist/60oAQJsBmykZP3GwjbSL6S'}, 'href': 'https://api.spotify.com/v1/artists/60oAQJsBmykZP3GwjbSL6S', 'id': '60oAQJsBmykZP3GwjbSL6S', 'name': 'Mariana Froes', 'type': 'artist', 'uri': 'spotify:artist:60oAQJsBmykZP3GwjbSL6S'}], 'available_markets': ['AR', 'AU', 'AT', 'BE', 'BO', 'BR', 'BG', 'CA', 'CL', 'CO', 'CR', 'CY', 'CZ', 'DK', 'DO', 'DE', 'EC', 'EE', 'SV', 'FI', 'FR', 'GR', 'GT', 'HN', 'HK', 'HU', 'IS', 'IE', 'IT', 'LV', 'LT', 'LU', 'MY', 'MT', 'MX', 'NL', 'NZ', 'NI', 'NO', 'PA', 'PY', 'PE', 'PH', 'PL', 'PT', 'SG', 'SK', 'ES', 'SE', 'CH', 'TW', 'TR', 'UY', 'US', 'GB', 'AD', 'LI', 'MC', 'ID', 'JP', 'TH', 'VN', 'RO', 'IL', 'ZA', 'SA', 'AE', 'BH', 'QA', 'OM', 'KW', 'EG', 'MA', 'DZ', 'TN', 'LB', 'JO', 'PS', 'IN', 'BY', 'KZ', 'MD', 'UA', 'AL', 'BA', 'HR', 'ME', 'MK', 'RS', 'SI', 'KR', 'BD', 'PK', 'LK', 'GH', 'KE', 'NG', 'TZ', 'UG', 'AG', 'AM', 'BS', 'BB', 'BZ', 'BT', 'BW', 'BF', 'CV', 'CW', 'DM', 'FJ', 'GM', 'GE', 'GD', 'GW', 'GY', 'HT', 'JM', 'KI', 'LS', 'LR', 'MW', 'MV', 'ML', 'MH', 'FM', 'NA', 'NR', 'NE', 'PW', 'PG', 'PR', 'WS', 'SM', 'ST', 'SN', 'SC', 'SL', 'SB', 'KN', 'LC', 'VC', 'SR', 'TL', 'TO', 'TT', 'TV', 'VU', 'AZ', 'BN', 'BI', 'KH', 'CM', 'TD', 'KM', 'GQ', 'SZ', 'GA', 'GN', 'KG', 'LA', 'MO', 'MR', 'MN', 'NP', 'RW', 'TG', 'UZ', 'ZW', 'BJ', 'MG', 'MU', 'MZ', 'AO', 'CI', 'DJ', 'ZM', 'CD', 'CG', 'IQ', 'LY', 'TJ', 'VE', 'ET', 'XK'], 'disc_number': 1, 'duration_ms': 140909, 'explicit': False, 'external_ids': {'isrc': 'DEE862500603'}, 'external_urls': {'spotify': 'https://open.spotify.com/track/6NHAz8a9j2yZkP2TP48yLK'}, 'href': 'https://api.spotify.com/v1/tracks/6NHAz8a9j2yZkP2TP48yLK', 'id': '6NHAz8a9j2yZkP2TP48yLK', 'is_local': False, 'name': 'Figa De Guiné', 'popularity': 68, 'preview_url': None, 'track_number': 1, 'type': 'track', 'uri': 'spotify:track:6NHAz8a9j2yZkP2TP48yLK'}",
         "2025-10-20T00:20:57.690Z",
         "{'external_urls': {'spotify': 'https://open.spotify.com/album/7p0RIs3cKwogFdhQduJMDM'}, 'href': 'https://api.spotify.com/v1/albums/7p0RIs3cKwogFdhQduJMDM', 'type': 'album', 'uri': 'spotify:album:7p0RIs3cKwogFdhQduJMDM'}",
         "2025-10-20 00:20:57.690000+00:00",
         "2025-10-20 00:00:00",
         "48"
        ],
        [
         "15",
         "{'album': {'album_type': 'single', 'artists': [{'external_urls': {'spotify': 'https://open.spotify.com/artist/00x1fYSGhdqScXBRpSj3DW'}, 'href': 'https://api.spotify.com/v1/artists/00x1fYSGhdqScXBRpSj3DW', 'id': '00x1fYSGhdqScXBRpSj3DW', 'name': 'Olivia Dean', 'type': 'artist', 'uri': 'spotify:artist:00x1fYSGhdqScXBRpSj3DW'}], 'available_markets': ['AR', 'AU', 'AT', 'BE', 'BO', 'BR', 'BG', 'CA', 'CL', 'CO', 'CR', 'CY', 'CZ', 'DK', 'DO', 'DE', 'EC', 'EE', 'SV', 'FI', 'FR', 'GR', 'GT', 'HN', 'HK', 'HU', 'IS', 'IE', 'IT', 'LV', 'LT', 'LU', 'MY', 'MT', 'MX', 'NL', 'NZ', 'NI', 'NO', 'PA', 'PY', 'PE', 'PH', 'PL', 'PT', 'SG', 'SK', 'ES', 'CH', 'TW', 'TR', 'UY', 'US', 'GB', 'AD', 'LI', 'MC', 'ID', 'JP', 'TH', 'VN', 'RO', 'IL', 'ZA', 'SA', 'AE', 'BH', 'QA', 'OM', 'KW', 'EG', 'MA', 'DZ', 'TN', 'LB', 'JO', 'PS', 'IN', 'KZ', 'MD', 'UA', 'AL', 'BA', 'HR', 'ME', 'MK', 'RS', 'SI', 'KR', 'BD', 'PK', 'LK', 'GH', 'KE', 'NG', 'TZ', 'UG', 'AG', 'AM', 'BS', 'BB', 'BZ', 'BT', 'BW', 'BF', 'CV', 'CW', 'DM', 'FJ', 'GM', 'GE', 'GD', 'GW', 'GY', 'HT', 'JM', 'KI', 'LS', 'LR', 'MW', 'MV', 'ML', 'MH', 'FM', 'NA', 'NR', 'NE', 'PW', 'PG', 'WS', 'SM', 'ST', 'SN', 'SC', 'SL', 'SB', 'KN', 'LC', 'VC', 'SR', 'TL', 'TO', 'TT', 'TV', 'VU', 'AZ', 'BN', 'BI', 'KH', 'CM', 'TD', 'KM', 'GQ', 'SZ', 'GA', 'GN', 'KG', 'LA', 'MO', 'MR', 'MN', 'NP', 'RW', 'TG', 'UZ', 'ZW', 'BJ', 'MG', 'MU', 'MZ', 'AO', 'CI', 'DJ', 'ZM', 'CD', 'CG', 'IQ', 'LY', 'TJ', 'VE', 'ET', 'XK'], 'external_urls': {'spotify': 'https://open.spotify.com/album/0Bv6OJO0L5gcf20DMww54a'}, 'href': 'https://api.spotify.com/v1/albums/0Bv6OJO0L5gcf20DMww54a', 'id': '0Bv6OJO0L5gcf20DMww54a', 'images': [{'height': 640, 'url': 'https://i.scdn.co/image/ab67616d0000b273e3d69e17dde129037a1f09e2', 'width': 640}, {'height': 300, 'url': 'https://i.scdn.co/image/ab67616d00001e02e3d69e17dde129037a1f09e2', 'width': 300}, {'height': 64, 'url': 'https://i.scdn.co/image/ab67616d00004851e3d69e17dde129037a1f09e2', 'width': 64}], 'name': 'Man I Need', 'release_date': '2025-08-15', 'release_date_precision': 'day', 'total_tracks': 3, 'type': 'album', 'uri': 'spotify:album:0Bv6OJO0L5gcf20DMww54a'}, 'artists': [{'external_urls': {'spotify': 'https://open.spotify.com/artist/00x1fYSGhdqScXBRpSj3DW'}, 'href': 'https://api.spotify.com/v1/artists/00x1fYSGhdqScXBRpSj3DW', 'id': '00x1fYSGhdqScXBRpSj3DW', 'name': 'Olivia Dean', 'type': 'artist', 'uri': 'spotify:artist:00x1fYSGhdqScXBRpSj3DW'}], 'available_markets': ['AR', 'AU', 'AT', 'BE', 'BO', 'BR', 'BG', 'CA', 'CL', 'CO', 'CR', 'CY', 'CZ', 'DK', 'DO', 'DE', 'EC', 'EE', 'SV', 'FI', 'FR', 'GR', 'GT', 'HN', 'HK', 'HU', 'IS', 'IE', 'IT', 'LV', 'LT', 'LU', 'MY', 'MT', 'MX', 'NL', 'NZ', 'NI', 'NO', 'PA', 'PY', 'PE', 'PH', 'PL', 'PT', 'SG', 'SK', 'ES', 'CH', 'TW', 'TR', 'UY', 'US', 'GB', 'AD', 'LI', 'MC', 'ID', 'JP', 'TH', 'VN', 'RO', 'IL', 'ZA', 'SA', 'AE', 'BH', 'QA', 'OM', 'KW', 'EG', 'MA', 'DZ', 'TN', 'LB', 'JO', 'PS', 'IN', 'KZ', 'MD', 'UA', 'AL', 'BA', 'HR', 'ME', 'MK', 'RS', 'SI', 'KR', 'BD', 'PK', 'LK', 'GH', 'KE', 'NG', 'TZ', 'UG', 'AG', 'AM', 'BS', 'BB', 'BZ', 'BT', 'BW', 'BF', 'CV', 'CW', 'DM', 'FJ', 'GM', 'GE', 'GD', 'GW', 'GY', 'HT', 'JM', 'KI', 'LS', 'LR', 'MW', 'MV', 'ML', 'MH', 'FM', 'NA', 'NR', 'NE', 'PW', 'PG', 'WS', 'SM', 'ST', 'SN', 'SC', 'SL', 'SB', 'KN', 'LC', 'VC', 'SR', 'TL', 'TO', 'TT', 'TV', 'VU', 'AZ', 'BN', 'BI', 'KH', 'CM', 'TD', 'KM', 'GQ', 'SZ', 'GA', 'GN', 'KG', 'LA', 'MO', 'MR', 'MN', 'NP', 'RW', 'TG', 'UZ', 'ZW', 'BJ', 'MG', 'MU', 'MZ', 'AO', 'CI', 'DJ', 'ZM', 'CD', 'CG', 'IQ', 'LY', 'TJ', 'VE', 'ET', 'XK'], 'disc_number': 1, 'duration_ms': 184000, 'explicit': False, 'external_ids': {'isrc': 'GBUM72503089'}, 'external_urls': {'spotify': 'https://open.spotify.com/track/1qbmS6ep2hbBRaEZFpn7BX'}, 'href': 'https://api.spotify.com/v1/tracks/1qbmS6ep2hbBRaEZFpn7BX', 'id': '1qbmS6ep2hbBRaEZFpn7BX', 'is_local': False, 'name': 'Man I Need', 'popularity': 95, 'preview_url': None, 'track_number': 1, 'type': 'track', 'uri': 'spotify:track:1qbmS6ep2hbBRaEZFpn7BX'}",
         "2025-10-20T00:18:40.141Z",
         "{'external_urls': {'spotify': 'https://open.spotify.com/album/7p0RIs3cKwogFdhQduJMDM'}, 'href': 'https://api.spotify.com/v1/albums/7p0RIs3cKwogFdhQduJMDM', 'type': 'album', 'uri': 'spotify:album:7p0RIs3cKwogFdhQduJMDM'}",
         "2025-10-20 00:18:40.141000+00:00",
         "2025-10-20 00:00:00",
         "49"
        ],
        [
         "16",
         "{'album': {'album_type': 'single', 'artists': [{'external_urls': {'spotify': 'https://open.spotify.com/artist/49WbztFLx9iDTh8LHEIF84'}, 'href': 'https://api.spotify.com/v1/artists/49WbztFLx9iDTh8LHEIF84', 'id': '49WbztFLx9iDTh8LHEIF84', 'name': 'Flitz&Suppe', 'type': 'artist', 'uri': 'spotify:artist:49WbztFLx9iDTh8LHEIF84'}, {'external_urls': {'spotify': 'https://open.spotify.com/artist/13ACz7DIictCpSYGglNTHs'}, 'href': 'https://api.spotify.com/v1/artists/13ACz7DIictCpSYGglNTHs', 'id': '13ACz7DIictCpSYGglNTHs', 'name': 'Philanthrope', 'type': 'artist', 'uri': 'spotify:artist:13ACz7DIictCpSYGglNTHs'}], 'available_markets': ['AR', 'AU', 'AT', 'BE', 'BO', 'BR', 'BG', 'CA', 'CL', 'CO', 'CR', 'CY', 'CZ', 'DK', 'DO', 'DE', 'EC', 'EE', 'SV', 'FI', 'FR', 'GR', 'GT', 'HN', 'HK', 'HU', 'IS', 'IE', 'IT', 'LV', 'LT', 'LU', 'MY', 'MT', 'MX', 'NL', 'NZ', 'NI', 'NO', 'PA', 'PY', 'PE', 'PH', 'PL', 'PT', 'SG', 'SK', 'ES', 'SE', 'CH', 'TW', 'TR', 'UY', 'US', 'GB', 'AD', 'LI', 'MC', 'ID', 'JP', 'TH', 'VN', 'RO', 'IL', 'ZA', 'SA', 'AE', 'BH', 'QA', 'OM', 'KW', 'EG', 'MA', 'DZ', 'TN', 'LB', 'JO', 'PS', 'IN', 'BY', 'KZ', 'MD', 'UA', 'AL', 'BA', 'HR', 'ME', 'MK', 'RS', 'SI', 'KR', 'BD', 'PK', 'LK', 'GH', 'KE', 'NG', 'TZ', 'UG', 'AG', 'AM', 'BS', 'BB', 'BZ', 'BT', 'BW', 'BF', 'CV', 'CW', 'DM', 'FJ', 'GM', 'GE', 'GD', 'GW', 'GY', 'HT', 'JM', 'KI', 'LS', 'LR', 'MW', 'MV', 'ML', 'MH', 'FM', 'NA', 'NR', 'NE', 'PW', 'PG', 'PR', 'WS', 'SM', 'ST', 'SN', 'SC', 'SL', 'SB', 'KN', 'LC', 'VC', 'SR', 'TL', 'TO', 'TT', 'TV', 'VU', 'AZ', 'BN', 'BI', 'KH', 'CM', 'TD', 'KM', 'GQ', 'SZ', 'GA', 'GN', 'KG', 'LA', 'MO', 'MR', 'MN', 'NP', 'RW', 'TG', 'UZ', 'ZW', 'BJ', 'MG', 'MU', 'MZ', 'AO', 'CI', 'DJ', 'ZM', 'CD', 'CG', 'IQ', 'LY', 'TJ', 'VE', 'ET', 'XK'], 'external_urls': {'spotify': 'https://open.spotify.com/album/3JCjosZ0eIJ9Gr1HE7hhBB'}, 'href': 'https://api.spotify.com/v1/albums/3JCjosZ0eIJ9Gr1HE7hhBB', 'id': '3JCjosZ0eIJ9Gr1HE7hhBB', 'images': [{'height': 640, 'url': 'https://i.scdn.co/image/ab67616d0000b2738e2ea5eb77d2551d52299e55', 'width': 640}, {'height': 300, 'url': 'https://i.scdn.co/image/ab67616d00001e028e2ea5eb77d2551d52299e55', 'width': 300}, {'height': 64, 'url': 'https://i.scdn.co/image/ab67616d000048518e2ea5eb77d2551d52299e55', 'width': 64}], 'name': 'Quicksilver', 'release_date': '2025-07-18', 'release_date_precision': 'day', 'total_tracks': 1, 'type': 'album', 'uri': 'spotify:album:3JCjosZ0eIJ9Gr1HE7hhBB'}, 'artists': [{'external_urls': {'spotify': 'https://open.spotify.com/artist/49WbztFLx9iDTh8LHEIF84'}, 'href': 'https://api.spotify.com/v1/artists/49WbztFLx9iDTh8LHEIF84', 'id': '49WbztFLx9iDTh8LHEIF84', 'name': 'Flitz&Suppe', 'type': 'artist', 'uri': 'spotify:artist:49WbztFLx9iDTh8LHEIF84'}, {'external_urls': {'spotify': 'https://open.spotify.com/artist/13ACz7DIictCpSYGglNTHs'}, 'href': 'https://api.spotify.com/v1/artists/13ACz7DIictCpSYGglNTHs', 'id': '13ACz7DIictCpSYGglNTHs', 'name': 'Philanthrope', 'type': 'artist', 'uri': 'spotify:artist:13ACz7DIictCpSYGglNTHs'}], 'available_markets': ['AR', 'AU', 'AT', 'BE', 'BO', 'BR', 'BG', 'CA', 'CL', 'CO', 'CR', 'CY', 'CZ', 'DK', 'DO', 'DE', 'EC', 'EE', 'SV', 'FI', 'FR', 'GR', 'GT', 'HN', 'HK', 'HU', 'IS', 'IE', 'IT', 'LV', 'LT', 'LU', 'MY', 'MT', 'MX', 'NL', 'NZ', 'NI', 'NO', 'PA', 'PY', 'PE', 'PH', 'PL', 'PT', 'SG', 'SK', 'ES', 'SE', 'CH', 'TW', 'TR', 'UY', 'US', 'GB', 'AD', 'LI', 'MC', 'ID', 'JP', 'TH', 'VN', 'RO', 'IL', 'ZA', 'SA', 'AE', 'BH', 'QA', 'OM', 'KW', 'EG', 'MA', 'DZ', 'TN', 'LB', 'JO', 'PS', 'IN', 'BY', 'KZ', 'MD', 'UA', 'AL', 'BA', 'HR', 'ME', 'MK', 'RS', 'SI', 'KR', 'BD', 'PK', 'LK', 'GH', 'KE', 'NG', 'TZ', 'UG', 'AG', 'AM', 'BS', 'BB', 'BZ', 'BT', 'BW', 'BF', 'CV', 'CW', 'DM', 'FJ', 'GM', 'GE', 'GD', 'GW', 'GY', 'HT', 'JM', 'KI', 'LS', 'LR', 'MW', 'MV', 'ML', 'MH', 'FM', 'NA', 'NR', 'NE', 'PW', 'PG', 'PR', 'WS', 'SM', 'ST', 'SN', 'SC', 'SL', 'SB', 'KN', 'LC', 'VC', 'SR', 'TL', 'TO', 'TT', 'TV', 'VU', 'AZ', 'BN', 'BI', 'KH', 'CM', 'TD', 'KM', 'GQ', 'SZ', 'GA', 'GN', 'KG', 'LA', 'MO', 'MR', 'MN', 'NP', 'RW', 'TG', 'UZ', 'ZW', 'BJ', 'MG', 'MU', 'MZ', 'AO', 'CI', 'DJ', 'ZM', 'CD', 'CG', 'IQ', 'LY', 'TJ', 'VE', 'ET', 'XK'], 'disc_number': 1, 'duration_ms': 105565, 'explicit': False, 'external_ids': {'isrc': 'DEZC62502188'}, 'external_urls': {'spotify': 'https://open.spotify.com/track/54ckMlZ8KZy4WhYJdgNqQ6'}, 'href': 'https://api.spotify.com/v1/tracks/54ckMlZ8KZy4WhYJdgNqQ6', 'id': '54ckMlZ8KZy4WhYJdgNqQ6', 'is_local': False, 'name': 'Quicksilver', 'popularity': 58, 'preview_url': None, 'track_number': 1, 'type': 'track', 'uri': 'spotify:track:54ckMlZ8KZy4WhYJdgNqQ6'}",
         "2025-10-21T14:54:09.469Z",
         "{'external_urls': {'spotify': 'https://open.spotify.com/playlist/37i9dQZF1DWZZbwlv3Vmtr'}, 'href': 'https://api.spotify.com/v1/playlists/37i9dQZF1DWZZbwlv3Vmtr', 'type': 'playlist', 'uri': 'spotify:playlist:37i9dQZF1DWZZbwlv3Vmtr'}",
         "2025-10-21 14:54:09.469000+00:00",
         "2025-10-21 00:00:00",
         "6"
        ],
        [
         "17",
         "{'album': {'album_type': 'single', 'artists': [{'external_urls': {'spotify': 'https://open.spotify.com/artist/3nYAsFmuTO2M6A9Gpb8CCr'}, 'href': 'https://api.spotify.com/v1/artists/3nYAsFmuTO2M6A9Gpb8CCr', 'id': '3nYAsFmuTO2M6A9Gpb8CCr', 'name': 'May-Flowa', 'type': 'artist', 'uri': 'spotify:artist:3nYAsFmuTO2M6A9Gpb8CCr'}], 'available_markets': ['AR', 'AU', 'AT', 'BE', 'BO', 'BR', 'BG', 'CA', 'CL', 'CO', 'CR', 'CY', 'CZ', 'DK', 'DO', 'DE', 'EC', 'EE', 'SV', 'FI', 'FR', 'GR', 'GT', 'HN', 'HK', 'HU', 'IS', 'IE', 'IT', 'LV', 'LT', 'LU', 'MY', 'MT', 'MX', 'NL', 'NZ', 'NI', 'NO', 'PA', 'PY', 'PE', 'PH', 'PL', 'PT', 'SG', 'SK', 'ES', 'SE', 'CH', 'TW', 'TR', 'UY', 'US', 'GB', 'AD', 'LI', 'MC', 'ID', 'JP', 'TH', 'VN', 'RO', 'IL', 'ZA', 'SA', 'AE', 'BH', 'QA', 'OM', 'KW', 'EG', 'MA', 'DZ', 'TN', 'LB', 'JO', 'PS', 'IN', 'BY', 'KZ', 'MD', 'UA', 'AL', 'BA', 'HR', 'ME', 'MK', 'RS', 'SI', 'KR', 'BD', 'PK', 'LK', 'GH', 'KE', 'NG', 'TZ', 'UG', 'AG', 'AM', 'BS', 'BB', 'BZ', 'BT', 'BW', 'BF', 'CV', 'CW', 'DM', 'FJ', 'GM', 'GE', 'GD', 'GW', 'GY', 'HT', 'JM', 'KI', 'LS', 'LR', 'MW', 'MV', 'ML', 'MH', 'FM', 'NA', 'NR', 'NE', 'PW', 'PG', 'PR', 'WS', 'SM', 'ST', 'SN', 'SC', 'SL', 'SB', 'KN', 'LC', 'VC', 'SR', 'TL', 'TO', 'TT', 'TV', 'VU', 'AZ', 'BN', 'BI', 'KH', 'CM', 'TD', 'KM', 'GQ', 'SZ', 'GA', 'GN', 'KG', 'LA', 'MO', 'MR', 'MN', 'NP', 'RW', 'TG', 'UZ', 'ZW', 'BJ', 'MG', 'MU', 'MZ', 'AO', 'CI', 'DJ', 'ZM', 'CD', 'CG', 'IQ', 'LY', 'TJ', 'VE', 'ET', 'XK'], 'external_urls': {'spotify': 'https://open.spotify.com/album/0TvDOPs9zI1WqiqK5Hsbko'}, 'href': 'https://api.spotify.com/v1/albums/0TvDOPs9zI1WqiqK5Hsbko', 'id': '0TvDOPs9zI1WqiqK5Hsbko', 'images': [{'height': 640, 'url': 'https://i.scdn.co/image/ab67616d0000b273fed78db634ae3e4b7ee1d020', 'width': 640}, {'height': 300, 'url': 'https://i.scdn.co/image/ab67616d00001e02fed78db634ae3e4b7ee1d020', 'width': 300}, {'height': 64, 'url': 'https://i.scdn.co/image/ab67616d00004851fed78db634ae3e4b7ee1d020', 'width': 64}], 'name': 'lavish', 'release_date': '2025-05-25', 'release_date_precision': 'day', 'total_tracks': 1, 'type': 'album', 'uri': 'spotify:album:0TvDOPs9zI1WqiqK5Hsbko'}, 'artists': [{'external_urls': {'spotify': 'https://open.spotify.com/artist/3nYAsFmuTO2M6A9Gpb8CCr'}, 'href': 'https://api.spotify.com/v1/artists/3nYAsFmuTO2M6A9Gpb8CCr', 'id': '3nYAsFmuTO2M6A9Gpb8CCr', 'name': 'May-Flowa', 'type': 'artist', 'uri': 'spotify:artist:3nYAsFmuTO2M6A9Gpb8CCr'}], 'available_markets': ['AR', 'AU', 'AT', 'BE', 'BO', 'BR', 'BG', 'CA', 'CL', 'CO', 'CR', 'CY', 'CZ', 'DK', 'DO', 'DE', 'EC', 'EE', 'SV', 'FI', 'FR', 'GR', 'GT', 'HN', 'HK', 'HU', 'IS', 'IE', 'IT', 'LV', 'LT', 'LU', 'MY', 'MT', 'MX', 'NL', 'NZ', 'NI', 'NO', 'PA', 'PY', 'PE', 'PH', 'PL', 'PT', 'SG', 'SK', 'ES', 'SE', 'CH', 'TW', 'TR', 'UY', 'US', 'GB', 'AD', 'LI', 'MC', 'ID', 'JP', 'TH', 'VN', 'RO', 'IL', 'ZA', 'SA', 'AE', 'BH', 'QA', 'OM', 'KW', 'EG', 'MA', 'DZ', 'TN', 'LB', 'JO', 'PS', 'IN', 'BY', 'KZ', 'MD', 'UA', 'AL', 'BA', 'HR', 'ME', 'MK', 'RS', 'SI', 'KR', 'BD', 'PK', 'LK', 'GH', 'KE', 'NG', 'TZ', 'UG', 'AG', 'AM', 'BS', 'BB', 'BZ', 'BT', 'BW', 'BF', 'CV', 'CW', 'DM', 'FJ', 'GM', 'GE', 'GD', 'GW', 'GY', 'HT', 'JM', 'KI', 'LS', 'LR', 'MW', 'MV', 'ML', 'MH', 'FM', 'NA', 'NR', 'NE', 'PW', 'PG', 'PR', 'WS', 'SM', 'ST', 'SN', 'SC', 'SL', 'SB', 'KN', 'LC', 'VC', 'SR', 'TL', 'TO', 'TT', 'TV', 'VU', 'AZ', 'BN', 'BI', 'KH', 'CM', 'TD', 'KM', 'GQ', 'SZ', 'GA', 'GN', 'KG', 'LA', 'MO', 'MR', 'MN', 'NP', 'RW', 'TG', 'UZ', 'ZW', 'BJ', 'MG', 'MU', 'MZ', 'AO', 'CI', 'DJ', 'ZM', 'CD', 'CG', 'IQ', 'LY', 'TJ', 'VE', 'ET', 'XK'], 'disc_number': 1, 'duration_ms': 123077, 'explicit': False, 'external_ids': {'isrc': 'QZAKB2507161'}, 'external_urls': {'spotify': 'https://open.spotify.com/track/7hTE9yYF9dlFv6w3Ybh8S8'}, 'href': 'https://api.spotify.com/v1/tracks/7hTE9yYF9dlFv6w3Ybh8S8', 'id': '7hTE9yYF9dlFv6w3Ybh8S8', 'is_local': False, 'name': 'lavish', 'popularity': 55, 'preview_url': None, 'track_number': 1, 'type': 'track', 'uri': 'spotify:track:7hTE9yYF9dlFv6w3Ybh8S8'}",
         "2025-10-21T14:52:47.427Z",
         "{'external_urls': {'spotify': 'https://open.spotify.com/playlist/37i9dQZF1DWZZbwlv3Vmtr'}, 'href': 'https://api.spotify.com/v1/playlists/37i9dQZF1DWZZbwlv3Vmtr', 'type': 'playlist', 'uri': 'spotify:playlist:37i9dQZF1DWZZbwlv3Vmtr'}",
         "2025-10-21 14:52:47.427000+00:00",
         "2025-10-21 00:00:00",
         "7"
        ],
        [
         "18",
         "{'album': {'album_type': 'single', 'artists': [{'external_urls': {'spotify': 'https://open.spotify.com/artist/4FVJdMWSQhn3zO1NKxMHAi'}, 'href': 'https://api.spotify.com/v1/artists/4FVJdMWSQhn3zO1NKxMHAi', 'id': '4FVJdMWSQhn3zO1NKxMHAi', 'name': 'Analogue Alf', 'type': 'artist', 'uri': 'spotify:artist:4FVJdMWSQhn3zO1NKxMHAi'}], 'available_markets': ['AR', 'AU', 'AT', 'BE', 'BO', 'BR', 'BG', 'CA', 'CL', 'CO', 'CR', 'CY', 'CZ', 'DK', 'DO', 'DE', 'EC', 'EE', 'SV', 'FI', 'FR', 'GR', 'GT', 'HN', 'HK', 'HU', 'IS', 'IE', 'IT', 'LV', 'LT', 'LU', 'MY', 'MT', 'MX', 'NL', 'NZ', 'NI', 'NO', 'PA', 'PY', 'PE', 'PH', 'PL', 'PT', 'SG', 'SK', 'ES', 'SE', 'CH', 'TW', 'TR', 'UY', 'US', 'GB', 'AD', 'LI', 'MC', 'ID', 'JP', 'TH', 'VN', 'RO', 'IL', 'ZA', 'SA', 'AE', 'BH', 'QA', 'OM', 'KW', 'EG', 'MA', 'DZ', 'TN', 'LB', 'JO', 'PS', 'IN', 'BY', 'KZ', 'MD', 'UA', 'AL', 'BA', 'HR', 'ME', 'MK', 'RS', 'SI', 'KR', 'BD', 'PK', 'LK', 'GH', 'KE', 'NG', 'TZ', 'UG', 'AG', 'AM', 'BS', 'BB', 'BZ', 'BT', 'BW', 'BF', 'CV', 'CW', 'DM', 'FJ', 'GM', 'GE', 'GD', 'GW', 'GY', 'HT', 'JM', 'KI', 'LS', 'LR', 'MW', 'MV', 'ML', 'MH', 'FM', 'NA', 'NR', 'NE', 'PW', 'PG', 'PR', 'WS', 'SM', 'ST', 'SN', 'SC', 'SL', 'SB', 'KN', 'LC', 'VC', 'SR', 'TL', 'TO', 'TT', 'TV', 'VU', 'AZ', 'BN', 'BI', 'KH', 'CM', 'TD', 'KM', 'GQ', 'SZ', 'GA', 'GN', 'KG', 'LA', 'MO', 'MR', 'MN', 'NP', 'RW', 'TG', 'UZ', 'ZW', 'BJ', 'MG', 'MU', 'MZ', 'AO', 'CI', 'DJ', 'ZM', 'CD', 'CG', 'IQ', 'LY', 'TJ', 'VE', 'ET', 'XK'], 'external_urls': {'spotify': 'https://open.spotify.com/album/2OcgzCWKFUbQ1jnY8Rlaw0'}, 'href': 'https://api.spotify.com/v1/albums/2OcgzCWKFUbQ1jnY8Rlaw0', 'id': '2OcgzCWKFUbQ1jnY8Rlaw0', 'images': [{'height': 640, 'url': 'https://i.scdn.co/image/ab67616d0000b2730bd4728824ff27ab9def9a32', 'width': 640}, {'height': 300, 'url': 'https://i.scdn.co/image/ab67616d00001e020bd4728824ff27ab9def9a32', 'width': 300}, {'height': 64, 'url': 'https://i.scdn.co/image/ab67616d000048510bd4728824ff27ab9def9a32', 'width': 64}], 'name': 'oldkeys', 'release_date': '2025-08-03', 'release_date_precision': 'day', 'total_tracks': 1, 'type': 'album', 'uri': 'spotify:album:2OcgzCWKFUbQ1jnY8Rlaw0'}, 'artists': [{'external_urls': {'spotify': 'https://open.spotify.com/artist/4FVJdMWSQhn3zO1NKxMHAi'}, 'href': 'https://api.spotify.com/v1/artists/4FVJdMWSQhn3zO1NKxMHAi', 'id': '4FVJdMWSQhn3zO1NKxMHAi', 'name': 'Analogue Alf', 'type': 'artist', 'uri': 'spotify:artist:4FVJdMWSQhn3zO1NKxMHAi'}], 'available_markets': ['AR', 'AU', 'AT', 'BE', 'BO', 'BR', 'BG', 'CA', 'CL', 'CO', 'CR', 'CY', 'CZ', 'DK', 'DO', 'DE', 'EC', 'EE', 'SV', 'FI', 'FR', 'GR', 'GT', 'HN', 'HK', 'HU', 'IS', 'IE', 'IT', 'LV', 'LT', 'LU', 'MY', 'MT', 'MX', 'NL', 'NZ', 'NI', 'NO', 'PA', 'PY', 'PE', 'PH', 'PL', 'PT', 'SG', 'SK', 'ES', 'SE', 'CH', 'TW', 'TR', 'UY', 'US', 'GB', 'AD', 'LI', 'MC', 'ID', 'JP', 'TH', 'VN', 'RO', 'IL', 'ZA', 'SA', 'AE', 'BH', 'QA', 'OM', 'KW', 'EG', 'MA', 'DZ', 'TN', 'LB', 'JO', 'PS', 'IN', 'BY', 'KZ', 'MD', 'UA', 'AL', 'BA', 'HR', 'ME', 'MK', 'RS', 'SI', 'KR', 'BD', 'PK', 'LK', 'GH', 'KE', 'NG', 'TZ', 'UG', 'AG', 'AM', 'BS', 'BB', 'BZ', 'BT', 'BW', 'BF', 'CV', 'CW', 'DM', 'FJ', 'GM', 'GE', 'GD', 'GW', 'GY', 'HT', 'JM', 'KI', 'LS', 'LR', 'MW', 'MV', 'ML', 'MH', 'FM', 'NA', 'NR', 'NE', 'PW', 'PG', 'PR', 'WS', 'SM', 'ST', 'SN', 'SC', 'SL', 'SB', 'KN', 'LC', 'VC', 'SR', 'TL', 'TO', 'TT', 'TV', 'VU', 'AZ', 'BN', 'BI', 'KH', 'CM', 'TD', 'KM', 'GQ', 'SZ', 'GA', 'GN', 'KG', 'LA', 'MO', 'MR', 'MN', 'NP', 'RW', 'TG', 'UZ', 'ZW', 'BJ', 'MG', 'MU', 'MZ', 'AO', 'CI', 'DJ', 'ZM', 'CD', 'CG', 'IQ', 'LY', 'TJ', 'VE', 'ET', 'XK'], 'disc_number': 1, 'duration_ms': 125234, 'explicit': False, 'external_ids': {'isrc': 'SE69Z2507201'}, 'external_urls': {'spotify': 'https://open.spotify.com/track/6Dle7iZGTOyVzbxpvsKTi1'}, 'href': 'https://api.spotify.com/v1/tracks/6Dle7iZGTOyVzbxpvsKTi1', 'id': '6Dle7iZGTOyVzbxpvsKTi1', 'is_local': False, 'name': 'oldkeys', 'popularity': 64, 'preview_url': None, 'track_number': 1, 'type': 'track', 'uri': 'spotify:track:6Dle7iZGTOyVzbxpvsKTi1'}",
         "2025-10-21T14:50:54.878Z",
         "{'external_urls': {'spotify': 'https://open.spotify.com/playlist/37i9dQZF1DWZZbwlv3Vmtr'}, 'href': 'https://api.spotify.com/v1/playlists/37i9dQZF1DWZZbwlv3Vmtr', 'type': 'playlist', 'uri': 'spotify:playlist:37i9dQZF1DWZZbwlv3Vmtr'}",
         "2025-10-21 14:50:54.878000+00:00",
         "2025-10-21 00:00:00",
         "8"
        ],
        [
         "19",
         "{'album': {'album_type': 'single', 'artists': [{'external_urls': {'spotify': 'https://open.spotify.com/artist/3Ux7jaAusHBJAKgdzZ1RCe'}, 'href': 'https://api.spotify.com/v1/artists/3Ux7jaAusHBJAKgdzZ1RCe', 'id': '3Ux7jaAusHBJAKgdzZ1RCe', 'name': 'the tofu paradigm', 'type': 'artist', 'uri': 'spotify:artist:3Ux7jaAusHBJAKgdzZ1RCe'}], 'available_markets': ['AR', 'AU', 'AT', 'BE', 'BO', 'BR', 'BG', 'CA', 'CL', 'CO', 'CR', 'CY', 'CZ', 'DK', 'DO', 'DE', 'EC', 'EE', 'SV', 'FI', 'FR', 'GR', 'GT', 'HN', 'HK', 'HU', 'IS', 'IE', 'IT', 'LV', 'LT', 'LU', 'MY', 'MT', 'MX', 'NL', 'NZ', 'NI', 'NO', 'PA', 'PY', 'PE', 'PH', 'PL', 'PT', 'SG', 'SK', 'ES', 'SE', 'CH', 'TW', 'TR', 'UY', 'US', 'GB', 'AD', 'LI', 'MC', 'ID', 'JP', 'TH', 'VN', 'RO', 'IL', 'ZA', 'SA', 'AE', 'BH', 'QA', 'OM', 'KW', 'EG', 'MA', 'DZ', 'TN', 'LB', 'JO', 'PS', 'IN', 'BY', 'KZ', 'MD', 'UA', 'AL', 'BA', 'HR', 'ME', 'MK', 'RS', 'SI', 'KR', 'BD', 'PK', 'LK', 'GH', 'KE', 'NG', 'TZ', 'UG', 'AG', 'AM', 'BS', 'BB', 'BZ', 'BT', 'BW', 'BF', 'CV', 'CW', 'DM', 'FJ', 'GM', 'GE', 'GD', 'GW', 'GY', 'HT', 'JM', 'KI', 'LS', 'LR', 'MW', 'MV', 'ML', 'MH', 'FM', 'NA', 'NR', 'NE', 'PW', 'PG', 'PR', 'WS', 'SM', 'ST', 'SN', 'SC', 'SL', 'SB', 'KN', 'LC', 'VC', 'SR', 'TL', 'TO', 'TT', 'TV', 'VU', 'AZ', 'BN', 'BI', 'KH', 'CM', 'TD', 'KM', 'GQ', 'SZ', 'GA', 'GN', 'KG', 'LA', 'MO', 'MR', 'MN', 'NP', 'RW', 'TG', 'UZ', 'ZW', 'BJ', 'MG', 'MU', 'MZ', 'AO', 'CI', 'DJ', 'ZM', 'CD', 'CG', 'IQ', 'LY', 'TJ', 'VE', 'ET', 'XK'], 'external_urls': {'spotify': 'https://open.spotify.com/album/1WLilNxc6z5tubDILatlZz'}, 'href': 'https://api.spotify.com/v1/albums/1WLilNxc6z5tubDILatlZz', 'id': '1WLilNxc6z5tubDILatlZz', 'images': [{'height': 640, 'url': 'https://i.scdn.co/image/ab67616d0000b273d8f941567cc50d513569c5cf', 'width': 640}, {'height': 300, 'url': 'https://i.scdn.co/image/ab67616d00001e02d8f941567cc50d513569c5cf', 'width': 300}, {'height': 64, 'url': 'https://i.scdn.co/image/ab67616d00004851d8f941567cc50d513569c5cf', 'width': 64}], 'name': 'industrial revolution', 'release_date': '2025-07-25', 'release_date_precision': 'day', 'total_tracks': 1, 'type': 'album', 'uri': 'spotify:album:1WLilNxc6z5tubDILatlZz'}, 'artists': [{'external_urls': {'spotify': 'https://open.spotify.com/artist/3Ux7jaAusHBJAKgdzZ1RCe'}, 'href': 'https://api.spotify.com/v1/artists/3Ux7jaAusHBJAKgdzZ1RCe', 'id': '3Ux7jaAusHBJAKgdzZ1RCe', 'name': 'the tofu paradigm', 'type': 'artist', 'uri': 'spotify:artist:3Ux7jaAusHBJAKgdzZ1RCe'}], 'available_markets': ['AR', 'AU', 'AT', 'BE', 'BO', 'BR', 'BG', 'CA', 'CL', 'CO', 'CR', 'CY', 'CZ', 'DK', 'DO', 'DE', 'EC', 'EE', 'SV', 'FI', 'FR', 'GR', 'GT', 'HN', 'HK', 'HU', 'IS', 'IE', 'IT', 'LV', 'LT', 'LU', 'MY', 'MT', 'MX', 'NL', 'NZ', 'NI', 'NO', 'PA', 'PY', 'PE', 'PH', 'PL', 'PT', 'SG', 'SK', 'ES', 'SE', 'CH', 'TW', 'TR', 'UY', 'US', 'GB', 'AD', 'LI', 'MC', 'ID', 'JP', 'TH', 'VN', 'RO', 'IL', 'ZA', 'SA', 'AE', 'BH', 'QA', 'OM', 'KW', 'EG', 'MA', 'DZ', 'TN', 'LB', 'JO', 'PS', 'IN', 'BY', 'KZ', 'MD', 'UA', 'AL', 'BA', 'HR', 'ME', 'MK', 'RS', 'SI', 'KR', 'BD', 'PK', 'LK', 'GH', 'KE', 'NG', 'TZ', 'UG', 'AG', 'AM', 'BS', 'BB', 'BZ', 'BT', 'BW', 'BF', 'CV', 'CW', 'DM', 'FJ', 'GM', 'GE', 'GD', 'GW', 'GY', 'HT', 'JM', 'KI', 'LS', 'LR', 'MW', 'MV', 'ML', 'MH', 'FM', 'NA', 'NR', 'NE', 'PW', 'PG', 'PR', 'WS', 'SM', 'ST', 'SN', 'SC', 'SL', 'SB', 'KN', 'LC', 'VC', 'SR', 'TL', 'TO', 'TT', 'TV', 'VU', 'AZ', 'BN', 'BI', 'KH', 'CM', 'TD', 'KM', 'GQ', 'SZ', 'GA', 'GN', 'KG', 'LA', 'MO', 'MR', 'MN', 'NP', 'RW', 'TG', 'UZ', 'ZW', 'BJ', 'MG', 'MU', 'MZ', 'AO', 'CI', 'DJ', 'ZM', 'CD', 'CG', 'IQ', 'LY', 'TJ', 'VE', 'ET', 'XK'], 'disc_number': 1, 'duration_ms': 91428, 'explicit': False, 'external_ids': {'isrc': 'SEXGF2500445'}, 'external_urls': {'spotify': 'https://open.spotify.com/track/3BqQdX1CO7lrCmqJ9HgQUc'}, 'href': 'https://api.spotify.com/v1/tracks/3BqQdX1CO7lrCmqJ9HgQUc', 'id': '3BqQdX1CO7lrCmqJ9HgQUc', 'is_local': False, 'name': 'industrial revolution', 'popularity': 58, 'preview_url': None, 'track_number': 1, 'type': 'track', 'uri': 'spotify:track:3BqQdX1CO7lrCmqJ9HgQUc'}",
         "2025-10-21T14:49:16.327Z",
         "{'external_urls': {'spotify': 'https://open.spotify.com/playlist/37i9dQZF1DWZZbwlv3Vmtr'}, 'href': 'https://api.spotify.com/v1/playlists/37i9dQZF1DWZZbwlv3Vmtr', 'type': 'playlist', 'uri': 'spotify:playlist:37i9dQZF1DWZZbwlv3Vmtr'}",
         "2025-10-21 14:49:16.327000+00:00",
         "2025-10-21 00:00:00",
         "9"
        ],
        [
         "20",
         "{'album': {'album_type': 'single', 'artists': [{'external_urls': {'spotify': 'https://open.spotify.com/artist/2GAEdgtVHrKsjcHqwUFjpI'}, 'href': 'https://api.spotify.com/v1/artists/2GAEdgtVHrKsjcHqwUFjpI', 'id': '2GAEdgtVHrKsjcHqwUFjpI', 'name': 'lilibu', 'type': 'artist', 'uri': 'spotify:artist:2GAEdgtVHrKsjcHqwUFjpI'}], 'available_markets': ['AR', 'AU', 'AT', 'BE', 'BO', 'BR', 'BG', 'CA', 'CL', 'CO', 'CR', 'CY', 'CZ', 'DK', 'DO', 'DE', 'EC', 'EE', 'SV', 'FI', 'FR', 'GR', 'GT', 'HN', 'HK', 'HU', 'IS', 'IE', 'IT', 'LV', 'LT', 'LU', 'MY', 'MT', 'MX', 'NL', 'NZ', 'NI', 'NO', 'PA', 'PY', 'PE', 'PH', 'PL', 'PT', 'SG', 'SK', 'ES', 'SE', 'CH', 'TW', 'TR', 'UY', 'US', 'GB', 'AD', 'LI', 'MC', 'ID', 'JP', 'TH', 'VN', 'RO', 'IL', 'ZA', 'SA', 'AE', 'BH', 'QA', 'OM', 'KW', 'EG', 'MA', 'DZ', 'TN', 'LB', 'JO', 'PS', 'IN', 'BY', 'KZ', 'MD', 'UA', 'AL', 'BA', 'HR', 'ME', 'MK', 'RS', 'SI', 'KR', 'BD', 'PK', 'LK', 'GH', 'KE', 'NG', 'TZ', 'UG', 'AG', 'AM', 'BS', 'BB', 'BZ', 'BT', 'BW', 'BF', 'CV', 'CW', 'DM', 'FJ', 'GM', 'GE', 'GD', 'GW', 'GY', 'HT', 'JM', 'KI', 'LS', 'LR', 'MW', 'MV', 'ML', 'MH', 'FM', 'NA', 'NR', 'NE', 'PW', 'PG', 'PR', 'WS', 'SM', 'ST', 'SN', 'SC', 'SL', 'SB', 'KN', 'LC', 'VC', 'SR', 'TL', 'TO', 'TT', 'TV', 'VU', 'AZ', 'BN', 'BI', 'KH', 'CM', 'TD', 'KM', 'GQ', 'SZ', 'GA', 'GN', 'KG', 'LA', 'MO', 'MR', 'MN', 'NP', 'RW', 'TG', 'UZ', 'ZW', 'BJ', 'MG', 'MU', 'MZ', 'AO', 'CI', 'DJ', 'ZM', 'CD', 'CG', 'IQ', 'LY', 'TJ', 'VE', 'ET', 'XK'], 'external_urls': {'spotify': 'https://open.spotify.com/album/2u7bj6y7s28vB8Vsa0QhCg'}, 'href': 'https://api.spotify.com/v1/albums/2u7bj6y7s28vB8Vsa0QhCg', 'id': '2u7bj6y7s28vB8Vsa0QhCg', 'images': [{'height': 640, 'url': 'https://i.scdn.co/image/ab67616d0000b2736bd53398ed3a7d664698e47e', 'width': 640}, {'height': 300, 'url': 'https://i.scdn.co/image/ab67616d00001e026bd53398ed3a7d664698e47e', 'width': 300}, {'height': 64, 'url': 'https://i.scdn.co/image/ab67616d000048516bd53398ed3a7d664698e47e', 'width': 64}], 'name': 'ghee', 'release_date': '2024-10-20', 'release_date_precision': 'day', 'total_tracks': 1, 'type': 'album', 'uri': 'spotify:album:2u7bj6y7s28vB8Vsa0QhCg'}, 'artists': [{'external_urls': {'spotify': 'https://open.spotify.com/artist/2GAEdgtVHrKsjcHqwUFjpI'}, 'href': 'https://api.spotify.com/v1/artists/2GAEdgtVHrKsjcHqwUFjpI', 'id': '2GAEdgtVHrKsjcHqwUFjpI', 'name': 'lilibu', 'type': 'artist', 'uri': 'spotify:artist:2GAEdgtVHrKsjcHqwUFjpI'}], 'available_markets': ['AR', 'AU', 'AT', 'BE', 'BO', 'BR', 'BG', 'CA', 'CL', 'CO', 'CR', 'CY', 'CZ', 'DK', 'DO', 'DE', 'EC', 'EE', 'SV', 'FI', 'FR', 'GR', 'GT', 'HN', 'HK', 'HU', 'IS', 'IE', 'IT', 'LV', 'LT', 'LU', 'MY', 'MT', 'MX', 'NL', 'NZ', 'NI', 'NO', 'PA', 'PY', 'PE', 'PH', 'PL', 'PT', 'SG', 'SK', 'ES', 'SE', 'CH', 'TW', 'TR', 'UY', 'US', 'GB', 'AD', 'LI', 'MC', 'ID', 'JP', 'TH', 'VN', 'RO', 'IL', 'ZA', 'SA', 'AE', 'BH', 'QA', 'OM', 'KW', 'EG', 'MA', 'DZ', 'TN', 'LB', 'JO', 'PS', 'IN', 'BY', 'KZ', 'MD', 'UA', 'AL', 'BA', 'HR', 'ME', 'MK', 'RS', 'SI', 'KR', 'BD', 'PK', 'LK', 'GH', 'KE', 'NG', 'TZ', 'UG', 'AG', 'AM', 'BS', 'BB', 'BZ', 'BT', 'BW', 'BF', 'CV', 'CW', 'DM', 'FJ', 'GM', 'GE', 'GD', 'GW', 'GY', 'HT', 'JM', 'KI', 'LS', 'LR', 'MW', 'MV', 'ML', 'MH', 'FM', 'NA', 'NR', 'NE', 'PW', 'PG', 'PR', 'WS', 'SM', 'ST', 'SN', 'SC', 'SL', 'SB', 'KN', 'LC', 'VC', 'SR', 'TL', 'TO', 'TT', 'TV', 'VU', 'AZ', 'BN', 'BI', 'KH', 'CM', 'TD', 'KM', 'GQ', 'SZ', 'GA', 'GN', 'KG', 'LA', 'MO', 'MR', 'MN', 'NP', 'RW', 'TG', 'UZ', 'ZW', 'BJ', 'MG', 'MU', 'MZ', 'AO', 'CI', 'DJ', 'ZM', 'CD', 'CG', 'IQ', 'LY', 'TJ', 'VE', 'ET', 'XK'], 'disc_number': 1, 'duration_ms': 180000, 'explicit': False, 'external_ids': {'isrc': 'QZAKB2432745'}, 'external_urls': {'spotify': 'https://open.spotify.com/track/2tIuYjDRwnJfJEt4uDEjRl'}, 'href': 'https://api.spotify.com/v1/tracks/2tIuYjDRwnJfJEt4uDEjRl', 'id': '2tIuYjDRwnJfJEt4uDEjRl', 'is_local': False, 'name': 'ghee', 'popularity': 63, 'preview_url': None, 'track_number': 1, 'type': 'track', 'uri': 'spotify:track:2tIuYjDRwnJfJEt4uDEjRl'}",
         "2025-10-21T14:47:56.314Z",
         "{'external_urls': {'spotify': 'https://open.spotify.com/playlist/37i9dQZF1DWZZbwlv3Vmtr'}, 'href': 'https://api.spotify.com/v1/playlists/37i9dQZF1DWZZbwlv3Vmtr', 'type': 'playlist', 'uri': 'spotify:playlist:37i9dQZF1DWZZbwlv3Vmtr'}",
         "2025-10-21 14:47:56.314000+00:00",
         "2025-10-21 00:00:00",
         "10"
        ],
        [
         "21",
         "{'album': {'album_type': 'single', 'artists': [{'external_urls': {'spotify': 'https://open.spotify.com/artist/4tPOKN9ZM2sn8f6F0cRVmF'}, 'href': 'https://api.spotify.com/v1/artists/4tPOKN9ZM2sn8f6F0cRVmF', 'id': '4tPOKN9ZM2sn8f6F0cRVmF', 'name': 'chill.farm', 'type': 'artist', 'uri': 'spotify:artist:4tPOKN9ZM2sn8f6F0cRVmF'}], 'available_markets': ['AR', 'AU', 'AT', 'BE', 'BO', 'BR', 'BG', 'CA', 'CL', 'CO', 'CR', 'CY', 'CZ', 'DK', 'DO', 'DE', 'EC', 'EE', 'SV', 'FI', 'FR', 'GR', 'GT', 'HN', 'HK', 'HU', 'IS', 'IE', 'IT', 'LV', 'LT', 'LU', 'MY', 'MT', 'MX', 'NL', 'NZ', 'NI', 'NO', 'PA', 'PY', 'PE', 'PH', 'PL', 'PT', 'SG', 'SK', 'ES', 'SE', 'CH', 'TW', 'TR', 'UY', 'US', 'GB', 'AD', 'LI', 'MC', 'ID', 'JP', 'TH', 'VN', 'RO', 'IL', 'ZA', 'SA', 'AE', 'BH', 'QA', 'OM', 'KW', 'EG', 'MA', 'DZ', 'TN', 'LB', 'JO', 'PS', 'IN', 'BY', 'KZ', 'MD', 'UA', 'AL', 'BA', 'HR', 'ME', 'MK', 'RS', 'SI', 'KR', 'BD', 'PK', 'LK', 'GH', 'KE', 'NG', 'TZ', 'UG', 'AG', 'AM', 'BS', 'BB', 'BZ', 'BT', 'BW', 'BF', 'CV', 'CW', 'DM', 'FJ', 'GM', 'GE', 'GD', 'GW', 'GY', 'HT', 'JM', 'KI', 'LS', 'LR', 'MW', 'MV', 'ML', 'MH', 'FM', 'NA', 'NR', 'NE', 'PW', 'PG', 'PR', 'WS', 'SM', 'ST', 'SN', 'SC', 'SL', 'SB', 'KN', 'LC', 'VC', 'SR', 'TL', 'TO', 'TT', 'TV', 'VU', 'AZ', 'BN', 'BI', 'KH', 'CM', 'TD', 'KM', 'GQ', 'SZ', 'GA', 'GN', 'KG', 'LA', 'MO', 'MR', 'MN', 'NP', 'RW', 'TG', 'UZ', 'ZW', 'BJ', 'MG', 'MU', 'MZ', 'AO', 'CI', 'DJ', 'ZM', 'CD', 'CG', 'IQ', 'LY', 'TJ', 'VE', 'ET', 'XK'], 'external_urls': {'spotify': 'https://open.spotify.com/album/0dlRzrxJAu3gzKfg5VgkE5'}, 'href': 'https://api.spotify.com/v1/albums/0dlRzrxJAu3gzKfg5VgkE5', 'id': '0dlRzrxJAu3gzKfg5VgkE5', 'images': [{'height': 640, 'url': 'https://i.scdn.co/image/ab67616d0000b273943f498765d6782b90e055bb', 'width': 640}, {'height': 300, 'url': 'https://i.scdn.co/image/ab67616d00001e02943f498765d6782b90e055bb', 'width': 300}, {'height': 64, 'url': 'https://i.scdn.co/image/ab67616d00004851943f498765d6782b90e055bb', 'width': 64}], 'name': 'window seat', 'release_date': '2025-06-06', 'release_date_precision': 'day', 'total_tracks': 1, 'type': 'album', 'uri': 'spotify:album:0dlRzrxJAu3gzKfg5VgkE5'}, 'artists': [{'external_urls': {'spotify': 'https://open.spotify.com/artist/4tPOKN9ZM2sn8f6F0cRVmF'}, 'href': 'https://api.spotify.com/v1/artists/4tPOKN9ZM2sn8f6F0cRVmF', 'id': '4tPOKN9ZM2sn8f6F0cRVmF', 'name': 'chill.farm', 'type': 'artist', 'uri': 'spotify:artist:4tPOKN9ZM2sn8f6F0cRVmF'}], 'available_markets': ['AR', 'AU', 'AT', 'BE', 'BO', 'BR', 'BG', 'CA', 'CL', 'CO', 'CR', 'CY', 'CZ', 'DK', 'DO', 'DE', 'EC', 'EE', 'SV', 'FI', 'FR', 'GR', 'GT', 'HN', 'HK', 'HU', 'IS', 'IE', 'IT', 'LV', 'LT', 'LU', 'MY', 'MT', 'MX', 'NL', 'NZ', 'NI', 'NO', 'PA', 'PY', 'PE', 'PH', 'PL', 'PT', 'SG', 'SK', 'ES', 'SE', 'CH', 'TW', 'TR', 'UY', 'US', 'GB', 'AD', 'LI', 'MC', 'ID', 'JP', 'TH', 'VN', 'RO', 'IL', 'ZA', 'SA', 'AE', 'BH', 'QA', 'OM', 'KW', 'EG', 'MA', 'DZ', 'TN', 'LB', 'JO', 'PS', 'IN', 'BY', 'KZ', 'MD', 'UA', 'AL', 'BA', 'HR', 'ME', 'MK', 'RS', 'SI', 'KR', 'BD', 'PK', 'LK', 'GH', 'KE', 'NG', 'TZ', 'UG', 'AG', 'AM', 'BS', 'BB', 'BZ', 'BT', 'BW', 'BF', 'CV', 'CW', 'DM', 'FJ', 'GM', 'GE', 'GD', 'GW', 'GY', 'HT', 'JM', 'KI', 'LS', 'LR', 'MW', 'MV', 'ML', 'MH', 'FM', 'NA', 'NR', 'NE', 'PW', 'PG', 'PR', 'WS', 'SM', 'ST', 'SN', 'SC', 'SL', 'SB', 'KN', 'LC', 'VC', 'SR', 'TL', 'TO', 'TT', 'TV', 'VU', 'AZ', 'BN', 'BI', 'KH', 'CM', 'TD', 'KM', 'GQ', 'SZ', 'GA', 'GN', 'KG', 'LA', 'MO', 'MR', 'MN', 'NP', 'RW', 'TG', 'UZ', 'ZW', 'BJ', 'MG', 'MU', 'MZ', 'AO', 'CI', 'DJ', 'ZM', 'CD', 'CG', 'IQ', 'LY', 'TJ', 'VE', 'ET', 'XK'], 'disc_number': 1, 'duration_ms': 187657, 'explicit': False, 'external_ids': {'isrc': 'SEXGF2487088'}, 'external_urls': {'spotify': 'https://open.spotify.com/track/4TrxWjFGGjmfqcLxdL8Wbb'}, 'href': 'https://api.spotify.com/v1/tracks/4TrxWjFGGjmfqcLxdL8Wbb', 'id': '4TrxWjFGGjmfqcLxdL8Wbb', 'is_local': False, 'name': 'window seat', 'popularity': 60, 'preview_url': None, 'track_number': 1, 'type': 'track', 'uri': 'spotify:track:4TrxWjFGGjmfqcLxdL8Wbb'}",
         "2025-10-21T14:45:33.712Z",
         "{'external_urls': {'spotify': 'https://open.spotify.com/playlist/37i9dQZF1DWZZbwlv3Vmtr'}, 'href': 'https://api.spotify.com/v1/playlists/37i9dQZF1DWZZbwlv3Vmtr', 'type': 'playlist', 'uri': 'spotify:playlist:37i9dQZF1DWZZbwlv3Vmtr'}",
         "2025-10-21 14:45:33.712000+00:00",
         "2025-10-21 00:00:00",
         "11"
        ],
        [
         "22",
         "{'album': {'album_type': 'single', 'artists': [{'external_urls': {'spotify': 'https://open.spotify.com/artist/7sNw4pNLLJNGrU62O80WGE'}, 'href': 'https://api.spotify.com/v1/artists/7sNw4pNLLJNGrU62O80WGE', 'id': '7sNw4pNLLJNGrU62O80WGE', 'name': 'Leavv', 'type': 'artist', 'uri': 'spotify:artist:7sNw4pNLLJNGrU62O80WGE'}, {'external_urls': {'spotify': 'https://open.spotify.com/artist/79U1adgS3jIlP28wwMHqGJ'}, 'href': 'https://api.spotify.com/v1/artists/79U1adgS3jIlP28wwMHqGJ', 'id': '79U1adgS3jIlP28wwMHqGJ', 'name': 'Mr. Käfer', 'type': 'artist', 'uri': 'spotify:artist:79U1adgS3jIlP28wwMHqGJ'}], 'available_markets': ['AR', 'AU', 'AT', 'BE', 'BO', 'BR', 'BG', 'CA', 'CL', 'CO', 'CR', 'CY', 'CZ', 'DK', 'DO', 'DE', 'EC', 'EE', 'SV', 'FI', 'FR', 'GR', 'GT', 'HN', 'HK', 'HU', 'IS', 'IE', 'IT', 'LV', 'LT', 'LU', 'MY', 'MT', 'MX', 'NL', 'NZ', 'NI', 'NO', 'PA', 'PY', 'PE', 'PH', 'PL', 'PT', 'SG', 'SK', 'ES', 'SE', 'CH', 'TW', 'TR', 'UY', 'US', 'GB', 'AD', 'LI', 'MC', 'ID', 'JP', 'TH', 'VN', 'RO', 'IL', 'ZA', 'SA', 'AE', 'BH', 'QA', 'OM', 'KW', 'EG', 'MA', 'DZ', 'TN', 'LB', 'JO', 'PS', 'IN', 'BY', 'KZ', 'MD', 'UA', 'AL', 'BA', 'HR', 'ME', 'MK', 'RS', 'SI', 'KR', 'BD', 'PK', 'LK', 'GH', 'KE', 'NG', 'TZ', 'UG', 'AG', 'AM', 'BS', 'BB', 'BZ', 'BT', 'BW', 'BF', 'CV', 'CW', 'DM', 'FJ', 'GM', 'GE', 'GD', 'GW', 'GY', 'HT', 'JM', 'KI', 'LS', 'LR', 'MW', 'MV', 'ML', 'MH', 'FM', 'NA', 'NR', 'NE', 'PW', 'PG', 'PR', 'WS', 'SM', 'ST', 'SN', 'SC', 'SL', 'SB', 'KN', 'LC', 'VC', 'SR', 'TL', 'TO', 'TT', 'TV', 'VU', 'AZ', 'BN', 'BI', 'KH', 'CM', 'TD', 'KM', 'GQ', 'SZ', 'GA', 'GN', 'KG', 'LA', 'MO', 'MR', 'MN', 'NP', 'RW', 'TG', 'UZ', 'ZW', 'BJ', 'MG', 'MU', 'MZ', 'AO', 'CI', 'DJ', 'ZM', 'CD', 'CG', 'IQ', 'LY', 'TJ', 'VE', 'ET', 'XK'], 'external_urls': {'spotify': 'https://open.spotify.com/album/61GmtflvX6lhJRf5fARkZ6'}, 'href': 'https://api.spotify.com/v1/albums/61GmtflvX6lhJRf5fARkZ6', 'id': '61GmtflvX6lhJRf5fARkZ6', 'images': [{'height': 640, 'url': 'https://i.scdn.co/image/ab67616d0000b2735502d9c35deb61a862cfcce3', 'width': 640}, {'height': 300, 'url': 'https://i.scdn.co/image/ab67616d00001e025502d9c35deb61a862cfcce3', 'width': 300}, {'height': 64, 'url': 'https://i.scdn.co/image/ab67616d000048515502d9c35deb61a862cfcce3', 'width': 64}], 'name': 'Coastal', 'release_date': '2024-11-08', 'release_date_precision': 'day', 'total_tracks': 1, 'type': 'album', 'uri': 'spotify:album:61GmtflvX6lhJRf5fARkZ6'}, 'artists': [{'external_urls': {'spotify': 'https://open.spotify.com/artist/7sNw4pNLLJNGrU62O80WGE'}, 'href': 'https://api.spotify.com/v1/artists/7sNw4pNLLJNGrU62O80WGE', 'id': '7sNw4pNLLJNGrU62O80WGE', 'name': 'Leavv', 'type': 'artist', 'uri': 'spotify:artist:7sNw4pNLLJNGrU62O80WGE'}, {'external_urls': {'spotify': 'https://open.spotify.com/artist/79U1adgS3jIlP28wwMHqGJ'}, 'href': 'https://api.spotify.com/v1/artists/79U1adgS3jIlP28wwMHqGJ', 'id': '79U1adgS3jIlP28wwMHqGJ', 'name': 'Mr. Käfer', 'type': 'artist', 'uri': 'spotify:artist:79U1adgS3jIlP28wwMHqGJ'}], 'available_markets': ['AR', 'AU', 'AT', 'BE', 'BO', 'BR', 'BG', 'CA', 'CL', 'CO', 'CR', 'CY', 'CZ', 'DK', 'DO', 'DE', 'EC', 'EE', 'SV', 'FI', 'FR', 'GR', 'GT', 'HN', 'HK', 'HU', 'IS', 'IE', 'IT', 'LV', 'LT', 'LU', 'MY', 'MT', 'MX', 'NL', 'NZ', 'NI', 'NO', 'PA', 'PY', 'PE', 'PH', 'PL', 'PT', 'SG', 'SK', 'ES', 'SE', 'CH', 'TW', 'TR', 'UY', 'US', 'GB', 'AD', 'LI', 'MC', 'ID', 'JP', 'TH', 'VN', 'RO', 'IL', 'ZA', 'SA', 'AE', 'BH', 'QA', 'OM', 'KW', 'EG', 'MA', 'DZ', 'TN', 'LB', 'JO', 'PS', 'IN', 'BY', 'KZ', 'MD', 'UA', 'AL', 'BA', 'HR', 'ME', 'MK', 'RS', 'SI', 'KR', 'BD', 'PK', 'LK', 'GH', 'KE', 'NG', 'TZ', 'UG', 'AG', 'AM', 'BS', 'BB', 'BZ', 'BT', 'BW', 'BF', 'CV', 'CW', 'DM', 'FJ', 'GM', 'GE', 'GD', 'GW', 'GY', 'HT', 'JM', 'KI', 'LS', 'LR', 'MW', 'MV', 'ML', 'MH', 'FM', 'NA', 'NR', 'NE', 'PW', 'PG', 'PR', 'WS', 'SM', 'ST', 'SN', 'SC', 'SL', 'SB', 'KN', 'LC', 'VC', 'SR', 'TL', 'TO', 'TT', 'TV', 'VU', 'AZ', 'BN', 'BI', 'KH', 'CM', 'TD', 'KM', 'GQ', 'SZ', 'GA', 'GN', 'KG', 'LA', 'MO', 'MR', 'MN', 'NP', 'RW', 'TG', 'UZ', 'ZW', 'BJ', 'MG', 'MU', 'MZ', 'AO', 'CI', 'DJ', 'ZM', 'CD', 'CG', 'IQ', 'LY', 'TJ', 'VE', 'ET', 'XK'], 'disc_number': 1, 'duration_ms': 107408, 'explicit': False, 'external_ids': {'isrc': 'CH7812418026'}, 'external_urls': {'spotify': 'https://open.spotify.com/track/2zI8kItxIqtyFYfFsy3ngx'}, 'href': 'https://api.spotify.com/v1/tracks/2zI8kItxIqtyFYfFsy3ngx', 'id': '2zI8kItxIqtyFYfFsy3ngx', 'is_local': False, 'name': 'Coastal', 'popularity': 52, 'preview_url': None, 'track_number': 1, 'type': 'track', 'uri': 'spotify:track:2zI8kItxIqtyFYfFsy3ngx'}",
         "2025-10-21T14:42:55.124Z",
         "{'external_urls': {'spotify': 'https://open.spotify.com/playlist/37i9dQZF1DWZZbwlv3Vmtr'}, 'href': 'https://api.spotify.com/v1/playlists/37i9dQZF1DWZZbwlv3Vmtr', 'type': 'playlist', 'uri': 'spotify:playlist:37i9dQZF1DWZZbwlv3Vmtr'}",
         "2025-10-21 14:42:55.124000+00:00",
         "2025-10-21 00:00:00",
         "12"
        ],
        [
         "23",
         "{'album': {'album_type': 'single', 'artists': [{'external_urls': {'spotify': 'https://open.spotify.com/artist/6IfjthXfdys0smRoO7rBGL'}, 'href': 'https://api.spotify.com/v1/artists/6IfjthXfdys0smRoO7rBGL', 'id': '6IfjthXfdys0smRoO7rBGL', 'name': 'Fracta Aurea', 'type': 'artist', 'uri': 'spotify:artist:6IfjthXfdys0smRoO7rBGL'}], 'available_markets': ['AR', 'AU', 'AT', 'BE', 'BO', 'BR', 'BG', 'CA', 'CL', 'CO', 'CR', 'CY', 'CZ', 'DK', 'DO', 'DE', 'EC', 'EE', 'SV', 'FI', 'FR', 'GR', 'GT', 'HN', 'HK', 'HU', 'IS', 'IE', 'IT', 'LV', 'LT', 'LU', 'MY', 'MT', 'MX', 'NL', 'NZ', 'NI', 'NO', 'PA', 'PY', 'PE', 'PH', 'PL', 'PT', 'SG', 'SK', 'ES', 'SE', 'CH', 'TW', 'TR', 'UY', 'US', 'GB', 'AD', 'LI', 'MC', 'ID', 'JP', 'TH', 'VN', 'RO', 'IL', 'ZA', 'SA', 'AE', 'BH', 'QA', 'OM', 'KW', 'EG', 'MA', 'DZ', 'TN', 'LB', 'JO', 'PS', 'IN', 'BY', 'KZ', 'MD', 'UA', 'AL', 'BA', 'HR', 'ME', 'MK', 'RS', 'SI', 'KR', 'BD', 'PK', 'LK', 'GH', 'KE', 'NG', 'TZ', 'UG', 'AG', 'AM', 'BS', 'BB', 'BZ', 'BT', 'BW', 'BF', 'CV', 'CW', 'DM', 'FJ', 'GM', 'GE', 'GD', 'GW', 'GY', 'HT', 'JM', 'KI', 'LS', 'LR', 'MW', 'MV', 'ML', 'MH', 'FM', 'NA', 'NR', 'NE', 'PW', 'PG', 'PR', 'WS', 'SM', 'ST', 'SN', 'SC', 'SL', 'SB', 'KN', 'LC', 'VC', 'SR', 'TL', 'TO', 'TT', 'TV', 'VU', 'AZ', 'BN', 'BI', 'KH', 'CM', 'TD', 'KM', 'GQ', 'SZ', 'GA', 'GN', 'KG', 'LA', 'MO', 'MR', 'MN', 'NP', 'RW', 'TG', 'UZ', 'ZW', 'BJ', 'MG', 'MU', 'MZ', 'AO', 'CI', 'DJ', 'ZM', 'CD', 'CG', 'IQ', 'LY', 'TJ', 'VE', 'ET', 'XK'], 'external_urls': {'spotify': 'https://open.spotify.com/album/3JLxWSqzrADdJNY8A17u8V'}, 'href': 'https://api.spotify.com/v1/albums/3JLxWSqzrADdJNY8A17u8V', 'id': '3JLxWSqzrADdJNY8A17u8V', 'images': [{'height': 640, 'url': 'https://i.scdn.co/image/ab67616d0000b27359ad7ff63a554c5108b3c6ad', 'width': 640}, {'height': 300, 'url': 'https://i.scdn.co/image/ab67616d00001e0259ad7ff63a554c5108b3c6ad', 'width': 300}, {'height': 64, 'url': 'https://i.scdn.co/image/ab67616d0000485159ad7ff63a554c5108b3c6ad', 'width': 64}], 'name': 'Arcticano', 'release_date': '2025-06-20', 'release_date_precision': 'day', 'total_tracks': 1, 'type': 'album', 'uri': 'spotify:album:3JLxWSqzrADdJNY8A17u8V'}, 'artists': [{'external_urls': {'spotify': 'https://open.spotify.com/artist/6IfjthXfdys0smRoO7rBGL'}, 'href': 'https://api.spotify.com/v1/artists/6IfjthXfdys0smRoO7rBGL', 'id': '6IfjthXfdys0smRoO7rBGL', 'name': 'Fracta Aurea', 'type': 'artist', 'uri': 'spotify:artist:6IfjthXfdys0smRoO7rBGL'}], 'available_markets': ['AR', 'AU', 'AT', 'BE', 'BO', 'BR', 'BG', 'CA', 'CL', 'CO', 'CR', 'CY', 'CZ', 'DK', 'DO', 'DE', 'EC', 'EE', 'SV', 'FI', 'FR', 'GR', 'GT', 'HN', 'HK', 'HU', 'IS', 'IE', 'IT', 'LV', 'LT', 'LU', 'MY', 'MT', 'MX', 'NL', 'NZ', 'NI', 'NO', 'PA', 'PY', 'PE', 'PH', 'PL', 'PT', 'SG', 'SK', 'ES', 'SE', 'CH', 'TW', 'TR', 'UY', 'US', 'GB', 'AD', 'LI', 'MC', 'ID', 'JP', 'TH', 'VN', 'RO', 'IL', 'ZA', 'SA', 'AE', 'BH', 'QA', 'OM', 'KW', 'EG', 'MA', 'DZ', 'TN', 'LB', 'JO', 'PS', 'IN', 'BY', 'KZ', 'MD', 'UA', 'AL', 'BA', 'HR', 'ME', 'MK', 'RS', 'SI', 'KR', 'BD', 'PK', 'LK', 'GH', 'KE', 'NG', 'TZ', 'UG', 'AG', 'AM', 'BS', 'BB', 'BZ', 'BT', 'BW', 'BF', 'CV', 'CW', 'DM', 'FJ', 'GM', 'GE', 'GD', 'GW', 'GY', 'HT', 'JM', 'KI', 'LS', 'LR', 'MW', 'MV', 'ML', 'MH', 'FM', 'NA', 'NR', 'NE', 'PW', 'PG', 'PR', 'WS', 'SM', 'ST', 'SN', 'SC', 'SL', 'SB', 'KN', 'LC', 'VC', 'SR', 'TL', 'TO', 'TT', 'TV', 'VU', 'AZ', 'BN', 'BI', 'KH', 'CM', 'TD', 'KM', 'GQ', 'SZ', 'GA', 'GN', 'KG', 'LA', 'MO', 'MR', 'MN', 'NP', 'RW', 'TG', 'UZ', 'ZW', 'BJ', 'MG', 'MU', 'MZ', 'AO', 'CI', 'DJ', 'ZM', 'CD', 'CG', 'IQ', 'LY', 'TJ', 'VE', 'ET', 'XK'], 'disc_number': 1, 'duration_ms': 164500, 'explicit': False, 'external_ids': {'isrc': 'QZAKB2467256'}, 'external_urls': {'spotify': 'https://open.spotify.com/track/1HnTdU1vPXRKFfHHKt1cOR'}, 'href': 'https://api.spotify.com/v1/tracks/1HnTdU1vPXRKFfHHKt1cOR', 'id': '1HnTdU1vPXRKFfHHKt1cOR', 'is_local': False, 'name': 'Arcticano', 'popularity': 62, 'preview_url': None, 'track_number': 1, 'type': 'track', 'uri': 'spotify:track:1HnTdU1vPXRKFfHHKt1cOR'}",
         "2025-10-21T14:41:23.235Z",
         "{'external_urls': {'spotify': 'https://open.spotify.com/playlist/37i9dQZF1DWZZbwlv3Vmtr'}, 'href': 'https://api.spotify.com/v1/playlists/37i9dQZF1DWZZbwlv3Vmtr', 'type': 'playlist', 'uri': 'spotify:playlist:37i9dQZF1DWZZbwlv3Vmtr'}",
         "2025-10-21 14:41:23.235000+00:00",
         "2025-10-21 00:00:00",
         "13"
        ],
        [
         "24",
         "{'album': {'album_type': 'single', 'artists': [{'external_urls': {'spotify': 'https://open.spotify.com/artist/0wN7ALPeSqOb16sG7vl4RC'}, 'href': 'https://api.spotify.com/v1/artists/0wN7ALPeSqOb16sG7vl4RC', 'id': '0wN7ALPeSqOb16sG7vl4RC', 'name': 'Drxnk', 'type': 'artist', 'uri': 'spotify:artist:0wN7ALPeSqOb16sG7vl4RC'}, {'external_urls': {'spotify': 'https://open.spotify.com/artist/5ptLWFs1O1R1QDZSjwtU0c'}, 'href': 'https://api.spotify.com/v1/artists/5ptLWFs1O1R1QDZSjwtU0c', 'id': '5ptLWFs1O1R1QDZSjwtU0c', 'name': 'think less.', 'type': 'artist', 'uri': 'spotify:artist:5ptLWFs1O1R1QDZSjwtU0c'}], 'available_markets': ['AR', 'AU', 'AT', 'BE', 'BO', 'BR', 'BG', 'CA', 'CL', 'CO', 'CR', 'CY', 'CZ', 'DK', 'DO', 'DE', 'EC', 'EE', 'SV', 'FI', 'FR', 'GR', 'GT', 'HN', 'HK', 'HU', 'IS', 'IE', 'IT', 'LV', 'LT', 'LU', 'MY', 'MT', 'MX', 'NL', 'NZ', 'NI', 'NO', 'PA', 'PY', 'PE', 'PH', 'PL', 'PT', 'SG', 'SK', 'ES', 'SE', 'CH', 'TW', 'TR', 'UY', 'US', 'GB', 'AD', 'LI', 'MC', 'ID', 'JP', 'TH', 'VN', 'RO', 'IL', 'ZA', 'SA', 'AE', 'BH', 'QA', 'OM', 'KW', 'EG', 'MA', 'DZ', 'TN', 'LB', 'JO', 'PS', 'IN', 'BY', 'KZ', 'MD', 'UA', 'AL', 'BA', 'HR', 'ME', 'MK', 'RS', 'SI', 'KR', 'BD', 'PK', 'LK', 'GH', 'KE', 'NG', 'TZ', 'UG', 'AG', 'AM', 'BS', 'BB', 'BZ', 'BT', 'BW', 'BF', 'CV', 'CW', 'DM', 'FJ', 'GM', 'GE', 'GD', 'GW', 'GY', 'HT', 'JM', 'KI', 'LS', 'LR', 'MW', 'MV', 'ML', 'MH', 'FM', 'NA', 'NR', 'NE', 'PW', 'PG', 'PR', 'WS', 'SM', 'ST', 'SN', 'SC', 'SL', 'SB', 'KN', 'LC', 'VC', 'SR', 'TL', 'TO', 'TT', 'TV', 'VU', 'AZ', 'BN', 'BI', 'KH', 'CM', 'TD', 'KM', 'GQ', 'SZ', 'GA', 'GN', 'KG', 'LA', 'MO', 'MR', 'MN', 'NP', 'RW', 'TG', 'UZ', 'ZW', 'BJ', 'MG', 'MU', 'MZ', 'AO', 'CI', 'DJ', 'ZM', 'CD', 'CG', 'IQ', 'LY', 'TJ', 'VE', 'ET', 'XK'], 'external_urls': {'spotify': 'https://open.spotify.com/album/085LfKKbbHWmiGbkH9EmRM'}, 'href': 'https://api.spotify.com/v1/albums/085LfKKbbHWmiGbkH9EmRM', 'id': '085LfKKbbHWmiGbkH9EmRM', 'images': [{'height': 640, 'url': 'https://i.scdn.co/image/ab67616d0000b2736b6fc4231ac90d4b2f36cdb3', 'width': 640}, {'height': 300, 'url': 'https://i.scdn.co/image/ab67616d00001e026b6fc4231ac90d4b2f36cdb3', 'width': 300}, {'height': 64, 'url': 'https://i.scdn.co/image/ab67616d000048516b6fc4231ac90d4b2f36cdb3', 'width': 64}], 'name': 'Outside', 'release_date': '2025-01-31', 'release_date_precision': 'day', 'total_tracks': 1, 'type': 'album', 'uri': 'spotify:album:085LfKKbbHWmiGbkH9EmRM'}, 'artists': [{'external_urls': {'spotify': 'https://open.spotify.com/artist/0wN7ALPeSqOb16sG7vl4RC'}, 'href': 'https://api.spotify.com/v1/artists/0wN7ALPeSqOb16sG7vl4RC', 'id': '0wN7ALPeSqOb16sG7vl4RC', 'name': 'Drxnk', 'type': 'artist', 'uri': 'spotify:artist:0wN7ALPeSqOb16sG7vl4RC'}, {'external_urls': {'spotify': 'https://open.spotify.com/artist/5ptLWFs1O1R1QDZSjwtU0c'}, 'href': 'https://api.spotify.com/v1/artists/5ptLWFs1O1R1QDZSjwtU0c', 'id': '5ptLWFs1O1R1QDZSjwtU0c', 'name': 'think less.', 'type': 'artist', 'uri': 'spotify:artist:5ptLWFs1O1R1QDZSjwtU0c'}], 'available_markets': ['AR', 'AU', 'AT', 'BE', 'BO', 'BR', 'BG', 'CA', 'CL', 'CO', 'CR', 'CY', 'CZ', 'DK', 'DO', 'DE', 'EC', 'EE', 'SV', 'FI', 'FR', 'GR', 'GT', 'HN', 'HK', 'HU', 'IS', 'IE', 'IT', 'LV', 'LT', 'LU', 'MY', 'MT', 'MX', 'NL', 'NZ', 'NI', 'NO', 'PA', 'PY', 'PE', 'PH', 'PL', 'PT', 'SG', 'SK', 'ES', 'SE', 'CH', 'TW', 'TR', 'UY', 'US', 'GB', 'AD', 'LI', 'MC', 'ID', 'JP', 'TH', 'VN', 'RO', 'IL', 'ZA', 'SA', 'AE', 'BH', 'QA', 'OM', 'KW', 'EG', 'MA', 'DZ', 'TN', 'LB', 'JO', 'PS', 'IN', 'BY', 'KZ', 'MD', 'UA', 'AL', 'BA', 'HR', 'ME', 'MK', 'RS', 'SI', 'KR', 'BD', 'PK', 'LK', 'GH', 'KE', 'NG', 'TZ', 'UG', 'AG', 'AM', 'BS', 'BB', 'BZ', 'BT', 'BW', 'BF', 'CV', 'CW', 'DM', 'FJ', 'GM', 'GE', 'GD', 'GW', 'GY', 'HT', 'JM', 'KI', 'LS', 'LR', 'MW', 'MV', 'ML', 'MH', 'FM', 'NA', 'NR', 'NE', 'PW', 'PG', 'PR', 'WS', 'SM', 'ST', 'SN', 'SC', 'SL', 'SB', 'KN', 'LC', 'VC', 'SR', 'TL', 'TO', 'TT', 'TV', 'VU', 'AZ', 'BN', 'BI', 'KH', 'CM', 'TD', 'KM', 'GQ', 'SZ', 'GA', 'GN', 'KG', 'LA', 'MO', 'MR', 'MN', 'NP', 'RW', 'TG', 'UZ', 'ZW', 'BJ', 'MG', 'MU', 'MZ', 'AO', 'CI', 'DJ', 'ZM', 'CD', 'CG', 'IQ', 'LY', 'TJ', 'VE', 'ET', 'XK'], 'disc_number': 1, 'duration_ms': 116079, 'explicit': False, 'external_ids': {'isrc': 'QM3DF2402250'}, 'external_urls': {'spotify': 'https://open.spotify.com/track/05AcIr6sleSW8lNtQdh3vw'}, 'href': 'https://api.spotify.com/v1/tracks/05AcIr6sleSW8lNtQdh3vw', 'id': '05AcIr6sleSW8lNtQdh3vw', 'is_local': False, 'name': 'Outside', 'popularity': 54, 'preview_url': None, 'track_number': 1, 'type': 'track', 'uri': 'spotify:track:05AcIr6sleSW8lNtQdh3vw'}",
         "2025-10-21T14:38:57.091Z",
         "{'external_urls': {'spotify': 'https://open.spotify.com/playlist/37i9dQZF1DWZZbwlv3Vmtr'}, 'href': 'https://api.spotify.com/v1/playlists/37i9dQZF1DWZZbwlv3Vmtr', 'type': 'playlist', 'uri': 'spotify:playlist:37i9dQZF1DWZZbwlv3Vmtr'}",
         "2025-10-21 14:38:57.091000+00:00",
         "2025-10-21 00:00:00",
         "14"
        ],
        [
         "25",
         "{'album': {'album_type': 'single', 'artists': [{'external_urls': {'spotify': 'https://open.spotify.com/artist/71dR4Sjwy1ikQyYIcCWvxS'}, 'href': 'https://api.spotify.com/v1/artists/71dR4Sjwy1ikQyYIcCWvxS', 'id': '71dR4Sjwy1ikQyYIcCWvxS', 'name': 'flowless', 'type': 'artist', 'uri': 'spotify:artist:71dR4Sjwy1ikQyYIcCWvxS'}, {'external_urls': {'spotify': 'https://open.spotify.com/artist/3VXe7BcibISROhxRdPuRNL'}, 'href': 'https://api.spotify.com/v1/artists/3VXe7BcibISROhxRdPuRNL', 'id': '3VXe7BcibISROhxRdPuRNL', 'name': 'Zmeyev', 'type': 'artist', 'uri': 'spotify:artist:3VXe7BcibISROhxRdPuRNL'}], 'available_markets': ['AR', 'AU', 'AT', 'BE', 'BO', 'BR', 'BG', 'CA', 'CL', 'CO', 'CR', 'CY', 'CZ', 'DK', 'DO', 'DE', 'EC', 'EE', 'SV', 'FI', 'FR', 'GR', 'GT', 'HN', 'HK', 'HU', 'IS', 'IE', 'IT', 'LV', 'LT', 'LU', 'MY', 'MT', 'MX', 'NL', 'NZ', 'NI', 'NO', 'PA', 'PY', 'PE', 'PH', 'PL', 'PT', 'SG', 'SK', 'ES', 'SE', 'CH', 'TW', 'TR', 'UY', 'US', 'GB', 'AD', 'LI', 'MC', 'ID', 'JP', 'TH', 'VN', 'RO', 'IL', 'ZA', 'SA', 'AE', 'BH', 'QA', 'OM', 'KW', 'EG', 'MA', 'DZ', 'TN', 'LB', 'JO', 'PS', 'IN', 'BY', 'KZ', 'MD', 'UA', 'AL', 'BA', 'HR', 'ME', 'MK', 'RS', 'SI', 'KR', 'BD', 'PK', 'LK', 'GH', 'KE', 'NG', 'TZ', 'UG', 'AG', 'AM', 'BS', 'BB', 'BZ', 'BT', 'BW', 'BF', 'CV', 'CW', 'DM', 'FJ', 'GM', 'GE', 'GD', 'GW', 'GY', 'HT', 'JM', 'KI', 'LS', 'LR', 'MW', 'MV', 'ML', 'MH', 'FM', 'NA', 'NR', 'NE', 'PW', 'PG', 'PR', 'WS', 'SM', 'ST', 'SN', 'SC', 'SL', 'SB', 'KN', 'LC', 'VC', 'SR', 'TL', 'TO', 'TT', 'TV', 'VU', 'AZ', 'BN', 'BI', 'KH', 'CM', 'TD', 'KM', 'GQ', 'SZ', 'GA', 'GN', 'KG', 'LA', 'MO', 'MR', 'MN', 'NP', 'RW', 'TG', 'UZ', 'ZW', 'BJ', 'MG', 'MU', 'MZ', 'AO', 'CI', 'DJ', 'ZM', 'CD', 'CG', 'IQ', 'LY', 'TJ', 'VE', 'ET', 'XK'], 'external_urls': {'spotify': 'https://open.spotify.com/album/3yvDt541gJut8flE9HmCAP'}, 'href': 'https://api.spotify.com/v1/albums/3yvDt541gJut8flE9HmCAP', 'id': '3yvDt541gJut8flE9HmCAP', 'images': [{'height': 640, 'url': 'https://i.scdn.co/image/ab67616d0000b273f27382917336800f127311e4', 'width': 640}, {'height': 300, 'url': 'https://i.scdn.co/image/ab67616d00001e02f27382917336800f127311e4', 'width': 300}, {'height': 64, 'url': 'https://i.scdn.co/image/ab67616d00004851f27382917336800f127311e4', 'width': 64}], 'name': 'Haze', 'release_date': '2024-07-26', 'release_date_precision': 'day', 'total_tracks': 1, 'type': 'album', 'uri': 'spotify:album:3yvDt541gJut8flE9HmCAP'}, 'artists': [{'external_urls': {'spotify': 'https://open.spotify.com/artist/71dR4Sjwy1ikQyYIcCWvxS'}, 'href': 'https://api.spotify.com/v1/artists/71dR4Sjwy1ikQyYIcCWvxS', 'id': '71dR4Sjwy1ikQyYIcCWvxS', 'name': 'flowless', 'type': 'artist', 'uri': 'spotify:artist:71dR4Sjwy1ikQyYIcCWvxS'}, {'external_urls': {'spotify': 'https://open.spotify.com/artist/3VXe7BcibISROhxRdPuRNL'}, 'href': 'https://api.spotify.com/v1/artists/3VXe7BcibISROhxRdPuRNL', 'id': '3VXe7BcibISROhxRdPuRNL', 'name': 'Zmeyev', 'type': 'artist', 'uri': 'spotify:artist:3VXe7BcibISROhxRdPuRNL'}], 'available_markets': ['AR', 'AU', 'AT', 'BE', 'BO', 'BR', 'BG', 'CA', 'CL', 'CO', 'CR', 'CY', 'CZ', 'DK', 'DO', 'DE', 'EC', 'EE', 'SV', 'FI', 'FR', 'GR', 'GT', 'HN', 'HK', 'HU', 'IS', 'IE', 'IT', 'LV', 'LT', 'LU', 'MY', 'MT', 'MX', 'NL', 'NZ', 'NI', 'NO', 'PA', 'PY', 'PE', 'PH', 'PL', 'PT', 'SG', 'SK', 'ES', 'SE', 'CH', 'TW', 'TR', 'UY', 'US', 'GB', 'AD', 'LI', 'MC', 'ID', 'JP', 'TH', 'VN', 'RO', 'IL', 'ZA', 'SA', 'AE', 'BH', 'QA', 'OM', 'KW', 'EG', 'MA', 'DZ', 'TN', 'LB', 'JO', 'PS', 'IN', 'BY', 'KZ', 'MD', 'UA', 'AL', 'BA', 'HR', 'ME', 'MK', 'RS', 'SI', 'KR', 'BD', 'PK', 'LK', 'GH', 'KE', 'NG', 'TZ', 'UG', 'AG', 'AM', 'BS', 'BB', 'BZ', 'BT', 'BW', 'BF', 'CV', 'CW', 'DM', 'FJ', 'GM', 'GE', 'GD', 'GW', 'GY', 'HT', 'JM', 'KI', 'LS', 'LR', 'MW', 'MV', 'ML', 'MH', 'FM', 'NA', 'NR', 'NE', 'PW', 'PG', 'PR', 'WS', 'SM', 'ST', 'SN', 'SC', 'SL', 'SB', 'KN', 'LC', 'VC', 'SR', 'TL', 'TO', 'TT', 'TV', 'VU', 'AZ', 'BN', 'BI', 'KH', 'CM', 'TD', 'KM', 'GQ', 'SZ', 'GA', 'GN', 'KG', 'LA', 'MO', 'MR', 'MN', 'NP', 'RW', 'TG', 'UZ', 'ZW', 'BJ', 'MG', 'MU', 'MZ', 'AO', 'CI', 'DJ', 'ZM', 'CD', 'CG', 'IQ', 'LY', 'TJ', 'VE', 'ET', 'XK'], 'disc_number': 1, 'duration_ms': 148571, 'explicit': False, 'external_ids': {'isrc': 'US3DF2494604'}, 'external_urls': {'spotify': 'https://open.spotify.com/track/3XqZUhZcHpOtP9rhw6O43l'}, 'href': 'https://api.spotify.com/v1/tracks/3XqZUhZcHpOtP9rhw6O43l', 'id': '3XqZUhZcHpOtP9rhw6O43l', 'is_local': False, 'name': 'Haze', 'popularity': 54, 'preview_url': None, 'track_number': 1, 'type': 'track', 'uri': 'spotify:track:3XqZUhZcHpOtP9rhw6O43l'}",
         "2025-10-21T14:37:13.231Z",
         "{'external_urls': {'spotify': 'https://open.spotify.com/playlist/37i9dQZF1DWZZbwlv3Vmtr'}, 'href': 'https://api.spotify.com/v1/playlists/37i9dQZF1DWZZbwlv3Vmtr', 'type': 'playlist', 'uri': 'spotify:playlist:37i9dQZF1DWZZbwlv3Vmtr'}",
         "2025-10-21 14:37:13.231000+00:00",
         "2025-10-21 00:00:00",
         "15"
        ],
        [
         "26",
         "{'album': {'album_type': 'single', 'artists': [{'external_urls': {'spotify': 'https://open.spotify.com/artist/0pyekPSB9eriDdKgK71n2V'}, 'href': 'https://api.spotify.com/v1/artists/0pyekPSB9eriDdKgK71n2V', 'id': '0pyekPSB9eriDdKgK71n2V', 'name': 'FreakBeats', 'type': 'artist', 'uri': 'spotify:artist:0pyekPSB9eriDdKgK71n2V'}], 'available_markets': ['AR', 'AU', 'AT', 'BE', 'BO', 'BR', 'BG', 'CA', 'CL', 'CO', 'CR', 'CY', 'CZ', 'DK', 'DO', 'DE', 'EC', 'EE', 'SV', 'FI', 'FR', 'GR', 'GT', 'HN', 'HK', 'HU', 'IS', 'IE', 'IT', 'LV', 'LT', 'LU', 'MY', 'MT', 'MX', 'NL', 'NZ', 'NI', 'NO', 'PA', 'PY', 'PE', 'PH', 'PL', 'PT', 'SG', 'SK', 'ES', 'SE', 'CH', 'TW', 'TR', 'UY', 'US', 'GB', 'AD', 'LI', 'MC', 'ID', 'JP', 'TH', 'VN', 'RO', 'IL', 'ZA', 'SA', 'AE', 'BH', 'QA', 'OM', 'KW', 'EG', 'MA', 'DZ', 'TN', 'LB', 'JO', 'PS', 'IN', 'BY', 'KZ', 'MD', 'UA', 'AL', 'BA', 'HR', 'ME', 'MK', 'RS', 'SI', 'KR', 'BD', 'PK', 'LK', 'GH', 'KE', 'NG', 'TZ', 'UG', 'AG', 'AM', 'BS', 'BB', 'BZ', 'BT', 'BW', 'BF', 'CV', 'CW', 'DM', 'FJ', 'GM', 'GE', 'GD', 'GW', 'GY', 'HT', 'JM', 'KI', 'LS', 'LR', 'MW', 'MV', 'ML', 'MH', 'FM', 'NA', 'NR', 'NE', 'PW', 'PG', 'PR', 'WS', 'SM', 'ST', 'SN', 'SC', 'SL', 'SB', 'KN', 'LC', 'VC', 'SR', 'TL', 'TO', 'TT', 'TV', 'VU', 'AZ', 'BN', 'BI', 'KH', 'CM', 'TD', 'KM', 'GQ', 'SZ', 'GA', 'GN', 'KG', 'LA', 'MO', 'MR', 'MN', 'NP', 'RW', 'TG', 'UZ', 'ZW', 'BJ', 'MG', 'MU', 'MZ', 'AO', 'CI', 'DJ', 'ZM', 'CD', 'CG', 'IQ', 'LY', 'TJ', 'VE', 'ET', 'XK'], 'external_urls': {'spotify': 'https://open.spotify.com/album/3ZqFAQIeRWUaK6IEt5DT2E'}, 'href': 'https://api.spotify.com/v1/albums/3ZqFAQIeRWUaK6IEt5DT2E', 'id': '3ZqFAQIeRWUaK6IEt5DT2E', 'images': [{'height': 640, 'url': 'https://i.scdn.co/image/ab67616d0000b273120ec14434ade215f56f6807', 'width': 640}, {'height': 300, 'url': 'https://i.scdn.co/image/ab67616d00001e02120ec14434ade215f56f6807', 'width': 300}, {'height': 64, 'url': 'https://i.scdn.co/image/ab67616d00004851120ec14434ade215f56f6807', 'width': 64}], 'name': 'Flow', 'release_date': '2023-12-04', 'release_date_precision': 'day', 'total_tracks': 1, 'type': 'album', 'uri': 'spotify:album:3ZqFAQIeRWUaK6IEt5DT2E'}, 'artists': [{'external_urls': {'spotify': 'https://open.spotify.com/artist/0pyekPSB9eriDdKgK71n2V'}, 'href': 'https://api.spotify.com/v1/artists/0pyekPSB9eriDdKgK71n2V', 'id': '0pyekPSB9eriDdKgK71n2V', 'name': 'FreakBeats', 'type': 'artist', 'uri': 'spotify:artist:0pyekPSB9eriDdKgK71n2V'}], 'available_markets': ['AR', 'AU', 'AT', 'BE', 'BO', 'BR', 'BG', 'CA', 'CL', 'CO', 'CR', 'CY', 'CZ', 'DK', 'DO', 'DE', 'EC', 'EE', 'SV', 'FI', 'FR', 'GR', 'GT', 'HN', 'HK', 'HU', 'IS', 'IE', 'IT', 'LV', 'LT', 'LU', 'MY', 'MT', 'MX', 'NL', 'NZ', 'NI', 'NO', 'PA', 'PY', 'PE', 'PH', 'PL', 'PT', 'SG', 'SK', 'ES', 'SE', 'CH', 'TW', 'TR', 'UY', 'US', 'GB', 'AD', 'LI', 'MC', 'ID', 'JP', 'TH', 'VN', 'RO', 'IL', 'ZA', 'SA', 'AE', 'BH', 'QA', 'OM', 'KW', 'EG', 'MA', 'DZ', 'TN', 'LB', 'JO', 'PS', 'IN', 'BY', 'KZ', 'MD', 'UA', 'AL', 'BA', 'HR', 'ME', 'MK', 'RS', 'SI', 'KR', 'BD', 'PK', 'LK', 'GH', 'KE', 'NG', 'TZ', 'UG', 'AG', 'AM', 'BS', 'BB', 'BZ', 'BT', 'BW', 'BF', 'CV', 'CW', 'DM', 'FJ', 'GM', 'GE', 'GD', 'GW', 'GY', 'HT', 'JM', 'KI', 'LS', 'LR', 'MW', 'MV', 'ML', 'MH', 'FM', 'NA', 'NR', 'NE', 'PW', 'PG', 'PR', 'WS', 'SM', 'ST', 'SN', 'SC', 'SL', 'SB', 'KN', 'LC', 'VC', 'SR', 'TL', 'TO', 'TT', 'TV', 'VU', 'AZ', 'BN', 'BI', 'KH', 'CM', 'TD', 'KM', 'GQ', 'SZ', 'GA', 'GN', 'KG', 'LA', 'MO', 'MR', 'MN', 'NP', 'RW', 'TG', 'UZ', 'ZW', 'BJ', 'MG', 'MU', 'MZ', 'AO', 'CI', 'DJ', 'ZM', 'CD', 'CG', 'IQ', 'LY', 'TJ', 'VE', 'ET', 'XK'], 'disc_number': 1, 'duration_ms': 110000, 'explicit': False, 'external_ids': {'isrc': 'SE4RG2307419'}, 'external_urls': {'spotify': 'https://open.spotify.com/track/73gpj3dHYGqY5sxEva7TWv'}, 'href': 'https://api.spotify.com/v1/tracks/73gpj3dHYGqY5sxEva7TWv', 'id': '73gpj3dHYGqY5sxEva7TWv', 'is_local': False, 'name': 'Flow', 'popularity': 52, 'preview_url': None, 'track_number': 1, 'type': 'track', 'uri': 'spotify:track:73gpj3dHYGqY5sxEva7TWv'}",
         "2025-10-21T14:35:19.452Z",
         "{'external_urls': {'spotify': 'https://open.spotify.com/playlist/37i9dQZF1DWZZbwlv3Vmtr'}, 'href': 'https://api.spotify.com/v1/playlists/37i9dQZF1DWZZbwlv3Vmtr', 'type': 'playlist', 'uri': 'spotify:playlist:37i9dQZF1DWZZbwlv3Vmtr'}",
         "2025-10-21 14:35:19.452000+00:00",
         "2025-10-21 00:00:00",
         "16"
        ],
        [
         "27",
         "{'album': {'album_type': 'single', 'artists': [{'external_urls': {'spotify': 'https://open.spotify.com/artist/6XiXz5Vit02rmpr0M9SzMG'}, 'href': 'https://api.spotify.com/v1/artists/6XiXz5Vit02rmpr0M9SzMG', 'id': '6XiXz5Vit02rmpr0M9SzMG', 'name': 'Cmd q', 'type': 'artist', 'uri': 'spotify:artist:6XiXz5Vit02rmpr0M9SzMG'}], 'available_markets': ['AR', 'AU', 'AT', 'BE', 'BO', 'BR', 'BG', 'CA', 'CL', 'CO', 'CR', 'CY', 'CZ', 'DK', 'DO', 'DE', 'EC', 'EE', 'SV', 'FI', 'FR', 'GR', 'GT', 'HN', 'HK', 'HU', 'IS', 'IE', 'IT', 'LV', 'LT', 'LU', 'MY', 'MT', 'MX', 'NL', 'NZ', 'NI', 'NO', 'PA', 'PY', 'PE', 'PH', 'PL', 'PT', 'SG', 'SK', 'ES', 'SE', 'CH', 'TW', 'TR', 'UY', 'US', 'GB', 'AD', 'LI', 'MC', 'ID', 'JP', 'TH', 'VN', 'RO', 'IL', 'ZA', 'SA', 'AE', 'BH', 'QA', 'OM', 'KW', 'EG', 'MA', 'DZ', 'TN', 'LB', 'JO', 'PS', 'IN', 'BY', 'KZ', 'MD', 'UA', 'AL', 'BA', 'HR', 'ME', 'MK', 'RS', 'SI', 'KR', 'BD', 'PK', 'LK', 'GH', 'KE', 'NG', 'TZ', 'UG', 'AG', 'AM', 'BS', 'BB', 'BZ', 'BT', 'BW', 'BF', 'CV', 'CW', 'DM', 'FJ', 'GM', 'GE', 'GD', 'GW', 'GY', 'HT', 'JM', 'KI', 'LS', 'LR', 'MW', 'MV', 'ML', 'MH', 'FM', 'NA', 'NR', 'NE', 'PW', 'PG', 'PR', 'WS', 'SM', 'ST', 'SN', 'SC', 'SL', 'SB', 'KN', 'LC', 'VC', 'SR', 'TL', 'TO', 'TT', 'TV', 'VU', 'AZ', 'BN', 'BI', 'KH', 'CM', 'TD', 'KM', 'GQ', 'SZ', 'GA', 'GN', 'KG', 'LA', 'MO', 'MR', 'MN', 'NP', 'RW', 'TG', 'UZ', 'ZW', 'BJ', 'MG', 'MU', 'MZ', 'AO', 'CI', 'DJ', 'ZM', 'CD', 'CG', 'IQ', 'LY', 'TJ', 'VE', 'ET', 'XK'], 'external_urls': {'spotify': 'https://open.spotify.com/album/6HhukpHgPeBhjwTAKYieJ0'}, 'href': 'https://api.spotify.com/v1/albums/6HhukpHgPeBhjwTAKYieJ0', 'id': '6HhukpHgPeBhjwTAKYieJ0', 'images': [{'height': 640, 'url': 'https://i.scdn.co/image/ab67616d0000b273fe5bb6728f4e302f2242cc12', 'width': 640}, {'height': 300, 'url': 'https://i.scdn.co/image/ab67616d00001e02fe5bb6728f4e302f2242cc12', 'width': 300}, {'height': 64, 'url': 'https://i.scdn.co/image/ab67616d00004851fe5bb6728f4e302f2242cc12', 'width': 64}], 'name': 'Morse', 'release_date': '2025-02-14', 'release_date_precision': 'day', 'total_tracks': 1, 'type': 'album', 'uri': 'spotify:album:6HhukpHgPeBhjwTAKYieJ0'}, 'artists': [{'external_urls': {'spotify': 'https://open.spotify.com/artist/6XiXz5Vit02rmpr0M9SzMG'}, 'href': 'https://api.spotify.com/v1/artists/6XiXz5Vit02rmpr0M9SzMG', 'id': '6XiXz5Vit02rmpr0M9SzMG', 'name': 'Cmd q', 'type': 'artist', 'uri': 'spotify:artist:6XiXz5Vit02rmpr0M9SzMG'}], 'available_markets': ['AR', 'AU', 'AT', 'BE', 'BO', 'BR', 'BG', 'CA', 'CL', 'CO', 'CR', 'CY', 'CZ', 'DK', 'DO', 'DE', 'EC', 'EE', 'SV', 'FI', 'FR', 'GR', 'GT', 'HN', 'HK', 'HU', 'IS', 'IE', 'IT', 'LV', 'LT', 'LU', 'MY', 'MT', 'MX', 'NL', 'NZ', 'NI', 'NO', 'PA', 'PY', 'PE', 'PH', 'PL', 'PT', 'SG', 'SK', 'ES', 'SE', 'CH', 'TW', 'TR', 'UY', 'US', 'GB', 'AD', 'LI', 'MC', 'ID', 'JP', 'TH', 'VN', 'RO', 'IL', 'ZA', 'SA', 'AE', 'BH', 'QA', 'OM', 'KW', 'EG', 'MA', 'DZ', 'TN', 'LB', 'JO', 'PS', 'IN', 'BY', 'KZ', 'MD', 'UA', 'AL', 'BA', 'HR', 'ME', 'MK', 'RS', 'SI', 'KR', 'BD', 'PK', 'LK', 'GH', 'KE', 'NG', 'TZ', 'UG', 'AG', 'AM', 'BS', 'BB', 'BZ', 'BT', 'BW', 'BF', 'CV', 'CW', 'DM', 'FJ', 'GM', 'GE', 'GD', 'GW', 'GY', 'HT', 'JM', 'KI', 'LS', 'LR', 'MW', 'MV', 'ML', 'MH', 'FM', 'NA', 'NR', 'NE', 'PW', 'PG', 'PR', 'WS', 'SM', 'ST', 'SN', 'SC', 'SL', 'SB', 'KN', 'LC', 'VC', 'SR', 'TL', 'TO', 'TT', 'TV', 'VU', 'AZ', 'BN', 'BI', 'KH', 'CM', 'TD', 'KM', 'GQ', 'SZ', 'GA', 'GN', 'KG', 'LA', 'MO', 'MR', 'MN', 'NP', 'RW', 'TG', 'UZ', 'ZW', 'BJ', 'MG', 'MU', 'MZ', 'AO', 'CI', 'DJ', 'ZM', 'CD', 'CG', 'IQ', 'LY', 'TJ', 'VE', 'ET', 'XK'], 'disc_number': 1, 'duration_ms': 168000, 'explicit': False, 'external_ids': {'isrc': 'SE4RG2500358'}, 'external_urls': {'spotify': 'https://open.spotify.com/track/4Od4ZRReLhtOLjOk5WwniX'}, 'href': 'https://api.spotify.com/v1/tracks/4Od4ZRReLhtOLjOk5WwniX', 'id': '4Od4ZRReLhtOLjOk5WwniX', 'is_local': False, 'name': 'Morse', 'popularity': 59, 'preview_url': None, 'track_number': 1, 'type': 'track', 'uri': 'spotify:track:4Od4ZRReLhtOLjOk5WwniX'}",
         "2025-10-21T14:33:43.155Z",
         "{'external_urls': {'spotify': 'https://open.spotify.com/playlist/37i9dQZF1DWZZbwlv3Vmtr'}, 'href': 'https://api.spotify.com/v1/playlists/37i9dQZF1DWZZbwlv3Vmtr', 'type': 'playlist', 'uri': 'spotify:playlist:37i9dQZF1DWZZbwlv3Vmtr'}",
         "2025-10-21 14:33:43.155000+00:00",
         "2025-10-21 00:00:00",
         "17"
        ],
        [
         "28",
         "{'album': {'album_type': 'album', 'artists': [{'external_urls': {'spotify': 'https://open.spotify.com/artist/1xOgtDBKnZvSLAgCVSOmNH'}, 'href': 'https://api.spotify.com/v1/artists/1xOgtDBKnZvSLAgCVSOmNH', 'id': '1xOgtDBKnZvSLAgCVSOmNH', 'name': 'Jaeden Camstra', 'type': 'artist', 'uri': 'spotify:artist:1xOgtDBKnZvSLAgCVSOmNH'}], 'available_markets': ['AR', 'AU', 'AT', 'BE', 'BO', 'BR', 'BG', 'CA', 'CL', 'CO', 'CR', 'CY', 'CZ', 'DK', 'DO', 'DE', 'EC', 'EE', 'SV', 'FI', 'FR', 'GR', 'GT', 'HN', 'HK', 'HU', 'IS', 'IE', 'IT', 'LV', 'LT', 'LU', 'MY', 'MT', 'MX', 'NL', 'NZ', 'NI', 'NO', 'PA', 'PY', 'PE', 'PH', 'PL', 'PT', 'SG', 'SK', 'ES', 'SE', 'CH', 'TW', 'TR', 'UY', 'US', 'GB', 'AD', 'LI', 'MC', 'ID', 'JP', 'TH', 'VN', 'RO', 'IL', 'ZA', 'SA', 'AE', 'BH', 'QA', 'OM', 'KW', 'EG', 'MA', 'DZ', 'TN', 'LB', 'JO', 'PS', 'IN', 'BY', 'KZ', 'MD', 'UA', 'AL', 'BA', 'HR', 'ME', 'MK', 'RS', 'SI', 'KR', 'BD', 'PK', 'LK', 'GH', 'KE', 'NG', 'TZ', 'UG', 'AG', 'AM', 'BS', 'BB', 'BZ', 'BT', 'BW', 'BF', 'CV', 'CW', 'DM', 'FJ', 'GM', 'GE', 'GD', 'GW', 'GY', 'HT', 'JM', 'KI', 'LS', 'LR', 'MW', 'MV', 'ML', 'MH', 'FM', 'NA', 'NR', 'NE', 'PW', 'PG', 'PR', 'WS', 'SM', 'ST', 'SN', 'SC', 'SL', 'SB', 'KN', 'LC', 'VC', 'SR', 'TL', 'TO', 'TT', 'TV', 'VU', 'AZ', 'BN', 'BI', 'KH', 'CM', 'TD', 'KM', 'GQ', 'SZ', 'GA', 'GN', 'KG', 'LA', 'MO', 'MR', 'MN', 'NP', 'RW', 'TG', 'UZ', 'ZW', 'BJ', 'MG', 'MU', 'MZ', 'AO', 'CI', 'DJ', 'ZM', 'CD', 'CG', 'IQ', 'LY', 'TJ', 'VE', 'ET', 'XK'], 'external_urls': {'spotify': 'https://open.spotify.com/album/38iWAh9jYsGlOYpqsG82lA'}, 'href': 'https://api.spotify.com/v1/albums/38iWAh9jYsGlOYpqsG82lA', 'id': '38iWAh9jYsGlOYpqsG82lA', 'images': [{'height': 640, 'url': 'https://i.scdn.co/image/ab67616d0000b273b2c796f3e15330528bceb334', 'width': 640}, {'height': 300, 'url': 'https://i.scdn.co/image/ab67616d00001e02b2c796f3e15330528bceb334', 'width': 300}, {'height': 64, 'url': 'https://i.scdn.co/image/ab67616d00004851b2c796f3e15330528bceb334', 'width': 64}], 'name': 'Shanghai 2004', 'release_date': '2024-05-20', 'release_date_precision': 'day', 'total_tracks': 22, 'type': 'album', 'uri': 'spotify:album:38iWAh9jYsGlOYpqsG82lA'}, 'artists': [{'external_urls': {'spotify': 'https://open.spotify.com/artist/1xOgtDBKnZvSLAgCVSOmNH'}, 'href': 'https://api.spotify.com/v1/artists/1xOgtDBKnZvSLAgCVSOmNH', 'id': '1xOgtDBKnZvSLAgCVSOmNH', 'name': 'Jaeden Camstra', 'type': 'artist', 'uri': 'spotify:artist:1xOgtDBKnZvSLAgCVSOmNH'}], 'available_markets': ['AR', 'AU', 'AT', 'BE', 'BO', 'BR', 'BG', 'CA', 'CL', 'CO', 'CR', 'CY', 'CZ', 'DK', 'DO', 'DE', 'EC', 'EE', 'SV', 'FI', 'FR', 'GR', 'GT', 'HN', 'HK', 'HU', 'IS', 'IE', 'IT', 'LV', 'LT', 'LU', 'MY', 'MT', 'MX', 'NL', 'NZ', 'NI', 'NO', 'PA', 'PY', 'PE', 'PH', 'PL', 'PT', 'SG', 'SK', 'ES', 'SE', 'CH', 'TW', 'TR', 'UY', 'US', 'GB', 'AD', 'LI', 'MC', 'ID', 'JP', 'TH', 'VN', 'RO', 'IL', 'ZA', 'SA', 'AE', 'BH', 'QA', 'OM', 'KW', 'EG', 'MA', 'DZ', 'TN', 'LB', 'JO', 'PS', 'IN', 'BY', 'KZ', 'MD', 'UA', 'AL', 'BA', 'HR', 'ME', 'MK', 'RS', 'SI', 'KR', 'BD', 'PK', 'LK', 'GH', 'KE', 'NG', 'TZ', 'UG', 'AG', 'AM', 'BS', 'BB', 'BZ', 'BT', 'BW', 'BF', 'CV', 'CW', 'DM', 'FJ', 'GM', 'GE', 'GD', 'GW', 'GY', 'HT', 'JM', 'KI', 'LS', 'LR', 'MW', 'MV', 'ML', 'MH', 'FM', 'NA', 'NR', 'NE', 'PW', 'PG', 'PR', 'WS', 'SM', 'ST', 'SN', 'SC', 'SL', 'SB', 'KN', 'LC', 'VC', 'SR', 'TL', 'TO', 'TT', 'TV', 'VU', 'AZ', 'BN', 'BI', 'KH', 'CM', 'TD', 'KM', 'GQ', 'SZ', 'GA', 'GN', 'KG', 'LA', 'MO', 'MR', 'MN', 'NP', 'RW', 'TG', 'UZ', 'ZW', 'BJ', 'MG', 'MU', 'MZ', 'AO', 'CI', 'DJ', 'ZM', 'CD', 'CG', 'IQ', 'LY', 'TJ', 'VE', 'ET', 'XK'], 'disc_number': 1, 'duration_ms': 88988, 'explicit': False, 'external_ids': {'isrc': 'CA5KR2452882'}, 'external_urls': {'spotify': 'https://open.spotify.com/track/1N9Bw73tG0owhecdbSTENt'}, 'href': 'https://api.spotify.com/v1/tracks/1N9Bw73tG0owhecdbSTENt', 'id': '1N9Bw73tG0owhecdbSTENt', 'is_local': False, 'name': 'IAH', 'popularity': 52, 'preview_url': None, 'track_number': 2, 'type': 'track', 'uri': 'spotify:track:1N9Bw73tG0owhecdbSTENt'}",
         "2025-10-21T14:31:16.090Z",
         "{'external_urls': {'spotify': 'https://open.spotify.com/playlist/37i9dQZF1DWZZbwlv3Vmtr'}, 'href': 'https://api.spotify.com/v1/playlists/37i9dQZF1DWZZbwlv3Vmtr', 'type': 'playlist', 'uri': 'spotify:playlist:37i9dQZF1DWZZbwlv3Vmtr'}",
         "2025-10-21 14:31:16.090000+00:00",
         "2025-10-21 00:00:00",
         "18"
        ],
        [
         "29",
         "{'album': {'album_type': 'single', 'artists': [{'external_urls': {'spotify': 'https://open.spotify.com/artist/7gCQx2yCLDrGPTMa7fAY8y'}, 'href': 'https://api.spotify.com/v1/artists/7gCQx2yCLDrGPTMa7fAY8y', 'id': '7gCQx2yCLDrGPTMa7fAY8y', 'name': 'giannis wang', 'type': 'artist', 'uri': 'spotify:artist:7gCQx2yCLDrGPTMa7fAY8y'}], 'available_markets': ['AR', 'AU', 'AT', 'BE', 'BO', 'BR', 'BG', 'CA', 'CL', 'CO', 'CR', 'CY', 'CZ', 'DK', 'DO', 'DE', 'EC', 'EE', 'SV', 'FI', 'FR', 'GR', 'GT', 'HN', 'HK', 'HU', 'IS', 'IE', 'IT', 'LV', 'LT', 'LU', 'MY', 'MT', 'MX', 'NL', 'NZ', 'NI', 'NO', 'PA', 'PY', 'PE', 'PH', 'PL', 'PT', 'SG', 'SK', 'ES', 'SE', 'CH', 'TW', 'TR', 'UY', 'US', 'GB', 'AD', 'LI', 'MC', 'ID', 'JP', 'TH', 'VN', 'RO', 'IL', 'ZA', 'SA', 'AE', 'BH', 'QA', 'OM', 'KW', 'EG', 'MA', 'DZ', 'TN', 'LB', 'JO', 'PS', 'IN', 'BY', 'KZ', 'MD', 'UA', 'AL', 'BA', 'HR', 'ME', 'MK', 'RS', 'SI', 'KR', 'BD', 'PK', 'LK', 'GH', 'KE', 'NG', 'TZ', 'UG', 'AG', 'AM', 'BS', 'BB', 'BZ', 'BT', 'BW', 'BF', 'CV', 'CW', 'DM', 'FJ', 'GM', 'GE', 'GD', 'GW', 'GY', 'HT', 'JM', 'KI', 'LS', 'LR', 'MW', 'MV', 'ML', 'MH', 'FM', 'NA', 'NR', 'NE', 'PW', 'PG', 'PR', 'WS', 'SM', 'ST', 'SN', 'SC', 'SL', 'SB', 'KN', 'LC', 'VC', 'SR', 'TL', 'TO', 'TT', 'TV', 'VU', 'AZ', 'BN', 'BI', 'KH', 'CM', 'TD', 'KM', 'GQ', 'SZ', 'GA', 'GN', 'KG', 'LA', 'MO', 'MR', 'MN', 'NP', 'RW', 'TG', 'UZ', 'ZW', 'BJ', 'MG', 'MU', 'MZ', 'AO', 'CI', 'DJ', 'ZM', 'CD', 'CG', 'IQ', 'LY', 'TJ', 'VE', 'ET', 'XK'], 'external_urls': {'spotify': 'https://open.spotify.com/album/0hUjYYtYqpbVZgIG6vRmEZ'}, 'href': 'https://api.spotify.com/v1/albums/0hUjYYtYqpbVZgIG6vRmEZ', 'id': '0hUjYYtYqpbVZgIG6vRmEZ', 'images': [{'height': 640, 'url': 'https://i.scdn.co/image/ab67616d0000b2731628d7e102e4080f4f7221d7', 'width': 640}, {'height': 300, 'url': 'https://i.scdn.co/image/ab67616d00001e021628d7e102e4080f4f7221d7', 'width': 300}, {'height': 64, 'url': 'https://i.scdn.co/image/ab67616d000048511628d7e102e4080f4f7221d7', 'width': 64}], 'name': 'hot mess', 'release_date': '2024-09-01', 'release_date_precision': 'day', 'total_tracks': 1, 'type': 'album', 'uri': 'spotify:album:0hUjYYtYqpbVZgIG6vRmEZ'}, 'artists': [{'external_urls': {'spotify': 'https://open.spotify.com/artist/7gCQx2yCLDrGPTMa7fAY8y'}, 'href': 'https://api.spotify.com/v1/artists/7gCQx2yCLDrGPTMa7fAY8y', 'id': '7gCQx2yCLDrGPTMa7fAY8y', 'name': 'giannis wang', 'type': 'artist', 'uri': 'spotify:artist:7gCQx2yCLDrGPTMa7fAY8y'}], 'available_markets': ['AR', 'AU', 'AT', 'BE', 'BO', 'BR', 'BG', 'CA', 'CL', 'CO', 'CR', 'CY', 'CZ', 'DK', 'DO', 'DE', 'EC', 'EE', 'SV', 'FI', 'FR', 'GR', 'GT', 'HN', 'HK', 'HU', 'IS', 'IE', 'IT', 'LV', 'LT', 'LU', 'MY', 'MT', 'MX', 'NL', 'NZ', 'NI', 'NO', 'PA', 'PY', 'PE', 'PH', 'PL', 'PT', 'SG', 'SK', 'ES', 'SE', 'CH', 'TW', 'TR', 'UY', 'US', 'GB', 'AD', 'LI', 'MC', 'ID', 'JP', 'TH', 'VN', 'RO', 'IL', 'ZA', 'SA', 'AE', 'BH', 'QA', 'OM', 'KW', 'EG', 'MA', 'DZ', 'TN', 'LB', 'JO', 'PS', 'IN', 'BY', 'KZ', 'MD', 'UA', 'AL', 'BA', 'HR', 'ME', 'MK', 'RS', 'SI', 'KR', 'BD', 'PK', 'LK', 'GH', 'KE', 'NG', 'TZ', 'UG', 'AG', 'AM', 'BS', 'BB', 'BZ', 'BT', 'BW', 'BF', 'CV', 'CW', 'DM', 'FJ', 'GM', 'GE', 'GD', 'GW', 'GY', 'HT', 'JM', 'KI', 'LS', 'LR', 'MW', 'MV', 'ML', 'MH', 'FM', 'NA', 'NR', 'NE', 'PW', 'PG', 'PR', 'WS', 'SM', 'ST', 'SN', 'SC', 'SL', 'SB', 'KN', 'LC', 'VC', 'SR', 'TL', 'TO', 'TT', 'TV', 'VU', 'AZ', 'BN', 'BI', 'KH', 'CM', 'TD', 'KM', 'GQ', 'SZ', 'GA', 'GN', 'KG', 'LA', 'MO', 'MR', 'MN', 'NP', 'RW', 'TG', 'UZ', 'ZW', 'BJ', 'MG', 'MU', 'MZ', 'AO', 'CI', 'DJ', 'ZM', 'CD', 'CG', 'IQ', 'LY', 'TJ', 'VE', 'ET', 'XK'], 'disc_number': 1, 'duration_ms': 125454, 'explicit': False, 'external_ids': {'isrc': 'SE69Z2422643'}, 'external_urls': {'spotify': 'https://open.spotify.com/track/4qhLmcwhWxD17aWb2eN8sz'}, 'href': 'https://api.spotify.com/v1/tracks/4qhLmcwhWxD17aWb2eN8sz', 'id': '4qhLmcwhWxD17aWb2eN8sz', 'is_local': False, 'name': 'hot mess', 'popularity': 58, 'preview_url': None, 'track_number': 1, 'type': 'track', 'uri': 'spotify:track:4qhLmcwhWxD17aWb2eN8sz'}",
         "2025-10-21T14:30:10.134Z",
         "{'external_urls': {'spotify': 'https://open.spotify.com/playlist/37i9dQZF1DWZZbwlv3Vmtr'}, 'href': 'https://api.spotify.com/v1/playlists/37i9dQZF1DWZZbwlv3Vmtr', 'type': 'playlist', 'uri': 'spotify:playlist:37i9dQZF1DWZZbwlv3Vmtr'}",
         "2025-10-21 14:30:10.134000+00:00",
         "2025-10-21 00:00:00",
         "19"
        ],
        [
         "30",
         "{'album': {'album_type': 'single', 'artists': [{'external_urls': {'spotify': 'https://open.spotify.com/artist/4mHQKN5WYx4x5Ynwx91ZGg'}, 'href': 'https://api.spotify.com/v1/artists/4mHQKN5WYx4x5Ynwx91ZGg', 'id': '4mHQKN5WYx4x5Ynwx91ZGg', 'name': 'Moonloop', 'type': 'artist', 'uri': 'spotify:artist:4mHQKN5WYx4x5Ynwx91ZGg'}], 'available_markets': ['AR', 'AU', 'AT', 'BE', 'BO', 'BR', 'BG', 'CA', 'CL', 'CO', 'CR', 'CY', 'CZ', 'DK', 'DO', 'DE', 'EC', 'EE', 'SV', 'FI', 'FR', 'GR', 'GT', 'HN', 'HK', 'HU', 'IS', 'IE', 'IT', 'LV', 'LT', 'LU', 'MY', 'MT', 'MX', 'NL', 'NZ', 'NI', 'NO', 'PA', 'PY', 'PE', 'PH', 'PL', 'PT', 'SG', 'SK', 'ES', 'SE', 'CH', 'TW', 'TR', 'UY', 'US', 'GB', 'AD', 'LI', 'MC', 'ID', 'JP', 'TH', 'VN', 'RO', 'IL', 'ZA', 'SA', 'AE', 'BH', 'QA', 'OM', 'KW', 'EG', 'MA', 'DZ', 'TN', 'LB', 'JO', 'PS', 'IN', 'BY', 'KZ', 'MD', 'UA', 'AL', 'BA', 'HR', 'ME', 'MK', 'RS', 'SI', 'KR', 'BD', 'PK', 'LK', 'GH', 'KE', 'NG', 'TZ', 'UG', 'AG', 'AM', 'BS', 'BB', 'BZ', 'BT', 'BW', 'BF', 'CV', 'CW', 'DM', 'FJ', 'GM', 'GE', 'GD', 'GW', 'GY', 'HT', 'JM', 'KI', 'LS', 'LR', 'MW', 'MV', 'ML', 'MH', 'FM', 'NA', 'NR', 'NE', 'PW', 'PG', 'PR', 'WS', 'SM', 'ST', 'SN', 'SC', 'SL', 'SB', 'KN', 'LC', 'VC', 'SR', 'TL', 'TO', 'TT', 'TV', 'VU', 'AZ', 'BN', 'BI', 'KH', 'CM', 'TD', 'KM', 'GQ', 'SZ', 'GA', 'GN', 'KG', 'LA', 'MO', 'MR', 'MN', 'NP', 'RW', 'TG', 'UZ', 'ZW', 'BJ', 'MG', 'MU', 'MZ', 'AO', 'CI', 'DJ', 'ZM', 'CD', 'CG', 'IQ', 'LY', 'TJ', 'VE', 'ET', 'XK'], 'external_urls': {'spotify': 'https://open.spotify.com/album/6ONqrZvrFKU9wWaPi9ITV3'}, 'href': 'https://api.spotify.com/v1/albums/6ONqrZvrFKU9wWaPi9ITV3', 'id': '6ONqrZvrFKU9wWaPi9ITV3', 'images': [{'height': 640, 'url': 'https://i.scdn.co/image/ab67616d0000b2736d5e3767d1a6fd32ba272a34', 'width': 640}, {'height': 300, 'url': 'https://i.scdn.co/image/ab67616d00001e026d5e3767d1a6fd32ba272a34', 'width': 300}, {'height': 64, 'url': 'https://i.scdn.co/image/ab67616d000048516d5e3767d1a6fd32ba272a34', 'width': 64}], 'name': 'Warm Light, Cold Rain', 'release_date': '2025-09-24', 'release_date_precision': 'day', 'total_tracks': 1, 'type': 'album', 'uri': 'spotify:album:6ONqrZvrFKU9wWaPi9ITV3'}, 'artists': [{'external_urls': {'spotify': 'https://open.spotify.com/artist/4mHQKN5WYx4x5Ynwx91ZGg'}, 'href': 'https://api.spotify.com/v1/artists/4mHQKN5WYx4x5Ynwx91ZGg', 'id': '4mHQKN5WYx4x5Ynwx91ZGg', 'name': 'Moonloop', 'type': 'artist', 'uri': 'spotify:artist:4mHQKN5WYx4x5Ynwx91ZGg'}], 'available_markets': ['AR', 'AU', 'AT', 'BE', 'BO', 'BR', 'BG', 'CA', 'CL', 'CO', 'CR', 'CY', 'CZ', 'DK', 'DO', 'DE', 'EC', 'EE', 'SV', 'FI', 'FR', 'GR', 'GT', 'HN', 'HK', 'HU', 'IS', 'IE', 'IT', 'LV', 'LT', 'LU', 'MY', 'MT', 'MX', 'NL', 'NZ', 'NI', 'NO', 'PA', 'PY', 'PE', 'PH', 'PL', 'PT', 'SG', 'SK', 'ES', 'SE', 'CH', 'TW', 'TR', 'UY', 'US', 'GB', 'AD', 'LI', 'MC', 'ID', 'JP', 'TH', 'VN', 'RO', 'IL', 'ZA', 'SA', 'AE', 'BH', 'QA', 'OM', 'KW', 'EG', 'MA', 'DZ', 'TN', 'LB', 'JO', 'PS', 'IN', 'BY', 'KZ', 'MD', 'UA', 'AL', 'BA', 'HR', 'ME', 'MK', 'RS', 'SI', 'KR', 'BD', 'PK', 'LK', 'GH', 'KE', 'NG', 'TZ', 'UG', 'AG', 'AM', 'BS', 'BB', 'BZ', 'BT', 'BW', 'BF', 'CV', 'CW', 'DM', 'FJ', 'GM', 'GE', 'GD', 'GW', 'GY', 'HT', 'JM', 'KI', 'LS', 'LR', 'MW', 'MV', 'ML', 'MH', 'FM', 'NA', 'NR', 'NE', 'PW', 'PG', 'PR', 'WS', 'SM', 'ST', 'SN', 'SC', 'SL', 'SB', 'KN', 'LC', 'VC', 'SR', 'TL', 'TO', 'TT', 'TV', 'VU', 'AZ', 'BN', 'BI', 'KH', 'CM', 'TD', 'KM', 'GQ', 'SZ', 'GA', 'GN', 'KG', 'LA', 'MO', 'MR', 'MN', 'NP', 'RW', 'TG', 'UZ', 'ZW', 'BJ', 'MG', 'MU', 'MZ', 'AO', 'CI', 'DJ', 'ZM', 'CD', 'CG', 'IQ', 'LY', 'TJ', 'VE', 'ET', 'XK'], 'disc_number': 1, 'duration_ms': 140571, 'explicit': False, 'external_ids': {'isrc': 'FXQ892500266'}, 'external_urls': {'spotify': 'https://open.spotify.com/track/52Bud0dXCjqlbzxp32yjYu'}, 'href': 'https://api.spotify.com/v1/tracks/52Bud0dXCjqlbzxp32yjYu', 'id': '52Bud0dXCjqlbzxp32yjYu', 'is_local': False, 'name': 'Warm Light, Cold Rain', 'popularity': 64, 'preview_url': None, 'track_number': 1, 'type': 'track', 'uri': 'spotify:track:52Bud0dXCjqlbzxp32yjYu'}",
         "2025-10-21T14:28:15.805Z",
         "{'external_urls': {'spotify': 'https://open.spotify.com/playlist/37i9dQZF1DWZZbwlv3Vmtr'}, 'href': 'https://api.spotify.com/v1/playlists/37i9dQZF1DWZZbwlv3Vmtr', 'type': 'playlist', 'uri': 'spotify:playlist:37i9dQZF1DWZZbwlv3Vmtr'}",
         "2025-10-21 14:28:15.805000+00:00",
         "2025-10-21 00:00:00",
         "20"
        ],
        [
         "31",
         "{'album': {'album_type': 'single', 'artists': [{'external_urls': {'spotify': 'https://open.spotify.com/artist/2rd4NH7tA06zYwgkRsbjqM'}, 'href': 'https://api.spotify.com/v1/artists/2rd4NH7tA06zYwgkRsbjqM', 'id': '2rd4NH7tA06zYwgkRsbjqM', 'name': 'Jazza Mazza', 'type': 'artist', 'uri': 'spotify:artist:2rd4NH7tA06zYwgkRsbjqM'}], 'available_markets': ['AR', 'AU', 'AT', 'BE', 'BO', 'BR', 'BG', 'CA', 'CL', 'CO', 'CR', 'CY', 'CZ', 'DK', 'DO', 'DE', 'EC', 'EE', 'SV', 'FI', 'FR', 'GR', 'GT', 'HN', 'HK', 'HU', 'IS', 'IE', 'IT', 'LV', 'LT', 'LU', 'MY', 'MT', 'MX', 'NL', 'NZ', 'NI', 'NO', 'PA', 'PY', 'PE', 'PH', 'PL', 'PT', 'SG', 'SK', 'ES', 'SE', 'CH', 'TW', 'TR', 'UY', 'US', 'GB', 'AD', 'LI', 'MC', 'ID', 'JP', 'TH', 'VN', 'RO', 'IL', 'ZA', 'SA', 'AE', 'BH', 'QA', 'OM', 'KW', 'EG', 'MA', 'DZ', 'TN', 'LB', 'JO', 'PS', 'IN', 'BY', 'KZ', 'MD', 'UA', 'AL', 'BA', 'HR', 'ME', 'MK', 'RS', 'SI', 'KR', 'BD', 'PK', 'LK', 'GH', 'KE', 'NG', 'TZ', 'UG', 'AG', 'AM', 'BS', 'BB', 'BZ', 'BT', 'BW', 'BF', 'CV', 'CW', 'DM', 'FJ', 'GM', 'GE', 'GD', 'GW', 'GY', 'HT', 'JM', 'KI', 'LS', 'LR', 'MW', 'MV', 'ML', 'MH', 'FM', 'NA', 'NR', 'NE', 'PW', 'PG', 'PR', 'WS', 'SM', 'ST', 'SN', 'SC', 'SL', 'SB', 'KN', 'LC', 'VC', 'SR', 'TL', 'TO', 'TT', 'TV', 'VU', 'AZ', 'BN', 'BI', 'KH', 'CM', 'TD', 'KM', 'GQ', 'SZ', 'GA', 'GN', 'KG', 'LA', 'MO', 'MR', 'MN', 'NP', 'RW', 'TG', 'UZ', 'ZW', 'BJ', 'MG', 'MU', 'MZ', 'AO', 'CI', 'DJ', 'ZM', 'CD', 'CG', 'IQ', 'LY', 'TJ', 'VE', 'ET', 'XK'], 'external_urls': {'spotify': 'https://open.spotify.com/album/07BnZeGBwpCJ53CwUsKNj6'}, 'href': 'https://api.spotify.com/v1/albums/07BnZeGBwpCJ53CwUsKNj6', 'id': '07BnZeGBwpCJ53CwUsKNj6', 'images': [{'height': 640, 'url': 'https://i.scdn.co/image/ab67616d0000b2733801b8ebfd7171d427e4eb8a', 'width': 640}, {'height': 300, 'url': 'https://i.scdn.co/image/ab67616d00001e023801b8ebfd7171d427e4eb8a', 'width': 300}, {'height': 64, 'url': 'https://i.scdn.co/image/ab67616d000048513801b8ebfd7171d427e4eb8a', 'width': 64}], 'name': 'Romance', 'release_date': '2025-01-10', 'release_date_precision': 'day', 'total_tracks': 1, 'type': 'album', 'uri': 'spotify:album:07BnZeGBwpCJ53CwUsKNj6'}, 'artists': [{'external_urls': {'spotify': 'https://open.spotify.com/artist/2rd4NH7tA06zYwgkRsbjqM'}, 'href': 'https://api.spotify.com/v1/artists/2rd4NH7tA06zYwgkRsbjqM', 'id': '2rd4NH7tA06zYwgkRsbjqM', 'name': 'Jazza Mazza', 'type': 'artist', 'uri': 'spotify:artist:2rd4NH7tA06zYwgkRsbjqM'}], 'available_markets': ['AR', 'AU', 'AT', 'BE', 'BO', 'BR', 'BG', 'CA', 'CL', 'CO', 'CR', 'CY', 'CZ', 'DK', 'DO', 'DE', 'EC', 'EE', 'SV', 'FI', 'FR', 'GR', 'GT', 'HN', 'HK', 'HU', 'IS', 'IE', 'IT', 'LV', 'LT', 'LU', 'MY', 'MT', 'MX', 'NL', 'NZ', 'NI', 'NO', 'PA', 'PY', 'PE', 'PH', 'PL', 'PT', 'SG', 'SK', 'ES', 'SE', 'CH', 'TW', 'TR', 'UY', 'US', 'GB', 'AD', 'LI', 'MC', 'ID', 'JP', 'TH', 'VN', 'RO', 'IL', 'ZA', 'SA', 'AE', 'BH', 'QA', 'OM', 'KW', 'EG', 'MA', 'DZ', 'TN', 'LB', 'JO', 'PS', 'IN', 'BY', 'KZ', 'MD', 'UA', 'AL', 'BA', 'HR', 'ME', 'MK', 'RS', 'SI', 'KR', 'BD', 'PK', 'LK', 'GH', 'KE', 'NG', 'TZ', 'UG', 'AG', 'AM', 'BS', 'BB', 'BZ', 'BT', 'BW', 'BF', 'CV', 'CW', 'DM', 'FJ', 'GM', 'GE', 'GD', 'GW', 'GY', 'HT', 'JM', 'KI', 'LS', 'LR', 'MW', 'MV', 'ML', 'MH', 'FM', 'NA', 'NR', 'NE', 'PW', 'PG', 'PR', 'WS', 'SM', 'ST', 'SN', 'SC', 'SL', 'SB', 'KN', 'LC', 'VC', 'SR', 'TL', 'TO', 'TT', 'TV', 'VU', 'AZ', 'BN', 'BI', 'KH', 'CM', 'TD', 'KM', 'GQ', 'SZ', 'GA', 'GN', 'KG', 'LA', 'MO', 'MR', 'MN', 'NP', 'RW', 'TG', 'UZ', 'ZW', 'BJ', 'MG', 'MU', 'MZ', 'AO', 'CI', 'DJ', 'ZM', 'CD', 'CG', 'IQ', 'LY', 'TJ', 'VE', 'ET', 'XK'], 'disc_number': 1, 'duration_ms': 126315, 'explicit': False, 'external_ids': {'isrc': 'SE7DX2406780'}, 'external_urls': {'spotify': 'https://open.spotify.com/track/7Im1vmqr67pYDEVGg5C8JO'}, 'href': 'https://api.spotify.com/v1/tracks/7Im1vmqr67pYDEVGg5C8JO', 'id': '7Im1vmqr67pYDEVGg5C8JO', 'is_local': False, 'name': 'Romance', 'popularity': 55, 'preview_url': None, 'track_number': 1, 'type': 'track', 'uri': 'spotify:track:7Im1vmqr67pYDEVGg5C8JO'}",
         "2025-10-21T14:26:15.485Z",
         "{'external_urls': {'spotify': 'https://open.spotify.com/playlist/37i9dQZF1DWZZbwlv3Vmtr'}, 'href': 'https://api.spotify.com/v1/playlists/37i9dQZF1DWZZbwlv3Vmtr', 'type': 'playlist', 'uri': 'spotify:playlist:37i9dQZF1DWZZbwlv3Vmtr'}",
         "2025-10-21 14:26:15.485000+00:00",
         "2025-10-21 00:00:00",
         "21"
        ],
        [
         "32",
         "{'album': {'album_type': 'single', 'artists': [{'external_urls': {'spotify': 'https://open.spotify.com/artist/1F32IriH9KUZxZzUoxeQub'}, 'href': 'https://api.spotify.com/v1/artists/1F32IriH9KUZxZzUoxeQub', 'id': '1F32IriH9KUZxZzUoxeQub', 'name': 'bomull', 'type': 'artist', 'uri': 'spotify:artist:1F32IriH9KUZxZzUoxeQub'}], 'available_markets': ['AR', 'AU', 'AT', 'BE', 'BO', 'BR', 'BG', 'CA', 'CL', 'CO', 'CR', 'CY', 'CZ', 'DK', 'DO', 'DE', 'EC', 'EE', 'SV', 'FI', 'FR', 'GR', 'GT', 'HN', 'HK', 'HU', 'IS', 'IE', 'IT', 'LV', 'LT', 'LU', 'MY', 'MT', 'MX', 'NL', 'NZ', 'NI', 'NO', 'PA', 'PY', 'PE', 'PH', 'PL', 'PT', 'SG', 'SK', 'ES', 'SE', 'CH', 'TW', 'TR', 'UY', 'US', 'GB', 'AD', 'LI', 'MC', 'ID', 'JP', 'TH', 'VN', 'RO', 'IL', 'ZA', 'SA', 'AE', 'BH', 'QA', 'OM', 'KW', 'EG', 'MA', 'DZ', 'TN', 'LB', 'JO', 'PS', 'IN', 'BY', 'KZ', 'MD', 'UA', 'AL', 'BA', 'HR', 'ME', 'MK', 'RS', 'SI', 'KR', 'BD', 'PK', 'LK', 'GH', 'KE', 'NG', 'TZ', 'UG', 'AG', 'AM', 'BS', 'BB', 'BZ', 'BT', 'BW', 'BF', 'CV', 'CW', 'DM', 'FJ', 'GM', 'GE', 'GD', 'GW', 'GY', 'HT', 'JM', 'KI', 'LS', 'LR', 'MW', 'MV', 'ML', 'MH', 'FM', 'NA', 'NR', 'NE', 'PW', 'PG', 'PR', 'WS', 'SM', 'ST', 'SN', 'SC', 'SL', 'SB', 'KN', 'LC', 'VC', 'SR', 'TL', 'TO', 'TT', 'TV', 'VU', 'AZ', 'BN', 'BI', 'KH', 'CM', 'TD', 'KM', 'GQ', 'SZ', 'GA', 'GN', 'KG', 'LA', 'MO', 'MR', 'MN', 'NP', 'RW', 'TG', 'UZ', 'ZW', 'BJ', 'MG', 'MU', 'MZ', 'AO', 'CI', 'DJ', 'ZM', 'CD', 'CG', 'IQ', 'LY', 'TJ', 'VE', 'ET', 'XK'], 'external_urls': {'spotify': 'https://open.spotify.com/album/5sANFRqIeEJUz1aVPmgEjA'}, 'href': 'https://api.spotify.com/v1/albums/5sANFRqIeEJUz1aVPmgEjA', 'id': '5sANFRqIeEJUz1aVPmgEjA', 'images': [{'height': 640, 'url': 'https://i.scdn.co/image/ab67616d0000b273d6ecae20c86b03579887fa2f', 'width': 640}, {'height': 300, 'url': 'https://i.scdn.co/image/ab67616d00001e02d6ecae20c86b03579887fa2f', 'width': 300}, {'height': 64, 'url': 'https://i.scdn.co/image/ab67616d00004851d6ecae20c86b03579887fa2f', 'width': 64}], 'name': 'hjortron', 'release_date': '2024-06-11', 'release_date_precision': 'day', 'total_tracks': 1, 'type': 'album', 'uri': 'spotify:album:5sANFRqIeEJUz1aVPmgEjA'}, 'artists': [{'external_urls': {'spotify': 'https://open.spotify.com/artist/1F32IriH9KUZxZzUoxeQub'}, 'href': 'https://api.spotify.com/v1/artists/1F32IriH9KUZxZzUoxeQub', 'id': '1F32IriH9KUZxZzUoxeQub', 'name': 'bomull', 'type': 'artist', 'uri': 'spotify:artist:1F32IriH9KUZxZzUoxeQub'}], 'available_markets': ['AR', 'AU', 'AT', 'BE', 'BO', 'BR', 'BG', 'CA', 'CL', 'CO', 'CR', 'CY', 'CZ', 'DK', 'DO', 'DE', 'EC', 'EE', 'SV', 'FI', 'FR', 'GR', 'GT', 'HN', 'HK', 'HU', 'IS', 'IE', 'IT', 'LV', 'LT', 'LU', 'MY', 'MT', 'MX', 'NL', 'NZ', 'NI', 'NO', 'PA', 'PY', 'PE', 'PH', 'PL', 'PT', 'SG', 'SK', 'ES', 'SE', 'CH', 'TW', 'TR', 'UY', 'US', 'GB', 'AD', 'LI', 'MC', 'ID', 'JP', 'TH', 'VN', 'RO', 'IL', 'ZA', 'SA', 'AE', 'BH', 'QA', 'OM', 'KW', 'EG', 'MA', 'DZ', 'TN', 'LB', 'JO', 'PS', 'IN', 'BY', 'KZ', 'MD', 'UA', 'AL', 'BA', 'HR', 'ME', 'MK', 'RS', 'SI', 'KR', 'BD', 'PK', 'LK', 'GH', 'KE', 'NG', 'TZ', 'UG', 'AG', 'AM', 'BS', 'BB', 'BZ', 'BT', 'BW', 'BF', 'CV', 'CW', 'DM', 'FJ', 'GM', 'GE', 'GD', 'GW', 'GY', 'HT', 'JM', 'KI', 'LS', 'LR', 'MW', 'MV', 'ML', 'MH', 'FM', 'NA', 'NR', 'NE', 'PW', 'PG', 'PR', 'WS', 'SM', 'ST', 'SN', 'SC', 'SL', 'SB', 'KN', 'LC', 'VC', 'SR', 'TL', 'TO', 'TT', 'TV', 'VU', 'AZ', 'BN', 'BI', 'KH', 'CM', 'TD', 'KM', 'GQ', 'SZ', 'GA', 'GN', 'KG', 'LA', 'MO', 'MR', 'MN', 'NP', 'RW', 'TG', 'UZ', 'ZW', 'BJ', 'MG', 'MU', 'MZ', 'AO', 'CI', 'DJ', 'ZM', 'CD', 'CG', 'IQ', 'LY', 'TJ', 'VE', 'ET', 'XK'], 'disc_number': 1, 'duration_ms': 129996, 'explicit': False, 'external_ids': {'isrc': 'SE5Q52400491'}, 'external_urls': {'spotify': 'https://open.spotify.com/track/1eGHzlNpyXAsi4qKfm5z27'}, 'href': 'https://api.spotify.com/v1/tracks/1eGHzlNpyXAsi4qKfm5z27', 'id': '1eGHzlNpyXAsi4qKfm5z27', 'is_local': False, 'name': 'hjortron', 'popularity': 56, 'preview_url': None, 'track_number': 1, 'type': 'track', 'uri': 'spotify:track:1eGHzlNpyXAsi4qKfm5z27'}",
         "2025-10-21T14:24:20.578Z",
         "{'external_urls': {'spotify': 'https://open.spotify.com/playlist/37i9dQZF1DWZZbwlv3Vmtr'}, 'href': 'https://api.spotify.com/v1/playlists/37i9dQZF1DWZZbwlv3Vmtr', 'type': 'playlist', 'uri': 'spotify:playlist:37i9dQZF1DWZZbwlv3Vmtr'}",
         "2025-10-21 14:24:20.578000+00:00",
         "2025-10-21 00:00:00",
         "22"
        ],
        [
         "33",
         "{'album': {'album_type': 'single', 'artists': [{'external_urls': {'spotify': 'https://open.spotify.com/artist/3D54UHQi6RvooCNsIP0E27'}, 'href': 'https://api.spotify.com/v1/artists/3D54UHQi6RvooCNsIP0E27', 'id': '3D54UHQi6RvooCNsIP0E27', 'name': 'Savage Bops', 'type': 'artist', 'uri': 'spotify:artist:3D54UHQi6RvooCNsIP0E27'}], 'available_markets': ['AR', 'AU', 'AT', 'BE', 'BO', 'BR', 'BG', 'CA', 'CL', 'CO', 'CR', 'CY', 'CZ', 'DK', 'DO', 'DE', 'EC', 'EE', 'SV', 'FI', 'FR', 'GR', 'GT', 'HN', 'HK', 'HU', 'IS', 'IE', 'IT', 'LV', 'LT', 'LU', 'MY', 'MT', 'MX', 'NL', 'NZ', 'NI', 'NO', 'PA', 'PY', 'PE', 'PH', 'PL', 'PT', 'SG', 'SK', 'ES', 'SE', 'CH', 'TW', 'TR', 'UY', 'US', 'GB', 'AD', 'LI', 'MC', 'ID', 'JP', 'TH', 'VN', 'RO', 'IL', 'ZA', 'SA', 'AE', 'BH', 'QA', 'OM', 'KW', 'EG', 'MA', 'DZ', 'TN', 'LB', 'JO', 'PS', 'IN', 'BY', 'KZ', 'MD', 'UA', 'AL', 'BA', 'HR', 'ME', 'MK', 'RS', 'SI', 'KR', 'BD', 'PK', 'LK', 'GH', 'KE', 'NG', 'TZ', 'UG', 'AG', 'AM', 'BS', 'BB', 'BZ', 'BT', 'BW', 'BF', 'CV', 'CW', 'DM', 'FJ', 'GM', 'GE', 'GD', 'GW', 'GY', 'HT', 'JM', 'KI', 'LS', 'LR', 'MW', 'MV', 'ML', 'MH', 'FM', 'NA', 'NR', 'NE', 'PW', 'PG', 'PR', 'WS', 'SM', 'ST', 'SN', 'SC', 'SL', 'SB', 'KN', 'LC', 'VC', 'SR', 'TL', 'TO', 'TT', 'TV', 'VU', 'AZ', 'BN', 'BI', 'KH', 'CM', 'TD', 'KM', 'GQ', 'SZ', 'GA', 'GN', 'KG', 'LA', 'MO', 'MR', 'MN', 'NP', 'RW', 'TG', 'UZ', 'ZW', 'BJ', 'MG', 'MU', 'MZ', 'AO', 'CI', 'DJ', 'ZM', 'CD', 'CG', 'IQ', 'LY', 'TJ', 'VE', 'ET', 'XK'], 'external_urls': {'spotify': 'https://open.spotify.com/album/6yXmk43V6ptrbJm6pe9i28'}, 'href': 'https://api.spotify.com/v1/albums/6yXmk43V6ptrbJm6pe9i28', 'id': '6yXmk43V6ptrbJm6pe9i28', 'images': [{'height': 640, 'url': 'https://i.scdn.co/image/ab67616d0000b273133552254815bd26998e9a20', 'width': 640}, {'height': 300, 'url': 'https://i.scdn.co/image/ab67616d00001e02133552254815bd26998e9a20', 'width': 300}, {'height': 64, 'url': 'https://i.scdn.co/image/ab67616d00004851133552254815bd26998e9a20', 'width': 64}], 'name': 'Flower II', 'release_date': '2025-09-26', 'release_date_precision': 'day', 'total_tracks': 1, 'type': 'album', 'uri': 'spotify:album:6yXmk43V6ptrbJm6pe9i28'}, 'artists': [{'external_urls': {'spotify': 'https://open.spotify.com/artist/3D54UHQi6RvooCNsIP0E27'}, 'href': 'https://api.spotify.com/v1/artists/3D54UHQi6RvooCNsIP0E27', 'id': '3D54UHQi6RvooCNsIP0E27', 'name': 'Savage Bops', 'type': 'artist', 'uri': 'spotify:artist:3D54UHQi6RvooCNsIP0E27'}], 'available_markets': ['AR', 'AU', 'AT', 'BE', 'BO', 'BR', 'BG', 'CA', 'CL', 'CO', 'CR', 'CY', 'CZ', 'DK', 'DO', 'DE', 'EC', 'EE', 'SV', 'FI', 'FR', 'GR', 'GT', 'HN', 'HK', 'HU', 'IS', 'IE', 'IT', 'LV', 'LT', 'LU', 'MY', 'MT', 'MX', 'NL', 'NZ', 'NI', 'NO', 'PA', 'PY', 'PE', 'PH', 'PL', 'PT', 'SG', 'SK', 'ES', 'SE', 'CH', 'TW', 'TR', 'UY', 'US', 'GB', 'AD', 'LI', 'MC', 'ID', 'JP', 'TH', 'VN', 'RO', 'IL', 'ZA', 'SA', 'AE', 'BH', 'QA', 'OM', 'KW', 'EG', 'MA', 'DZ', 'TN', 'LB', 'JO', 'PS', 'IN', 'BY', 'KZ', 'MD', 'UA', 'AL', 'BA', 'HR', 'ME', 'MK', 'RS', 'SI', 'KR', 'BD', 'PK', 'LK', 'GH', 'KE', 'NG', 'TZ', 'UG', 'AG', 'AM', 'BS', 'BB', 'BZ', 'BT', 'BW', 'BF', 'CV', 'CW', 'DM', 'FJ', 'GM', 'GE', 'GD', 'GW', 'GY', 'HT', 'JM', 'KI', 'LS', 'LR', 'MW', 'MV', 'ML', 'MH', 'FM', 'NA', 'NR', 'NE', 'PW', 'PG', 'PR', 'WS', 'SM', 'ST', 'SN', 'SC', 'SL', 'SB', 'KN', 'LC', 'VC', 'SR', 'TL', 'TO', 'TT', 'TV', 'VU', 'AZ', 'BN', 'BI', 'KH', 'CM', 'TD', 'KM', 'GQ', 'SZ', 'GA', 'GN', 'KG', 'LA', 'MO', 'MR', 'MN', 'NP', 'RW', 'TG', 'UZ', 'ZW', 'BJ', 'MG', 'MU', 'MZ', 'AO', 'CI', 'DJ', 'ZM', 'CD', 'CG', 'IQ', 'LY', 'TJ', 'VE', 'ET', 'XK'], 'disc_number': 1, 'duration_ms': 156800, 'explicit': False, 'external_ids': {'isrc': 'SE6RU2510372'}, 'external_urls': {'spotify': 'https://open.spotify.com/track/0u84DGUUXKmPxtFss2ODlv'}, 'href': 'https://api.spotify.com/v1/tracks/0u84DGUUXKmPxtFss2ODlv', 'id': '0u84DGUUXKmPxtFss2ODlv', 'is_local': False, 'name': 'Flower II', 'popularity': 57, 'preview_url': None, 'track_number': 1, 'type': 'track', 'uri': 'spotify:track:0u84DGUUXKmPxtFss2ODlv'}",
         "2025-10-21T14:22:17.019Z",
         "{'external_urls': {'spotify': 'https://open.spotify.com/playlist/37i9dQZF1DWZZbwlv3Vmtr'}, 'href': 'https://api.spotify.com/v1/playlists/37i9dQZF1DWZZbwlv3Vmtr', 'type': 'playlist', 'uri': 'spotify:playlist:37i9dQZF1DWZZbwlv3Vmtr'}",
         "2025-10-21 14:22:17.019000+00:00",
         "2025-10-21 00:00:00",
         "23"
        ],
        [
         "34",
         "{'album': {'album_type': 'single', 'artists': [{'external_urls': {'spotify': 'https://open.spotify.com/artist/2QO9MfQwz3oGySq5Tiuo4Q'}, 'href': 'https://api.spotify.com/v1/artists/2QO9MfQwz3oGySq5Tiuo4Q', 'id': '2QO9MfQwz3oGySq5Tiuo4Q', 'name': 'Yumeoka', 'type': 'artist', 'uri': 'spotify:artist:2QO9MfQwz3oGySq5Tiuo4Q'}], 'available_markets': ['AR', 'AU', 'AT', 'BE', 'BO', 'BR', 'BG', 'CA', 'CL', 'CO', 'CR', 'CY', 'CZ', 'DK', 'DO', 'DE', 'EC', 'EE', 'SV', 'FI', 'FR', 'GR', 'GT', 'HN', 'HK', 'HU', 'IS', 'IE', 'IT', 'LV', 'LT', 'LU', 'MY', 'MT', 'MX', 'NL', 'NZ', 'NI', 'NO', 'PA', 'PY', 'PE', 'PH', 'PL', 'PT', 'SG', 'SK', 'ES', 'SE', 'CH', 'TW', 'TR', 'UY', 'US', 'GB', 'AD', 'LI', 'MC', 'ID', 'JP', 'TH', 'VN', 'RO', 'IL', 'ZA', 'SA', 'AE', 'BH', 'QA', 'OM', 'KW', 'EG', 'MA', 'DZ', 'TN', 'LB', 'JO', 'PS', 'IN', 'BY', 'KZ', 'MD', 'UA', 'AL', 'BA', 'HR', 'ME', 'MK', 'RS', 'SI', 'KR', 'BD', 'PK', 'LK', 'GH', 'KE', 'NG', 'TZ', 'UG', 'AG', 'AM', 'BS', 'BB', 'BZ', 'BT', 'BW', 'BF', 'CV', 'CW', 'DM', 'FJ', 'GM', 'GE', 'GD', 'GW', 'GY', 'HT', 'JM', 'KI', 'LS', 'LR', 'MW', 'MV', 'ML', 'MH', 'FM', 'NA', 'NR', 'NE', 'PW', 'PG', 'PR', 'WS', 'SM', 'ST', 'SN', 'SC', 'SL', 'SB', 'KN', 'LC', 'VC', 'SR', 'TL', 'TO', 'TT', 'TV', 'VU', 'AZ', 'BN', 'BI', 'KH', 'CM', 'TD', 'KM', 'GQ', 'SZ', 'GA', 'GN', 'KG', 'LA', 'MO', 'MR', 'MN', 'NP', 'RW', 'TG', 'UZ', 'ZW', 'BJ', 'MG', 'MU', 'MZ', 'AO', 'CI', 'DJ', 'ZM', 'CD', 'CG', 'IQ', 'LY', 'TJ', 'VE', 'ET', 'XK'], 'external_urls': {'spotify': 'https://open.spotify.com/album/5NM6AhLgmqKoH2RmbVBzmA'}, 'href': 'https://api.spotify.com/v1/albums/5NM6AhLgmqKoH2RmbVBzmA', 'id': '5NM6AhLgmqKoH2RmbVBzmA', 'images': [{'height': 640, 'url': 'https://i.scdn.co/image/ab67616d0000b273fcade59a51eb431ae6d16f7f', 'width': 640}, {'height': 300, 'url': 'https://i.scdn.co/image/ab67616d00001e02fcade59a51eb431ae6d16f7f', 'width': 300}, {'height': 64, 'url': 'https://i.scdn.co/image/ab67616d00004851fcade59a51eb431ae6d16f7f', 'width': 64}], 'name': 'losing time', 'release_date': '2025-09-12', 'release_date_precision': 'day', 'total_tracks': 1, 'type': 'album', 'uri': 'spotify:album:5NM6AhLgmqKoH2RmbVBzmA'}, 'artists': [{'external_urls': {'spotify': 'https://open.spotify.com/artist/2QO9MfQwz3oGySq5Tiuo4Q'}, 'href': 'https://api.spotify.com/v1/artists/2QO9MfQwz3oGySq5Tiuo4Q', 'id': '2QO9MfQwz3oGySq5Tiuo4Q', 'name': 'Yumeoka', 'type': 'artist', 'uri': 'spotify:artist:2QO9MfQwz3oGySq5Tiuo4Q'}], 'available_markets': ['AR', 'AU', 'AT', 'BE', 'BO', 'BR', 'BG', 'CA', 'CL', 'CO', 'CR', 'CY', 'CZ', 'DK', 'DO', 'DE', 'EC', 'EE', 'SV', 'FI', 'FR', 'GR', 'GT', 'HN', 'HK', 'HU', 'IS', 'IE', 'IT', 'LV', 'LT', 'LU', 'MY', 'MT', 'MX', 'NL', 'NZ', 'NI', 'NO', 'PA', 'PY', 'PE', 'PH', 'PL', 'PT', 'SG', 'SK', 'ES', 'SE', 'CH', 'TW', 'TR', 'UY', 'US', 'GB', 'AD', 'LI', 'MC', 'ID', 'JP', 'TH', 'VN', 'RO', 'IL', 'ZA', 'SA', 'AE', 'BH', 'QA', 'OM', 'KW', 'EG', 'MA', 'DZ', 'TN', 'LB', 'JO', 'PS', 'IN', 'BY', 'KZ', 'MD', 'UA', 'AL', 'BA', 'HR', 'ME', 'MK', 'RS', 'SI', 'KR', 'BD', 'PK', 'LK', 'GH', 'KE', 'NG', 'TZ', 'UG', 'AG', 'AM', 'BS', 'BB', 'BZ', 'BT', 'BW', 'BF', 'CV', 'CW', 'DM', 'FJ', 'GM', 'GE', 'GD', 'GW', 'GY', 'HT', 'JM', 'KI', 'LS', 'LR', 'MW', 'MV', 'ML', 'MH', 'FM', 'NA', 'NR', 'NE', 'PW', 'PG', 'PR', 'WS', 'SM', 'ST', 'SN', 'SC', 'SL', 'SB', 'KN', 'LC', 'VC', 'SR', 'TL', 'TO', 'TT', 'TV', 'VU', 'AZ', 'BN', 'BI', 'KH', 'CM', 'TD', 'KM', 'GQ', 'SZ', 'GA', 'GN', 'KG', 'LA', 'MO', 'MR', 'MN', 'NP', 'RW', 'TG', 'UZ', 'ZW', 'BJ', 'MG', 'MU', 'MZ', 'AO', 'CI', 'DJ', 'ZM', 'CD', 'CG', 'IQ', 'LY', 'TJ', 'VE', 'ET', 'XK'], 'disc_number': 1, 'duration_ms': 165374, 'explicit': False, 'external_ids': {'isrc': 'SEXGF2599299'}, 'external_urls': {'spotify': 'https://open.spotify.com/track/7y5CnlDjKTRq9D4L97Ag6I'}, 'href': 'https://api.spotify.com/v1/tracks/7y5CnlDjKTRq9D4L97Ag6I', 'id': '7y5CnlDjKTRq9D4L97Ag6I', 'is_local': False, 'name': 'losing time', 'popularity': 62, 'preview_url': None, 'track_number': 1, 'type': 'track', 'uri': 'spotify:track:7y5CnlDjKTRq9D4L97Ag6I'}",
         "2025-10-21T14:20:08.169Z",
         "{'external_urls': {'spotify': 'https://open.spotify.com/playlist/37i9dQZF1DWZZbwlv3Vmtr'}, 'href': 'https://api.spotify.com/v1/playlists/37i9dQZF1DWZZbwlv3Vmtr', 'type': 'playlist', 'uri': 'spotify:playlist:37i9dQZF1DWZZbwlv3Vmtr'}",
         "2025-10-21 14:20:08.169000+00:00",
         "2025-10-21 00:00:00",
         "24"
        ],
        [
         "35",
         "{'album': {'album_type': 'single', 'artists': [{'external_urls': {'spotify': 'https://open.spotify.com/artist/6vzGGgNN6e9AZN12dm6Pso'}, 'href': 'https://api.spotify.com/v1/artists/6vzGGgNN6e9AZN12dm6Pso', 'id': '6vzGGgNN6e9AZN12dm6Pso', 'name': 'Echo Iluné', 'type': 'artist', 'uri': 'spotify:artist:6vzGGgNN6e9AZN12dm6Pso'}], 'available_markets': ['AR', 'AU', 'AT', 'BE', 'BO', 'BR', 'BG', 'CA', 'CL', 'CO', 'CR', 'CY', 'CZ', 'DK', 'DO', 'DE', 'EC', 'EE', 'SV', 'FI', 'FR', 'GR', 'GT', 'HN', 'HK', 'HU', 'IS', 'IE', 'IT', 'LV', 'LT', 'LU', 'MY', 'MT', 'MX', 'NL', 'NZ', 'NI', 'NO', 'PA', 'PY', 'PE', 'PH', 'PL', 'PT', 'SG', 'SK', 'ES', 'SE', 'CH', 'TW', 'TR', 'UY', 'US', 'GB', 'AD', 'LI', 'MC', 'ID', 'JP', 'TH', 'VN', 'RO', 'IL', 'ZA', 'SA', 'AE', 'BH', 'QA', 'OM', 'KW', 'EG', 'MA', 'DZ', 'TN', 'LB', 'JO', 'PS', 'IN', 'BY', 'KZ', 'MD', 'UA', 'AL', 'BA', 'HR', 'ME', 'MK', 'RS', 'SI', 'KR', 'BD', 'PK', 'LK', 'GH', 'KE', 'NG', 'TZ', 'UG', 'AG', 'AM', 'BS', 'BB', 'BZ', 'BT', 'BW', 'BF', 'CV', 'CW', 'DM', 'FJ', 'GM', 'GE', 'GD', 'GW', 'GY', 'HT', 'JM', 'KI', 'LS', 'LR', 'MW', 'MV', 'ML', 'MH', 'FM', 'NA', 'NR', 'NE', 'PW', 'PG', 'PR', 'WS', 'SM', 'ST', 'SN', 'SC', 'SL', 'SB', 'KN', 'LC', 'VC', 'SR', 'TL', 'TO', 'TT', 'TV', 'VU', 'AZ', 'BN', 'BI', 'KH', 'CM', 'TD', 'KM', 'GQ', 'SZ', 'GA', 'GN', 'KG', 'LA', 'MO', 'MR', 'MN', 'NP', 'RW', 'TG', 'UZ', 'ZW', 'BJ', 'MG', 'MU', 'MZ', 'AO', 'CI', 'DJ', 'ZM', 'CD', 'CG', 'IQ', 'LY', 'TJ', 'VE', 'ET', 'XK'], 'external_urls': {'spotify': 'https://open.spotify.com/album/1UuhS70MAUapi2wWSL210A'}, 'href': 'https://api.spotify.com/v1/albums/1UuhS70MAUapi2wWSL210A', 'id': '1UuhS70MAUapi2wWSL210A', 'images': [{'height': 640, 'url': 'https://i.scdn.co/image/ab67616d0000b27313a2cb68e16f9e8157247d95', 'width': 640}, {'height': 300, 'url': 'https://i.scdn.co/image/ab67616d00001e0213a2cb68e16f9e8157247d95', 'width': 300}, {'height': 64, 'url': 'https://i.scdn.co/image/ab67616d0000485113a2cb68e16f9e8157247d95', 'width': 64}], 'name': 'radio silence', 'release_date': '2025-08-24', 'release_date_precision': 'day', 'total_tracks': 1, 'type': 'album', 'uri': 'spotify:album:1UuhS70MAUapi2wWSL210A'}, 'artists': [{'external_urls': {'spotify': 'https://open.spotify.com/artist/6vzGGgNN6e9AZN12dm6Pso'}, 'href': 'https://api.spotify.com/v1/artists/6vzGGgNN6e9AZN12dm6Pso', 'id': '6vzGGgNN6e9AZN12dm6Pso', 'name': 'Echo Iluné', 'type': 'artist', 'uri': 'spotify:artist:6vzGGgNN6e9AZN12dm6Pso'}], 'available_markets': ['AR', 'AU', 'AT', 'BE', 'BO', 'BR', 'BG', 'CA', 'CL', 'CO', 'CR', 'CY', 'CZ', 'DK', 'DO', 'DE', 'EC', 'EE', 'SV', 'FI', 'FR', 'GR', 'GT', 'HN', 'HK', 'HU', 'IS', 'IE', 'IT', 'LV', 'LT', 'LU', 'MY', 'MT', 'MX', 'NL', 'NZ', 'NI', 'NO', 'PA', 'PY', 'PE', 'PH', 'PL', 'PT', 'SG', 'SK', 'ES', 'SE', 'CH', 'TW', 'TR', 'UY', 'US', 'GB', 'AD', 'LI', 'MC', 'ID', 'JP', 'TH', 'VN', 'RO', 'IL', 'ZA', 'SA', 'AE', 'BH', 'QA', 'OM', 'KW', 'EG', 'MA', 'DZ', 'TN', 'LB', 'JO', 'PS', 'IN', 'BY', 'KZ', 'MD', 'UA', 'AL', 'BA', 'HR', 'ME', 'MK', 'RS', 'SI', 'KR', 'BD', 'PK', 'LK', 'GH', 'KE', 'NG', 'TZ', 'UG', 'AG', 'AM', 'BS', 'BB', 'BZ', 'BT', 'BW', 'BF', 'CV', 'CW', 'DM', 'FJ', 'GM', 'GE', 'GD', 'GW', 'GY', 'HT', 'JM', 'KI', 'LS', 'LR', 'MW', 'MV', 'ML', 'MH', 'FM', 'NA', 'NR', 'NE', 'PW', 'PG', 'PR', 'WS', 'SM', 'ST', 'SN', 'SC', 'SL', 'SB', 'KN', 'LC', 'VC', 'SR', 'TL', 'TO', 'TT', 'TV', 'VU', 'AZ', 'BN', 'BI', 'KH', 'CM', 'TD', 'KM', 'GQ', 'SZ', 'GA', 'GN', 'KG', 'LA', 'MO', 'MR', 'MN', 'NP', 'RW', 'TG', 'UZ', 'ZW', 'BJ', 'MG', 'MU', 'MZ', 'AO', 'CI', 'DJ', 'ZM', 'CD', 'CG', 'IQ', 'LY', 'TJ', 'VE', 'ET', 'XK'], 'disc_number': 1, 'duration_ms': 120140, 'explicit': False, 'external_ids': {'isrc': 'QZAKB2522380'}, 'external_urls': {'spotify': 'https://open.spotify.com/track/7AaeMDvo9krputEDra8Z17'}, 'href': 'https://api.spotify.com/v1/tracks/7AaeMDvo9krputEDra8Z17', 'id': '7AaeMDvo9krputEDra8Z17', 'is_local': False, 'name': 'radio silence', 'popularity': 62, 'preview_url': None, 'track_number': 1, 'type': 'track', 'uri': 'spotify:track:7AaeMDvo9krputEDra8Z17'}",
         "2025-10-21T14:17:53.170Z",
         "{'external_urls': {'spotify': 'https://open.spotify.com/playlist/37i9dQZF1DWZZbwlv3Vmtr'}, 'href': 'https://api.spotify.com/v1/playlists/37i9dQZF1DWZZbwlv3Vmtr', 'type': 'playlist', 'uri': 'spotify:playlist:37i9dQZF1DWZZbwlv3Vmtr'}",
         "2025-10-21 14:17:53.170000+00:00",
         "2025-10-21 00:00:00",
         "25"
        ],
        [
         "36",
         "{'album': {'album_type': 'single', 'artists': [{'external_urls': {'spotify': 'https://open.spotify.com/artist/1GPDa2aInN4QlYRrD6qnLH'}, 'href': 'https://api.spotify.com/v1/artists/1GPDa2aInN4QlYRrD6qnLH', 'id': '1GPDa2aInN4QlYRrD6qnLH', 'name': 'Slowmo Friends', 'type': 'artist', 'uri': 'spotify:artist:1GPDa2aInN4QlYRrD6qnLH'}], 'available_markets': ['AR', 'AU', 'AT', 'BE', 'BO', 'BR', 'BG', 'CA', 'CL', 'CO', 'CR', 'CY', 'CZ', 'DK', 'DO', 'DE', 'EC', 'EE', 'SV', 'FI', 'FR', 'GR', 'GT', 'HN', 'HK', 'HU', 'IS', 'IE', 'IT', 'LV', 'LT', 'LU', 'MY', 'MT', 'MX', 'NL', 'NZ', 'NI', 'NO', 'PA', 'PY', 'PE', 'PH', 'PL', 'PT', 'SG', 'SK', 'ES', 'SE', 'CH', 'TW', 'TR', 'UY', 'US', 'GB', 'AD', 'LI', 'MC', 'ID', 'JP', 'TH', 'VN', 'RO', 'IL', 'ZA', 'SA', 'AE', 'BH', 'QA', 'OM', 'KW', 'EG', 'MA', 'DZ', 'TN', 'LB', 'JO', 'PS', 'IN', 'BY', 'KZ', 'MD', 'UA', 'AL', 'BA', 'HR', 'ME', 'MK', 'RS', 'SI', 'KR', 'BD', 'PK', 'LK', 'GH', 'KE', 'NG', 'TZ', 'UG', 'AG', 'AM', 'BS', 'BB', 'BZ', 'BT', 'BW', 'BF', 'CV', 'CW', 'DM', 'FJ', 'GM', 'GE', 'GD', 'GW', 'GY', 'HT', 'JM', 'KI', 'LS', 'LR', 'MW', 'MV', 'ML', 'MH', 'FM', 'NA', 'NR', 'NE', 'PW', 'PG', 'PR', 'WS', 'SM', 'ST', 'SN', 'SC', 'SL', 'SB', 'KN', 'LC', 'VC', 'SR', 'TL', 'TO', 'TT', 'TV', 'VU', 'AZ', 'BN', 'BI', 'KH', 'CM', 'TD', 'KM', 'GQ', 'SZ', 'GA', 'GN', 'KG', 'LA', 'MO', 'MR', 'MN', 'NP', 'RW', 'TG', 'UZ', 'ZW', 'BJ', 'MG', 'MU', 'MZ', 'AO', 'CI', 'DJ', 'ZM', 'CD', 'CG', 'IQ', 'LY', 'TJ', 'VE', 'ET', 'XK'], 'external_urls': {'spotify': 'https://open.spotify.com/album/0oTpLBc7LZFiASLq70BFGi'}, 'href': 'https://api.spotify.com/v1/albums/0oTpLBc7LZFiASLq70BFGi', 'id': '0oTpLBc7LZFiASLq70BFGi', 'images': [{'height': 640, 'url': 'https://i.scdn.co/image/ab67616d0000b273863c382545cf6e9865149c02', 'width': 640}, {'height': 300, 'url': 'https://i.scdn.co/image/ab67616d00001e02863c382545cf6e9865149c02', 'width': 300}, {'height': 64, 'url': 'https://i.scdn.co/image/ab67616d00004851863c382545cf6e9865149c02', 'width': 64}], 'name': 'Backdoor', 'release_date': '2025-05-23', 'release_date_precision': 'day', 'total_tracks': 1, 'type': 'album', 'uri': 'spotify:album:0oTpLBc7LZFiASLq70BFGi'}, 'artists': [{'external_urls': {'spotify': 'https://open.spotify.com/artist/1GPDa2aInN4QlYRrD6qnLH'}, 'href': 'https://api.spotify.com/v1/artists/1GPDa2aInN4QlYRrD6qnLH', 'id': '1GPDa2aInN4QlYRrD6qnLH', 'name': 'Slowmo Friends', 'type': 'artist', 'uri': 'spotify:artist:1GPDa2aInN4QlYRrD6qnLH'}], 'available_markets': ['AR', 'AU', 'AT', 'BE', 'BO', 'BR', 'BG', 'CA', 'CL', 'CO', 'CR', 'CY', 'CZ', 'DK', 'DO', 'DE', 'EC', 'EE', 'SV', 'FI', 'FR', 'GR', 'GT', 'HN', 'HK', 'HU', 'IS', 'IE', 'IT', 'LV', 'LT', 'LU', 'MY', 'MT', 'MX', 'NL', 'NZ', 'NI', 'NO', 'PA', 'PY', 'PE', 'PH', 'PL', 'PT', 'SG', 'SK', 'ES', 'SE', 'CH', 'TW', 'TR', 'UY', 'US', 'GB', 'AD', 'LI', 'MC', 'ID', 'JP', 'TH', 'VN', 'RO', 'IL', 'ZA', 'SA', 'AE', 'BH', 'QA', 'OM', 'KW', 'EG', 'MA', 'DZ', 'TN', 'LB', 'JO', 'PS', 'IN', 'BY', 'KZ', 'MD', 'UA', 'AL', 'BA', 'HR', 'ME', 'MK', 'RS', 'SI', 'KR', 'BD', 'PK', 'LK', 'GH', 'KE', 'NG', 'TZ', 'UG', 'AG', 'AM', 'BS', 'BB', 'BZ', 'BT', 'BW', 'BF', 'CV', 'CW', 'DM', 'FJ', 'GM', 'GE', 'GD', 'GW', 'GY', 'HT', 'JM', 'KI', 'LS', 'LR', 'MW', 'MV', 'ML', 'MH', 'FM', 'NA', 'NR', 'NE', 'PW', 'PG', 'PR', 'WS', 'SM', 'ST', 'SN', 'SC', 'SL', 'SB', 'KN', 'LC', 'VC', 'SR', 'TL', 'TO', 'TT', 'TV', 'VU', 'AZ', 'BN', 'BI', 'KH', 'CM', 'TD', 'KM', 'GQ', 'SZ', 'GA', 'GN', 'KG', 'LA', 'MO', 'MR', 'MN', 'NP', 'RW', 'TG', 'UZ', 'ZW', 'BJ', 'MG', 'MU', 'MZ', 'AO', 'CI', 'DJ', 'ZM', 'CD', 'CG', 'IQ', 'LY', 'TJ', 'VE', 'ET', 'XK'], 'disc_number': 1, 'duration_ms': 133141, 'explicit': False, 'external_ids': {'isrc': 'SE5W32506374'}, 'external_urls': {'spotify': 'https://open.spotify.com/track/76siJBpv5Sb2yF84wqUzuX'}, 'href': 'https://api.spotify.com/v1/tracks/76siJBpv5Sb2yF84wqUzuX', 'id': '76siJBpv5Sb2yF84wqUzuX', 'is_local': False, 'name': 'Backdoor', 'popularity': 60, 'preview_url': None, 'track_number': 1, 'type': 'track', 'uri': 'spotify:track:76siJBpv5Sb2yF84wqUzuX'}",
         "2025-10-21T14:16:06.047Z",
         "{'external_urls': {'spotify': 'https://open.spotify.com/playlist/37i9dQZF1DWZZbwlv3Vmtr'}, 'href': 'https://api.spotify.com/v1/playlists/37i9dQZF1DWZZbwlv3Vmtr', 'type': 'playlist', 'uri': 'spotify:playlist:37i9dQZF1DWZZbwlv3Vmtr'}",
         "2025-10-21 14:16:06.047000+00:00",
         "2025-10-21 00:00:00",
         "26"
        ],
        [
         "37",
         "{'album': {'album_type': 'album', 'artists': [{'external_urls': {'spotify': 'https://open.spotify.com/artist/2HPqVfdPh9JkBSlFG5hK6h'}, 'href': 'https://api.spotify.com/v1/artists/2HPqVfdPh9JkBSlFG5hK6h', 'id': '2HPqVfdPh9JkBSlFG5hK6h', 'name': 'anees', 'type': 'artist', 'uri': 'spotify:artist:2HPqVfdPh9JkBSlFG5hK6h'}], 'available_markets': ['AR', 'AU', 'AT', 'BE', 'BO', 'BR', 'BG', 'CA', 'CL', 'CO', 'CR', 'CY', 'CZ', 'DK', 'DO', 'DE', 'EC', 'EE', 'SV', 'FI', 'FR', 'GR', 'GT', 'HN', 'HK', 'HU', 'IS', 'IE', 'IT', 'LV', 'LT', 'LU', 'MY', 'MT', 'MX', 'NL', 'NZ', 'NI', 'NO', 'PA', 'PY', 'PE', 'PH', 'PL', 'PT', 'SG', 'SK', 'ES', 'SE', 'CH', 'TW', 'TR', 'UY', 'US', 'GB', 'AD', 'LI', 'MC', 'ID', 'JP', 'TH', 'VN', 'RO', 'IL', 'ZA', 'SA', 'AE', 'BH', 'QA', 'OM', 'KW', 'EG', 'MA', 'DZ', 'TN', 'LB', 'JO', 'PS', 'IN', 'BY', 'KZ', 'MD', 'UA', 'AL', 'BA', 'HR', 'ME', 'MK', 'RS', 'SI', 'KR', 'BD', 'PK', 'LK', 'GH', 'KE', 'NG', 'TZ', 'UG', 'AG', 'AM', 'BS', 'BB', 'BZ', 'BT', 'BW', 'BF', 'CV', 'CW', 'DM', 'FJ', 'GM', 'GE', 'GD', 'GW', 'GY', 'HT', 'JM', 'KI', 'LS', 'LR', 'MW', 'MV', 'ML', 'MH', 'FM', 'NA', 'NR', 'NE', 'PW', 'PG', 'PR', 'WS', 'SM', 'ST', 'SN', 'SC', 'SL', 'SB', 'KN', 'LC', 'VC', 'SR', 'TL', 'TO', 'TT', 'TV', 'VU', 'AZ', 'BN', 'BI', 'KH', 'CM', 'TD', 'KM', 'GQ', 'SZ', 'GA', 'GN', 'KG', 'LA', 'MO', 'MR', 'MN', 'NP', 'RW', 'TG', 'UZ', 'ZW', 'BJ', 'MG', 'MU', 'MZ', 'AO', 'CI', 'DJ', 'ZM', 'CD', 'CG', 'IQ', 'LY', 'TJ', 'VE', 'ET', 'XK'], 'external_urls': {'spotify': 'https://open.spotify.com/album/69KjgUNpD2ASxN0J0mgbIt'}, 'href': 'https://api.spotify.com/v1/albums/69KjgUNpD2ASxN0J0mgbIt', 'id': '69KjgUNpD2ASxN0J0mgbIt', 'images': [{'height': 640, 'url': 'https://i.scdn.co/image/ab67616d0000b27390add57c94e51e533ea024de', 'width': 640}, {'height': 300, 'url': 'https://i.scdn.co/image/ab67616d00001e0290add57c94e51e533ea024de', 'width': 300}, {'height': 64, 'url': 'https://i.scdn.co/image/ab67616d0000485190add57c94e51e533ea024de', 'width': 64}], 'name': 'HOMEsick', 'release_date': '2025-04-11', 'release_date_precision': 'day', 'total_tracks': 10, 'type': 'album', 'uri': 'spotify:album:69KjgUNpD2ASxN0J0mgbIt'}, 'artists': [{'external_urls': {'spotify': 'https://open.spotify.com/artist/2HPqVfdPh9JkBSlFG5hK6h'}, 'href': 'https://api.spotify.com/v1/artists/2HPqVfdPh9JkBSlFG5hK6h', 'id': '2HPqVfdPh9JkBSlFG5hK6h', 'name': 'anees', 'type': 'artist', 'uri': 'spotify:artist:2HPqVfdPh9JkBSlFG5hK6h'}], 'available_markets': ['AR', 'AU', 'AT', 'BE', 'BO', 'BR', 'BG', 'CA', 'CL', 'CO', 'CR', 'CY', 'CZ', 'DK', 'DO', 'DE', 'EC', 'EE', 'SV', 'FI', 'FR', 'GR', 'GT', 'HN', 'HK', 'HU', 'IS', 'IE', 'IT', 'LV', 'LT', 'LU', 'MY', 'MT', 'MX', 'NL', 'NZ', 'NI', 'NO', 'PA', 'PY', 'PE', 'PH', 'PL', 'PT', 'SG', 'SK', 'ES', 'SE', 'CH', 'TW', 'TR', 'UY', 'US', 'GB', 'AD', 'LI', 'MC', 'ID', 'JP', 'TH', 'VN', 'RO', 'IL', 'ZA', 'SA', 'AE', 'BH', 'QA', 'OM', 'KW', 'EG', 'MA', 'DZ', 'TN', 'LB', 'JO', 'PS', 'IN', 'BY', 'KZ', 'MD', 'UA', 'AL', 'BA', 'HR', 'ME', 'MK', 'RS', 'SI', 'KR', 'BD', 'PK', 'LK', 'GH', 'KE', 'NG', 'TZ', 'UG', 'AG', 'AM', 'BS', 'BB', 'BZ', 'BT', 'BW', 'BF', 'CV', 'CW', 'DM', 'FJ', 'GM', 'GE', 'GD', 'GW', 'GY', 'HT', 'JM', 'KI', 'LS', 'LR', 'MW', 'MV', 'ML', 'MH', 'FM', 'NA', 'NR', 'NE', 'PW', 'PG', 'PR', 'WS', 'SM', 'ST', 'SN', 'SC', 'SL', 'SB', 'KN', 'LC', 'VC', 'SR', 'TL', 'TO', 'TT', 'TV', 'VU', 'AZ', 'BN', 'BI', 'KH', 'CM', 'TD', 'KM', 'GQ', 'SZ', 'GA', 'GN', 'KG', 'LA', 'MO', 'MR', 'MN', 'NP', 'RW', 'TG', 'UZ', 'ZW', 'BJ', 'MG', 'MU', 'MZ', 'AO', 'CI', 'DJ', 'ZM', 'CD', 'CG', 'IQ', 'LY', 'TJ', 'VE', 'ET', 'XK'], 'disc_number': 1, 'duration_ms': 153472, 'explicit': False, 'external_ids': {'isrc': 'CA5KR2519152'}, 'external_urls': {'spotify': 'https://open.spotify.com/track/6vrx9hag3HW1EqMFfvi4Jc'}, 'href': 'https://api.spotify.com/v1/tracks/6vrx9hag3HW1EqMFfvi4Jc', 'id': '6vrx9hag3HW1EqMFfvi4Jc', 'is_local': False, 'name': 'everything to me', 'popularity': 42, 'preview_url': None, 'track_number': 4, 'type': 'track', 'uri': 'spotify:track:6vrx9hag3HW1EqMFfvi4Jc'}",
         "2025-10-21T09:53:27.164Z",
         "{'external_urls': {'spotify': 'https://open.spotify.com/playlist/37i9dQZF1E4pkVWhas9jXJ'}, 'href': 'https://api.spotify.com/v1/playlists/37i9dQZF1E4pkVWhas9jXJ', 'type': 'playlist', 'uri': 'spotify:playlist:37i9dQZF1E4pkVWhas9jXJ'}",
         "2025-10-21 09:53:27.164000+00:00",
         "2025-10-21 00:00:00",
         "27"
        ],
        [
         "38",
         "{'album': {'album_type': 'album', 'artists': [{'external_urls': {'spotify': 'https://open.spotify.com/artist/1evO4fwLsEkkPGq32dCix7'}, 'href': 'https://api.spotify.com/v1/artists/1evO4fwLsEkkPGq32dCix7', 'id': '1evO4fwLsEkkPGq32dCix7', 'name': 'Aaron Taylor', 'type': 'artist', 'uri': 'spotify:artist:1evO4fwLsEkkPGq32dCix7'}], 'available_markets': ['AR', 'AU', 'AT', 'BE', 'BO', 'BR', 'BG', 'CA', 'CL', 'CO', 'CR', 'CY', 'CZ', 'DK', 'DO', 'DE', 'EC', 'EE', 'SV', 'FI', 'FR', 'GR', 'GT', 'HN', 'HK', 'HU', 'IS', 'IE', 'IT', 'LV', 'LT', 'LU', 'MY', 'MT', 'MX', 'NL', 'NZ', 'NI', 'NO', 'PA', 'PY', 'PE', 'PH', 'PL', 'PT', 'SG', 'SK', 'ES', 'SE', 'CH', 'TW', 'TR', 'UY', 'US', 'GB', 'AD', 'LI', 'MC', 'ID', 'JP', 'TH', 'VN', 'RO', 'IL', 'ZA', 'SA', 'AE', 'BH', 'QA', 'OM', 'KW', 'EG', 'MA', 'DZ', 'TN', 'LB', 'JO', 'PS', 'IN', 'BY', 'KZ', 'MD', 'UA', 'AL', 'BA', 'HR', 'ME', 'MK', 'RS', 'SI', 'KR', 'BD', 'PK', 'LK', 'GH', 'KE', 'NG', 'TZ', 'UG', 'AG', 'AM', 'BS', 'BB', 'BZ', 'BT', 'BW', 'BF', 'CV', 'CW', 'DM', 'FJ', 'GM', 'GE', 'GD', 'GW', 'GY', 'HT', 'JM', 'KI', 'LS', 'LR', 'MW', 'MV', 'ML', 'MH', 'FM', 'NA', 'NR', 'NE', 'PW', 'PG', 'PR', 'WS', 'SM', 'ST', 'SN', 'SC', 'SL', 'SB', 'KN', 'LC', 'VC', 'SR', 'TL', 'TO', 'TT', 'TV', 'VU', 'AZ', 'BN', 'BI', 'KH', 'CM', 'TD', 'KM', 'GQ', 'SZ', 'GA', 'GN', 'KG', 'LA', 'MO', 'MR', 'MN', 'NP', 'RW', 'TG', 'UZ', 'ZW', 'BJ', 'MG', 'MU', 'MZ', 'AO', 'CI', 'DJ', 'ZM', 'CD', 'CG', 'IQ', 'LY', 'TJ', 'VE', 'ET', 'XK'], 'external_urls': {'spotify': 'https://open.spotify.com/album/1bBcuPUK7dnJjiS70izzw5'}, 'href': 'https://api.spotify.com/v1/albums/1bBcuPUK7dnJjiS70izzw5', 'id': '1bBcuPUK7dnJjiS70izzw5', 'images': [{'height': 640, 'url': 'https://i.scdn.co/image/ab67616d0000b273e911c37f1787dedadfb262e5', 'width': 640}, {'height': 300, 'url': 'https://i.scdn.co/image/ab67616d00001e02e911c37f1787dedadfb262e5', 'width': 300}, {'height': 64, 'url': 'https://i.scdn.co/image/ab67616d00004851e911c37f1787dedadfb262e5', 'width': 64}], 'name': 'The Long Way Home', 'release_date': '2018-08-24', 'release_date_precision': 'day', 'total_tracks': 8, 'type': 'album', 'uri': 'spotify:album:1bBcuPUK7dnJjiS70izzw5'}, 'artists': [{'external_urls': {'spotify': 'https://open.spotify.com/artist/1evO4fwLsEkkPGq32dCix7'}, 'href': 'https://api.spotify.com/v1/artists/1evO4fwLsEkkPGq32dCix7', 'id': '1evO4fwLsEkkPGq32dCix7', 'name': 'Aaron Taylor', 'type': 'artist', 'uri': 'spotify:artist:1evO4fwLsEkkPGq32dCix7'}], 'available_markets': ['AR', 'AU', 'AT', 'BE', 'BO', 'BR', 'BG', 'CA', 'CL', 'CO', 'CR', 'CY', 'CZ', 'DK', 'DO', 'DE', 'EC', 'EE', 'SV', 'FI', 'FR', 'GR', 'GT', 'HN', 'HK', 'HU', 'IS', 'IE', 'IT', 'LV', 'LT', 'LU', 'MY', 'MT', 'MX', 'NL', 'NZ', 'NI', 'NO', 'PA', 'PY', 'PE', 'PH', 'PL', 'PT', 'SG', 'SK', 'ES', 'SE', 'CH', 'TW', 'TR', 'UY', 'US', 'GB', 'AD', 'LI', 'MC', 'ID', 'JP', 'TH', 'VN', 'RO', 'IL', 'ZA', 'SA', 'AE', 'BH', 'QA', 'OM', 'KW', 'EG', 'MA', 'DZ', 'TN', 'LB', 'JO', 'PS', 'IN', 'BY', 'KZ', 'MD', 'UA', 'AL', 'BA', 'HR', 'ME', 'MK', 'RS', 'SI', 'KR', 'BD', 'PK', 'LK', 'GH', 'KE', 'NG', 'TZ', 'UG', 'AG', 'AM', 'BS', 'BB', 'BZ', 'BT', 'BW', 'BF', 'CV', 'CW', 'DM', 'FJ', 'GM', 'GE', 'GD', 'GW', 'GY', 'HT', 'JM', 'KI', 'LS', 'LR', 'MW', 'MV', 'ML', 'MH', 'FM', 'NA', 'NR', 'NE', 'PW', 'PG', 'PR', 'WS', 'SM', 'ST', 'SN', 'SC', 'SL', 'SB', 'KN', 'LC', 'VC', 'SR', 'TL', 'TO', 'TT', 'TV', 'VU', 'AZ', 'BN', 'BI', 'KH', 'CM', 'TD', 'KM', 'GQ', 'SZ', 'GA', 'GN', 'KG', 'LA', 'MO', 'MR', 'MN', 'NP', 'RW', 'TG', 'UZ', 'ZW', 'BJ', 'MG', 'MU', 'MZ', 'AO', 'CI', 'DJ', 'ZM', 'CD', 'CG', 'IQ', 'LY', 'TJ', 'VE', 'ET', 'XK'], 'disc_number': 1, 'duration_ms': 220000, 'explicit': False, 'external_ids': {'isrc': 'UK53H1803005'}, 'external_urls': {'spotify': 'https://open.spotify.com/track/4SvhIfAl0nqli7X20A7YtA'}, 'href': 'https://api.spotify.com/v1/tracks/4SvhIfAl0nqli7X20A7YtA', 'id': '4SvhIfAl0nqli7X20A7YtA', 'is_local': False, 'name': 'I Think I Love You Again', 'popularity': 52, 'preview_url': None, 'track_number': 5, 'type': 'track', 'uri': 'spotify:track:4SvhIfAl0nqli7X20A7YtA'}",
         "2025-10-21T09:51:01.443Z",
         "{'external_urls': {'spotify': 'https://open.spotify.com/playlist/37i9dQZF1E4pkVWhas9jXJ'}, 'href': 'https://api.spotify.com/v1/playlists/37i9dQZF1E4pkVWhas9jXJ', 'type': 'playlist', 'uri': 'spotify:playlist:37i9dQZF1E4pkVWhas9jXJ'}",
         "2025-10-21 09:51:01.443000+00:00",
         "2025-10-21 00:00:00",
         "28"
        ],
        [
         "39",
         "{'album': {'album_type': 'single', 'artists': [{'external_urls': {'spotify': 'https://open.spotify.com/artist/5rq82Jaz0VhBJDJDfpga7h'}, 'href': 'https://api.spotify.com/v1/artists/5rq82Jaz0VhBJDJDfpga7h', 'id': '5rq82Jaz0VhBJDJDfpga7h', 'name': 'Joseph Elias', 'type': 'artist', 'uri': 'spotify:artist:5rq82Jaz0VhBJDJDfpga7h'}], 'available_markets': ['AR', 'AU', 'AT', 'BE', 'BO', 'BR', 'BG', 'CA', 'CL', 'CO', 'CR', 'CY', 'CZ', 'DK', 'DO', 'DE', 'EC', 'EE', 'SV', 'FI', 'FR', 'GR', 'GT', 'HN', 'HK', 'HU', 'IS', 'IE', 'IT', 'LV', 'LT', 'LU', 'MY', 'MT', 'MX', 'NL', 'NZ', 'NI', 'NO', 'PA', 'PY', 'PE', 'PH', 'PL', 'PT', 'SG', 'SK', 'ES', 'SE', 'CH', 'TW', 'TR', 'UY', 'US', 'GB', 'AD', 'LI', 'MC', 'ID', 'JP', 'TH', 'VN', 'RO', 'IL', 'ZA', 'SA', 'AE', 'BH', 'QA', 'OM', 'KW', 'EG', 'MA', 'DZ', 'TN', 'LB', 'JO', 'PS', 'IN', 'BY', 'KZ', 'MD', 'UA', 'AL', 'BA', 'HR', 'ME', 'MK', 'RS', 'SI', 'KR', 'BD', 'PK', 'LK', 'GH', 'KE', 'NG', 'TZ', 'UG', 'AG', 'AM', 'BS', 'BB', 'BZ', 'BT', 'BW', 'BF', 'CV', 'CW', 'DM', 'FJ', 'GM', 'GE', 'GD', 'GW', 'GY', 'HT', 'JM', 'KI', 'LS', 'LR', 'MW', 'MV', 'ML', 'MH', 'FM', 'NA', 'NR', 'NE', 'PW', 'PG', 'PR', 'WS', 'SM', 'ST', 'SN', 'SC', 'SL', 'SB', 'KN', 'LC', 'VC', 'SR', 'TL', 'TO', 'TT', 'TV', 'VU', 'AZ', 'BN', 'BI', 'KH', 'CM', 'TD', 'KM', 'GQ', 'SZ', 'GA', 'GN', 'KG', 'LA', 'MO', 'MR', 'MN', 'NP', 'RW', 'TG', 'UZ', 'ZW', 'BJ', 'MG', 'MU', 'MZ', 'AO', 'CI', 'DJ', 'ZM', 'CD', 'CG', 'IQ', 'LY', 'TJ', 'VE', 'ET', 'XK'], 'external_urls': {'spotify': 'https://open.spotify.com/album/1rPueRlzYmLbgG9aGNNIps'}, 'href': 'https://api.spotify.com/v1/albums/1rPueRlzYmLbgG9aGNNIps', 'id': '1rPueRlzYmLbgG9aGNNIps', 'images': [{'height': 640, 'url': 'https://i.scdn.co/image/ab67616d0000b273a5882c4c45c893e16ce0b49f', 'width': 640}, {'height': 300, 'url': 'https://i.scdn.co/image/ab67616d00001e02a5882c4c45c893e16ce0b49f', 'width': 300}, {'height': 64, 'url': 'https://i.scdn.co/image/ab67616d00004851a5882c4c45c893e16ce0b49f', 'width': 64}], 'name': 'Strawberry Bubblegum', 'release_date': '2023-09-03', 'release_date_precision': 'day', 'total_tracks': 4, 'type': 'album', 'uri': 'spotify:album:1rPueRlzYmLbgG9aGNNIps'}, 'artists': [{'external_urls': {'spotify': 'https://open.spotify.com/artist/5rq82Jaz0VhBJDJDfpga7h'}, 'href': 'https://api.spotify.com/v1/artists/5rq82Jaz0VhBJDJDfpga7h', 'id': '5rq82Jaz0VhBJDJDfpga7h', 'name': 'Joseph Elias', 'type': 'artist', 'uri': 'spotify:artist:5rq82Jaz0VhBJDJDfpga7h'}], 'available_markets': ['AR', 'AU', 'AT', 'BE', 'BO', 'BR', 'BG', 'CA', 'CL', 'CO', 'CR', 'CY', 'CZ', 'DK', 'DO', 'DE', 'EC', 'EE', 'SV', 'FI', 'FR', 'GR', 'GT', 'HN', 'HK', 'HU', 'IS', 'IE', 'IT', 'LV', 'LT', 'LU', 'MY', 'MT', 'MX', 'NL', 'NZ', 'NI', 'NO', 'PA', 'PY', 'PE', 'PH', 'PL', 'PT', 'SG', 'SK', 'ES', 'SE', 'CH', 'TW', 'TR', 'UY', 'US', 'GB', 'AD', 'LI', 'MC', 'ID', 'JP', 'TH', 'VN', 'RO', 'IL', 'ZA', 'SA', 'AE', 'BH', 'QA', 'OM', 'KW', 'EG', 'MA', 'DZ', 'TN', 'LB', 'JO', 'PS', 'IN', 'BY', 'KZ', 'MD', 'UA', 'AL', 'BA', 'HR', 'ME', 'MK', 'RS', 'SI', 'KR', 'BD', 'PK', 'LK', 'GH', 'KE', 'NG', 'TZ', 'UG', 'AG', 'AM', 'BS', 'BB', 'BZ', 'BT', 'BW', 'BF', 'CV', 'CW', 'DM', 'FJ', 'GM', 'GE', 'GD', 'GW', 'GY', 'HT', 'JM', 'KI', 'LS', 'LR', 'MW', 'MV', 'ML', 'MH', 'FM', 'NA', 'NR', 'NE', 'PW', 'PG', 'PR', 'WS', 'SM', 'ST', 'SN', 'SC', 'SL', 'SB', 'KN', 'LC', 'VC', 'SR', 'TL', 'TO', 'TT', 'TV', 'VU', 'AZ', 'BN', 'BI', 'KH', 'CM', 'TD', 'KM', 'GQ', 'SZ', 'GA', 'GN', 'KG', 'LA', 'MO', 'MR', 'MN', 'NP', 'RW', 'TG', 'UZ', 'ZW', 'BJ', 'MG', 'MU', 'MZ', 'AO', 'CI', 'DJ', 'ZM', 'CD', 'CG', 'IQ', 'LY', 'TJ', 'VE', 'ET', 'XK'], 'disc_number': 1, 'duration_ms': 186734, 'explicit': False, 'external_ids': {'isrc': 'QZTAY2236420'}, 'external_urls': {'spotify': 'https://open.spotify.com/track/23Y68rozIHvYVQUjlJTOEV'}, 'href': 'https://api.spotify.com/v1/tracks/23Y68rozIHvYVQUjlJTOEV', 'id': '23Y68rozIHvYVQUjlJTOEV', 'is_local': False, 'name': 'Concrete', 'popularity': 46, 'preview_url': None, 'track_number': 2, 'type': 'track', 'uri': 'spotify:track:23Y68rozIHvYVQUjlJTOEV'}",
         "2025-10-21T09:47:20.694Z",
         "{'external_urls': {'spotify': 'https://open.spotify.com/playlist/37i9dQZF1E4pkVWhas9jXJ'}, 'href': 'https://api.spotify.com/v1/playlists/37i9dQZF1E4pkVWhas9jXJ', 'type': 'playlist', 'uri': 'spotify:playlist:37i9dQZF1E4pkVWhas9jXJ'}",
         "2025-10-21 09:47:20.694000+00:00",
         "2025-10-21 00:00:00",
         "29"
        ],
        [
         "40",
         "{'album': {'album_type': 'album', 'artists': [{'external_urls': {'spotify': 'https://open.spotify.com/artist/4I2QW85rkIhCRRZt1kuBqS'}, 'href': 'https://api.spotify.com/v1/artists/4I2QW85rkIhCRRZt1kuBqS', 'id': '4I2QW85rkIhCRRZt1kuBqS', 'name': 'GoldFord', 'type': 'artist', 'uri': 'spotify:artist:4I2QW85rkIhCRRZt1kuBqS'}], 'available_markets': ['AR', 'AU', 'AT', 'BE', 'BO', 'BR', 'BG', 'CA', 'CL', 'CO', 'CR', 'CY', 'CZ', 'DK', 'DO', 'DE', 'EC', 'EE', 'SV', 'FI', 'FR', 'GR', 'GT', 'HN', 'HK', 'HU', 'IS', 'IE', 'IT', 'LV', 'LT', 'LU', 'MY', 'MT', 'MX', 'NL', 'NZ', 'NI', 'NO', 'PA', 'PY', 'PE', 'PH', 'PL', 'PT', 'SG', 'SK', 'ES', 'SE', 'CH', 'TW', 'TR', 'UY', 'US', 'GB', 'AD', 'LI', 'MC', 'ID', 'JP', 'TH', 'VN', 'RO', 'IL', 'ZA', 'SA', 'AE', 'BH', 'QA', 'OM', 'KW', 'EG', 'MA', 'DZ', 'TN', 'LB', 'JO', 'PS', 'IN', 'BY', 'KZ', 'MD', 'UA', 'AL', 'BA', 'HR', 'ME', 'MK', 'RS', 'SI', 'KR', 'BD', 'PK', 'LK', 'GH', 'KE', 'NG', 'TZ', 'UG', 'AG', 'AM', 'BS', 'BB', 'BZ', 'BT', 'BW', 'BF', 'CV', 'CW', 'DM', 'FJ', 'GM', 'GE', 'GD', 'GW', 'GY', 'HT', 'JM', 'KI', 'LS', 'LR', 'MW', 'MV', 'ML', 'MH', 'FM', 'NA', 'NR', 'NE', 'PW', 'PG', 'PR', 'WS', 'SM', 'ST', 'SN', 'SC', 'SL', 'SB', 'KN', 'LC', 'VC', 'SR', 'TL', 'TO', 'TT', 'TV', 'VU', 'AZ', 'BN', 'BI', 'KH', 'CM', 'TD', 'KM', 'GQ', 'SZ', 'GA', 'GN', 'KG', 'LA', 'MO', 'MR', 'MN', 'NP', 'RW', 'TG', 'UZ', 'ZW', 'BJ', 'MG', 'MU', 'MZ', 'AO', 'CI', 'DJ', 'ZM', 'CD', 'CG', 'IQ', 'LY', 'TJ', 'VE', 'ET', 'XK'], 'external_urls': {'spotify': 'https://open.spotify.com/album/1rhRxEgWl6CcDM87hJVGwD'}, 'href': 'https://api.spotify.com/v1/albums/1rhRxEgWl6CcDM87hJVGwD', 'id': '1rhRxEgWl6CcDM87hJVGwD', 'images': [{'height': 640, 'url': 'https://i.scdn.co/image/ab67616d0000b273f40ca9c68cefc96192bac2ce', 'width': 640}, {'height': 300, 'url': 'https://i.scdn.co/image/ab67616d00001e02f40ca9c68cefc96192bac2ce', 'width': 300}, {'height': 64, 'url': 'https://i.scdn.co/image/ab67616d00004851f40ca9c68cefc96192bac2ce', 'width': 64}], 'name': 'Orange Blossoms', 'release_date': '2024-10-30', 'release_date_precision': 'day', 'total_tracks': 8, 'type': 'album', 'uri': 'spotify:album:1rhRxEgWl6CcDM87hJVGwD'}, 'artists': [{'external_urls': {'spotify': 'https://open.spotify.com/artist/4I2QW85rkIhCRRZt1kuBqS'}, 'href': 'https://api.spotify.com/v1/artists/4I2QW85rkIhCRRZt1kuBqS', 'id': '4I2QW85rkIhCRRZt1kuBqS', 'name': 'GoldFord', 'type': 'artist', 'uri': 'spotify:artist:4I2QW85rkIhCRRZt1kuBqS'}], 'available_markets': ['AR', 'AU', 'AT', 'BE', 'BO', 'BR', 'BG', 'CA', 'CL', 'CO', 'CR', 'CY', 'CZ', 'DK', 'DO', 'DE', 'EC', 'EE', 'SV', 'FI', 'FR', 'GR', 'GT', 'HN', 'HK', 'HU', 'IS', 'IE', 'IT', 'LV', 'LT', 'LU', 'MY', 'MT', 'MX', 'NL', 'NZ', 'NI', 'NO', 'PA', 'PY', 'PE', 'PH', 'PL', 'PT', 'SG', 'SK', 'ES', 'SE', 'CH', 'TW', 'TR', 'UY', 'US', 'GB', 'AD', 'LI', 'MC', 'ID', 'JP', 'TH', 'VN', 'RO', 'IL', 'ZA', 'SA', 'AE', 'BH', 'QA', 'OM', 'KW', 'EG', 'MA', 'DZ', 'TN', 'LB', 'JO', 'PS', 'IN', 'BY', 'KZ', 'MD', 'UA', 'AL', 'BA', 'HR', 'ME', 'MK', 'RS', 'SI', 'KR', 'BD', 'PK', 'LK', 'GH', 'KE', 'NG', 'TZ', 'UG', 'AG', 'AM', 'BS', 'BB', 'BZ', 'BT', 'BW', 'BF', 'CV', 'CW', 'DM', 'FJ', 'GM', 'GE', 'GD', 'GW', 'GY', 'HT', 'JM', 'KI', 'LS', 'LR', 'MW', 'MV', 'ML', 'MH', 'FM', 'NA', 'NR', 'NE', 'PW', 'PG', 'PR', 'WS', 'SM', 'ST', 'SN', 'SC', 'SL', 'SB', 'KN', 'LC', 'VC', 'SR', 'TL', 'TO', 'TT', 'TV', 'VU', 'AZ', 'BN', 'BI', 'KH', 'CM', 'TD', 'KM', 'GQ', 'SZ', 'GA', 'GN', 'KG', 'LA', 'MO', 'MR', 'MN', 'NP', 'RW', 'TG', 'UZ', 'ZW', 'BJ', 'MG', 'MU', 'MZ', 'AO', 'CI', 'DJ', 'ZM', 'CD', 'CG', 'IQ', 'LY', 'TJ', 'VE', 'ET', 'XK'], 'disc_number': 1, 'duration_ms': 192131, 'explicit': False, 'external_ids': {'isrc': 'QZS7J2300070'}, 'external_urls': {'spotify': 'https://open.spotify.com/track/3Xg2ZCPPKfWsj9W8cmLbHF'}, 'href': 'https://api.spotify.com/v1/tracks/3Xg2ZCPPKfWsj9W8cmLbHF', 'id': '3Xg2ZCPPKfWsj9W8cmLbHF', 'is_local': False, 'name': 'Orange Blossoms', 'popularity': 70, 'preview_url': None, 'track_number': 3, 'type': 'track', 'uri': 'spotify:track:3Xg2ZCPPKfWsj9W8cmLbHF'}",
         "2025-10-21T09:44:17.312Z",
         "{'external_urls': {'spotify': 'https://open.spotify.com/playlist/37i9dQZF1E4pkVWhas9jXJ'}, 'href': 'https://api.spotify.com/v1/playlists/37i9dQZF1E4pkVWhas9jXJ', 'type': 'playlist', 'uri': 'spotify:playlist:37i9dQZF1E4pkVWhas9jXJ'}",
         "2025-10-21 09:44:17.312000+00:00",
         "2025-10-21 00:00:00",
         "30"
        ],
        [
         "41",
         "{'album': {'album_type': 'single', 'artists': [{'external_urls': {'spotify': 'https://open.spotify.com/artist/5zixe6AbgXPqt4c1uSl94L'}, 'href': 'https://api.spotify.com/v1/artists/5zixe6AbgXPqt4c1uSl94L', 'id': '5zixe6AbgXPqt4c1uSl94L', 'name': 'Connor Price', 'type': 'artist', 'uri': 'spotify:artist:5zixe6AbgXPqt4c1uSl94L'}], 'available_markets': ['AR', 'AU', 'AT', 'BE', 'BO', 'BR', 'BG', 'CA', 'CL', 'CO', 'CR', 'CY', 'CZ', 'DK', 'DO', 'DE', 'EC', 'EE', 'SV', 'FI', 'FR', 'GR', 'GT', 'HN', 'HK', 'HU', 'IS', 'IE', 'IT', 'LV', 'LT', 'LU', 'MY', 'MT', 'MX', 'NL', 'NZ', 'NI', 'NO', 'PA', 'PY', 'PE', 'PH', 'PL', 'PT', 'SG', 'SK', 'ES', 'SE', 'CH', 'TW', 'TR', 'UY', 'US', 'GB', 'AD', 'LI', 'MC', 'ID', 'JP', 'TH', 'VN', 'RO', 'IL', 'ZA', 'SA', 'AE', 'BH', 'QA', 'OM', 'KW', 'EG', 'MA', 'DZ', 'TN', 'LB', 'JO', 'PS', 'IN', 'BY', 'KZ', 'MD', 'UA', 'AL', 'BA', 'HR', 'ME', 'MK', 'RS', 'SI', 'KR', 'BD', 'PK', 'LK', 'GH', 'KE', 'NG', 'TZ', 'UG', 'AG', 'AM', 'BS', 'BB', 'BZ', 'BT', 'BW', 'BF', 'CV', 'CW', 'DM', 'FJ', 'GM', 'GE', 'GD', 'GW', 'GY', 'HT', 'JM', 'KI', 'LS', 'LR', 'MW', 'MV', 'ML', 'MH', 'FM', 'NA', 'NR', 'NE', 'PW', 'PG', 'PR', 'WS', 'SM', 'ST', 'SN', 'SC', 'SL', 'SB', 'KN', 'LC', 'VC', 'SR', 'TL', 'TO', 'TT', 'TV', 'VU', 'AZ', 'BN', 'BI', 'KH', 'CM', 'TD', 'KM', 'GQ', 'SZ', 'GA', 'GN', 'KG', 'LA', 'MO', 'MR', 'MN', 'NP', 'RW', 'TG', 'UZ', 'ZW', 'BJ', 'MG', 'MU', 'MZ', 'AO', 'CI', 'DJ', 'ZM', 'CD', 'CG', 'IQ', 'LY', 'TJ', 'VE', 'ET', 'XK'], 'external_urls': {'spotify': 'https://open.spotify.com/album/52ZIdjV2wJ5QMqeDevcpKM'}, 'href': 'https://api.spotify.com/v1/albums/52ZIdjV2wJ5QMqeDevcpKM', 'id': '52ZIdjV2wJ5QMqeDevcpKM', 'images': [{'height': 640, 'url': 'https://i.scdn.co/image/ab67616d0000b273a6c580a251584027dffb98f9', 'width': 640}, {'height': 300, 'url': 'https://i.scdn.co/image/ab67616d00001e02a6c580a251584027dffb98f9', 'width': 300}, {'height': 64, 'url': 'https://i.scdn.co/image/ab67616d00004851a6c580a251584027dffb98f9', 'width': 64}], 'name': 'SPLAT', 'release_date': '2022-05-20', 'release_date_precision': 'day', 'total_tracks': 1, 'type': 'album', 'uri': 'spotify:album:52ZIdjV2wJ5QMqeDevcpKM'}, 'artists': [{'external_urls': {'spotify': 'https://open.spotify.com/artist/5zixe6AbgXPqt4c1uSl94L'}, 'href': 'https://api.spotify.com/v1/artists/5zixe6AbgXPqt4c1uSl94L', 'id': '5zixe6AbgXPqt4c1uSl94L', 'name': 'Connor Price', 'type': 'artist', 'uri': 'spotify:artist:5zixe6AbgXPqt4c1uSl94L'}], 'available_markets': ['AR', 'AU', 'AT', 'BE', 'BO', 'BR', 'BG', 'CA', 'CL', 'CO', 'CR', 'CY', 'CZ', 'DK', 'DO', 'DE', 'EC', 'EE', 'SV', 'FI', 'FR', 'GR', 'GT', 'HN', 'HK', 'HU', 'IS', 'IE', 'IT', 'LV', 'LT', 'LU', 'MY', 'MT', 'MX', 'NL', 'NZ', 'NI', 'NO', 'PA', 'PY', 'PE', 'PH', 'PL', 'PT', 'SG', 'SK', 'ES', 'SE', 'CH', 'TW', 'TR', 'UY', 'US', 'GB', 'AD', 'LI', 'MC', 'ID', 'JP', 'TH', 'VN', 'RO', 'IL', 'ZA', 'SA', 'AE', 'BH', 'QA', 'OM', 'KW', 'EG', 'MA', 'DZ', 'TN', 'LB', 'JO', 'PS', 'IN', 'BY', 'KZ', 'MD', 'UA', 'AL', 'BA', 'HR', 'ME', 'MK', 'RS', 'SI', 'KR', 'BD', 'PK', 'LK', 'GH', 'KE', 'NG', 'TZ', 'UG', 'AG', 'AM', 'BS', 'BB', 'BZ', 'BT', 'BW', 'BF', 'CV', 'CW', 'DM', 'FJ', 'GM', 'GE', 'GD', 'GW', 'GY', 'HT', 'JM', 'KI', 'LS', 'LR', 'MW', 'MV', 'ML', 'MH', 'FM', 'NA', 'NR', 'NE', 'PW', 'PG', 'PR', 'WS', 'SM', 'ST', 'SN', 'SC', 'SL', 'SB', 'KN', 'LC', 'VC', 'SR', 'TL', 'TO', 'TT', 'TV', 'VU', 'AZ', 'BN', 'BI', 'KH', 'CM', 'TD', 'KM', 'GQ', 'SZ', 'GA', 'GN', 'KG', 'LA', 'MO', 'MR', 'MN', 'NP', 'RW', 'TG', 'UZ', 'ZW', 'BJ', 'MG', 'MU', 'MZ', 'AO', 'CI', 'DJ', 'ZM', 'CD', 'CG', 'IQ', 'LY', 'TJ', 'VE', 'ET', 'XK'], 'disc_number': 1, 'duration_ms': 125685, 'explicit': False, 'external_ids': {'isrc': 'QZHNB2218020'}, 'external_urls': {'spotify': 'https://open.spotify.com/track/71rw9MB77BR8LHMFZK8gKV'}, 'href': 'https://api.spotify.com/v1/tracks/71rw9MB77BR8LHMFZK8gKV', 'id': '71rw9MB77BR8LHMFZK8gKV', 'is_local': False, 'name': 'SPLAT', 'popularity': 62, 'preview_url': None, 'track_number': 1, 'type': 'track', 'uri': 'spotify:track:71rw9MB77BR8LHMFZK8gKV'}",
         "2025-10-21T09:41:08.809Z",
         "{'external_urls': {'spotify': 'https://open.spotify.com/playlist/37i9dQZF1E4pkVWhas9jXJ'}, 'href': 'https://api.spotify.com/v1/playlists/37i9dQZF1E4pkVWhas9jXJ', 'type': 'playlist', 'uri': 'spotify:playlist:37i9dQZF1E4pkVWhas9jXJ'}",
         "2025-10-21 09:41:08.809000+00:00",
         "2025-10-21 00:00:00",
         "31"
        ],
        [
         "42",
         "{'album': {'album_type': 'album', 'artists': [{'external_urls': {'spotify': 'https://open.spotify.com/artist/2HPqVfdPh9JkBSlFG5hK6h'}, 'href': 'https://api.spotify.com/v1/artists/2HPqVfdPh9JkBSlFG5hK6h', 'id': '2HPqVfdPh9JkBSlFG5hK6h', 'name': 'anees', 'type': 'artist', 'uri': 'spotify:artist:2HPqVfdPh9JkBSlFG5hK6h'}], 'available_markets': ['AR', 'AU', 'AT', 'BE', 'BO', 'BR', 'BG', 'CA', 'CL', 'CO', 'CR', 'CY', 'CZ', 'DK', 'DO', 'DE', 'EC', 'EE', 'SV', 'FI', 'FR', 'GR', 'GT', 'HN', 'HK', 'HU', 'IS', 'IE', 'IT', 'LV', 'LT', 'LU', 'MY', 'MT', 'MX', 'NL', 'NZ', 'NI', 'NO', 'PA', 'PY', 'PE', 'PH', 'PL', 'PT', 'SG', 'SK', 'ES', 'SE', 'CH', 'TW', 'TR', 'UY', 'US', 'GB', 'AD', 'LI', 'MC', 'ID', 'JP', 'TH', 'VN', 'RO', 'IL', 'ZA', 'SA', 'AE', 'BH', 'QA', 'OM', 'KW', 'EG', 'MA', 'DZ', 'TN', 'LB', 'JO', 'PS', 'IN', 'BY', 'KZ', 'MD', 'UA', 'AL', 'BA', 'HR', 'ME', 'MK', 'RS', 'SI', 'KR', 'BD', 'PK', 'LK', 'GH', 'KE', 'NG', 'TZ', 'UG', 'AG', 'AM', 'BS', 'BB', 'BZ', 'BT', 'BW', 'BF', 'CV', 'CW', 'DM', 'FJ', 'GM', 'GE', 'GD', 'GW', 'GY', 'HT', 'JM', 'KI', 'LS', 'LR', 'MW', 'MV', 'ML', 'MH', 'FM', 'NA', 'NR', 'NE', 'PW', 'PG', 'PR', 'WS', 'SM', 'ST', 'SN', 'SC', 'SL', 'SB', 'KN', 'LC', 'VC', 'SR', 'TL', 'TO', 'TT', 'TV', 'VU', 'AZ', 'BN', 'BI', 'KH', 'CM', 'TD', 'KM', 'GQ', 'SZ', 'GA', 'GN', 'KG', 'LA', 'MO', 'MR', 'MN', 'NP', 'RW', 'TG', 'UZ', 'ZW', 'BJ', 'MG', 'MU', 'MZ', 'AO', 'CI', 'DJ', 'ZM', 'CD', 'CG', 'IQ', 'LY', 'TJ', 'VE', 'ET', 'XK'], 'external_urls': {'spotify': 'https://open.spotify.com/album/4mO5hcuCZYh8TyVgUjkIvi'}, 'href': 'https://api.spotify.com/v1/albums/4mO5hcuCZYh8TyVgUjkIvi', 'id': '4mO5hcuCZYh8TyVgUjkIvi', 'images': [{'height': 640, 'url': 'https://i.scdn.co/image/ab67616d0000b273503b0c468b7664d0bb543793', 'width': 640}, {'height': 300, 'url': 'https://i.scdn.co/image/ab67616d00001e02503b0c468b7664d0bb543793', 'width': 300}, {'height': 64, 'url': 'https://i.scdn.co/image/ab67616d00004851503b0c468b7664d0bb543793', 'width': 64}], 'name': 'summer camp', 'release_date': '2023-05-19', 'release_date_precision': 'day', 'total_tracks': 10, 'type': 'album', 'uri': 'spotify:album:4mO5hcuCZYh8TyVgUjkIvi'}, 'artists': [{'external_urls': {'spotify': 'https://open.spotify.com/artist/2HPqVfdPh9JkBSlFG5hK6h'}, 'href': 'https://api.spotify.com/v1/artists/2HPqVfdPh9JkBSlFG5hK6h', 'id': '2HPqVfdPh9JkBSlFG5hK6h', 'name': 'anees', 'type': 'artist', 'uri': 'spotify:artist:2HPqVfdPh9JkBSlFG5hK6h'}], 'available_markets': ['AR', 'AU', 'AT', 'BE', 'BO', 'BR', 'BG', 'CA', 'CL', 'CO', 'CR', 'CY', 'CZ', 'DK', 'DO', 'DE', 'EC', 'EE', 'SV', 'FI', 'FR', 'GR', 'GT', 'HN', 'HK', 'HU', 'IS', 'IE', 'IT', 'LV', 'LT', 'LU', 'MY', 'MT', 'MX', 'NL', 'NZ', 'NI', 'NO', 'PA', 'PY', 'PE', 'PH', 'PL', 'PT', 'SG', 'SK', 'ES', 'SE', 'CH', 'TW', 'TR', 'UY', 'US', 'GB', 'AD', 'LI', 'MC', 'ID', 'JP', 'TH', 'VN', 'RO', 'IL', 'ZA', 'SA', 'AE', 'BH', 'QA', 'OM', 'KW', 'EG', 'MA', 'DZ', 'TN', 'LB', 'JO', 'PS', 'IN', 'BY', 'KZ', 'MD', 'UA', 'AL', 'BA', 'HR', 'ME', 'MK', 'RS', 'SI', 'KR', 'BD', 'PK', 'LK', 'GH', 'KE', 'NG', 'TZ', 'UG', 'AG', 'AM', 'BS', 'BB', 'BZ', 'BT', 'BW', 'BF', 'CV', 'CW', 'DM', 'FJ', 'GM', 'GE', 'GD', 'GW', 'GY', 'HT', 'JM', 'KI', 'LS', 'LR', 'MW', 'MV', 'ML', 'MH', 'FM', 'NA', 'NR', 'NE', 'PW', 'PG', 'PR', 'WS', 'SM', 'ST', 'SN', 'SC', 'SL', 'SB', 'KN', 'LC', 'VC', 'SR', 'TL', 'TO', 'TT', 'TV', 'VU', 'AZ', 'BN', 'BI', 'KH', 'CM', 'TD', 'KM', 'GQ', 'SZ', 'GA', 'GN', 'KG', 'LA', 'MO', 'MR', 'MN', 'NP', 'RW', 'TG', 'UZ', 'ZW', 'BJ', 'MG', 'MU', 'MZ', 'AO', 'CI', 'DJ', 'ZM', 'CD', 'CG', 'IQ', 'LY', 'TJ', 'VE', 'ET', 'XK'], 'disc_number': 1, 'duration_ms': 183124, 'explicit': False, 'external_ids': {'isrc': 'QZDA82189070'}, 'external_urls': {'spotify': 'https://open.spotify.com/track/4JPqLoxQdTsPkHBGyjlYdj'}, 'href': 'https://api.spotify.com/v1/tracks/4JPqLoxQdTsPkHBGyjlYdj', 'id': '4JPqLoxQdTsPkHBGyjlYdj', 'is_local': False, 'name': 'slip', 'popularity': 59, 'preview_url': None, 'track_number': 7, 'type': 'track', 'uri': 'spotify:track:4JPqLoxQdTsPkHBGyjlYdj'}",
         "2025-10-21T09:39:08.232Z",
         "{'external_urls': {'spotify': 'https://open.spotify.com/playlist/37i9dQZF1E4pkVWhas9jXJ'}, 'href': 'https://api.spotify.com/v1/playlists/37i9dQZF1E4pkVWhas9jXJ', 'type': 'playlist', 'uri': 'spotify:playlist:37i9dQZF1E4pkVWhas9jXJ'}",
         "2025-10-21 09:39:08.232000+00:00",
         "2025-10-21 00:00:00",
         "32"
        ],
        [
         "43",
         "{'album': {'album_type': 'album', 'artists': [{'external_urls': {'spotify': 'https://open.spotify.com/artist/1E5pLahwa4lUHQxHFlfkg5'}, 'href': 'https://api.spotify.com/v1/artists/1E5pLahwa4lUHQxHFlfkg5', 'id': '1E5pLahwa4lUHQxHFlfkg5', 'name': 'Claudya', 'type': 'artist', 'uri': 'spotify:artist:1E5pLahwa4lUHQxHFlfkg5'}], 'available_markets': ['AR', 'AU', 'AT', 'BE', 'BO', 'BR', 'BG', 'CA', 'CL', 'CO', 'CR', 'CY', 'CZ', 'DK', 'DO', 'DE', 'EC', 'EE', 'SV', 'FI', 'FR', 'GR', 'GT', 'HN', 'HK', 'HU', 'IS', 'IE', 'IT', 'LV', 'LT', 'LU', 'MY', 'MT', 'MX', 'NL', 'NZ', 'NI', 'NO', 'PA', 'PY', 'PE', 'PH', 'PL', 'PT', 'SG', 'SK', 'ES', 'SE', 'CH', 'TW', 'TR', 'UY', 'US', 'GB', 'AD', 'LI', 'MC', 'ID', 'JP', 'TH', 'VN', 'RO', 'IL', 'ZA', 'SA', 'AE', 'BH', 'QA', 'OM', 'KW', 'EG', 'MA', 'DZ', 'TN', 'LB', 'JO', 'PS', 'IN', 'KZ', 'MD', 'UA', 'AL', 'BA', 'HR', 'ME', 'MK', 'RS', 'SI', 'KR', 'BD', 'PK', 'LK', 'GH', 'KE', 'NG', 'TZ', 'UG', 'AG', 'AM', 'BS', 'BB', 'BZ', 'BT', 'BW', 'BF', 'CV', 'CW', 'DM', 'FJ', 'GM', 'GE', 'GD', 'GW', 'GY', 'HT', 'JM', 'KI', 'LS', 'LR', 'MW', 'MV', 'ML', 'MH', 'FM', 'NA', 'NR', 'NE', 'PW', 'PG', 'WS', 'SM', 'ST', 'SN', 'SC', 'SL', 'SB', 'KN', 'LC', 'VC', 'SR', 'TL', 'TO', 'TT', 'TV', 'VU', 'AZ', 'BN', 'BI', 'KH', 'CM', 'TD', 'KM', 'GQ', 'SZ', 'GA', 'GN', 'KG', 'LA', 'MO', 'MR', 'MN', 'NP', 'RW', 'TG', 'UZ', 'ZW', 'BJ', 'MG', 'MU', 'MZ', 'AO', 'CI', 'DJ', 'ZM', 'CD', 'CG', 'IQ', 'LY', 'TJ', 'VE', 'ET', 'XK'], 'external_urls': {'spotify': 'https://open.spotify.com/album/2dEy0o3j0WbTQcSJQISPiw'}, 'href': 'https://api.spotify.com/v1/albums/2dEy0o3j0WbTQcSJQISPiw', 'id': '2dEy0o3j0WbTQcSJQISPiw', 'images': [{'height': 640, 'url': 'https://i.scdn.co/image/ab67616d0000b2737eb0ac3ea44b58392f339f3a', 'width': 640}, {'height': 300, 'url': 'https://i.scdn.co/image/ab67616d00001e027eb0ac3ea44b58392f339f3a', 'width': 300}, {'height': 64, 'url': 'https://i.scdn.co/image/ab67616d000048517eb0ac3ea44b58392f339f3a', 'width': 64}], 'name': 'Deixa Eu Dizer', 'release_date': '1973-03-07', 'release_date_precision': 'day', 'total_tracks': 12, 'type': 'album', 'uri': 'spotify:album:2dEy0o3j0WbTQcSJQISPiw'}, 'artists': [{'external_urls': {'spotify': 'https://open.spotify.com/artist/1E5pLahwa4lUHQxHFlfkg5'}, 'href': 'https://api.spotify.com/v1/artists/1E5pLahwa4lUHQxHFlfkg5', 'id': '1E5pLahwa4lUHQxHFlfkg5', 'name': 'Claudya', 'type': 'artist', 'uri': 'spotify:artist:1E5pLahwa4lUHQxHFlfkg5'}], 'available_markets': ['AR', 'AU', 'AT', 'BE', 'BO', 'BR', 'BG', 'CA', 'CL', 'CO', 'CR', 'CY', 'CZ', 'DK', 'DO', 'DE', 'EC', 'EE', 'SV', 'FI', 'FR', 'GR', 'GT', 'HN', 'HK', 'HU', 'IS', 'IE', 'IT', 'LV', 'LT', 'LU', 'MY', 'MT', 'MX', 'NL', 'NZ', 'NI', 'NO', 'PA', 'PY', 'PE', 'PH', 'PL', 'PT', 'SG', 'SK', 'ES', 'SE', 'CH', 'TW', 'TR', 'UY', 'US', 'GB', 'AD', 'LI', 'MC', 'ID', 'JP', 'TH', 'VN', 'RO', 'IL', 'ZA', 'SA', 'AE', 'BH', 'QA', 'OM', 'KW', 'EG', 'MA', 'DZ', 'TN', 'LB', 'JO', 'PS', 'IN', 'KZ', 'MD', 'UA', 'AL', 'BA', 'HR', 'ME', 'MK', 'RS', 'SI', 'KR', 'BD', 'PK', 'LK', 'GH', 'KE', 'NG', 'TZ', 'UG', 'AG', 'AM', 'BS', 'BB', 'BZ', 'BT', 'BW', 'BF', 'CV', 'CW', 'DM', 'FJ', 'GM', 'GE', 'GD', 'GW', 'GY', 'HT', 'JM', 'KI', 'LS', 'LR', 'MW', 'MV', 'ML', 'MH', 'FM', 'NA', 'NR', 'NE', 'PW', 'PG', 'WS', 'SM', 'ST', 'SN', 'SC', 'SL', 'SB', 'KN', 'LC', 'VC', 'SR', 'TL', 'TO', 'TT', 'TV', 'VU', 'AZ', 'BN', 'BI', 'KH', 'CM', 'TD', 'KM', 'GQ', 'SZ', 'GA', 'GN', 'KG', 'LA', 'MO', 'MR', 'MN', 'NP', 'RW', 'TG', 'UZ', 'ZW', 'BJ', 'MG', 'MU', 'MZ', 'AO', 'CI', 'DJ', 'ZM', 'CD', 'CG', 'IQ', 'LY', 'TJ', 'VE', 'ET', 'XK'], 'disc_number': 1, 'duration_ms': 167139, 'explicit': False, 'external_ids': {'isrc': 'BREMI9500080'}, 'external_urls': {'spotify': 'https://open.spotify.com/track/1z1VvotFOcYm72B56JQ85S'}, 'href': 'https://api.spotify.com/v1/tracks/1z1VvotFOcYm72B56JQ85S', 'id': '1z1VvotFOcYm72B56JQ85S', 'is_local': False, 'name': 'Deixa Eu Dizer', 'popularity': 62, 'preview_url': None, 'track_number': 8, 'type': 'track', 'uri': 'spotify:track:1z1VvotFOcYm72B56JQ85S'}",
         "2025-10-21T09:35:50.336Z",
         "{'external_urls': {'spotify': 'https://open.spotify.com/playlist/37i9dQZF1E8Nfo94C4zTIR'}, 'href': 'https://api.spotify.com/v1/playlists/37i9dQZF1E8Nfo94C4zTIR', 'type': 'playlist', 'uri': 'spotify:playlist:37i9dQZF1E8Nfo94C4zTIR'}",
         "2025-10-21 09:35:50.336000+00:00",
         "2025-10-21 00:00:00",
         "33"
        ],
        [
         "44",
         "{'album': {'album_type': 'album', 'artists': [{'external_urls': {'spotify': 'https://open.spotify.com/artist/2HPqVfdPh9JkBSlFG5hK6h'}, 'href': 'https://api.spotify.com/v1/artists/2HPqVfdPh9JkBSlFG5hK6h', 'id': '2HPqVfdPh9JkBSlFG5hK6h', 'name': 'anees', 'type': 'artist', 'uri': 'spotify:artist:2HPqVfdPh9JkBSlFG5hK6h'}], 'available_markets': ['AR', 'AU', 'AT', 'BE', 'BO', 'BR', 'BG', 'CA', 'CL', 'CO', 'CR', 'CY', 'CZ', 'DK', 'DO', 'DE', 'EC', 'EE', 'SV', 'FI', 'FR', 'GR', 'GT', 'HN', 'HK', 'HU', 'IS', 'IE', 'IT', 'LV', 'LT', 'LU', 'MY', 'MT', 'MX', 'NL', 'NZ', 'NI', 'NO', 'PA', 'PY', 'PE', 'PH', 'PL', 'PT', 'SG', 'SK', 'ES', 'SE', 'CH', 'TW', 'TR', 'UY', 'US', 'GB', 'AD', 'LI', 'MC', 'ID', 'JP', 'TH', 'VN', 'RO', 'IL', 'ZA', 'SA', 'AE', 'BH', 'QA', 'OM', 'KW', 'EG', 'MA', 'DZ', 'TN', 'LB', 'JO', 'PS', 'IN', 'BY', 'KZ', 'MD', 'UA', 'AL', 'BA', 'HR', 'ME', 'MK', 'RS', 'SI', 'KR', 'BD', 'PK', 'LK', 'GH', 'KE', 'NG', 'TZ', 'UG', 'AG', 'AM', 'BS', 'BB', 'BZ', 'BT', 'BW', 'BF', 'CV', 'CW', 'DM', 'FJ', 'GM', 'GE', 'GD', 'GW', 'GY', 'HT', 'JM', 'KI', 'LS', 'LR', 'MW', 'MV', 'ML', 'MH', 'FM', 'NA', 'NR', 'NE', 'PW', 'PG', 'PR', 'WS', 'SM', 'ST', 'SN', 'SC', 'SL', 'SB', 'KN', 'LC', 'VC', 'SR', 'TL', 'TO', 'TT', 'TV', 'VU', 'AZ', 'BN', 'BI', 'KH', 'CM', 'TD', 'KM', 'GQ', 'SZ', 'GA', 'GN', 'KG', 'LA', 'MO', 'MR', 'MN', 'NP', 'RW', 'TG', 'UZ', 'ZW', 'BJ', 'MG', 'MU', 'MZ', 'AO', 'CI', 'DJ', 'ZM', 'CD', 'CG', 'IQ', 'LY', 'TJ', 'VE', 'ET', 'XK'], 'external_urls': {'spotify': 'https://open.spotify.com/album/69KjgUNpD2ASxN0J0mgbIt'}, 'href': 'https://api.spotify.com/v1/albums/69KjgUNpD2ASxN0J0mgbIt', 'id': '69KjgUNpD2ASxN0J0mgbIt', 'images': [{'height': 640, 'url': 'https://i.scdn.co/image/ab67616d0000b27390add57c94e51e533ea024de', 'width': 640}, {'height': 300, 'url': 'https://i.scdn.co/image/ab67616d00001e0290add57c94e51e533ea024de', 'width': 300}, {'height': 64, 'url': 'https://i.scdn.co/image/ab67616d0000485190add57c94e51e533ea024de', 'width': 64}], 'name': 'HOMEsick', 'release_date': '2025-04-11', 'release_date_precision': 'day', 'total_tracks': 10, 'type': 'album', 'uri': 'spotify:album:69KjgUNpD2ASxN0J0mgbIt'}, 'artists': [{'external_urls': {'spotify': 'https://open.spotify.com/artist/2HPqVfdPh9JkBSlFG5hK6h'}, 'href': 'https://api.spotify.com/v1/artists/2HPqVfdPh9JkBSlFG5hK6h', 'id': '2HPqVfdPh9JkBSlFG5hK6h', 'name': 'anees', 'type': 'artist', 'uri': 'spotify:artist:2HPqVfdPh9JkBSlFG5hK6h'}], 'available_markets': ['AR', 'AU', 'AT', 'BE', 'BO', 'BR', 'BG', 'CA', 'CL', 'CO', 'CR', 'CY', 'CZ', 'DK', 'DO', 'DE', 'EC', 'EE', 'SV', 'FI', 'FR', 'GR', 'GT', 'HN', 'HK', 'HU', 'IS', 'IE', 'IT', 'LV', 'LT', 'LU', 'MY', 'MT', 'MX', 'NL', 'NZ', 'NI', 'NO', 'PA', 'PY', 'PE', 'PH', 'PL', 'PT', 'SG', 'SK', 'ES', 'SE', 'CH', 'TW', 'TR', 'UY', 'US', 'GB', 'AD', 'LI', 'MC', 'ID', 'JP', 'TH', 'VN', 'RO', 'IL', 'ZA', 'SA', 'AE', 'BH', 'QA', 'OM', 'KW', 'EG', 'MA', 'DZ', 'TN', 'LB', 'JO', 'PS', 'IN', 'BY', 'KZ', 'MD', 'UA', 'AL', 'BA', 'HR', 'ME', 'MK', 'RS', 'SI', 'KR', 'BD', 'PK', 'LK', 'GH', 'KE', 'NG', 'TZ', 'UG', 'AG', 'AM', 'BS', 'BB', 'BZ', 'BT', 'BW', 'BF', 'CV', 'CW', 'DM', 'FJ', 'GM', 'GE', 'GD', 'GW', 'GY', 'HT', 'JM', 'KI', 'LS', 'LR', 'MW', 'MV', 'ML', 'MH', 'FM', 'NA', 'NR', 'NE', 'PW', 'PG', 'PR', 'WS', 'SM', 'ST', 'SN', 'SC', 'SL', 'SB', 'KN', 'LC', 'VC', 'SR', 'TL', 'TO', 'TT', 'TV', 'VU', 'AZ', 'BN', 'BI', 'KH', 'CM', 'TD', 'KM', 'GQ', 'SZ', 'GA', 'GN', 'KG', 'LA', 'MO', 'MR', 'MN', 'NP', 'RW', 'TG', 'UZ', 'ZW', 'BJ', 'MG', 'MU', 'MZ', 'AO', 'CI', 'DJ', 'ZM', 'CD', 'CG', 'IQ', 'LY', 'TJ', 'VE', 'ET', 'XK'], 'disc_number': 1, 'duration_ms': 213971, 'explicit': False, 'external_ids': {'isrc': 'CA5KR2523909'}, 'external_urls': {'spotify': 'https://open.spotify.com/track/6oqBTZqby0RfOeIXIQdH9P'}, 'href': 'https://api.spotify.com/v1/tracks/6oqBTZqby0RfOeIXIQdH9P', 'id': '6oqBTZqby0RfOeIXIQdH9P', 'is_local': False, 'name': 'alone', 'popularity': 39, 'preview_url': None, 'track_number': 3, 'type': 'track', 'uri': 'spotify:track:6oqBTZqby0RfOeIXIQdH9P'}",
         "2025-10-24T16:24:49.115Z",
         "{'external_urls': {'spotify': 'https://open.spotify.com/playlist/37i9dQZF1E4pkVWhas9jXJ'}, 'href': 'https://api.spotify.com/v1/playlists/37i9dQZF1E4pkVWhas9jXJ', 'type': 'playlist', 'uri': 'spotify:playlist:37i9dQZF1E4pkVWhas9jXJ'}",
         "2025-10-24 16:24:49.115000+00:00",
         "2025-10-24 00:00:00",
         "0"
        ],
        [
         "45",
         "{'album': {'album_type': 'album', 'artists': [{'external_urls': {'spotify': 'https://open.spotify.com/artist/1kh0AypxF3CxMMzmQyif2S'}, 'href': 'https://api.spotify.com/v1/artists/1kh0AypxF3CxMMzmQyif2S', 'id': '1kh0AypxF3CxMMzmQyif2S', 'name': 'Rayana Jay', 'type': 'artist', 'uri': 'spotify:artist:1kh0AypxF3CxMMzmQyif2S'}], 'available_markets': ['AR', 'AU', 'AT', 'BE', 'BO', 'BR', 'BG', 'CA', 'CL', 'CO', 'CR', 'CY', 'CZ', 'DK', 'DO', 'DE', 'EC', 'EE', 'SV', 'FI', 'FR', 'GR', 'GT', 'HN', 'HK', 'HU', 'IS', 'IE', 'IT', 'LV', 'LT', 'LU', 'MY', 'MT', 'MX', 'NL', 'NZ', 'NI', 'NO', 'PA', 'PY', 'PE', 'PH', 'PL', 'PT', 'SG', 'SK', 'ES', 'SE', 'CH', 'TW', 'TR', 'UY', 'US', 'GB', 'AD', 'LI', 'MC', 'ID', 'JP', 'TH', 'VN', 'RO', 'IL', 'ZA', 'SA', 'AE', 'BH', 'QA', 'OM', 'KW', 'EG', 'MA', 'DZ', 'TN', 'LB', 'JO', 'PS', 'IN', 'BY', 'KZ', 'MD', 'UA', 'AL', 'BA', 'HR', 'ME', 'MK', 'RS', 'SI', 'KR', 'BD', 'PK', 'LK', 'GH', 'KE', 'NG', 'TZ', 'UG', 'AG', 'AM', 'BS', 'BB', 'BZ', 'BT', 'BW', 'BF', 'CV', 'CW', 'DM', 'FJ', 'GM', 'GE', 'GD', 'GW', 'GY', 'HT', 'JM', 'KI', 'LS', 'LR', 'MW', 'MV', 'ML', 'MH', 'FM', 'NA', 'NR', 'NE', 'PW', 'PG', 'PR', 'WS', 'SM', 'ST', 'SN', 'SC', 'SL', 'SB', 'KN', 'LC', 'VC', 'SR', 'TL', 'TO', 'TT', 'TV', 'VU', 'AZ', 'BN', 'BI', 'KH', 'CM', 'TD', 'KM', 'GQ', 'SZ', 'GA', 'GN', 'KG', 'LA', 'MO', 'MR', 'MN', 'NP', 'RW', 'TG', 'UZ', 'ZW', 'BJ', 'MG', 'MU', 'MZ', 'AO', 'CI', 'DJ', 'ZM', 'CD', 'CG', 'IQ', 'LY', 'TJ', 'VE', 'ET', 'XK'], 'external_urls': {'spotify': 'https://open.spotify.com/album/4ASozZrX3WMIJplKcfRJYf'}, 'href': 'https://api.spotify.com/v1/albums/4ASozZrX3WMIJplKcfRJYf', 'id': '4ASozZrX3WMIJplKcfRJYf', 'images': [{'height': 640, 'url': 'https://i.scdn.co/image/ab67616d0000b273b2fbd9875d8ab3d79484d12f', 'width': 640}, {'height': 300, 'url': 'https://i.scdn.co/image/ab67616d00001e02b2fbd9875d8ab3d79484d12f', 'width': 300}, {'height': 64, 'url': 'https://i.scdn.co/image/ab67616d00004851b2fbd9875d8ab3d79484d12f', 'width': 64}], 'name': 'Love Me Like', 'release_date': '2019-03-22', 'release_date_precision': 'day', 'total_tracks': 7, 'type': 'album', 'uri': 'spotify:album:4ASozZrX3WMIJplKcfRJYf'}, 'artists': [{'external_urls': {'spotify': 'https://open.spotify.com/artist/1kh0AypxF3CxMMzmQyif2S'}, 'href': 'https://api.spotify.com/v1/artists/1kh0AypxF3CxMMzmQyif2S', 'id': '1kh0AypxF3CxMMzmQyif2S', 'name': 'Rayana Jay', 'type': 'artist', 'uri': 'spotify:artist:1kh0AypxF3CxMMzmQyif2S'}], 'available_markets': ['AR', 'AU', 'AT', 'BE', 'BO', 'BR', 'BG', 'CA', 'CL', 'CO', 'CR', 'CY', 'CZ', 'DK', 'DO', 'DE', 'EC', 'EE', 'SV', 'FI', 'FR', 'GR', 'GT', 'HN', 'HK', 'HU', 'IS', 'IE', 'IT', 'LV', 'LT', 'LU', 'MY', 'MT', 'MX', 'NL', 'NZ', 'NI', 'NO', 'PA', 'PY', 'PE', 'PH', 'PL', 'PT', 'SG', 'SK', 'ES', 'SE', 'CH', 'TW', 'TR', 'UY', 'US', 'GB', 'AD', 'LI', 'MC', 'ID', 'JP', 'TH', 'VN', 'RO', 'IL', 'ZA', 'SA', 'AE', 'BH', 'QA', 'OM', 'KW', 'EG', 'MA', 'DZ', 'TN', 'LB', 'JO', 'PS', 'IN', 'BY', 'KZ', 'MD', 'UA', 'AL', 'BA', 'HR', 'ME', 'MK', 'RS', 'SI', 'KR', 'BD', 'PK', 'LK', 'GH', 'KE', 'NG', 'TZ', 'UG', 'AG', 'AM', 'BS', 'BB', 'BZ', 'BT', 'BW', 'BF', 'CV', 'CW', 'DM', 'FJ', 'GM', 'GE', 'GD', 'GW', 'GY', 'HT', 'JM', 'KI', 'LS', 'LR', 'MW', 'MV', 'ML', 'MH', 'FM', 'NA', 'NR', 'NE', 'PW', 'PG', 'PR', 'WS', 'SM', 'ST', 'SN', 'SC', 'SL', 'SB', 'KN', 'LC', 'VC', 'SR', 'TL', 'TO', 'TT', 'TV', 'VU', 'AZ', 'BN', 'BI', 'KH', 'CM', 'TD', 'KM', 'GQ', 'SZ', 'GA', 'GN', 'KG', 'LA', 'MO', 'MR', 'MN', 'NP', 'RW', 'TG', 'UZ', 'ZW', 'BJ', 'MG', 'MU', 'MZ', 'AO', 'CI', 'DJ', 'ZM', 'CD', 'CG', 'IQ', 'LY', 'TJ', 'VE', 'ET', 'XK'], 'disc_number': 1, 'duration_ms': 116059, 'explicit': True, 'external_ids': {'isrc': 'USUYG1243904'}, 'external_urls': {'spotify': 'https://open.spotify.com/track/0iI2cOHpX6xmwKD15Q5ynd'}, 'href': 'https://api.spotify.com/v1/tracks/0iI2cOHpX6xmwKD15Q5ynd', 'id': '0iI2cOHpX6xmwKD15Q5ynd', 'is_local': False, 'name': 'Breakfast in Bed', 'popularity': 57, 'preview_url': None, 'track_number': 6, 'type': 'track', 'uri': 'spotify:track:0iI2cOHpX6xmwKD15Q5ynd'}",
         "2025-10-24T06:43:04.414Z",
         "{'external_urls': {'spotify': 'https://open.spotify.com/playlist/37i9dQZF1E4pkVWhas9jXJ'}, 'href': 'https://api.spotify.com/v1/playlists/37i9dQZF1E4pkVWhas9jXJ', 'type': 'playlist', 'uri': 'spotify:playlist:37i9dQZF1E4pkVWhas9jXJ'}",
         "2025-10-24 06:43:04.414000+00:00",
         "2025-10-24 00:00:00",
         "1"
        ],
        [
         "46",
         "{'album': {'album_type': 'single', 'artists': [{'external_urls': {'spotify': 'https://open.spotify.com/artist/28WNtilgFPn1mdz3h0FjHl'}, 'href': 'https://api.spotify.com/v1/artists/28WNtilgFPn1mdz3h0FjHl', 'id': '28WNtilgFPn1mdz3h0FjHl', 'name': 'Mackenzy Mackay', 'type': 'artist', 'uri': 'spotify:artist:28WNtilgFPn1mdz3h0FjHl'}], 'available_markets': ['AR', 'AU', 'AT', 'BE', 'BO', 'BR', 'BG', 'CA', 'CL', 'CO', 'CR', 'CY', 'CZ', 'DK', 'DO', 'DE', 'EC', 'EE', 'SV', 'FI', 'FR', 'GR', 'GT', 'HN', 'HK', 'HU', 'IS', 'IE', 'IT', 'LV', 'LT', 'LU', 'MY', 'MT', 'MX', 'NL', 'NZ', 'NI', 'NO', 'PA', 'PY', 'PE', 'PH', 'PL', 'PT', 'SG', 'SK', 'ES', 'SE', 'CH', 'TW', 'TR', 'UY', 'US', 'GB', 'AD', 'LI', 'MC', 'ID', 'JP', 'TH', 'VN', 'RO', 'IL', 'ZA', 'SA', 'AE', 'BH', 'QA', 'OM', 'KW', 'EG', 'MA', 'DZ', 'TN', 'LB', 'JO', 'PS', 'IN', 'BY', 'KZ', 'MD', 'UA', 'AL', 'BA', 'HR', 'ME', 'MK', 'RS', 'SI', 'KR', 'BD', 'PK', 'LK', 'GH', 'KE', 'NG', 'TZ', 'UG', 'AG', 'AM', 'BS', 'BB', 'BZ', 'BT', 'BW', 'BF', 'CV', 'CW', 'DM', 'FJ', 'GM', 'GE', 'GD', 'GW', 'GY', 'HT', 'JM', 'KI', 'LS', 'LR', 'MW', 'MV', 'ML', 'MH', 'FM', 'NA', 'NR', 'NE', 'PW', 'PG', 'WS', 'SM', 'ST', 'SN', 'SC', 'SL', 'SB', 'KN', 'LC', 'VC', 'SR', 'TL', 'TO', 'TT', 'TV', 'VU', 'AZ', 'BN', 'BI', 'KH', 'CM', 'TD', 'KM', 'GQ', 'SZ', 'GA', 'GN', 'KG', 'LA', 'MO', 'MR', 'MN', 'NP', 'RW', 'TG', 'UZ', 'ZW', 'BJ', 'MG', 'MU', 'MZ', 'AO', 'CI', 'DJ', 'ZM', 'CD', 'CG', 'IQ', 'LY', 'TJ', 'VE', 'XK'], 'external_urls': {'spotify': 'https://open.spotify.com/album/2ua5nVp0tGLF6g1i69W6o3'}, 'href': 'https://api.spotify.com/v1/albums/2ua5nVp0tGLF6g1i69W6o3', 'id': '2ua5nVp0tGLF6g1i69W6o3', 'images': [{'height': 640, 'url': 'https://i.scdn.co/image/ab67616d0000b2730ceaf893829aef4529673c85', 'width': 640}, {'height': 300, 'url': 'https://i.scdn.co/image/ab67616d00001e020ceaf893829aef4529673c85', 'width': 300}, {'height': 64, 'url': 'https://i.scdn.co/image/ab67616d000048510ceaf893829aef4529673c85', 'width': 64}], 'name': 'Honeycomb', 'release_date': '2021-03-12', 'release_date_precision': 'day', 'total_tracks': 1, 'type': 'album', 'uri': 'spotify:album:2ua5nVp0tGLF6g1i69W6o3'}, 'artists': [{'external_urls': {'spotify': 'https://open.spotify.com/artist/28WNtilgFPn1mdz3h0FjHl'}, 'href': 'https://api.spotify.com/v1/artists/28WNtilgFPn1mdz3h0FjHl', 'id': '28WNtilgFPn1mdz3h0FjHl', 'name': 'Mackenzy Mackay', 'type': 'artist', 'uri': 'spotify:artist:28WNtilgFPn1mdz3h0FjHl'}], 'available_markets': ['AR', 'AU', 'AT', 'BE', 'BO', 'BR', 'BG', 'CA', 'CL', 'CO', 'CR', 'CY', 'CZ', 'DK', 'DO', 'DE', 'EC', 'EE', 'SV', 'FI', 'FR', 'GR', 'GT', 'HN', 'HK', 'HU', 'IS', 'IE', 'IT', 'LV', 'LT', 'LU', 'MY', 'MT', 'MX', 'NL', 'NZ', 'NI', 'NO', 'PA', 'PY', 'PE', 'PH', 'PL', 'PT', 'SG', 'SK', 'ES', 'SE', 'CH', 'TW', 'TR', 'UY', 'US', 'GB', 'AD', 'LI', 'MC', 'ID', 'JP', 'TH', 'VN', 'RO', 'IL', 'ZA', 'SA', 'AE', 'BH', 'QA', 'OM', 'KW', 'EG', 'MA', 'DZ', 'TN', 'LB', 'JO', 'PS', 'IN', 'BY', 'KZ', 'MD', 'UA', 'AL', 'BA', 'HR', 'ME', 'MK', 'RS', 'SI', 'KR', 'BD', 'PK', 'LK', 'GH', 'KE', 'NG', 'TZ', 'UG', 'AG', 'AM', 'BS', 'BB', 'BZ', 'BT', 'BW', 'BF', 'CV', 'CW', 'DM', 'FJ', 'GM', 'GE', 'GD', 'GW', 'GY', 'HT', 'JM', 'KI', 'LS', 'LR', 'MW', 'MV', 'ML', 'MH', 'FM', 'NA', 'NR', 'NE', 'PW', 'PG', 'WS', 'SM', 'ST', 'SN', 'SC', 'SL', 'SB', 'KN', 'LC', 'VC', 'SR', 'TL', 'TO', 'TT', 'TV', 'VU', 'AZ', 'BN', 'BI', 'KH', 'CM', 'TD', 'KM', 'GQ', 'SZ', 'GA', 'GN', 'KG', 'LA', 'MO', 'MR', 'MN', 'NP', 'RW', 'TG', 'UZ', 'ZW', 'BJ', 'MG', 'MU', 'MZ', 'AO', 'CI', 'DJ', 'ZM', 'CD', 'CG', 'IQ', 'LY', 'TJ', 'VE', 'XK'], 'disc_number': 1, 'duration_ms': 153530, 'explicit': False, 'external_ids': {'isrc': 'TCAFK2185760'}, 'external_urls': {'spotify': 'https://open.spotify.com/track/3Zaf08ecJxkfPdCHLnfgox'}, 'href': 'https://api.spotify.com/v1/tracks/3Zaf08ecJxkfPdCHLnfgox', 'id': '3Zaf08ecJxkfPdCHLnfgox', 'is_local': False, 'name': 'Honeycomb', 'popularity': 51, 'preview_url': None, 'track_number': 1, 'type': 'track', 'uri': 'spotify:track:3Zaf08ecJxkfPdCHLnfgox'}",
         "2025-10-24T06:41:11.771Z",
         "{'external_urls': {'spotify': 'https://open.spotify.com/playlist/37i9dQZF1E4pkVWhas9jXJ'}, 'href': 'https://api.spotify.com/v1/playlists/37i9dQZF1E4pkVWhas9jXJ', 'type': 'playlist', 'uri': 'spotify:playlist:37i9dQZF1E4pkVWhas9jXJ'}",
         "2025-10-24 06:41:11.771000+00:00",
         "2025-10-24 00:00:00",
         "2"
        ],
        [
         "47",
         "{'album': {'album_type': 'single', 'artists': [{'external_urls': {'spotify': 'https://open.spotify.com/artist/73r6cgVUoNL47qnJAF0Ihw'}, 'href': 'https://api.spotify.com/v1/artists/73r6cgVUoNL47qnJAF0Ihw', 'id': '73r6cgVUoNL47qnJAF0Ihw', 'name': 'Taylor John Williams', 'type': 'artist', 'uri': 'spotify:artist:73r6cgVUoNL47qnJAF0Ihw'}], 'available_markets': ['AR', 'AU', 'AT', 'BE', 'BO', 'BR', 'BG', 'CA', 'CL', 'CO', 'CR', 'CY', 'CZ', 'DK', 'DO', 'DE', 'EC', 'EE', 'SV', 'FI', 'FR', 'GR', 'GT', 'HN', 'HK', 'HU', 'IS', 'IE', 'IT', 'LV', 'LT', 'LU', 'MY', 'MT', 'MX', 'NL', 'NZ', 'NI', 'NO', 'PA', 'PY', 'PE', 'PH', 'PL', 'PT', 'SG', 'SK', 'ES', 'SE', 'CH', 'TW', 'TR', 'UY', 'US', 'GB', 'AD', 'LI', 'MC', 'ID', 'JP', 'TH', 'VN', 'RO', 'IL', 'ZA', 'SA', 'AE', 'BH', 'QA', 'OM', 'KW', 'EG', 'MA', 'DZ', 'TN', 'LB', 'JO', 'PS', 'IN', 'BY', 'KZ', 'MD', 'UA', 'AL', 'BA', 'HR', 'ME', 'MK', 'RS', 'SI', 'KR', 'BD', 'PK', 'LK', 'GH', 'KE', 'NG', 'TZ', 'UG', 'AG', 'AM', 'BS', 'BB', 'BZ', 'BT', 'BW', 'BF', 'CV', 'CW', 'DM', 'FJ', 'GM', 'GE', 'GD', 'GW', 'GY', 'HT', 'JM', 'KI', 'LS', 'LR', 'MW', 'MV', 'ML', 'MH', 'FM', 'NA', 'NR', 'NE', 'PW', 'PG', 'PR', 'WS', 'SM', 'ST', 'SN', 'SC', 'SL', 'SB', 'KN', 'LC', 'VC', 'SR', 'TL', 'TO', 'TT', 'TV', 'VU', 'AZ', 'BN', 'BI', 'KH', 'CM', 'TD', 'KM', 'GQ', 'SZ', 'GA', 'GN', 'KG', 'LA', 'MO', 'MR', 'MN', 'NP', 'RW', 'TG', 'UZ', 'ZW', 'BJ', 'MG', 'MU', 'MZ', 'AO', 'CI', 'DJ', 'ZM', 'CD', 'CG', 'IQ', 'LY', 'TJ', 'VE', 'ET', 'XK'], 'external_urls': {'spotify': 'https://open.spotify.com/album/6F2Fa9Gmaz3jmx5s8zNcVw'}, 'href': 'https://api.spotify.com/v1/albums/6F2Fa9Gmaz3jmx5s8zNcVw', 'id': '6F2Fa9Gmaz3jmx5s8zNcVw', 'images': [{'height': 640, 'url': 'https://i.scdn.co/image/ab67616d0000b2734e5d9a4a93390a9cd117c2f6', 'width': 640}, {'height': 300, 'url': 'https://i.scdn.co/image/ab67616d00001e024e5d9a4a93390a9cd117c2f6', 'width': 300}, {'height': 64, 'url': 'https://i.scdn.co/image/ab67616d000048514e5d9a4a93390a9cd117c2f6', 'width': 64}], 'name': 'Song of a Dead Man', 'release_date': '2015-08-10', 'release_date_precision': 'day', 'total_tracks': 5, 'type': 'album', 'uri': 'spotify:album:6F2Fa9Gmaz3jmx5s8zNcVw'}, 'artists': [{'external_urls': {'spotify': 'https://open.spotify.com/artist/73r6cgVUoNL47qnJAF0Ihw'}, 'href': 'https://api.spotify.com/v1/artists/73r6cgVUoNL47qnJAF0Ihw', 'id': '73r6cgVUoNL47qnJAF0Ihw', 'name': 'Taylor John Williams', 'type': 'artist', 'uri': 'spotify:artist:73r6cgVUoNL47qnJAF0Ihw'}], 'available_markets': ['AR', 'AU', 'AT', 'BE', 'BO', 'BR', 'BG', 'CA', 'CL', 'CO', 'CR', 'CY', 'CZ', 'DK', 'DO', 'DE', 'EC', 'EE', 'SV', 'FI', 'FR', 'GR', 'GT', 'HN', 'HK', 'HU', 'IS', 'IE', 'IT', 'LV', 'LT', 'LU', 'MY', 'MT', 'MX', 'NL', 'NZ', 'NI', 'NO', 'PA', 'PY', 'PE', 'PH', 'PL', 'PT', 'SG', 'SK', 'ES', 'SE', 'CH', 'TW', 'TR', 'UY', 'US', 'GB', 'AD', 'LI', 'MC', 'ID', 'JP', 'TH', 'VN', 'RO', 'IL', 'ZA', 'SA', 'AE', 'BH', 'QA', 'OM', 'KW', 'EG', 'MA', 'DZ', 'TN', 'LB', 'JO', 'PS', 'IN', 'BY', 'KZ', 'MD', 'UA', 'AL', 'BA', 'HR', 'ME', 'MK', 'RS', 'SI', 'KR', 'BD', 'PK', 'LK', 'GH', 'KE', 'NG', 'TZ', 'UG', 'AG', 'AM', 'BS', 'BB', 'BZ', 'BT', 'BW', 'BF', 'CV', 'CW', 'DM', 'FJ', 'GM', 'GE', 'GD', 'GW', 'GY', 'HT', 'JM', 'KI', 'LS', 'LR', 'MW', 'MV', 'ML', 'MH', 'FM', 'NA', 'NR', 'NE', 'PW', 'PG', 'PR', 'WS', 'SM', 'ST', 'SN', 'SC', 'SL', 'SB', 'KN', 'LC', 'VC', 'SR', 'TL', 'TO', 'TT', 'TV', 'VU', 'AZ', 'BN', 'BI', 'KH', 'CM', 'TD', 'KM', 'GQ', 'SZ', 'GA', 'GN', 'KG', 'LA', 'MO', 'MR', 'MN', 'NP', 'RW', 'TG', 'UZ', 'ZW', 'BJ', 'MG', 'MU', 'MZ', 'AO', 'CI', 'DJ', 'ZM', 'CD', 'CG', 'IQ', 'LY', 'TJ', 'VE', 'ET', 'XK'], 'disc_number': 1, 'duration_ms': 239626, 'explicit': False, 'external_ids': {'isrc': 'TCACH1559664'}, 'external_urls': {'spotify': 'https://open.spotify.com/track/0l5yhFHoOfcsNMWxMVc77W'}, 'href': 'https://api.spotify.com/v1/tracks/0l5yhFHoOfcsNMWxMVc77W', 'id': '0l5yhFHoOfcsNMWxMVc77W', 'is_local': False, 'name': 'The Mates Of Soul - Remastered', 'popularity': 60, 'preview_url': None, 'track_number': 3, 'type': 'track', 'uri': 'spotify:track:0l5yhFHoOfcsNMWxMVc77W'}",
         "2025-10-24T06:38:41.217Z",
         "{'external_urls': {'spotify': 'https://open.spotify.com/playlist/37i9dQZF1E4pkVWhas9jXJ'}, 'href': 'https://api.spotify.com/v1/playlists/37i9dQZF1E4pkVWhas9jXJ', 'type': 'playlist', 'uri': 'spotify:playlist:37i9dQZF1E4pkVWhas9jXJ'}",
         "2025-10-24 06:38:41.217000+00:00",
         "2025-10-24 00:00:00",
         "3"
        ],
        [
         "48",
         "{'album': {'album_type': 'single', 'artists': [{'external_urls': {'spotify': 'https://open.spotify.com/artist/4hTL3jOgvZwOqegEZTOrCc'}, 'href': 'https://api.spotify.com/v1/artists/4hTL3jOgvZwOqegEZTOrCc', 'id': '4hTL3jOgvZwOqegEZTOrCc', 'name': 'Col3trane', 'type': 'artist', 'uri': 'spotify:artist:4hTL3jOgvZwOqegEZTOrCc'}], 'available_markets': ['AR', 'AU', 'AT', 'BE', 'BO', 'BR', 'BG', 'CA', 'CL', 'CO', 'CR', 'CY', 'CZ', 'DK', 'DO', 'DE', 'EC', 'EE', 'SV', 'FI', 'FR', 'GR', 'GT', 'HN', 'HK', 'HU', 'IS', 'IE', 'IT', 'LV', 'LT', 'LU', 'MY', 'MT', 'MX', 'NL', 'NZ', 'NI', 'NO', 'PA', 'PY', 'PE', 'PH', 'PL', 'PT', 'SG', 'SK', 'ES', 'SE', 'CH', 'TW', 'TR', 'UY', 'US', 'GB', 'AD', 'LI', 'MC', 'ID', 'JP', 'TH', 'VN', 'RO', 'IL', 'ZA', 'SA', 'AE', 'BH', 'QA', 'OM', 'KW', 'EG', 'MA', 'DZ', 'TN', 'LB', 'JO', 'PS', 'IN', 'BY', 'KZ', 'MD', 'UA', 'AL', 'BA', 'HR', 'ME', 'MK', 'RS', 'SI', 'KR', 'BD', 'PK', 'LK', 'GH', 'KE', 'NG', 'TZ', 'UG', 'AG', 'AM', 'BS', 'BB', 'BZ', 'BT', 'BW', 'BF', 'CV', 'CW', 'DM', 'FJ', 'GM', 'GE', 'GD', 'GW', 'GY', 'HT', 'JM', 'KI', 'LS', 'LR', 'MW', 'MV', 'ML', 'MH', 'FM', 'NA', 'NR', 'NE', 'PW', 'PG', 'PR', 'WS', 'SM', 'ST', 'SN', 'SC', 'SL', 'SB', 'KN', 'LC', 'VC', 'SR', 'TL', 'TO', 'TT', 'TV', 'VU', 'AZ', 'BN', 'BI', 'KH', 'CM', 'TD', 'KM', 'GQ', 'SZ', 'GA', 'GN', 'KG', 'LA', 'MO', 'MR', 'MN', 'NP', 'RW', 'TG', 'UZ', 'ZW', 'BJ', 'MG', 'MU', 'MZ', 'AO', 'CI', 'DJ', 'ZM', 'CD', 'CG', 'IQ', 'LY', 'TJ', 'VE', 'ET', 'XK'], 'external_urls': {'spotify': 'https://open.spotify.com/album/79iDkdY7UJxihrIAp9l5jt'}, 'href': 'https://api.spotify.com/v1/albums/79iDkdY7UJxihrIAp9l5jt', 'id': '79iDkdY7UJxihrIAp9l5jt', 'images': [{'height': 640, 'url': 'https://i.scdn.co/image/ab67616d0000b27348ee5297645ce8e5dcbf5d61', 'width': 640}, {'height': 300, 'url': 'https://i.scdn.co/image/ab67616d00001e0248ee5297645ce8e5dcbf5d61', 'width': 300}, {'height': 64, 'url': 'https://i.scdn.co/image/ab67616d0000485148ee5297645ce8e5dcbf5d61', 'width': 64}], 'name': 'Astrology Joint', 'release_date': '2022-10-28', 'release_date_precision': 'day', 'total_tracks': 1, 'type': 'album', 'uri': 'spotify:album:79iDkdY7UJxihrIAp9l5jt'}, 'artists': [{'external_urls': {'spotify': 'https://open.spotify.com/artist/4hTL3jOgvZwOqegEZTOrCc'}, 'href': 'https://api.spotify.com/v1/artists/4hTL3jOgvZwOqegEZTOrCc', 'id': '4hTL3jOgvZwOqegEZTOrCc', 'name': 'Col3trane', 'type': 'artist', 'uri': 'spotify:artist:4hTL3jOgvZwOqegEZTOrCc'}], 'available_markets': ['AR', 'AU', 'AT', 'BE', 'BO', 'BR', 'BG', 'CA', 'CL', 'CO', 'CR', 'CY', 'CZ', 'DK', 'DO', 'DE', 'EC', 'EE', 'SV', 'FI', 'FR', 'GR', 'GT', 'HN', 'HK', 'HU', 'IS', 'IE', 'IT', 'LV', 'LT', 'LU', 'MY', 'MT', 'MX', 'NL', 'NZ', 'NI', 'NO', 'PA', 'PY', 'PE', 'PH', 'PL', 'PT', 'SG', 'SK', 'ES', 'SE', 'CH', 'TW', 'TR', 'UY', 'US', 'GB', 'AD', 'LI', 'MC', 'ID', 'JP', 'TH', 'VN', 'RO', 'IL', 'ZA', 'SA', 'AE', 'BH', 'QA', 'OM', 'KW', 'EG', 'MA', 'DZ', 'TN', 'LB', 'JO', 'PS', 'IN', 'BY', 'KZ', 'MD', 'UA', 'AL', 'BA', 'HR', 'ME', 'MK', 'RS', 'SI', 'KR', 'BD', 'PK', 'LK', 'GH', 'KE', 'NG', 'TZ', 'UG', 'AG', 'AM', 'BS', 'BB', 'BZ', 'BT', 'BW', 'BF', 'CV', 'CW', 'DM', 'FJ', 'GM', 'GE', 'GD', 'GW', 'GY', 'HT', 'JM', 'KI', 'LS', 'LR', 'MW', 'MV', 'ML', 'MH', 'FM', 'NA', 'NR', 'NE', 'PW', 'PG', 'PR', 'WS', 'SM', 'ST', 'SN', 'SC', 'SL', 'SB', 'KN', 'LC', 'VC', 'SR', 'TL', 'TO', 'TT', 'TV', 'VU', 'AZ', 'BN', 'BI', 'KH', 'CM', 'TD', 'KM', 'GQ', 'SZ', 'GA', 'GN', 'KG', 'LA', 'MO', 'MR', 'MN', 'NP', 'RW', 'TG', 'UZ', 'ZW', 'BJ', 'MG', 'MU', 'MZ', 'AO', 'CI', 'DJ', 'ZM', 'CD', 'CG', 'IQ', 'LY', 'TJ', 'VE', 'ET', 'XK'], 'disc_number': 1, 'duration_ms': 152233, 'explicit': False, 'external_ids': {'isrc': 'QZNMW2292908'}, 'external_urls': {'spotify': 'https://open.spotify.com/track/3W4hHy3WAymNbciOwtocGM'}, 'href': 'https://api.spotify.com/v1/tracks/3W4hHy3WAymNbciOwtocGM', 'id': '3W4hHy3WAymNbciOwtocGM', 'is_local': False, 'name': 'Astrology Joint', 'popularity': 47, 'preview_url': None, 'track_number': 1, 'type': 'track', 'uri': 'spotify:track:3W4hHy3WAymNbciOwtocGM'}",
         "2025-10-24T06:34:45.250Z",
         "{'external_urls': {'spotify': 'https://open.spotify.com/playlist/37i9dQZF1E4pkVWhas9jXJ'}, 'href': 'https://api.spotify.com/v1/playlists/37i9dQZF1E4pkVWhas9jXJ', 'type': 'playlist', 'uri': 'spotify:playlist:37i9dQZF1E4pkVWhas9jXJ'}",
         "2025-10-24 06:34:45.250000+00:00",
         "2025-10-24 00:00:00",
         "4"
        ],
        [
         "49",
         "{'album': {'album_type': 'album', 'artists': [{'external_urls': {'spotify': 'https://open.spotify.com/artist/2HPqVfdPh9JkBSlFG5hK6h'}, 'href': 'https://api.spotify.com/v1/artists/2HPqVfdPh9JkBSlFG5hK6h', 'id': '2HPqVfdPh9JkBSlFG5hK6h', 'name': 'anees', 'type': 'artist', 'uri': 'spotify:artist:2HPqVfdPh9JkBSlFG5hK6h'}], 'available_markets': ['AR', 'AU', 'AT', 'BE', 'BO', 'BR', 'BG', 'CA', 'CL', 'CO', 'CR', 'CY', 'CZ', 'DK', 'DO', 'DE', 'EC', 'EE', 'SV', 'FI', 'FR', 'GR', 'GT', 'HN', 'HK', 'HU', 'IS', 'IE', 'IT', 'LV', 'LT', 'LU', 'MY', 'MT', 'MX', 'NL', 'NZ', 'NI', 'NO', 'PA', 'PY', 'PE', 'PH', 'PL', 'PT', 'SG', 'SK', 'ES', 'SE', 'CH', 'TW', 'TR', 'UY', 'US', 'GB', 'AD', 'LI', 'MC', 'ID', 'JP', 'TH', 'VN', 'RO', 'IL', 'ZA', 'SA', 'AE', 'BH', 'QA', 'OM', 'KW', 'EG', 'MA', 'DZ', 'TN', 'LB', 'JO', 'PS', 'IN', 'BY', 'KZ', 'MD', 'UA', 'AL', 'BA', 'HR', 'ME', 'MK', 'RS', 'SI', 'KR', 'BD', 'PK', 'LK', 'GH', 'KE', 'NG', 'TZ', 'UG', 'AG', 'AM', 'BS', 'BB', 'BZ', 'BT', 'BW', 'BF', 'CV', 'CW', 'DM', 'FJ', 'GM', 'GE', 'GD', 'GW', 'GY', 'HT', 'JM', 'KI', 'LS', 'LR', 'MW', 'MV', 'ML', 'MH', 'FM', 'NA', 'NR', 'NE', 'PW', 'PG', 'PR', 'WS', 'SM', 'ST', 'SN', 'SC', 'SL', 'SB', 'KN', 'LC', 'VC', 'SR', 'TL', 'TO', 'TT', 'TV', 'VU', 'AZ', 'BN', 'BI', 'KH', 'CM', 'TD', 'KM', 'GQ', 'SZ', 'GA', 'GN', 'KG', 'LA', 'MO', 'MR', 'MN', 'NP', 'RW', 'TG', 'UZ', 'ZW', 'BJ', 'MG', 'MU', 'MZ', 'AO', 'CI', 'DJ', 'ZM', 'CD', 'CG', 'IQ', 'LY', 'TJ', 'VE', 'ET', 'XK'], 'external_urls': {'spotify': 'https://open.spotify.com/album/4mO5hcuCZYh8TyVgUjkIvi'}, 'href': 'https://api.spotify.com/v1/albums/4mO5hcuCZYh8TyVgUjkIvi', 'id': '4mO5hcuCZYh8TyVgUjkIvi', 'images': [{'height': 640, 'url': 'https://i.scdn.co/image/ab67616d0000b273503b0c468b7664d0bb543793', 'width': 640}, {'height': 300, 'url': 'https://i.scdn.co/image/ab67616d00001e02503b0c468b7664d0bb543793', 'width': 300}, {'height': 64, 'url': 'https://i.scdn.co/image/ab67616d00004851503b0c468b7664d0bb543793', 'width': 64}], 'name': 'summer camp', 'release_date': '2023-05-19', 'release_date_precision': 'day', 'total_tracks': 10, 'type': 'album', 'uri': 'spotify:album:4mO5hcuCZYh8TyVgUjkIvi'}, 'artists': [{'external_urls': {'spotify': 'https://open.spotify.com/artist/2HPqVfdPh9JkBSlFG5hK6h'}, 'href': 'https://api.spotify.com/v1/artists/2HPqVfdPh9JkBSlFG5hK6h', 'id': '2HPqVfdPh9JkBSlFG5hK6h', 'name': 'anees', 'type': 'artist', 'uri': 'spotify:artist:2HPqVfdPh9JkBSlFG5hK6h'}], 'available_markets': ['AR', 'AU', 'AT', 'BE', 'BO', 'BR', 'BG', 'CA', 'CL', 'CO', 'CR', 'CY', 'CZ', 'DK', 'DO', 'DE', 'EC', 'EE', 'SV', 'FI', 'FR', 'GR', 'GT', 'HN', 'HK', 'HU', 'IS', 'IE', 'IT', 'LV', 'LT', 'LU', 'MY', 'MT', 'MX', 'NL', 'NZ', 'NI', 'NO', 'PA', 'PY', 'PE', 'PH', 'PL', 'PT', 'SG', 'SK', 'ES', 'SE', 'CH', 'TW', 'TR', 'UY', 'US', 'GB', 'AD', 'LI', 'MC', 'ID', 'JP', 'TH', 'VN', 'RO', 'IL', 'ZA', 'SA', 'AE', 'BH', 'QA', 'OM', 'KW', 'EG', 'MA', 'DZ', 'TN', 'LB', 'JO', 'PS', 'IN', 'BY', 'KZ', 'MD', 'UA', 'AL', 'BA', 'HR', 'ME', 'MK', 'RS', 'SI', 'KR', 'BD', 'PK', 'LK', 'GH', 'KE', 'NG', 'TZ', 'UG', 'AG', 'AM', 'BS', 'BB', 'BZ', 'BT', 'BW', 'BF', 'CV', 'CW', 'DM', 'FJ', 'GM', 'GE', 'GD', 'GW', 'GY', 'HT', 'JM', 'KI', 'LS', 'LR', 'MW', 'MV', 'ML', 'MH', 'FM', 'NA', 'NR', 'NE', 'PW', 'PG', 'PR', 'WS', 'SM', 'ST', 'SN', 'SC', 'SL', 'SB', 'KN', 'LC', 'VC', 'SR', 'TL', 'TO', 'TT', 'TV', 'VU', 'AZ', 'BN', 'BI', 'KH', 'CM', 'TD', 'KM', 'GQ', 'SZ', 'GA', 'GN', 'KG', 'LA', 'MO', 'MR', 'MN', 'NP', 'RW', 'TG', 'UZ', 'ZW', 'BJ', 'MG', 'MU', 'MZ', 'AO', 'CI', 'DJ', 'ZM', 'CD', 'CG', 'IQ', 'LY', 'TJ', 'VE', 'ET', 'XK'], 'disc_number': 1, 'duration_ms': 183124, 'explicit': False, 'external_ids': {'isrc': 'QZDA82189070'}, 'external_urls': {'spotify': 'https://open.spotify.com/track/4JPqLoxQdTsPkHBGyjlYdj'}, 'href': 'https://api.spotify.com/v1/tracks/4JPqLoxQdTsPkHBGyjlYdj', 'id': '4JPqLoxQdTsPkHBGyjlYdj', 'is_local': False, 'name': 'slip', 'popularity': 59, 'preview_url': None, 'track_number': 7, 'type': 'track', 'uri': 'spotify:track:4JPqLoxQdTsPkHBGyjlYdj'}",
         "2025-10-24T06:32:16.810Z",
         "{'external_urls': {'spotify': 'https://open.spotify.com/playlist/37i9dQZF1E4pkVWhas9jXJ'}, 'href': 'https://api.spotify.com/v1/playlists/37i9dQZF1E4pkVWhas9jXJ', 'type': 'playlist', 'uri': 'spotify:playlist:37i9dQZF1E4pkVWhas9jXJ'}",
         "2025-10-24 06:32:16.810000+00:00",
         "2025-10-24 00:00:00",
         "5"
        ]
       ],
       "shape": {
        "columns": 6,
        "rows": 251
       }
      },
      "text/html": [
       "<div>\n",
       "<style scoped>\n",
       "    .dataframe tbody tr th:only-of-type {\n",
       "        vertical-align: middle;\n",
       "    }\n",
       "\n",
       "    .dataframe tbody tr th {\n",
       "        vertical-align: top;\n",
       "    }\n",
       "\n",
       "    .dataframe thead th {\n",
       "        text-align: right;\n",
       "    }\n",
       "</style>\n",
       "<table border=\"1\" class=\"dataframe\">\n",
       "  <thead>\n",
       "    <tr style=\"text-align: right;\">\n",
       "      <th></th>\n",
       "      <th>track</th>\n",
       "      <th>played_at</th>\n",
       "      <th>context</th>\n",
       "      <th>played_at_dt</th>\n",
       "      <th>played_at_date</th>\n",
       "      <th>__index_level_0__</th>\n",
       "    </tr>\n",
       "  </thead>\n",
       "  <tbody>\n",
       "    <tr>\n",
       "      <th>0</th>\n",
       "      <td>{'album': {'album_type': 'single', 'artists': ...</td>\n",
       "      <td>2025-10-20T16:18:33.522Z</td>\n",
       "      <td>{'external_urls': {'spotify': 'https://open.sp...</td>\n",
       "      <td>2025-10-20 16:18:33.522000+00:00</td>\n",
       "      <td>2025-10-20</td>\n",
       "      <td>34</td>\n",
       "    </tr>\n",
       "    <tr>\n",
       "      <th>1</th>\n",
       "      <td>{'album': {'album_type': 'album', 'artists': [...</td>\n",
       "      <td>2025-10-20T16:15:32.878Z</td>\n",
       "      <td>{'external_urls': {'spotify': 'https://open.sp...</td>\n",
       "      <td>2025-10-20 16:15:32.878000+00:00</td>\n",
       "      <td>2025-10-20</td>\n",
       "      <td>35</td>\n",
       "    </tr>\n",
       "    <tr>\n",
       "      <th>2</th>\n",
       "      <td>{'album': {'album_type': 'single', 'artists': ...</td>\n",
       "      <td>2025-10-20T16:12:17.379Z</td>\n",
       "      <td>{'external_urls': {'spotify': 'https://open.sp...</td>\n",
       "      <td>2025-10-20 16:12:17.379000+00:00</td>\n",
       "      <td>2025-10-20</td>\n",
       "      <td>36</td>\n",
       "    </tr>\n",
       "    <tr>\n",
       "      <th>3</th>\n",
       "      <td>{'album': {'album_type': 'single', 'artists': ...</td>\n",
       "      <td>2025-10-20T16:10:27.851Z</td>\n",
       "      <td>{'external_urls': {'spotify': 'https://open.sp...</td>\n",
       "      <td>2025-10-20 16:10:27.851000+00:00</td>\n",
       "      <td>2025-10-20</td>\n",
       "      <td>37</td>\n",
       "    </tr>\n",
       "    <tr>\n",
       "      <th>4</th>\n",
       "      <td>{'album': {'album_type': 'single', 'artists': ...</td>\n",
       "      <td>2025-10-20T08:35:15.813Z</td>\n",
       "      <td>{'external_urls': {'spotify': 'https://open.sp...</td>\n",
       "      <td>2025-10-20 08:35:15.813000+00:00</td>\n",
       "      <td>2025-10-20</td>\n",
       "      <td>38</td>\n",
       "    </tr>\n",
       "    <tr>\n",
       "      <th>...</th>\n",
       "      <td>...</td>\n",
       "      <td>...</td>\n",
       "      <td>...</td>\n",
       "      <td>...</td>\n",
       "      <td>...</td>\n",
       "      <td>...</td>\n",
       "    </tr>\n",
       "    <tr>\n",
       "      <th>246</th>\n",
       "      <td>{'album': {'album_type': 'single', 'artists': ...</td>\n",
       "      <td>2025-10-26T15:09:41.330Z</td>\n",
       "      <td>{'external_urls': {'spotify': 'https://open.sp...</td>\n",
       "      <td>2025-10-26 15:09:41.330000+00:00</td>\n",
       "      <td>2025-10-26</td>\n",
       "      <td>2</td>\n",
       "    </tr>\n",
       "    <tr>\n",
       "      <th>247</th>\n",
       "      <td>{'album': {'album_type': 'single', 'artists': ...</td>\n",
       "      <td>2025-10-26T15:07:38.191Z</td>\n",
       "      <td>{'external_urls': {'spotify': 'https://open.sp...</td>\n",
       "      <td>2025-10-26 15:07:38.191000+00:00</td>\n",
       "      <td>2025-10-26</td>\n",
       "      <td>3</td>\n",
       "    </tr>\n",
       "    <tr>\n",
       "      <th>248</th>\n",
       "      <td>{'album': {'album_type': 'single', 'artists': ...</td>\n",
       "      <td>2025-10-26T15:05:46.793Z</td>\n",
       "      <td>{'external_urls': {'spotify': 'https://open.sp...</td>\n",
       "      <td>2025-10-26 15:05:46.793000+00:00</td>\n",
       "      <td>2025-10-26</td>\n",
       "      <td>4</td>\n",
       "    </tr>\n",
       "    <tr>\n",
       "      <th>249</th>\n",
       "      <td>{'album': {'album_type': 'single', 'artists': ...</td>\n",
       "      <td>2025-10-26T15:03:45.329Z</td>\n",
       "      <td>{'external_urls': {'spotify': 'https://open.sp...</td>\n",
       "      <td>2025-10-26 15:03:45.329000+00:00</td>\n",
       "      <td>2025-10-26</td>\n",
       "      <td>5</td>\n",
       "    </tr>\n",
       "    <tr>\n",
       "      <th>250</th>\n",
       "      <td>{'album': {'album_type': 'single', 'artists': ...</td>\n",
       "      <td>2025-10-26T15:01:37.359Z</td>\n",
       "      <td>{'external_urls': {'spotify': 'https://open.sp...</td>\n",
       "      <td>2025-10-26 15:01:37.359000+00:00</td>\n",
       "      <td>2025-10-26</td>\n",
       "      <td>6</td>\n",
       "    </tr>\n",
       "  </tbody>\n",
       "</table>\n",
       "<p>251 rows × 6 columns</p>\n",
       "</div>"
      ],
      "text/plain": [
       "                                                 track  \\\n",
       "0    {'album': {'album_type': 'single', 'artists': ...   \n",
       "1    {'album': {'album_type': 'album', 'artists': [...   \n",
       "2    {'album': {'album_type': 'single', 'artists': ...   \n",
       "3    {'album': {'album_type': 'single', 'artists': ...   \n",
       "4    {'album': {'album_type': 'single', 'artists': ...   \n",
       "..                                                 ...   \n",
       "246  {'album': {'album_type': 'single', 'artists': ...   \n",
       "247  {'album': {'album_type': 'single', 'artists': ...   \n",
       "248  {'album': {'album_type': 'single', 'artists': ...   \n",
       "249  {'album': {'album_type': 'single', 'artists': ...   \n",
       "250  {'album': {'album_type': 'single', 'artists': ...   \n",
       "\n",
       "                    played_at  \\\n",
       "0    2025-10-20T16:18:33.522Z   \n",
       "1    2025-10-20T16:15:32.878Z   \n",
       "2    2025-10-20T16:12:17.379Z   \n",
       "3    2025-10-20T16:10:27.851Z   \n",
       "4    2025-10-20T08:35:15.813Z   \n",
       "..                        ...   \n",
       "246  2025-10-26T15:09:41.330Z   \n",
       "247  2025-10-26T15:07:38.191Z   \n",
       "248  2025-10-26T15:05:46.793Z   \n",
       "249  2025-10-26T15:03:45.329Z   \n",
       "250  2025-10-26T15:01:37.359Z   \n",
       "\n",
       "                                               context  \\\n",
       "0    {'external_urls': {'spotify': 'https://open.sp...   \n",
       "1    {'external_urls': {'spotify': 'https://open.sp...   \n",
       "2    {'external_urls': {'spotify': 'https://open.sp...   \n",
       "3    {'external_urls': {'spotify': 'https://open.sp...   \n",
       "4    {'external_urls': {'spotify': 'https://open.sp...   \n",
       "..                                                 ...   \n",
       "246  {'external_urls': {'spotify': 'https://open.sp...   \n",
       "247  {'external_urls': {'spotify': 'https://open.sp...   \n",
       "248  {'external_urls': {'spotify': 'https://open.sp...   \n",
       "249  {'external_urls': {'spotify': 'https://open.sp...   \n",
       "250  {'external_urls': {'spotify': 'https://open.sp...   \n",
       "\n",
       "                        played_at_dt played_at_date  __index_level_0__  \n",
       "0   2025-10-20 16:18:33.522000+00:00     2025-10-20                 34  \n",
       "1   2025-10-20 16:15:32.878000+00:00     2025-10-20                 35  \n",
       "2   2025-10-20 16:12:17.379000+00:00     2025-10-20                 36  \n",
       "3   2025-10-20 16:10:27.851000+00:00     2025-10-20                 37  \n",
       "4   2025-10-20 08:35:15.813000+00:00     2025-10-20                 38  \n",
       "..                               ...            ...                ...  \n",
       "246 2025-10-26 15:09:41.330000+00:00     2025-10-26                  2  \n",
       "247 2025-10-26 15:07:38.191000+00:00     2025-10-26                  3  \n",
       "248 2025-10-26 15:05:46.793000+00:00     2025-10-26                  4  \n",
       "249 2025-10-26 15:03:45.329000+00:00     2025-10-26                  5  \n",
       "250 2025-10-26 15:01:37.359000+00:00     2025-10-26                  6  \n",
       "\n",
       "[251 rows x 6 columns]"
      ]
     },
     "metadata": {},
     "output_type": "display_data"
    }
   ],
   "source": [
    "# The '**' makes it recursive. Change '/**' to a specific path if needed.\n",
    "path_to_parquet_files = f's3://{bucket_name}/**/*.parquet'\n",
    "\n",
    "\n",
    "try:\n",
    "    # DuckDB's read_parquet function can read multiple files at once\n",
    "    df_parquet = con.execute(f\"\"\"\n",
    "                                 SELECT \n",
    "                                 *   \n",
    "                                 FROM read_parquet('{path_to_parquet_files}')\n",
    "                                 WHERE track.album.album_type IS NOT NULL\n",
    "                    \n",
    "                                 \"\"\").df()\n",
    "   \n",
    "    print(\"✓ Successfully loaded Parquet files into DataFrame.\")\n",
    "    display(df_parquet) # Display the first few rows\n",
    "    \n",
    "except Exception as e:\n",
    "    print(f\"Error reading Parquet files: {e}\")"
   ]
  },
  {
   "cell_type": "code",
   "execution_count": 89,
   "id": "06cd5726",
   "metadata": {},
   "outputs": [
    {
     "name": "stdout",
     "output_type": "stream",
     "text": [
      "✓ Successfully loaded Parquet files into DataFrame.\n"
     ]
    },
    {
     "data": {
      "application/vnd.microsoft.datawrangler.viewer.v0+json": {
       "columns": [
        {
         "name": "index",
         "rawType": "int64",
         "type": "integer"
        },
        {
         "name": "played_at_ts",
         "rawType": "object",
         "type": "string"
        },
        {
         "name": "track_name",
         "rawType": "object",
         "type": "string"
        },
        {
         "name": "album_name",
         "rawType": "object",
         "type": "string"
        },
        {
         "name": "artist_name",
         "rawType": "object",
         "type": "string"
        },
        {
         "name": "spotify_track_uri",
         "rawType": "object",
         "type": "string"
        },
        {
         "name": "duration_ms",
         "rawType": "int64",
         "type": "integer"
        }
       ],
       "ref": "6ff4d3fa-ee9c-4a05-8558-6f81cf74ff3d",
       "rows": [
        [
         "0",
         "2025-10-20 16:18:33",
         "Man I Need",
         "Man I Need",
         "Olivia Dean",
         "spotify:track:1qbmS6ep2hbBRaEZFpn7BX",
         "184000"
        ],
        [
         "1",
         "2025-10-20 16:15:32",
         "Outro Lugar",
         "Outro Lugar",
         "Toco",
         "spotify:track:11NkxJtowfjaJksJbjYAS0",
         "201375"
        ],
        [
         "2",
         "2025-10-20 16:12:17",
         "Eu Pensei",
         "Eu Pensei",
         "Pedro Mizutani",
         "spotify:track:0OUQ1NJxeDkAEt7LHTFiel",
         "132760"
        ],
        [
         "3",
         "2025-10-20 16:10:27",
         "Eu Pensei",
         "Eu Pensei",
         "Pedro Mizutani",
         "spotify:track:0OUQ1NJxeDkAEt7LHTFiel",
         "132760"
        ],
        [
         "4",
         "2025-10-20 08:35:15",
         "Fogueira",
         "Tudo Passa",
         "Bagua Records",
         "spotify:track:21TS6QtxgAvBgHGj06SpJ9",
         "221714"
        ],
        [
         "5",
         "2025-10-20 08:30:29",
         "Espelho",
         "Espelho",
         "Mariana Froes",
         "spotify:track:5WklRXxDA9ASG1EgOfZmCt",
         "208986"
        ],
        [
         "6",
         "2025-10-20 08:27:03",
         "Predador de Perereca",
         "Predador de Perereca",
         "BLOW RECORDS",
         "spotify:track:6yDC6vwDgJ47HMhUFaQQ3v",
         "186084"
        ],
        [
         "7",
         "2025-10-20 08:24:01",
         "Não Adianta",
         "Trio Mocoto",
         "Trio Mocoto",
         "spotify:track:7rud54XCjLv3AQbaUAtxU1",
         "247120"
        ],
        [
         "8",
         "2025-10-20 00:39:56",
         "Stuck On You",
         "Stuck On You",
         "Velvet Funk",
         "spotify:track:0NMdsJ1xYzR7O3ogP1Qkru",
         "197052"
        ],
        [
         "9",
         "2025-10-20 00:36:42",
         "Gennarino 'O Sioux",
         "Tonica & Dominante",
         "Tonica & Dominante",
         "spotify:track:7yIQkdNIHAPwshIZdR4Jlk",
         "198995"
        ],
        [
         "10",
         "2025-10-20 00:33:26",
         "Questo amore è un motore",
         "Italian Classics: Pino D'Angiò Collection, Vol. 2",
         "Pino D'Angiò",
         "spotify:track:6hob5XGGteZCcJZQoK06Fr",
         "222271"
        ],
        [
         "11",
         "2025-10-20 00:29:47",
         "Edge of Desire",
         "Edge of Desire",
         "Jonas Blue",
         "spotify:track:4A56h4B9xUuMMXoKuj18HT",
         "134905"
        ],
        [
         "12",
         "2025-10-20 00:27:36",
         "Deixar",
         "Mostrando Os Dentes",
         "Pedro Mizutani",
         "spotify:track:4dTzcw2ajjxSde0XFMoxXE",
         "151400"
        ],
        [
         "13",
         "2025-10-20 00:25:08",
         "Yemanjá - Tar Blanche Remix",
         "Yemanjá (Tar Blanche Remix)",
         "Sreya",
         "spotify:track:1D5t3wWGIlb5vNXOLIFFN9",
         "253933"
        ],
        [
         "14",
         "2025-10-20 00:20:57",
         "Figa De Guiné",
         "Figa De Guiné",
         "Mariana Froes",
         "spotify:track:6NHAz8a9j2yZkP2TP48yLK",
         "140909"
        ],
        [
         "15",
         "2025-10-20 00:18:40",
         "Man I Need",
         "Man I Need",
         "Olivia Dean",
         "spotify:track:1qbmS6ep2hbBRaEZFpn7BX",
         "184000"
        ],
        [
         "16",
         "2025-10-21 14:54:09",
         "Quicksilver",
         "Quicksilver",
         "Flitz&Suppe",
         "spotify:track:54ckMlZ8KZy4WhYJdgNqQ6",
         "105565"
        ],
        [
         "17",
         "2025-10-21 14:52:47",
         "lavish",
         "lavish",
         "May-Flowa",
         "spotify:track:7hTE9yYF9dlFv6w3Ybh8S8",
         "123077"
        ],
        [
         "18",
         "2025-10-21 14:50:54",
         "oldkeys",
         "oldkeys",
         "Analogue Alf",
         "spotify:track:6Dle7iZGTOyVzbxpvsKTi1",
         "125234"
        ],
        [
         "19",
         "2025-10-21 14:49:16",
         "industrial revolution",
         "industrial revolution",
         "the tofu paradigm",
         "spotify:track:3BqQdX1CO7lrCmqJ9HgQUc",
         "91428"
        ],
        [
         "20",
         "2025-10-21 14:47:56",
         "ghee",
         "ghee",
         "lilibu",
         "spotify:track:2tIuYjDRwnJfJEt4uDEjRl",
         "180000"
        ],
        [
         "21",
         "2025-10-21 14:45:33",
         "window seat",
         "window seat",
         "chill.farm",
         "spotify:track:4TrxWjFGGjmfqcLxdL8Wbb",
         "187657"
        ],
        [
         "22",
         "2025-10-21 14:42:55",
         "Coastal",
         "Coastal",
         "Leavv",
         "spotify:track:2zI8kItxIqtyFYfFsy3ngx",
         "107408"
        ],
        [
         "23",
         "2025-10-21 14:41:23",
         "Arcticano",
         "Arcticano",
         "Fracta Aurea",
         "spotify:track:1HnTdU1vPXRKFfHHKt1cOR",
         "164500"
        ],
        [
         "24",
         "2025-10-21 14:38:57",
         "Outside",
         "Outside",
         "Drxnk",
         "spotify:track:05AcIr6sleSW8lNtQdh3vw",
         "116079"
        ],
        [
         "25",
         "2025-10-21 14:37:13",
         "Haze",
         "Haze",
         "flowless",
         "spotify:track:3XqZUhZcHpOtP9rhw6O43l",
         "148571"
        ],
        [
         "26",
         "2025-10-21 14:35:19",
         "Flow",
         "Flow",
         "FreakBeats",
         "spotify:track:73gpj3dHYGqY5sxEva7TWv",
         "110000"
        ],
        [
         "27",
         "2025-10-21 14:33:43",
         "Morse",
         "Morse",
         "Cmd q",
         "spotify:track:4Od4ZRReLhtOLjOk5WwniX",
         "168000"
        ],
        [
         "28",
         "2025-10-21 14:31:16",
         "IAH",
         "Shanghai 2004",
         "Jaeden Camstra",
         "spotify:track:1N9Bw73tG0owhecdbSTENt",
         "88988"
        ],
        [
         "29",
         "2025-10-21 14:30:10",
         "hot mess",
         "hot mess",
         "giannis wang",
         "spotify:track:4qhLmcwhWxD17aWb2eN8sz",
         "125454"
        ],
        [
         "30",
         "2025-10-21 14:28:15",
         "Warm Light, Cold Rain",
         "Warm Light, Cold Rain",
         "Moonloop",
         "spotify:track:52Bud0dXCjqlbzxp32yjYu",
         "140571"
        ],
        [
         "31",
         "2025-10-21 14:26:15",
         "Romance",
         "Romance",
         "Jazza Mazza",
         "spotify:track:7Im1vmqr67pYDEVGg5C8JO",
         "126315"
        ],
        [
         "32",
         "2025-10-21 14:24:20",
         "hjortron",
         "hjortron",
         "bomull",
         "spotify:track:1eGHzlNpyXAsi4qKfm5z27",
         "129996"
        ],
        [
         "33",
         "2025-10-21 14:22:17",
         "Flower II",
         "Flower II",
         "Savage Bops",
         "spotify:track:0u84DGUUXKmPxtFss2ODlv",
         "156800"
        ],
        [
         "34",
         "2025-10-21 14:20:08",
         "losing time",
         "losing time",
         "Yumeoka",
         "spotify:track:7y5CnlDjKTRq9D4L97Ag6I",
         "165374"
        ],
        [
         "35",
         "2025-10-21 14:17:53",
         "radio silence",
         "radio silence",
         "Echo Iluné",
         "spotify:track:7AaeMDvo9krputEDra8Z17",
         "120140"
        ],
        [
         "36",
         "2025-10-21 14:16:06",
         "Backdoor",
         "Backdoor",
         "Slowmo Friends",
         "spotify:track:76siJBpv5Sb2yF84wqUzuX",
         "133141"
        ],
        [
         "37",
         "2025-10-21 09:53:27",
         "everything to me",
         "HOMEsick",
         "anees",
         "spotify:track:6vrx9hag3HW1EqMFfvi4Jc",
         "153472"
        ],
        [
         "38",
         "2025-10-21 09:51:01",
         "I Think I Love You Again",
         "The Long Way Home",
         "Aaron Taylor",
         "spotify:track:4SvhIfAl0nqli7X20A7YtA",
         "220000"
        ],
        [
         "39",
         "2025-10-21 09:47:20",
         "Concrete",
         "Strawberry Bubblegum",
         "Joseph Elias",
         "spotify:track:23Y68rozIHvYVQUjlJTOEV",
         "186734"
        ],
        [
         "40",
         "2025-10-21 09:44:17",
         "Orange Blossoms",
         "Orange Blossoms",
         "GoldFord",
         "spotify:track:3Xg2ZCPPKfWsj9W8cmLbHF",
         "192131"
        ],
        [
         "41",
         "2025-10-21 09:41:08",
         "SPLAT",
         "SPLAT",
         "Connor Price",
         "spotify:track:71rw9MB77BR8LHMFZK8gKV",
         "125685"
        ],
        [
         "42",
         "2025-10-21 09:39:08",
         "slip",
         "summer camp",
         "anees",
         "spotify:track:4JPqLoxQdTsPkHBGyjlYdj",
         "183124"
        ],
        [
         "43",
         "2025-10-21 09:35:50",
         "Deixa Eu Dizer",
         "Deixa Eu Dizer",
         "Claudya",
         "spotify:track:1z1VvotFOcYm72B56JQ85S",
         "167139"
        ],
        [
         "44",
         "2025-10-24 16:24:49",
         "alone",
         "HOMEsick",
         "anees",
         "spotify:track:6oqBTZqby0RfOeIXIQdH9P",
         "213971"
        ],
        [
         "45",
         "2025-10-24 06:43:04",
         "Breakfast in Bed",
         "Love Me Like",
         "Rayana Jay",
         "spotify:track:0iI2cOHpX6xmwKD15Q5ynd",
         "116059"
        ],
        [
         "46",
         "2025-10-24 06:41:11",
         "Honeycomb",
         "Honeycomb",
         "Mackenzy Mackay",
         "spotify:track:3Zaf08ecJxkfPdCHLnfgox",
         "153530"
        ],
        [
         "47",
         "2025-10-24 06:38:41",
         "The Mates Of Soul - Remastered",
         "Song of a Dead Man",
         "Taylor John Williams",
         "spotify:track:0l5yhFHoOfcsNMWxMVc77W",
         "239626"
        ],
        [
         "48",
         "2025-10-24 06:34:45",
         "Astrology Joint",
         "Astrology Joint",
         "Col3trane",
         "spotify:track:3W4hHy3WAymNbciOwtocGM",
         "152233"
        ],
        [
         "49",
         "2025-10-24 06:32:16",
         "slip",
         "summer camp",
         "anees",
         "spotify:track:4JPqLoxQdTsPkHBGyjlYdj",
         "183124"
        ]
       ],
       "shape": {
        "columns": 6,
        "rows": 132
       }
      },
      "text/html": [
       "<div>\n",
       "<style scoped>\n",
       "    .dataframe tbody tr th:only-of-type {\n",
       "        vertical-align: middle;\n",
       "    }\n",
       "\n",
       "    .dataframe tbody tr th {\n",
       "        vertical-align: top;\n",
       "    }\n",
       "\n",
       "    .dataframe thead th {\n",
       "        text-align: right;\n",
       "    }\n",
       "</style>\n",
       "<table border=\"1\" class=\"dataframe\">\n",
       "  <thead>\n",
       "    <tr style=\"text-align: right;\">\n",
       "      <th></th>\n",
       "      <th>played_at_ts</th>\n",
       "      <th>track_name</th>\n",
       "      <th>album_name</th>\n",
       "      <th>artist_name</th>\n",
       "      <th>spotify_track_uri</th>\n",
       "      <th>duration_ms</th>\n",
       "    </tr>\n",
       "  </thead>\n",
       "  <tbody>\n",
       "    <tr>\n",
       "      <th>0</th>\n",
       "      <td>2025-10-20 16:18:33</td>\n",
       "      <td>Man I Need</td>\n",
       "      <td>Man I Need</td>\n",
       "      <td>Olivia Dean</td>\n",
       "      <td>spotify:track:1qbmS6ep2hbBRaEZFpn7BX</td>\n",
       "      <td>184000</td>\n",
       "    </tr>\n",
       "    <tr>\n",
       "      <th>1</th>\n",
       "      <td>2025-10-20 16:15:32</td>\n",
       "      <td>Outro Lugar</td>\n",
       "      <td>Outro Lugar</td>\n",
       "      <td>Toco</td>\n",
       "      <td>spotify:track:11NkxJtowfjaJksJbjYAS0</td>\n",
       "      <td>201375</td>\n",
       "    </tr>\n",
       "    <tr>\n",
       "      <th>2</th>\n",
       "      <td>2025-10-20 16:12:17</td>\n",
       "      <td>Eu Pensei</td>\n",
       "      <td>Eu Pensei</td>\n",
       "      <td>Pedro Mizutani</td>\n",
       "      <td>spotify:track:0OUQ1NJxeDkAEt7LHTFiel</td>\n",
       "      <td>132760</td>\n",
       "    </tr>\n",
       "    <tr>\n",
       "      <th>3</th>\n",
       "      <td>2025-10-20 16:10:27</td>\n",
       "      <td>Eu Pensei</td>\n",
       "      <td>Eu Pensei</td>\n",
       "      <td>Pedro Mizutani</td>\n",
       "      <td>spotify:track:0OUQ1NJxeDkAEt7LHTFiel</td>\n",
       "      <td>132760</td>\n",
       "    </tr>\n",
       "    <tr>\n",
       "      <th>4</th>\n",
       "      <td>2025-10-20 08:35:15</td>\n",
       "      <td>Fogueira</td>\n",
       "      <td>Tudo Passa</td>\n",
       "      <td>Bagua Records</td>\n",
       "      <td>spotify:track:21TS6QtxgAvBgHGj06SpJ9</td>\n",
       "      <td>221714</td>\n",
       "    </tr>\n",
       "    <tr>\n",
       "      <th>...</th>\n",
       "      <td>...</td>\n",
       "      <td>...</td>\n",
       "      <td>...</td>\n",
       "      <td>...</td>\n",
       "      <td>...</td>\n",
       "      <td>...</td>\n",
       "    </tr>\n",
       "    <tr>\n",
       "      <th>127</th>\n",
       "      <td>2025-10-25 17:32:18</td>\n",
       "      <td>Sandman</td>\n",
       "      <td>Bad Behavior</td>\n",
       "      <td>BRONCHO</td>\n",
       "      <td>spotify:track:28I0KNqOmkvzzz7SghMhfu</td>\n",
       "      <td>192255</td>\n",
       "    </tr>\n",
       "    <tr>\n",
       "      <th>128</th>\n",
       "      <td>2025-10-25 17:57:04</td>\n",
       "      <td>Hush Fires</td>\n",
       "      <td>Hush Fires</td>\n",
       "      <td>Evening Elephants</td>\n",
       "      <td>spotify:track:47C4EneyFv6tJMGGToGz8L</td>\n",
       "      <td>180000</td>\n",
       "    </tr>\n",
       "    <tr>\n",
       "      <th>129</th>\n",
       "      <td>2025-10-25 17:54:08</td>\n",
       "      <td>Timezones</td>\n",
       "      <td>The Unsure Mixtape</td>\n",
       "      <td>Schur</td>\n",
       "      <td>spotify:track:5aSeyhSp2qxYr8yBCtPNvr</td>\n",
       "      <td>212517</td>\n",
       "    </tr>\n",
       "    <tr>\n",
       "      <th>130</th>\n",
       "      <td>2025-10-25 17:50:34</td>\n",
       "      <td>Testarossa</td>\n",
       "      <td>Testarossa</td>\n",
       "      <td>Schur</td>\n",
       "      <td>spotify:track:6w6V1sgkhxxoM2I4ndfrCZ</td>\n",
       "      <td>126000</td>\n",
       "    </tr>\n",
       "    <tr>\n",
       "      <th>131</th>\n",
       "      <td>2025-10-25 17:45:05</td>\n",
       "      <td>Brodie Street</td>\n",
       "      <td>Brodie Street / Daiquiri</td>\n",
       "      <td>Mako Road</td>\n",
       "      <td>spotify:track:1dwACpc6vnX3jV0SRTTx32</td>\n",
       "      <td>248971</td>\n",
       "    </tr>\n",
       "  </tbody>\n",
       "</table>\n",
       "<p>132 rows × 6 columns</p>\n",
       "</div>"
      ],
      "text/plain": [
       "            played_at_ts     track_name                album_name  \\\n",
       "0    2025-10-20 16:18:33     Man I Need                Man I Need   \n",
       "1    2025-10-20 16:15:32    Outro Lugar               Outro Lugar   \n",
       "2    2025-10-20 16:12:17      Eu Pensei                 Eu Pensei   \n",
       "3    2025-10-20 16:10:27      Eu Pensei                 Eu Pensei   \n",
       "4    2025-10-20 08:35:15       Fogueira                Tudo Passa   \n",
       "..                   ...            ...                       ...   \n",
       "127  2025-10-25 17:32:18        Sandman              Bad Behavior   \n",
       "128  2025-10-25 17:57:04     Hush Fires                Hush Fires   \n",
       "129  2025-10-25 17:54:08      Timezones        The Unsure Mixtape   \n",
       "130  2025-10-25 17:50:34     Testarossa                Testarossa   \n",
       "131  2025-10-25 17:45:05  Brodie Street  Brodie Street / Daiquiri   \n",
       "\n",
       "           artist_name                     spotify_track_uri  duration_ms  \n",
       "0          Olivia Dean  spotify:track:1qbmS6ep2hbBRaEZFpn7BX       184000  \n",
       "1                 Toco  spotify:track:11NkxJtowfjaJksJbjYAS0       201375  \n",
       "2       Pedro Mizutani  spotify:track:0OUQ1NJxeDkAEt7LHTFiel       132760  \n",
       "3       Pedro Mizutani  spotify:track:0OUQ1NJxeDkAEt7LHTFiel       132760  \n",
       "4        Bagua Records  spotify:track:21TS6QtxgAvBgHGj06SpJ9       221714  \n",
       "..                 ...                                   ...          ...  \n",
       "127            BRONCHO  spotify:track:28I0KNqOmkvzzz7SghMhfu       192255  \n",
       "128  Evening Elephants  spotify:track:47C4EneyFv6tJMGGToGz8L       180000  \n",
       "129              Schur  spotify:track:5aSeyhSp2qxYr8yBCtPNvr       212517  \n",
       "130              Schur  spotify:track:6w6V1sgkhxxoM2I4ndfrCZ       126000  \n",
       "131          Mako Road  spotify:track:1dwACpc6vnX3jV0SRTTx32       248971  \n",
       "\n",
       "[132 rows x 6 columns]"
      ]
     },
     "metadata": {},
     "output_type": "display_data"
    }
   ],
   "source": [
    "# The '**' makes it recursive. Change '/**' to a specific path if needed.\n",
    "path_to_parquet_files = f's3://{bucket_name}/raw/spotify/api/daily/*.parquet'\n",
    "\n",
    "\n",
    "try:\n",
    "    # DuckDB's read_parquet function can read multiple files at once\n",
    "    df_api_history = con.execute(f\"\"\"\n",
    "                                 SELECT \n",
    "                                 STRFTIME(CAST(\"played_at_dt\" AS TIMESTAMP), '%Y-%m-%d %H:%M:%S') AS played_at_ts,\n",
    "                                 track.name AS track_name,\n",
    "                                 track.album.name AS album_name,\n",
    "                                 track.artists[1].name as artist_name,\n",
    "                                 track.uri AS spotify_track_uri,\n",
    "                                 track.duration_ms AS duration_ms,   \n",
    "                                 FROM read_parquet('{path_to_parquet_files}')\n",
    "                                 \"\"\").df()\n",
    "   \n",
    "    print(\"✓ Successfully loaded Parquet files into DataFrame.\")\n",
    "    display(df_api_history) # Display the first few rows\n",
    "    \n",
    "except Exception as e:\n",
    "    print(f\"Error reading Parquet files: {e}\")"
   ]
  },
  {
   "cell_type": "code",
   "execution_count": null,
   "id": "38090a5d",
   "metadata": {},
   "outputs": [],
   "source": [
    "import pprint\n",
    "import json\n",
    "\n",
    "track = df_parquet.iat[28, 0]\n",
    "# pprint.pprint(track)\n",
    "\n",
    "with open(\"./data/track.json\", 'w') as f:\n",
    "    json.dump(track, f, indent=4)\n",
    "\n"
   ]
  },
  {
   "cell_type": "code",
   "execution_count": 87,
   "id": "5b5e9158",
   "metadata": {},
   "outputs": [
    {
     "name": "stdout",
     "output_type": "stream",
     "text": [
      "✓ Successfully loaded files into DataFrame.\n"
     ]
    },
    {
     "data": {
      "application/vnd.microsoft.datawrangler.viewer.v0+json": {
       "columns": [
        {
         "name": "index",
         "rawType": "int64",
         "type": "integer"
        },
        {
         "name": "played_at_ts",
         "rawType": "datetime64[us]",
         "type": "unknown"
        },
        {
         "name": "track_name",
         "rawType": "object",
         "type": "string"
        },
        {
         "name": "album_name",
         "rawType": "object",
         "type": "string"
        },
        {
         "name": "artist_name",
         "rawType": "object",
         "type": "string"
        },
        {
         "name": "spotify_track_uri",
         "rawType": "object",
         "type": "string"
        },
        {
         "name": "duration_ms",
         "rawType": "int64",
         "type": "integer"
        }
       ],
       "ref": "1224e788-b1c4-47dc-915e-c0c7d53ea69a",
       "rows": [
        [
         "0",
         "2020-02-11 16:07:48",
         "Sirvia",
         "Ok Computer Però Trap",
         "Pippo Sowlo",
         "spotify:track:2Y9JMc04myJYtrESxloIWk",
         "10913"
        ],
        [
         "1",
         "2020-02-11 16:12:00",
         "Condorello",
         "Condorello",
         "Pippo Sowlo",
         "spotify:track:1kB26kzGkRZZOqXCtA1Lee",
         "251608"
        ],
        [
         "2",
         "2020-02-11 17:27:37",
         "La Mia Hit (feat. Max Pezzali)",
         "ReAle",
         "J-AX",
         "spotify:track:4bMfWDvKPCFQ2df7Qf2UTs",
         "11958"
        ],
        [
         "3",
         "2020-02-11 17:31:04",
         "Mainstream (La scala sociale del Rap)",
         "ReAle",
         "J-AX",
         "spotify:track:4SLeGGSSS4ZgreK0HaN9h8",
         "206280"
        ],
        [
         "4",
         "2020-02-11 17:33:54",
         "Supercalifragili (feat. Annalisa & Luca Di Stefano)",
         "ReAle",
         "J-AX",
         "spotify:track:6ExLQlakJDGUxN5O567dAt",
         "170133"
        ],
        [
         "5",
         "2020-02-11 17:37:36",
         "Quando piove, diluvia",
         "ReAle",
         "J-AX",
         "spotify:track:7lQxJLHcUvrY6CgWLRwZvv",
         "222587"
        ],
        [
         "6",
         "2020-02-11 17:41:08",
         "Beretta (feat. Boomdabash)",
         "ReAle",
         "J-AX",
         "spotify:track:0Yx5tHZ3mokhEFO6I1m3qA",
         "211387"
        ],
        [
         "7",
         "2020-02-11 17:44:48",
         "Pericoloso (feat. Chadia Rodriguez)",
         "ReAle",
         "J-AX",
         "spotify:track:2vGkBrPzZwjQEihHv6JbGW",
         "220147"
        ],
        [
         "8",
         "2020-02-11 17:48:20",
         "La Mia Hit (feat. Max Pezzali)",
         "ReAle",
         "J-AX",
         "spotify:track:4bMfWDvKPCFQ2df7Qf2UTs",
         "212640"
        ],
        [
         "9",
         "2020-02-11 22:26:57",
         "Vittorio come va?",
         "Love & Feelings",
         "Cranio Randagio",
         "spotify:track:0NBFkmchZH2hjjxQvnsKWt",
         "130940"
        ],
        [
         "10",
         "2020-02-12 06:24:53",
         "Siamesi (feat. Paola Turci)",
         "ReAle",
         "J-AX",
         "spotify:track:5a35SM14Z7w3zxBmw7tSzy",
         "90639"
        ],
        [
         "11",
         "2020-02-12 06:28:16",
         "Cattività",
         "Iodegradabile",
         "Willie Peyote",
         "spotify:track:1IpeSTNgqe4ExAzOz3iCOU",
         "200827"
        ],
        [
         "12",
         "2020-02-13 08:35:20",
         "Intro",
         "Iodegradabile",
         "Willie Peyote",
         "spotify:track:6YXFACqr7KBQAdTBOJNmiw",
         "1040"
        ],
        [
         "13",
         "2020-02-13 14:21:12",
         "420",
         "420",
         "MamboLosco",
         "spotify:track:6NuznxrR3H16extb8qVlMQ",
         "264837"
        ],
        [
         "14",
         "2020-02-13 16:30:26",
         "Paper Planes",
         "Kala",
         "M.I.A.",
         "spotify:track:1wgqttlPacpvmX5DKVboOa",
         "205200"
        ],
        [
         "15",
         "2020-02-13 16:34:53",
         "I Like Me Better",
         "I met you when I was 18.",
         "Lauv",
         "spotify:track:2P91MQbaiQOfbiz9VqhqKQ",
         "197437"
        ],
        [
         "16",
         "2020-02-13 16:37:57",
         "Back To You",
         "13 Reasons Why",
         "Selena Gomez",
         "spotify:track:514rhnksEwHUh6LxXsQ4Y9",
         "183568"
        ],
        [
         "17",
         "2020-02-13 16:41:48",
         "Blank Space",
         "1989",
         "Taylor Swift",
         "spotify:track:1u8c2t2Cy7UBoG4ArRcF5g",
         "231273"
        ],
        [
         "18",
         "2020-02-13 16:45:11",
         "Youngblood",
         "Youngblood - Deluxe",
         "5 Seconds of Summer",
         "spotify:track:2iUXsYOEPhVqEBwsqP70rE",
         "203418"
        ],
        [
         "19",
         "2020-02-13 17:00:12",
         "Happier",
         "Happier",
         "Marshmello",
         "spotify:track:2dpaYNEQHiRxtZbfNsse99",
         "18415"
        ],
        [
         "20",
         "2020-02-13 17:05:25",
         "Stronger",
         "Graduation",
         "Kanye West",
         "spotify:track:4fzsfWzRhPawzqhX8Qt9F3",
         "311867"
        ],
        [
         "21",
         "2020-02-13 17:41:46",
         "Dio è di Milano",
         "Dio è di Milano",
         "Trap God",
         "spotify:track:6Z7Nqi2NxYxAdavudzfQdL",
         "6362"
        ],
        [
         "22",
         "2020-02-13 17:41:53",
         "33-30",
         "33-30",
         "Trap God",
         "spotify:track:0Irgju6jAxuT7BHsdUt9iR",
         "6873"
        ],
        [
         "23",
         "2020-02-13 17:41:56",
         "Porcamadonna Rolex",
         "Porcoddio",
         "Trap God",
         "spotify:track:5bHMZNYUODyiS6bivEjabI",
         "4169"
        ],
        [
         "24",
         "2020-02-13 17:42:01",
         "A Mia Madre Le Piace la Coca",
         "Porcoddio",
         "Trap God",
         "spotify:track:5D0fLaOnU3LCT0aaoFnKO5",
         "4888"
        ],
        [
         "25",
         "2020-02-13 17:42:05",
         "666",
         "666",
         "Trap God",
         "spotify:track:0wUWSacShchFV1hgg9Z0Mj",
         "4048"
        ],
        [
         "26",
         "2020-02-13 17:43:43",
         "Para Pippar la Bamba",
         "Para Pippar la Bamba",
         "Trap God",
         "spotify:track:2bF8qwKprNPISYM64N5O1I",
         "98527"
        ],
        [
         "27",
         "2020-02-13 17:45:03",
         "Black Christmas Freestyle",
         "Black Christmas Freestyle",
         "Trap God",
         "spotify:track:71uURBP1zCVbnE9REuj23x",
         "79692"
        ],
        [
         "28",
         "2020-02-13 17:45:35",
         "Kili Su Kili",
         "Kili Su Kili",
         "Trap God",
         "spotify:track:1EavK23As7OkWJVNL8zjLR",
         "32851"
        ],
        [
         "29",
         "2020-02-13 17:48:12",
         "LA PROVA DEL CUOCO",
         "FSK TRAPSHIT",
         "FSK SATELLITE",
         "spotify:track:6VPcfYrO6oSYbEg6HTncDo",
         "156421"
        ],
        [
         "30",
         "2020-02-13 17:53:34",
         "ANSIA NO",
         "FSK TRAPSHIT REVENGE",
         "FSK SATELLITE",
         "spotify:track:2yuYI5NFhevxa05se7Qht9",
         "148500"
        ],
        [
         "31",
         "2020-02-14 13:44:58",
         "Narghilè",
         "Narghilè",
         "Peter White",
         "spotify:track:2FWisfcatLcshNYfCtANIj",
         "165255"
        ],
        [
         "32",
         "2020-02-14 13:49:24",
         "Narghilè",
         "Narghilè",
         "Peter White",
         "spotify:track:2FWisfcatLcshNYfCtANIj",
         "165255"
        ],
        [
         "33",
         "2020-02-14 20:13:25",
         "Intro",
         "Iodegradabile",
         "Willie Peyote",
         "spotify:track:6YXFACqr7KBQAdTBOJNmiw",
         "10464"
        ],
        [
         "34",
         "2020-02-14 20:13:25",
         "La Tua Futura Ex Moglie",
         "Iodegradabile",
         "Willie Peyote",
         "spotify:track:6LSw5icZcKVNBfdbDJbFsU",
         "2060"
        ],
        [
         "35",
         "2020-02-14 20:13:25",
         "La Tua Futura Ex Moglie",
         "Iodegradabile",
         "Willie Peyote",
         "spotify:track:6LSw5icZcKVNBfdbDJbFsU",
         "0"
        ],
        [
         "36",
         "2020-02-14 20:13:25",
         "Mostro",
         "Iodegradabile",
         "Willie Peyote",
         "spotify:track:1ysWrMdqFR6vg1QN5MzFKY",
         "55780"
        ],
        [
         "37",
         "2020-02-14 20:31:28",
         "Catalogo",
         "Iodegradabile",
         "Willie Peyote",
         "spotify:track:1AaNALChP6di36Dl6GyDWr",
         "1271"
        ],
        [
         "38",
         "2020-02-14 20:31:47",
         "break",
         "break",
         "AY AY",
         "spotify:track:3ayBYbgtkRrfHqkAt4mNFT",
         "8408"
        ],
        [
         "39",
         "2020-02-14 20:32:11",
         "Shaken",
         "Heart to Mouth",
         "Lp",
         "spotify:track:2wdXpuArk6FFhRVKTdifAk",
         "8600"
        ],
        [
         "40",
         "2020-02-14 20:32:20",
         "Rescue Me",
         "Rescue Me",
         "OneRepublic",
         "spotify:track:0mjAU3yKR1QnXnHtjGJqTM",
         "7081"
        ],
        [
         "41",
         "2020-02-14 20:32:33",
         "Someone You Loved",
         "Divinely Uninspired To A Hellish Extent",
         "Lewis Capaldi",
         "spotify:track:7qEHsqek33rTcFNT9PFqLf",
         "5832"
        ],
        [
         "42",
         "2020-02-14 20:33:05",
         "South of the Border (feat. Camila Cabello & Cardi B)",
         "No.6 Collaborations Project",
         "Ed Sheeran",
         "spotify:track:4vUmTMuQqjdnvlZmAH61Qk",
         "9540"
        ],
        [
         "43",
         "2020-02-14 20:33:12",
         "Wherever You Are",
         "Wherever You Are",
         "Kodaline",
         "spotify:track:1b3nlcP6hogIzYRVK2Ui7K",
         "4661"
        ],
        [
         "44",
         "2020-02-14 20:33:38",
         "America",
         "America",
         "Mabes",
         "spotify:track:2ydhxOqJQrYEETtWcuD06y",
         "7838"
        ],
        [
         "45",
         "2020-02-14 20:33:48",
         "Should I Stay or Should I Go - Remastered",
         "Hits Back",
         "The Clash",
         "spotify:track:3v8PlUFGQQDBIk1J86waCo",
         "9276"
        ],
        [
         "46",
         "2020-02-14 20:34:02",
         "I Love Rock 'N Roll",
         "I Love Rock 'N' Roll (Expanded Edition)",
         "Joan Jett & the Blackhearts",
         "spotify:track:2Cdvbe2G4hZsnhNMKyGrie",
         "8044"
        ],
        [
         "47",
         "2020-02-14 20:34:07",
         "Sunday Bloody Sunday - Remastered 2008",
         "War",
         "U2",
         "spotify:track:6C4LXC9UFH1IKiHYOp0BiJ",
         "3394"
        ],
        [
         "48",
         "2020-02-14 20:52:22",
         "Veltroni",
         "Manifesto",
         "Garage Gang",
         "spotify:track:5uk2cv4l3fOzqZDaBNWznj",
         "127229"
        ],
        [
         "49",
         "2020-02-14 21:33:00",
         "Bohemian Rhapsody - Remastered 2011",
         "A Night At The Opera",
         "Queen",
         "spotify:track:4u7EnebtmKWzUH433cf5Qv",
         "98280"
        ]
       ],
       "shape": {
        "columns": 6,
        "rows": 35449
       }
      },
      "text/html": [
       "<div>\n",
       "<style scoped>\n",
       "    .dataframe tbody tr th:only-of-type {\n",
       "        vertical-align: middle;\n",
       "    }\n",
       "\n",
       "    .dataframe tbody tr th {\n",
       "        vertical-align: top;\n",
       "    }\n",
       "\n",
       "    .dataframe thead th {\n",
       "        text-align: right;\n",
       "    }\n",
       "</style>\n",
       "<table border=\"1\" class=\"dataframe\">\n",
       "  <thead>\n",
       "    <tr style=\"text-align: right;\">\n",
       "      <th></th>\n",
       "      <th>played_at_ts</th>\n",
       "      <th>track_name</th>\n",
       "      <th>album_name</th>\n",
       "      <th>artist_name</th>\n",
       "      <th>spotify_track_uri</th>\n",
       "      <th>duration_ms</th>\n",
       "    </tr>\n",
       "  </thead>\n",
       "  <tbody>\n",
       "    <tr>\n",
       "      <th>0</th>\n",
       "      <td>2020-02-11 16:07:48</td>\n",
       "      <td>Sirvia</td>\n",
       "      <td>Ok Computer Però Trap</td>\n",
       "      <td>Pippo Sowlo</td>\n",
       "      <td>spotify:track:2Y9JMc04myJYtrESxloIWk</td>\n",
       "      <td>10913</td>\n",
       "    </tr>\n",
       "    <tr>\n",
       "      <th>1</th>\n",
       "      <td>2020-02-11 16:12:00</td>\n",
       "      <td>Condorello</td>\n",
       "      <td>Condorello</td>\n",
       "      <td>Pippo Sowlo</td>\n",
       "      <td>spotify:track:1kB26kzGkRZZOqXCtA1Lee</td>\n",
       "      <td>251608</td>\n",
       "    </tr>\n",
       "    <tr>\n",
       "      <th>2</th>\n",
       "      <td>2020-02-11 17:27:37</td>\n",
       "      <td>La Mia Hit (feat. Max Pezzali)</td>\n",
       "      <td>ReAle</td>\n",
       "      <td>J-AX</td>\n",
       "      <td>spotify:track:4bMfWDvKPCFQ2df7Qf2UTs</td>\n",
       "      <td>11958</td>\n",
       "    </tr>\n",
       "    <tr>\n",
       "      <th>3</th>\n",
       "      <td>2020-02-11 17:31:04</td>\n",
       "      <td>Mainstream (La scala sociale del Rap)</td>\n",
       "      <td>ReAle</td>\n",
       "      <td>J-AX</td>\n",
       "      <td>spotify:track:4SLeGGSSS4ZgreK0HaN9h8</td>\n",
       "      <td>206280</td>\n",
       "    </tr>\n",
       "    <tr>\n",
       "      <th>4</th>\n",
       "      <td>2020-02-11 17:33:54</td>\n",
       "      <td>Supercalifragili (feat. Annalisa &amp; Luca Di Ste...</td>\n",
       "      <td>ReAle</td>\n",
       "      <td>J-AX</td>\n",
       "      <td>spotify:track:6ExLQlakJDGUxN5O567dAt</td>\n",
       "      <td>170133</td>\n",
       "    </tr>\n",
       "    <tr>\n",
       "      <th>...</th>\n",
       "      <td>...</td>\n",
       "      <td>...</td>\n",
       "      <td>...</td>\n",
       "      <td>...</td>\n",
       "      <td>...</td>\n",
       "      <td>...</td>\n",
       "    </tr>\n",
       "    <tr>\n",
       "      <th>35444</th>\n",
       "      <td>2025-10-12 16:41:59</td>\n",
       "      <td>counting the days until we meet again</td>\n",
       "      <td>counting the days until we meet again</td>\n",
       "      <td>sad notes</td>\n",
       "      <td>spotify:track:7jcEaXD19od05Y4aqgffgW</td>\n",
       "      <td>135631</td>\n",
       "    </tr>\n",
       "    <tr>\n",
       "      <th>35445</th>\n",
       "      <td>2025-10-12 16:43:34</td>\n",
       "      <td>ValleyViews</td>\n",
       "      <td>ValleyViews</td>\n",
       "      <td>Mellow Mirror</td>\n",
       "      <td>spotify:track:7E2GF1dct7xy9GKgp4eQrj</td>\n",
       "      <td>99031</td>\n",
       "    </tr>\n",
       "    <tr>\n",
       "      <th>35446</th>\n",
       "      <td>2025-10-13 18:07:40</td>\n",
       "      <td>Loft Room</td>\n",
       "      <td>Loft Room</td>\n",
       "      <td>Rainbows &amp; Clouds</td>\n",
       "      <td>spotify:track:6uDcf4yMECdvrTVUc06Gfn</td>\n",
       "      <td>97278</td>\n",
       "    </tr>\n",
       "    <tr>\n",
       "      <th>35447</th>\n",
       "      <td>2025-10-13 18:12:15</td>\n",
       "      <td>Falling For You</td>\n",
       "      <td>Falling For You</td>\n",
       "      <td>Amelie Lens</td>\n",
       "      <td>spotify:track:6KmjD9CaophLMXTCzKoLLZ</td>\n",
       "      <td>234997</td>\n",
       "    </tr>\n",
       "    <tr>\n",
       "      <th>35448</th>\n",
       "      <td>2025-10-13 18:19:24</td>\n",
       "      <td>Up Down Jumper</td>\n",
       "      <td>Up Down Jumper</td>\n",
       "      <td>Boris Brejcha</td>\n",
       "      <td>spotify:track:0evYoPRWnnQ6ACNC0LJPul</td>\n",
       "      <td>432000</td>\n",
       "    </tr>\n",
       "  </tbody>\n",
       "</table>\n",
       "<p>35449 rows × 6 columns</p>\n",
       "</div>"
      ],
      "text/plain": [
       "             played_at_ts                                         track_name  \\\n",
       "0     2020-02-11 16:07:48                                             Sirvia   \n",
       "1     2020-02-11 16:12:00                                         Condorello   \n",
       "2     2020-02-11 17:27:37                     La Mia Hit (feat. Max Pezzali)   \n",
       "3     2020-02-11 17:31:04              Mainstream (La scala sociale del Rap)   \n",
       "4     2020-02-11 17:33:54  Supercalifragili (feat. Annalisa & Luca Di Ste...   \n",
       "...                   ...                                                ...   \n",
       "35444 2025-10-12 16:41:59              counting the days until we meet again   \n",
       "35445 2025-10-12 16:43:34                                        ValleyViews   \n",
       "35446 2025-10-13 18:07:40                                          Loft Room   \n",
       "35447 2025-10-13 18:12:15                                    Falling For You   \n",
       "35448 2025-10-13 18:19:24                                     Up Down Jumper   \n",
       "\n",
       "                                  album_name        artist_name  \\\n",
       "0                      Ok Computer Però Trap        Pippo Sowlo   \n",
       "1                                 Condorello        Pippo Sowlo   \n",
       "2                                      ReAle               J-AX   \n",
       "3                                      ReAle               J-AX   \n",
       "4                                      ReAle               J-AX   \n",
       "...                                      ...                ...   \n",
       "35444  counting the days until we meet again          sad notes   \n",
       "35445                            ValleyViews      Mellow Mirror   \n",
       "35446                              Loft Room  Rainbows & Clouds   \n",
       "35447                        Falling For You        Amelie Lens   \n",
       "35448                         Up Down Jumper      Boris Brejcha   \n",
       "\n",
       "                          spotify_track_uri  duration_ms  \n",
       "0      spotify:track:2Y9JMc04myJYtrESxloIWk        10913  \n",
       "1      spotify:track:1kB26kzGkRZZOqXCtA1Lee       251608  \n",
       "2      spotify:track:4bMfWDvKPCFQ2df7Qf2UTs        11958  \n",
       "3      spotify:track:4SLeGGSSS4ZgreK0HaN9h8       206280  \n",
       "4      spotify:track:6ExLQlakJDGUxN5O567dAt       170133  \n",
       "...                                     ...          ...  \n",
       "35444  spotify:track:7jcEaXD19od05Y4aqgffgW       135631  \n",
       "35445  spotify:track:7E2GF1dct7xy9GKgp4eQrj        99031  \n",
       "35446  spotify:track:6uDcf4yMECdvrTVUc06Gfn        97278  \n",
       "35447  spotify:track:6KmjD9CaophLMXTCzKoLLZ       234997  \n",
       "35448  spotify:track:0evYoPRWnnQ6ACNC0LJPul       432000  \n",
       "\n",
       "[35449 rows x 6 columns]"
      ]
     },
     "metadata": {},
     "output_type": "display_data"
    }
   ],
   "source": [
    "# The '**' makes it recursive. Change '/**' to a specific path if needed.\n",
    "path_to_json_files = f's3://{bucket_name}/raw/spotify/download/**.json'\n",
    "\n",
    "path_to_json_files = f's3://{bucket_name}/raw/spotify/download/my_spotify_data_extended_history/Spotify Extended Streaming History/Streaming_History_Audio_*.json'\n",
    "\n",
    "try:\n",
    "\n",
    "    df_download_history = con.execute(f\"\"\"\n",
    "                                    SELECT \n",
    "                                        CAST(\"ts\" AS TIMESTAMP) AS played_at_ts,\n",
    "                                        master_metadata_track_name AS track_name,\n",
    "                                        master_metadata_album_album_name AS album_name,                  \n",
    "                                        master_metadata_album_artist_name AS artist_name,\n",
    "                                        spotify_track_uri,\n",
    "                                        ms_played AS duration_ms\n",
    "\n",
    "\n",
    "                                    FROM read_json_auto('{path_to_json_files}')\n",
    "                                        WHERE spotify_track_uri IS NOT NULL\n",
    "                                    \"\"\").df()\n",
    "   \n",
    "    print(\"✓ Successfully loaded files into DataFrame.\")\n",
    "    display(df_download_history) # Display the first few rows\n",
    "    \n",
    "except Exception as e:\n",
    "    print(f\"Error reading files: {e}\")"
   ]
  }
 ],
 "metadata": {
  "kernelspec": {
   "display_name": "Python (DuckDB)",
   "language": "python",
   "name": "duckdb-exploration"
  },
  "language_info": {
   "codemirror_mode": {
    "name": "ipython",
    "version": 3
   },
   "file_extension": ".py",
   "mimetype": "text/x-python",
   "name": "python",
   "nbconvert_exporter": "python",
   "pygments_lexer": "ipython3",
   "version": "3.12.3"
  }
 },
 "nbformat": 4,
 "nbformat_minor": 5
}
